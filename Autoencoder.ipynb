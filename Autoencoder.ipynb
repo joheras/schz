{
  "nbformat": 4,
  "nbformat_minor": 0,
  "metadata": {
    "colab": {
      "name": "AutoencoderCorr.ipynb",
      "provenance": [],
      "toc_visible": true
    },
    "kernelspec": {
      "name": "python3",
      "display_name": "Python 3"
    },
    "accelerator": "GPU"
  },
  "cells": [
    {
      "cell_type": "code",
      "metadata": {
        "colab": {
          "base_uri": "https://localhost:8080/"
        },
        "id": "RRB5NP3YwTs7",
        "outputId": "935398b3-7ae4-4040-f646-6d67a0a2f592"
      },
      "source": [
        "!pip install tabulate\n",
        "!pip install StatisticalAnalysis"
      ],
      "execution_count": null,
      "outputs": [
        {
          "output_type": "stream",
          "text": [
            "Requirement already satisfied: tabulate in /usr/local/lib/python3.7/dist-packages (0.8.9)\n",
            "Collecting StatisticalAnalysis\n",
            "  Downloading https://files.pythonhosted.org/packages/76/10/1c28b9f30784d467201ce03c26d3669a91273cc96e86473dd480319e0d0d/StatisticalAnalysis-0.0.5.tar.gz\n",
            "Building wheels for collected packages: StatisticalAnalysis\n",
            "  Building wheel for StatisticalAnalysis (setup.py) ... \u001b[?25l\u001b[?25hdone\n",
            "  Created wheel for StatisticalAnalysis: filename=StatisticalAnalysis-0.0.5-py2.py3-none-any.whl size=13106 sha256=5e238bfa2942327d313458686eadf2d6ae6a7c702c2afb711ce53b0908c2785f\n",
            "  Stored in directory: /root/.cache/pip/wheels/08/25/c2/06c9fdf3fc87bad4738237bc3318b20a7971189d5399f26ef7\n",
            "Successfully built StatisticalAnalysis\n",
            "Installing collected packages: StatisticalAnalysis\n",
            "Successfully installed StatisticalAnalysis-0.0.5\n"
          ],
          "name": "stdout"
        }
      ]
    },
    {
      "cell_type": "code",
      "metadata": {
        "id": "1j54vhd8wle4"
      },
      "source": [
        "import numpy as np\n",
        "from StatisticalAnalysis import compare_methods\n",
        "import tensorflow as tf\n",
        "from tensorflow import keras\n",
        "from tensorflow.keras import layers\n",
        "from tensorflow.keras import backend as K"
      ],
      "execution_count": null,
      "outputs": []
    },
    {
      "cell_type": "code",
      "metadata": {
        "id": "79wdl8cCwqc2"
      },
      "source": [
        "import warnings\n",
        "warnings.filterwarnings('ignore')"
      ],
      "execution_count": null,
      "outputs": []
    },
    {
      "cell_type": "markdown",
      "metadata": {
        "id": "lNPQmwxfw3Hw"
      },
      "source": [
        "# Autoencoder Corr"
      ]
    },
    {
      "cell_type": "code",
      "metadata": {
        "id": "tT_1KyEywsFq"
      },
      "source": [
        "corr_hc = np.load('corr_hc.npy')\n",
        "corr_schz = np.load('corr_schz.npy')"
      ],
      "execution_count": null,
      "outputs": []
    },
    {
      "cell_type": "code",
      "metadata": {
        "id": "F_k-vRLjw2pJ"
      },
      "source": [
        "input_img = layers.Input(shape=(118,118,1))"
      ],
      "execution_count": null,
      "outputs": []
    },
    {
      "cell_type": "code",
      "metadata": {
        "id": "foWFZ43Zw5yA"
      },
      "source": [
        "x = layers.Conv2D(32, (3, 3), activation='relu', padding='same')(input_img)\n",
        "x = layers.MaxPooling2D((2, 2), padding='same')(x)\n",
        "x = layers.Conv2D(32, (3, 3), activation='relu', padding='same')(x)\n",
        "x = layers.MaxPooling2D((2, 2), padding='same')(x)\n",
        "x = layers.Conv2D(1, (3, 3), activation='relu', padding='same')(x)\n",
        "encoded = layers.MaxPooling2D((2, 2), padding='same')(x)"
      ],
      "execution_count": null,
      "outputs": []
    },
    {
      "cell_type": "code",
      "metadata": {
        "id": "FSH0XWMAw7F5"
      },
      "source": [
        "x = layers.Conv2D(1, (3, 3), activation='relu', padding='same')(encoded)\n",
        "x = layers.UpSampling2D((2, 2))(x)\n",
        "x = layers.Conv2D(32, (3, 3), activation='relu', padding='same')(x)\n",
        "x = layers.UpSampling2D((2, 2))(x)\n",
        "x = layers.Conv2D(32, (3, 3), activation='relu', padding='same')(x)\n",
        "x = layers.UpSampling2D((2, 2))(x)\n",
        "decoded = layers.Conv2D(1, (3, 3), activation='tanh', padding='valid')(x)"
      ],
      "execution_count": null,
      "outputs": []
    },
    {
      "cell_type": "code",
      "metadata": {
        "id": "71P8JUMhw8m_"
      },
      "source": [
        "autoencoder = keras.Model(input_img, decoded)\n",
        "autoencoder.compile(optimizer='adam', loss='mse')"
      ],
      "execution_count": null,
      "outputs": []
    },
    {
      "cell_type": "code",
      "metadata": {
        "colab": {
          "base_uri": "https://localhost:8080/"
        },
        "id": "Ii2jFxzAzIBa",
        "outputId": "5ca796ab-d1cd-429b-bcf4-19248f424ae1"
      },
      "source": [
        "autoencoder.summary()"
      ],
      "execution_count": null,
      "outputs": [
        {
          "output_type": "stream",
          "text": [
            "Model: \"model_4\"\n",
            "_________________________________________________________________\n",
            "Layer (type)                 Output Shape              Param #   \n",
            "=================================================================\n",
            "input_2 (InputLayer)         [(None, 118, 118, 1)]     0         \n",
            "_________________________________________________________________\n",
            "conv2d_7 (Conv2D)            (None, 118, 118, 32)      320       \n",
            "_________________________________________________________________\n",
            "max_pooling2d_3 (MaxPooling2 (None, 59, 59, 32)        0         \n",
            "_________________________________________________________________\n",
            "conv2d_8 (Conv2D)            (None, 59, 59, 32)        9248      \n",
            "_________________________________________________________________\n",
            "max_pooling2d_4 (MaxPooling2 (None, 30, 30, 32)        0         \n",
            "_________________________________________________________________\n",
            "conv2d_9 (Conv2D)            (None, 30, 30, 1)         289       \n",
            "_________________________________________________________________\n",
            "max_pooling2d_5 (MaxPooling2 (None, 15, 15, 1)         0         \n",
            "_________________________________________________________________\n",
            "conv2d_10 (Conv2D)           (None, 15, 15, 1)         10        \n",
            "_________________________________________________________________\n",
            "up_sampling2d_3 (UpSampling2 (None, 30, 30, 1)         0         \n",
            "_________________________________________________________________\n",
            "conv2d_11 (Conv2D)           (None, 30, 30, 32)        320       \n",
            "_________________________________________________________________\n",
            "up_sampling2d_4 (UpSampling2 (None, 60, 60, 32)        0         \n",
            "_________________________________________________________________\n",
            "conv2d_12 (Conv2D)           (None, 60, 60, 32)        9248      \n",
            "_________________________________________________________________\n",
            "up_sampling2d_5 (UpSampling2 (None, 120, 120, 32)      0         \n",
            "_________________________________________________________________\n",
            "conv2d_13 (Conv2D)           (None, 118, 118, 1)       289       \n",
            "=================================================================\n",
            "Total params: 19,724\n",
            "Trainable params: 19,724\n",
            "Non-trainable params: 0\n",
            "_________________________________________________________________\n"
          ],
          "name": "stdout"
        }
      ]
    },
    {
      "cell_type": "code",
      "metadata": {
        "id": "I4uMHOuww-Is"
      },
      "source": [
        "X = np.append(corr_hc,corr_schz,axis=0)"
      ],
      "execution_count": null,
      "outputs": []
    },
    {
      "cell_type": "code",
      "metadata": {
        "id": "HLoYWL4AxApg"
      },
      "source": [
        "X = np.reshape(X, (len(X), 118, 118, 1))"
      ],
      "execution_count": null,
      "outputs": []
    },
    {
      "cell_type": "code",
      "metadata": {
        "colab": {
          "base_uri": "https://localhost:8080/"
        },
        "id": "JMR4AhpcxCPf",
        "outputId": "b755d3d8-1ba6-4bed-d92e-b6fad0c0aa4f"
      },
      "source": [
        "autoencoder.fit(X, X,epochs=100,batch_size=128)"
      ],
      "execution_count": null,
      "outputs": [
        {
          "output_type": "stream",
          "text": [
            "Epoch 1/100\n",
            "1/1 [==============================] - 1s 635ms/step - loss: 0.3799\n",
            "Epoch 2/100\n",
            "1/1 [==============================] - 0s 74ms/step - loss: 0.2872\n",
            "Epoch 3/100\n",
            "1/1 [==============================] - 0s 57ms/step - loss: 0.2672\n",
            "Epoch 4/100\n",
            "1/1 [==============================] - 0s 57ms/step - loss: 0.2109\n",
            "Epoch 5/100\n",
            "1/1 [==============================] - 0s 60ms/step - loss: 0.1202\n",
            "Epoch 6/100\n",
            "1/1 [==============================] - 0s 61ms/step - loss: 0.0708\n",
            "Epoch 7/100\n",
            "1/1 [==============================] - 0s 60ms/step - loss: 0.0999\n",
            "Epoch 8/100\n",
            "1/1 [==============================] - 0s 59ms/step - loss: 0.1305\n",
            "Epoch 9/100\n",
            "1/1 [==============================] - 0s 59ms/step - loss: 0.1345\n",
            "Epoch 10/100\n",
            "1/1 [==============================] - 0s 59ms/step - loss: 0.1194\n",
            "Epoch 11/100\n",
            "1/1 [==============================] - 0s 56ms/step - loss: 0.0954\n",
            "Epoch 12/100\n",
            "1/1 [==============================] - 0s 59ms/step - loss: 0.0747\n",
            "Epoch 13/100\n",
            "1/1 [==============================] - 0s 64ms/step - loss: 0.0679\n",
            "Epoch 14/100\n",
            "1/1 [==============================] - 0s 60ms/step - loss: 0.0747\n",
            "Epoch 15/100\n",
            "1/1 [==============================] - 0s 55ms/step - loss: 0.0846\n",
            "Epoch 16/100\n",
            "1/1 [==============================] - 0s 60ms/step - loss: 0.0884\n",
            "Epoch 17/100\n",
            "1/1 [==============================] - 0s 60ms/step - loss: 0.0852\n",
            "Epoch 18/100\n",
            "1/1 [==============================] - 0s 57ms/step - loss: 0.0775\n",
            "Epoch 19/100\n",
            "1/1 [==============================] - 0s 57ms/step - loss: 0.0692\n",
            "Epoch 20/100\n",
            "1/1 [==============================] - 0s 57ms/step - loss: 0.0638\n",
            "Epoch 21/100\n",
            "1/1 [==============================] - 0s 58ms/step - loss: 0.0630\n",
            "Epoch 22/100\n",
            "1/1 [==============================] - 0s 57ms/step - loss: 0.0655\n",
            "Epoch 23/100\n",
            "1/1 [==============================] - 0s 55ms/step - loss: 0.0680\n",
            "Epoch 24/100\n",
            "1/1 [==============================] - 0s 56ms/step - loss: 0.0687\n",
            "Epoch 25/100\n",
            "1/1 [==============================] - 0s 57ms/step - loss: 0.0673\n",
            "Epoch 26/100\n",
            "1/1 [==============================] - 0s 58ms/step - loss: 0.0642\n",
            "Epoch 27/100\n",
            "1/1 [==============================] - 0s 56ms/step - loss: 0.0606\n",
            "Epoch 28/100\n",
            "1/1 [==============================] - 0s 57ms/step - loss: 0.0579\n",
            "Epoch 29/100\n",
            "1/1 [==============================] - 0s 58ms/step - loss: 0.0573\n",
            "Epoch 30/100\n",
            "1/1 [==============================] - 0s 59ms/step - loss: 0.0583\n",
            "Epoch 31/100\n",
            "1/1 [==============================] - 0s 57ms/step - loss: 0.0592\n",
            "Epoch 32/100\n",
            "1/1 [==============================] - 0s 57ms/step - loss: 0.0589\n",
            "Epoch 33/100\n",
            "1/1 [==============================] - 0s 57ms/step - loss: 0.0575\n",
            "Epoch 34/100\n",
            "1/1 [==============================] - 0s 55ms/step - loss: 0.0559\n",
            "Epoch 35/100\n",
            "1/1 [==============================] - 0s 61ms/step - loss: 0.0551\n",
            "Epoch 36/100\n",
            "1/1 [==============================] - 0s 58ms/step - loss: 0.0553\n",
            "Epoch 37/100\n",
            "1/1 [==============================] - 0s 57ms/step - loss: 0.0556\n",
            "Epoch 38/100\n",
            "1/1 [==============================] - 0s 58ms/step - loss: 0.0553\n",
            "Epoch 39/100\n",
            "1/1 [==============================] - 0s 60ms/step - loss: 0.0544\n",
            "Epoch 40/100\n",
            "1/1 [==============================] - 0s 61ms/step - loss: 0.0536\n",
            "Epoch 41/100\n",
            "1/1 [==============================] - 0s 59ms/step - loss: 0.0532\n",
            "Epoch 42/100\n",
            "1/1 [==============================] - 0s 59ms/step - loss: 0.0531\n",
            "Epoch 43/100\n",
            "1/1 [==============================] - 0s 57ms/step - loss: 0.0531\n",
            "Epoch 44/100\n",
            "1/1 [==============================] - 0s 59ms/step - loss: 0.0531\n",
            "Epoch 45/100\n",
            "1/1 [==============================] - 0s 57ms/step - loss: 0.0528\n",
            "Epoch 46/100\n",
            "1/1 [==============================] - 0s 60ms/step - loss: 0.0525\n",
            "Epoch 47/100\n",
            "1/1 [==============================] - 0s 57ms/step - loss: 0.0522\n",
            "Epoch 48/100\n",
            "1/1 [==============================] - 0s 56ms/step - loss: 0.0521\n",
            "Epoch 49/100\n",
            "1/1 [==============================] - 0s 57ms/step - loss: 0.0522\n",
            "Epoch 50/100\n",
            "1/1 [==============================] - 0s 58ms/step - loss: 0.0522\n",
            "Epoch 51/100\n",
            "1/1 [==============================] - 0s 56ms/step - loss: 0.0520\n",
            "Epoch 52/100\n",
            "1/1 [==============================] - 0s 57ms/step - loss: 0.0518\n",
            "Epoch 53/100\n",
            "1/1 [==============================] - 0s 56ms/step - loss: 0.0517\n",
            "Epoch 54/100\n",
            "1/1 [==============================] - 0s 59ms/step - loss: 0.0518\n",
            "Epoch 55/100\n",
            "1/1 [==============================] - 0s 60ms/step - loss: 0.0517\n",
            "Epoch 56/100\n",
            "1/1 [==============================] - 0s 58ms/step - loss: 0.0516\n",
            "Epoch 57/100\n",
            "1/1 [==============================] - 0s 57ms/step - loss: 0.0514\n",
            "Epoch 58/100\n",
            "1/1 [==============================] - 0s 59ms/step - loss: 0.0514\n",
            "Epoch 59/100\n",
            "1/1 [==============================] - 0s 60ms/step - loss: 0.0514\n",
            "Epoch 60/100\n",
            "1/1 [==============================] - 0s 60ms/step - loss: 0.0514\n",
            "Epoch 61/100\n",
            "1/1 [==============================] - 0s 59ms/step - loss: 0.0512\n",
            "Epoch 62/100\n",
            "1/1 [==============================] - 0s 61ms/step - loss: 0.0512\n",
            "Epoch 63/100\n",
            "1/1 [==============================] - 0s 56ms/step - loss: 0.0512\n",
            "Epoch 64/100\n",
            "1/1 [==============================] - 0s 57ms/step - loss: 0.0512\n",
            "Epoch 65/100\n",
            "1/1 [==============================] - 0s 59ms/step - loss: 0.0511\n",
            "Epoch 66/100\n",
            "1/1 [==============================] - 0s 59ms/step - loss: 0.0510\n",
            "Epoch 67/100\n",
            "1/1 [==============================] - 0s 61ms/step - loss: 0.0510\n",
            "Epoch 68/100\n",
            "1/1 [==============================] - 0s 58ms/step - loss: 0.0510\n",
            "Epoch 69/100\n",
            "1/1 [==============================] - 0s 58ms/step - loss: 0.0509\n",
            "Epoch 70/100\n",
            "1/1 [==============================] - 0s 57ms/step - loss: 0.0508\n",
            "Epoch 71/100\n",
            "1/1 [==============================] - 0s 60ms/step - loss: 0.0508\n",
            "Epoch 72/100\n",
            "1/1 [==============================] - 0s 60ms/step - loss: 0.0508\n",
            "Epoch 73/100\n",
            "1/1 [==============================] - 0s 59ms/step - loss: 0.0507\n",
            "Epoch 74/100\n",
            "1/1 [==============================] - 0s 60ms/step - loss: 0.0507\n",
            "Epoch 75/100\n",
            "1/1 [==============================] - 0s 58ms/step - loss: 0.0507\n",
            "Epoch 76/100\n",
            "1/1 [==============================] - 0s 56ms/step - loss: 0.0506\n",
            "Epoch 77/100\n",
            "1/1 [==============================] - 0s 57ms/step - loss: 0.0506\n",
            "Epoch 78/100\n",
            "1/1 [==============================] - 0s 60ms/step - loss: 0.0506\n",
            "Epoch 79/100\n",
            "1/1 [==============================] - 0s 59ms/step - loss: 0.0505\n",
            "Epoch 80/100\n",
            "1/1 [==============================] - 0s 56ms/step - loss: 0.0505\n",
            "Epoch 81/100\n",
            "1/1 [==============================] - 0s 57ms/step - loss: 0.0505\n",
            "Epoch 82/100\n",
            "1/1 [==============================] - 0s 61ms/step - loss: 0.0504\n",
            "Epoch 83/100\n",
            "1/1 [==============================] - 0s 59ms/step - loss: 0.0504\n",
            "Epoch 84/100\n",
            "1/1 [==============================] - 0s 61ms/step - loss: 0.0504\n",
            "Epoch 85/100\n",
            "1/1 [==============================] - 0s 59ms/step - loss: 0.0503\n",
            "Epoch 86/100\n",
            "1/1 [==============================] - 0s 59ms/step - loss: 0.0503\n",
            "Epoch 87/100\n",
            "1/1 [==============================] - 0s 58ms/step - loss: 0.0503\n",
            "Epoch 88/100\n",
            "1/1 [==============================] - 0s 58ms/step - loss: 0.0502\n",
            "Epoch 89/100\n",
            "1/1 [==============================] - 0s 58ms/step - loss: 0.0502\n",
            "Epoch 90/100\n",
            "1/1 [==============================] - 0s 58ms/step - loss: 0.0502\n",
            "Epoch 91/100\n",
            "1/1 [==============================] - 0s 64ms/step - loss: 0.0501\n",
            "Epoch 92/100\n",
            "1/1 [==============================] - 0s 58ms/step - loss: 0.0501\n",
            "Epoch 93/100\n",
            "1/1 [==============================] - 0s 58ms/step - loss: 0.0501\n",
            "Epoch 94/100\n",
            "1/1 [==============================] - 0s 57ms/step - loss: 0.0500\n",
            "Epoch 95/100\n",
            "1/1 [==============================] - 0s 58ms/step - loss: 0.0500\n",
            "Epoch 96/100\n",
            "1/1 [==============================] - 0s 58ms/step - loss: 0.0500\n",
            "Epoch 97/100\n",
            "1/1 [==============================] - 0s 59ms/step - loss: 0.0500\n",
            "Epoch 98/100\n",
            "1/1 [==============================] - 0s 57ms/step - loss: 0.0499\n",
            "Epoch 99/100\n",
            "1/1 [==============================] - 0s 55ms/step - loss: 0.0499\n",
            "Epoch 100/100\n",
            "1/1 [==============================] - 0s 57ms/step - loss: 0.0499\n"
          ],
          "name": "stdout"
        },
        {
          "output_type": "execute_result",
          "data": {
            "text/plain": [
              "<tensorflow.python.keras.callbacks.History at 0x7fe936328a90>"
            ]
          },
          "metadata": {
            "tags": []
          },
          "execution_count": 42
        }
      ]
    },
    {
      "cell_type": "code",
      "metadata": {
        "id": "I2GJni4yxD2t"
      },
      "source": [
        "encoder = keras.Model(autoencoder.input, encoded)"
      ],
      "execution_count": null,
      "outputs": []
    },
    {
      "cell_type": "code",
      "metadata": {
        "colab": {
          "base_uri": "https://localhost:8080/"
        },
        "id": "cAHc8yANxdOb",
        "outputId": "411fe64d-999d-42e6-ac0e-2a5f489471c1"
      },
      "source": [
        "encoder.predict(X).shape"
      ],
      "execution_count": null,
      "outputs": [
        {
          "output_type": "execute_result",
          "data": {
            "text/plain": [
              "(102, 15, 15, 1)"
            ]
          },
          "metadata": {
            "tags": []
          },
          "execution_count": 44
        }
      ]
    },
    {
      "cell_type": "code",
      "metadata": {
        "id": "hyo1DP03ysYI"
      },
      "source": [
        "np.save('corrAutoencoder.npy',encoder.predict(X))"
      ],
      "execution_count": null,
      "outputs": []
    },
    {
      "cell_type": "code",
      "metadata": {
        "id": "zgzU2cUA1W1L"
      },
      "source": [
        ""
      ],
      "execution_count": null,
      "outputs": []
    },
    {
      "cell_type": "code",
      "metadata": {
        "id": "S6igpO501fcI"
      },
      "source": [
        ""
      ],
      "execution_count": null,
      "outputs": []
    },
    {
      "cell_type": "markdown",
      "metadata": {
        "id": "iemsH8tB1hQH"
      },
      "source": [
        "# Autoencoder TS"
      ]
    },
    {
      "cell_type": "code",
      "metadata": {
        "id": "_vyEACm_1hQJ"
      },
      "source": [
        "ts_hc = np.load('ts_hc.npy')\n",
        "ts_schz = np.load('ts_schz.npy')"
      ],
      "execution_count": 62,
      "outputs": []
    },
    {
      "cell_type": "code",
      "metadata": {
        "id": "1D7eE4X01nF3"
      },
      "source": [
        "ts_hc /= 10\n",
        "ts_schz /= 10"
      ],
      "execution_count": 67,
      "outputs": []
    },
    {
      "cell_type": "code",
      "metadata": {
        "id": "P-UEcAWi1hQK"
      },
      "source": [
        "input_img = layers.Input(shape=(142,118,1))"
      ],
      "execution_count": 69,
      "outputs": []
    },
    {
      "cell_type": "code",
      "metadata": {
        "id": "U_kactO61hQK"
      },
      "source": [
        "x = layers.Conv2D(32, (3, 3), activation='relu', padding='same')(input_img)\n",
        "x = layers.MaxPooling2D((2, 2), padding='same')(x)\n",
        "x = layers.Conv2D(32, (3, 3), activation='relu', padding='same')(x)\n",
        "x = layers.MaxPooling2D((2, 2), padding='same')(x)\n",
        "x = layers.Conv2D(1, (3, 3), activation='relu', padding='same')(x)\n",
        "encoded = layers.MaxPooling2D((2, 2), padding='same')(x)"
      ],
      "execution_count": 70,
      "outputs": []
    },
    {
      "cell_type": "code",
      "metadata": {
        "id": "DNpky8Uj1hQK"
      },
      "source": [
        "x = layers.Conv2D(1, (3, 3), activation='relu', padding='same')(encoded)\n",
        "x = layers.UpSampling2D((2, 2))(x)\n",
        "x = layers.Conv2D(32, (3, 3), activation='relu', padding='same')(x)\n",
        "x = layers.UpSampling2D((2, 2))(x)\n",
        "x = layers.Conv2D(32, (3, 3), activation='relu', padding='same')(x)\n",
        "x = layers.UpSampling2D((2, 2))(x)\n",
        "decoded = layers.Conv2D(1, (3, 3), activation='tanh', padding='valid')(x)"
      ],
      "execution_count": 71,
      "outputs": []
    },
    {
      "cell_type": "code",
      "metadata": {
        "id": "a_WmCIDQ1hQK"
      },
      "source": [
        "autoencoder = keras.Model(input_img, decoded)\n",
        "autoencoder.compile(optimizer='adam', loss='mse')"
      ],
      "execution_count": 72,
      "outputs": []
    },
    {
      "cell_type": "code",
      "metadata": {
        "colab": {
          "base_uri": "https://localhost:8080/"
        },
        "id": "qJtifISh1hQL",
        "outputId": "e615e6c3-2c3f-4f2e-81aa-72ec96b64b88"
      },
      "source": [
        "autoencoder.summary()"
      ],
      "execution_count": 73,
      "outputs": [
        {
          "output_type": "stream",
          "text": [
            "Model: \"model_6\"\n",
            "_________________________________________________________________\n",
            "Layer (type)                 Output Shape              Param #   \n",
            "=================================================================\n",
            "input_8 (InputLayer)         [(None, 142, 118, 1)]     0         \n",
            "_________________________________________________________________\n",
            "conv2d_18 (Conv2D)           (None, 142, 118, 32)      320       \n",
            "_________________________________________________________________\n",
            "max_pooling2d_6 (MaxPooling2 (None, 71, 59, 32)        0         \n",
            "_________________________________________________________________\n",
            "conv2d_19 (Conv2D)           (None, 71, 59, 32)        9248      \n",
            "_________________________________________________________________\n",
            "max_pooling2d_7 (MaxPooling2 (None, 36, 30, 32)        0         \n",
            "_________________________________________________________________\n",
            "conv2d_20 (Conv2D)           (None, 36, 30, 1)         289       \n",
            "_________________________________________________________________\n",
            "max_pooling2d_8 (MaxPooling2 (None, 18, 15, 1)         0         \n",
            "_________________________________________________________________\n",
            "conv2d_21 (Conv2D)           (None, 18, 15, 1)         10        \n",
            "_________________________________________________________________\n",
            "up_sampling2d_6 (UpSampling2 (None, 36, 30, 1)         0         \n",
            "_________________________________________________________________\n",
            "conv2d_22 (Conv2D)           (None, 36, 30, 32)        320       \n",
            "_________________________________________________________________\n",
            "up_sampling2d_7 (UpSampling2 (None, 72, 60, 32)        0         \n",
            "_________________________________________________________________\n",
            "conv2d_23 (Conv2D)           (None, 72, 60, 32)        9248      \n",
            "_________________________________________________________________\n",
            "up_sampling2d_8 (UpSampling2 (None, 144, 120, 32)      0         \n",
            "_________________________________________________________________\n",
            "conv2d_24 (Conv2D)           (None, 142, 118, 1)       289       \n",
            "=================================================================\n",
            "Total params: 19,724\n",
            "Trainable params: 19,724\n",
            "Non-trainable params: 0\n",
            "_________________________________________________________________\n"
          ],
          "name": "stdout"
        }
      ]
    },
    {
      "cell_type": "code",
      "metadata": {
        "id": "Q1dR3UFF1hQM"
      },
      "source": [
        "X = np.append(ts_hc,ts_schz,axis=0)"
      ],
      "execution_count": 74,
      "outputs": []
    },
    {
      "cell_type": "code",
      "metadata": {
        "id": "JAOaeWDf1hQM"
      },
      "source": [
        "X = np.reshape(X, (len(X), 142, 118, 1))"
      ],
      "execution_count": 75,
      "outputs": []
    },
    {
      "cell_type": "code",
      "metadata": {
        "colab": {
          "base_uri": "https://localhost:8080/"
        },
        "id": "cd8fU9-C1hQN",
        "outputId": "c887115f-d87f-469b-82ab-1b62f1fbdd20"
      },
      "source": [
        "autoencoder.fit(X, X,epochs=100,batch_size=128)"
      ],
      "execution_count": 76,
      "outputs": [
        {
          "output_type": "stream",
          "text": [
            "Epoch 1/100\n",
            "1/1 [==============================] - 1s 1s/step - loss: 0.0100\n",
            "Epoch 2/100\n",
            "1/1 [==============================] - 0s 67ms/step - loss: 0.0100\n",
            "Epoch 3/100\n",
            "1/1 [==============================] - 0s 69ms/step - loss: 0.0100\n",
            "Epoch 4/100\n",
            "1/1 [==============================] - 0s 68ms/step - loss: 0.0100\n",
            "Epoch 5/100\n",
            "1/1 [==============================] - 0s 69ms/step - loss: 0.0100\n",
            "Epoch 6/100\n",
            "1/1 [==============================] - 0s 70ms/step - loss: 0.0100\n",
            "Epoch 7/100\n",
            "1/1 [==============================] - 0s 74ms/step - loss: 0.0100\n",
            "Epoch 8/100\n",
            "1/1 [==============================] - 0s 70ms/step - loss: 0.0100\n",
            "Epoch 9/100\n",
            "1/1 [==============================] - 0s 70ms/step - loss: 0.0099\n",
            "Epoch 10/100\n",
            "1/1 [==============================] - 0s 70ms/step - loss: 0.0099\n",
            "Epoch 11/100\n",
            "1/1 [==============================] - 0s 68ms/step - loss: 0.0099\n",
            "Epoch 12/100\n",
            "1/1 [==============================] - 0s 72ms/step - loss: 0.0098\n",
            "Epoch 13/100\n",
            "1/1 [==============================] - 0s 69ms/step - loss: 0.0098\n",
            "Epoch 14/100\n",
            "1/1 [==============================] - 0s 68ms/step - loss: 0.0097\n",
            "Epoch 15/100\n",
            "1/1 [==============================] - 0s 70ms/step - loss: 0.0096\n",
            "Epoch 16/100\n",
            "1/1 [==============================] - 0s 69ms/step - loss: 0.0094\n",
            "Epoch 17/100\n",
            "1/1 [==============================] - 0s 71ms/step - loss: 0.0093\n",
            "Epoch 18/100\n",
            "1/1 [==============================] - 0s 73ms/step - loss: 0.0092\n",
            "Epoch 19/100\n",
            "1/1 [==============================] - 0s 67ms/step - loss: 0.0090\n",
            "Epoch 20/100\n",
            "1/1 [==============================] - 0s 71ms/step - loss: 0.0089\n",
            "Epoch 21/100\n",
            "1/1 [==============================] - 0s 70ms/step - loss: 0.0088\n",
            "Epoch 22/100\n",
            "1/1 [==============================] - 0s 70ms/step - loss: 0.0088\n",
            "Epoch 23/100\n",
            "1/1 [==============================] - 0s 71ms/step - loss: 0.0087\n",
            "Epoch 24/100\n",
            "1/1 [==============================] - 0s 70ms/step - loss: 0.0087\n",
            "Epoch 25/100\n",
            "1/1 [==============================] - 0s 70ms/step - loss: 0.0087\n",
            "Epoch 26/100\n",
            "1/1 [==============================] - 0s 67ms/step - loss: 0.0086\n",
            "Epoch 27/100\n",
            "1/1 [==============================] - 0s 68ms/step - loss: 0.0085\n",
            "Epoch 28/100\n",
            "1/1 [==============================] - 0s 72ms/step - loss: 0.0085\n",
            "Epoch 29/100\n",
            "1/1 [==============================] - 0s 71ms/step - loss: 0.0084\n",
            "Epoch 30/100\n",
            "1/1 [==============================] - 0s 70ms/step - loss: 0.0084\n",
            "Epoch 31/100\n",
            "1/1 [==============================] - 0s 73ms/step - loss: 0.0083\n",
            "Epoch 32/100\n",
            "1/1 [==============================] - 0s 69ms/step - loss: 0.0083\n",
            "Epoch 33/100\n",
            "1/1 [==============================] - 0s 70ms/step - loss: 0.0082\n",
            "Epoch 34/100\n",
            "1/1 [==============================] - 0s 67ms/step - loss: 0.0082\n",
            "Epoch 35/100\n",
            "1/1 [==============================] - 0s 68ms/step - loss: 0.0082\n",
            "Epoch 36/100\n",
            "1/1 [==============================] - 0s 70ms/step - loss: 0.0082\n",
            "Epoch 37/100\n",
            "1/1 [==============================] - 0s 70ms/step - loss: 0.0082\n",
            "Epoch 38/100\n",
            "1/1 [==============================] - 0s 71ms/step - loss: 0.0081\n",
            "Epoch 39/100\n",
            "1/1 [==============================] - 0s 69ms/step - loss: 0.0081\n",
            "Epoch 40/100\n",
            "1/1 [==============================] - 0s 69ms/step - loss: 0.0081\n",
            "Epoch 41/100\n",
            "1/1 [==============================] - 0s 71ms/step - loss: 0.0081\n",
            "Epoch 42/100\n",
            "1/1 [==============================] - 0s 72ms/step - loss: 0.0081\n",
            "Epoch 43/100\n",
            "1/1 [==============================] - 0s 69ms/step - loss: 0.0080\n",
            "Epoch 44/100\n",
            "1/1 [==============================] - 0s 69ms/step - loss: 0.0080\n",
            "Epoch 45/100\n",
            "1/1 [==============================] - 0s 70ms/step - loss: 0.0080\n",
            "Epoch 46/100\n",
            "1/1 [==============================] - 0s 68ms/step - loss: 0.0080\n",
            "Epoch 47/100\n",
            "1/1 [==============================] - 0s 72ms/step - loss: 0.0080\n",
            "Epoch 48/100\n",
            "1/1 [==============================] - 0s 70ms/step - loss: 0.0079\n",
            "Epoch 49/100\n",
            "1/1 [==============================] - 0s 69ms/step - loss: 0.0079\n",
            "Epoch 50/100\n",
            "1/1 [==============================] - 0s 72ms/step - loss: 0.0079\n",
            "Epoch 51/100\n",
            "1/1 [==============================] - 0s 70ms/step - loss: 0.0079\n",
            "Epoch 52/100\n",
            "1/1 [==============================] - 0s 71ms/step - loss: 0.0079\n",
            "Epoch 53/100\n",
            "1/1 [==============================] - 0s 71ms/step - loss: 0.0078\n",
            "Epoch 54/100\n",
            "1/1 [==============================] - 0s 71ms/step - loss: 0.0078\n",
            "Epoch 55/100\n",
            "1/1 [==============================] - 0s 68ms/step - loss: 0.0078\n",
            "Epoch 56/100\n",
            "1/1 [==============================] - 0s 70ms/step - loss: 0.0078\n",
            "Epoch 57/100\n",
            "1/1 [==============================] - 0s 71ms/step - loss: 0.0078\n",
            "Epoch 58/100\n",
            "1/1 [==============================] - 0s 71ms/step - loss: 0.0077\n",
            "Epoch 59/100\n",
            "1/1 [==============================] - 0s 73ms/step - loss: 0.0077\n",
            "Epoch 60/100\n",
            "1/1 [==============================] - 0s 70ms/step - loss: 0.0077\n",
            "Epoch 61/100\n",
            "1/1 [==============================] - 0s 69ms/step - loss: 0.0077\n",
            "Epoch 62/100\n",
            "1/1 [==============================] - 0s 71ms/step - loss: 0.0077\n",
            "Epoch 63/100\n",
            "1/1 [==============================] - 0s 70ms/step - loss: 0.0077\n",
            "Epoch 64/100\n",
            "1/1 [==============================] - 0s 69ms/step - loss: 0.0078\n",
            "Epoch 65/100\n",
            "1/1 [==============================] - 0s 70ms/step - loss: 0.0077\n",
            "Epoch 66/100\n",
            "1/1 [==============================] - 0s 68ms/step - loss: 0.0076\n",
            "Epoch 67/100\n",
            "1/1 [==============================] - 0s 69ms/step - loss: 0.0077\n",
            "Epoch 68/100\n",
            "1/1 [==============================] - 0s 74ms/step - loss: 0.0076\n",
            "Epoch 69/100\n",
            "1/1 [==============================] - 0s 70ms/step - loss: 0.0076\n",
            "Epoch 70/100\n",
            "1/1 [==============================] - 0s 71ms/step - loss: 0.0076\n",
            "Epoch 71/100\n",
            "1/1 [==============================] - 0s 71ms/step - loss: 0.0076\n",
            "Epoch 72/100\n",
            "1/1 [==============================] - 0s 70ms/step - loss: 0.0076\n",
            "Epoch 73/100\n",
            "1/1 [==============================] - 0s 70ms/step - loss: 0.0076\n",
            "Epoch 74/100\n",
            "1/1 [==============================] - 0s 70ms/step - loss: 0.0076\n",
            "Epoch 75/100\n",
            "1/1 [==============================] - 0s 72ms/step - loss: 0.0076\n",
            "Epoch 76/100\n",
            "1/1 [==============================] - 0s 74ms/step - loss: 0.0076\n",
            "Epoch 77/100\n",
            "1/1 [==============================] - 0s 70ms/step - loss: 0.0075\n",
            "Epoch 78/100\n",
            "1/1 [==============================] - 0s 72ms/step - loss: 0.0075\n",
            "Epoch 79/100\n",
            "1/1 [==============================] - 0s 71ms/step - loss: 0.0075\n",
            "Epoch 80/100\n",
            "1/1 [==============================] - 0s 68ms/step - loss: 0.0075\n",
            "Epoch 81/100\n",
            "1/1 [==============================] - 0s 68ms/step - loss: 0.0075\n",
            "Epoch 82/100\n",
            "1/1 [==============================] - 0s 76ms/step - loss: 0.0075\n",
            "Epoch 83/100\n",
            "1/1 [==============================] - 0s 74ms/step - loss: 0.0075\n",
            "Epoch 84/100\n",
            "1/1 [==============================] - 0s 72ms/step - loss: 0.0075\n",
            "Epoch 85/100\n",
            "1/1 [==============================] - 0s 68ms/step - loss: 0.0075\n",
            "Epoch 86/100\n",
            "1/1 [==============================] - 0s 74ms/step - loss: 0.0075\n",
            "Epoch 87/100\n",
            "1/1 [==============================] - 0s 67ms/step - loss: 0.0075\n",
            "Epoch 88/100\n",
            "1/1 [==============================] - 0s 72ms/step - loss: 0.0075\n",
            "Epoch 89/100\n",
            "1/1 [==============================] - 0s 69ms/step - loss: 0.0075\n",
            "Epoch 90/100\n",
            "1/1 [==============================] - 0s 70ms/step - loss: 0.0075\n",
            "Epoch 91/100\n",
            "1/1 [==============================] - 0s 69ms/step - loss: 0.0075\n",
            "Epoch 92/100\n",
            "1/1 [==============================] - 0s 70ms/step - loss: 0.0075\n",
            "Epoch 93/100\n",
            "1/1 [==============================] - 0s 70ms/step - loss: 0.0075\n",
            "Epoch 94/100\n",
            "1/1 [==============================] - 0s 70ms/step - loss: 0.0075\n",
            "Epoch 95/100\n",
            "1/1 [==============================] - 0s 67ms/step - loss: 0.0074\n",
            "Epoch 96/100\n",
            "1/1 [==============================] - 0s 71ms/step - loss: 0.0074\n",
            "Epoch 97/100\n",
            "1/1 [==============================] - 0s 73ms/step - loss: 0.0074\n",
            "Epoch 98/100\n",
            "1/1 [==============================] - 0s 72ms/step - loss: 0.0074\n",
            "Epoch 99/100\n",
            "1/1 [==============================] - 0s 68ms/step - loss: 0.0074\n",
            "Epoch 100/100\n",
            "1/1 [==============================] - 0s 68ms/step - loss: 0.0074\n"
          ],
          "name": "stdout"
        },
        {
          "output_type": "execute_result",
          "data": {
            "text/plain": [
              "<tensorflow.python.keras.callbacks.History at 0x7fe8567a15d0>"
            ]
          },
          "metadata": {
            "tags": []
          },
          "execution_count": 76
        }
      ]
    },
    {
      "cell_type": "code",
      "metadata": {
        "id": "jzmpmohq1hQN"
      },
      "source": [
        "encoder = keras.Model(autoencoder.input, encoded)"
      ],
      "execution_count": 77,
      "outputs": []
    },
    {
      "cell_type": "code",
      "metadata": {
        "colab": {
          "base_uri": "https://localhost:8080/"
        },
        "id": "eZQKcOtR1hQN",
        "outputId": "a839e504-a436-4f50-c02d-4f7b1db19f1c"
      },
      "source": [
        "encoder.predict(X).shape"
      ],
      "execution_count": 78,
      "outputs": [
        {
          "output_type": "execute_result",
          "data": {
            "text/plain": [
              "(102, 18, 15, 1)"
            ]
          },
          "metadata": {
            "tags": []
          },
          "execution_count": 78
        }
      ]
    },
    {
      "cell_type": "code",
      "metadata": {
        "id": "fs-1cYBX1hQO"
      },
      "source": [
        "np.save('tsAutoencoder.npy',encoder.predict(X))"
      ],
      "execution_count": 79,
      "outputs": []
    },
    {
      "cell_type": "code",
      "metadata": {
        "id": "BTNbjL0u1hQP"
      },
      "source": [
        ""
      ],
      "execution_count": null,
      "outputs": []
    }
  ]
}