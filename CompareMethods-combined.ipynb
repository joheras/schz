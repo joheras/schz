{
 "cells": [
  {
   "cell_type": "code",
   "execution_count": 1,
   "metadata": {
    "id": "9VdC2keIvxIJ"
   },
   "outputs": [],
   "source": [
    "import numpy as np\n",
    "from StatisticalAnalysis import compare_methods"
   ]
  },
  {
   "cell_type": "code",
   "execution_count": 2,
   "metadata": {
    "id": "3iCEO6wXtftF"
   },
   "outputs": [],
   "source": [
    "import warnings\n",
    "warnings.filterwarnings('ignore')"
   ]
  },
  {
   "cell_type": "markdown",
   "metadata": {
    "id": "Zb3btBk5vxIM"
   },
   "source": [
    "First we load the data and process it to have the correct form."
   ]
  },
  {
   "cell_type": "code",
   "execution_count": 3,
   "metadata": {
    "id": "StF6b56QvxIN"
   },
   "outputs": [],
   "source": [
    "ts_hc = np.load('ts_hc.npy')\n",
    "ts_schz = np.load('ts_schz.npy')"
   ]
  },
  {
   "cell_type": "code",
   "execution_count": 4,
   "metadata": {
    "id": "qd1nFcAfvxIO"
   },
   "outputs": [],
   "source": [
    "ts_hc = ts_hc.reshape(52,142*118)"
   ]
  },
  {
   "cell_type": "code",
   "execution_count": 5,
   "metadata": {
    "id": "fc006UE6vxIO"
   },
   "outputs": [],
   "source": [
    "ts_schz = ts_schz.reshape(50,142*118)"
   ]
  },
  {
   "cell_type": "code",
   "execution_count": 6,
   "metadata": {},
   "outputs": [],
   "source": [
    "corr_hc = np.load('corr_hc.npy')\n",
    "corr_schz = np.load('corr_schz.npy')"
   ]
  },
  {
   "cell_type": "code",
   "execution_count": 7,
   "metadata": {},
   "outputs": [],
   "source": [
    "corr_hc = corr_hc.reshape(52,118*118)\n",
    "corr_schz = corr_schz.reshape(50,118*118)"
   ]
  },
  {
   "cell_type": "code",
   "execution_count": 8,
   "metadata": {},
   "outputs": [],
   "source": [
    "hc = np.append(ts_hc,corr_hc,axis=1)\n",
    "schz = np.append(ts_schz,corr_schz,axis=1)"
   ]
  },
  {
   "cell_type": "code",
   "execution_count": 9,
   "metadata": {
    "id": "SEhdGg3IvxIP"
   },
   "outputs": [],
   "source": [
    "X = np.append(hc,schz,axis=0)"
   ]
  },
  {
   "cell_type": "code",
   "execution_count": 10,
   "metadata": {
    "colab": {
     "base_uri": "https://localhost:8080/"
    },
    "id": "8d-RFXoavxIQ",
    "outputId": "a61e1d34-79c6-4f1a-df1f-0b3a74b2c53d"
   },
   "outputs": [
    {
     "data": {
      "text/plain": [
       "(102, 30680)"
      ]
     },
     "execution_count": 10,
     "metadata": {},
     "output_type": "execute_result"
    }
   ],
   "source": [
    "X.shape"
   ]
  },
  {
   "cell_type": "code",
   "execution_count": 11,
   "metadata": {
    "colab": {
     "base_uri": "https://localhost:8080/"
    },
    "id": "hnaiAVUvJmgn",
    "outputId": "6cb5c264-f346-4b38-e85b-aa3b8bf8ace6"
   },
   "outputs": [
    {
     "data": {
      "text/plain": [
       "(30680,)"
      ]
     },
     "execution_count": 11,
     "metadata": {},
     "output_type": "execute_result"
    }
   ],
   "source": [
    "X[0].shape"
   ]
  },
  {
   "cell_type": "code",
   "execution_count": 12,
   "metadata": {
    "id": "5oh4k1gEvxIR"
   },
   "outputs": [],
   "source": [
    "Y = np.append(np.zeros(52),np.ones(50),axis=0)"
   ]
  },
  {
   "cell_type": "code",
   "execution_count": 13,
   "metadata": {
    "colab": {
     "base_uri": "https://localhost:8080/"
    },
    "id": "PZuBWU5LvxIR",
    "outputId": "21a0987a-b533-41fc-bea5-9f94b3246a66",
    "scrolled": true
   },
   "outputs": [
    {
     "data": {
      "text/plain": [
       "(102,)"
      ]
     },
     "execution_count": 13,
     "metadata": {},
     "output_type": "execute_result"
    }
   ],
   "source": [
    "Y.shape"
   ]
  },
  {
   "cell_type": "markdown",
   "metadata": {
    "id": "w2w8w0VjvxIS"
   },
   "source": [
    "Now, we define the algorithms that we are going to use. "
   ]
  },
  {
   "cell_type": "code",
   "execution_count": 14,
   "metadata": {
    "id": "MEPfV3efvxIS"
   },
   "outputs": [],
   "source": [
    "from sklearn.tree import DecisionTreeClassifier\n",
    "from sklearn.neighbors import KNeighborsClassifier\n",
    "from sklearn.linear_model import LogisticRegression\n",
    "from sklearn.svm import SVC\n",
    "from sklearn.neural_network import MLPClassifier\n",
    "from sklearn.ensemble import ExtraTreesClassifier\n",
    "from sklearn.ensemble import GradientBoostingClassifier\n",
    "from sklearn.ensemble import RandomForestClassifier\n",
    "from sklearn.ensemble import AdaBoostClassifier\n",
    "from scipy.stats import randint as sp_randint"
   ]
  },
  {
   "cell_type": "code",
   "execution_count": 15,
   "metadata": {
    "id": "YwnPEwswvxIU"
   },
   "outputs": [],
   "source": [
    "# Decision tree\n",
    "clfTree = DecisionTreeClassifier(random_state=84)\n",
    "param_distTree = {\"min_samples_split\": sp_randint(3, 30)}\n",
    "# SVM\n",
    "clfSVC = SVC(random_state=84)\n",
    "param_distSVC = {'C': [1, 10, 100, 1000], 'gamma': [0.001, 0.0001],'kernel': ['rbf'], 'class_weight':['balanced', None]}\n",
    "# KNN\n",
    "clfKNN = KNeighborsClassifier()\n",
    "param_distKNN = {'n_neighbors':sp_randint(3, 30)}\n",
    "# Logistic regression\n",
    "clfLR = LogisticRegression(random_state=84)\n",
    "param_distLR = {'C': [0.1,0.5,1, 10, 100, 1000]}\n",
    "# Neural Network\n",
    "clfMLP = MLPClassifier(random_state=84)\n",
    "param_distMLP = {'activation': ['identity', 'logistic', 'tanh', 'relu'], 'solver': ['lbfgs', 'sgd', 'adam'],\n",
    "                 'alpha': sp_randint(0.0001, 1), 'learning_rate': ['constant', 'invscaling', 'adaptive'],\n",
    "                 'hidden_layer_sizes': [(5,2), (3,3,3), (5,3,2), (5,4,3,2)],\n",
    "                 'momentum': [0.9, 0.95, 0.99]}\n",
    "# RandomForest\n",
    "clfRF = RandomForestClassifier(random_state=84)\n",
    "param_distRF =  {'n_estimators': [int(x) for x in np.linspace(start = 200, stop = 2000, num = 10)], 'max_features': ['auto', 'sqrt'],'max_depth': [int(x) for x in np.linspace(10, 110, num = 11)],\n",
    "                 'min_samples_split': [2, 5, 10],'min_samples_leaf': [1, 2, 4],\n",
    "                 'bootstrap': [True, False]}\n",
    "# ExtraTreesClassifier\n",
    "clfET = ExtraTreesClassifier(random_state=84)\n",
    "param_distET =  {'n_estimators': [int(x) for x in np.linspace(start = 200, stop = 2000, num = 10)], 'max_features': ['auto', 'sqrt'],'max_depth': [int(x) for x in np.linspace(10, 110, num = 11)],\n",
    "                 'min_samples_split': [2, 5, 10],'min_samples_leaf': [1, 2, 4],\n",
    "                 'bootstrap': [True, False]}"
   ]
  },
  {
   "cell_type": "code",
   "execution_count": 16,
   "metadata": {
    "id": "GGQcPxBOvxIV"
   },
   "outputs": [],
   "source": [
    "listAlgorithms = [clfTree,clfSVC,clfKNN,clfLR,clfMLP,clfRF,clfET]"
   ]
  },
  {
   "cell_type": "code",
   "execution_count": 17,
   "metadata": {
    "id": "8Nl-1GpjvxIV"
   },
   "outputs": [],
   "source": [
    "listParams = [param_distTree,param_distSVC,param_distKNN,param_distLR,param_distMLP,param_distRF, param_distET]"
   ]
  },
  {
   "cell_type": "code",
   "execution_count": 18,
   "metadata": {
    "id": "IK_8iIWovxIV"
   },
   "outputs": [],
   "source": [
    "listNames = [\"Arbol\", \"SVM\", \"KNN\", \"LR\", \"MLP\",\"RF\",\"ET\"]"
   ]
  },
  {
   "cell_type": "markdown",
   "metadata": {},
   "source": [
    "# Plain comparison"
   ]
  },
  {
   "cell_type": "code",
   "execution_count": 19,
   "metadata": {
    "id": "LSSesjlBvxIV",
    "scrolled": true
   },
   "outputs": [
    {
     "name": "stdout",
     "output_type": "stream",
     "text": [
      "temp.csv\n",
      "['Arbol' 'SVM' 'KNN' 'LR' 'MLP' 'RF' 'ET']\n",
      "==========================================================\n",
      "Report\n",
      "==========================================================\n",
      "**********************************************************\n",
      "Mean and std\n",
      "**********************************************************\n",
      "Arbol: 0.533095 (0.192870)\n",
      "SVM: 0.701548 (0.141779)\n",
      "KNN: 0.735952 (0.131182)\n",
      "LR: 0.697381 (0.142105)\n",
      "MLP: 0.671071 (0.129800)\n",
      "RF: 0.678929 (0.138983)\n",
      "ET: 0.683869 (0.197006)\n",
      "**********************************************************\n",
      "Statistical tests\n",
      "**********************************************************\n",
      "----------------------------------------------------------\n",
      "Checking parametric conditions \n",
      "----------------------------------------------------------\n",
      "Checking independence \n",
      "Ok\n",
      "Checking normality using Shapiro-Wilk's test for normality, alpha=0.05\n",
      "W: 0.948848, p:0.006313\n",
      "The null hypothesis (normality) is rejected\n",
      "Checking heteroscedasticity using Levene's test, alpha=0.05\n",
      "W: 0.594420, p:0.733602\n",
      "The null hypothesis (heteroscedasticity) is accepted\n",
      "Conditions for a parametric test are not fulfilled, applying a non-parametric test\n",
      "----------------------------------------------------------\n",
      "Working with more than 2 algorithms\n",
      "----------------------------------------------------------\n",
      "----------------------------------------------------------\n",
      "Applying Friedman test\n",
      "----------------------------------------------------------\n",
      "F-value: 2.180124, p-value: 0.059042650800093965\n",
      "Null hypothesis is rejected; hence, models have different performance\n",
      "Technique      Ranking\n",
      "-----------  ---------\n",
      "KNN               5\n",
      "ET                4.8\n",
      "SVM               4.35\n",
      "LR                4.25\n",
      "RF                3.9\n",
      "MLP               3.55\n",
      "Arbol             2.15\n",
      "Winner model: KNN\n",
      "----------------------------------------------------------\n",
      "Applying Holm p-value adjustment procedure and analysing effect size\n",
      "----------------------------------------------------------\n",
      "Comparison      Zvalue     p-value    adjusted p-value\n",
      "------------  --------  ----------  ------------------\n",
      "KNN vs Arbol  2.95003   0.00317743           0.0190646\n",
      "KNN vs MLP    1.50089   0.133383             0.666917\n",
      "KNN vs RF     1.13861   0.254867             1\n",
      "KNN vs LR     0.776324  0.437558             1\n",
      "KNN vs SVM    0.672814  0.501066             1\n",
      "KNN vs ET     0.20702   0.835994             1\n",
      "There is a significant difference between the models: KNN (mean: 0.735952, std: 0.131182) and Arbol (mean: 0.533095, std: 0.192870) (Cohen's d=1.1668014404905471, Large)\n",
      "We can't say that there is a significant difference in the performance of the models: KNN (mean: 0.735952, std: 0.131182) and MLP (mean: 0.671071, std: 0.129800) (Cohen's d=0.4716855000687547, Medium)\n",
      "We can't say that there is a significant difference in the performance of the models: KNN (mean: 0.735952, std: 0.131182) and RF (mean: 0.678929, std: 0.138983) (Cohen's d=0.4003113994051793, Medium)\n",
      "We can't say that there is a significant difference in the performance of the models: KNN (mean: 0.735952, std: 0.131182) and LR (mean: 0.697381, std: 0.142105) (Cohen's d=0.2675789471927795, Medium)\n",
      "We can't say that there is a significant difference in the performance of the models: KNN (mean: 0.735952, std: 0.131182) and SVM (mean: 0.701548, std: 0.141779) (Cohen's d=0.23896986682297866, Medium)\n",
      "We can't say that there is a significant difference in the performance of the models: KNN (mean: 0.735952, std: 0.131182) and ET (mean: 0.683869, std: 0.197006) (Cohen's d=0.29523232613228356, Medium)\n",
      "Eta squared: 0.128823 (Large)\n"
     ]
    },
    {
     "data": {
      "image/png": "[encoded data removed]",
      "text/plain": [
       "<Figure size 432x288 with 1 Axes>"
      ]
     },
     "metadata": {
      "needs_background": "light"
     },
     "output_type": "display_data"
    }
   ],
   "source": [
    "compare_methods(X,Y,listAlgorithms,listParams,listNames,metric='auroc')"
   ]
  },
  {
   "cell_type": "code",
   "execution_count": 20,
   "metadata": {},
   "outputs": [
    {
     "name": "stdout",
     "output_type": "stream",
     "text": [
      "temp.csv\n",
      "['Arbol' 'SVM' 'KNN' 'LR' 'MLP' 'RF' 'ET']\n",
      "==========================================================\n",
      "Report\n",
      "==========================================================\n",
      "**********************************************************\n",
      "Mean and std\n",
      "**********************************************************\n",
      "Arbol: 0.510119 (0.277742)\n",
      "SVM: 0.633333 (0.235510)\n",
      "KNN: 0.740000 (0.156915)\n",
      "LR: 0.640476 (0.244833)\n",
      "MLP: 0.662381 (0.251133)\n",
      "RF: 0.645476 (0.207732)\n",
      "ET: 0.648333 (0.246582)\n",
      "**********************************************************\n",
      "Statistical tests\n",
      "**********************************************************\n",
      "----------------------------------------------------------\n",
      "Checking parametric conditions \n",
      "----------------------------------------------------------\n",
      "Checking independence \n",
      "Ok\n",
      "Checking normality using Shapiro-Wilk's test for normality, alpha=0.05\n",
      "W: 0.943628, p:0.003411\n",
      "The null hypothesis (normality) is rejected\n",
      "Checking heteroscedasticity using Levene's test, alpha=0.05\n",
      "W: 0.524770, p:0.787407\n",
      "The null hypothesis (heteroscedasticity) is accepted\n",
      "Conditions for a parametric test are not fulfilled, applying a non-parametric test\n",
      "----------------------------------------------------------\n",
      "Working with more than 2 algorithms\n",
      "----------------------------------------------------------\n",
      "----------------------------------------------------------\n",
      "Applying Friedman test\n",
      "----------------------------------------------------------\n",
      "F-value: 1.680229, p-value: 0.143654889848707\n",
      "Null hypothesis is rejected; hence, models have different performance\n",
      "Technique      Ranking\n",
      "-----------  ---------\n",
      "KNN               5.1\n",
      "ET                4.8\n",
      "MLP               4.15\n",
      "RF                4\n",
      "LR                3.8\n",
      "SVM               3.7\n",
      "Arbol             2.45\n",
      "Winner model: KNN\n",
      "----------------------------------------------------------\n",
      "Applying Holm p-value adjustment procedure and analysing effect size\n",
      "----------------------------------------------------------\n",
      "Comparison      Zvalue     p-value    adjusted p-value\n",
      "------------  --------  ----------  ------------------\n",
      "KNN vs Arbol  2.74301   0.00608787           0.0365272\n",
      "KNN vs SVM    1.44914   0.147299             0.736496\n",
      "KNN vs LR     1.34563   0.178423             0.736496\n",
      "KNN vs RF     1.13861   0.254867             0.7646\n",
      "KNN vs MLP    0.983343  0.325438             0.7646\n",
      "KNN vs ET     0.31053   0.756158             0.7646\n",
      "There is a significant difference between the models: KNN (mean: 0.740000, std: 0.156915) and Arbol (mean: 0.510119, std: 0.277742) (Cohen's d=0.9668189289707195, Large)\n",
      "We can't say that there is a significant difference in the performance of the models: KNN (mean: 0.740000, std: 0.156915) and SVM (mean: 0.633333, std: 0.235510) (Cohen's d=0.5056892954132163, Large)\n",
      "We can't say that there is a significant difference in the performance of the models: KNN (mean: 0.740000, std: 0.156915) and LR (mean: 0.640476, std: 0.244833) (Cohen's d=0.45916264502900817, Medium)\n",
      "We can't say that there is a significant difference in the performance of the models: KNN (mean: 0.740000, std: 0.156915) and RF (mean: 0.645476, std: 0.207732) (Cohen's d=0.48712878755690686, Medium)\n",
      "We can't say that there is a significant difference in the performance of the models: KNN (mean: 0.740000, std: 0.156915) and MLP (mean: 0.662381, std: 0.251133) (Cohen's d=0.3516652626708818, Medium)\n",
      "We can't say that there is a significant difference in the performance of the models: KNN (mean: 0.740000, std: 0.156915) and ET (mean: 0.648333, std: 0.246582) (Cohen's d=0.42078010526361614, Medium)\n",
      "Eta squared: 0.066829 (Large)\n"
     ]
    },
    {
     "data": {
      "image/png": "[encoded data removed]",
      "text/plain": [
       "<Figure size 432x288 with 1 Axes>"
      ]
     },
     "metadata": {
      "needs_background": "light"
     },
     "output_type": "display_data"
    }
   ],
   "source": [
    "compare_methods(X,Y,listAlgorithms,listParams,listNames,metric='precision')"
   ]
  },
  {
   "cell_type": "code",
   "execution_count": 21,
   "metadata": {},
   "outputs": [
    {
     "name": "stdout",
     "output_type": "stream",
     "text": [
      "temp.csv\n",
      "['Arbol' 'SVM' 'KNN' 'LR' 'MLP' 'RF' 'ET']\n",
      "==========================================================\n",
      "Report\n",
      "==========================================================\n",
      "**********************************************************\n",
      "Mean and std\n",
      "**********************************************************\n",
      "Arbol: 0.580952 (0.278317)\n",
      "SVM: 0.733333 (0.242705)\n",
      "KNN: 0.716071 (0.222623)\n",
      "LR: 0.714286 (0.202801)\n",
      "MLP: 0.585714 (0.256536)\n",
      "RF: 0.654762 (0.224934)\n",
      "ET: 0.663095 (0.276439)\n",
      "**********************************************************\n",
      "Statistical tests\n",
      "**********************************************************\n",
      "----------------------------------------------------------\n",
      "Checking parametric conditions \n",
      "----------------------------------------------------------\n",
      "Checking independence \n",
      "Ok\n",
      "Checking normality using Shapiro-Wilk's test for normality, alpha=0.05\n",
      "W: 0.930038, p:0.000749\n",
      "The null hypothesis (normality) is rejected\n",
      "Checking heteroscedasticity using Levene's test, alpha=0.05\n",
      "W: 0.410857, p:0.869154\n",
      "The null hypothesis (heteroscedasticity) is accepted\n",
      "Conditions for a parametric test are not fulfilled, applying a non-parametric test\n",
      "----------------------------------------------------------\n",
      "Working with more than 2 algorithms\n",
      "----------------------------------------------------------\n",
      "----------------------------------------------------------\n",
      "Applying Friedman test\n",
      "----------------------------------------------------------\n",
      "F-value: 0.864944, p-value: 0.5266018303199509\n",
      "Null hypothesis is accepted; hence, we can't say that there is a significant difference in the performance of the models\n",
      "----------------------------------------------------------\n",
      "Analysing effect size\n",
      "----------------------------------------------------------\n",
      "We take the model with the best mean (SVM, mean: 0.733333) and compare it with the other models: \n",
      "Comparing effect size of SVM and Arbol: Cohen's d=0.5536222625983935, Large\n",
      "Comparing effect size of SVM and KNN: Cohen's d=0.07031959154486393, Small\n",
      "Comparing effect size of SVM and LR: Cohen's d=0.08079846349716165, Small\n",
      "Comparing effect size of SVM and MLP: Cohen's d=0.5608111009146405, Large\n",
      "Comparing effect size of SVM and RF: Cohen's d=0.31856025774288244, Medium\n",
      "Comparing effect size of SVM and ET: Cohen's d=0.25616552877522525, Medium\n",
      "Eta squared: 0.052273 (Medium)\n"
     ]
    },
    {
     "data": {
      "image/png": "[encoded data removed]",
      "text/plain": [
       "<Figure size 432x288 with 1 Axes>"
      ]
     },
     "metadata": {
      "needs_background": "light"
     },
     "output_type": "display_data"
    }
   ],
   "source": [
    "compare_methods(X,Y,listAlgorithms,listParams,listNames,metric='recall')"
   ]
  },
  {
   "cell_type": "code",
   "execution_count": 22,
   "metadata": {},
   "outputs": [
    {
     "name": "stdout",
     "output_type": "stream",
     "text": [
      "temp.csv\n",
      "['Arbol' 'SVM' 'KNN' 'LR' 'MLP' 'RF' 'ET']\n",
      "==========================================================\n",
      "Report\n",
      "==========================================================\n",
      "**********************************************************\n",
      "Mean and std\n",
      "**********************************************************\n",
      "Arbol: 0.528182 (0.162086)\n",
      "SVM: 0.658182 (0.130555)\n",
      "KNN: 0.725455 (0.114690)\n",
      "LR: 0.667273 (0.124063)\n",
      "MLP: 0.636364 (0.125441)\n",
      "RF: 0.638182 (0.137739)\n",
      "ET: 0.635455 (0.191404)\n",
      "**********************************************************\n",
      "Statistical tests\n",
      "**********************************************************\n",
      "----------------------------------------------------------\n",
      "Checking parametric conditions \n",
      "----------------------------------------------------------\n",
      "Checking independence \n",
      "Ok\n",
      "Checking normality using Shapiro-Wilk's test for normality, alpha=0.05\n",
      "W: 0.951589, p:0.008790\n",
      "The null hypothesis (normality) is rejected\n",
      "Checking heteroscedasticity using Levene's test, alpha=0.05\n",
      "W: 0.571570, p:0.751433\n",
      "The null hypothesis (heteroscedasticity) is accepted\n",
      "Conditions for a parametric test are not fulfilled, applying a non-parametric test\n",
      "----------------------------------------------------------\n",
      "Working with more than 2 algorithms\n",
      "----------------------------------------------------------\n",
      "----------------------------------------------------------\n",
      "Applying Friedman test\n",
      "----------------------------------------------------------\n",
      "F-value: 1.666667, p-value: 0.14708144074709628\n",
      "Null hypothesis is rejected; hence, models have different performance\n",
      "Technique      Ranking\n",
      "-----------  ---------\n",
      "KNN               5.1\n",
      "ET                4.55\n",
      "LR                4.3\n",
      "SVM               4.1\n",
      "RF                4\n",
      "MLP               3.55\n",
      "Arbol             2.4\n",
      "Winner model: KNN\n",
      "----------------------------------------------------------\n",
      "Applying Holm p-value adjustment procedure and analysing effect size\n",
      "----------------------------------------------------------\n",
      "Comparison      Zvalue     p-value    adjusted p-value\n",
      "------------  --------  ----------  ------------------\n",
      "KNN vs Arbol  2.79477   0.00519374           0.0311624\n",
      "KNN vs MLP    1.6044    0.108625             0.543127\n",
      "KNN vs RF     1.13861   0.254867             1\n",
      "KNN vs SVM    1.0351    0.300623             1\n",
      "KNN vs LR     0.828079  0.407626             1\n",
      "KNN vs ET     0.569304  0.56915              1\n",
      "There is a significant difference between the models: KNN (mean: 0.725455, std: 0.114690) and Arbol (mean: 0.528182, std: 0.162086) (Cohen's d=1.3329505442206862, Large)\n",
      "We can't say that there is a significant difference in the performance of the models: KNN (mean: 0.725455, std: 0.114690) and MLP (mean: 0.636364, std: 0.125441) (Cohen's d=0.7032365957327262, Large)\n",
      "We can't say that there is a significant difference in the performance of the models: KNN (mean: 0.725455, std: 0.114690) and RF (mean: 0.638182, std: 0.137739) (Cohen's d=0.6532644764792248, Large)\n",
      "We can't say that there is a significant difference in the performance of the models: KNN (mean: 0.725455, std: 0.114690) and SVM (mean: 0.658182, std: 0.130555) (Cohen's d=0.5193781806942603, Large)\n",
      "We can't say that there is a significant difference in the performance of the models: KNN (mean: 0.725455, std: 0.114690) and LR (mean: 0.667273, std: 0.124063) (Cohen's d=0.4620139192813646, Medium)\n",
      "We can't say that there is a significant difference in the performance of the models: KNN (mean: 0.725455, std: 0.114690) and ET (mean: 0.635455, std: 0.191404) (Cohen's d=0.5411416266603152, Large)\n",
      "Eta squared: 0.127387 (Large)\n"
     ]
    },
    {
     "data": {
      "image/png": "[encoded data removed]",
      "text/plain": [
       "<Figure size 432x288 with 1 Axes>"
      ]
     },
     "metadata": {
      "needs_background": "light"
     },
     "output_type": "display_data"
    }
   ],
   "source": [
    "compare_methods(X,Y,listAlgorithms,listParams,listNames,metric='accuracy')"
   ]
  },
  {
   "cell_type": "markdown",
   "metadata": {
    "id": "9RmrYzBMOAXv"
   },
   "source": [
    "# PCA with 2 components"
   ]
  },
  {
   "cell_type": "code",
   "execution_count": 23,
   "metadata": {
    "id": "Sjjc5WXGvxIX"
   },
   "outputs": [],
   "source": [
    "from sklearn.decomposition import PCA"
   ]
  },
  {
   "cell_type": "code",
   "execution_count": 24,
   "metadata": {
    "id": "edHm_G34N87W"
   },
   "outputs": [],
   "source": [
    "pca = PCA(n_components=2)"
   ]
  },
  {
   "cell_type": "code",
   "execution_count": 25,
   "metadata": {
    "id": "H4lw_jzBODCv"
   },
   "outputs": [
    {
     "data": {
      "text/plain": [
       "PCA(n_components=2)"
      ]
     },
     "execution_count": 25,
     "metadata": {},
     "output_type": "execute_result"
    }
   ],
   "source": [
    "pca.fit(X)"
   ]
  },
  {
   "cell_type": "code",
   "execution_count": 26,
   "metadata": {
    "id": "ImTFoLrKOFHZ"
   },
   "outputs": [],
   "source": [
    "X_pca2 = pca.transform(X)"
   ]
  },
  {
   "cell_type": "code",
   "execution_count": 27,
   "metadata": {
    "id": "5nt7OQ61JuKG"
   },
   "outputs": [
    {
     "data": {
      "text/plain": [
       "(102, 2)"
      ]
     },
     "execution_count": 27,
     "metadata": {},
     "output_type": "execute_result"
    }
   ],
   "source": [
    "X_pca2.shape"
   ]
  },
  {
   "cell_type": "code",
   "execution_count": 28,
   "metadata": {
    "id": "KyVbCZLpOInH",
    "scrolled": true
   },
   "outputs": [
    {
     "name": "stdout",
     "output_type": "stream",
     "text": [
      "temp.csv\n",
      "['Arbol' 'SVM' 'KNN' 'LR' 'MLP' 'RF' 'ET']\n",
      "==========================================================\n",
      "Report\n",
      "==========================================================\n",
      "**********************************************************\n",
      "Mean and std\n",
      "**********************************************************\n",
      "Arbol: 0.656250 (0.145214)\n",
      "SVM: 0.660119 (0.148773)\n",
      "KNN: 0.683333 (0.119406)\n",
      "LR: 0.570655 (0.189687)\n",
      "MLP: 0.562798 (0.159699)\n",
      "RF: 0.665000 (0.195295)\n",
      "ET: 0.652798 (0.206166)\n",
      "**********************************************************\n",
      "Statistical tests\n",
      "**********************************************************\n",
      "----------------------------------------------------------\n",
      "Checking parametric conditions \n",
      "----------------------------------------------------------\n",
      "Checking independence \n",
      "Ok\n",
      "Checking normality using Shapiro-Wilk's test for normality, alpha=0.05\n",
      "W: 0.959847, p:0.024554\n",
      "The null hypothesis (normality) is rejected\n",
      "Checking heteroscedasticity using Levene's test, alpha=0.05\n",
      "W: 0.348991, p:0.907905\n",
      "The null hypothesis (heteroscedasticity) is accepted\n",
      "Conditions for a parametric test are not fulfilled, applying a non-parametric test\n",
      "----------------------------------------------------------\n",
      "Working with more than 2 algorithms\n",
      "----------------------------------------------------------\n",
      "----------------------------------------------------------\n",
      "Applying Friedman test\n",
      "----------------------------------------------------------\n",
      "F-value: 1.406773, p-value: 0.2290145761859218\n",
      "Null hypothesis is rejected; hence, models have different performance\n",
      "Technique      Ranking\n",
      "-----------  ---------\n",
      "KNN               5\n",
      "RF                4.65\n",
      "ET                4.3\n",
      "Arbol             4.15\n",
      "SVM               4\n",
      "LR                3.1\n",
      "MLP               2.8\n",
      "Winner model: KNN\n",
      "----------------------------------------------------------\n",
      "Applying Holm p-value adjustment procedure and analysing effect size\n",
      "----------------------------------------------------------\n",
      "Comparison      Zvalue    p-value    adjusted p-value\n",
      "------------  --------  ---------  ------------------\n",
      "KNN vs MLP    2.27722   0.0227733            0.13664\n",
      "KNN vs LR     1.96669   0.0492193            0.246097\n",
      "KNN vs SVM    1.0351    0.300623             1\n",
      "KNN vs Arbol  0.879834  0.378949             1\n",
      "KNN vs ET     0.724569  0.468717             1\n",
      "KNN vs RF     0.362284  0.71714              1\n",
      "There is a significant difference between the models: KNN (mean: 0.683333, std: 0.119406) and MLP (mean: 0.562798, std: 0.159699) (Cohen's d=0.8109981419498848, Large)\n",
      "There is a significant difference between the models: KNN (mean: 0.683333, std: 0.119406) and LR (mean: 0.570655, std: 0.189687) (Cohen's d=0.6744622047475451, Large)\n",
      "We can't say that there is a significant difference in the performance of the models: KNN (mean: 0.683333, std: 0.119406) and SVM (mean: 0.660119, std: 0.148773) (Cohen's d=0.16326552717265128, Small)\n",
      "We can't say that there is a significant difference in the performance of the models: KNN (mean: 0.683333, std: 0.119406) and Arbol (mean: 0.656250, std: 0.145214) (Cohen's d=0.19327488118925, Small)\n",
      "We can't say that there is a significant difference in the performance of the models: KNN (mean: 0.683333, std: 0.119406) and ET (mean: 0.652798, std: 0.206166) (Cohen's d=0.17195530189584315, Small)\n",
      "We can't say that there is a significant difference in the performance of the models: KNN (mean: 0.683333, std: 0.119406) and RF (mean: 0.665000, std: 0.195295) (Cohen's d=0.10745364381875988, Small)\n",
      "Eta squared: 0.065470 (Large)\n"
     ]
    },
    {
     "data": {
      "image/png": "[encoded data removed]",
      "text/plain": [
       "<Figure size 432x288 with 1 Axes>"
      ]
     },
     "metadata": {
      "needs_background": "light"
     },
     "output_type": "display_data"
    }
   ],
   "source": [
    "compare_methods(X_pca2,Y,listAlgorithms,listParams,listNames,metric='auroc')"
   ]
  },
  {
   "cell_type": "code",
   "execution_count": 29,
   "metadata": {},
   "outputs": [
    {
     "name": "stdout",
     "output_type": "stream",
     "text": [
      "temp.csv\n",
      "['Arbol' 'SVM' 'KNN' 'LR' 'MLP' 'RF' 'ET']\n",
      "==========================================================\n",
      "Report\n",
      "==========================================================\n",
      "**********************************************************\n",
      "Mean and std\n",
      "**********************************************************\n",
      "Arbol: 0.645000 (0.244501)\n",
      "SVM: 0.622857 (0.258144)\n",
      "KNN: 0.758333 (0.242813)\n",
      "LR: 0.561190 (0.213475)\n",
      "MLP: 0.477857 (0.327521)\n",
      "RF: 0.643333 (0.166032)\n",
      "ET: 0.614286 (0.195041)\n",
      "**********************************************************\n",
      "Statistical tests\n",
      "**********************************************************\n",
      "----------------------------------------------------------\n",
      "Checking parametric conditions \n",
      "----------------------------------------------------------\n",
      "Checking independence \n",
      "Ok\n",
      "Checking normality using Shapiro-Wilk's test for normality, alpha=0.05\n",
      "W: 0.951006, p:0.008189\n",
      "The null hypothesis (normality) is rejected\n",
      "Checking heteroscedasticity using Levene's test, alpha=0.05\n",
      "W: 1.300090, p:0.270280\n",
      "The null hypothesis (heteroscedasticity) is rejected\n",
      "Conditions for a parametric test are not fulfilled, applying a non-parametric test\n",
      "----------------------------------------------------------\n",
      "Working with more than 2 algorithms\n",
      "----------------------------------------------------------\n",
      "----------------------------------------------------------\n",
      "Applying Friedman test\n",
      "----------------------------------------------------------\n",
      "F-value: 1.338462, p-value: 0.2563978353391939\n",
      "Null hypothesis is rejected; hence, models have different performance\n",
      "Technique      Ranking\n",
      "-----------  ---------\n",
      "KNN               5.2\n",
      "RF                4.65\n",
      "Arbol             4.1\n",
      "ET                4\n",
      "SVM               3.9\n",
      "LR                3.2\n",
      "MLP               2.95\n",
      "Winner model: KNN\n",
      "----------------------------------------------------------\n",
      "Applying Holm p-value adjustment procedure and analysing effect size\n",
      "----------------------------------------------------------\n",
      "Comparison      Zvalue    p-value    adjusted p-value\n",
      "------------  --------  ---------  ------------------\n",
      "KNN vs MLP    2.32897   0.0198606            0.119164\n",
      "KNN vs LR     2.0702    0.0384339            0.19217\n",
      "KNN vs SVM    1.34563   0.178423             0.71369\n",
      "KNN vs ET     1.24212   0.214193             0.71369\n",
      "KNN vs Arbol  1.13861   0.254867             0.71369\n",
      "KNN vs RF     0.569304  0.56915              0.71369\n",
      "There is a significant difference between the models: KNN (mean: 0.758333, std: 0.242813) and MLP (mean: 0.477857, std: 0.327521) (Cohen's d=0.9229535841220967, Large)\n",
      "There is a significant difference between the models: KNN (mean: 0.758333, std: 0.242813) and LR (mean: 0.561190, std: 0.213475) (Cohen's d=0.8180826846619604, Large)\n",
      "We can't say that there is a significant difference in the performance of the models: KNN (mean: 0.758333, std: 0.242813) and SVM (mean: 0.622857, std: 0.258144) (Cohen's d=0.5128729563157509, Large)\n",
      "We can't say that there is a significant difference in the performance of the models: KNN (mean: 0.758333, std: 0.242813) and ET (mean: 0.614286, std: 0.195041) (Cohen's d=0.6205236998315059, Large)\n",
      "We can't say that there is a significant difference in the performance of the models: KNN (mean: 0.758333, std: 0.242813) and Arbol (mean: 0.645000, std: 0.244501) (Cohen's d=0.4412629098374175, Medium)\n",
      "We can't say that there is a significant difference in the performance of the models: KNN (mean: 0.758333, std: 0.242813) and RF (mean: 0.643333, std: 0.166032) (Cohen's d=0.5245214932483839, Large)\n",
      "Eta squared: 0.098187 (Large)\n"
     ]
    },
    {
     "data": {
      "image/png": "[encoded data removed]",
      "text/plain": [
       "<Figure size 432x288 with 1 Axes>"
      ]
     },
     "metadata": {
      "needs_background": "light"
     },
     "output_type": "display_data"
    }
   ],
   "source": [
    "compare_methods(X_pca2,Y,listAlgorithms,listParams,listNames,metric='precision')"
   ]
  },
  {
   "cell_type": "code",
   "execution_count": 30,
   "metadata": {},
   "outputs": [
    {
     "name": "stdout",
     "output_type": "stream",
     "text": [
      "temp.csv\n",
      "['Arbol' 'SVM' 'KNN' 'LR' 'MLP' 'RF' 'ET']\n",
      "==========================================================\n",
      "Report\n",
      "==========================================================\n",
      "**********************************************************\n",
      "Mean and std\n",
      "**********************************************************\n",
      "Arbol: 0.547619 (0.223923)\n",
      "SVM: 0.707143 (0.177153)\n",
      "KNN: 0.583333 (0.160780)\n",
      "LR: 0.580952 (0.232603)\n",
      "MLP: 0.510119 (0.330666)\n",
      "RF: 0.664286 (0.214867)\n",
      "ET: 0.725000 (0.188791)\n",
      "**********************************************************\n",
      "Statistical tests\n",
      "**********************************************************\n",
      "----------------------------------------------------------\n",
      "Checking parametric conditions \n",
      "----------------------------------------------------------\n",
      "Checking independence \n",
      "Ok\n",
      "Checking normality using Shapiro-Wilk's test for normality, alpha=0.05\n",
      "W: 0.950170, p:0.007401\n",
      "The null hypothesis (normality) is rejected\n",
      "Checking heteroscedasticity using Levene's test, alpha=0.05\n",
      "W: 0.817651, p:0.560363\n",
      "The null hypothesis (heteroscedasticity) is accepted\n",
      "Conditions for a parametric test are not fulfilled, applying a non-parametric test\n",
      "----------------------------------------------------------\n",
      "Working with more than 2 algorithms\n",
      "----------------------------------------------------------\n",
      "----------------------------------------------------------\n",
      "Applying Friedman test\n",
      "----------------------------------------------------------\n",
      "F-value: 1.829394, p-value: 0.11058603166448733\n",
      "Null hypothesis is rejected; hence, models have different performance\n",
      "Technique      Ranking\n",
      "-----------  ---------\n",
      "ET                5.15\n",
      "SVM               5.05\n",
      "RF                4.4\n",
      "KNN               3.85\n",
      "Arbol             3.35\n",
      "LR                3.3\n",
      "MLP               2.9\n",
      "Winner model: ET\n",
      "----------------------------------------------------------\n",
      "Applying Holm p-value adjustment procedure and analysing effect size\n",
      "----------------------------------------------------------\n",
      "Comparison      Zvalue    p-value    adjusted p-value\n",
      "------------  --------  ---------  ------------------\n",
      "ET vs MLP     2.32897   0.0198606            0.119164\n",
      "ET vs LR      1.91493   0.0555012            0.277506\n",
      "ET vs Arbol   1.86318   0.0624374            0.277506\n",
      "ET vs KNN     1.34563   0.178423             0.535268\n",
      "ET vs RF      0.776324  0.437558             0.875116\n",
      "ET vs SVM     0.10351   0.917558             0.917558\n",
      "There is a significant difference between the models: ET (mean: 0.725000, std: 0.188791) and MLP (mean: 0.510119, std: 0.330666) (Cohen's d=0.7571418186872817, Large)\n",
      "There is a significant difference between the models: ET (mean: 0.725000, std: 0.188791) and LR (mean: 0.580952, std: 0.232603) (Cohen's d=0.6451103707476039, Large)\n",
      "There is a significant difference between the models: ET (mean: 0.725000, std: 0.188791) and Arbol (mean: 0.547619, std: 0.223923) (Cohen's d=0.812532556850357, Large)\n",
      "We can't say that there is a significant difference in the performance of the models: ET (mean: 0.725000, std: 0.188791) and KNN (mean: 0.583333, std: 0.160780) (Cohen's d=0.7664668805279692, Large)\n",
      "We can't say that there is a significant difference in the performance of the models: ET (mean: 0.725000, std: 0.188791) and RF (mean: 0.664286, std: 0.214867) (Cohen's d=0.2847898178723974, Medium)\n",
      "We can't say that there is a significant difference in the performance of the models: ET (mean: 0.725000, std: 0.188791) and SVM (mean: 0.707143, std: 0.177153) (Cohen's d=0.09253991144519623, Small)\n",
      "Eta squared: 0.103466 (Large)\n"
     ]
    },
    {
     "data": {
      "image/png": "[encoded data removed]",
      "text/plain": [
       "<Figure size 432x288 with 1 Axes>"
      ]
     },
     "metadata": {
      "needs_background": "light"
     },
     "output_type": "display_data"
    }
   ],
   "source": [
    "compare_methods(X_pca2,Y,listAlgorithms,listParams,listNames,metric='recall')"
   ]
  },
  {
   "cell_type": "code",
   "execution_count": 31,
   "metadata": {},
   "outputs": [
    {
     "name": "stdout",
     "output_type": "stream",
     "text": [
      "temp.csv\n",
      "['Arbol' 'SVM' 'KNN' 'LR' 'MLP' 'RF' 'ET']\n",
      "==========================================================\n",
      "Report\n",
      "==========================================================\n",
      "**********************************************************\n",
      "Mean and std\n",
      "**********************************************************\n",
      "Arbol: 0.644545 (0.131893)\n",
      "SVM: 0.655455 (0.117371)\n",
      "KNN: 0.693636 (0.133240)\n",
      "LR: 0.557273 (0.132056)\n",
      "MLP: 0.546364 (0.133698)\n",
      "RF: 0.664545 (0.152362)\n",
      "ET: 0.634545 (0.170841)\n",
      "**********************************************************\n",
      "Statistical tests\n",
      "**********************************************************\n",
      "----------------------------------------------------------\n",
      "Checking parametric conditions \n",
      "----------------------------------------------------------\n",
      "Checking independence \n",
      "Ok\n",
      "Checking normality using Shapiro-Wilk's test for normality, alpha=0.05\n",
      "W: 0.941527, p:0.002676\n",
      "The null hypothesis (normality) is rejected\n",
      "Checking heteroscedasticity using Levene's test, alpha=0.05\n",
      "W: 0.092777, p:0.996855\n",
      "The null hypothesis (heteroscedasticity) is accepted\n",
      "Conditions for a parametric test are not fulfilled, applying a non-parametric test\n",
      "----------------------------------------------------------\n",
      "Working with more than 2 algorithms\n",
      "----------------------------------------------------------\n",
      "----------------------------------------------------------\n",
      "Applying Friedman test\n",
      "----------------------------------------------------------\n",
      "F-value: 1.916179, p-value: 0.09481062043465316\n",
      "Null hypothesis is rejected; hence, models have different performance\n",
      "Technique      Ranking\n",
      "-----------  ---------\n",
      "KNN               5.2\n",
      "RF                4.85\n",
      "ET                4.15\n",
      "SVM               4.05\n",
      "Arbol             4.05\n",
      "LR                3.05\n",
      "MLP               2.65\n",
      "Winner model: KNN\n",
      "----------------------------------------------------------\n",
      "Applying Holm p-value adjustment procedure and analysing effect size\n",
      "----------------------------------------------------------\n",
      "Comparison      Zvalue     p-value    adjusted p-value\n",
      "------------  --------  ----------  ------------------\n",
      "KNN vs MLP    2.6395    0.00830282           0.0498169\n",
      "KNN vs LR     2.22546   0.0260503            0.130251\n",
      "KNN vs Arbol  1.19036   0.233904             0.935615\n",
      "KNN vs SVM    1.19036   0.233904             0.935615\n",
      "KNN vs ET     1.08685   0.277102             0.935615\n",
      "KNN vs RF     0.362284  0.71714              0.935615\n",
      "There is a significant difference between the models: KNN (mean: 0.693636, std: 0.133240) and MLP (mean: 0.546364, std: 0.133698) (Cohen's d=1.046796484997005, Large)\n",
      "There is a significant difference between the models: KNN (mean: 0.693636, std: 0.133240) and LR (mean: 0.557273, std: 0.132056) (Cohen's d=0.9752466873409549, Large)\n",
      "We can't say that there is a significant difference in the performance of the models: KNN (mean: 0.693636, std: 0.133240) and Arbol (mean: 0.644545, std: 0.131893) (Cohen's d=0.35130337411283324, Medium)\n",
      "We can't say that there is a significant difference in the performance of the models: KNN (mean: 0.693636, std: 0.133240) and SVM (mean: 0.655455, std: 0.117371) (Cohen's d=0.288494987474939, Medium)\n",
      "We can't say that there is a significant difference in the performance of the models: KNN (mean: 0.693636, std: 0.133240) and ET (mean: 0.634545, std: 0.170841) (Cohen's d=0.36592064323226087, Medium)\n",
      "We can't say that there is a significant difference in the performance of the models: KNN (mean: 0.693636, std: 0.133240) and RF (mean: 0.664545, std: 0.152362) (Cohen's d=0.19283096357277874, Small)\n",
      "Eta squared: 0.118571 (Large)\n"
     ]
    },
    {
     "data": {
      "image/png": "[encoded data removed]",
      "text/plain": [
       "<Figure size 432x288 with 1 Axes>"
      ]
     },
     "metadata": {
      "needs_background": "light"
     },
     "output_type": "display_data"
    }
   ],
   "source": [
    "compare_methods(X_pca2,Y,listAlgorithms,listParams,listNames,metric='accuracy')"
   ]
  },
  {
   "cell_type": "markdown",
   "metadata": {
    "id": "4_aNOwHHORLf"
   },
   "source": [
    "# PCA with 10 components"
   ]
  },
  {
   "cell_type": "code",
   "execution_count": 32,
   "metadata": {
    "id": "XoW_W87nONDr"
   },
   "outputs": [],
   "source": [
    "pca = PCA(n_components=10)"
   ]
  },
  {
   "cell_type": "code",
   "execution_count": 33,
   "metadata": {
    "id": "D6xAEHgfOXqw"
   },
   "outputs": [
    {
     "data": {
      "text/plain": [
       "PCA(n_components=10)"
      ]
     },
     "execution_count": 33,
     "metadata": {},
     "output_type": "execute_result"
    }
   ],
   "source": [
    "pca.fit(X)"
   ]
  },
  {
   "cell_type": "code",
   "execution_count": 34,
   "metadata": {
    "id": "UsP9oOY0OYu2"
   },
   "outputs": [],
   "source": [
    "X_pca10 = pca.transform(X)"
   ]
  },
  {
   "cell_type": "code",
   "execution_count": 35,
   "metadata": {
    "id": "GJl8Qwv_OgCN"
   },
   "outputs": [],
   "source": [
    "!mv temp.csv temppca2.csv"
   ]
  },
  {
   "cell_type": "code",
   "execution_count": 36,
   "metadata": {
    "id": "fQo9oAaWObE9"
   },
   "outputs": [
    {
     "name": "stdout",
     "output_type": "stream",
     "text": [
      "temp.csv\n",
      "['Arbol' 'SVM' 'KNN' 'LR' 'MLP' 'RF' 'ET']\n",
      "==========================================================\n",
      "Report\n",
      "==========================================================\n",
      "**********************************************************\n",
      "Mean and std\n",
      "**********************************************************\n",
      "Arbol: 0.554821 (0.142564)\n",
      "SVM: 0.687976 (0.146808)\n",
      "KNN: 0.600298 (0.134002)\n",
      "LR: 0.742024 (0.098265)\n",
      "MLP: 0.647381 (0.121114)\n",
      "RF: 0.636964 (0.159041)\n",
      "ET: 0.602857 (0.135948)\n",
      "**********************************************************\n",
      "Statistical tests\n",
      "**********************************************************\n",
      "----------------------------------------------------------\n",
      "Checking parametric conditions \n",
      "----------------------------------------------------------\n",
      "Checking independence \n",
      "Ok\n",
      "Checking normality using Shapiro-Wilk's test for normality, alpha=0.05\n",
      "W: 0.955169, p:0.013647\n",
      "The null hypothesis (normality) is rejected\n",
      "Checking heteroscedasticity using Levene's test, alpha=0.05\n",
      "W: 0.579806, p:0.745021\n",
      "The null hypothesis (heteroscedasticity) is accepted\n",
      "Conditions for a parametric test are not fulfilled, applying a non-parametric test\n",
      "----------------------------------------------------------\n",
      "Working with more than 2 algorithms\n",
      "----------------------------------------------------------\n",
      "----------------------------------------------------------\n",
      "Applying Friedman test\n",
      "----------------------------------------------------------\n",
      "F-value: 4.774255, p-value: 0.0005703072942587761\n",
      "Null hypothesis is rejected; hence, models have different performance\n",
      "Technique      Ranking\n",
      "-----------  ---------\n",
      "LR                5.85\n",
      "SVM               5.15\n",
      "RF                4.5\n",
      "MLP               4.05\n",
      "ET                3.35\n",
      "KNN               2.75\n",
      "Arbol             2.35\n",
      "Winner model: LR\n",
      "----------------------------------------------------------\n",
      "Applying Holm p-value adjustment procedure and analysing effect size\n",
      "----------------------------------------------------------\n",
      "Comparison      Zvalue      p-value    adjusted p-value\n",
      "------------  --------  -----------  ------------------\n",
      "LR vs Arbol   3.62284   0.000291381          0.00174829\n",
      "LR vs KNN     3.2088    0.00133288           0.0066644\n",
      "LR vs ET      2.58775   0.00966062           0.0386425\n",
      "LR vs MLP     1.86318   0.0624374            0.187312\n",
      "LR vs RF      1.39738   0.162299             0.324597\n",
      "LR vs SVM     0.724569  0.468717             0.468717\n",
      "There is a significant difference between the models: LR (mean: 0.742024, std: 0.098265) and Arbol (mean: 0.554821, std: 0.142564) (Cohen's d=1.4505369068782465, Large)\n",
      "There is a significant difference between the models: LR (mean: 0.742024, std: 0.098265) and KNN (mean: 0.600298, std: 0.134002) (Cohen's d=1.144284835770306, Large)\n",
      "There is a significant difference between the models: LR (mean: 0.742024, std: 0.098265) and ET (mean: 0.602857, std: 0.135948) (Cohen's d=1.113076757907846, Large)\n",
      "There is a significant difference between the models: LR (mean: 0.742024, std: 0.098265) and MLP (mean: 0.647381, std: 0.121114) (Cohen's d=0.8141432632276507, Large)\n",
      "There is a significant difference between the models: LR (mean: 0.742024, std: 0.098265) and RF (mean: 0.636964, std: 0.159041) (Cohen's d=0.7539586708916548, Large)\n",
      "There is a significant difference between the models: LR (mean: 0.742024, std: 0.098265) and SVM (mean: 0.687976, std: 0.146808) (Cohen's d=0.41046539140805216, Medium)\n",
      "Eta squared: 0.152256 (Large)\n"
     ]
    },
    {
     "data": {
      "image/png": "[encoded data removed]",
      "text/plain": [
       "<Figure size 432x288 with 1 Axes>"
      ]
     },
     "metadata": {
      "needs_background": "light"
     },
     "output_type": "display_data"
    }
   ],
   "source": [
    "compare_methods(X_pca10,Y,listAlgorithms,listParams,listNames,metric='auroc')"
   ]
  },
  {
   "cell_type": "code",
   "execution_count": 37,
   "metadata": {},
   "outputs": [
    {
     "name": "stdout",
     "output_type": "stream",
     "text": [
      "temp.csv\n",
      "['Arbol' 'SVM' 'KNN' 'LR' 'MLP' 'RF' 'ET']\n",
      "==========================================================\n",
      "Report\n",
      "==========================================================\n",
      "**********************************************************\n",
      "Mean and std\n",
      "**********************************************************\n",
      "Arbol: 0.527381 (0.261071)\n",
      "SVM: 0.653095 (0.207801)\n",
      "KNN: 0.546905 (0.189275)\n",
      "LR: 0.704167 (0.182774)\n",
      "MLP: 0.629286 (0.204494)\n",
      "RF: 0.628095 (0.242833)\n",
      "ET: 0.588889 (0.225257)\n",
      "**********************************************************\n",
      "Statistical tests\n",
      "**********************************************************\n",
      "----------------------------------------------------------\n",
      "Checking parametric conditions \n",
      "----------------------------------------------------------\n",
      "Checking independence \n",
      "Ok\n",
      "Checking normality using Shapiro-Wilk's test for normality, alpha=0.05\n",
      "W: 0.953102, p:0.010574\n",
      "The null hypothesis (normality) is rejected\n",
      "Checking heteroscedasticity using Levene's test, alpha=0.05\n",
      "W: 0.161071, p:0.986019\n",
      "The null hypothesis (heteroscedasticity) is accepted\n",
      "Conditions for a parametric test are not fulfilled, applying a non-parametric test\n",
      "----------------------------------------------------------\n",
      "Working with more than 2 algorithms\n",
      "----------------------------------------------------------\n",
      "----------------------------------------------------------\n",
      "Applying Friedman test\n",
      "----------------------------------------------------------\n",
      "F-value: 4.636364, p-value: 0.000722916359073511\n",
      "Null hypothesis is rejected; hence, models have different performance\n",
      "Technique      Ranking\n",
      "-----------  ---------\n",
      "LR                5.9\n",
      "SVM               4.9\n",
      "MLP               4.45\n",
      "RF                4.35\n",
      "ET                3.35\n",
      "Arbol             2.55\n",
      "KNN               2.5\n",
      "Winner model: LR\n",
      "----------------------------------------------------------\n",
      "Applying Holm p-value adjustment procedure and analysing effect size\n",
      "----------------------------------------------------------\n",
      "Comparison      Zvalue      p-value    adjusted p-value\n",
      "------------  --------  -----------  ------------------\n",
      "LR vs KNN      3.51933  0.000432631          0.00259579\n",
      "LR vs Arbol    3.46758  0.000525168          0.00262584\n",
      "LR vs ET       2.6395   0.00830282           0.0332113\n",
      "LR vs RF       1.6044   0.108625             0.325876\n",
      "LR vs MLP      1.50089  0.133383             0.325876\n",
      "LR vs SVM      1.0351   0.300623             0.325876\n",
      "There is a significant difference between the models: LR (mean: 0.704167, std: 0.182774) and KNN (mean: 0.546905, std: 0.189275) (Cohen's d=0.8018777519151786, Large)\n",
      "There is a significant difference between the models: LR (mean: 0.704167, std: 0.182774) and Arbol (mean: 0.527381, std: 0.261071) (Cohen's d=0.7442404048290105, Large)\n",
      "There is a significant difference between the models: LR (mean: 0.704167, std: 0.182774) and ET (mean: 0.588889, std: 0.225257) (Cohen's d=0.5331661315376514, Large)\n",
      "There is a significant difference between the models: LR (mean: 0.704167, std: 0.182774) and RF (mean: 0.628095, std: 0.242833) (Cohen's d=0.335801241946206, Medium)\n",
      "There is a significant difference between the models: LR (mean: 0.704167, std: 0.182774) and MLP (mean: 0.629286, std: 0.204494) (Cohen's d=0.3662935360217717, Medium)\n",
      "There is a significant difference between the models: LR (mean: 0.704167, std: 0.182774) and SVM (mean: 0.653095, std: 0.207801) (Cohen's d=0.24759091753730209, Medium)\n",
      "Eta squared: 0.063895 (Large)\n"
     ]
    },
    {
     "data": {
      "image/png": "[encoded data removed]",
      "text/plain": [
       "<Figure size 432x288 with 1 Axes>"
      ]
     },
     "metadata": {
      "needs_background": "light"
     },
     "output_type": "display_data"
    }
   ],
   "source": [
    "compare_methods(X_pca10,Y,listAlgorithms,listParams,listNames,metric='precision')"
   ]
  },
  {
   "cell_type": "code",
   "execution_count": 38,
   "metadata": {},
   "outputs": [
    {
     "name": "stdout",
     "output_type": "stream",
     "text": [
      "temp.csv\n",
      "['Arbol' 'SVM' 'KNN' 'LR' 'MLP' 'RF' 'ET']\n",
      "==========================================================\n",
      "Report\n",
      "==========================================================\n",
      "**********************************************************\n",
      "Mean and std\n",
      "**********************************************************\n",
      "Arbol: 0.533333 (0.210603)\n",
      "SVM: 0.699405 (0.160499)\n",
      "KNN: 0.820238 (0.163356)\n",
      "LR: 0.755952 (0.158136)\n",
      "MLP: 0.698214 (0.186606)\n",
      "RF: 0.610714 (0.180077)\n",
      "ET: 0.616667 (0.192975)\n",
      "**********************************************************\n",
      "Statistical tests\n",
      "**********************************************************\n",
      "----------------------------------------------------------\n",
      "Checking parametric conditions \n",
      "----------------------------------------------------------\n",
      "Checking independence \n",
      "Ok\n",
      "Checking normality using Shapiro-Wilk's test for normality, alpha=0.05\n",
      "W: 0.954985, p:0.013339\n",
      "The null hypothesis (normality) is rejected\n",
      "Checking heteroscedasticity using Levene's test, alpha=0.05\n",
      "W: 0.265182, p:0.951085\n",
      "The null hypothesis (heteroscedasticity) is accepted\n",
      "Conditions for a parametric test are not fulfilled, applying a non-parametric test\n",
      "----------------------------------------------------------\n",
      "Working with more than 2 algorithms\n",
      "----------------------------------------------------------\n",
      "----------------------------------------------------------\n",
      "Applying Friedman test\n",
      "----------------------------------------------------------\n",
      "F-value: 3.524851, p-value: 0.00513529947201663\n",
      "Null hypothesis is rejected; hence, models have different performance\n",
      "Technique      Ranking\n",
      "-----------  ---------\n",
      "KNN               5.7\n",
      "LR                5.05\n",
      "MLP               4.35\n",
      "SVM               4.15\n",
      "ET                3.2\n",
      "RF                3\n",
      "Arbol             2.55\n",
      "Winner model: KNN\n",
      "----------------------------------------------------------\n",
      "Applying Holm p-value adjustment procedure and analysing effect size\n",
      "----------------------------------------------------------\n",
      "Comparison      Zvalue     p-value    adjusted p-value\n",
      "------------  --------  ----------  ------------------\n",
      "KNN vs Arbol  3.26056   0.00111193          0.00667155\n",
      "KNN vs RF     2.79477   0.00519374          0.0259687\n",
      "KNN vs ET     2.58775   0.00966062          0.0386425\n",
      "KNN vs SVM    1.6044    0.108625            0.325876\n",
      "KNN vs MLP    1.39738   0.162299            0.325876\n",
      "KNN vs LR     0.672814  0.501066            0.501066\n",
      "There is a significant difference between the models: KNN (mean: 0.820238, std: 0.163356) and Arbol (mean: 0.533333, std: 0.210603) (Cohen's d=1.4441958820173628, Large)\n",
      "There is a significant difference between the models: KNN (mean: 0.820238, std: 0.163356) and RF (mean: 0.610714, std: 0.180077) (Cohen's d=1.156188979417132, Large)\n",
      "There is a significant difference between the models: KNN (mean: 0.820238, std: 0.163356) and ET (mean: 0.616667, std: 0.192975) (Cohen's d=1.0802394147668513, Large)\n",
      "There is a significant difference between the models: KNN (mean: 0.820238, std: 0.163356) and SVM (mean: 0.699405, std: 0.160499) (Cohen's d=0.7078978992451783, Large)\n",
      "There is a significant difference between the models: KNN (mean: 0.820238, std: 0.163356) and MLP (mean: 0.698214, std: 0.186606) (Cohen's d=0.660114094539887, Large)\n",
      "We can't say that there is a significant difference in the performance of the models: KNN (mean: 0.820238, std: 0.163356) and LR (mean: 0.755952, std: 0.158136) (Cohen's d=0.37934845139213835, Medium)\n",
      "Eta squared: 0.199434 (Large)\n"
     ]
    },
    {
     "data": {
      "image/png": "[encoded data removed]",
      "text/plain": [
       "<Figure size 432x288 with 1 Axes>"
      ]
     },
     "metadata": {
      "needs_background": "light"
     },
     "output_type": "display_data"
    }
   ],
   "source": [
    "compare_methods(X_pca10,Y,listAlgorithms,listParams,listNames,metric='recall')"
   ]
  },
  {
   "cell_type": "code",
   "execution_count": 39,
   "metadata": {},
   "outputs": [
    {
     "name": "stdout",
     "output_type": "stream",
     "text": [
      "temp.csv\n",
      "['Arbol' 'SVM' 'KNN' 'LR' 'MLP' 'RF' 'ET']\n",
      "==========================================================\n",
      "Report\n",
      "==========================================================\n",
      "**********************************************************\n",
      "Mean and std\n",
      "**********************************************************\n",
      "Arbol: 0.510000 (0.096505)\n",
      "SVM: 0.668182 (0.134487)\n",
      "KNN: 0.570000 (0.128504)\n",
      "LR: 0.725455 (0.095675)\n",
      "MLP: 0.637273 (0.133698)\n",
      "RF: 0.607273 (0.160824)\n",
      "ET: 0.577273 (0.135650)\n",
      "**********************************************************\n",
      "Statistical tests\n",
      "**********************************************************\n",
      "----------------------------------------------------------\n",
      "Checking parametric conditions \n",
      "----------------------------------------------------------\n",
      "Checking independence \n",
      "Ok\n",
      "Checking normality using Shapiro-Wilk's test for normality, alpha=0.05\n",
      "W: 0.939325, p:0.002082\n",
      "The null hypothesis (normality) is rejected\n",
      "Checking heteroscedasticity using Levene's test, alpha=0.05\n",
      "W: 0.638973, p:0.698580\n",
      "The null hypothesis (heteroscedasticity) is accepted\n",
      "Conditions for a parametric test are not fulfilled, applying a non-parametric test\n",
      "----------------------------------------------------------\n",
      "Working with more than 2 algorithms\n",
      "----------------------------------------------------------\n",
      "----------------------------------------------------------\n",
      "Applying Friedman test\n",
      "----------------------------------------------------------\n",
      "F-value: 5.165261, p-value: 0.00029347217794772895\n",
      "Null hypothesis is rejected; hence, models have different performance\n",
      "Technique      Ranking\n",
      "-----------  ---------\n",
      "LR                6.05\n",
      "SVM               5\n",
      "MLP               4.45\n",
      "RF                4.05\n",
      "ET                3.25\n",
      "KNN               3\n",
      "Arbol             2.2\n",
      "Winner model: LR\n",
      "----------------------------------------------------------\n",
      "Applying Holm p-value adjustment procedure and analysing effect size\n",
      "----------------------------------------------------------\n",
      "Comparison      Zvalue      p-value    adjusted p-value\n",
      "------------  --------  -----------  ------------------\n",
      "LR vs Arbol    3.98513  6.74436e-05         0.000404662\n",
      "LR vs KNN      3.15705  0.00159374          0.0079687\n",
      "LR vs ET       2.89828  0.00375221          0.0150088\n",
      "LR vs RF       2.0702   0.0384339           0.115302\n",
      "LR vs MLP      1.65616  0.09769             0.19538\n",
      "LR vs SVM      1.08685  0.277102            0.277102\n",
      "There is a significant difference between the models: LR (mean: 0.725455, std: 0.095675) and Arbol (mean: 0.510000, std: 0.096505) (Cohen's d=2.127131892306597, Large)\n",
      "There is a significant difference between the models: LR (mean: 0.725455, std: 0.095675) and KNN (mean: 0.570000, std: 0.128504) (Cohen's d=1.301825013551301, Large)\n",
      "There is a significant difference between the models: LR (mean: 0.725455, std: 0.095675) and ET (mean: 0.577273, std: 0.135650) (Cohen's d=1.1976627609221013, Large)\n",
      "There is a significant difference between the models: LR (mean: 0.725455, std: 0.095675) and RF (mean: 0.607273, std: 0.160824) (Cohen's d=0.8473056903386197, Large)\n",
      "There is a significant difference between the models: LR (mean: 0.725455, std: 0.095675) and MLP (mean: 0.637273, std: 0.133698) (Cohen's d=0.7196161643135129, Large)\n",
      "There is a significant difference between the models: LR (mean: 0.725455, std: 0.095675) and SVM (mean: 0.668182, std: 0.134487) (Cohen's d=0.46556102147070066, Medium)\n",
      "Eta squared: 0.206845 (Large)\n"
     ]
    },
    {
     "data": {
      "image/png": "[encoded data removed]",
      "text/plain": [
       "<Figure size 432x288 with 1 Axes>"
      ]
     },
     "metadata": {
      "needs_background": "light"
     },
     "output_type": "display_data"
    }
   ],
   "source": [
    "compare_methods(X_pca10,Y,listAlgorithms,listParams,listNames,metric='accuracy')"
   ]
  },
  {
   "cell_type": "code",
   "execution_count": 40,
   "metadata": {
    "id": "uUqwDOQLOjtd"
   },
   "outputs": [],
   "source": [
    "!mv temp.csv temppca10.csv"
   ]
  },
  {
   "cell_type": "markdown",
   "metadata": {
    "id": "7wgUs9MrOuQE"
   },
   "source": [
    "# PCA with 100 components"
   ]
  },
  {
   "cell_type": "code",
   "execution_count": 41,
   "metadata": {
    "id": "Ef54_v0COuQF"
   },
   "outputs": [],
   "source": [
    "pca = PCA(n_components=100)"
   ]
  },
  {
   "cell_type": "code",
   "execution_count": 42,
   "metadata": {
    "id": "ejF2FGo0OuQG"
   },
   "outputs": [
    {
     "data": {
      "text/plain": [
       "PCA(n_components=100)"
      ]
     },
     "execution_count": 42,
     "metadata": {},
     "output_type": "execute_result"
    }
   ],
   "source": [
    "pca.fit(X)"
   ]
  },
  {
   "cell_type": "code",
   "execution_count": 43,
   "metadata": {
    "id": "AAI4QlOZOuQG"
   },
   "outputs": [],
   "source": [
    "X_pca100 = pca.transform(X)"
   ]
  },
  {
   "cell_type": "code",
   "execution_count": 44,
   "metadata": {
    "id": "JVbgf7IdOuQH",
    "scrolled": true
   },
   "outputs": [
    {
     "name": "stdout",
     "output_type": "stream",
     "text": [
      "temp.csv\n",
      "['Arbol' 'SVM' 'KNN' 'LR' 'MLP' 'RF' 'ET']\n",
      "==========================================================\n",
      "Report\n",
      "==========================================================\n",
      "**********************************************************\n",
      "Mean and std\n",
      "**********************************************************\n",
      "Arbol: 0.486250 (0.164736)\n",
      "SVM: 0.720298 (0.158374)\n",
      "KNN: 0.738810 (0.135382)\n",
      "LR: 0.717024 (0.138283)\n",
      "MLP: 0.554226 (0.138358)\n",
      "RF: 0.536429 (0.125664)\n",
      "ET: 0.527024 (0.145345)\n",
      "**********************************************************\n",
      "Statistical tests\n",
      "**********************************************************\n",
      "----------------------------------------------------------\n",
      "Checking parametric conditions \n",
      "----------------------------------------------------------\n",
      "Checking independence \n",
      "Ok\n",
      "Checking normality using Shapiro-Wilk's test for normality, alpha=0.05\n",
      "W: 0.979387, p:0.302334\n",
      "The null hypothesis (normality) is rejected\n",
      "Checking heteroscedasticity using Levene's test, alpha=0.05\n",
      "W: 0.284352, p:0.942293\n",
      "The null hypothesis (heteroscedasticity) is accepted\n",
      "Conditions for a parametric test are not fulfilled, applying a non-parametric test\n",
      "----------------------------------------------------------\n",
      "Working with more than 2 algorithms\n",
      "----------------------------------------------------------\n",
      "----------------------------------------------------------\n",
      "Applying Friedman test\n",
      "----------------------------------------------------------\n",
      "F-value: 6.403423, p-value: 3.8766978901039195e-05\n",
      "Null hypothesis is rejected; hence, models have different performance\n",
      "Technique      Ranking\n",
      "-----------  ---------\n",
      "KNN               5.6\n",
      "SVM               5.5\n",
      "LR                5.35\n",
      "Arbol             3.05\n",
      "ET                2.95\n",
      "RF                2.8\n",
      "MLP               2.75\n",
      "Winner model: KNN\n",
      "----------------------------------------------------------\n",
      "Applying Holm p-value adjustment procedure and analysing effect size\n",
      "----------------------------------------------------------\n",
      "Comparison      Zvalue     p-value    adjusted p-value\n",
      "------------  --------  ----------  ------------------\n",
      "KNN vs MLP    2.95003   0.00317743           0.0190646\n",
      "KNN vs RF     2.89828   0.00375221           0.0190646\n",
      "KNN vs ET     2.74301   0.00608787           0.0243515\n",
      "KNN vs Arbol  2.6395    0.00830282           0.0249085\n",
      "KNN vs LR     0.258775  0.795809             1\n",
      "KNN vs SVM    0.10351   0.917558             1\n",
      "There is a significant difference between the models: KNN (mean: 0.738810, std: 0.135382) and MLP (mean: 0.554226, std: 0.138358) (Cohen's d=1.2793213830916927, Large)\n",
      "There is a significant difference between the models: KNN (mean: 0.738810, std: 0.135382) and RF (mean: 0.536429, std: 0.125664) (Cohen's d=1.469948794538955, Large)\n",
      "There is a significant difference between the models: KNN (mean: 0.738810, std: 0.135382) and ET (mean: 0.527024, std: 0.145345) (Cohen's d=1.4305085413829564, Large)\n",
      "There is a significant difference between the models: KNN (mean: 0.738810, std: 0.135382) and Arbol (mean: 0.486250, std: 0.164736) (Cohen's d=1.5891122610813064, Large)\n",
      "We can't say that there is a significant difference in the performance of the models: KNN (mean: 0.738810, std: 0.135382) and LR (mean: 0.717024, std: 0.138283) (Cohen's d=0.15103549475094208, Small)\n",
      "We can't say that there is a significant difference in the performance of the models: KNN (mean: 0.738810, std: 0.135382) and SVM (mean: 0.720298, std: 0.158374) (Cohen's d=0.11920363918419295, Small)\n",
      "Eta squared: 0.327347 (Large)\n"
     ]
    },
    {
     "data": {
      "image/png": "[encoded data removed]",
      "text/plain": [
       "<Figure size 432x288 with 1 Axes>"
      ]
     },
     "metadata": {
      "needs_background": "light"
     },
     "output_type": "display_data"
    }
   ],
   "source": [
    "compare_methods(X_pca100,Y,listAlgorithms,listParams,listNames,metric='auroc')"
   ]
  },
  {
   "cell_type": "code",
   "execution_count": 45,
   "metadata": {},
   "outputs": [
    {
     "name": "stdout",
     "output_type": "stream",
     "text": [
      "temp.csv\n",
      "['Arbol' 'SVM' 'KNN' 'LR' 'MLP' 'RF' 'ET']\n",
      "==========================================================\n",
      "Report\n",
      "==========================================================\n",
      "**********************************************************\n",
      "Mean and std\n",
      "**********************************************************\n",
      "Arbol: 0.462500 (0.264975)\n",
      "SVM: 0.665476 (0.227156)\n",
      "KNN: 0.748333 (0.155000)\n",
      "LR: 0.665476 (0.266542)\n",
      "MLP: 0.538571 (0.262030)\n",
      "RF: 0.573333 (0.292494)\n",
      "ET: 0.403968 (0.291547)\n",
      "**********************************************************\n",
      "Statistical tests\n",
      "**********************************************************\n",
      "----------------------------------------------------------\n",
      "Checking parametric conditions \n",
      "----------------------------------------------------------\n",
      "Checking independence \n",
      "Ok\n",
      "Checking normality using Shapiro-Wilk's test for normality, alpha=0.05\n",
      "W: 0.942946, p:0.003151\n",
      "The null hypothesis (normality) is rejected\n",
      "Checking heteroscedasticity using Levene's test, alpha=0.05\n",
      "W: 0.526562, p:0.786047\n",
      "The null hypothesis (heteroscedasticity) is accepted\n",
      "Conditions for a parametric test are not fulfilled, applying a non-parametric test\n",
      "----------------------------------------------------------\n",
      "Working with more than 2 algorithms\n",
      "----------------------------------------------------------\n",
      "----------------------------------------------------------\n",
      "Applying Friedman test\n",
      "----------------------------------------------------------\n",
      "F-value: 3.711223, p-value: 0.003676067763420443\n",
      "Null hypothesis is rejected; hence, models have different performance\n",
      "Technique      Ranking\n",
      "-----------  ---------\n",
      "KNN               5.55\n",
      "LR                5.05\n",
      "SVM               5\n",
      "RF                3.65\n",
      "Arbol             3.05\n",
      "ET                2.85\n",
      "MLP               2.85\n",
      "Winner model: KNN\n",
      "----------------------------------------------------------\n",
      "Applying Holm p-value adjustment procedure and analysing effect size\n",
      "----------------------------------------------------------\n",
      "Comparison      Zvalue     p-value    adjusted p-value\n",
      "------------  --------  ----------  ------------------\n",
      "KNN vs MLP    2.79477   0.00519374           0.0311624\n",
      "KNN vs ET     2.79477   0.00519374           0.0311624\n",
      "KNN vs Arbol  2.58775   0.00966062           0.0386425\n",
      "KNN vs RF     1.96669   0.0492193            0.147658\n",
      "KNN vs SVM    0.569304  0.56915              1\n",
      "KNN vs LR     0.517549  0.604773             1\n",
      "There is a significant difference between the models: KNN (mean: 0.748333, std: 0.155000) and MLP (mean: 0.538571, std: 0.262030) (Cohen's d=0.9243979920504709, Large)\n",
      "There is a significant difference between the models: KNN (mean: 0.748333, std: 0.155000) and ET (mean: 0.403968, std: 0.291547) (Cohen's d=1.3992433475317887, Large)\n",
      "There is a significant difference between the models: KNN (mean: 0.748333, std: 0.155000) and Arbol (mean: 0.462500, std: 0.264975) (Cohen's d=1.2492197696132907, Large)\n",
      "There is a significant difference between the models: KNN (mean: 0.748333, std: 0.155000) and RF (mean: 0.573333, std: 0.292494) (Cohen's d=0.7092723941774143, Large)\n",
      "We can't say that there is a significant difference in the performance of the models: KNN (mean: 0.748333, std: 0.155000) and SVM (mean: 0.665476, std: 0.227156) (Cohen's d=0.4042344750724759, Medium)\n",
      "We can't say that there is a significant difference in the performance of the models: KNN (mean: 0.748333, std: 0.155000) and LR (mean: 0.665476, std: 0.266542) (Cohen's d=0.3605334783782715, Medium)\n",
      "Eta squared: 0.164044 (Large)\n"
     ]
    },
    {
     "data": {
      "image/png": "[encoded data removed]",
      "text/plain": [
       "<Figure size 432x288 with 1 Axes>"
      ]
     },
     "metadata": {
      "needs_background": "light"
     },
     "output_type": "display_data"
    }
   ],
   "source": [
    "compare_methods(X_pca100,Y,listAlgorithms,listParams,listNames,metric='precision')"
   ]
  },
  {
   "cell_type": "code",
   "execution_count": 46,
   "metadata": {},
   "outputs": [
    {
     "name": "stdout",
     "output_type": "stream",
     "text": [
      "temp.csv\n",
      "['Arbol' 'SVM' 'KNN' 'LR' 'MLP' 'RF' 'ET']\n",
      "==========================================================\n",
      "Report\n",
      "==========================================================\n",
      "**********************************************************\n",
      "Mean and std\n",
      "**********************************************************\n",
      "Arbol: 0.451190 (0.227530)\n",
      "SVM: 0.733333 (0.242705)\n",
      "KNN: 0.701786 (0.235649)\n",
      "LR: 0.703571 (0.198381)\n",
      "MLP: 0.529762 (0.209284)\n",
      "RF: 0.458929 (0.295714)\n",
      "ET: 0.495238 (0.391383)\n",
      "**********************************************************\n",
      "Statistical tests\n",
      "**********************************************************\n",
      "----------------------------------------------------------\n",
      "Checking parametric conditions \n",
      "----------------------------------------------------------\n",
      "Checking independence \n",
      "Ok\n",
      "Checking normality using Shapiro-Wilk's test for normality, alpha=0.05\n",
      "W: 0.942648, p:0.003045\n",
      "The null hypothesis (normality) is rejected\n",
      "Checking heteroscedasticity using Levene's test, alpha=0.05\n",
      "W: 1.792220, p:0.115056\n",
      "The null hypothesis (heteroscedasticity) is rejected\n",
      "Conditions for a parametric test are not fulfilled, applying a non-parametric test\n",
      "----------------------------------------------------------\n",
      "Working with more than 2 algorithms\n",
      "----------------------------------------------------------\n",
      "----------------------------------------------------------\n",
      "Applying Friedman test\n",
      "----------------------------------------------------------\n",
      "F-value: 2.297915, p-value: 0.04770394244204901\n",
      "Null hypothesis is rejected; hence, models have different performance\n",
      "Technique      Ranking\n",
      "-----------  ---------\n",
      "SVM               5.2\n",
      "LR                5\n",
      "KNN               4.9\n",
      "ET                3.4\n",
      "RF                3.2\n",
      "MLP               3.15\n",
      "Arbol             3.15\n",
      "Winner model: SVM\n",
      "----------------------------------------------------------\n",
      "Applying Holm p-value adjustment procedure and analysing effect size\n",
      "----------------------------------------------------------\n",
      "Comparison      Zvalue    p-value    adjusted p-value\n",
      "------------  --------  ---------  ------------------\n",
      "SVM vs Arbol   2.12195  0.0338418            0.203051\n",
      "SVM vs MLP     2.12195  0.0338418            0.203051\n",
      "SVM vs RF      2.0702   0.0384339            0.203051\n",
      "SVM vs ET      1.86318  0.0624374            0.203051\n",
      "SVM vs KNN     0.31053  0.756158             1\n",
      "SVM vs LR      0.20702  0.835994             1\n",
      "There is a significant difference between the models: SVM (mean: 0.733333, std: 0.242705) and Arbol (mean: 0.451190, std: 0.227530) (Cohen's d=1.1378330520760418, Large)\n",
      "There is a significant difference between the models: SVM (mean: 0.733333, std: 0.242705) and MLP (mean: 0.529762, std: 0.209284) (Cohen's d=0.8522288434294429, Large)\n",
      "There is a significant difference between the models: SVM (mean: 0.733333, std: 0.242705) and RF (mean: 0.458929, std: 0.295714) (Cohen's d=0.9623387620262484, Large)\n",
      "There is a significant difference between the models: SVM (mean: 0.733333, std: 0.242705) and ET (mean: 0.495238, std: 0.391383) (Cohen's d=0.6936346657303346, Large)\n",
      "We can't say that there is a significant difference in the performance of the models: SVM (mean: 0.733333, std: 0.242705) and KNN (mean: 0.701786, std: 0.235649) (Cohen's d=0.1251183318411305, Small)\n",
      "We can't say that there is a significant difference in the performance of the models: SVM (mean: 0.733333, std: 0.242705) and LR (mean: 0.703571, std: 0.198381) (Cohen's d=0.12738147254709795, Small)\n",
      "Eta squared: 0.161743 (Large)\n"
     ]
    },
    {
     "data": {
      "image/png": "[encoded data removed]",
      "text/plain": [
       "<Figure size 432x288 with 1 Axes>"
      ]
     },
     "metadata": {
      "needs_background": "light"
     },
     "output_type": "display_data"
    }
   ],
   "source": [
    "compare_methods(X_pca100,Y,listAlgorithms,listParams,listNames,metric='recall')"
   ]
  },
  {
   "cell_type": "code",
   "execution_count": 47,
   "metadata": {},
   "outputs": [
    {
     "name": "stdout",
     "output_type": "stream",
     "text": [
      "temp.csv\n",
      "['Arbol' 'SVM' 'KNN' 'LR' 'MLP' 'RF' 'ET']\n",
      "==========================================================\n",
      "Report\n",
      "==========================================================\n",
      "**********************************************************\n",
      "Mean and std\n",
      "**********************************************************\n",
      "Arbol: 0.439091 (0.153959)\n",
      "SVM: 0.685455 (0.150162)\n",
      "KNN: 0.724545 (0.125971)\n",
      "LR: 0.687273 (0.110909)\n",
      "MLP: 0.519091 (0.103449)\n",
      "RF: 0.488182 (0.113695)\n",
      "ET: 0.421818 (0.138779)\n",
      "**********************************************************\n",
      "Statistical tests\n",
      "**********************************************************\n",
      "----------------------------------------------------------\n",
      "Checking parametric conditions \n",
      "----------------------------------------------------------\n",
      "Checking independence \n",
      "Ok\n",
      "Checking normality using Shapiro-Wilk's test for normality, alpha=0.05\n",
      "W: 0.967233, p:0.063556\n",
      "The null hypothesis (normality) is rejected\n",
      "Checking heteroscedasticity using Levene's test, alpha=0.05\n",
      "W: 0.787697, p:0.582875\n",
      "The null hypothesis (heteroscedasticity) is accepted\n",
      "Conditions for a parametric test are not fulfilled, applying a non-parametric test\n",
      "----------------------------------------------------------\n",
      "Working with more than 2 algorithms\n",
      "----------------------------------------------------------\n",
      "----------------------------------------------------------\n",
      "Applying Friedman test\n",
      "----------------------------------------------------------\n",
      "F-value: 8.445483, p-value: 1.7803417514672404e-06\n",
      "Null hypothesis is rejected; hence, models have different performance\n",
      "Technique      Ranking\n",
      "-----------  ---------\n",
      "KNN               5.85\n",
      "LR                5.45\n",
      "SVM               5.4\n",
      "RF                3.3\n",
      "MLP               3\n",
      "Arbol             2.7\n",
      "ET                2.3\n",
      "Winner model: KNN\n",
      "----------------------------------------------------------\n",
      "Applying Holm p-value adjustment procedure and analysing effect size\n",
      "----------------------------------------------------------\n",
      "Comparison      Zvalue      p-value    adjusted p-value\n",
      "------------  --------  -----------  ------------------\n",
      "KNN vs ET     3.6746    0.000238223          0.00142934\n",
      "KNN vs Arbol  3.26056   0.00111193           0.00555963\n",
      "KNN vs MLP    2.95003   0.00317743           0.0127097\n",
      "KNN vs RF     2.6395    0.00830282           0.0249085\n",
      "KNN vs SVM    0.465794  0.641363             1\n",
      "KNN vs LR     0.414039  0.678845             1\n",
      "There is a significant difference between the models: KNN (mean: 0.724545, std: 0.125971) and ET (mean: 0.421818, std: 0.138779) (Cohen's d=2.1670078063098726, Large)\n",
      "There is a significant difference between the models: KNN (mean: 0.724545, std: 0.125971) and Arbol (mean: 0.439091, std: 0.153959) (Cohen's d=1.9252173171855287, Large)\n",
      "There is a significant difference between the models: KNN (mean: 0.724545, std: 0.125971) and MLP (mean: 0.519091, std: 0.103449) (Cohen's d=1.691041255786323, Large)\n",
      "There is a significant difference between the models: KNN (mean: 0.724545, std: 0.125971) and RF (mean: 0.488182, std: 0.113695) (Cohen's d=1.8687795040759856, Large)\n",
      "We can't say that there is a significant difference in the performance of the models: KNN (mean: 0.724545, std: 0.125971) and SVM (mean: 0.685455, std: 0.150162) (Cohen's d=0.2675766982534335, Medium)\n",
      "We can't say that there is a significant difference in the performance of the models: KNN (mean: 0.724545, std: 0.125971) and LR (mean: 0.687273, std: 0.110909) (Cohen's d=0.2979466180024718, Medium)\n",
      "Eta squared: 0.458334 (Large)\n"
     ]
    },
    {
     "data": {
      "image/png": "[encoded data removed]",
      "text/plain": [
       "<Figure size 432x288 with 1 Axes>"
      ]
     },
     "metadata": {
      "needs_background": "light"
     },
     "output_type": "display_data"
    }
   ],
   "source": [
    "compare_methods(X_pca100,Y,listAlgorithms,listParams,listNames,metric='accuracy')"
   ]
  },
  {
   "cell_type": "code",
   "execution_count": 48,
   "metadata": {
    "id": "DNplq4INOuQI"
   },
   "outputs": [],
   "source": [
    "!mv temp.csv temppca100.csv"
   ]
  },
  {
   "cell_type": "markdown",
   "metadata": {
    "id": "B9xyvRUBJ4Yg"
   },
   "source": [
    "# TSNE with 2 components"
   ]
  },
  {
   "cell_type": "code",
   "execution_count": 49,
   "metadata": {
    "id": "cgeSd7wqJ4MA"
   },
   "outputs": [],
   "source": [
    "from sklearn.manifold import TSNE"
   ]
  },
  {
   "cell_type": "code",
   "execution_count": 50,
   "metadata": {
    "id": "VqpY0-F7JWkP"
   },
   "outputs": [],
   "source": [
    "Xtsne2 = TSNE(n_components=2).fit_transform(X)"
   ]
  },
  {
   "cell_type": "code",
   "execution_count": 51,
   "metadata": {
    "id": "JLGsE9ymKGAf",
    "scrolled": true
   },
   "outputs": [
    {
     "name": "stdout",
     "output_type": "stream",
     "text": [
      "temp.csv\n",
      "['Arbol' 'SVM' 'KNN' 'LR' 'MLP' 'RF' 'ET']\n",
      "==========================================================\n",
      "Report\n",
      "==========================================================\n",
      "**********************************************************\n",
      "Mean and std\n",
      "**********************************************************\n",
      "Arbol: 0.634881 (0.209142)\n",
      "SVM: 0.592560 (0.223117)\n",
      "KNN: 0.642679 (0.154557)\n",
      "LR: 0.613036 (0.167980)\n",
      "MLP: 0.612202 (0.136087)\n",
      "RF: 0.660357 (0.178705)\n",
      "ET: 0.726190 (0.177896)\n",
      "**********************************************************\n",
      "Statistical tests\n",
      "**********************************************************\n",
      "----------------------------------------------------------\n",
      "Checking parametric conditions \n",
      "----------------------------------------------------------\n",
      "Checking independence \n",
      "Ok\n",
      "Checking normality using Shapiro-Wilk's test for normality, alpha=0.05\n",
      "W: 0.943771, p:0.003468\n",
      "The null hypothesis (normality) is rejected\n",
      "Checking heteroscedasticity using Levene's test, alpha=0.05\n",
      "W: 0.551387, p:0.767055\n",
      "The null hypothesis (heteroscedasticity) is accepted\n",
      "Conditions for a parametric test are not fulfilled, applying a non-parametric test\n",
      "----------------------------------------------------------\n",
      "Working with more than 2 algorithms\n",
      "----------------------------------------------------------\n",
      "----------------------------------------------------------\n",
      "Applying Friedman test\n",
      "----------------------------------------------------------\n",
      "F-value: 0.936909, p-value: 0.4764233624885531\n",
      "Null hypothesis is rejected; hence, models have different performance\n",
      "Technique      Ranking\n",
      "-----------  ---------\n",
      "ET                5.4\n",
      "MLP               4\n",
      "RF                3.9\n",
      "LR                3.85\n",
      "Arbol             3.85\n",
      "KNN               3.75\n",
      "SVM               3.25\n",
      "Winner model: ET\n",
      "----------------------------------------------------------\n",
      "Applying Holm p-value adjustment procedure and analysing effect size\n",
      "----------------------------------------------------------\n",
      "Comparison      Zvalue    p-value    adjusted p-value\n",
      "------------  --------  ---------  ------------------\n",
      "ET vs SVM      2.22546  0.0260503            0.156302\n",
      "ET vs KNN      1.70791  0.0876526            0.438263\n",
      "ET vs Arbol    1.6044   0.108625             0.438263\n",
      "ET vs LR       1.6044   0.108625             0.438263\n",
      "ET vs RF       1.55265  0.120507             0.438263\n",
      "ET vs MLP      1.44914  0.147299             0.438263\n",
      "There is a significant difference between the models: ET (mean: 0.726190, std: 0.177896) and SVM (mean: 0.592560, std: 0.223117) (Cohen's d=0.6282848127208258, Large)\n",
      "There is a significant difference between the models: ET (mean: 0.726190, std: 0.177896) and KNN (mean: 0.642679, std: 0.154557) (Cohen's d=0.47544784163425335, Medium)\n",
      "There is a significant difference between the models: ET (mean: 0.726190, std: 0.177896) and Arbol (mean: 0.634881, std: 0.209142) (Cohen's d=0.44617302803451897, Medium)\n",
      "There is a significant difference between the models: ET (mean: 0.726190, std: 0.177896) and LR (mean: 0.613036, std: 0.167980) (Cohen's d=0.6204778796919954, Large)\n",
      "There is a significant difference between the models: ET (mean: 0.726190, std: 0.177896) and RF (mean: 0.660357, std: 0.178705) (Cohen's d=0.3502793358148839, Medium)\n",
      "There is a significant difference between the models: ET (mean: 0.726190, std: 0.177896) and MLP (mean: 0.612202, std: 0.136087) (Cohen's d=0.6827918939586153, Large)\n",
      "Eta squared: 0.048574 (Medium)\n"
     ]
    },
    {
     "data": {
      "image/png": "[encoded data removed]",
      "text/plain": [
       "<Figure size 432x288 with 1 Axes>"
      ]
     },
     "metadata": {
      "needs_background": "light"
     },
     "output_type": "display_data"
    }
   ],
   "source": [
    "compare_methods(Xtsne2,Y,listAlgorithms,listParams,listNames,metric='auroc')"
   ]
  },
  {
   "cell_type": "code",
   "execution_count": 52,
   "metadata": {},
   "outputs": [
    {
     "name": "stdout",
     "output_type": "stream",
     "text": [
      "temp.csv\n",
      "['Arbol' 'SVM' 'KNN' 'LR' 'MLP' 'RF' 'ET']\n",
      "==========================================================\n",
      "Report\n",
      "==========================================================\n",
      "**********************************************************\n",
      "Mean and std\n",
      "**********************************************************\n",
      "Arbol: 0.574524 (0.256874)\n",
      "SVM: 0.590000 (0.320780)\n",
      "KNN: 0.608333 (0.180624)\n",
      "LR: 0.569762 (0.235649)\n",
      "MLP: 0.640000 (0.226961)\n",
      "RF: 0.626667 (0.204423)\n",
      "ET: 0.704762 (0.170938)\n",
      "**********************************************************\n",
      "Statistical tests\n",
      "**********************************************************\n",
      "----------------------------------------------------------\n",
      "Checking parametric conditions \n",
      "----------------------------------------------------------\n",
      "Checking independence \n",
      "Ok\n",
      "Checking normality using Shapiro-Wilk's test for normality, alpha=0.05\n",
      "W: 0.948609, p:0.006135\n",
      "The null hypothesis (normality) is rejected\n",
      "Checking heteroscedasticity using Levene's test, alpha=0.05\n",
      "W: 0.701893, p:0.649096\n",
      "The null hypothesis (heteroscedasticity) is accepted\n",
      "Conditions for a parametric test are not fulfilled, applying a non-parametric test\n",
      "----------------------------------------------------------\n",
      "Working with more than 2 algorithms\n",
      "----------------------------------------------------------\n",
      "----------------------------------------------------------\n",
      "Applying Friedman test\n",
      "----------------------------------------------------------\n",
      "F-value: 0.913454, p-value: 0.49245404266033277\n",
      "Null hypothesis is rejected; hence, models have different performance\n",
      "Technique      Ranking\n",
      "-----------  ---------\n",
      "ET                5.3\n",
      "MLP               4.25\n",
      "RF                4.05\n",
      "Arbol             3.95\n",
      "KNN               3.6\n",
      "LR                3.45\n",
      "SVM               3.4\n",
      "Winner model: ET\n",
      "----------------------------------------------------------\n",
      "Applying Holm p-value adjustment procedure and analysing effect size\n",
      "----------------------------------------------------------\n",
      "Comparison      Zvalue    p-value    adjusted p-value\n",
      "------------  --------  ---------  ------------------\n",
      "ET vs SVM      1.96669  0.0492193            0.295316\n",
      "ET vs LR       1.91493  0.0555012            0.295316\n",
      "ET vs KNN      1.75967  0.0784643            0.313857\n",
      "ET vs Arbol    1.39738  0.162299             0.486896\n",
      "ET vs RF       1.29387  0.195709             0.486896\n",
      "ET vs MLP      1.08685  0.277102             0.486896\n",
      "There is a significant difference between the models: ET (mean: 0.704762, std: 0.170938) and SVM (mean: 0.590000, std: 0.320780) (Cohen's d=0.42359399269343173, Medium)\n",
      "There is a significant difference between the models: ET (mean: 0.704762, std: 0.170938) and LR (mean: 0.569762, std: 0.235649) (Cohen's d=0.6221549629649679, Large)\n",
      "There is a significant difference between the models: ET (mean: 0.704762, std: 0.170938) and KNN (mean: 0.608333, std: 0.180624) (Cohen's d=0.5202233574969692, Large)\n",
      "There is a significant difference between the models: ET (mean: 0.704762, std: 0.170938) and Arbol (mean: 0.574524, std: 0.256874) (Cohen's d=0.5662997568559357, Large)\n",
      "There is a significant difference between the models: ET (mean: 0.704762, std: 0.170938) and RF (mean: 0.626667, std: 0.204423) (Cohen's d=0.39319192127353325, Medium)\n",
      "There is a significant difference between the models: ET (mean: 0.704762, std: 0.170938) and MLP (mean: 0.640000, std: 0.226961) (Cohen's d=0.305798621465332, Medium)\n",
      "Eta squared: 0.033512 (Medium)\n"
     ]
    },
    {
     "data": {
      "image/png": "[encoded data removed]",
      "text/plain": [
       "<Figure size 432x288 with 1 Axes>"
      ]
     },
     "metadata": {
      "needs_background": "light"
     },
     "output_type": "display_data"
    }
   ],
   "source": [
    "compare_methods(Xtsne2,Y,listAlgorithms,listParams,listNames,metric='precision')"
   ]
  },
  {
   "cell_type": "code",
   "execution_count": 53,
   "metadata": {},
   "outputs": [
    {
     "name": "stdout",
     "output_type": "stream",
     "text": [
      "temp.csv\n",
      "['Arbol' 'SVM' 'KNN' 'LR' 'MLP' 'RF' 'ET']\n",
      "==========================================================\n",
      "Report\n",
      "==========================================================\n",
      "**********************************************************\n",
      "Mean and std\n",
      "**********************************************************\n",
      "Arbol: 0.633333 (0.313880)\n",
      "SVM: 0.457143 (0.281929)\n",
      "KNN: 0.565476 (0.271222)\n",
      "LR: 0.596429 (0.233798)\n",
      "MLP: 0.531548 (0.220737)\n",
      "RF: 0.654167 (0.250686)\n",
      "ET: 0.750000 (0.169700)\n",
      "**********************************************************\n",
      "Statistical tests\n",
      "**********************************************************\n",
      "----------------------------------------------------------\n",
      "Checking parametric conditions \n",
      "----------------------------------------------------------\n",
      "Checking independence \n",
      "Ok\n",
      "Checking normality using Shapiro-Wilk's test for normality, alpha=0.05\n",
      "W: 0.947973, p:0.005687\n",
      "The null hypothesis (normality) is rejected\n",
      "Checking heteroscedasticity using Levene's test, alpha=0.05\n",
      "W: 0.779352, p:0.589211\n",
      "The null hypothesis (heteroscedasticity) is accepted\n",
      "Conditions for a parametric test are not fulfilled, applying a non-parametric test\n",
      "----------------------------------------------------------\n",
      "Working with more than 2 algorithms\n",
      "----------------------------------------------------------\n",
      "----------------------------------------------------------\n",
      "Applying Friedman test\n",
      "----------------------------------------------------------\n",
      "F-value: 1.212766, p-value: 0.3141028862895814\n",
      "Null hypothesis is rejected; hence, models have different performance\n",
      "Technique      Ranking\n",
      "-----------  ---------\n",
      "ET                5.3\n",
      "LR                4.3\n",
      "RF                4.2\n",
      "Arbol             4.1\n",
      "MLP               3.7\n",
      "KNN               3.45\n",
      "SVM               2.95\n",
      "Winner model: ET\n",
      "----------------------------------------------------------\n",
      "Applying Holm p-value adjustment procedure and analysing effect size\n",
      "----------------------------------------------------------\n",
      "Comparison      Zvalue    p-value    adjusted p-value\n",
      "------------  --------  ---------  ------------------\n",
      "ET vs SVM      2.43248  0.0149958           0.0899746\n",
      "ET vs KNN      1.91493  0.0555012           0.277506\n",
      "ET vs MLP      1.65616  0.09769             0.39076\n",
      "ET vs Arbol    1.24212  0.214193            0.642579\n",
      "ET vs RF       1.13861  0.254867            0.642579\n",
      "ET vs LR       1.0351   0.300623            0.642579\n",
      "There is a significant difference between the models: ET (mean: 0.750000, std: 0.169700) and SVM (mean: 0.457143, std: 0.281929) (Cohen's d=1.194024702337062, Large)\n",
      "There is a significant difference between the models: ET (mean: 0.750000, std: 0.169700) and KNN (mean: 0.565476, std: 0.271222) (Cohen's d=0.7737918932639428, Large)\n",
      "There is a significant difference between the models: ET (mean: 0.750000, std: 0.169700) and MLP (mean: 0.531548, std: 0.220737) (Cohen's d=1.0526346591269953, Large)\n",
      "We can't say that there is a significant difference in the performance of the models: ET (mean: 0.750000, std: 0.169700) and Arbol (mean: 0.633333, std: 0.313880) (Cohen's d=0.43866918219682893, Medium)\n",
      "We can't say that there is a significant difference in the performance of the models: ET (mean: 0.750000, std: 0.169700) and RF (mean: 0.654167, std: 0.250686) (Cohen's d=0.42472392593632147, Medium)\n",
      "We can't say that there is a significant difference in the performance of the models: ET (mean: 0.750000, std: 0.169700) and LR (mean: 0.596429, std: 0.233798) (Cohen's d=0.7131959578181595, Large)\n",
      "Eta squared: 0.105770 (Large)\n"
     ]
    },
    {
     "data": {
      "image/png": "[encoded data removed]",
      "text/plain": [
       "<Figure size 432x288 with 1 Axes>"
      ]
     },
     "metadata": {
      "needs_background": "light"
     },
     "output_type": "display_data"
    }
   ],
   "source": [
    "compare_methods(Xtsne2,Y,listAlgorithms,listParams,listNames,metric='recall')"
   ]
  },
  {
   "cell_type": "code",
   "execution_count": 54,
   "metadata": {},
   "outputs": [
    {
     "name": "stdout",
     "output_type": "stream",
     "text": [
      "temp.csv\n",
      "['Arbol' 'SVM' 'KNN' 'LR' 'MLP' 'RF' 'ET']\n",
      "==========================================================\n",
      "Report\n",
      "==========================================================\n",
      "**********************************************************\n",
      "Mean and std\n",
      "**********************************************************\n",
      "Arbol: 0.606364 (0.175011)\n",
      "SVM: 0.604545 (0.212978)\n",
      "KNN: 0.618182 (0.155239)\n",
      "LR: 0.606364 (0.163437)\n",
      "MLP: 0.585455 (0.170376)\n",
      "RF: 0.646364 (0.148014)\n",
      "ET: 0.723636 (0.154556)\n",
      "**********************************************************\n",
      "Statistical tests\n",
      "**********************************************************\n",
      "----------------------------------------------------------\n",
      "Checking parametric conditions \n",
      "----------------------------------------------------------\n",
      "Checking independence \n",
      "Ok\n",
      "Checking normality using Shapiro-Wilk's test for normality, alpha=0.05\n",
      "W: 0.958021, p:0.019492\n",
      "The null hypothesis (normality) is rejected\n",
      "Checking heteroscedasticity using Levene's test, alpha=0.05\n",
      "W: 0.509775, p:0.798717\n",
      "The null hypothesis (heteroscedasticity) is accepted\n",
      "Conditions for a parametric test are not fulfilled, applying a non-parametric test\n",
      "----------------------------------------------------------\n",
      "Working with more than 2 algorithms\n",
      "----------------------------------------------------------\n",
      "----------------------------------------------------------\n",
      "Applying Friedman test\n",
      "----------------------------------------------------------\n",
      "F-value: 0.992070, p-value: 0.4400350537238812\n",
      "Null hypothesis is rejected; hence, models have different performance\n",
      "Technique      Ranking\n",
      "-----------  ---------\n",
      "ET                5.5\n",
      "RF                3.95\n",
      "Arbol             3.9\n",
      "MLP               3.85\n",
      "LR                3.7\n",
      "KNN               3.55\n",
      "SVM               3.55\n",
      "Winner model: ET\n",
      "----------------------------------------------------------\n",
      "Applying Holm p-value adjustment procedure and analysing effect size\n",
      "----------------------------------------------------------\n",
      "Comparison      Zvalue    p-value    adjusted p-value\n",
      "------------  --------  ---------  ------------------\n",
      "ET vs SVM      2.01844  0.0435453            0.261272\n",
      "ET vs KNN      2.01844  0.0435453            0.261272\n",
      "ET vs LR       1.86318  0.0624374            0.261272\n",
      "ET vs MLP      1.70791  0.0876526            0.262958\n",
      "ET vs Arbol    1.65616  0.09769              0.262958\n",
      "ET vs RF       1.6044   0.108625             0.262958\n",
      "There is a significant difference between the models: ET (mean: 0.723636, std: 0.154556) and SVM (mean: 0.604545, std: 0.212978) (Cohen's d=0.607175228010775, Large)\n",
      "There is a significant difference between the models: ET (mean: 0.723636, std: 0.154556) and KNN (mean: 0.618182, std: 0.155239) (Cohen's d=0.6458635365992699, Large)\n",
      "There is a significant difference between the models: ET (mean: 0.723636, std: 0.154556) and LR (mean: 0.606364, std: 0.163437) (Cohen's d=0.6994578779233073, Large)\n",
      "There is a significant difference between the models: ET (mean: 0.723636, std: 0.154556) and MLP (mean: 0.585455, std: 0.170376) (Cohen's d=0.8059254536378607, Large)\n",
      "There is a significant difference between the models: ET (mean: 0.723636, std: 0.154556) and Arbol (mean: 0.606364, std: 0.175011) (Cohen's d=0.673859227037828, Large)\n",
      "There is a significant difference between the models: ET (mean: 0.723636, std: 0.154556) and RF (mean: 0.646364, std: 0.148014) (Cohen's d=0.4844504311455711, Medium)\n",
      "Eta squared: 0.060014 (Large)\n"
     ]
    },
    {
     "data": {
      "image/png": "[encoded data removed]",
      "text/plain": [
       "<Figure size 432x288 with 1 Axes>"
      ]
     },
     "metadata": {
      "needs_background": "light"
     },
     "output_type": "display_data"
    }
   ],
   "source": [
    "compare_methods(Xtsne2,Y,listAlgorithms,listParams,listNames,metric='accuracy')"
   ]
  },
  {
   "cell_type": "code",
   "execution_count": 55,
   "metadata": {
    "id": "9s4RecsnKMgQ"
   },
   "outputs": [],
   "source": [
    "!mv temp.csv temptsne2.csv"
   ]
  },
  {
   "cell_type": "markdown",
   "metadata": {},
   "source": [
    "# TSNE with 3 components"
   ]
  },
  {
   "cell_type": "code",
   "execution_count": 56,
   "metadata": {
    "id": "ROSlAByBKUuE",
    "scrolled": true
   },
   "outputs": [
    {
     "name": "stdout",
     "output_type": "stream",
     "text": [
      "temp.csv\n",
      "['Arbol' 'SVM' 'KNN' 'LR' 'MLP' 'RF' 'ET']\n",
      "==========================================================\n",
      "Report\n",
      "==========================================================\n",
      "**********************************************************\n",
      "Mean and std\n",
      "**********************************************************\n",
      "Arbol: 0.531667 (0.155168)\n",
      "SVM: 0.491786 (0.194788)\n",
      "KNN: 0.410833 (0.191727)\n",
      "LR: 0.609345 (0.170536)\n",
      "MLP: 0.459226 (0.169701)\n",
      "RF: 0.507202 (0.146199)\n",
      "ET: 0.476726 (0.162489)\n",
      "**********************************************************\n",
      "Statistical tests\n",
      "**********************************************************\n",
      "----------------------------------------------------------\n",
      "Checking parametric conditions \n",
      "----------------------------------------------------------\n",
      "Checking independence \n",
      "Ok\n",
      "Checking normality using Shapiro-Wilk's test for normality, alpha=0.05\n",
      "W: 0.955136, p:0.013591\n",
      "The null hypothesis (normality) is rejected\n",
      "Checking heteroscedasticity using Levene's test, alpha=0.05\n",
      "W: 0.296978, p:0.936134\n",
      "The null hypothesis (heteroscedasticity) is accepted\n",
      "Conditions for a parametric test are not fulfilled, applying a non-parametric test\n",
      "----------------------------------------------------------\n",
      "Working with more than 2 algorithms\n",
      "----------------------------------------------------------\n",
      "----------------------------------------------------------\n",
      "Applying Friedman test\n",
      "----------------------------------------------------------\n",
      "F-value: 2.197512, p-value: 0.05721630762539609\n",
      "Null hypothesis is rejected; hence, models have different performance\n",
      "Technique      Ranking\n",
      "-----------  ---------\n",
      "LR                5.5\n",
      "Arbol             4.95\n",
      "RF                4\n",
      "MLP               3.75\n",
      "ET                3.6\n",
      "SVM               3.6\n",
      "KNN               2.6\n",
      "Winner model: LR\n",
      "----------------------------------------------------------\n",
      "Applying Holm p-value adjustment procedure and analysing effect size\n",
      "----------------------------------------------------------\n",
      "Comparison      Zvalue     p-value    adjusted p-value\n",
      "------------  --------  ----------  ------------------\n",
      "LR vs KNN     3.00179   0.00268402           0.0161041\n",
      "LR vs SVM     1.96669   0.0492193            0.246097\n",
      "LR vs ET      1.96669   0.0492193            0.246097\n",
      "LR vs MLP     1.81142   0.0700755            0.246097\n",
      "LR vs RF      1.55265   0.120507             0.246097\n",
      "LR vs Arbol   0.569304  0.56915              0.56915\n",
      "There is a significant difference between the models: LR (mean: 0.609345, std: 0.170536) and KNN (mean: 0.410833, std: 0.191727) (Cohen's d=1.0379402239821953, Large)\n",
      "There is a significant difference between the models: LR (mean: 0.609345, std: 0.170536) and SVM (mean: 0.491786, std: 0.194788) (Cohen's d=0.6092224201766686, Large)\n",
      "There is a significant difference between the models: LR (mean: 0.609345, std: 0.170536) and ET (mean: 0.476726, std: 0.162489) (Cohen's d=0.7553591254219137, Large)\n",
      "There is a significant difference between the models: LR (mean: 0.609345, std: 0.170536) and MLP (mean: 0.459226, std: 0.169701) (Cohen's d=0.8371537027527349, Large)\n",
      "There is a significant difference between the models: LR (mean: 0.609345, std: 0.170536) and RF (mean: 0.507202, std: 0.146199) (Cohen's d=0.6100774464388304, Large)\n",
      "We can't say that there is a significant difference in the performance of the models: LR (mean: 0.609345, std: 0.170536) and Arbol (mean: 0.531667, std: 0.155168) (Cohen's d=0.45200895903258953, Medium)\n",
      "Eta squared: 0.101950 (Large)\n"
     ]
    },
    {
     "data": {
      "image/png": "[encoded data removed]",
      "text/plain": [
       "<Figure size 432x288 with 1 Axes>"
      ]
     },
     "metadata": {
      "needs_background": "light"
     },
     "output_type": "display_data"
    }
   ],
   "source": [
    "Xtsne3 = TSNE(n_components=3).fit_transform(X)\n",
    "compare_methods(Xtsne3,Y,listAlgorithms,listParams,listNames,metric='auroc')"
   ]
  },
  {
   "cell_type": "code",
   "execution_count": 57,
   "metadata": {},
   "outputs": [
    {
     "name": "stdout",
     "output_type": "stream",
     "text": [
      "temp.csv\n",
      "['Arbol' 'SVM' 'KNN' 'LR' 'MLP' 'RF' 'ET']\n",
      "==========================================================\n",
      "Report\n",
      "==========================================================\n",
      "**********************************************************\n",
      "Mean and std\n",
      "**********************************************************\n",
      "Arbol: 0.532738 (0.280524)\n",
      "SVM: 0.488095 (0.382919)\n",
      "KNN: 0.390952 (0.321761)\n",
      "LR: 0.624167 (0.304456)\n",
      "MLP: 0.438889 (0.411411)\n",
      "RF: 0.515794 (0.283387)\n",
      "ET: 0.433016 (0.324047)\n",
      "**********************************************************\n",
      "Statistical tests\n",
      "**********************************************************\n",
      "----------------------------------------------------------\n",
      "Checking parametric conditions \n",
      "----------------------------------------------------------\n",
      "Checking independence \n",
      "Ok\n",
      "Checking normality using Shapiro-Wilk's test for normality, alpha=0.05\n",
      "W: 0.896781, p:0.000029\n",
      "The null hypothesis (normality) is rejected\n",
      "Checking heteroscedasticity using Levene's test, alpha=0.05\n",
      "W: 0.512085, p:0.796983\n",
      "The null hypothesis (heteroscedasticity) is accepted\n",
      "Conditions for a parametric test are not fulfilled, applying a non-parametric test\n",
      "----------------------------------------------------------\n",
      "Working with more than 2 algorithms\n",
      "----------------------------------------------------------\n",
      "----------------------------------------------------------\n",
      "Applying Friedman test\n",
      "----------------------------------------------------------\n",
      "F-value: 2.244980, p-value: 0.052507367550314044\n",
      "Null hypothesis is rejected; hence, models have different performance\n",
      "Technique      Ranking\n",
      "-----------  ---------\n",
      "LR                5.45\n",
      "Arbol             5.05\n",
      "RF                4\n",
      "SVM               3.9\n",
      "MLP               3.5\n",
      "ET                3.45\n",
      "KNN               2.65\n",
      "Winner model: LR\n",
      "----------------------------------------------------------\n",
      "Applying Holm p-value adjustment procedure and analysing effect size\n",
      "----------------------------------------------------------\n",
      "Comparison      Zvalue     p-value    adjusted p-value\n",
      "------------  --------  ----------  ------------------\n",
      "LR vs KNN     2.89828   0.00375221           0.0225133\n",
      "LR vs ET      2.0702    0.0384339            0.19217\n",
      "LR vs MLP     2.01844   0.0435453            0.19217\n",
      "LR vs SVM     1.6044    0.108625             0.325876\n",
      "LR vs RF      1.50089   0.133383             0.325876\n",
      "LR vs Arbol   0.414039  0.678845             0.678845\n",
      "There is a significant difference between the models: LR (mean: 0.624167, std: 0.304456) and KNN (mean: 0.390952, std: 0.321761) (Cohen's d=0.7063430247703439, Large)\n",
      "There is a significant difference between the models: LR (mean: 0.624167, std: 0.304456) and ET (mean: 0.433016, std: 0.324047) (Cohen's d=0.5767791431234854, Large)\n",
      "There is a significant difference between the models: LR (mean: 0.624167, std: 0.304456) and MLP (mean: 0.438889, std: 0.411411) (Cohen's d=0.48567778834532177, Medium)\n",
      "There is a significant difference between the models: LR (mean: 0.624167, std: 0.304456) and SVM (mean: 0.488095, std: 0.382919) (Cohen's d=0.3731757544183366, Medium)\n",
      "There is a significant difference between the models: LR (mean: 0.624167, std: 0.304456) and RF (mean: 0.515794, std: 0.283387) (Cohen's d=0.34956837585612005, Medium)\n",
      "We can't say that there is a significant difference in the performance of the models: LR (mean: 0.624167, std: 0.304456) and Arbol (mean: 0.532738, std: 0.280524) (Cohen's d=0.29629836910223245, Medium)\n",
      "Eta squared: 0.044517 (Medium)\n"
     ]
    },
    {
     "data": {
      "image/png": "[encoded data removed]",
      "text/plain": [
       "<Figure size 432x288 with 1 Axes>"
      ]
     },
     "metadata": {
      "needs_background": "light"
     },
     "output_type": "display_data"
    }
   ],
   "source": [
    "compare_methods(Xtsne3,Y,listAlgorithms,listParams,listNames,metric='precision')"
   ]
  },
  {
   "cell_type": "code",
   "execution_count": 58,
   "metadata": {},
   "outputs": [
    {
     "name": "stdout",
     "output_type": "stream",
     "text": [
      "temp.csv\n",
      "['Arbol' 'SVM' 'KNN' 'LR' 'MLP' 'RF' 'ET']\n",
      "==========================================================\n",
      "Report\n",
      "==========================================================\n",
      "**********************************************************\n",
      "Mean and std\n",
      "**********************************************************\n",
      "Arbol: 0.538690 (0.276478)\n",
      "SVM: 0.410119 (0.309552)\n",
      "KNN: 0.336310 (0.206493)\n",
      "LR: 0.562500 (0.262003)\n",
      "MLP: 0.292857 (0.225072)\n",
      "RF: 0.500595 (0.215052)\n",
      "ET: 0.413095 (0.192699)\n",
      "**********************************************************\n",
      "Statistical tests\n",
      "**********************************************************\n",
      "----------------------------------------------------------\n",
      "Checking parametric conditions \n",
      "----------------------------------------------------------\n",
      "Checking independence \n",
      "Ok\n",
      "Checking normality using Shapiro-Wilk's test for normality, alpha=0.05\n",
      "W: 0.939525, p:0.002130\n",
      "The null hypothesis (normality) is rejected\n",
      "Checking heteroscedasticity using Levene's test, alpha=0.05\n",
      "W: 0.484159, p:0.817721\n",
      "The null hypothesis (heteroscedasticity) is accepted\n",
      "Conditions for a parametric test are not fulfilled, applying a non-parametric test\n",
      "----------------------------------------------------------\n",
      "Working with more than 2 algorithms\n",
      "----------------------------------------------------------\n",
      "----------------------------------------------------------\n",
      "Applying Friedman test\n",
      "----------------------------------------------------------\n",
      "F-value: 1.548347, p-value: 0.18034039955053538\n",
      "Null hypothesis is rejected; hence, models have different performance\n",
      "Technique      Ranking\n",
      "-----------  ---------\n",
      "LR                5.2\n",
      "Arbol             4.8\n",
      "RF                4.35\n",
      "ET                3.8\n",
      "SVM               3.75\n",
      "MLP               3.05\n",
      "KNN               3.05\n",
      "Winner model: LR\n",
      "----------------------------------------------------------\n",
      "Applying Holm p-value adjustment procedure and analysing effect size\n",
      "----------------------------------------------------------\n",
      "Comparison      Zvalue    p-value    adjusted p-value\n",
      "------------  --------  ---------  ------------------\n",
      "LR vs KNN     2.22546   0.0260503            0.156302\n",
      "LR vs MLP     2.22546   0.0260503            0.156302\n",
      "LR vs SVM     1.50089   0.133383             0.533533\n",
      "LR vs ET      1.44914   0.147299             0.533533\n",
      "LR vs RF      0.879834  0.378949             0.757899\n",
      "LR vs Arbol   0.414039  0.678845             0.757899\n",
      "There is a significant difference between the models: LR (mean: 0.562500, std: 0.262003) and KNN (mean: 0.336310, std: 0.206493) (Cohen's d=0.9096886882355114, Large)\n",
      "There is a significant difference between the models: LR (mean: 0.562500, std: 0.262003) and MLP (mean: 0.292857, std: 0.225072) (Cohen's d=1.0473681264664638, Large)\n",
      "We can't say that there is a significant difference in the performance of the models: LR (mean: 0.562500, std: 0.262003) and SVM (mean: 0.410119, std: 0.309552) (Cohen's d=0.5041113278522813, Large)\n",
      "We can't say that there is a significant difference in the performance of the models: LR (mean: 0.562500, std: 0.262003) and ET (mean: 0.413095, std: 0.192699) (Cohen's d=0.6163141851541498, Large)\n",
      "We can't say that there is a significant difference in the performance of the models: LR (mean: 0.562500, std: 0.262003) and RF (mean: 0.500595, std: 0.215052) (Cohen's d=0.24502676571003293, Medium)\n",
      "We can't say that there is a significant difference in the performance of the models: LR (mean: 0.562500, std: 0.262003) and Arbol (mean: 0.538690, std: 0.276478) (Cohen's d=0.08386381092216036, Small)\n",
      "Eta squared: 0.129899 (Large)\n"
     ]
    },
    {
     "data": {
      "image/png": "[encoded data removed]",
      "text/plain": [
       "<Figure size 432x288 with 1 Axes>"
      ]
     },
     "metadata": {
      "needs_background": "light"
     },
     "output_type": "display_data"
    }
   ],
   "source": [
    "compare_methods(Xtsne3,Y,listAlgorithms,listParams,listNames,metric='recall')"
   ]
  },
  {
   "cell_type": "code",
   "execution_count": 59,
   "metadata": {},
   "outputs": [
    {
     "name": "stdout",
     "output_type": "stream",
     "text": [
      "temp.csv\n",
      "['Arbol' 'SVM' 'KNN' 'LR' 'MLP' 'RF' 'ET']\n",
      "==========================================================\n",
      "Report\n",
      "==========================================================\n",
      "**********************************************************\n",
      "Mean and std\n",
      "**********************************************************\n",
      "Arbol: 0.450000 (0.127354)\n",
      "SVM: 0.420909 (0.169737)\n",
      "KNN: 0.371818 (0.167157)\n",
      "LR: 0.556364 (0.178460)\n",
      "MLP: 0.440909 (0.180369)\n",
      "RF: 0.439091 (0.123920)\n",
      "ET: 0.398182 (0.172334)\n",
      "**********************************************************\n",
      "Statistical tests\n",
      "**********************************************************\n",
      "----------------------------------------------------------\n",
      "Checking parametric conditions \n",
      "----------------------------------------------------------\n",
      "Checking independence \n",
      "Ok\n",
      "Checking normality using Shapiro-Wilk's test for normality, alpha=0.05\n",
      "W: 0.961096, p:0.028788\n",
      "The null hypothesis (normality) is rejected\n",
      "Checking heteroscedasticity using Levene's test, alpha=0.05\n",
      "W: 0.788289, p:0.582426\n",
      "The null hypothesis (heteroscedasticity) is accepted\n",
      "Conditions for a parametric test are not fulfilled, applying a non-parametric test\n",
      "----------------------------------------------------------\n",
      "Working with more than 2 algorithms\n",
      "----------------------------------------------------------\n",
      "----------------------------------------------------------\n",
      "Applying Friedman test\n",
      "----------------------------------------------------------\n",
      "F-value: 1.871441, p-value: 0.10265377126581421\n",
      "Null hypothesis is rejected; hence, models have different performance\n",
      "Technique      Ranking\n",
      "-----------  ---------\n",
      "LR                5.65\n",
      "Arbol             4.7\n",
      "RF                3.9\n",
      "MLP               3.85\n",
      "SVM               3.5\n",
      "ET                3.35\n",
      "KNN               3.05\n",
      "Winner model: LR\n",
      "----------------------------------------------------------\n",
      "Applying Holm p-value adjustment procedure and analysing effect size\n",
      "----------------------------------------------------------\n",
      "Comparison      Zvalue     p-value    adjusted p-value\n",
      "------------  --------  ----------  ------------------\n",
      "LR vs KNN     2.69126   0.00711836           0.0427102\n",
      "LR vs ET      2.38073   0.0172786            0.0863928\n",
      "LR vs SVM     2.22546   0.0260503            0.104201\n",
      "LR vs MLP     1.86318   0.0624374            0.187312\n",
      "LR vs RF      1.81142   0.0700755            0.187312\n",
      "LR vs Arbol   0.983343  0.325438             0.325438\n",
      "There is a significant difference between the models: LR (mean: 0.556364, std: 0.178460) and KNN (mean: 0.371818, std: 0.167157) (Cohen's d=1.0125769335927628, Large)\n",
      "There is a significant difference between the models: LR (mean: 0.556364, std: 0.178460) and ET (mean: 0.398182, std: 0.172334) (Cohen's d=0.8554388937467012, Large)\n",
      "There is a significant difference between the models: LR (mean: 0.556364, std: 0.178460) and SVM (mean: 0.420909, std: 0.169737) (Cohen's d=0.7378759687577872, Large)\n",
      "There is a significant difference between the models: LR (mean: 0.556364, std: 0.178460) and MLP (mean: 0.440909, std: 0.180369) (Cohen's d=0.6104758063446011, Large)\n",
      "There is a significant difference between the models: LR (mean: 0.556364, std: 0.178460) and RF (mean: 0.439091, std: 0.123920) (Cohen's d=0.7241745673757299, Large)\n",
      "There is a significant difference between the models: LR (mean: 0.556364, std: 0.178460) and Arbol (mean: 0.450000, std: 0.127354) (Cohen's d=0.6508878755701266, Large)\n",
      "Eta squared: 0.100602 (Large)\n"
     ]
    },
    {
     "data": {
      "image/png": "[encoded data removed]",
      "text/plain": [
       "<Figure size 432x288 with 1 Axes>"
      ]
     },
     "metadata": {
      "needs_background": "light"
     },
     "output_type": "display_data"
    }
   ],
   "source": [
    "compare_methods(Xtsne3,Y,listAlgorithms,listParams,listNames,metric='accuracy')"
   ]
  },
  {
   "cell_type": "code",
   "execution_count": 60,
   "metadata": {
    "id": "rAl1ayHcKbSF"
   },
   "outputs": [],
   "source": [
    "!mv temp.csv temptsne3.csv"
   ]
  },
  {
   "cell_type": "markdown",
   "metadata": {},
   "source": [
    "# UMAP with 2 components"
   ]
  },
  {
   "cell_type": "code",
   "execution_count": 19,
   "metadata": {
    "id": "T45s4ka649by"
   },
   "outputs": [],
   "source": [
    "from umap import UMAP"
   ]
  },
  {
   "cell_type": "code",
   "execution_count": 62,
   "metadata": {
    "id": "y-O-MGt_5AC4"
   },
   "outputs": [],
   "source": [
    "reducer = UMAP()"
   ]
  },
  {
   "cell_type": "code",
   "execution_count": 63,
   "metadata": {
    "id": "h3U_6qzL5bR_"
   },
   "outputs": [],
   "source": [
    "Xumap = reducer.fit_transform(X)"
   ]
  },
  {
   "cell_type": "code",
   "execution_count": 64,
   "metadata": {
    "id": "PqHq4hZsXPPy",
    "scrolled": true
   },
   "outputs": [
    {
     "name": "stdout",
     "output_type": "stream",
     "text": [
      "temp.csv\n",
      "['Arbol' 'SVM' 'KNN' 'LR' 'MLP' 'RF' 'ET']\n",
      "==========================================================\n",
      "Report\n",
      "==========================================================\n",
      "**********************************************************\n",
      "Mean and std\n",
      "**********************************************************\n",
      "Arbol: 0.589524 (0.224475)\n",
      "SVM: 0.578690 (0.150075)\n",
      "KNN: 0.611369 (0.172877)\n",
      "LR: 0.593571 (0.136051)\n",
      "MLP: 0.522440 (0.197028)\n",
      "RF: 0.658690 (0.240529)\n",
      "ET: 0.641131 (0.194945)\n",
      "**********************************************************\n",
      "Statistical tests\n",
      "**********************************************************\n",
      "----------------------------------------------------------\n",
      "Checking parametric conditions \n",
      "----------------------------------------------------------\n",
      "Checking independence \n",
      "Ok\n",
      "Checking normality using Shapiro-Wilk's test for normality, alpha=0.05\n",
      "W: 0.977554, p:0.241049\n",
      "The null hypothesis (normality) is rejected\n",
      "Checking heteroscedasticity using Levene's test, alpha=0.05\n",
      "W: 1.228048, p:0.304058\n",
      "The null hypothesis (heteroscedasticity) is rejected\n",
      "Conditions for a parametric test are not fulfilled, applying a non-parametric test\n",
      "----------------------------------------------------------\n",
      "Working with more than 2 algorithms\n",
      "----------------------------------------------------------\n",
      "----------------------------------------------------------\n",
      "Applying Friedman test\n",
      "----------------------------------------------------------\n",
      "F-value: 0.432903, p-value: 0.8537192577398396\n",
      "Null hypothesis is accepted; hence, we can't say that there is a significant difference in the performance of the models\n",
      "----------------------------------------------------------\n",
      "Analysing effect size\n",
      "----------------------------------------------------------\n",
      "We take the model with the best mean (RF, mean: 0.658690) and compare it with the other models: \n",
      "Comparing effect size of RF and Arbol: Cohen's d=0.2820543994629406, Medium\n",
      "Comparing effect size of RF and SVM: Cohen's d=0.3785835386199391, Medium\n",
      "Comparing effect size of RF and KNN: Cohen's d=0.21433549445009645, Medium\n",
      "Comparing effect size of RF and LR: Cohen's d=0.31615504259333793, Medium\n",
      "Comparing effect size of RF and MLP: Cohen's d=0.5879196247539641, Large\n",
      "Comparing effect size of RF and ET: Cohen's d=0.07609139018699652, Small\n",
      "Eta squared: 0.044362 (Medium)\n"
     ]
    },
    {
     "data": {
      "image/png": "[encoded data removed]",
      "text/plain": [
       "<Figure size 432x288 with 1 Axes>"
      ]
     },
     "metadata": {
      "needs_background": "light"
     },
     "output_type": "display_data"
    }
   ],
   "source": [
    "compare_methods(Xumap,Y,listAlgorithms,listParams,listNames,metric='auroc')"
   ]
  },
  {
   "cell_type": "code",
   "execution_count": 65,
   "metadata": {},
   "outputs": [
    {
     "name": "stdout",
     "output_type": "stream",
     "text": [
      "temp.csv\n",
      "['Arbol' 'SVM' 'KNN' 'LR' 'MLP' 'RF' 'ET']\n",
      "==========================================================\n",
      "Report\n",
      "==========================================================\n",
      "**********************************************************\n",
      "Mean and std\n",
      "**********************************************************\n",
      "Arbol: 0.576310 (0.285092)\n",
      "SVM: 0.572381 (0.225420)\n",
      "KNN: 0.598333 (0.188092)\n",
      "LR: 0.596190 (0.247615)\n",
      "MLP: 0.513056 (0.258483)\n",
      "RF: 0.635476 (0.297799)\n",
      "ET: 0.622857 (0.209695)\n",
      "**********************************************************\n",
      "Statistical tests\n",
      "**********************************************************\n",
      "----------------------------------------------------------\n",
      "Checking parametric conditions \n",
      "----------------------------------------------------------\n",
      "Checking independence \n",
      "Ok\n",
      "Checking normality using Shapiro-Wilk's test for normality, alpha=0.05\n",
      "W: 0.962176, p:0.033054\n",
      "The null hypothesis (normality) is rejected\n",
      "Checking heteroscedasticity using Levene's test, alpha=0.05\n",
      "W: 0.341259, p:0.912375\n",
      "The null hypothesis (heteroscedasticity) is accepted\n",
      "Conditions for a parametric test are not fulfilled, applying a non-parametric test\n",
      "----------------------------------------------------------\n",
      "Working with more than 2 algorithms\n",
      "----------------------------------------------------------\n",
      "----------------------------------------------------------\n",
      "Applying Friedman test\n",
      "----------------------------------------------------------\n",
      "F-value: 0.491525, p-value: 0.8118468953403405\n",
      "Null hypothesis is accepted; hence, we can't say that there is a significant difference in the performance of the models\n",
      "----------------------------------------------------------\n",
      "Analysing effect size\n",
      "----------------------------------------------------------\n",
      "We take the model with the best mean (RF, mean: 0.635476) and compare it with the other models: \n",
      "Comparing effect size of RF and Arbol: Cohen's d=0.19254757320770743, Small\n",
      "Comparing effect size of RF and SVM: Cohen's d=0.22664602928927885, Medium\n",
      "Comparing effect size of RF and KNN: Cohen's d=0.14147853435904065, Small\n",
      "Comparing effect size of RF and LR: Cohen's d=0.1360909149827186, Small\n",
      "Comparing effect size of RF and MLP: Cohen's d=0.41651308111087065, Medium\n",
      "Comparing effect size of RF and ET: Cohen's d=0.046483548609997746, Small\n",
      "Eta squared: 0.022014 (Medium)\n"
     ]
    },
    {
     "data": {
      "image/png": "[encoded data removed]",
      "text/plain": [
       "<Figure size 432x288 with 1 Axes>"
      ]
     },
     "metadata": {
      "needs_background": "light"
     },
     "output_type": "display_data"
    }
   ],
   "source": [
    "compare_methods(Xumap,Y,listAlgorithms,listParams,listNames,metric='precision')"
   ]
  },
  {
   "cell_type": "code",
   "execution_count": 66,
   "metadata": {},
   "outputs": [
    {
     "name": "stdout",
     "output_type": "stream",
     "text": [
      "temp.csv\n",
      "['Arbol' 'SVM' 'KNN' 'LR' 'MLP' 'RF' 'ET']\n",
      "==========================================================\n",
      "Report\n",
      "==========================================================\n",
      "**********************************************************\n",
      "Mean and std\n",
      "**********************************************************\n",
      "Arbol: 0.562500 (0.281482)\n",
      "SVM: 0.626190 (0.207785)\n",
      "KNN: 0.638690 (0.219933)\n",
      "LR: 0.555952 (0.186267)\n",
      "MLP: 0.601190 (0.295048)\n",
      "RF: 0.629167 (0.296618)\n",
      "ET: 0.662500 (0.226223)\n",
      "**********************************************************\n",
      "Statistical tests\n",
      "**********************************************************\n",
      "----------------------------------------------------------\n",
      "Checking parametric conditions \n",
      "----------------------------------------------------------\n",
      "Checking independence \n",
      "Ok\n",
      "Checking normality using Shapiro-Wilk's test for normality, alpha=0.05\n",
      "W: 0.914420, p:0.000151\n",
      "The null hypothesis (normality) is rejected\n",
      "Checking heteroscedasticity using Levene's test, alpha=0.05\n",
      "W: 0.457439, p:0.837034\n",
      "The null hypothesis (heteroscedasticity) is accepted\n",
      "Conditions for a parametric test are not fulfilled, applying a non-parametric test\n",
      "----------------------------------------------------------\n",
      "Working with more than 2 algorithms\n",
      "----------------------------------------------------------\n",
      "----------------------------------------------------------\n",
      "Applying Friedman test\n",
      "----------------------------------------------------------\n",
      "F-value: 0.495102, p-value: 0.8092070264793698\n",
      "Null hypothesis is accepted; hence, we can't say that there is a significant difference in the performance of the models\n",
      "----------------------------------------------------------\n",
      "Analysing effect size\n",
      "----------------------------------------------------------\n",
      "We take the model with the best mean (ET, mean: 0.662500) and compare it with the other models: \n",
      "Comparing effect size of ET and Arbol: Cohen's d=0.37152041531456403, Medium\n",
      "Comparing effect size of ET and SVM: Cohen's d=0.15859261151854984, Small\n",
      "Comparing effect size of ET and KNN: Cohen's d=0.10124473570721912, Small\n",
      "Comparing effect size of ET and LR: Cohen's d=0.48781408046998836, Medium\n",
      "Comparing effect size of ET and MLP: Cohen's d=0.22123950639692339, Medium\n",
      "Comparing effect size of ET and RF: Cohen's d=0.11988353711165647, Small\n",
      "Eta squared: 0.021441 (Medium)\n"
     ]
    },
    {
     "data": {
      "image/png": "[encoded data removed]",
      "text/plain": [
       "<Figure size 432x288 with 1 Axes>"
      ]
     },
     "metadata": {
      "needs_background": "light"
     },
     "output_type": "display_data"
    }
   ],
   "source": [
    "compare_methods(Xumap,Y,listAlgorithms,listParams,listNames,metric='recall')"
   ]
  },
  {
   "cell_type": "code",
   "execution_count": 67,
   "metadata": {},
   "outputs": [
    {
     "name": "stdout",
     "output_type": "stream",
     "text": [
      "temp.csv\n",
      "['Arbol' 'SVM' 'KNN' 'LR' 'MLP' 'RF' 'ET']\n",
      "==========================================================\n",
      "Report\n",
      "==========================================================\n",
      "**********************************************************\n",
      "Mean and std\n",
      "**********************************************************\n",
      "Arbol: 0.610000 (0.187918)\n",
      "SVM: 0.598182 (0.128166)\n",
      "KNN: 0.629091 (0.139290)\n",
      "LR: 0.578182 (0.109333)\n",
      "MLP: 0.559091 (0.189530)\n",
      "RF: 0.680909 (0.210566)\n",
      "ET: 0.629091 (0.171469)\n",
      "**********************************************************\n",
      "Statistical tests\n",
      "**********************************************************\n",
      "----------------------------------------------------------\n",
      "Checking parametric conditions \n",
      "----------------------------------------------------------\n",
      "Checking independence \n",
      "Ok\n",
      "Checking normality using Shapiro-Wilk's test for normality, alpha=0.05\n",
      "W: 0.966426, p:0.057226\n",
      "The null hypothesis (normality) is rejected\n",
      "Checking heteroscedasticity using Levene's test, alpha=0.05\n",
      "W: 1.167235, p:0.335173\n",
      "The null hypothesis (heteroscedasticity) is rejected\n",
      "Conditions for a parametric test are not fulfilled, applying a non-parametric test\n",
      "----------------------------------------------------------\n",
      "Working with more than 2 algorithms\n",
      "----------------------------------------------------------\n",
      "----------------------------------------------------------\n",
      "Applying Friedman test\n",
      "----------------------------------------------------------\n",
      "F-value: 0.368030, p-value: 0.8960325019793347\n",
      "Null hypothesis is accepted; hence, we can't say that there is a significant difference in the performance of the models\n",
      "----------------------------------------------------------\n",
      "Analysing effect size\n",
      "----------------------------------------------------------\n",
      "We take the model with the best mean (RF, mean: 0.680909) and compare it with the other models: \n",
      "Comparing effect size of RF and Arbol: Cohen's d=0.33708691959051723, Medium\n",
      "Comparing effect size of RF and SVM: Cohen's d=0.45025664221933687, Medium\n",
      "Comparing effect size of RF and KNN: Cohen's d=0.27536803132213805, Medium\n",
      "Comparing effect size of RF and LR: Cohen's d=0.5808977462962891, Large\n",
      "Comparing effect size of RF and MLP: Cohen's d=0.5768994563007912, Large\n",
      "Comparing effect size of RF and ET: Cohen's d=0.25601642564283866, Medium\n",
      "Eta squared: 0.046832 (Medium)\n"
     ]
    },
    {
     "data": {
      "image/png": "[encoded data removed]",
      "text/plain": [
       "<Figure size 432x288 with 1 Axes>"
      ]
     },
     "metadata": {
      "needs_background": "light"
     },
     "output_type": "display_data"
    }
   ],
   "source": [
    "compare_methods(Xumap,Y,listAlgorithms,listParams,listNames,metric='accuracy')"
   ]
  },
  {
   "cell_type": "code",
   "execution_count": 68,
   "metadata": {
    "id": "9NTIJDD2XWW6"
   },
   "outputs": [],
   "source": [
    "!mv temp.csv tempumap2.csv"
   ]
  },
  {
   "cell_type": "markdown",
   "metadata": {},
   "source": [
    "# UMAP with 10 components"
   ]
  },
  {
   "cell_type": "code",
   "execution_count": 20,
   "metadata": {
    "id": "vtZHePZ6XaWK"
   },
   "outputs": [],
   "source": [
    "reducer = UMAP(n_components=10)"
   ]
  },
  {
   "cell_type": "code",
   "execution_count": 21,
   "metadata": {
    "id": "RT32rbaFXsMs"
   },
   "outputs": [],
   "source": [
    "Xumap10 = reducer.fit_transform(X)"
   ]
  },
  {
   "cell_type": "code",
   "execution_count": 71,
   "metadata": {
    "id": "IZhqNI6ZX2L0",
    "scrolled": true
   },
   "outputs": [
    {
     "name": "stdout",
     "output_type": "stream",
     "text": [
      "temp.csv\n",
      "['Arbol' 'SVM' 'KNN' 'LR' 'MLP' 'RF' 'ET']\n",
      "==========================================================\n",
      "Report\n",
      "==========================================================\n",
      "**********************************************************\n",
      "Mean and std\n",
      "**********************************************************\n",
      "Arbol: 0.631607 (0.101895)\n",
      "SVM: 0.654405 (0.172055)\n",
      "KNN: 0.639821 (0.180044)\n",
      "LR: 0.644762 (0.152745)\n",
      "MLP: 0.610833 (0.156056)\n",
      "RF: 0.678036 (0.117335)\n",
      "ET: 0.698869 (0.133770)\n",
      "**********************************************************\n",
      "Statistical tests\n",
      "**********************************************************\n",
      "----------------------------------------------------------\n",
      "Checking parametric conditions \n",
      "----------------------------------------------------------\n",
      "Checking independence \n",
      "Ok\n",
      "Checking normality using Shapiro-Wilk's test for normality, alpha=0.05\n",
      "W: 0.975158, p:0.177876\n",
      "The null hypothesis (normality) is rejected\n",
      "Checking heteroscedasticity using Levene's test, alpha=0.05\n",
      "W: 0.677885, p:0.667935\n",
      "The null hypothesis (heteroscedasticity) is accepted\n",
      "Conditions for a parametric test are not fulfilled, applying a non-parametric test\n",
      "----------------------------------------------------------\n",
      "Working with more than 2 algorithms\n",
      "----------------------------------------------------------\n",
      "----------------------------------------------------------\n",
      "Applying Friedman test\n",
      "----------------------------------------------------------\n",
      "F-value: 0.237537, p-value: 0.9622288109510704\n",
      "Null hypothesis is accepted; hence, we can't say that there is a significant difference in the performance of the models\n",
      "----------------------------------------------------------\n",
      "Analysing effect size\n",
      "----------------------------------------------------------\n",
      "We take the model with the best mean (ET, mean: 0.698869) and compare it with the other models: \n",
      "Comparing effect size of ET and Arbol: Cohen's d=0.5366464634936386, Large\n",
      "Comparing effect size of ET and SVM: Cohen's d=0.27372399351236737, Medium\n",
      "Comparing effect size of ET and KNN: Cohen's d=0.3531919671128601, Medium\n",
      "Comparing effect size of ET and LR: Cohen's d=0.35752682893216065, Medium\n",
      "Comparing effect size of ET and MLP: Cohen's d=0.5746362080680595, Large\n",
      "Comparing effect size of ET and RF: Cohen's d=0.15708200915407738, Small\n",
      "Eta squared: 0.033052 (Medium)\n"
     ]
    },
    {
     "data": {
      "image/png": "[encoded data removed]",
      "text/plain": [
       "<Figure size 432x288 with 1 Axes>"
      ]
     },
     "metadata": {
      "needs_background": "light"
     },
     "output_type": "display_data"
    }
   ],
   "source": [
    "compare_methods(Xumap10,Y,listAlgorithms,listParams,listNames,metric='auroc')"
   ]
  },
  {
   "cell_type": "code",
   "execution_count": 72,
   "metadata": {},
   "outputs": [
    {
     "name": "stdout",
     "output_type": "stream",
     "text": [
      "temp.csv\n",
      "['Arbol' 'SVM' 'KNN' 'LR' 'MLP' 'RF' 'ET']\n",
      "==========================================================\n",
      "Report\n",
      "==========================================================\n",
      "**********************************************************\n",
      "Mean and std\n",
      "**********************************************************\n",
      "Arbol: 0.580119 (0.207107)\n",
      "SVM: 0.624524 (0.241258)\n",
      "KNN: 0.661667 (0.255718)\n",
      "LR: 0.626667 (0.254427)\n",
      "MLP: 0.569762 (0.278942)\n",
      "RF: 0.636905 (0.205738)\n",
      "ET: 0.669048 (0.195534)\n",
      "**********************************************************\n",
      "Statistical tests\n",
      "**********************************************************\n",
      "----------------------------------------------------------\n",
      "Checking parametric conditions \n",
      "----------------------------------------------------------\n",
      "Checking independence \n",
      "Ok\n",
      "Checking normality using Shapiro-Wilk's test for normality, alpha=0.05\n",
      "W: 0.939983, p:0.002244\n",
      "The null hypothesis (normality) is rejected\n",
      "Checking heteroscedasticity using Levene's test, alpha=0.05\n",
      "W: 0.202440, p:0.974821\n",
      "The null hypothesis (heteroscedasticity) is accepted\n",
      "Conditions for a parametric test are not fulfilled, applying a non-parametric test\n",
      "----------------------------------------------------------\n",
      "Working with more than 2 algorithms\n",
      "----------------------------------------------------------\n",
      "----------------------------------------------------------\n",
      "Applying Friedman test\n",
      "----------------------------------------------------------\n",
      "F-value: 0.261301, p-value: 0.952440754769458\n",
      "Null hypothesis is accepted; hence, we can't say that there is a significant difference in the performance of the models\n",
      "----------------------------------------------------------\n",
      "Analysing effect size\n",
      "----------------------------------------------------------\n",
      "We take the model with the best mean (ET, mean: 0.669048) and compare it with the other models: \n",
      "Comparing effect size of ET and Arbol: Cohen's d=0.41888578557042416, Medium\n",
      "Comparing effect size of ET and SVM: Cohen's d=0.19235460919079794, Small\n",
      "Comparing effect size of ET and KNN: Cohen's d=0.030762095001108287, Small\n",
      "Comparing effect size of ET and LR: Cohen's d=0.17719773221363042, Small\n",
      "Comparing effect size of ET and MLP: Cohen's d=0.39103479346477804, Medium\n",
      "Comparing effect size of ET and RF: Cohen's d=0.15193468763369936, Small\n",
      "Eta squared: 0.021325 (Medium)\n"
     ]
    },
    {
     "data": {
      "image/png": "[encoded data removed]",
      "text/plain": [
       "<Figure size 432x288 with 1 Axes>"
      ]
     },
     "metadata": {
      "needs_background": "light"
     },
     "output_type": "display_data"
    }
   ],
   "source": [
    "compare_methods(Xumap10,Y,listAlgorithms,listParams,listNames,metric='precision')"
   ]
  },
  {
   "cell_type": "code",
   "execution_count": 73,
   "metadata": {},
   "outputs": [
    {
     "name": "stdout",
     "output_type": "stream",
     "text": [
      "temp.csv\n",
      "['Arbol' 'SVM' 'KNN' 'LR' 'MLP' 'RF' 'ET']\n",
      "==========================================================\n",
      "Report\n",
      "==========================================================\n",
      "**********************************************************\n",
      "Mean and std\n",
      "**********************************************************\n",
      "Arbol: 0.755357 (0.145425)\n",
      "SVM: 0.664286 (0.187234)\n",
      "KNN: 0.597619 (0.178238)\n",
      "LR: 0.604167 (0.158321)\n",
      "MLP: 0.585119 (0.234467)\n",
      "RF: 0.701190 (0.148638)\n",
      "ET: 0.701190 (0.148638)\n",
      "**********************************************************\n",
      "Statistical tests\n",
      "**********************************************************\n",
      "----------------------------------------------------------\n",
      "Checking parametric conditions \n",
      "----------------------------------------------------------\n",
      "Checking independence \n",
      "Ok\n",
      "Checking normality using Shapiro-Wilk's test for normality, alpha=0.05\n",
      "W: 0.950097, p:0.007336\n",
      "The null hypothesis (normality) is rejected\n",
      "Checking heteroscedasticity using Levene's test, alpha=0.05\n",
      "W: 0.179683, p:0.981426\n",
      "The null hypothesis (heteroscedasticity) is accepted\n",
      "Conditions for a parametric test are not fulfilled, applying a non-parametric test\n",
      "----------------------------------------------------------\n",
      "Working with more than 2 algorithms\n",
      "----------------------------------------------------------\n",
      "----------------------------------------------------------\n",
      "Applying Friedman test\n",
      "----------------------------------------------------------\n",
      "F-value: 1.110331, p-value: 0.3685812750596549\n",
      "Null hypothesis is rejected; hence, models have different performance\n",
      "Technique      Ranking\n",
      "-----------  ---------\n",
      "Arbol             5.05\n",
      "ET                4.5\n",
      "RF                4.5\n",
      "SVM               4.05\n",
      "MLP               3.3\n",
      "LR                3.3\n",
      "KNN               3.3\n",
      "Winner model: Arbol\n",
      "----------------------------------------------------------\n",
      "Applying Holm p-value adjustment procedure and analysing effect size\n",
      "----------------------------------------------------------\n",
      "Comparison      Zvalue    p-value    adjusted p-value\n",
      "------------  --------  ---------  ------------------\n",
      "Arbol vs KNN  1.81142   0.0700755            0.420453\n",
      "Arbol vs LR   1.81142   0.0700755            0.420453\n",
      "Arbol vs MLP  1.81142   0.0700755            0.420453\n",
      "Arbol vs SVM  1.0351    0.300623             0.901869\n",
      "Arbol vs RF   0.569304  0.56915              1\n",
      "Arbol vs ET   0.569304  0.56915              1\n",
      "There is a significant difference between the models: Arbol (mean: 0.755357, std: 0.145425) and KNN (mean: 0.597619, std: 0.178238) (Cohen's d=0.9199731475543802, Large)\n",
      "There is a significant difference between the models: Arbol (mean: 0.755357, std: 0.145425) and LR (mean: 0.604167, std: 0.158321) (Cohen's d=0.9435709522642438, Large)\n",
      "There is a significant difference between the models: Arbol (mean: 0.755357, std: 0.145425) and MLP (mean: 0.585119, std: 0.234467) (Cohen's d=0.8278175067783602, Large)\n",
      "We can't say that there is a significant difference in the performance of the models: Arbol (mean: 0.755357, std: 0.145425) and SVM (mean: 0.664286, std: 0.187234) (Cohen's d=0.5153839795702424, Large)\n",
      "We can't say that there is a significant difference in the performance of the models: Arbol (mean: 0.755357, std: 0.145425) and RF (mean: 0.701190, std: 0.148638) (Cohen's d=0.3494762355746541, Medium)\n",
      "We can't say that there is a significant difference in the performance of the models: Arbol (mean: 0.755357, std: 0.145425) and ET (mean: 0.701190, std: 0.148638) (Cohen's d=0.3494762355746541, Medium)\n",
      "Eta squared: 0.105785 (Large)\n"
     ]
    },
    {
     "data": {
      "image/png": "[encoded data removed]",
      "text/plain": [
       "<Figure size 432x288 with 1 Axes>"
      ]
     },
     "metadata": {
      "needs_background": "light"
     },
     "output_type": "display_data"
    }
   ],
   "source": [
    "compare_methods(Xumap10,Y,listAlgorithms,listParams,listNames,metric='recall')"
   ]
  },
  {
   "cell_type": "code",
   "execution_count": 22,
   "metadata": {},
   "outputs": [
    {
     "name": "stdout",
     "output_type": "stream",
     "text": [
      "temp.csv\n",
      "['Arbol' 'SVM' 'KNN' 'LR' 'MLP' 'RF' 'ET']\n",
      "==========================================================\n",
      "Report\n",
      "==========================================================\n",
      "**********************************************************\n",
      "Mean and std\n",
      "**********************************************************\n",
      "Arbol: 0.616364 (0.132228)\n",
      "SVM: 0.644545 (0.159361)\n",
      "KNN: 0.675455 (0.100991)\n",
      "LR: 0.656364 (0.169042)\n",
      "MLP: 0.684545 (0.139778)\n",
      "RF: 0.676364 (0.152402)\n",
      "ET: 0.725455 (0.084580)\n",
      "**********************************************************\n",
      "Statistical tests\n",
      "**********************************************************\n",
      "----------------------------------------------------------\n",
      "Checking parametric conditions \n",
      "----------------------------------------------------------\n",
      "Checking independence \n",
      "Ok\n",
      "Checking normality using Shapiro-Wilk's test for normality, alpha=0.05\n",
      "W: 0.944713, p:0.003870\n",
      "The null hypothesis (normality) is rejected\n",
      "Checking heteroscedasticity using Levene's test, alpha=0.05\n",
      "W: 0.849740, p:0.536693\n",
      "The null hypothesis (heteroscedasticity) is accepted\n",
      "Conditions for a parametric test are not fulfilled, applying a non-parametric test\n",
      "----------------------------------------------------------\n",
      "Working with more than 2 algorithms\n",
      "----------------------------------------------------------\n",
      "----------------------------------------------------------\n",
      "Applying Friedman test\n",
      "----------------------------------------------------------\n",
      "F-value: 1.120482, p-value: 0.3628755628797058\n",
      "Null hypothesis is rejected; hence, models have different performance\n",
      "Technique      Ranking\n",
      "-----------  ---------\n",
      "ET                5.3\n",
      "MLP               4.25\n",
      "KNN               4.15\n",
      "RF                4.05\n",
      "LR                3.85\n",
      "SVM               3.3\n",
      "Arbol             3.1\n",
      "Winner model: ET\n",
      "----------------------------------------------------------\n",
      "Applying Holm p-value adjustment procedure and analysing effect size\n",
      "----------------------------------------------------------\n",
      "Comparison      Zvalue    p-value    adjusted p-value\n",
      "------------  --------  ---------  ------------------\n",
      "ET vs Arbol    2.27722  0.0227733            0.13664\n",
      "ET vs SVM      2.0702   0.0384339            0.19217\n",
      "ET vs LR       1.50089  0.133383             0.533533\n",
      "ET vs RF       1.29387  0.195709             0.587128\n",
      "ET vs KNN      1.19036  0.233904             0.587128\n",
      "ET vs MLP      1.08685  0.277102             0.587128\n",
      "There is a significant difference between the models: ET (mean: 0.725455, std: 0.084580) and Arbol (mean: 0.616364, std: 0.132228) (Cohen's d=0.9324422471179552, Large)\n",
      "There is a significant difference between the models: ET (mean: 0.725455, std: 0.084580) and SVM (mean: 0.644545, std: 0.159361) (Cohen's d=0.6016734312416732, Large)\n",
      "We can't say that there is a significant difference in the performance of the models: ET (mean: 0.725455, std: 0.084580) and LR (mean: 0.656364, std: 0.169042) (Cohen's d=0.49039629588428135, Medium)\n",
      "We can't say that there is a significant difference in the performance of the models: ET (mean: 0.725455, std: 0.084580) and RF (mean: 0.676364, std: 0.152402) (Cohen's d=0.37786986723140426, Medium)\n",
      "We can't say that there is a significant difference in the performance of the models: ET (mean: 0.725455, std: 0.084580) and KNN (mean: 0.675455, std: 0.100991) (Cohen's d=0.509237430276233, Large)\n",
      "We can't say that there is a significant difference in the performance of the models: ET (mean: 0.725455, std: 0.084580) and MLP (mean: 0.684545, std: 0.139778) (Cohen's d=0.3359446077156162, Medium)\n",
      "Eta squared: 0.050863 (Medium)\n"
     ]
    },
    {
     "data": {
      "image/png": "[encoded data removed]",
      "text/plain": [
       "<Figure size 432x288 with 1 Axes>"
      ]
     },
     "metadata": {
      "needs_background": "light"
     },
     "output_type": "display_data"
    }
   ],
   "source": [
    "compare_methods(Xumap10,Y,listAlgorithms,listParams,listNames,metric='accuracy')"
   ]
  },
  {
   "cell_type": "markdown",
   "metadata": {},
   "source": [
    "# Isomap"
   ]
  },
  {
   "cell_type": "code",
   "execution_count": 23,
   "metadata": {
    "scrolled": true
   },
   "outputs": [
    {
     "name": "stdout",
     "output_type": "stream",
     "text": [
      "temp.csv\n",
      "['Arbol' 'SVM' 'KNN' 'LR' 'MLP' 'RF' 'ET']\n",
      "==========================================================\n",
      "Report\n",
      "==========================================================\n",
      "**********************************************************\n",
      "Mean and std\n",
      "**********************************************************\n",
      "Arbol: 0.493333 (0.095411)\n",
      "SVM: 0.542321 (0.154314)\n",
      "KNN: 0.524762 (0.104206)\n",
      "LR: 0.556488 (0.177798)\n",
      "MLP: 0.518988 (0.163794)\n",
      "RF: 0.540417 (0.094002)\n",
      "ET: 0.559107 (0.094407)\n",
      "**********************************************************\n",
      "Statistical tests\n",
      "**********************************************************\n",
      "----------------------------------------------------------\n",
      "Checking parametric conditions \n",
      "----------------------------------------------------------\n",
      "Checking independence \n",
      "Ok\n",
      "Checking normality using Shapiro-Wilk's test for normality, alpha=0.05\n",
      "W: 0.979771, p:0.316777\n",
      "The null hypothesis (normality) is rejected\n",
      "Checking heteroscedasticity using Levene's test, alpha=0.05\n",
      "W: 1.652645, p:0.147613\n",
      "The null hypothesis (heteroscedasticity) is rejected\n",
      "Conditions for a parametric test are not fulfilled, applying a non-parametric test\n",
      "----------------------------------------------------------\n",
      "Working with more than 2 algorithms\n",
      "----------------------------------------------------------\n",
      "----------------------------------------------------------\n",
      "Applying Friedman test\n",
      "----------------------------------------------------------\n",
      "F-value: 0.673704, p-value: 0.6712808101316382\n",
      "Null hypothesis is accepted; hence, we can't say that there is a significant difference in the performance of the models\n",
      "----------------------------------------------------------\n",
      "Analysing effect size\n",
      "----------------------------------------------------------\n",
      "We take the model with the best mean (ET, mean: 0.559107) and compare it with the other models: \n",
      "Comparing effect size of ET and Arbol: Cohen's d=0.6574458869455526, Large\n",
      "Comparing effect size of ET and SVM: Cohen's d=0.12448966242287765, Small\n",
      "Comparing effect size of ET and KNN: Cohen's d=0.32770384788743273, Medium\n",
      "Comparing effect size of ET and LR: Cohen's d=0.017454950806104437, Small\n",
      "Comparing effect size of ET and MLP: Cohen's d=0.2847098141581412, Medium\n",
      "Comparing effect size of ET and RF: Cohen's d=0.18822108677929497, Small\n",
      "Eta squared: 0.026061 (Medium)\n"
     ]
    },
    {
     "data": {
      "image/png": "[encoded data removed]",
      "text/plain": [
       "<Figure size 432x288 with 1 Axes>"
      ]
     },
     "metadata": {
      "needs_background": "light"
     },
     "output_type": "display_data"
    }
   ],
   "source": [
    "from sklearn import manifold\n",
    "clf = manifold.Isomap(10, n_components=2)\n",
    "X_iso2 = clf.fit_transform(X)\n",
    "compare_methods(X_iso2,Y,listAlgorithms,listParams,listNames,metric='auroc')\n",
    "!mv temp.csv tempiso2.csv"
   ]
  },
  {
   "cell_type": "code",
   "execution_count": 24,
   "metadata": {},
   "outputs": [
    {
     "name": "stdout",
     "output_type": "stream",
     "text": [
      "temp.csv\n",
      "['Arbol' 'SVM' 'KNN' 'LR' 'MLP' 'RF' 'ET']\n",
      "==========================================================\n",
      "Report\n",
      "==========================================================\n",
      "**********************************************************\n",
      "Mean and std\n",
      "**********************************************************\n",
      "Arbol: 0.396389 (0.268995)\n",
      "SVM: 0.504167 (0.243163)\n",
      "KNN: 0.519444 (0.188260)\n",
      "LR: 0.531429 (0.239313)\n",
      "MLP: 0.481429 (0.284844)\n",
      "RF: 0.504444 (0.274287)\n",
      "ET: 0.550238 (0.226303)\n",
      "**********************************************************\n",
      "Statistical tests\n",
      "**********************************************************\n",
      "----------------------------------------------------------\n",
      "Checking parametric conditions \n",
      "----------------------------------------------------------\n",
      "Checking independence \n",
      "Ok\n",
      "Checking normality using Shapiro-Wilk's test for normality, alpha=0.05\n",
      "W: 0.916244, p:0.000181\n",
      "The null hypothesis (normality) is rejected\n",
      "Checking heteroscedasticity using Levene's test, alpha=0.05\n",
      "W: 0.274720, p:0.946796\n",
      "The null hypothesis (heteroscedasticity) is accepted\n",
      "Conditions for a parametric test are not fulfilled, applying a non-parametric test\n",
      "----------------------------------------------------------\n",
      "Working with more than 2 algorithms\n",
      "----------------------------------------------------------\n",
      "----------------------------------------------------------\n",
      "Applying Friedman test\n",
      "----------------------------------------------------------\n",
      "F-value: 0.795918, p-value: 0.5772649317333289\n",
      "Null hypothesis is accepted; hence, we can't say that there is a significant difference in the performance of the models\n",
      "----------------------------------------------------------\n",
      "Analysing effect size\n",
      "----------------------------------------------------------\n",
      "We take the model with the best mean (ET, mean: 0.550238) and compare it with the other models: \n",
      "Comparing effect size of ET and Arbol: Cohen's d=0.5871823551130768, Large\n",
      "Comparing effect size of ET and SVM: Cohen's d=0.18607947879788653, Small\n",
      "Comparing effect size of ET and KNN: Cohen's d=0.14034640077599903, Small\n",
      "Comparing effect size of ET and LR: Cohen's d=0.07661814757735387, Small\n",
      "Comparing effect size of ET and MLP: Cohen's d=0.25376089808024327, Medium\n",
      "Comparing effect size of ET and RF: Cohen's d=0.17277796123815073, Small\n",
      "Eta squared: 0.033541 (Medium)\n"
     ]
    },
    {
     "data": {
      "image/png": "[encoded data removed]",
      "text/plain": [
       "<Figure size 432x288 with 1 Axes>"
      ]
     },
     "metadata": {
      "needs_background": "light"
     },
     "output_type": "display_data"
    }
   ],
   "source": [
    "compare_methods(X_iso2,Y,listAlgorithms,listParams,listNames,metric='precision')"
   ]
  },
  {
   "cell_type": "code",
   "execution_count": 25,
   "metadata": {},
   "outputs": [
    {
     "name": "stdout",
     "output_type": "stream",
     "text": [
      "temp.csv\n",
      "['Arbol' 'SVM' 'KNN' 'LR' 'MLP' 'RF' 'ET']\n",
      "==========================================================\n",
      "Report\n",
      "==========================================================\n",
      "**********************************************************\n",
      "Mean and std\n",
      "**********************************************************\n",
      "Arbol: 0.461905 (0.287780)\n",
      "SVM: 0.556548 (0.308437)\n",
      "KNN: 0.573214 (0.193430)\n",
      "LR: 0.562500 (0.273981)\n",
      "MLP: 0.495833 (0.276001)\n",
      "RF: 0.520238 (0.263203)\n",
      "ET: 0.630357 (0.205619)\n",
      "**********************************************************\n",
      "Statistical tests\n",
      "**********************************************************\n",
      "----------------------------------------------------------\n",
      "Checking parametric conditions \n",
      "----------------------------------------------------------\n",
      "Checking independence \n",
      "Ok\n",
      "Checking normality using Shapiro-Wilk's test for normality, alpha=0.05\n",
      "W: 0.951292, p:0.008478\n",
      "The null hypothesis (normality) is rejected\n",
      "Checking heteroscedasticity using Levene's test, alpha=0.05\n",
      "W: 0.397587, p:0.877877\n",
      "The null hypothesis (heteroscedasticity) is accepted\n",
      "Conditions for a parametric test are not fulfilled, applying a non-parametric test\n",
      "----------------------------------------------------------\n",
      "Working with more than 2 algorithms\n",
      "----------------------------------------------------------\n",
      "----------------------------------------------------------\n",
      "Applying Friedman test\n",
      "----------------------------------------------------------\n",
      "F-value: 0.368030, p-value: 0.8960325019793347\n",
      "Null hypothesis is accepted; hence, we can't say that there is a significant difference in the performance of the models\n",
      "----------------------------------------------------------\n",
      "Analysing effect size\n",
      "----------------------------------------------------------\n",
      "We take the model with the best mean (ET, mean: 0.630357) and compare it with the other models: \n",
      "Comparing effect size of ET and Arbol: Cohen's d=0.6389846629046066, Large\n",
      "Comparing effect size of ET and SVM: Cohen's d=0.2671375865308609, Medium\n",
      "Comparing effect size of ET and KNN: Cohen's d=0.2715712516787502, Medium\n",
      "Comparing effect size of ET and LR: Cohen's d=0.2657662776626318, Medium\n",
      "Comparing effect size of ET and MLP: Cohen's d=0.5243931591142996, Large\n",
      "Comparing effect size of ET and RF: Cohen's d=0.44233780965353986, Medium\n",
      "Eta squared: 0.037107 (Medium)\n"
     ]
    },
    {
     "data": {
      "image/png": "[encoded data removed]",
      "text/plain": [
       "<Figure size 432x288 with 1 Axes>"
      ]
     },
     "metadata": {
      "needs_background": "light"
     },
     "output_type": "display_data"
    }
   ],
   "source": [
    "compare_methods(X_iso2,Y,listAlgorithms,listParams,listNames,metric='recall')"
   ]
  },
  {
   "cell_type": "code",
   "execution_count": 26,
   "metadata": {},
   "outputs": [
    {
     "name": "stdout",
     "output_type": "stream",
     "text": [
      "temp.csv\n",
      "['Arbol' 'SVM' 'KNN' 'LR' 'MLP' 'RF' 'ET']\n",
      "==========================================================\n",
      "Report\n",
      "==========================================================\n",
      "**********************************************************\n",
      "Mean and std\n",
      "**********************************************************\n",
      "Arbol: 0.489091 (0.110879)\n",
      "SVM: 0.538182 (0.143556)\n",
      "KNN: 0.549091 (0.118336)\n",
      "LR: 0.577273 (0.128066)\n",
      "MLP: 0.577273 (0.135650)\n",
      "RF: 0.540000 (0.090106)\n",
      "ET: 0.560000 (0.113196)\n",
      "**********************************************************\n",
      "Statistical tests\n",
      "**********************************************************\n",
      "----------------------------------------------------------\n",
      "Checking parametric conditions \n",
      "----------------------------------------------------------\n",
      "Checking independence \n",
      "Ok\n",
      "Checking normality using Shapiro-Wilk's test for normality, alpha=0.05\n",
      "W: 0.940560, p:0.002396\n",
      "The null hypothesis (normality) is rejected\n",
      "Checking heteroscedasticity using Levene's test, alpha=0.05\n",
      "W: 0.366342, p:0.897553\n",
      "The null hypothesis (heteroscedasticity) is accepted\n",
      "Conditions for a parametric test are not fulfilled, applying a non-parametric test\n",
      "----------------------------------------------------------\n",
      "Working with more than 2 algorithms\n",
      "----------------------------------------------------------\n",
      "----------------------------------------------------------\n",
      "Applying Friedman test\n",
      "----------------------------------------------------------\n",
      "F-value: 0.420561, p-value: 0.8621386268974177\n",
      "Null hypothesis is accepted; hence, we can't say that there is a significant difference in the performance of the models\n",
      "----------------------------------------------------------\n",
      "Analysing effect size\n",
      "----------------------------------------------------------\n",
      "We take the model with the best mean (LR, mean: 0.577273) and compare it with the other models: \n",
      "Comparing effect size of LR and Arbol: Cohen's d=0.6984122921645147, Large\n",
      "Comparing effect size of LR and SVM: Cohen's d=0.2726200633387368, Medium\n",
      "Comparing effect size of LR and KNN: Cohen's d=0.21683977845710117, Medium\n",
      "Comparing effect size of LR and MLP: Cohen's d=7.984478334794309e-16, Small\n",
      "Comparing effect size of LR and RF: Cohen's d=0.3193512754259521, Medium\n",
      "Comparing effect size of LR and ET: Cohen's d=0.13558176626722335, Small\n",
      "Eta squared: 0.050737 (Medium)\n"
     ]
    },
    {
     "data": {
      "image/png": "[encoded data removed]",
      "text/plain": [
       "<Figure size 432x288 with 1 Axes>"
      ]
     },
     "metadata": {
      "needs_background": "light"
     },
     "output_type": "display_data"
    }
   ],
   "source": [
    "compare_methods(X_iso2,Y,listAlgorithms,listParams,listNames,metric='accuracy')"
   ]
  },
  {
   "cell_type": "code",
   "execution_count": 27,
   "metadata": {},
   "outputs": [
    {
     "name": "stdout",
     "output_type": "stream",
     "text": [
      "temp.csv\n",
      "['Arbol' 'SVM' 'KNN' 'LR' 'MLP' 'RF' 'ET']\n",
      "==========================================================\n",
      "Report\n",
      "==========================================================\n",
      "**********************************************************\n",
      "Mean and std\n",
      "**********************************************************\n",
      "Arbol: 0.625060 (0.178524)\n",
      "SVM: 0.570536 (0.066337)\n",
      "KNN: 0.687560 (0.147550)\n",
      "LR: 0.627440 (0.101724)\n",
      "MLP: 0.634286 (0.106315)\n",
      "RF: 0.644107 (0.148000)\n",
      "ET: 0.665238 (0.171602)\n",
      "**********************************************************\n",
      "Statistical tests\n",
      "**********************************************************\n",
      "----------------------------------------------------------\n",
      "Checking parametric conditions \n",
      "----------------------------------------------------------\n",
      "Checking independence \n",
      "Ok\n",
      "Checking normality using Shapiro-Wilk's test for normality, alpha=0.05\n",
      "W: 0.979548, p:0.308329\n",
      "The null hypothesis (normality) is rejected\n",
      "Checking heteroscedasticity using Levene's test, alpha=0.05\n",
      "W: 1.417655, p:0.221961\n",
      "The null hypothesis (heteroscedasticity) is rejected\n",
      "Conditions for a parametric test are not fulfilled, applying a non-parametric test\n",
      "----------------------------------------------------------\n",
      "Working with more than 2 algorithms\n",
      "----------------------------------------------------------\n",
      "----------------------------------------------------------\n",
      "Applying Friedman test\n",
      "----------------------------------------------------------\n",
      "F-value: 0.585394, p-value: 0.7404105831879244\n",
      "Null hypothesis is accepted; hence, we can't say that there is a significant difference in the performance of the models\n",
      "----------------------------------------------------------\n",
      "Analysing effect size\n",
      "----------------------------------------------------------\n",
      "We take the model with the best mean (KNN, mean: 0.687560) and compare it with the other models: \n",
      "Comparing effect size of KNN and Arbol: Cohen's d=0.36204722611650947, Medium\n",
      "Comparing effect size of KNN and SVM: Cohen's d=0.9705020915654732, Large\n",
      "Comparing effect size of KNN and LR: Cohen's d=0.45006000060216633, Medium\n",
      "Comparing effect size of KNN and MLP: Cohen's d=0.3930142864313946, Medium\n",
      "Comparing effect size of KNN and RF: Cohen's d=0.2789551125650001, Medium\n",
      "Comparing effect size of KNN and ET: Cohen's d=0.13232641902658387, Small\n",
      "Eta squared: 0.057941 (Medium)\n"
     ]
    },
    {
     "data": {
      "image/png": "[encoded data removed]",
      "text/plain": [
       "<Figure size 432x288 with 1 Axes>"
      ]
     },
     "metadata": {
      "needs_background": "light"
     },
     "output_type": "display_data"
    }
   ],
   "source": [
    "clf = manifold.Isomap(10, n_components=10)\n",
    "X_iso10 = clf.fit_transform(X)\n",
    "compare_methods(X_iso10,Y,listAlgorithms,listParams,listNames,metric='auroc')"
   ]
  },
  {
   "cell_type": "code",
   "execution_count": 28,
   "metadata": {},
   "outputs": [
    {
     "name": "stdout",
     "output_type": "stream",
     "text": [
      "temp.csv\n",
      "['Arbol' 'SVM' 'KNN' 'LR' 'MLP' 'RF' 'ET']\n",
      "==========================================================\n",
      "Report\n",
      "==========================================================\n",
      "**********************************************************\n",
      "Mean and std\n",
      "**********************************************************\n",
      "Arbol: 0.618929 (0.188073)\n",
      "SVM: 0.387500 (0.356239)\n",
      "KNN: 0.730833 (0.264734)\n",
      "LR: 0.600595 (0.293790)\n",
      "MLP: 0.565476 (0.240494)\n",
      "RF: 0.615833 (0.261259)\n",
      "ET: 0.618810 (0.264533)\n",
      "**********************************************************\n",
      "Statistical tests\n",
      "**********************************************************\n",
      "----------------------------------------------------------\n",
      "Checking parametric conditions \n",
      "----------------------------------------------------------\n",
      "Checking independence \n",
      "Ok\n",
      "Checking normality using Shapiro-Wilk's test for normality, alpha=0.05\n",
      "W: 0.920838, p:0.000287\n",
      "The null hypothesis (normality) is rejected\n",
      "Checking heteroscedasticity using Levene's test, alpha=0.05\n",
      "W: 0.627063, p:0.707960\n",
      "The null hypothesis (heteroscedasticity) is accepted\n",
      "Conditions for a parametric test are not fulfilled, applying a non-parametric test\n",
      "----------------------------------------------------------\n",
      "Working with more than 2 algorithms\n",
      "----------------------------------------------------------\n",
      "----------------------------------------------------------\n",
      "Applying Friedman test\n",
      "----------------------------------------------------------\n",
      "F-value: 1.655391, p-value: 0.14998787701935423\n",
      "Null hypothesis is rejected; hence, models have different performance\n",
      "Technique      Ranking\n",
      "-----------  ---------\n",
      "KNN               5.35\n",
      "ET                4.4\n",
      "RF                4.25\n",
      "Arbol             4.25\n",
      "LR                3.75\n",
      "MLP               3.3\n",
      "SVM               2.7\n",
      "Winner model: KNN\n",
      "----------------------------------------------------------\n",
      "Applying Holm p-value adjustment procedure and analysing effect size\n",
      "----------------------------------------------------------\n",
      "Comparison      Zvalue     p-value    adjusted p-value\n",
      "------------  --------  ----------  ------------------\n",
      "KNN vs SVM    2.74301   0.00608787           0.0365272\n",
      "KNN vs MLP    2.12195   0.0338418            0.169209\n",
      "KNN vs LR     1.65616   0.09769              0.39076\n",
      "KNN vs Arbol  1.13861   0.254867             0.7646\n",
      "KNN vs RF     1.13861   0.254867             0.7646\n",
      "KNN vs ET     0.983343  0.325438             0.7646\n",
      "There is a significant difference between the models: KNN (mean: 0.730833, std: 0.264734) and SVM (mean: 0.387500, std: 0.356239) (Cohen's d=1.0378386167322524, Large)\n",
      "There is a significant difference between the models: KNN (mean: 0.730833, std: 0.264734) and MLP (mean: 0.565476, std: 0.240494) (Cohen's d=0.6202799314810925, Large)\n",
      "There is a significant difference between the models: KNN (mean: 0.730833, std: 0.264734) and LR (mean: 0.600595, std: 0.293790) (Cohen's d=0.44183532993929253, Medium)\n",
      "We can't say that there is a significant difference in the performance of the models: KNN (mean: 0.730833, std: 0.264734) and Arbol (mean: 0.618929, std: 0.188073) (Cohen's d=0.4623280710782942, Medium)\n",
      "We can't say that there is a significant difference in the performance of the models: KNN (mean: 0.730833, std: 0.264734) and RF (mean: 0.615833, std: 0.261259) (Cohen's d=0.4148200802891463, Medium)\n",
      "We can't say that there is a significant difference in the performance of the models: KNN (mean: 0.730833, std: 0.264734) and ET (mean: 0.618810, std: 0.264533) (Cohen's d=0.40159346931652906, Medium)\n",
      "Eta squared: 0.110398 (Large)\n"
     ]
    },
    {
     "data": {
      "image/png": "[encoded data removed]",
      "text/plain": [
       "<Figure size 432x288 with 1 Axes>"
      ]
     },
     "metadata": {
      "needs_background": "light"
     },
     "output_type": "display_data"
    }
   ],
   "source": [
    "compare_methods(X_iso10,Y,listAlgorithms,listParams,listNames,metric='precision')"
   ]
  },
  {
   "cell_type": "code",
   "execution_count": 29,
   "metadata": {},
   "outputs": [
    {
     "name": "stdout",
     "output_type": "stream",
     "text": [
      "temp.csv\n",
      "['Arbol' 'SVM' 'KNN' 'LR' 'MLP' 'RF' 'ET']\n",
      "==========================================================\n",
      "Report\n",
      "==========================================================\n",
      "**********************************************************\n",
      "Mean and std\n",
      "**********************************************************\n",
      "Arbol: 0.691071 (0.214128)\n",
      "SVM: 0.500000 (0.434613)\n",
      "KNN: 0.596429 (0.215634)\n",
      "LR: 0.544048 (0.243745)\n",
      "MLP: 0.741071 (0.284935)\n",
      "RF: 0.641667 (0.280834)\n",
      "ET: 0.644048 (0.310093)\n",
      "**********************************************************\n",
      "Statistical tests\n",
      "**********************************************************\n",
      "----------------------------------------------------------\n",
      "Checking parametric conditions \n",
      "----------------------------------------------------------\n",
      "Checking independence \n",
      "Ok\n",
      "Checking normality using Shapiro-Wilk's test for normality, alpha=0.05\n",
      "W: 0.913000, p:0.000132\n",
      "The null hypothesis (normality) is rejected\n",
      "Checking heteroscedasticity using Levene's test, alpha=0.05\n",
      "W: 1.901062, p:0.094481\n",
      "The null hypothesis (heteroscedasticity) is rejected\n",
      "Conditions for a parametric test are not fulfilled, applying a non-parametric test\n",
      "----------------------------------------------------------\n",
      "Working with more than 2 algorithms\n",
      "----------------------------------------------------------\n",
      "----------------------------------------------------------\n",
      "Applying Friedman test\n",
      "----------------------------------------------------------\n",
      "F-value: 1.071942, p-value: 0.3907730767096962\n",
      "Null hypothesis is rejected; hence, models have different performance\n",
      "Technique      Ranking\n",
      "-----------  ---------\n",
      "MLP               4.95\n",
      "Arbol             4.7\n",
      "RF                4.25\n",
      "ET                4.1\n",
      "KNN               3.65\n",
      "LR                3.3\n",
      "SVM               3.05\n",
      "Winner model: MLP\n",
      "----------------------------------------------------------\n",
      "Applying Holm p-value adjustment procedure and analysing effect size\n",
      "----------------------------------------------------------\n",
      "Comparison      Zvalue    p-value    adjusted p-value\n",
      "------------  --------  ---------  ------------------\n",
      "MLP vs SVM    1.96669   0.0492193            0.295316\n",
      "MLP vs LR     1.70791   0.0876526            0.438263\n",
      "MLP vs KNN    1.34563   0.178423             0.71369\n",
      "MLP vs ET     0.879834  0.378949             1\n",
      "MLP vs RF     0.724569  0.468717             1\n",
      "MLP vs Arbol  0.258775  0.795809             1\n",
      "There is a significant difference between the models: MLP (mean: 0.741071, std: 0.284935) and SVM (mean: 0.500000, std: 0.434613) (Cohen's d=0.6223551477723482, Large)\n",
      "There is a significant difference between the models: MLP (mean: 0.741071, std: 0.284935) and LR (mean: 0.544048, std: 0.243745) (Cohen's d=0.7049568664572415, Large)\n",
      "We can't say that there is a significant difference in the performance of the models: MLP (mean: 0.741071, std: 0.284935) and KNN (mean: 0.596429, std: 0.215634) (Cohen's d=0.5430772161675426, Large)\n",
      "We can't say that there is a significant difference in the performance of the models: MLP (mean: 0.741071, std: 0.284935) and ET (mean: 0.644048, std: 0.310093) (Cohen's d=0.3091035753401253, Medium)\n",
      "We can't say that there is a significant difference in the performance of the models: MLP (mean: 0.741071, std: 0.284935) and RF (mean: 0.641667, std: 0.280834) (Cohen's d=0.3333557643112478, Medium)\n",
      "We can't say that there is a significant difference in the performance of the models: MLP (mean: 0.741071, std: 0.284935) and Arbol (mean: 0.691071, std: 0.214128) (Cohen's d=0.18820807498426356, Small)\n",
      "Eta squared: 0.064913 (Large)\n"
     ]
    },
    {
     "data": {
      "image/png": "[encoded data removed]",
      "text/plain": [
       "<Figure size 432x288 with 1 Axes>"
      ]
     },
     "metadata": {
      "needs_background": "light"
     },
     "output_type": "display_data"
    }
   ],
   "source": [
    "compare_methods(X_iso10,Y,listAlgorithms,listParams,listNames,metric='recall')"
   ]
  },
  {
   "cell_type": "code",
   "execution_count": 30,
   "metadata": {},
   "outputs": [
    {
     "name": "stdout",
     "output_type": "stream",
     "text": [
      "temp.csv\n",
      "['Arbol' 'SVM' 'KNN' 'LR' 'MLP' 'RF' 'ET']\n",
      "==========================================================\n",
      "Report\n",
      "==========================================================\n",
      "**********************************************************\n",
      "Mean and std\n",
      "**********************************************************\n",
      "Arbol: 0.628182 (0.136512)\n",
      "SVM: 0.420000 (0.159119)\n",
      "KNN: 0.654545 (0.157197)\n",
      "LR: 0.636364 (0.091814)\n",
      "MLP: 0.666364 (0.101725)\n",
      "RF: 0.645455 (0.121764)\n",
      "ET: 0.636364 (0.147430)\n",
      "**********************************************************\n",
      "Statistical tests\n",
      "**********************************************************\n",
      "----------------------------------------------------------\n",
      "Checking parametric conditions \n",
      "----------------------------------------------------------\n",
      "Checking independence \n",
      "Ok\n",
      "Checking normality using Shapiro-Wilk's test for normality, alpha=0.05\n",
      "W: 0.949584, p:0.006896\n",
      "The null hypothesis (normality) is rejected\n",
      "Checking heteroscedasticity using Levene's test, alpha=0.05\n",
      "W: 0.864335, p:0.526096\n",
      "The null hypothesis (heteroscedasticity) is accepted\n",
      "Conditions for a parametric test are not fulfilled, applying a non-parametric test\n",
      "----------------------------------------------------------\n",
      "Working with more than 2 algorithms\n",
      "----------------------------------------------------------\n",
      "----------------------------------------------------------\n",
      "Applying Friedman test\n",
      "----------------------------------------------------------\n",
      "F-value: 3.100840, p-value: 0.011056151776679513\n",
      "Null hypothesis is rejected; hence, models have different performance\n",
      "Technique      Ranking\n",
      "-----------  ---------\n",
      "KNN               4.6\n",
      "Arbol             4.55\n",
      "MLP               4.5\n",
      "RF                4.4\n",
      "ET                4.3\n",
      "LR                4.1\n",
      "SVM               1.55\n",
      "Winner model: KNN\n",
      "----------------------------------------------------------\n",
      "Applying Holm p-value adjustment procedure and analysing effect size\n",
      "----------------------------------------------------------\n",
      "Comparison       Zvalue     p-value    adjusted p-value\n",
      "------------  ---------  ----------  ------------------\n",
      "KNN vs SVM    3.15705    0.00159374          0.00956244\n",
      "KNN vs LR     0.517549   0.604773            1\n",
      "KNN vs ET     0.31053    0.756158            1\n",
      "KNN vs RF     0.20702    0.835994            1\n",
      "KNN vs MLP    0.10351    0.917558            1\n",
      "KNN vs Arbol  0.0517549  0.958724            1\n",
      "There is a significant difference between the models: KNN (mean: 0.654545, std: 0.157197) and SVM (mean: 0.420000, std: 0.159119) (Cohen's d=1.4068542213224726, Large)\n",
      "We can't say that there is a significant difference in the performance of the models: KNN (mean: 0.654545, std: 0.157197) and LR (mean: 0.636364, std: 0.091814) (Cohen's d=0.13399668734506603, Small)\n",
      "We can't say that there is a significant difference in the performance of the models: KNN (mean: 0.654545, std: 0.157197) and ET (mean: 0.636364, std: 0.147430) (Cohen's d=0.11318740168568107, Small)\n",
      "We can't say that there is a significant difference in the performance of the models: KNN (mean: 0.654545, std: 0.157197) and RF (mean: 0.645455, std: 0.121764) (Cohen's d=0.061339561508215186, Small)\n",
      "We can't say that there is a significant difference in the performance of the models: KNN (mean: 0.654545, std: 0.157197) and MLP (mean: 0.666364, std: 0.101725) (Cohen's d=0.0846816192507484, Small)\n",
      "We can't say that there is a significant difference in the performance of the models: KNN (mean: 0.654545, std: 0.157197) and Arbol (mean: 0.628182, std: 0.136512) (Cohen's d=0.16988915033007304, Small)\n",
      "Eta squared: 0.262758 (Large)\n"
     ]
    },
    {
     "data": {
      "image/png": "[encoded data removed]",
      "text/plain": [
       "<Figure size 432x288 with 1 Axes>"
      ]
     },
     "metadata": {
      "needs_background": "light"
     },
     "output_type": "display_data"
    }
   ],
   "source": [
    "compare_methods(X_iso10,Y,listAlgorithms,listParams,listNames,metric='accuracy')"
   ]
  },
  {
   "cell_type": "markdown",
   "metadata": {},
   "source": [
    "# LLE"
   ]
  },
  {
   "cell_type": "code",
   "execution_count": 31,
   "metadata": {
    "scrolled": true
   },
   "outputs": [
    {
     "name": "stdout",
     "output_type": "stream",
     "text": [
      "temp.csv\n",
      "['Arbol' 'SVM' 'KNN' 'LR' 'MLP' 'RF' 'ET']\n",
      "==========================================================\n",
      "Report\n",
      "==========================================================\n",
      "**********************************************************\n",
      "Mean and std\n",
      "**********************************************************\n",
      "Arbol: 0.589524 (0.113279)\n",
      "SVM: 0.580000 (0.136367)\n",
      "KNN: 0.550714 (0.162354)\n",
      "LR: 0.612024 (0.163988)\n",
      "MLP: 0.568274 (0.153787)\n",
      "RF: 0.513929 (0.179956)\n",
      "ET: 0.581071 (0.137999)\n",
      "**********************************************************\n",
      "Statistical tests\n",
      "**********************************************************\n",
      "----------------------------------------------------------\n",
      "Checking parametric conditions \n",
      "----------------------------------------------------------\n",
      "Checking independence \n",
      "Ok\n",
      "Checking normality using Shapiro-Wilk's test for normality, alpha=0.05\n",
      "W: 0.987344, p:0.706468\n",
      "The null hypothesis (normality) is accepted\n",
      "Checking heteroscedasticity using Levene's test, alpha=0.05\n",
      "W: 0.092054, p:0.996922\n",
      "The null hypothesis (heteroscedasticity) is accepted\n",
      "Conditions for a parametric test are fulfilled\n",
      "----------------------------------------------------------\n",
      "Working with more than 2 algorithms\n",
      "----------------------------------------------------------\n",
      "----------------------------------------------------------\n",
      "Applying ANOVA test\n",
      "----------------------------------------------------------\n",
      "F-value: 0.386744, p-value: 0.8848488677688494\n",
      "Null hypothesis is accepted; hence, we can't say that there is a significant difference in the performance of the models\n",
      "----------------------------------------------------------\n",
      "Analysing effect size\n",
      "----------------------------------------------------------\n",
      "We take the model with the best mean (LR, mean: 0.612024) and compare it with the other models: \n",
      "Comparing effect size of LR and Arbol: Cohen's d=0.15145762977051921, Small\n",
      "Comparing effect size of LR and SVM: Cohen's d=0.20144695584349875, Medium\n",
      "Comparing effect size of LR and KNN: Cohen's d=0.35645151063012487, Medium\n",
      "Comparing effect size of LR and MLP: Cohen's d=0.26108758856909037, Medium\n",
      "Comparing effect size of LR and RF: Cohen's d=0.5405600323353635, Large\n",
      "Comparing effect size of LR and ET: Cohen's d=0.19375584360007372, Small\n",
      "Eta squared: 0.035524 (Medium)\n"
     ]
    },
    {
     "data": {
      "image/png": "[encoded data removed]",
      "text/plain": [
       "<Figure size 432x288 with 1 Axes>"
      ]
     },
     "metadata": {
      "needs_background": "light"
     },
     "output_type": "display_data"
    }
   ],
   "source": [
    "clf = manifold.LocallyLinearEmbedding(10, n_components=2,method='standard')\n",
    "X_lle2 = clf.fit_transform(X)\n",
    "compare_methods(X_lle2,Y,listAlgorithms,listParams,listNames,metric='auroc')"
   ]
  },
  {
   "cell_type": "code",
   "execution_count": 32,
   "metadata": {},
   "outputs": [
    {
     "name": "stdout",
     "output_type": "stream",
     "text": [
      "temp.csv\n",
      "['Arbol' 'SVM' 'KNN' 'LR' 'MLP' 'RF' 'ET']\n",
      "==========================================================\n",
      "Report\n",
      "==========================================================\n",
      "**********************************************************\n",
      "Mean and std\n",
      "**********************************************************\n",
      "Arbol: 0.595000 (0.259492)\n",
      "SVM: 0.555000 (0.158888)\n",
      "KNN: 0.533810 (0.172660)\n",
      "LR: 0.603333 (0.193333)\n",
      "MLP: 0.563333 (0.239884)\n",
      "RF: 0.487381 (0.221293)\n",
      "ET: 0.568571 (0.234404)\n",
      "**********************************************************\n",
      "Statistical tests\n",
      "**********************************************************\n",
      "----------------------------------------------------------\n",
      "Checking parametric conditions \n",
      "----------------------------------------------------------\n",
      "Checking independence \n",
      "Ok\n",
      "Checking normality using Shapiro-Wilk's test for normality, alpha=0.05\n",
      "W: 0.948653, p:0.006168\n",
      "The null hypothesis (normality) is rejected\n",
      "Checking heteroscedasticity using Levene's test, alpha=0.05\n",
      "W: 0.636424, p:0.700588\n",
      "The null hypothesis (heteroscedasticity) is accepted\n",
      "Conditions for a parametric test are not fulfilled, applying a non-parametric test\n",
      "----------------------------------------------------------\n",
      "Working with more than 2 algorithms\n",
      "----------------------------------------------------------\n",
      "----------------------------------------------------------\n",
      "Applying Friedman test\n",
      "----------------------------------------------------------\n",
      "F-value: 0.741013, p-value: 0.6189861423106748\n",
      "Null hypothesis is accepted; hence, we can't say that there is a significant difference in the performance of the models\n",
      "----------------------------------------------------------\n",
      "Analysing effect size\n",
      "----------------------------------------------------------\n",
      "We take the model with the best mean (LR, mean: 0.603333) and compare it with the other models: \n",
      "Comparing effect size of LR and Arbol: Cohen's d=0.03455038268887605, Small\n",
      "Comparing effect size of LR and SVM: Cohen's d=0.2591286430511711, Medium\n",
      "Comparing effect size of LR and KNN: Cohen's d=0.35984843504581765, Medium\n",
      "Comparing effect size of LR and MLP: Cohen's d=0.17418561868120835, Small\n",
      "Comparing effect size of LR and RF: Cohen's d=0.5294060336495665, Large\n",
      "Comparing effect size of LR and ET: Cohen's d=0.15349158112236932, Small\n",
      "Eta squared: 0.027682 (Medium)\n"
     ]
    },
    {
     "data": {
      "image/png": "[encoded data removed]",
      "text/plain": [
       "<Figure size 432x288 with 1 Axes>"
      ]
     },
     "metadata": {
      "needs_background": "light"
     },
     "output_type": "display_data"
    }
   ],
   "source": [
    "compare_methods(X_lle2,Y,listAlgorithms,listParams,listNames,metric='precision')"
   ]
  },
  {
   "cell_type": "code",
   "execution_count": 33,
   "metadata": {},
   "outputs": [
    {
     "name": "stdout",
     "output_type": "stream",
     "text": [
      "temp.csv\n",
      "['Arbol' 'SVM' 'KNN' 'LR' 'MLP' 'RF' 'ET']\n",
      "==========================================================\n",
      "Report\n",
      "==========================================================\n",
      "**********************************************************\n",
      "Mean and std\n",
      "**********************************************************\n",
      "Arbol: 0.516667 (0.222157)\n",
      "SVM: 0.726190 (0.188982)\n",
      "KNN: 0.672619 (0.254731)\n",
      "LR: 0.620238 (0.195937)\n",
      "MLP: 0.620238 (0.246198)\n",
      "RF: 0.523214 (0.220197)\n",
      "ET: 0.562500 (0.202578)\n",
      "**********************************************************\n",
      "Statistical tests\n",
      "**********************************************************\n",
      "----------------------------------------------------------\n",
      "Checking parametric conditions \n",
      "----------------------------------------------------------\n",
      "Checking independence \n",
      "Ok\n",
      "Checking normality using Shapiro-Wilk's test for normality, alpha=0.05\n",
      "W: 0.916026, p:0.000177\n",
      "The null hypothesis (normality) is rejected\n",
      "Checking heteroscedasticity using Levene's test, alpha=0.05\n",
      "W: 0.297100, p:0.936073\n",
      "The null hypothesis (heteroscedasticity) is accepted\n",
      "Conditions for a parametric test are not fulfilled, applying a non-parametric test\n",
      "----------------------------------------------------------\n",
      "Working with more than 2 algorithms\n",
      "----------------------------------------------------------\n",
      "----------------------------------------------------------\n",
      "Applying Friedman test\n",
      "----------------------------------------------------------\n",
      "F-value: 1.637400, p-value: 0.15473581107132706\n",
      "Null hypothesis is rejected; hence, models have different performance\n",
      "Technique      Ranking\n",
      "-----------  ---------\n",
      "SVM               5.45\n",
      "KNN               4.55\n",
      "LR                4.15\n",
      "MLP               4.1\n",
      "ET                3.6\n",
      "Arbol             3.1\n",
      "RF                3.05\n",
      "Winner model: SVM\n",
      "----------------------------------------------------------\n",
      "Applying Holm p-value adjustment procedure and analysing effect size\n",
      "----------------------------------------------------------\n",
      "Comparison      Zvalue    p-value    adjusted p-value\n",
      "------------  --------  ---------  ------------------\n",
      "SVM vs RF     2.48424   0.012983            0.0778978\n",
      "SVM vs Arbol  2.43248   0.0149958           0.0778978\n",
      "SVM vs ET     1.91493   0.0555012           0.222005\n",
      "SVM vs MLP    1.39738   0.162299            0.486896\n",
      "SVM vs LR     1.34563   0.178423            0.486896\n",
      "SVM vs KNN    0.931589  0.351549            0.486896\n",
      "There is a significant difference between the models: SVM (mean: 0.726190, std: 0.188982) and RF (mean: 0.523214, std: 0.220197) (Cohen's d=0.9384748444151141, Large)\n",
      "There is a significant difference between the models: SVM (mean: 0.726190, std: 0.188982) and Arbol (mean: 0.516667, std: 0.222157) (Cohen's d=0.9637989606890791, Large)\n",
      "There is a significant difference between the models: SVM (mean: 0.726190, std: 0.188982) and ET (mean: 0.562500, std: 0.202578) (Cohen's d=0.7927105871719038, Large)\n",
      "There is a significant difference between the models: SVM (mean: 0.726190, std: 0.188982) and MLP (mean: 0.620238, std: 0.246198) (Cohen's d=0.45800563257427046, Medium)\n",
      "There is a significant difference between the models: SVM (mean: 0.726190, std: 0.188982) and LR (mean: 0.620238, std: 0.195937) (Cohen's d=0.5221810306245283, Large)\n",
      "There is a significant difference between the models: SVM (mean: 0.726190, std: 0.188982) and KNN (mean: 0.672619, std: 0.254731) (Cohen's d=0.22660290493109034, Medium)\n",
      "Eta squared: 0.096169 (Large)\n"
     ]
    },
    {
     "data": {
      "image/png": "[encoded data removed]",
      "text/plain": [
       "<Figure size 432x288 with 1 Axes>"
      ]
     },
     "metadata": {
      "needs_background": "light"
     },
     "output_type": "display_data"
    }
   ],
   "source": [
    "compare_methods(X_lle2,Y,listAlgorithms,listParams,listNames,metric='recall')"
   ]
  },
  {
   "cell_type": "code",
   "execution_count": 34,
   "metadata": {},
   "outputs": [
    {
     "name": "stdout",
     "output_type": "stream",
     "text": [
      "temp.csv\n",
      "['Arbol' 'SVM' 'KNN' 'LR' 'MLP' 'RF' 'ET']\n",
      "==========================================================\n",
      "Report\n",
      "==========================================================\n",
      "**********************************************************\n",
      "Mean and std\n",
      "**********************************************************\n",
      "Arbol: 0.569091 (0.072750)\n",
      "SVM: 0.609091 (0.119018)\n",
      "KNN: 0.570000 (0.162829)\n",
      "LR: 0.618182 (0.126883)\n",
      "MLP: 0.550909 (0.153214)\n",
      "RF: 0.500909 (0.146330)\n",
      "ET: 0.550000 (0.113636)\n",
      "**********************************************************\n",
      "Statistical tests\n",
      "**********************************************************\n",
      "----------------------------------------------------------\n",
      "Checking parametric conditions \n",
      "----------------------------------------------------------\n",
      "Checking independence \n",
      "Ok\n",
      "Checking normality using Shapiro-Wilk's test for normality, alpha=0.05\n",
      "W: 0.965687, p:0.051990\n",
      "The null hypothesis (normality) is rejected\n",
      "Checking heteroscedasticity using Levene's test, alpha=0.05\n",
      "W: 0.622176, p:0.711807\n",
      "The null hypothesis (heteroscedasticity) is accepted\n",
      "Conditions for a parametric test are not fulfilled, applying a non-parametric test\n",
      "----------------------------------------------------------\n",
      "Working with more than 2 algorithms\n",
      "----------------------------------------------------------\n",
      "----------------------------------------------------------\n",
      "Applying Friedman test\n",
      "----------------------------------------------------------\n",
      "F-value: 0.942790, p-value: 0.4724550155669588\n",
      "Null hypothesis is rejected; hence, models have different performance\n",
      "Technique      Ranking\n",
      "-----------  ---------\n",
      "LR                4.85\n",
      "SVM               4.6\n",
      "Arbol             4.2\n",
      "KNN               4.1\n",
      "ET                3.8\n",
      "MLP               3.6\n",
      "RF                2.85\n",
      "Winner model: LR\n",
      "----------------------------------------------------------\n",
      "Applying Holm p-value adjustment procedure and analysing effect size\n",
      "----------------------------------------------------------\n",
      "Comparison      Zvalue    p-value    adjusted p-value\n",
      "------------  --------  ---------  ------------------\n",
      "LR vs RF      2.0702    0.0384339            0.230604\n",
      "LR vs MLP     1.29387   0.195709             0.978547\n",
      "LR vs ET      1.08685   0.277102             1\n",
      "LR vs KNN     0.776324  0.437558             1\n",
      "LR vs Arbol   0.672814  0.501066             1\n",
      "LR vs SVM     0.258775  0.795809             1\n",
      "There is a significant difference between the models: LR (mean: 0.618182, std: 0.126883) and RF (mean: 0.500909, std: 0.146330) (Cohen's d=0.812363974211531, Large)\n",
      "We can't say that there is a significant difference in the performance of the models: LR (mean: 0.618182, std: 0.126883) and MLP (mean: 0.550909, std: 0.153214) (Cohen's d=0.4537041598953805, Medium)\n",
      "We can't say that there is a significant difference in the performance of the models: LR (mean: 0.618182, std: 0.126883) and ET (mean: 0.550000, std: 0.113636) (Cohen's d=0.5370479056163734, Large)\n",
      "We can't say that there is a significant difference in the performance of the models: LR (mean: 0.618182, std: 0.126883) and KNN (mean: 0.570000, std: 0.162829) (Cohen's d=0.31314930798357493, Medium)\n",
      "We can't say that there is a significant difference in the performance of the models: LR (mean: 0.618182, std: 0.126883) and Arbol (mean: 0.569091, std: 0.072750) (Cohen's d=0.4503128258980519, Medium)\n",
      "We can't say that there is a significant difference in the performance of the models: LR (mean: 0.618182, std: 0.126883) and SVM (mean: 0.609091, std: 0.119018) (Cohen's d=0.07010953433752445, Small)\n",
      "Eta squared: 0.072145 (Large)\n"
     ]
    },
    {
     "data": {
      "image/png": "[encoded data removed]",
      "text/plain": [
       "<Figure size 432x288 with 1 Axes>"
      ]
     },
     "metadata": {
      "needs_background": "light"
     },
     "output_type": "display_data"
    }
   ],
   "source": [
    "compare_methods(X_lle2,Y,listAlgorithms,listParams,listNames,metric='accuracy')"
   ]
  },
  {
   "cell_type": "code",
   "execution_count": 35,
   "metadata": {
    "scrolled": true
   },
   "outputs": [
    {
     "name": "stdout",
     "output_type": "stream",
     "text": [
      "temp.csv\n",
      "['Arbol' 'SVM' 'KNN' 'LR' 'MLP' 'RF' 'ET']\n",
      "==========================================================\n",
      "Report\n",
      "==========================================================\n",
      "**********************************************************\n",
      "Mean and std\n",
      "**********************************************************\n",
      "Arbol: 0.557083 (0.127544)\n",
      "SVM: 0.663750 (0.086304)\n",
      "KNN: 0.706607 (0.166654)\n",
      "LR: 0.680714 (0.138249)\n",
      "MLP: 0.675357 (0.131825)\n",
      "RF: 0.733690 (0.130467)\n",
      "ET: 0.697798 (0.171536)\n",
      "**********************************************************\n",
      "Statistical tests\n",
      "**********************************************************\n",
      "----------------------------------------------------------\n",
      "Checking parametric conditions \n",
      "----------------------------------------------------------\n",
      "Checking independence \n",
      "Ok\n",
      "Checking normality using Shapiro-Wilk's test for normality, alpha=0.05\n",
      "W: 0.983534, p:0.488352\n",
      "The null hypothesis (normality) is rejected\n",
      "Checking heteroscedasticity using Levene's test, alpha=0.05\n",
      "W: 1.595982, p:0.163111\n",
      "The null hypothesis (heteroscedasticity) is rejected\n",
      "Conditions for a parametric test are not fulfilled, applying a non-parametric test\n",
      "----------------------------------------------------------\n",
      "Working with more than 2 algorithms\n",
      "----------------------------------------------------------\n",
      "----------------------------------------------------------\n",
      "Applying Friedman test\n",
      "----------------------------------------------------------\n",
      "F-value: 1.206561, p-value: 0.3172084304661743\n",
      "Null hypothesis is rejected; hence, models have different performance\n",
      "Technique      Ranking\n",
      "-----------  ---------\n",
      "RF                5.1\n",
      "KNN               4.65\n",
      "MLP               4.05\n",
      "LR                3.9\n",
      "ET                3.8\n",
      "SVM               3.75\n",
      "Arbol             2.75\n",
      "Winner model: RF\n",
      "----------------------------------------------------------\n",
      "Applying Holm p-value adjustment procedure and analysing effect size\n",
      "----------------------------------------------------------\n",
      "Comparison      Zvalue    p-value    adjusted p-value\n",
      "------------  --------  ---------  ------------------\n",
      "RF vs Arbol   2.43248   0.0149958           0.0899746\n",
      "RF vs SVM     1.39738   0.162299            0.811493\n",
      "RF vs ET      1.34563   0.178423            0.811493\n",
      "RF vs LR      1.24212   0.214193            0.811493\n",
      "RF vs MLP     1.08685   0.277102            0.811493\n",
      "RF vs KNN     0.465794  0.641363            0.811493\n",
      "There is a significant difference between the models: RF (mean: 0.733690, std: 0.130467) and Arbol (mean: 0.557083, std: 0.127544) (Cohen's d=1.298654276411978, Large)\n",
      "We can't say that there is a significant difference in the performance of the models: RF (mean: 0.733690, std: 0.130467) and SVM (mean: 0.663750, std: 0.086304) (Cohen's d=0.5998580277715092, Large)\n",
      "We can't say that there is a significant difference in the performance of the models: RF (mean: 0.733690, std: 0.130467) and ET (mean: 0.697798, std: 0.171536) (Cohen's d=0.22344451280365896, Medium)\n",
      "We can't say that there is a significant difference in the performance of the models: RF (mean: 0.733690, std: 0.130467) and LR (mean: 0.680714, std: 0.138249) (Cohen's d=0.3739013963643958, Medium)\n",
      "We can't say that there is a significant difference in the performance of the models: RF (mean: 0.733690, std: 0.130467) and MLP (mean: 0.675357, std: 0.131825) (Cohen's d=0.4219652509120672, Medium)\n",
      "We can't say that there is a significant difference in the performance of the models: RF (mean: 0.733690, std: 0.130467) and KNN (mean: 0.706607, std: 0.166654) (Cohen's d=0.17168145586875486, Small)\n",
      "Eta squared: 0.123911 (Large)\n"
     ]
    },
    {
     "data": {
      "image/png": "[encoded data removed]",
      "text/plain": [
       "<Figure size 432x288 with 1 Axes>"
      ]
     },
     "metadata": {
      "needs_background": "light"
     },
     "output_type": "display_data"
    }
   ],
   "source": [
    "clf = manifold.LocallyLinearEmbedding(10, n_components=10,method='standard')\n",
    "X_lle10 = clf.fit_transform(X)\n",
    "compare_methods(X_lle10,Y,listAlgorithms,listParams,listNames,metric='auroc')"
   ]
  },
  {
   "cell_type": "code",
   "execution_count": 36,
   "metadata": {},
   "outputs": [
    {
     "name": "stdout",
     "output_type": "stream",
     "text": [
      "temp.csv\n",
      "['Arbol' 'SVM' 'KNN' 'LR' 'MLP' 'RF' 'ET']\n",
      "==========================================================\n",
      "Report\n",
      "==========================================================\n",
      "**********************************************************\n",
      "Mean and std\n",
      "**********************************************************\n",
      "Arbol: 0.566190 (0.186852)\n",
      "SVM: 0.635476 (0.194419)\n",
      "KNN: 0.668333 (0.208292)\n",
      "LR: 0.642262 (0.157231)\n",
      "MLP: 0.677262 (0.209256)\n",
      "RF: 0.677500 (0.160643)\n",
      "ET: 0.660317 (0.155738)\n",
      "**********************************************************\n",
      "Statistical tests\n",
      "**********************************************************\n",
      "----------------------------------------------------------\n",
      "Checking parametric conditions \n",
      "----------------------------------------------------------\n",
      "Checking independence \n",
      "Ok\n",
      "Checking normality using Shapiro-Wilk's test for normality, alpha=0.05\n",
      "W: 0.951391, p:0.008580\n",
      "The null hypothesis (normality) is rejected\n",
      "Checking heteroscedasticity using Levene's test, alpha=0.05\n",
      "W: 0.199608, p:0.975702\n",
      "The null hypothesis (heteroscedasticity) is accepted\n",
      "Conditions for a parametric test are not fulfilled, applying a non-parametric test\n",
      "----------------------------------------------------------\n",
      "Working with more than 2 algorithms\n",
      "----------------------------------------------------------\n",
      "----------------------------------------------------------\n",
      "Applying Friedman test\n",
      "----------------------------------------------------------\n",
      "F-value: 0.794015, p-value: 0.5786925817356183\n",
      "Null hypothesis is accepted; hence, we can't say that there is a significant difference in the performance of the models\n",
      "----------------------------------------------------------\n",
      "Analysing effect size\n",
      "----------------------------------------------------------\n",
      "We take the model with the best mean (RF, mean: 0.677500) and compare it with the other models: \n",
      "Comparing effect size of RF and Arbol: Cohen's d=0.6060426839824412, Large\n",
      "Comparing effect size of RF and SVM: Cohen's d=0.22355594693303069, Medium\n",
      "Comparing effect size of RF and KNN: Cohen's d=0.04675417471596327, Small\n",
      "Comparing effect size of RF and LR: Cohen's d=0.21032163238883633, Medium\n",
      "Comparing effect size of RF and MLP: Cohen's d=0.0012108767525450931, Small\n",
      "Comparing effect size of RF and ET: Cohen's d=0.10303282304216543, Small\n",
      "Eta squared: 0.037581 (Medium)\n"
     ]
    },
    {
     "data": {
      "image/png": "[encoded data removed]",
      "text/plain": [
       "<Figure size 432x288 with 1 Axes>"
      ]
     },
     "metadata": {
      "needs_background": "light"
     },
     "output_type": "display_data"
    }
   ],
   "source": [
    "compare_methods(X_lle10,Y,listAlgorithms,listParams,listNames,metric='precision')"
   ]
  },
  {
   "cell_type": "code",
   "execution_count": 37,
   "metadata": {},
   "outputs": [
    {
     "name": "stdout",
     "output_type": "stream",
     "text": [
      "temp.csv\n",
      "['Arbol' 'SVM' 'KNN' 'LR' 'MLP' 'RF' 'ET']\n",
      "==========================================================\n",
      "Report\n",
      "==========================================================\n",
      "**********************************************************\n",
      "Mean and std\n",
      "**********************************************************\n",
      "Arbol: 0.576786 (0.127009)\n",
      "SVM: 0.647619 (0.222985)\n",
      "KNN: 0.747619 (0.218983)\n",
      "LR: 0.710714 (0.233349)\n",
      "MLP: 0.625000 (0.178194)\n",
      "RF: 0.787500 (0.183890)\n",
      "ET: 0.752381 (0.226115)\n",
      "**********************************************************\n",
      "Statistical tests\n",
      "**********************************************************\n",
      "----------------------------------------------------------\n",
      "Checking parametric conditions \n",
      "----------------------------------------------------------\n",
      "Checking independence \n",
      "Ok\n",
      "Checking normality using Shapiro-Wilk's test for normality, alpha=0.05\n",
      "W: 0.932535, p:0.000980\n",
      "The null hypothesis (normality) is rejected\n",
      "Checking heteroscedasticity using Levene's test, alpha=0.05\n",
      "W: 0.565777, p:0.755930\n",
      "The null hypothesis (heteroscedasticity) is accepted\n",
      "Conditions for a parametric test are not fulfilled, applying a non-parametric test\n",
      "----------------------------------------------------------\n",
      "Working with more than 2 algorithms\n",
      "----------------------------------------------------------\n",
      "----------------------------------------------------------\n",
      "Applying Friedman test\n",
      "----------------------------------------------------------\n",
      "F-value: 1.248068, p-value: 0.29690159721618536\n",
      "Null hypothesis is rejected; hence, models have different performance\n",
      "Technique      Ranking\n",
      "-----------  ---------\n",
      "RF                5\n",
      "KNN               4.7\n",
      "ET                4.15\n",
      "LR                4.1\n",
      "SVM               3.85\n",
      "MLP               3.45\n",
      "Arbol             2.75\n",
      "Winner model: RF\n",
      "----------------------------------------------------------\n",
      "Applying Holm p-value adjustment procedure and analysing effect size\n",
      "----------------------------------------------------------\n",
      "Comparison      Zvalue    p-value    adjusted p-value\n",
      "------------  --------  ---------  ------------------\n",
      "RF vs Arbol   2.32897   0.0198606            0.119164\n",
      "RF vs MLP     1.6044    0.108625             0.543127\n",
      "RF vs SVM     1.19036   0.233904             0.935615\n",
      "RF vs LR      0.931589  0.351549             1\n",
      "RF vs ET      0.879834  0.378949             1\n",
      "RF vs KNN     0.31053   0.756158             1\n",
      "There is a significant difference between the models: RF (mean: 0.787500, std: 0.183890) and Arbol (mean: 0.576786, std: 0.127009) (Cohen's d=1.2649581709655078, Large)\n",
      "We can't say that there is a significant difference in the performance of the models: RF (mean: 0.787500, std: 0.183890) and MLP (mean: 0.625000, std: 0.178194) (Cohen's d=0.8514152942642141, Large)\n",
      "We can't say that there is a significant difference in the performance of the models: RF (mean: 0.787500, std: 0.183890) and SVM (mean: 0.647619, std: 0.222985) (Cohen's d=0.6493119505044476, Large)\n",
      "We can't say that there is a significant difference in the performance of the models: RF (mean: 0.787500, std: 0.183890) and LR (mean: 0.710714, std: 0.233349) (Cohen's d=0.3467506684799898, Medium)\n",
      "We can't say that there is a significant difference in the performance of the models: RF (mean: 0.787500, std: 0.183890) and ET (mean: 0.752381, std: 0.226115) (Cohen's d=0.16166406132167466, Small)\n",
      "We can't say that there is a significant difference in the performance of the models: RF (mean: 0.787500, std: 0.183890) and KNN (mean: 0.747619, std: 0.218983) (Cohen's d=0.18711442361957464, Small)\n",
      "Eta squared: 0.112002 (Large)\n"
     ]
    },
    {
     "data": {
      "image/png": "[encoded data removed]",
      "text/plain": [
       "<Figure size 432x288 with 1 Axes>"
      ]
     },
     "metadata": {
      "needs_background": "light"
     },
     "output_type": "display_data"
    }
   ],
   "source": [
    "compare_methods(X_lle10,Y,listAlgorithms,listParams,listNames,metric='recall')"
   ]
  },
  {
   "cell_type": "code",
   "execution_count": 38,
   "metadata": {},
   "outputs": [
    {
     "name": "stdout",
     "output_type": "stream",
     "text": [
      "temp.csv\n",
      "['Arbol' 'SVM' 'KNN' 'LR' 'MLP' 'RF' 'ET']\n",
      "==========================================================\n",
      "Report\n",
      "==========================================================\n",
      "**********************************************************\n",
      "Mean and std\n",
      "**********************************************************\n",
      "Arbol: 0.599091 (0.106052)\n",
      "SVM: 0.665455 (0.104668)\n",
      "KNN: 0.706364 (0.150813)\n",
      "LR: 0.666364 (0.119783)\n",
      "MLP: 0.685455 (0.124860)\n",
      "RF: 0.717273 (0.124545)\n",
      "ET: 0.676364 (0.152402)\n",
      "**********************************************************\n",
      "Statistical tests\n",
      "**********************************************************\n",
      "----------------------------------------------------------\n",
      "Checking parametric conditions \n",
      "----------------------------------------------------------\n",
      "Checking independence \n",
      "Ok\n",
      "Checking normality using Shapiro-Wilk's test for normality, alpha=0.05\n",
      "W: 0.961758, p:0.031331\n",
      "The null hypothesis (normality) is rejected\n",
      "Checking heteroscedasticity using Levene's test, alpha=0.05\n",
      "W: 0.595266, p:0.732940\n",
      "The null hypothesis (heteroscedasticity) is accepted\n",
      "Conditions for a parametric test are not fulfilled, applying a non-parametric test\n",
      "----------------------------------------------------------\n",
      "Working with more than 2 algorithms\n",
      "----------------------------------------------------------\n",
      "----------------------------------------------------------\n",
      "Applying Friedman test\n",
      "----------------------------------------------------------\n",
      "F-value: 0.892051, p-value: 0.5073599487843857\n",
      "Null hypothesis is accepted; hence, we can't say that there is a significant difference in the performance of the models\n",
      "----------------------------------------------------------\n",
      "Analysing effect size\n",
      "----------------------------------------------------------\n",
      "We take the model with the best mean (RF, mean: 0.717273) and compare it with the other models: \n",
      "Comparing effect size of RF and Arbol: Cohen's d=0.9692919267237358, Large\n",
      "Comparing effect size of RF and SVM: Cohen's d=0.42733310559582544, Medium\n",
      "Comparing effect size of RF and KNN: Cohen's d=0.07482968347847051, Small\n",
      "Comparing effect size of RF and LR: Cohen's d=0.3952667644921522, Medium\n",
      "Comparing effect size of RF and MLP: Cohen's d=0.2420582430368398, Medium\n",
      "Comparing effect size of RF and ET: Cohen's d=0.2788607500197253, Medium\n",
      "Eta squared: 0.071875 (Large)\n"
     ]
    },
    {
     "data": {
      "image/png": "[encoded data removed]",
      "text/plain": [
       "<Figure size 432x288 with 1 Axes>"
      ]
     },
     "metadata": {
      "needs_background": "light"
     },
     "output_type": "display_data"
    }
   ],
   "source": [
    "compare_methods(X_lle10,Y,listAlgorithms,listParams,listNames,metric='accuracy')"
   ]
  },
  {
   "cell_type": "code",
   "execution_count": 39,
   "metadata": {},
   "outputs": [
    {
     "name": "stdout",
     "output_type": "stream",
     "text": [
      "temp.csv\n",
      "['Arbol' 'SVM' 'KNN' 'LR' 'MLP' 'RF' 'ET']\n",
      "==========================================================\n",
      "Report\n",
      "==========================================================\n",
      "**********************************************************\n",
      "Mean and std\n",
      "**********************************************************\n",
      "Arbol: 0.614107 (0.182826)\n",
      "SVM: 0.513095 (0.113589)\n",
      "KNN: 0.483095 (0.026480)\n",
      "LR: 0.487202 (0.098278)\n",
      "MLP: 0.511845 (0.098569)\n",
      "RF: 0.654464 (0.098363)\n",
      "ET: 0.547024 (0.126751)\n",
      "**********************************************************\n",
      "Statistical tests\n",
      "**********************************************************\n",
      "----------------------------------------------------------\n",
      "Checking parametric conditions \n",
      "----------------------------------------------------------\n",
      "Checking independence \n",
      "Ok\n",
      "Checking normality using Shapiro-Wilk's test for normality, alpha=0.05\n",
      "W: 0.927299, p:0.000560\n",
      "The null hypothesis (normality) is rejected\n",
      "Checking heteroscedasticity using Levene's test, alpha=0.05\n",
      "W: 2.657469, p:0.023145\n",
      "The null hypothesis (heteroscedasticity) is rejected\n",
      "Conditions for a parametric test are not fulfilled, applying a non-parametric test\n",
      "----------------------------------------------------------\n",
      "Working with more than 2 algorithms\n",
      "----------------------------------------------------------\n",
      "----------------------------------------------------------\n",
      "Applying Friedman test\n",
      "----------------------------------------------------------\n",
      "F-value: 4.009809, p-value: 0.0021610374631365614\n",
      "Null hypothesis is rejected; hence, models have different performance\n",
      "Technique      Ranking\n",
      "-----------  ---------\n",
      "RF                6.05\n",
      "Arbol             5.1\n",
      "MLP               3.9\n",
      "ET                3.85\n",
      "SVM               3.4\n",
      "LR                3.15\n",
      "KNN               2.55\n",
      "Winner model: RF\n",
      "----------------------------------------------------------\n",
      "Applying Holm p-value adjustment procedure and analysing effect size\n",
      "----------------------------------------------------------\n",
      "Comparison      Zvalue      p-value    adjusted p-value\n",
      "------------  --------  -----------  ------------------\n",
      "RF vs KNN     3.62284   0.000291381          0.00174829\n",
      "RF vs LR      3.00179   0.00268402           0.0134201\n",
      "RF vs SVM     2.74301   0.00608787           0.0243515\n",
      "RF vs ET      2.27722   0.0227733            0.0683199\n",
      "RF vs MLP     2.22546   0.0260503            0.0683199\n",
      "RF vs Arbol   0.983343  0.325438             0.325438\n",
      "There is a significant difference between the models: RF (mean: 0.654464, std: 0.098363) and KNN (mean: 0.483095, std: 0.026480) (Cohen's d=2.257073688933983, Large)\n",
      "There is a significant difference between the models: RF (mean: 0.654464, std: 0.098363) and LR (mean: 0.487202, std: 0.098278) (Cohen's d=1.6138959951420555, Large)\n",
      "There is a significant difference between the models: RF (mean: 0.654464, std: 0.098363) and SVM (mean: 0.513095, std: 0.113589) (Cohen's d=1.2622660680526212, Large)\n",
      "There is a significant difference between the models: RF (mean: 0.654464, std: 0.098363) and ET (mean: 0.547024, std: 0.126751) (Cohen's d=0.8984458631125743, Large)\n",
      "There is a significant difference between the models: RF (mean: 0.654464, std: 0.098363) and MLP (mean: 0.511845, std: 0.098569) (Cohen's d=1.3740829817449602, Large)\n",
      "There is a significant difference between the models: RF (mean: 0.654464, std: 0.098363) and Arbol (mean: 0.614107, std: 0.182826) (Cohen's d=0.26080431996994113, Medium)\n",
      "Eta squared: 0.220398 (Large)\n"
     ]
    },
    {
     "data": {
      "image/png": "[encoded data removed]",
      "text/plain": [
       "<Figure size 432x288 with 1 Axes>"
      ]
     },
     "metadata": {
      "needs_background": "light"
     },
     "output_type": "display_data"
    }
   ],
   "source": [
    "clf = manifold.LocallyLinearEmbedding(10, n_components=100,method='standard')\n",
    "X_lle100 = clf.fit_transform(X)\n",
    "compare_methods(X_lle100,Y,listAlgorithms,listParams,listNames,metric='auroc')"
   ]
  },
  {
   "cell_type": "code",
   "execution_count": 40,
   "metadata": {},
   "outputs": [
    {
     "name": "stdout",
     "output_type": "stream",
     "text": [
      "temp.csv\n",
      "['Arbol' 'SVM' 'KNN' 'LR' 'MLP' 'RF' 'ET']\n",
      "==========================================================\n",
      "Report\n",
      "==========================================================\n",
      "**********************************************************\n",
      "Mean and std\n",
      "**********************************************************\n",
      "Arbol: 0.563532 (0.244775)\n",
      "SVM: 0.282879 (0.298484)\n",
      "KNN: 0.480606 (0.188002)\n",
      "LR: 0.447273 (0.323945)\n",
      "MLP: 0.523333 (0.318460)\n",
      "RF: 0.682738 (0.285988)\n",
      "ET: 0.418571 (0.335932)\n",
      "**********************************************************\n",
      "Statistical tests\n",
      "**********************************************************\n",
      "----------------------------------------------------------\n",
      "Checking parametric conditions \n",
      "----------------------------------------------------------\n",
      "Checking independence \n",
      "Ok\n",
      "Checking normality using Shapiro-Wilk's test for normality, alpha=0.05\n",
      "W: 0.938099, p:0.001814\n",
      "The null hypothesis (normality) is rejected\n",
      "Checking heteroscedasticity using Levene's test, alpha=0.05\n",
      "W: 0.446123, p:0.845032\n",
      "The null hypothesis (heteroscedasticity) is accepted\n",
      "Conditions for a parametric test are not fulfilled, applying a non-parametric test\n",
      "----------------------------------------------------------\n",
      "Working with more than 2 algorithms\n",
      "----------------------------------------------------------\n",
      "----------------------------------------------------------\n",
      "Applying Friedman test\n",
      "----------------------------------------------------------\n",
      "F-value: 3.962963, p-value: 0.0023479987447526662\n",
      "Null hypothesis is rejected; hence, models have different performance\n",
      "Technique      Ranking\n",
      "-----------  ---------\n",
      "RF                6.15\n",
      "Arbol             4.8\n",
      "MLP               4.25\n",
      "ET                3.6\n",
      "LR                3.5\n",
      "KNN               3.15\n",
      "SVM               2.55\n",
      "Winner model: RF\n",
      "----------------------------------------------------------\n",
      "Applying Holm p-value adjustment procedure and analysing effect size\n",
      "----------------------------------------------------------\n",
      "Comparison      Zvalue      p-value    adjusted p-value\n",
      "------------  --------  -----------  ------------------\n",
      "RF vs SVM      3.72635  0.000194269          0.00116562\n",
      "RF vs KNN      3.1053   0.00190089           0.00950447\n",
      "RF vs LR       2.74301  0.00608787           0.0243515\n",
      "RF vs ET       2.6395   0.00830282           0.0249085\n",
      "RF vs MLP      1.96669  0.0492193            0.0984386\n",
      "RF vs Arbol    1.39738  0.162299             0.162299\n",
      "There is a significant difference between the models: RF (mean: 0.682738, std: 0.285988) and SVM (mean: 0.282879, std: 0.298484) (Cohen's d=1.2977639920144832, Large)\n",
      "There is a significant difference between the models: RF (mean: 0.682738, std: 0.285988) and KNN (mean: 0.480606, std: 0.188002) (Cohen's d=0.7923747211097595, Large)\n",
      "There is a significant difference between the models: RF (mean: 0.682738, std: 0.285988) and LR (mean: 0.447273, std: 0.323945) (Cohen's d=0.7310662414321837, Large)\n",
      "There is a significant difference between the models: RF (mean: 0.682738, std: 0.285988) and ET (mean: 0.418571, std: 0.335932) (Cohen's d=0.8033398633280419, Large)\n",
      "There is a significant difference between the models: RF (mean: 0.682738, std: 0.285988) and MLP (mean: 0.523333, std: 0.318460) (Cohen's d=0.4996522000012874, Medium)\n",
      "There is a significant difference between the models: RF (mean: 0.682738, std: 0.285988) and Arbol (mean: 0.563532, std: 0.244775) (Cohen's d=0.42485894294892845, Medium)\n",
      "Eta squared: 0.137661 (Large)\n"
     ]
    },
    {
     "data": {
      "image/png": "[encoded data removed]",
      "text/plain": [
       "<Figure size 432x288 with 1 Axes>"
      ]
     },
     "metadata": {
      "needs_background": "light"
     },
     "output_type": "display_data"
    }
   ],
   "source": [
    "compare_methods(X_lle100,Y,listAlgorithms,listParams,listNames,metric='precision')"
   ]
  },
  {
   "cell_type": "code",
   "execution_count": 41,
   "metadata": {},
   "outputs": [
    {
     "name": "stdout",
     "output_type": "stream",
     "text": [
      "temp.csv\n",
      "['Arbol' 'SVM' 'KNN' 'LR' 'MLP' 'RF' 'ET']\n",
      "==========================================================\n",
      "Report\n",
      "==========================================================\n",
      "**********************************************************\n",
      "Mean and std\n",
      "**********************************************************\n",
      "Arbol: 0.703571 (0.273781)\n",
      "SVM: 0.466667 (0.434933)\n",
      "KNN: 0.892857 (0.184197)\n",
      "LR: 0.474405 (0.390796)\n",
      "MLP: 0.617262 (0.364255)\n",
      "RF: 0.581548 (0.147062)\n",
      "ET: 0.428571 (0.282923)\n",
      "**********************************************************\n",
      "Statistical tests\n",
      "**********************************************************\n",
      "----------------------------------------------------------\n",
      "Checking parametric conditions \n",
      "----------------------------------------------------------\n",
      "Checking independence \n",
      "Ok\n",
      "Checking normality using Shapiro-Wilk's test for normality, alpha=0.05\n",
      "W: 0.885953, p:0.000011\n",
      "The null hypothesis (normality) is rejected\n",
      "Checking heteroscedasticity using Levene's test, alpha=0.05\n",
      "W: 3.595042, p:0.003968\n",
      "The null hypothesis (heteroscedasticity) is rejected\n",
      "Conditions for a parametric test are not fulfilled, applying a non-parametric test\n",
      "----------------------------------------------------------\n",
      "Working with more than 2 algorithms\n",
      "----------------------------------------------------------\n",
      "----------------------------------------------------------\n",
      "Applying Friedman test\n",
      "----------------------------------------------------------\n",
      "F-value: 2.162791, p-value: 0.06092001253029222\n",
      "Null hypothesis is rejected; hence, models have different performance\n",
      "Technique      Ranking\n",
      "-----------  ---------\n",
      "KNN               5.7\n",
      "Arbol             4.5\n",
      "MLP               4.3\n",
      "RF                4\n",
      "LR                3.35\n",
      "SVM               3.25\n",
      "ET                2.9\n",
      "Winner model: KNN\n",
      "----------------------------------------------------------\n",
      "Applying Holm p-value adjustment procedure and analysing effect size\n",
      "----------------------------------------------------------\n",
      "Comparison      Zvalue     p-value    adjusted p-value\n",
      "------------  --------  ----------  ------------------\n",
      "KNN vs ET      2.89828  0.00375221           0.0225133\n",
      "KNN vs SVM     2.53599  0.011213             0.0560648\n",
      "KNN vs LR      2.43248  0.0149958            0.0599831\n",
      "KNN vs RF      1.75967  0.0784643            0.235393\n",
      "KNN vs MLP     1.44914  0.147299             0.294598\n",
      "KNN vs Arbol   1.24212  0.214193             0.294598\n",
      "There is a significant difference between the models: KNN (mean: 0.892857, std: 0.184197) and ET (mean: 0.428571, std: 0.282923) (Cohen's d=1.8450953960816312, Large)\n",
      "There is a significant difference between the models: KNN (mean: 0.892857, std: 0.184197) and SVM (mean: 0.466667, std: 0.434933) (Cohen's d=1.2105837581612056, Large)\n",
      "There is a significant difference between the models: KNN (mean: 0.892857, std: 0.184197) and LR (mean: 0.474405, std: 0.390796) (Cohen's d=1.2994760577267737, Large)\n",
      "There is a significant difference between the models: KNN (mean: 0.892857, std: 0.184197) and RF (mean: 0.581548, std: 0.147062) (Cohen's d=1.771999224074203, Large)\n",
      "There is a significant difference between the models: KNN (mean: 0.892857, std: 0.184197) and MLP (mean: 0.617262, std: 0.364255) (Cohen's d=0.905851478335124, Large)\n",
      "There is a significant difference between the models: KNN (mean: 0.892857, std: 0.184197) and Arbol (mean: 0.703571, std: 0.273781) (Cohen's d=0.7696101497733526, Large)\n",
      "Eta squared: 0.189219 (Large)\n"
     ]
    },
    {
     "data": {
      "image/png": "[encoded data removed]",
      "text/plain": [
       "<Figure size 432x288 with 1 Axes>"
      ]
     },
     "metadata": {
      "needs_background": "light"
     },
     "output_type": "display_data"
    }
   ],
   "source": [
    "compare_methods(X_lle100,Y,listAlgorithms,listParams,listNames,metric='recall')"
   ]
  },
  {
   "cell_type": "code",
   "execution_count": 42,
   "metadata": {},
   "outputs": [
    {
     "name": "stdout",
     "output_type": "stream",
     "text": [
      "temp.csv\n",
      "['Arbol' 'SVM' 'KNN' 'LR' 'MLP' 'RF' 'ET']\n",
      "==========================================================\n",
      "Report\n",
      "==========================================================\n",
      "**********************************************************\n",
      "Mean and std\n",
      "**********************************************************\n",
      "Arbol: 0.630000 (0.210786)\n",
      "SVM: 0.487273 (0.212626)\n",
      "KNN: 0.452727 (0.170696)\n",
      "LR: 0.351818 (0.120059)\n",
      "MLP: 0.460000 (0.151040)\n",
      "RF: 0.617273 (0.107600)\n",
      "ET: 0.458182 (0.153698)\n",
      "**********************************************************\n",
      "Statistical tests\n",
      "**********************************************************\n",
      "----------------------------------------------------------\n",
      "Checking parametric conditions \n",
      "----------------------------------------------------------\n",
      "Checking independence \n",
      "Ok\n",
      "Checking normality using Shapiro-Wilk's test for normality, alpha=0.05\n",
      "W: 0.947745, p:0.005535\n",
      "The null hypothesis (normality) is rejected\n",
      "Checking heteroscedasticity using Levene's test, alpha=0.05\n",
      "W: 1.800938, p:0.113264\n",
      "The null hypothesis (heteroscedasticity) is rejected\n",
      "Conditions for a parametric test are not fulfilled, applying a non-parametric test\n",
      "----------------------------------------------------------\n",
      "Working with more than 2 algorithms\n",
      "----------------------------------------------------------\n",
      "----------------------------------------------------------\n",
      "Applying Friedman test\n",
      "----------------------------------------------------------\n",
      "F-value: 3.615770, p-value: 0.004361502400977768\n",
      "Null hypothesis is rejected; hence, models have different performance\n",
      "Technique      Ranking\n",
      "-----------  ---------\n",
      "RF                5.75\n",
      "Arbol             5.3\n",
      "MLP               3.85\n",
      "ET                3.8\n",
      "SVM               3.6\n",
      "KNN               3.3\n",
      "LR                2.4\n",
      "Winner model: RF\n",
      "----------------------------------------------------------\n",
      "Applying Holm p-value adjustment procedure and analysing effect size\n",
      "----------------------------------------------------------\n",
      "Comparison      Zvalue      p-value    adjusted p-value\n",
      "------------  --------  -----------  ------------------\n",
      "RF vs LR      3.46758   0.000525168          0.00315101\n",
      "RF vs KNN     2.53599   0.011213             0.0560648\n",
      "RF vs SVM     2.22546   0.0260503            0.104201\n",
      "RF vs ET      2.01844   0.0435453            0.130636\n",
      "RF vs MLP     1.96669   0.0492193            0.130636\n",
      "RF vs Arbol   0.465794  0.641363             0.641363\n",
      "There is a significant difference between the models: RF (mean: 0.617273, std: 0.107600) and LR (mean: 0.351818, std: 0.120059) (Cohen's d=2.209066445989819, Large)\n",
      "There is a significant difference between the models: RF (mean: 0.617273, std: 0.107600) and KNN (mean: 0.452727, std: 0.170696) (Cohen's d=1.094071194737141, Large)\n",
      "There is a significant difference between the models: RF (mean: 0.617273, std: 0.107600) and SVM (mean: 0.487273, std: 0.212626) (Cohen's d=0.731901833167716, Large)\n",
      "There is a significant difference between the models: RF (mean: 0.617273, std: 0.107600) and ET (mean: 0.458182, std: 0.153698) (Cohen's d=1.1376408707824077, Large)\n",
      "There is a significant difference between the models: RF (mean: 0.617273, std: 0.107600) and MLP (mean: 0.460000, std: 0.151040) (Cohen's d=1.1378050119048115, Large)\n",
      "We can't say that there is a significant difference in the performance of the models: RF (mean: 0.617273, std: 0.107600) and Arbol (mean: 0.630000, std: 0.210786) (Cohen's d=0.0721515300842107, Small)\n",
      "Eta squared: 0.233033 (Large)\n"
     ]
    },
    {
     "data": {
      "image/png": "[encoded data removed]",
      "text/plain": [
       "<Figure size 432x288 with 1 Axes>"
      ]
     },
     "metadata": {
      "needs_background": "light"
     },
     "output_type": "display_data"
    }
   ],
   "source": [
    "compare_methods(X_lle100,Y,listAlgorithms,listParams,listNames,metric='accuracy')"
   ]
  },
  {
   "cell_type": "markdown",
   "metadata": {},
   "source": [
    "# MDS"
   ]
  },
  {
   "cell_type": "code",
   "execution_count": 43,
   "metadata": {},
   "outputs": [
    {
     "name": "stdout",
     "output_type": "stream",
     "text": [
      "temp.csv\n",
      "['Arbol' 'SVM' 'KNN' 'LR' 'MLP' 'RF' 'ET']\n",
      "==========================================================\n",
      "Report\n",
      "==========================================================\n",
      "**********************************************************\n",
      "Mean and std\n",
      "**********************************************************\n",
      "Arbol: 0.378929 (0.116222)\n",
      "SVM: 0.386190 (0.191819)\n",
      "KNN: 0.477202 (0.129593)\n",
      "LR: 0.411845 (0.111417)\n",
      "MLP: 0.442679 (0.139188)\n",
      "RF: 0.407798 (0.135778)\n",
      "ET: 0.432321 (0.151368)\n",
      "**********************************************************\n",
      "Statistical tests\n",
      "**********************************************************\n",
      "----------------------------------------------------------\n",
      "Checking parametric conditions \n",
      "----------------------------------------------------------\n",
      "Checking independence \n",
      "Ok\n",
      "Checking normality using Shapiro-Wilk's test for normality, alpha=0.05\n",
      "W: 0.978277, p:0.263772\n",
      "The null hypothesis (normality) is rejected\n",
      "Checking heteroscedasticity using Levene's test, alpha=0.05\n",
      "W: 0.518861, p:0.791879\n",
      "The null hypothesis (heteroscedasticity) is accepted\n",
      "Conditions for a parametric test are not fulfilled, applying a non-parametric test\n",
      "----------------------------------------------------------\n",
      "Working with more than 2 algorithms\n",
      "----------------------------------------------------------\n",
      "----------------------------------------------------------\n",
      "Applying Friedman test\n",
      "----------------------------------------------------------\n",
      "F-value: 0.516616, p-value: 0.7931586532579359\n",
      "Null hypothesis is accepted; hence, we can't say that there is a significant difference in the performance of the models\n",
      "----------------------------------------------------------\n",
      "Analysing effect size\n",
      "----------------------------------------------------------\n",
      "We take the model with the best mean (KNN, mean: 0.477202) and compare it with the other models: \n",
      "Comparing effect size of KNN and Arbol: Cohen's d=0.7574242341059304, Large\n",
      "Comparing effect size of KNN and SVM: Cohen's d=0.5274697097317088, Large\n",
      "Comparing effect size of KNN and LR: Cohen's d=0.5130725976352278, Large\n",
      "Comparing effect size of KNN and MLP: Cohen's d=0.24355417277430855, Medium\n",
      "Comparing effect size of KNN and RF: Cohen's d=0.49610009844711184, Medium\n",
      "Comparing effect size of KNN and ET: Cohen's d=0.30218179668562395, Medium\n",
      "Eta squared: 0.047430 (Medium)\n"
     ]
    },
    {
     "data": {
      "image/png": "[encoded data removed]",
      "text/plain": [
       "<Figure size 432x288 with 1 Axes>"
      ]
     },
     "metadata": {
      "needs_background": "light"
     },
     "output_type": "display_data"
    }
   ],
   "source": [
    "clf = manifold.MDS(n_components=2, n_init=1, max_iter=100)\n",
    "X_mds2 = clf.fit_transform(X)\n",
    "compare_methods(X_mds2,Y,listAlgorithms,listParams,listNames,metric='auroc')"
   ]
  },
  {
   "cell_type": "code",
   "execution_count": 44,
   "metadata": {},
   "outputs": [
    {
     "name": "stdout",
     "output_type": "stream",
     "text": [
      "temp.csv\n",
      "['Arbol' 'SVM' 'KNN' 'LR' 'MLP' 'RF' 'ET']\n",
      "==========================================================\n",
      "Report\n",
      "==========================================================\n",
      "**********************************************************\n",
      "Mean and std\n",
      "**********************************************************\n",
      "Arbol: 0.394048 (0.279113)\n",
      "SVM: 0.362511 (0.287070)\n",
      "KNN: 0.477619 (0.351629)\n",
      "LR: 0.385952 (0.237226)\n",
      "MLP: 0.268333 (0.229909)\n",
      "RF: 0.393333 (0.240884)\n",
      "ET: 0.448939 (0.307367)\n",
      "**********************************************************\n",
      "Statistical tests\n",
      "**********************************************************\n",
      "----------------------------------------------------------\n",
      "Checking parametric conditions \n",
      "----------------------------------------------------------\n",
      "Checking independence \n",
      "Ok\n",
      "Checking normality using Shapiro-Wilk's test for normality, alpha=0.05\n",
      "W: 0.925205, p:0.000449\n",
      "The null hypothesis (normality) is rejected\n",
      "Checking heteroscedasticity using Levene's test, alpha=0.05\n",
      "W: 0.674933, p:0.670256\n",
      "The null hypothesis (heteroscedasticity) is accepted\n",
      "Conditions for a parametric test are not fulfilled, applying a non-parametric test\n",
      "----------------------------------------------------------\n",
      "Working with more than 2 algorithms\n",
      "----------------------------------------------------------\n",
      "----------------------------------------------------------\n",
      "Applying Friedman test\n",
      "----------------------------------------------------------\n",
      "F-value: 0.634869, p-value: 0.7017230567637339\n",
      "Null hypothesis is accepted; hence, we can't say that there is a significant difference in the performance of the models\n",
      "----------------------------------------------------------\n",
      "Analysing effect size\n",
      "----------------------------------------------------------\n",
      "We take the model with the best mean (KNN, mean: 0.477619) and compare it with the other models: \n",
      "Comparing effect size of KNN and Arbol: Cohen's d=0.24975024011892083, Medium\n",
      "Comparing effect size of KNN and SVM: Cohen's d=0.3402151701721106, Medium\n",
      "Comparing effect size of KNN and LR: Cohen's d=0.28994061213271294, Medium\n",
      "Comparing effect size of KNN and MLP: Cohen's d=0.6683465933779333, Large\n",
      "Comparing effect size of KNN and RF: Cohen's d=0.265308342494362, Medium\n",
      "Comparing effect size of KNN and ET: Cohen's d=0.08238811127146528, Small\n",
      "Eta squared: 0.046743 (Medium)\n"
     ]
    },
    {
     "data": {
      "image/png": "[encoded data removed]",
      "text/plain": [
       "<Figure size 432x288 with 1 Axes>"
      ]
     },
     "metadata": {
      "needs_background": "light"
     },
     "output_type": "display_data"
    }
   ],
   "source": [
    "compare_methods(X_mds2,Y,listAlgorithms,listParams,listNames,metric='precision')"
   ]
  },
  {
   "cell_type": "code",
   "execution_count": 45,
   "metadata": {},
   "outputs": [
    {
     "name": "stdout",
     "output_type": "stream",
     "text": [
      "temp.csv\n",
      "['Arbol' 'SVM' 'KNN' 'LR' 'MLP' 'RF' 'ET']\n",
      "==========================================================\n",
      "Report\n",
      "==========================================================\n",
      "**********************************************************\n",
      "Mean and std\n",
      "**********************************************************\n",
      "Arbol: 0.335714 (0.214867)\n",
      "SVM: 0.426190 (0.269889)\n",
      "KNN: 0.335714 (0.140940)\n",
      "LR: 0.373214 (0.203395)\n",
      "MLP: 0.354167 (0.327687)\n",
      "RF: 0.460119 (0.274250)\n",
      "ET: 0.399405 (0.319953)\n",
      "**********************************************************\n",
      "Statistical tests\n",
      "**********************************************************\n",
      "----------------------------------------------------------\n",
      "Checking parametric conditions \n",
      "----------------------------------------------------------\n",
      "Checking independence \n",
      "Ok\n",
      "Checking normality using Shapiro-Wilk's test for normality, alpha=0.05\n",
      "W: 0.931906, p:0.000916\n",
      "The null hypothesis (normality) is rejected\n",
      "Checking heteroscedasticity using Levene's test, alpha=0.05\n",
      "W: 0.970574, p:0.452526\n",
      "The null hypothesis (heteroscedasticity) is rejected\n",
      "Conditions for a parametric test are not fulfilled, applying a non-parametric test\n",
      "----------------------------------------------------------\n",
      "Working with more than 2 algorithms\n",
      "----------------------------------------------------------\n",
      "----------------------------------------------------------\n",
      "Applying Friedman test\n",
      "----------------------------------------------------------\n",
      "F-value: 0.410007, p-value: 0.8692098638733388\n",
      "Null hypothesis is accepted; hence, we can't say that there is a significant difference in the performance of the models\n",
      "----------------------------------------------------------\n",
      "Analysing effect size\n",
      "----------------------------------------------------------\n",
      "We take the model with the best mean (RF, mean: 0.460119) and compare it with the other models: \n",
      "Comparing effect size of RF and Arbol: Cohen's d=0.4790693285066666, Medium\n",
      "Comparing effect size of RF and SVM: Cohen's d=0.11830227870069447, Small\n",
      "Comparing effect size of RF and KNN: Cohen's d=0.5412972053137044, Large\n",
      "Comparing effect size of RF and LR: Cohen's d=0.3414785590982441, Medium\n",
      "Comparing effect size of RF and MLP: Cohen's d=0.33266476206303386, Medium\n",
      "Comparing effect size of RF and ET: Cohen's d=0.1932976439856617, Small\n",
      "Eta squared: 0.028159 (Medium)\n"
     ]
    },
    {
     "data": {
      "image/png": "[encoded data removed]",
      "text/plain": [
       "<Figure size 432x288 with 1 Axes>"
      ]
     },
     "metadata": {
      "needs_background": "light"
     },
     "output_type": "display_data"
    }
   ],
   "source": [
    "compare_methods(X_mds2,Y,listAlgorithms,listParams,listNames,metric='recall')"
   ]
  },
  {
   "cell_type": "code",
   "execution_count": 46,
   "metadata": {},
   "outputs": [
    {
     "name": "stdout",
     "output_type": "stream",
     "text": [
      "temp.csv\n",
      "['Arbol' 'SVM' 'KNN' 'LR' 'MLP' 'RF' 'ET']\n",
      "==========================================================\n",
      "Report\n",
      "==========================================================\n",
      "**********************************************************\n",
      "Mean and std\n",
      "**********************************************************\n",
      "Arbol: 0.409091 (0.088327)\n",
      "SVM: 0.354545 (0.158662)\n",
      "KNN: 0.441818 (0.089369)\n",
      "LR: 0.390000 (0.120909)\n",
      "MLP: 0.360000 (0.118823)\n",
      "RF: 0.411818 (0.112231)\n",
      "ET: 0.335455 (0.105896)\n",
      "**********************************************************\n",
      "Statistical tests\n",
      "**********************************************************\n",
      "----------------------------------------------------------\n",
      "Checking parametric conditions \n",
      "----------------------------------------------------------\n",
      "Checking independence \n",
      "Ok\n",
      "Checking normality using Shapiro-Wilk's test for normality, alpha=0.05\n",
      "W: 0.946097, p:0.004553\n",
      "The null hypothesis (normality) is rejected\n",
      "Checking heteroscedasticity using Levene's test, alpha=0.05\n",
      "W: 0.742222, p:0.617704\n",
      "The null hypothesis (heteroscedasticity) is accepted\n",
      "Conditions for a parametric test are not fulfilled, applying a non-parametric test\n",
      "----------------------------------------------------------\n",
      "Working with more than 2 algorithms\n",
      "----------------------------------------------------------\n",
      "----------------------------------------------------------\n",
      "Applying Friedman test\n",
      "----------------------------------------------------------\n",
      "F-value: 0.907608, p-value: 0.4964998295490235\n",
      "Null hypothesis is rejected; hence, models have different performance\n",
      "Technique      Ranking\n",
      "-----------  ---------\n",
      "KNN               5\n",
      "RF                4.65\n",
      "Arbol             4.2\n",
      "SVM               3.8\n",
      "LR                3.75\n",
      "MLP               3.4\n",
      "ET                3.2\n",
      "Winner model: KNN\n",
      "----------------------------------------------------------\n",
      "Applying Holm p-value adjustment procedure and analysing effect size\n",
      "----------------------------------------------------------\n",
      "Comparison      Zvalue    p-value    adjusted p-value\n",
      "------------  --------  ---------  ------------------\n",
      "KNN vs ET     1.86318   0.0624374            0.374624\n",
      "KNN vs MLP    1.65616   0.09769              0.48845\n",
      "KNN vs LR     1.29387   0.195709             0.782837\n",
      "KNN vs SVM    1.24212   0.214193             0.782837\n",
      "KNN vs Arbol  0.828079  0.407626             0.815252\n",
      "KNN vs RF     0.362284  0.71714              0.815252\n",
      "There is a significant difference between the models: KNN (mean: 0.441818, std: 0.089369) and ET (mean: 0.335455, std: 0.105896) (Cohen's d=1.0298393166930753, Large)\n",
      "There is a significant difference between the models: KNN (mean: 0.441818, std: 0.089369) and MLP (mean: 0.360000, std: 0.118823) (Cohen's d=0.738300401717561, Large)\n",
      "We can't say that there is a significant difference in the performance of the models: KNN (mean: 0.441818, std: 0.089369) and LR (mean: 0.390000, std: 0.120909) (Cohen's d=0.462390204800302, Medium)\n",
      "We can't say that there is a significant difference in the performance of the models: KNN (mean: 0.441818, std: 0.089369) and SVM (mean: 0.354545, std: 0.158662) (Cohen's d=0.6429917115659101, Large)\n",
      "We can't say that there is a significant difference in the performance of the models: KNN (mean: 0.441818, std: 0.089369) and Arbol (mean: 0.409091, std: 0.088327) (Cohen's d=0.3494432039170587, Medium)\n",
      "We can't say that there is a significant difference in the performance of the models: KNN (mean: 0.441818, std: 0.089369) and RF (mean: 0.411818, std: 0.112231) (Cohen's d=0.28054783358695734, Medium)\n",
      "Eta squared: 0.083789 (Large)\n"
     ]
    },
    {
     "data": {
      "image/png": "[encoded data removed]",
      "text/plain": [
       "<Figure size 432x288 with 1 Axes>"
      ]
     },
     "metadata": {
      "needs_background": "light"
     },
     "output_type": "display_data"
    }
   ],
   "source": [
    "compare_methods(X_mds2,Y,listAlgorithms,listParams,listNames,metric='accuracy')"
   ]
  },
  {
   "cell_type": "code",
   "execution_count": 47,
   "metadata": {
    "scrolled": true
   },
   "outputs": [
    {
     "name": "stdout",
     "output_type": "stream",
     "text": [
      "temp.csv\n",
      "['Arbol' 'SVM' 'KNN' 'LR' 'MLP' 'RF' 'ET']\n",
      "==========================================================\n",
      "Report\n",
      "==========================================================\n",
      "**********************************************************\n",
      "Mean and std\n",
      "**********************************************************\n",
      "Arbol: 0.444940 (0.194385)\n",
      "SVM: 0.538750 (0.172709)\n",
      "KNN: 0.503333 (0.136136)\n",
      "LR: 0.416905 (0.197749)\n",
      "MLP: 0.467083 (0.185671)\n",
      "RF: 0.364226 (0.160836)\n",
      "ET: 0.439226 (0.155772)\n",
      "**********************************************************\n",
      "Statistical tests\n",
      "**********************************************************\n",
      "----------------------------------------------------------\n",
      "Checking parametric conditions \n",
      "----------------------------------------------------------\n",
      "Checking independence \n",
      "Ok\n",
      "Checking normality using Shapiro-Wilk's test for normality, alpha=0.05\n",
      "W: 0.972581, p:0.127531\n",
      "The null hypothesis (normality) is rejected\n",
      "Checking heteroscedasticity using Levene's test, alpha=0.05\n",
      "W: 0.446499, p:0.844768\n",
      "The null hypothesis (heteroscedasticity) is accepted\n",
      "Conditions for a parametric test are not fulfilled, applying a non-parametric test\n",
      "----------------------------------------------------------\n",
      "Working with more than 2 algorithms\n",
      "----------------------------------------------------------\n",
      "----------------------------------------------------------\n",
      "Applying Friedman test\n",
      "----------------------------------------------------------\n",
      "F-value: 0.921260, p-value: 0.48708303575809586\n",
      "Null hypothesis is rejected; hence, models have different performance\n",
      "Technique      Ranking\n",
      "-----------  ---------\n",
      "SVM               5\n",
      "KNN               4.6\n",
      "ET                3.95\n",
      "LR                3.95\n",
      "MLP               3.9\n",
      "Arbol             3.65\n",
      "RF                2.95\n",
      "Winner model: SVM\n",
      "----------------------------------------------------------\n",
      "Applying Holm p-value adjustment procedure and analysing effect size\n",
      "----------------------------------------------------------\n",
      "Comparison      Zvalue    p-value    adjusted p-value\n",
      "------------  --------  ---------  ------------------\n",
      "SVM vs RF     2.12195   0.0338418            0.203051\n",
      "SVM vs Arbol  1.39738   0.162299             0.811493\n",
      "SVM vs MLP    1.13861   0.254867             1\n",
      "SVM vs LR     1.08685   0.277102             1\n",
      "SVM vs ET     1.08685   0.277102             1\n",
      "SVM vs KNN    0.414039  0.678845             1\n",
      "There is a significant difference between the models: SVM (mean: 0.538750, std: 0.172709) and RF (mean: 0.364226, std: 0.160836) (Cohen's d=0.9921467387940721, Large)\n",
      "We can't say that there is a significant difference in the performance of the models: SVM (mean: 0.538750, std: 0.172709) and Arbol (mean: 0.444940, std: 0.194385) (Cohen's d=0.4840209972086521, Medium)\n",
      "We can't say that there is a significant difference in the performance of the models: SVM (mean: 0.538750, std: 0.172709) and MLP (mean: 0.467083, std: 0.185671) (Cohen's d=0.3791753516787654, Medium)\n",
      "We can't say that there is a significant difference in the performance of the models: SVM (mean: 0.538750, std: 0.172709) and LR (mean: 0.416905, std: 0.197749) (Cohen's d=0.6226300442315437, Large)\n",
      "We can't say that there is a significant difference in the performance of the models: SVM (mean: 0.538750, std: 0.172709) and ET (mean: 0.439226, std: 0.155772) (Cohen's d=0.5741036348083098, Large)\n",
      "We can't say that there is a significant difference in the performance of the models: SVM (mean: 0.538750, std: 0.172709) and KNN (mean: 0.503333, std: 0.136136) (Cohen's d=0.21606992533559, Medium)\n",
      "Eta squared: 0.085105 (Large)\n"
     ]
    },
    {
     "data": {
      "image/png": "[encoded data removed]",
      "text/plain": [
       "<Figure size 432x288 with 1 Axes>"
      ]
     },
     "metadata": {
      "needs_background": "light"
     },
     "output_type": "display_data"
    }
   ],
   "source": [
    "clf = manifold.MDS(n_components=10, n_init=1, max_iter=100)\n",
    "X_mds10 = clf.fit_transform(X)\n",
    "compare_methods(X_mds10,Y,listAlgorithms,listParams,listNames,metric='auroc')"
   ]
  },
  {
   "cell_type": "code",
   "execution_count": 48,
   "metadata": {},
   "outputs": [
    {
     "name": "stdout",
     "output_type": "stream",
     "text": [
      "temp.csv\n",
      "['Arbol' 'SVM' 'KNN' 'LR' 'MLP' 'RF' 'ET']\n",
      "==========================================================\n",
      "Report\n",
      "==========================================================\n",
      "**********************************************************\n",
      "Mean and std\n",
      "**********************************************************\n",
      "Arbol: 0.530952 (0.302613)\n",
      "SVM: 0.542143 (0.283795)\n",
      "KNN: 0.507143 (0.289469)\n",
      "LR: 0.390000 (0.301588)\n",
      "MLP: 0.487381 (0.299951)\n",
      "RF: 0.373333 (0.241595)\n",
      "ET: 0.412222 (0.278109)\n",
      "**********************************************************\n",
      "Statistical tests\n",
      "**********************************************************\n",
      "----------------------------------------------------------\n",
      "Checking parametric conditions \n",
      "----------------------------------------------------------\n",
      "Checking independence \n",
      "Ok\n",
      "Checking normality using Shapiro-Wilk's test for normality, alpha=0.05\n",
      "W: 0.925793, p:0.000478\n",
      "The null hypothesis (normality) is rejected\n",
      "Checking heteroscedasticity using Levene's test, alpha=0.05\n",
      "W: 0.164308, p:0.985272\n",
      "The null hypothesis (heteroscedasticity) is accepted\n",
      "Conditions for a parametric test are not fulfilled, applying a non-parametric test\n",
      "----------------------------------------------------------\n",
      "Working with more than 2 algorithms\n",
      "----------------------------------------------------------\n",
      "----------------------------------------------------------\n",
      "Applying Friedman test\n",
      "----------------------------------------------------------\n",
      "F-value: 1.256410, p-value: 0.2929523164607585\n",
      "Null hypothesis is rejected; hence, models have different performance\n",
      "Technique      Ranking\n",
      "-----------  ---------\n",
      "SVM               5\n",
      "KNN               4.65\n",
      "Arbol             4.45\n",
      "MLP               3.95\n",
      "LR                3.6\n",
      "ET                3.55\n",
      "RF                2.8\n",
      "Winner model: SVM\n",
      "----------------------------------------------------------\n",
      "Applying Holm p-value adjustment procedure and analysing effect size\n",
      "----------------------------------------------------------\n",
      "Comparison      Zvalue    p-value    adjusted p-value\n",
      "------------  --------  ---------  ------------------\n",
      "SVM vs RF     2.27722   0.0227733            0.13664\n",
      "SVM vs ET     1.50089   0.133383             0.666917\n",
      "SVM vs LR     1.44914   0.147299             0.666917\n",
      "SVM vs MLP    1.08685   0.277102             0.831305\n",
      "SVM vs Arbol  0.569304  0.56915              1\n",
      "SVM vs KNN    0.362284  0.71714              1\n",
      "There is a significant difference between the models: SVM (mean: 0.542143, std: 0.283795) and RF (mean: 0.373333, std: 0.241595) (Cohen's d=0.6076724941655308, Large)\n",
      "We can't say that there is a significant difference in the performance of the models: SVM (mean: 0.542143, std: 0.283795) and ET (mean: 0.412222, std: 0.278109) (Cohen's d=0.4386772111911783, Medium)\n",
      "We can't say that there is a significant difference in the performance of the models: SVM (mean: 0.542143, std: 0.283795) and LR (mean: 0.390000, std: 0.301588) (Cohen's d=0.49290328865623606, Medium)\n",
      "We can't say that there is a significant difference in the performance of the models: SVM (mean: 0.542143, std: 0.283795) and MLP (mean: 0.487381, std: 0.299951) (Cohen's d=0.17792602101885724, Small)\n",
      "We can't say that there is a significant difference in the performance of the models: SVM (mean: 0.542143, std: 0.283795) and Arbol (mean: 0.530952, std: 0.302613) (Cohen's d=0.03618895171272906, Small)\n",
      "We can't say that there is a significant difference in the performance of the models: SVM (mean: 0.542143, std: 0.283795) and KNN (mean: 0.507143, std: 0.289469) (Cohen's d=0.11583582280273112, Small)\n",
      "Eta squared: 0.048796 (Medium)\n"
     ]
    },
    {
     "data": {
      "image/png": "[encoded data removed]",
      "text/plain": [
       "<Figure size 432x288 with 1 Axes>"
      ]
     },
     "metadata": {
      "needs_background": "light"
     },
     "output_type": "display_data"
    }
   ],
   "source": [
    "compare_methods(X_mds10,Y,listAlgorithms,listParams,listNames,metric='precision')"
   ]
  },
  {
   "cell_type": "code",
   "execution_count": 49,
   "metadata": {},
   "outputs": [
    {
     "name": "stdout",
     "output_type": "stream",
     "text": [
      "temp.csv\n",
      "['Arbol' 'SVM' 'KNN' 'LR' 'MLP' 'RF' 'ET']\n",
      "==========================================================\n",
      "Report\n",
      "==========================================================\n",
      "**********************************************************\n",
      "Mean and std\n",
      "**********************************************************\n",
      "Arbol: 0.396429 (0.198781)\n",
      "SVM: 0.488095 (0.289753)\n",
      "KNN: 0.332143 (0.206914)\n",
      "LR: 0.391667 (0.313548)\n",
      "MLP: 0.375595 (0.240176)\n",
      "RF: 0.379762 (0.246198)\n",
      "ET: 0.404762 (0.311850)\n",
      "**********************************************************\n",
      "Statistical tests\n",
      "**********************************************************\n",
      "----------------------------------------------------------\n",
      "Checking parametric conditions \n",
      "----------------------------------------------------------\n",
      "Checking independence \n",
      "Ok\n",
      "Checking normality using Shapiro-Wilk's test for normality, alpha=0.05\n",
      "W: 0.932730, p:0.001002\n",
      "The null hypothesis (normality) is rejected\n",
      "Checking heteroscedasticity using Levene's test, alpha=0.05\n",
      "W: 0.740982, p:0.618663\n",
      "The null hypothesis (heteroscedasticity) is accepted\n",
      "Conditions for a parametric test are not fulfilled, applying a non-parametric test\n",
      "----------------------------------------------------------\n",
      "Working with more than 2 algorithms\n",
      "----------------------------------------------------------\n",
      "----------------------------------------------------------\n",
      "Applying Friedman test\n",
      "----------------------------------------------------------\n",
      "F-value: 0.371514, p-value: 0.8938921265019596\n",
      "Null hypothesis is accepted; hence, we can't say that there is a significant difference in the performance of the models\n",
      "----------------------------------------------------------\n",
      "Analysing effect size\n",
      "----------------------------------------------------------\n",
      "We take the model with the best mean (SVM, mean: 0.488095) and compare it with the other models: \n",
      "Comparing effect size of SVM and Arbol: Cohen's d=0.34999799129369297, Medium\n",
      "Comparing effect size of SVM and KNN: Cohen's d=0.587651438177128, Large\n",
      "Comparing effect size of SVM and LR: Cohen's d=0.30302997551640537, Medium\n",
      "Comparing effect size of SVM and MLP: Cohen's d=0.40104536350520614, Medium\n",
      "Comparing effect size of SVM and RF: Cohen's d=0.3822595989175695, Medium\n",
      "Comparing effect size of SVM and ET: Cohen's d=0.2626436725546406, Medium\n",
      "Eta squared: 0.027019 (Medium)\n"
     ]
    },
    {
     "data": {
      "image/png": "[encoded data removed]",
      "text/plain": [
       "<Figure size 432x288 with 1 Axes>"
      ]
     },
     "metadata": {
      "needs_background": "light"
     },
     "output_type": "display_data"
    }
   ],
   "source": [
    "compare_methods(X_mds10,Y,listAlgorithms,listParams,listNames,metric='recall')"
   ]
  },
  {
   "cell_type": "code",
   "execution_count": 50,
   "metadata": {},
   "outputs": [
    {
     "name": "stdout",
     "output_type": "stream",
     "text": [
      "temp.csv\n",
      "['Arbol' 'SVM' 'KNN' 'LR' 'MLP' 'RF' 'ET']\n",
      "==========================================================\n",
      "Report\n",
      "==========================================================\n",
      "**********************************************************\n",
      "Mean and std\n",
      "**********************************************************\n",
      "Arbol: 0.457273 (0.185866)\n",
      "SVM: 0.509091 (0.155983)\n",
      "KNN: 0.500000 (0.135695)\n",
      "LR: 0.428182 (0.167058)\n",
      "MLP: 0.495455 (0.223431)\n",
      "RF: 0.380909 (0.140862)\n",
      "ET: 0.420000 (0.146010)\n",
      "**********************************************************\n",
      "Statistical tests\n",
      "**********************************************************\n",
      "----------------------------------------------------------\n",
      "Checking parametric conditions \n",
      "----------------------------------------------------------\n",
      "Checking independence \n",
      "Ok\n",
      "Checking normality using Shapiro-Wilk's test for normality, alpha=0.05\n",
      "W: 0.971730, p:0.114186\n",
      "The null hypothesis (normality) is rejected\n",
      "Checking heteroscedasticity using Levene's test, alpha=0.05\n",
      "W: 0.459940, p:0.835251\n",
      "The null hypothesis (heteroscedasticity) is accepted\n",
      "Conditions for a parametric test are not fulfilled, applying a non-parametric test\n",
      "----------------------------------------------------------\n",
      "Working with more than 2 algorithms\n",
      "----------------------------------------------------------\n",
      "----------------------------------------------------------\n",
      "Applying Friedman test\n",
      "----------------------------------------------------------\n",
      "F-value: 0.710983, p-value: 0.6422020100752902\n",
      "Null hypothesis is accepted; hence, we can't say that there is a significant difference in the performance of the models\n",
      "----------------------------------------------------------\n",
      "Analysing effect size\n",
      "----------------------------------------------------------\n",
      "We take the model with the best mean (SVM, mean: 0.509091) and compare it with the other models: \n",
      "Comparing effect size of SVM and Arbol: Cohen's d=0.2865141694747531, Medium\n",
      "Comparing effect size of SVM and KNN: Cohen's d=0.058993884617591856, Small\n",
      "Comparing effect size of SVM and LR: Cohen's d=0.47493786912419594, Medium\n",
      "Comparing effect size of SVM and MLP: Cohen's d=0.06713987913489798, Small\n",
      "Comparing effect size of SVM and RF: Cohen's d=0.8182491693358817, Large\n",
      "Comparing effect size of SVM and ET: Cohen's d=0.5594370405173805, Large\n",
      "Eta squared: 0.066672 (Large)\n"
     ]
    },
    {
     "data": {
      "image/png": "[encoded data removed]",
      "text/plain": [
       "<Figure size 432x288 with 1 Axes>"
      ]
     },
     "metadata": {
      "needs_background": "light"
     },
     "output_type": "display_data"
    }
   ],
   "source": [
    "compare_methods(X_mds10,Y,listAlgorithms,listParams,listNames,metric='accuracy')"
   ]
  },
  {
   "cell_type": "code",
   "execution_count": 51,
   "metadata": {},
   "outputs": [
    {
     "name": "stdout",
     "output_type": "stream",
     "text": [
      "temp.csv\n",
      "['Arbol' 'SVM' 'KNN' 'LR' 'MLP' 'RF' 'ET']\n",
      "==========================================================\n",
      "Report\n",
      "==========================================================\n",
      "**********************************************************\n",
      "Mean and std\n",
      "**********************************************************\n",
      "Arbol: 0.532560 (0.081786)\n",
      "SVM: 0.655595 (0.129509)\n",
      "KNN: 0.615298 (0.160876)\n",
      "LR: 0.590357 (0.137197)\n",
      "MLP: 0.579107 (0.063653)\n",
      "RF: 0.632083 (0.111661)\n",
      "ET: 0.619167 (0.153704)\n",
      "**********************************************************\n",
      "Statistical tests\n",
      "**********************************************************\n",
      "----------------------------------------------------------\n",
      "Checking parametric conditions \n",
      "----------------------------------------------------------\n",
      "Checking independence \n",
      "Ok\n",
      "Checking normality using Shapiro-Wilk's test for normality, alpha=0.05\n",
      "W: 0.988567, p:0.777616\n",
      "The null hypothesis (normality) is accepted\n",
      "Checking heteroscedasticity using Levene's test, alpha=0.05\n",
      "W: 1.377299, p:0.237633\n",
      "The null hypothesis (heteroscedasticity) is rejected\n",
      "Conditions for a parametric test are not fulfilled, applying a non-parametric test\n",
      "----------------------------------------------------------\n",
      "Working with more than 2 algorithms\n",
      "----------------------------------------------------------\n",
      "----------------------------------------------------------\n",
      "Applying Friedman test\n",
      "----------------------------------------------------------\n",
      "F-value: 1.721123, p-value: 0.13376766880143598\n",
      "Null hypothesis is rejected; hence, models have different performance\n",
      "Technique      Ranking\n",
      "-----------  ---------\n",
      "SVM               5\n",
      "RF                4.7\n",
      "KNN               4.7\n",
      "ET                4.05\n",
      "LR                3.5\n",
      "MLP               3.45\n",
      "Arbol             2.6\n",
      "Winner model: SVM\n",
      "----------------------------------------------------------\n",
      "Applying Holm p-value adjustment procedure and analysing effect size\n",
      "----------------------------------------------------------\n",
      "Comparison      Zvalue    p-value    adjusted p-value\n",
      "------------  --------  ---------  ------------------\n",
      "SVM vs Arbol  2.48424    0.012983           0.0778978\n",
      "SVM vs MLP    1.6044     0.108625           0.543127\n",
      "SVM vs LR     1.55265    0.120507           0.543127\n",
      "SVM vs ET     0.983343   0.325438           0.976315\n",
      "SVM vs KNN    0.31053    0.756158           1\n",
      "SVM vs RF     0.31053    0.756158           1\n",
      "There is a significant difference between the models: SVM (mean: 0.655595, std: 0.129509) and Arbol (mean: 0.532560, std: 0.081786) (Cohen's d=1.077681687165967, Large)\n",
      "We can't say that there is a significant difference in the performance of the models: SVM (mean: 0.655595, std: 0.129509) and MLP (mean: 0.579107, std: 0.063653) (Cohen's d=0.7111243285050804, Large)\n",
      "We can't say that there is a significant difference in the performance of the models: SVM (mean: 0.655595, std: 0.129509) and LR (mean: 0.590357, std: 0.137197) (Cohen's d=0.4639165271970033, Medium)\n",
      "We can't say that there is a significant difference in the performance of the models: SVM (mean: 0.655595, std: 0.129509) and ET (mean: 0.619167, std: 0.153704) (Cohen's d=0.2431649442824247, Medium)\n",
      "We can't say that there is a significant difference in the performance of the models: SVM (mean: 0.655595, std: 0.129509) and KNN (mean: 0.615298, std: 0.160876) (Cohen's d=0.26178044370993436, Medium)\n",
      "We can't say that there is a significant difference in the performance of the models: SVM (mean: 0.655595, std: 0.129509) and RF (mean: 0.632083, std: 0.111661) (Cohen's d=0.18447168500312738, Small)\n",
      "Eta squared: 0.082319 (Large)\n"
     ]
    },
    {
     "data": {
      "image/png": "[encoded data removed]",
      "text/plain": [
       "<Figure size 432x288 with 1 Axes>"
      ]
     },
     "metadata": {
      "needs_background": "light"
     },
     "output_type": "display_data"
    }
   ],
   "source": [
    "clf = manifold.MDS(n_components=100, n_init=1, max_iter=100)\n",
    "X_mds100 = clf.fit_transform(X)\n",
    "compare_methods(X_mds100,Y,listAlgorithms,listParams,listNames,metric='auroc')"
   ]
  },
  {
   "cell_type": "code",
   "execution_count": 52,
   "metadata": {},
   "outputs": [
    {
     "name": "stdout",
     "output_type": "stream",
     "text": [
      "temp.csv\n",
      "['Arbol' 'SVM' 'KNN' 'LR' 'MLP' 'RF' 'ET']\n",
      "==========================================================\n",
      "Report\n",
      "==========================================================\n",
      "**********************************************************\n",
      "Mean and std\n",
      "**********************************************************\n",
      "Arbol: 0.530714 (0.244167)\n",
      "SVM: 0.665000 (0.250161)\n",
      "KNN: 0.628333 (0.167008)\n",
      "LR: 0.576429 (0.202486)\n",
      "MLP: 0.563810 (0.206141)\n",
      "RF: 0.651667 (0.308801)\n",
      "ET: 0.650238 (0.285664)\n",
      "**********************************************************\n",
      "Statistical tests\n",
      "**********************************************************\n",
      "----------------------------------------------------------\n",
      "Checking parametric conditions \n",
      "----------------------------------------------------------\n",
      "Checking independence \n",
      "Ok\n",
      "Checking normality using Shapiro-Wilk's test for normality, alpha=0.05\n",
      "W: 0.918623, p:0.000229\n",
      "The null hypothesis (normality) is rejected\n",
      "Checking heteroscedasticity using Levene's test, alpha=0.05\n",
      "W: 1.383368, p:0.235216\n",
      "The null hypothesis (heteroscedasticity) is rejected\n",
      "Conditions for a parametric test are not fulfilled, applying a non-parametric test\n",
      "----------------------------------------------------------\n",
      "Working with more than 2 algorithms\n",
      "----------------------------------------------------------\n",
      "----------------------------------------------------------\n",
      "Applying Friedman test\n",
      "----------------------------------------------------------\n",
      "F-value: 1.517529, p-value: 0.19006400980536609\n",
      "Null hypothesis is rejected; hence, models have different performance\n",
      "Technique      Ranking\n",
      "-----------  ---------\n",
      "SVM               4.8\n",
      "KNN               4.65\n",
      "RF                4.55\n",
      "ET                4.35\n",
      "MLP               3.7\n",
      "LR                3.4\n",
      "Arbol             2.55\n",
      "Winner model: SVM\n",
      "----------------------------------------------------------\n",
      "Applying Holm p-value adjustment procedure and analysing effect size\n",
      "----------------------------------------------------------\n",
      "Comparison      Zvalue    p-value    adjusted p-value\n",
      "------------  --------  ---------  ------------------\n",
      "SVM vs Arbol  2.32897   0.0198606            0.119164\n",
      "SVM vs LR     1.44914   0.147299             0.736496\n",
      "SVM vs MLP    1.13861   0.254867             1\n",
      "SVM vs ET     0.465794  0.641363             1\n",
      "SVM vs RF     0.258775  0.795809             1\n",
      "SVM vs KNN    0.155265  0.876613             1\n",
      "There is a significant difference between the models: SVM (mean: 0.665000, std: 0.250161) and Arbol (mean: 0.530714, std: 0.244167) (Cohen's d=0.5153879866092985, Large)\n",
      "We can't say that there is a significant difference in the performance of the models: SVM (mean: 0.665000, std: 0.250161) and LR (mean: 0.576429, std: 0.202486) (Cohen's d=0.3692238227358691, Medium)\n",
      "We can't say that there is a significant difference in the performance of the models: SVM (mean: 0.665000, std: 0.250161) and MLP (mean: 0.563810, std: 0.206141) (Cohen's d=0.41881950174088173, Medium)\n",
      "We can't say that there is a significant difference in the performance of the models: SVM (mean: 0.665000, std: 0.250161) and ET (mean: 0.650238, std: 0.285664) (Cohen's d=0.05215785886065946, Small)\n",
      "We can't say that there is a significant difference in the performance of the models: SVM (mean: 0.665000, std: 0.250161) and RF (mean: 0.651667, std: 0.308801) (Cohen's d=0.04501222177413125, Small)\n",
      "We can't say that there is a significant difference in the performance of the models: SVM (mean: 0.665000, std: 0.250161) and KNN (mean: 0.628333, std: 0.167008) (Cohen's d=0.1635498138265581, Small)\n",
      "Eta squared: 0.038099 (Medium)\n"
     ]
    },
    {
     "data": {
      "image/png": "[encoded data removed]",
      "text/plain": [
       "<Figure size 432x288 with 1 Axes>"
      ]
     },
     "metadata": {
      "needs_background": "light"
     },
     "output_type": "display_data"
    }
   ],
   "source": [
    "compare_methods(X_mds100,Y,listAlgorithms,listParams,listNames,metric='precision')"
   ]
  },
  {
   "cell_type": "code",
   "execution_count": 53,
   "metadata": {},
   "outputs": [
    {
     "name": "stdout",
     "output_type": "stream",
     "text": [
      "temp.csv\n",
      "['Arbol' 'SVM' 'KNN' 'LR' 'MLP' 'RF' 'ET']\n",
      "==========================================================\n",
      "Report\n",
      "==========================================================\n",
      "**********************************************************\n",
      "Mean and std\n",
      "**********************************************************\n",
      "Arbol: 0.479762 (0.174318)\n",
      "SVM: 0.577381 (0.186054)\n",
      "KNN: 0.589881 (0.229864)\n",
      "LR: 0.597619 (0.138505)\n",
      "MLP: 0.591071 (0.145317)\n",
      "RF: 0.548810 (0.215371)\n",
      "ET: 0.515476 (0.293304)\n",
      "**********************************************************\n",
      "Statistical tests\n",
      "**********************************************************\n",
      "----------------------------------------------------------\n",
      "Checking parametric conditions \n",
      "----------------------------------------------------------\n",
      "Checking independence \n",
      "Ok\n",
      "Checking normality using Shapiro-Wilk's test for normality, alpha=0.05\n",
      "W: 0.937096, p:0.001621\n",
      "The null hypothesis (normality) is rejected\n",
      "Checking heteroscedasticity using Levene's test, alpha=0.05\n",
      "W: 0.641606, p:0.696505\n",
      "The null hypothesis (heteroscedasticity) is accepted\n",
      "Conditions for a parametric test are not fulfilled, applying a non-parametric test\n",
      "----------------------------------------------------------\n",
      "Working with more than 2 algorithms\n",
      "----------------------------------------------------------\n",
      "----------------------------------------------------------\n",
      "Applying Friedman test\n",
      "----------------------------------------------------------\n",
      "F-value: 0.822647, p-value: 0.5573828997665566\n",
      "Null hypothesis is accepted; hence, we can't say that there is a significant difference in the performance of the models\n",
      "----------------------------------------------------------\n",
      "Analysing effect size\n",
      "----------------------------------------------------------\n",
      "We take the model with the best mean (LR, mean: 0.597619) and compare it with the other models: \n",
      "Comparing effect size of LR and Arbol: Cohen's d=0.7101991834537711, Large\n",
      "Comparing effect size of LR and SVM: Cohen's d=0.11706211104139942, Small\n",
      "Comparing effect size of LR and KNN: Cohen's d=0.038684746607255724, Small\n",
      "Comparing effect size of LR and MLP: Cohen's d=0.04375853564932525, Small\n",
      "Comparing effect size of LR and RF: Cohen's d=0.25573715296802646, Medium\n",
      "Comparing effect size of LR and ET: Cohen's d=0.3397622599024763, Medium\n",
      "Eta squared: 0.039866 (Medium)\n"
     ]
    },
    {
     "data": {
      "image/png": "[encoded data removed]",
      "text/plain": [
       "<Figure size 432x288 with 1 Axes>"
      ]
     },
     "metadata": {
      "needs_background": "light"
     },
     "output_type": "display_data"
    }
   ],
   "source": [
    "compare_methods(X_mds100,Y,listAlgorithms,listParams,listNames,metric='recall')"
   ]
  },
  {
   "cell_type": "code",
   "execution_count": 54,
   "metadata": {},
   "outputs": [
    {
     "name": "stdout",
     "output_type": "stream",
     "text": [
      "temp.csv\n",
      "['Arbol' 'SVM' 'KNN' 'LR' 'MLP' 'RF' 'ET']\n",
      "==========================================================\n",
      "Report\n",
      "==========================================================\n",
      "**********************************************************\n",
      "Mean and std\n",
      "**********************************************************\n",
      "Arbol: 0.530909 (0.086359)\n",
      "SVM: 0.607273 (0.121750)\n",
      "KNN: 0.597273 (0.151360)\n",
      "LR: 0.608182 (0.121114)\n",
      "MLP: 0.569091 (0.075098)\n",
      "RF: 0.568182 (0.091746)\n",
      "ET: 0.535455 (0.157115)\n",
      "**********************************************************\n",
      "Statistical tests\n",
      "**********************************************************\n",
      "----------------------------------------------------------\n",
      "Checking parametric conditions \n",
      "----------------------------------------------------------\n",
      "Checking independence \n",
      "Ok\n",
      "Checking normality using Shapiro-Wilk's test for normality, alpha=0.05\n",
      "W: 0.956943, p:0.017023\n",
      "The null hypothesis (normality) is rejected\n",
      "Checking heteroscedasticity using Levene's test, alpha=0.05\n",
      "W: 0.747847, p:0.613359\n",
      "The null hypothesis (heteroscedasticity) is accepted\n",
      "Conditions for a parametric test are not fulfilled, applying a non-parametric test\n",
      "----------------------------------------------------------\n",
      "Working with more than 2 algorithms\n",
      "----------------------------------------------------------\n",
      "----------------------------------------------------------\n",
      "Applying Friedman test\n",
      "----------------------------------------------------------\n",
      "F-value: 0.901768, p-value: 0.5005603585943652\n",
      "Null hypothesis is accepted; hence, we can't say that there is a significant difference in the performance of the models\n",
      "----------------------------------------------------------\n",
      "Analysing effect size\n",
      "----------------------------------------------------------\n",
      "We take the model with the best mean (LR, mean: 0.608182) and compare it with the other models: \n",
      "Comparing effect size of LR and Arbol: Cohen's d=0.6969580831037869, Large\n",
      "Comparing effect size of LR and SVM: Cohen's d=0.007102208242283961, Small\n",
      "Comparing effect size of LR and KNN: Cohen's d=0.07550140292056397, Small\n",
      "Comparing effect size of LR and MLP: Cohen's d=0.36802355638459, Medium\n",
      "Comparing effect size of LR and RF: Cohen's d=0.35320135794669294, Medium\n",
      "Comparing effect size of LR and ET: Cohen's d=0.4918590472453384, Medium\n",
      "Eta squared: 0.059314 (Medium)\n"
     ]
    },
    {
     "data": {
      "image/png": "[encoded data removed]",
      "text/plain": [
       "<Figure size 432x288 with 1 Axes>"
      ]
     },
     "metadata": {
      "needs_background": "light"
     },
     "output_type": "display_data"
    }
   ],
   "source": [
    "compare_methods(X_mds100,Y,listAlgorithms,listParams,listNames,metric='accuracy')"
   ]
  }
 ],
 "metadata": {
  "colab": {
   "name": "CompareMethods.ipynb",
   "provenance": []
  },
  "kernelspec": {
   "display_name": "Python 3",
   "language": "python",
   "name": "python3"
  },
  "language_info": {
   "codemirror_mode": {
    "name": "ipython",
    "version": 3
   },
   "file_extension": ".py",
   "mimetype": "text/x-python",
   "name": "python",
   "nbconvert_exporter": "python",
   "pygments_lexer": "ipython3",
   "version": "3.6.7"
  }
 },
 "nbformat": 4,
 "nbformat_minor": 1
}
