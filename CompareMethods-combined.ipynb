{
 "cells": [
  {
   "cell_type": "code",
   "execution_count": 1,
   "metadata": {
    "id": "9VdC2keIvxIJ"
   },
   "outputs": [],
   "source": [
    "import numpy as np\n",
    "from StatisticalAnalysis import compare_methods"
   ]
  },
  {
   "cell_type": "code",
   "execution_count": 2,
   "metadata": {
    "id": "3iCEO6wXtftF"
   },
   "outputs": [],
   "source": [
    "import warnings\n",
    "warnings.filterwarnings('ignore')"
   ]
  },
  {
   "cell_type": "markdown",
   "metadata": {
    "id": "Zb3btBk5vxIM"
   },
   "source": [
    "First we load the data and process it to have the correct form."
   ]
  },
  {
   "cell_type": "code",
   "execution_count": 3,
   "metadata": {
    "id": "StF6b56QvxIN"
   },
   "outputs": [],
   "source": [
    "ts_hc = np.load('ts_hc.npy')\n",
    "ts_schz = np.load('ts_schz.npy')"
   ]
  },
  {
   "cell_type": "code",
   "execution_count": 4,
   "metadata": {
    "id": "qd1nFcAfvxIO"
   },
   "outputs": [],
   "source": [
    "ts_hc = ts_hc.reshape(52,142*118)"
   ]
  },
  {
   "cell_type": "code",
   "execution_count": 5,
   "metadata": {
    "id": "fc006UE6vxIO"
   },
   "outputs": [],
   "source": [
    "ts_schz = ts_schz.reshape(50,142*118)"
   ]
  },
  {
   "cell_type": "code",
   "execution_count": 6,
   "metadata": {},
   "outputs": [],
   "source": [
    "corr_hc = np.load('corr_hc.npy')\n",
    "corr_schz = np.load('corr_schz.npy')"
   ]
  },
  {
   "cell_type": "code",
   "execution_count": 7,
   "metadata": {},
   "outputs": [],
   "source": [
    "corr_hc = corr_hc.reshape(52,118*118)\n",
    "corr_schz = corr_schz.reshape(50,118*118)"
   ]
  },
  {
   "cell_type": "code",
   "execution_count": 8,
   "metadata": {},
   "outputs": [],
   "source": [
    "hc = np.append(ts_hc,corr_hc,axis=1)\n",
    "schz = np.append(ts_schz,corr_schz,axis=1)"
   ]
  },
  {
   "cell_type": "code",
   "execution_count": 9,
   "metadata": {
    "id": "SEhdGg3IvxIP"
   },
   "outputs": [],
   "source": [
    "X = np.append(hc,schz,axis=0)"
   ]
  },
  {
   "cell_type": "code",
   "execution_count": 10,
   "metadata": {
    "colab": {
     "base_uri": "https://localhost:8080/"
    },
    "id": "8d-RFXoavxIQ",
    "outputId": "a61e1d34-79c6-4f1a-df1f-0b3a74b2c53d"
   },
   "outputs": [
    {
     "data": {
      "text/plain": [
       "(102, 30680)"
      ]
     },
     "execution_count": 10,
     "metadata": {},
     "output_type": "execute_result"
    }
   ],
   "source": [
    "X.shape"
   ]
  },
  {
   "cell_type": "code",
   "execution_count": 11,
   "metadata": {
    "colab": {
     "base_uri": "https://localhost:8080/"
    },
    "id": "hnaiAVUvJmgn",
    "outputId": "6cb5c264-f346-4b38-e85b-aa3b8bf8ace6"
   },
   "outputs": [
    {
     "data": {
      "text/plain": [
       "(30680,)"
      ]
     },
     "execution_count": 11,
     "metadata": {},
     "output_type": "execute_result"
    }
   ],
   "source": [
    "X[0].shape"
   ]
  },
  {
   "cell_type": "code",
   "execution_count": 12,
   "metadata": {
    "id": "5oh4k1gEvxIR"
   },
   "outputs": [],
   "source": [
    "Y = np.append(np.zeros(52),np.ones(50),axis=0)"
   ]
  },
  {
   "cell_type": "code",
   "execution_count": 13,
   "metadata": {
    "colab": {
     "base_uri": "https://localhost:8080/"
    },
    "id": "PZuBWU5LvxIR",
    "outputId": "21a0987a-b533-41fc-bea5-9f94b3246a66",
    "scrolled": true
   },
   "outputs": [
    {
     "data": {
      "text/plain": [
       "(102,)"
      ]
     },
     "execution_count": 13,
     "metadata": {},
     "output_type": "execute_result"
    }
   ],
   "source": [
    "Y.shape"
   ]
  },
  {
   "cell_type": "markdown",
   "metadata": {
    "id": "w2w8w0VjvxIS"
   },
   "source": [
    "Now, we define the algorithms that we are going to use. "
   ]
  },
  {
   "cell_type": "code",
   "execution_count": 14,
   "metadata": {
    "id": "MEPfV3efvxIS"
   },
   "outputs": [],
   "source": [
    "from sklearn.tree import DecisionTreeClassifier\n",
    "from sklearn.neighbors import KNeighborsClassifier\n",
    "from sklearn.linear_model import LogisticRegression\n",
    "from sklearn.svm import SVC\n",
    "from sklearn.neural_network import MLPClassifier\n",
    "from sklearn.ensemble import ExtraTreesClassifier\n",
    "from sklearn.ensemble import GradientBoostingClassifier\n",
    "from sklearn.ensemble import RandomForestClassifier\n",
    "from sklearn.ensemble import AdaBoostClassifier\n",
    "from scipy.stats import randint as sp_randint"
   ]
  },
  {
   "cell_type": "code",
   "execution_count": 15,
   "metadata": {
    "id": "YwnPEwswvxIU"
   },
   "outputs": [],
   "source": [
    "# Decision tree\n",
    "clfTree = DecisionTreeClassifier(random_state=84)\n",
    "param_distTree = {\"min_samples_split\": sp_randint(3, 30)}\n",
    "# SVM\n",
    "clfSVC = SVC(random_state=84)\n",
    "param_distSVC = {'C': [1, 10, 100, 1000], 'gamma': [0.001, 0.0001],'kernel': ['rbf'], 'class_weight':['balanced', None]}\n",
    "# KNN\n",
    "clfKNN = KNeighborsClassifier()\n",
    "param_distKNN = {'n_neighbors':sp_randint(3, 30)}\n",
    "# Logistic regression\n",
    "clfLR = LogisticRegression(random_state=84)\n",
    "param_distLR = {'C': [0.1,0.5,1, 10, 100, 1000]}\n",
    "# Neural Network\n",
    "clfMLP = MLPClassifier(random_state=84)\n",
    "param_distMLP = {'activation': ['identity', 'logistic', 'tanh', 'relu'], 'solver': ['lbfgs', 'sgd', 'adam'],\n",
    "                 'alpha': sp_randint(0.0001, 1), 'learning_rate': ['constant', 'invscaling', 'adaptive'],\n",
    "                 'hidden_layer_sizes': [(5,2), (3,3,3), (5,3,2), (5,4,3,2)],\n",
    "                 'momentum': [0.9, 0.95, 0.99]}\n",
    "# RandomForest\n",
    "clfRF = RandomForestClassifier(random_state=84)\n",
    "param_distRF =  {'n_estimators': [int(x) for x in np.linspace(start = 200, stop = 2000, num = 10)], 'max_features': ['auto', 'sqrt'],'max_depth': [int(x) for x in np.linspace(10, 110, num = 11)],\n",
    "                 'min_samples_split': [2, 5, 10],'min_samples_leaf': [1, 2, 4],\n",
    "                 'bootstrap': [True, False]}\n",
    "# ExtraTreesClassifier\n",
    "clfET = ExtraTreesClassifier(random_state=84)\n",
    "param_distET =  {'n_estimators': [int(x) for x in np.linspace(start = 200, stop = 2000, num = 10)], 'max_features': ['auto', 'sqrt'],'max_depth': [int(x) for x in np.linspace(10, 110, num = 11)],\n",
    "                 'min_samples_split': [2, 5, 10],'min_samples_leaf': [1, 2, 4],\n",
    "                 'bootstrap': [True, False]}"
   ]
  },
  {
   "cell_type": "code",
   "execution_count": 16,
   "metadata": {
    "id": "GGQcPxBOvxIV"
   },
   "outputs": [],
   "source": [
    "listAlgorithms = [clfTree,clfSVC,clfKNN,clfLR,clfMLP,clfRF,clfET]"
   ]
  },
  {
   "cell_type": "code",
   "execution_count": 17,
   "metadata": {
    "id": "8Nl-1GpjvxIV"
   },
   "outputs": [],
   "source": [
    "listParams = [param_distTree,param_distSVC,param_distKNN,param_distLR,param_distMLP,param_distRF, param_distET]"
   ]
  },
  {
   "cell_type": "code",
   "execution_count": 18,
   "metadata": {
    "id": "IK_8iIWovxIV"
   },
   "outputs": [],
   "source": [
    "listNames = [\"Arbol\", \"SVM\", \"KNN\", \"LR\", \"MLP\",\"RF\",\"ET\"]"
   ]
  },
  {
   "cell_type": "markdown",
   "metadata": {},
   "source": [
    "# Plain comparison"
   ]
  },
  {
   "cell_type": "code",
   "execution_count": 24,
   "metadata": {
    "id": "LSSesjlBvxIV"
   },
   "outputs": [
    {
     "name": "stdout",
     "output_type": "stream",
     "text": [
      "temp.csv\n",
      "['Arbol' 'SVM' 'KNN' 'LR' 'MLP' 'RF' 'ET']\n",
      "==========================================================\n",
      "Report\n",
      "==========================================================\n",
      "**********************************************************\n",
      "Mean and std\n",
      "**********************************************************\n",
      "Arbol: 0.533095 (0.192870)\n",
      "SVM: 0.701548 (0.141779)\n",
      "KNN: 0.735952 (0.131182)\n",
      "LR: 0.697381 (0.142105)\n",
      "MLP: 0.671071 (0.129800)\n",
      "RF: 0.678929 (0.138983)\n",
      "ET: 0.683869 (0.197006)\n",
      "**********************************************************\n",
      "Statistical tests\n",
      "**********************************************************\n",
      "----------------------------------------------------------\n",
      "Checking parametric conditions \n",
      "----------------------------------------------------------\n",
      "Checking independence \n",
      "Ok\n",
      "Checking normality using Shapiro-Wilk's test for normality, alpha=0.05\n",
      "W: 0.948848, p:0.006313\n",
      "The null hypothesis (normality) is rejected\n",
      "Checking heteroscedasticity using Levene's test, alpha=0.05\n",
      "W: 0.594420, p:0.733602\n",
      "The null hypothesis (heteroscedasticity) is accepted\n",
      "Conditions for a parametric test are not fulfilled, applying a non-parametric test\n",
      "----------------------------------------------------------\n",
      "Working with more than 2 algorithms\n",
      "----------------------------------------------------------\n",
      "----------------------------------------------------------\n",
      "Applying Friedman test\n",
      "----------------------------------------------------------\n",
      "F-value: 2.180124, p-value: 0.059042650800093965\n",
      "Null hypothesis is rejected; hence, models have different performance\n",
      "Technique      Ranking\n",
      "-----------  ---------\n",
      "KNN               5\n",
      "ET                4.8\n",
      "SVM               4.35\n",
      "LR                4.25\n",
      "RF                3.9\n",
      "MLP               3.55\n",
      "Arbol             2.15\n",
      "Winner model: KNN\n",
      "----------------------------------------------------------\n",
      "Applying Holm p-value adjustment procedure and analysing effect size\n",
      "----------------------------------------------------------\n",
      "Comparison      Zvalue     p-value    adjusted p-value\n",
      "------------  --------  ----------  ------------------\n",
      "KNN vs Arbol  2.95003   0.00317743           0.0190646\n",
      "KNN vs MLP    1.50089   0.133383             0.666917\n",
      "KNN vs RF     1.13861   0.254867             1\n",
      "KNN vs LR     0.776324  0.437558             1\n",
      "KNN vs SVM    0.672814  0.501066             1\n",
      "KNN vs ET     0.20702   0.835994             1\n",
      "There is a significant difference between the models: KNN (mean: 0.735952, std: 0.131182) and Arbol (mean: 0.533095, std: 0.192870) (Cohen's d=1.1668014404905471, Large)\n",
      "We can't say that there is a significant difference in the performance of the models: KNN (mean: 0.735952, std: 0.131182) and MLP (mean: 0.671071, std: 0.129800) (Cohen's d=0.4716855000687547, Medium)\n",
      "We can't say that there is a significant difference in the performance of the models: KNN (mean: 0.735952, std: 0.131182) and RF (mean: 0.678929, std: 0.138983) (Cohen's d=0.4003113994051793, Medium)\n",
      "We can't say that there is a significant difference in the performance of the models: KNN (mean: 0.735952, std: 0.131182) and LR (mean: 0.697381, std: 0.142105) (Cohen's d=0.2675789471927795, Medium)\n",
      "We can't say that there is a significant difference in the performance of the models: KNN (mean: 0.735952, std: 0.131182) and SVM (mean: 0.701548, std: 0.141779) (Cohen's d=0.23896986682297866, Medium)\n",
      "We can't say that there is a significant difference in the performance of the models: KNN (mean: 0.735952, std: 0.131182) and ET (mean: 0.683869, std: 0.197006) (Cohen's d=0.29523232613228356, Medium)\n",
      "Eta squared: 0.128823 (Large)\n"
     ]
    },
    {
     "data": {
      "image/png": "[encoded data removed]",
      "text/plain": [
       "<Figure size 432x288 with 1 Axes>"
      ]
     },
     "metadata": {
      "needs_background": "light"
     },
     "output_type": "display_data"
    }
   ],
   "source": [
    "compare_methods(X,Y,listAlgorithms,listParams,listNames,metric='auroc')"
   ]
  },
  {
   "cell_type": "markdown",
   "metadata": {
    "id": "9RmrYzBMOAXv"
   },
   "source": [
    "# PCA with 2 components"
   ]
  },
  {
   "cell_type": "code",
   "execution_count": 25,
   "metadata": {
    "id": "Sjjc5WXGvxIX"
   },
   "outputs": [],
   "source": [
    "from sklearn.decomposition import PCA"
   ]
  },
  {
   "cell_type": "code",
   "execution_count": 26,
   "metadata": {
    "id": "edHm_G34N87W"
   },
   "outputs": [],
   "source": [
    "pca = PCA(n_components=2)"
   ]
  },
  {
   "cell_type": "code",
   "execution_count": 27,
   "metadata": {
    "id": "H4lw_jzBODCv"
   },
   "outputs": [
    {
     "data": {
      "text/plain": [
       "PCA(n_components=2)"
      ]
     },
     "execution_count": 27,
     "metadata": {},
     "output_type": "execute_result"
    }
   ],
   "source": [
    "pca.fit(X)"
   ]
  },
  {
   "cell_type": "code",
   "execution_count": 28,
   "metadata": {
    "id": "ImTFoLrKOFHZ"
   },
   "outputs": [],
   "source": [
    "X_pca2 = pca.transform(X)"
   ]
  },
  {
   "cell_type": "code",
   "execution_count": 29,
   "metadata": {
    "id": "5nt7OQ61JuKG"
   },
   "outputs": [
    {
     "data": {
      "text/plain": [
       "(102, 2)"
      ]
     },
     "execution_count": 29,
     "metadata": {},
     "output_type": "execute_result"
    }
   ],
   "source": [
    "X_pca2.shape"
   ]
  },
  {
   "cell_type": "code",
   "execution_count": 30,
   "metadata": {
    "id": "KyVbCZLpOInH"
   },
   "outputs": [
    {
     "name": "stdout",
     "output_type": "stream",
     "text": [
      "temp.csv\n",
      "['Arbol' 'SVM' 'KNN' 'LR' 'MLP' 'RF' 'ET']\n",
      "==========================================================\n",
      "Report\n",
      "==========================================================\n",
      "**********************************************************\n",
      "Mean and std\n",
      "**********************************************************\n",
      "Arbol: 0.681190 (0.136258)\n",
      "SVM: 0.652083 (0.162231)\n",
      "KNN: 0.646726 (0.152699)\n",
      "LR: 0.555179 (0.198608)\n",
      "MLP: 0.555238 (0.130202)\n",
      "RF: 0.669583 (0.196566)\n",
      "ET: 0.650714 (0.199543)\n",
      "**********************************************************\n",
      "Statistical tests\n",
      "**********************************************************\n",
      "----------------------------------------------------------\n",
      "Checking parametric conditions \n",
      "----------------------------------------------------------\n",
      "Checking independence \n",
      "Ok\n",
      "Checking normality using Shapiro-Wilk's test for normality, alpha=0.05\n",
      "W: 0.964715, p:0.045837\n",
      "The null hypothesis (normality) is rejected\n",
      "Checking heteroscedasticity using Levene's test, alpha=0.05\n",
      "W: 0.381421, p:0.888216\n",
      "The null hypothesis (heteroscedasticity) is accepted\n",
      "Conditions for a parametric test are not fulfilled, applying a non-parametric test\n",
      "----------------------------------------------------------\n",
      "Working with more than 2 algorithms\n",
      "----------------------------------------------------------\n",
      "----------------------------------------------------------\n",
      "Applying Friedman test\n",
      "----------------------------------------------------------\n",
      "F-value: 1.619469, p-value: 0.1596055859804083\n",
      "Null hypothesis is rejected; hence, models have different performance\n",
      "Technique      Ranking\n",
      "-----------  ---------\n",
      "ET                5.05\n",
      "Arbol             4.5\n",
      "RF                4.45\n",
      "SVM               4.25\n",
      "KNN               4.05\n",
      "MLP               2.9\n",
      "LR                2.8\n",
      "Winner model: ET\n",
      "----------------------------------------------------------\n",
      "Applying Holm p-value adjustment procedure and analysing effect size\n",
      "----------------------------------------------------------\n",
      "Comparison      Zvalue    p-value    adjusted p-value\n",
      "------------  --------  ---------  ------------------\n",
      "ET vs LR      2.32897   0.0198606            0.119164\n",
      "ET vs MLP     2.22546   0.0260503            0.130251\n",
      "ET vs KNN     1.0351    0.300623             1\n",
      "ET vs SVM     0.828079  0.407626             1\n",
      "ET vs RF      0.621059  0.534561             1\n",
      "ET vs Arbol   0.569304  0.56915              1\n",
      "There is a significant difference between the models: ET (mean: 0.650714, std: 0.199543) and LR (mean: 0.555179, std: 0.198608) (Cohen's d=0.4552697695927597, Medium)\n",
      "There is a significant difference between the models: ET (mean: 0.650714, std: 0.199543) and MLP (mean: 0.555238, std: 0.130202) (Cohen's d=0.5376171884473728, Large)\n",
      "We can't say that there is a significant difference in the performance of the models: ET (mean: 0.650714, std: 0.199543) and KNN (mean: 0.646726, std: 0.152699) (Cohen's d=0.02129457082783767, Small)\n",
      "We can't say that there is a significant difference in the performance of the models: ET (mean: 0.650714, std: 0.199543) and SVM (mean: 0.652083, std: 0.162231) (Cohen's d=0.007142259974174988, Small)\n",
      "We can't say that there is a significant difference in the performance of the models: ET (mean: 0.650714, std: 0.199543) and RF (mean: 0.669583, std: 0.196566) (Cohen's d=0.09038057048312766, Small)\n",
      "We can't say that there is a significant difference in the performance of the models: ET (mean: 0.650714, std: 0.199543) and Arbol (mean: 0.681190, std: 0.136258) (Cohen's d=0.16922016701636322, Small)\n",
      "Eta squared: 0.075452 (Large)\n"
     ]
    },
    {
     "data": {
      "image/png": "[encoded data removed]",
      "text/plain": [
       "<Figure size 432x288 with 1 Axes>"
      ]
     },
     "metadata": {
      "needs_background": "light"
     },
     "output_type": "display_data"
    }
   ],
   "source": [
    "compare_methods(X_pca2,Y,listAlgorithms,listParams,listNames,metric='auroc')"
   ]
  },
  {
   "cell_type": "markdown",
   "metadata": {
    "id": "4_aNOwHHORLf"
   },
   "source": [
    "# PCA with 10 components"
   ]
  },
  {
   "cell_type": "code",
   "execution_count": 31,
   "metadata": {
    "id": "XoW_W87nONDr"
   },
   "outputs": [],
   "source": [
    "pca = PCA(n_components=10)"
   ]
  },
  {
   "cell_type": "code",
   "execution_count": 32,
   "metadata": {
    "id": "D6xAEHgfOXqw"
   },
   "outputs": [
    {
     "data": {
      "text/plain": [
       "PCA(n_components=10)"
      ]
     },
     "execution_count": 32,
     "metadata": {},
     "output_type": "execute_result"
    }
   ],
   "source": [
    "pca.fit(X)"
   ]
  },
  {
   "cell_type": "code",
   "execution_count": 33,
   "metadata": {
    "id": "UsP9oOY0OYu2"
   },
   "outputs": [],
   "source": [
    "X_pca10 = pca.transform(X)"
   ]
  },
  {
   "cell_type": "code",
   "execution_count": 34,
   "metadata": {
    "id": "GJl8Qwv_OgCN"
   },
   "outputs": [],
   "source": [
    "!mv temp.csv temppca2.csv"
   ]
  },
  {
   "cell_type": "code",
   "execution_count": 35,
   "metadata": {
    "id": "fQo9oAaWObE9"
   },
   "outputs": [
    {
     "name": "stdout",
     "output_type": "stream",
     "text": [
      "temp.csv\n",
      "['Arbol' 'SVM' 'KNN' 'LR' 'MLP' 'RF' 'ET']\n",
      "==========================================================\n",
      "Report\n",
      "==========================================================\n",
      "**********************************************************\n",
      "Mean and std\n",
      "**********************************************************\n",
      "Arbol: 0.432500 (0.119613)\n",
      "SVM: 0.687976 (0.146808)\n",
      "KNN: 0.607738 (0.142918)\n",
      "LR: 0.742024 (0.098265)\n",
      "MLP: 0.605714 (0.078325)\n",
      "RF: 0.645298 (0.149571)\n",
      "ET: 0.611964 (0.142189)\n",
      "**********************************************************\n",
      "Statistical tests\n",
      "**********************************************************\n",
      "----------------------------------------------------------\n",
      "Checking parametric conditions \n",
      "----------------------------------------------------------\n",
      "Checking independence \n",
      "Ok\n",
      "Checking normality using Shapiro-Wilk's test for normality, alpha=0.05\n",
      "W: 0.981205, p:0.375684\n",
      "The null hypothesis (normality) is rejected\n",
      "Checking heteroscedasticity using Levene's test, alpha=0.05\n",
      "W: 0.691065, p:0.657582\n",
      "The null hypothesis (heteroscedasticity) is accepted\n",
      "Conditions for a parametric test are not fulfilled, applying a non-parametric test\n",
      "----------------------------------------------------------\n",
      "Working with more than 2 algorithms\n",
      "----------------------------------------------------------\n",
      "----------------------------------------------------------\n",
      "Applying Friedman test\n",
      "----------------------------------------------------------\n",
      "F-value: 5.862872, p-value: 9.242006616794196e-05\n",
      "Null hypothesis is rejected; hence, models have different performance\n",
      "Technique      Ranking\n",
      "-----------  ---------\n",
      "LR                6\n",
      "SVM               4.75\n",
      "RF                4.25\n",
      "ET                4\n",
      "MLP               3.9\n",
      "KNN               3.6\n",
      "Arbol             1.5\n",
      "Winner model: LR\n",
      "----------------------------------------------------------\n",
      "Applying Holm p-value adjustment procedure and analysing effect size\n",
      "----------------------------------------------------------\n",
      "Comparison      Zvalue      p-value    adjusted p-value\n",
      "------------  --------  -----------  ------------------\n",
      "LR vs Arbol    4.65794  3.19385e-06         1.91631e-05\n",
      "LR vs KNN      2.48424  0.012983            0.0649149\n",
      "LR vs MLP      2.17371  0.0297272           0.118909\n",
      "LR vs ET       2.0702   0.0384339           0.118909\n",
      "LR vs RF       1.81142  0.0700755           0.140151\n",
      "LR vs SVM      1.29387  0.195709            0.195709\n",
      "There is a significant difference between the models: LR (mean: 0.742024, std: 0.098265) and Arbol (mean: 0.432500, std: 0.119613) (Cohen's d=2.682605451149818, Large)\n",
      "There is a significant difference between the models: LR (mean: 0.742024, std: 0.098265) and KNN (mean: 0.607738, std: 0.142918) (Cohen's d=1.0387625531076112, Large)\n",
      "There is a significant difference between the models: LR (mean: 0.742024, std: 0.098265) and MLP (mean: 0.605714, std: 0.078325) (Cohen's d=1.4553275366860634, Large)\n",
      "There is a significant difference between the models: LR (mean: 0.742024, std: 0.098265) and ET (mean: 0.611964, std: 0.142189) (Cohen's d=1.009564118609487, Large)\n",
      "There is a significant difference between the models: LR (mean: 0.742024, std: 0.098265) and RF (mean: 0.645298, std: 0.149571) (Cohen's d=0.7251352590175288, Large)\n",
      "There is a significant difference between the models: LR (mean: 0.742024, std: 0.098265) and SVM (mean: 0.687976, std: 0.146808) (Cohen's d=0.41046539140805216, Medium)\n",
      "Eta squared: 0.327020 (Large)\n"
     ]
    },
    {
     "data": {
      "image/png": "[encoded data removed]",
      "text/plain": [
       "<Figure size 432x288 with 1 Axes>"
      ]
     },
     "metadata": {
      "needs_background": "light"
     },
     "output_type": "display_data"
    }
   ],
   "source": [
    "compare_methods(X_pca10,Y,listAlgorithms,listParams,listNames,metric='auroc')"
   ]
  },
  {
   "cell_type": "code",
   "execution_count": 36,
   "metadata": {
    "id": "uUqwDOQLOjtd"
   },
   "outputs": [],
   "source": [
    "!mv temp.csv temppca10.csv"
   ]
  },
  {
   "cell_type": "markdown",
   "metadata": {
    "id": "7wgUs9MrOuQE"
   },
   "source": [
    "# PCA with 100 components"
   ]
  },
  {
   "cell_type": "code",
   "execution_count": 37,
   "metadata": {
    "id": "Ef54_v0COuQF"
   },
   "outputs": [],
   "source": [
    "pca = PCA(n_components=100)"
   ]
  },
  {
   "cell_type": "code",
   "execution_count": 38,
   "metadata": {
    "id": "ejF2FGo0OuQG"
   },
   "outputs": [
    {
     "data": {
      "text/plain": [
       "PCA(n_components=100)"
      ]
     },
     "execution_count": 38,
     "metadata": {},
     "output_type": "execute_result"
    }
   ],
   "source": [
    "pca.fit(X)"
   ]
  },
  {
   "cell_type": "code",
   "execution_count": 39,
   "metadata": {
    "id": "AAI4QlOZOuQG"
   },
   "outputs": [],
   "source": [
    "X_pca100 = pca.transform(X)"
   ]
  },
  {
   "cell_type": "code",
   "execution_count": 40,
   "metadata": {
    "id": "JVbgf7IdOuQH"
   },
   "outputs": [
    {
     "name": "stdout",
     "output_type": "stream",
     "text": [
      "temp.csv\n",
      "['Arbol' 'SVM' 'KNN' 'LR' 'MLP' 'RF' 'ET']\n",
      "==========================================================\n",
      "Report\n",
      "==========================================================\n",
      "**********************************************************\n",
      "Mean and std\n",
      "**********************************************************\n",
      "Arbol: 0.486250 (0.164736)\n",
      "SVM: 0.720298 (0.158374)\n",
      "KNN: 0.738810 (0.135382)\n",
      "LR: 0.717024 (0.138283)\n",
      "MLP: 0.554226 (0.138358)\n",
      "RF: 0.536429 (0.125664)\n",
      "ET: 0.527024 (0.145345)\n",
      "**********************************************************\n",
      "Statistical tests\n",
      "**********************************************************\n",
      "----------------------------------------------------------\n",
      "Checking parametric conditions \n",
      "----------------------------------------------------------\n",
      "Checking independence \n",
      "Ok\n",
      "Checking normality using Shapiro-Wilk's test for normality, alpha=0.05\n",
      "W: 0.979387, p:0.302334\n",
      "The null hypothesis (normality) is rejected\n",
      "Checking heteroscedasticity using Levene's test, alpha=0.05\n",
      "W: 0.284352, p:0.942293\n",
      "The null hypothesis (heteroscedasticity) is accepted\n",
      "Conditions for a parametric test are not fulfilled, applying a non-parametric test\n",
      "----------------------------------------------------------\n",
      "Working with more than 2 algorithms\n",
      "----------------------------------------------------------\n",
      "----------------------------------------------------------\n",
      "Applying Friedman test\n",
      "----------------------------------------------------------\n",
      "F-value: 6.403423, p-value: 3.8766978901039195e-05\n",
      "Null hypothesis is rejected; hence, models have different performance\n",
      "Technique      Ranking\n",
      "-----------  ---------\n",
      "KNN               5.6\n",
      "SVM               5.5\n",
      "LR                5.35\n",
      "Arbol             3.05\n",
      "ET                2.95\n",
      "RF                2.8\n",
      "MLP               2.75\n",
      "Winner model: KNN\n",
      "----------------------------------------------------------\n",
      "Applying Holm p-value adjustment procedure and analysing effect size\n",
      "----------------------------------------------------------\n",
      "Comparison      Zvalue     p-value    adjusted p-value\n",
      "------------  --------  ----------  ------------------\n",
      "KNN vs MLP    2.95003   0.00317743           0.0190646\n",
      "KNN vs RF     2.89828   0.00375221           0.0190646\n",
      "KNN vs ET     2.74301   0.00608787           0.0243515\n",
      "KNN vs Arbol  2.6395    0.00830282           0.0249085\n",
      "KNN vs LR     0.258775  0.795809             1\n",
      "KNN vs SVM    0.10351   0.917558             1\n",
      "There is a significant difference between the models: KNN (mean: 0.738810, std: 0.135382) and MLP (mean: 0.554226, std: 0.138358) (Cohen's d=1.2793213830916927, Large)\n",
      "There is a significant difference between the models: KNN (mean: 0.738810, std: 0.135382) and RF (mean: 0.536429, std: 0.125664) (Cohen's d=1.469948794538955, Large)\n",
      "There is a significant difference between the models: KNN (mean: 0.738810, std: 0.135382) and ET (mean: 0.527024, std: 0.145345) (Cohen's d=1.4305085413829564, Large)\n",
      "There is a significant difference between the models: KNN (mean: 0.738810, std: 0.135382) and Arbol (mean: 0.486250, std: 0.164736) (Cohen's d=1.5891122610813064, Large)\n",
      "We can't say that there is a significant difference in the performance of the models: KNN (mean: 0.738810, std: 0.135382) and LR (mean: 0.717024, std: 0.138283) (Cohen's d=0.15103549475094208, Small)\n",
      "We can't say that there is a significant difference in the performance of the models: KNN (mean: 0.738810, std: 0.135382) and SVM (mean: 0.720298, std: 0.158374) (Cohen's d=0.11920363918419295, Small)\n",
      "Eta squared: 0.327347 (Large)\n"
     ]
    },
    {
     "data": {
      "image/png": "[encoded data removed]",
      "text/plain": [
       "<Figure size 432x288 with 1 Axes>"
      ]
     },
     "metadata": {
      "needs_background": "light"
     },
     "output_type": "display_data"
    }
   ],
   "source": [
    "compare_methods(X_pca100,Y,listAlgorithms,listParams,listNames,metric='auroc')"
   ]
  },
  {
   "cell_type": "code",
   "execution_count": 41,
   "metadata": {
    "id": "DNplq4INOuQI"
   },
   "outputs": [],
   "source": [
    "!mv temp.csv temppca100.csv"
   ]
  },
  {
   "cell_type": "markdown",
   "metadata": {
    "id": "B9xyvRUBJ4Yg"
   },
   "source": [
    "# TSNE with 2 components"
   ]
  },
  {
   "cell_type": "code",
   "execution_count": 42,
   "metadata": {
    "id": "cgeSd7wqJ4MA"
   },
   "outputs": [],
   "source": [
    "from sklearn.manifold import TSNE"
   ]
  },
  {
   "cell_type": "code",
   "execution_count": 43,
   "metadata": {
    "id": "VqpY0-F7JWkP"
   },
   "outputs": [],
   "source": [
    "Xtsne2 = TSNE(n_components=2).fit_transform(X)"
   ]
  },
  {
   "cell_type": "code",
   "execution_count": 44,
   "metadata": {
    "id": "JLGsE9ymKGAf"
   },
   "outputs": [
    {
     "name": "stdout",
     "output_type": "stream",
     "text": [
      "temp.csv\n",
      "['Arbol' 'SVM' 'KNN' 'LR' 'MLP' 'RF' 'ET']\n",
      "==========================================================\n",
      "Report\n",
      "==========================================================\n",
      "**********************************************************\n",
      "Mean and std\n",
      "**********************************************************\n",
      "Arbol: 0.591429 (0.192361)\n",
      "SVM: 0.629286 (0.105633)\n",
      "KNN: 0.621964 (0.116702)\n",
      "LR: 0.600238 (0.133684)\n",
      "MLP: 0.616190 (0.149150)\n",
      "RF: 0.568214 (0.122650)\n",
      "ET: 0.609881 (0.169852)\n",
      "**********************************************************\n",
      "Statistical tests\n",
      "**********************************************************\n",
      "----------------------------------------------------------\n",
      "Checking parametric conditions \n",
      "----------------------------------------------------------\n",
      "Checking independence \n",
      "Ok\n",
      "Checking normality using Shapiro-Wilk's test for normality, alpha=0.05\n",
      "W: 0.980194, p:0.333282\n",
      "The null hypothesis (normality) is rejected\n",
      "Checking heteroscedasticity using Levene's test, alpha=0.05\n",
      "W: 1.011126, p:0.426252\n",
      "The null hypothesis (heteroscedasticity) is rejected\n",
      "Conditions for a parametric test are not fulfilled, applying a non-parametric test\n",
      "----------------------------------------------------------\n",
      "Working with more than 2 algorithms\n",
      "----------------------------------------------------------\n",
      "----------------------------------------------------------\n",
      "Applying Friedman test\n",
      "----------------------------------------------------------\n",
      "F-value: 0.692308, p-value: 0.656741447743465\n",
      "Null hypothesis is accepted; hence, we can't say that there is a significant difference in the performance of the models\n",
      "----------------------------------------------------------\n",
      "Analysing effect size\n",
      "----------------------------------------------------------\n",
      "We take the model with the best mean (SVM, mean: 0.629286) and compare it with the other models: \n",
      "Comparing effect size of SVM and Arbol: Cohen's d=0.23143838508084696, Medium\n",
      "Comparing effect size of SVM and KNN: Cohen's d=0.062402411240447576, Small\n",
      "Comparing effect size of SVM and LR: Cohen's d=0.22873101432679627, Medium\n",
      "Comparing effect size of SVM and MLP: Cohen's d=0.09612787251832024, Small\n",
      "Comparing effect size of SVM and RF: Cohen's d=0.5061876998487763, Large\n",
      "Comparing effect size of SVM and ET: Cohen's d=0.13015784243945458, Small\n",
      "Eta squared: 0.017429 (Medium)\n"
     ]
    },
    {
     "data": {
      "image/png": "[encoded data removed]",
      "text/plain": [
       "<Figure size 432x288 with 1 Axes>"
      ]
     },
     "metadata": {
      "needs_background": "light"
     },
     "output_type": "display_data"
    }
   ],
   "source": [
    "compare_methods(Xtsne2,Y,listAlgorithms,listParams,listNames,metric='auroc')"
   ]
  },
  {
   "cell_type": "code",
   "execution_count": 45,
   "metadata": {
    "id": "9s4RecsnKMgQ"
   },
   "outputs": [],
   "source": [
    "!mv temp.csv temptsne2.csv"
   ]
  },
  {
   "cell_type": "markdown",
   "metadata": {},
   "source": [
    "# TSNE with 3 components"
   ]
  },
  {
   "cell_type": "code",
   "execution_count": 46,
   "metadata": {
    "id": "ROSlAByBKUuE"
   },
   "outputs": [
    {
     "name": "stdout",
     "output_type": "stream",
     "text": [
      "temp.csv\n",
      "['Arbol' 'SVM' 'KNN' 'LR' 'MLP' 'RF' 'ET']\n",
      "==========================================================\n",
      "Report\n",
      "==========================================================\n",
      "**********************************************************\n",
      "Mean and std\n",
      "**********************************************************\n",
      "Arbol: 0.449940 (0.143343)\n",
      "SVM: 0.491310 (0.162705)\n",
      "KNN: 0.486429 (0.154682)\n",
      "LR: 0.495179 (0.166474)\n",
      "MLP: 0.475000 (0.216932)\n",
      "RF: 0.509583 (0.219769)\n",
      "ET: 0.445774 (0.141090)\n",
      "**********************************************************\n",
      "Statistical tests\n",
      "**********************************************************\n",
      "----------------------------------------------------------\n",
      "Checking parametric conditions \n",
      "----------------------------------------------------------\n",
      "Checking independence \n",
      "Ok\n",
      "Checking normality using Shapiro-Wilk's test for normality, alpha=0.05\n",
      "W: 0.984389, p:0.534557\n",
      "The null hypothesis (normality) is accepted\n",
      "Checking heteroscedasticity using Levene's test, alpha=0.05\n",
      "W: 0.232547, p:0.964424\n",
      "The null hypothesis (heteroscedasticity) is accepted\n",
      "Conditions for a parametric test are fulfilled\n",
      "----------------------------------------------------------\n",
      "Working with more than 2 algorithms\n",
      "----------------------------------------------------------\n",
      "----------------------------------------------------------\n",
      "Applying ANOVA test\n",
      "----------------------------------------------------------\n",
      "F-value: 0.165322, p-value: 0.9850339995341068\n",
      "Null hypothesis is accepted; hence, we can't say that there is a significant difference in the performance of the models\n",
      "----------------------------------------------------------\n",
      "Analysing effect size\n",
      "----------------------------------------------------------\n",
      "We take the model with the best mean (RF, mean: 0.509583) and compare it with the other models: \n",
      "Comparing effect size of RF and Arbol: Cohen's d=0.30497013680417256, Medium\n",
      "Comparing effect size of RF and SVM: Cohen's d=0.08965986344579689, Small\n",
      "Comparing effect size of RF and KNN: Cohen's d=0.11559344639795198, Small\n",
      "Comparing effect size of RF and LR: Cohen's d=0.07009743984182212, Small\n",
      "Comparing effect size of RF and MLP: Cohen's d=0.15025362664850278, Small\n",
      "Comparing effect size of RF and ET: Cohen's d=0.3278044094101339, Medium\n",
      "Eta squared: 0.015501 (Medium)\n"
     ]
    },
    {
     "data": {
      "image/png": "[encoded data removed]",
      "text/plain": [
       "<Figure size 432x288 with 1 Axes>"
      ]
     },
     "metadata": {
      "needs_background": "light"
     },
     "output_type": "display_data"
    }
   ],
   "source": [
    "Xtsne3 = TSNE(n_components=3).fit_transform(X)\n",
    "compare_methods(Xtsne3,Y,listAlgorithms,listParams,listNames,metric='auroc')"
   ]
  },
  {
   "cell_type": "code",
   "execution_count": 47,
   "metadata": {
    "id": "rAl1ayHcKbSF"
   },
   "outputs": [],
   "source": [
    "!mv temp.csv temptsne3.csv"
   ]
  },
  {
   "cell_type": "markdown",
   "metadata": {},
   "source": [
    "# UMAP with 2 components"
   ]
  },
  {
   "cell_type": "code",
   "execution_count": 48,
   "metadata": {
    "id": "T45s4ka649by"
   },
   "outputs": [],
   "source": [
    "from umap import UMAP"
   ]
  },
  {
   "cell_type": "code",
   "execution_count": 49,
   "metadata": {
    "id": "y-O-MGt_5AC4"
   },
   "outputs": [],
   "source": [
    "reducer = UMAP()"
   ]
  },
  {
   "cell_type": "code",
   "execution_count": 50,
   "metadata": {
    "id": "h3U_6qzL5bR_"
   },
   "outputs": [],
   "source": [
    "Xumap = reducer.fit_transform(X)"
   ]
  },
  {
   "cell_type": "code",
   "execution_count": 51,
   "metadata": {
    "id": "PqHq4hZsXPPy"
   },
   "outputs": [
    {
     "name": "stdout",
     "output_type": "stream",
     "text": [
      "temp.csv\n",
      "['Arbol' 'SVM' 'KNN' 'LR' 'MLP' 'RF' 'ET']\n",
      "==========================================================\n",
      "Report\n",
      "==========================================================\n",
      "**********************************************************\n",
      "Mean and std\n",
      "**********************************************************\n",
      "Arbol: 0.713512 (0.100342)\n",
      "SVM: 0.619405 (0.126582)\n",
      "KNN: 0.548452 (0.172444)\n",
      "LR: 0.633988 (0.099826)\n",
      "MLP: 0.592202 (0.112492)\n",
      "RF: 0.643988 (0.137631)\n",
      "ET: 0.602024 (0.103480)\n",
      "**********************************************************\n",
      "Statistical tests\n",
      "**********************************************************\n",
      "----------------------------------------------------------\n",
      "Checking parametric conditions \n",
      "----------------------------------------------------------\n",
      "Checking independence \n",
      "Ok\n",
      "Checking normality using Shapiro-Wilk's test for normality, alpha=0.05\n",
      "W: 0.979310, p:0.299522\n",
      "The null hypothesis (normality) is rejected\n",
      "Checking heteroscedasticity using Levene's test, alpha=0.05\n",
      "W: 0.822337, p:0.556876\n",
      "The null hypothesis (heteroscedasticity) is accepted\n",
      "Conditions for a parametric test are not fulfilled, applying a non-parametric test\n",
      "----------------------------------------------------------\n",
      "Working with more than 2 algorithms\n",
      "----------------------------------------------------------\n",
      "----------------------------------------------------------\n",
      "Applying Friedman test\n",
      "----------------------------------------------------------\n",
      "F-value: 2.280215, p-value: 0.049259961608642766\n",
      "Null hypothesis is rejected; hence, models have different performance\n",
      "Technique      Ranking\n",
      "-----------  ---------\n",
      "Arbol             5.9\n",
      "RF                4.5\n",
      "LR                4.05\n",
      "ET                3.7\n",
      "MLP               3.45\n",
      "SVM               3.45\n",
      "KNN               2.95\n",
      "Winner model: Arbol\n",
      "----------------------------------------------------------\n",
      "Applying Holm p-value adjustment procedure and analysing effect size\n",
      "----------------------------------------------------------\n",
      "Comparison      Zvalue     p-value    adjusted p-value\n",
      "------------  --------  ----------  ------------------\n",
      "Arbol vs KNN   3.05354  0.00226158           0.0135695\n",
      "Arbol vs SVM   2.53599  0.011213             0.0560648\n",
      "Arbol vs MLP   2.53599  0.011213             0.0560648\n",
      "Arbol vs ET    2.27722  0.0227733            0.0683199\n",
      "Arbol vs LR    1.91493  0.0555012            0.111002\n",
      "Arbol vs RF    1.44914  0.147299             0.147299\n",
      "There is a significant difference between the models: Arbol (mean: 0.713512, std: 0.100342) and KNN (mean: 0.548452, std: 0.172444) (Cohen's d=1.1099557671925688, Large)\n",
      "There is a significant difference between the models: Arbol (mean: 0.713512, std: 0.100342) and SVM (mean: 0.619405, std: 0.126582) (Cohen's d=0.7816456325869465, Large)\n",
      "There is a significant difference between the models: Arbol (mean: 0.713512, std: 0.100342) and MLP (mean: 0.592202, std: 0.112492) (Cohen's d=1.0796889051367202, Large)\n",
      "There is a significant difference between the models: Arbol (mean: 0.713512, std: 0.100342) and ET (mean: 0.602024, std: 0.103480) (Cohen's d=1.0377138295032686, Large)\n",
      "There is a significant difference between the models: Arbol (mean: 0.713512, std: 0.100342) and LR (mean: 0.633988, std: 0.099826) (Cohen's d=0.7537930605876961, Large)\n",
      "There is a significant difference between the models: Arbol (mean: 0.713512, std: 0.100342) and RF (mean: 0.643988, std: 0.137631) (Cohen's d=0.54763471920233, Large)\n",
      "Eta squared: 0.126851 (Large)\n"
     ]
    },
    {
     "data": {
      "image/png": "[encoded data removed]",
      "text/plain": [
       "<Figure size 432x288 with 1 Axes>"
      ]
     },
     "metadata": {
      "needs_background": "light"
     },
     "output_type": "display_data"
    }
   ],
   "source": [
    "compare_methods(Xumap,Y,listAlgorithms,listParams,listNames,metric='auroc')"
   ]
  },
  {
   "cell_type": "code",
   "execution_count": 52,
   "metadata": {
    "id": "9NTIJDD2XWW6"
   },
   "outputs": [],
   "source": [
    "!mv temp.csv tempumap2.csv"
   ]
  },
  {
   "cell_type": "markdown",
   "metadata": {},
   "source": [
    "# UMAP with 10 components"
   ]
  },
  {
   "cell_type": "code",
   "execution_count": 53,
   "metadata": {
    "id": "vtZHePZ6XaWK"
   },
   "outputs": [],
   "source": [
    "reducer = UMAP(n_components=10)"
   ]
  },
  {
   "cell_type": "code",
   "execution_count": 54,
   "metadata": {
    "id": "RT32rbaFXsMs"
   },
   "outputs": [],
   "source": [
    "Xumap10 = reducer.fit_transform(X)"
   ]
  },
  {
   "cell_type": "code",
   "execution_count": 55,
   "metadata": {
    "id": "IZhqNI6ZX2L0"
   },
   "outputs": [
    {
     "name": "stdout",
     "output_type": "stream",
     "text": [
      "temp.csv\n",
      "['Arbol' 'SVM' 'KNN' 'LR' 'MLP' 'RF' 'ET']\n",
      "==========================================================\n",
      "Report\n",
      "==========================================================\n",
      "**********************************************************\n",
      "Mean and std\n",
      "**********************************************************\n",
      "Arbol: 0.570179 (0.163457)\n",
      "SVM: 0.646548 (0.190549)\n",
      "KNN: 0.680417 (0.163163)\n",
      "LR: 0.636429 (0.143818)\n",
      "MLP: 0.607560 (0.144225)\n",
      "RF: 0.669881 (0.143222)\n",
      "ET: 0.676250 (0.138491)\n",
      "**********************************************************\n",
      "Statistical tests\n",
      "**********************************************************\n",
      "----------------------------------------------------------\n",
      "Checking parametric conditions \n",
      "----------------------------------------------------------\n",
      "Checking independence \n",
      "Ok\n",
      "Checking normality using Shapiro-Wilk's test for normality, alpha=0.05\n",
      "W: 0.980440, p:0.343247\n",
      "The null hypothesis (normality) is rejected\n",
      "Checking heteroscedasticity using Levene's test, alpha=0.05\n",
      "W: 0.371771, p:0.894228\n",
      "The null hypothesis (heteroscedasticity) is accepted\n",
      "Conditions for a parametric test are not fulfilled, applying a non-parametric test\n",
      "----------------------------------------------------------\n",
      "Working with more than 2 algorithms\n",
      "----------------------------------------------------------\n",
      "----------------------------------------------------------\n",
      "Applying Friedman test\n",
      "----------------------------------------------------------\n",
      "F-value: 1.357583, p-value: 0.2484610410573055\n",
      "Null hypothesis is rejected; hence, models have different performance\n",
      "Technique      Ranking\n",
      "-----------  ---------\n",
      "KNN               4.75\n",
      "ET                4.6\n",
      "RF                4.6\n",
      "SVM               4.25\n",
      "LR                3.75\n",
      "MLP               3.45\n",
      "Arbol             2.6\n",
      "Winner model: KNN\n",
      "----------------------------------------------------------\n",
      "Applying Holm p-value adjustment procedure and analysing effect size\n",
      "----------------------------------------------------------\n",
      "Comparison      Zvalue    p-value    adjusted p-value\n",
      "------------  --------  ---------  ------------------\n",
      "KNN vs Arbol  2.22546   0.0260503            0.156302\n",
      "KNN vs MLP    1.34563   0.178423             0.892113\n",
      "KNN vs LR     1.0351    0.300623             1\n",
      "KNN vs SVM    0.517549  0.604773             1\n",
      "KNN vs RF     0.155265  0.876613             1\n",
      "KNN vs ET     0.155265  0.876613             1\n",
      "There is a significant difference between the models: KNN (mean: 0.680417, std: 0.163163) and Arbol (mean: 0.570179, std: 0.163457) (Cohen's d=0.6403825365991478, Large)\n",
      "We can't say that there is a significant difference in the performance of the models: KNN (mean: 0.680417, std: 0.163163) and MLP (mean: 0.607560, std: 0.144225) (Cohen's d=0.4488626941492545, Medium)\n",
      "We can't say that there is a significant difference in the performance of the models: KNN (mean: 0.680417, std: 0.163163) and LR (mean: 0.636429, std: 0.143818) (Cohen's d=0.27133987957921535, Medium)\n",
      "We can't say that there is a significant difference in the performance of the models: KNN (mean: 0.680417, std: 0.163163) and SVM (mean: 0.646548, std: 0.190549) (Cohen's d=0.18113689801425936, Small)\n",
      "We can't say that there is a significant difference in the performance of the models: KNN (mean: 0.680417, std: 0.163163) and RF (mean: 0.669881, std: 0.143222) (Cohen's d=0.06510733825948442, Small)\n",
      "We can't say that there is a significant difference in the performance of the models: KNN (mean: 0.680417, std: 0.163163) and ET (mean: 0.676250, std: 0.138491) (Cohen's d=0.02612059707879563, Small)\n",
      "Eta squared: 0.054339 (Medium)\n"
     ]
    },
    {
     "data": {
      "image/png": "[encoded data removed]",
      "text/plain": [
       "<Figure size 432x288 with 1 Axes>"
      ]
     },
     "metadata": {
      "needs_background": "light"
     },
     "output_type": "display_data"
    }
   ],
   "source": [
    "compare_methods(Xumap10,Y,listAlgorithms,listParams,listNames,metric='auroc')"
   ]
  },
  {
   "cell_type": "code",
   "execution_count": 56,
   "metadata": {
    "id": "B91qjVhuX5I-"
   },
   "outputs": [],
   "source": [
    "!mv temp.csv tempumap10.csv"
   ]
  },
  {
   "cell_type": "markdown",
   "metadata": {},
   "source": [
    "# Isomap"
   ]
  },
  {
   "cell_type": "code",
   "execution_count": 19,
   "metadata": {},
   "outputs": [
    {
     "name": "stdout",
     "output_type": "stream",
     "text": [
      "temp.csv\n",
      "['Arbol' 'SVM' 'KNN' 'LR' 'MLP' 'RF' 'ET']\n",
      "==========================================================\n",
      "Report\n",
      "==========================================================\n",
      "**********************************************************\n",
      "Mean and std\n",
      "**********************************************************\n",
      "Arbol: 0.493333 (0.095411)\n",
      "SVM: 0.542321 (0.154314)\n",
      "KNN: 0.524762 (0.104206)\n",
      "LR: 0.556488 (0.177798)\n",
      "MLP: 0.518988 (0.163794)\n",
      "RF: 0.540417 (0.094002)\n",
      "ET: 0.559107 (0.094407)\n",
      "**********************************************************\n",
      "Statistical tests\n",
      "**********************************************************\n",
      "----------------------------------------------------------\n",
      "Checking parametric conditions \n",
      "----------------------------------------------------------\n",
      "Checking independence \n",
      "Ok\n",
      "Checking normality using Shapiro-Wilk's test for normality, alpha=0.05\n",
      "W: 0.979771, p:0.316777\n",
      "The null hypothesis (normality) is rejected\n",
      "Checking heteroscedasticity using Levene's test, alpha=0.05\n",
      "W: 1.652645, p:0.147613\n",
      "The null hypothesis (heteroscedasticity) is rejected\n",
      "Conditions for a parametric test are not fulfilled, applying a non-parametric test\n",
      "----------------------------------------------------------\n",
      "Working with more than 2 algorithms\n",
      "----------------------------------------------------------\n",
      "----------------------------------------------------------\n",
      "Applying Friedman test\n",
      "----------------------------------------------------------\n",
      "F-value: 0.673704, p-value: 0.6712808101316382\n",
      "Null hypothesis is accepted; hence, we can't say that there is a significant difference in the performance of the models\n",
      "----------------------------------------------------------\n",
      "Analysing effect size\n",
      "----------------------------------------------------------\n",
      "We take the model with the best mean (ET, mean: 0.559107) and compare it with the other models: \n",
      "Comparing effect size of ET and Arbol: Cohen's d=0.6574458869455526, Large\n",
      "Comparing effect size of ET and SVM: Cohen's d=0.12448966242287765, Small\n",
      "Comparing effect size of ET and KNN: Cohen's d=0.32770384788743273, Medium\n",
      "Comparing effect size of ET and LR: Cohen's d=0.017454950806104437, Small\n",
      "Comparing effect size of ET and MLP: Cohen's d=0.2847098141581412, Medium\n",
      "Comparing effect size of ET and RF: Cohen's d=0.18822108677929497, Small\n",
      "Eta squared: 0.026061 (Medium)\n"
     ]
    },
    {
     "data": {
      "image/png": "[encoded data removed]",
      "text/plain": [
       "<Figure size 432x288 with 1 Axes>"
      ]
     },
     "metadata": {
      "needs_background": "light"
     },
     "output_type": "display_data"
    }
   ],
   "source": [
    "from sklearn import manifold\n",
    "clf = manifold.Isomap(10, n_components=2)\n",
    "X_iso2 = clf.fit_transform(X)\n",
    "compare_methods(X_iso2,Y,listAlgorithms,listParams,listNames,metric='auroc')\n",
    "!mv temp.csv tempiso2.csv"
   ]
  },
  {
   "cell_type": "code",
   "execution_count": 20,
   "metadata": {},
   "outputs": [
    {
     "name": "stdout",
     "output_type": "stream",
     "text": [
      "temp.csv\n",
      "['Arbol' 'SVM' 'KNN' 'LR' 'MLP' 'RF' 'ET']\n",
      "==========================================================\n",
      "Report\n",
      "==========================================================\n",
      "**********************************************************\n",
      "Mean and std\n",
      "**********************************************************\n",
      "Arbol: 0.625060 (0.178524)\n",
      "SVM: 0.570536 (0.066337)\n",
      "KNN: 0.687560 (0.147550)\n",
      "LR: 0.627440 (0.101724)\n",
      "MLP: 0.634286 (0.106315)\n",
      "RF: 0.644107 (0.148000)\n",
      "ET: 0.665238 (0.171602)\n",
      "**********************************************************\n",
      "Statistical tests\n",
      "**********************************************************\n",
      "----------------------------------------------------------\n",
      "Checking parametric conditions \n",
      "----------------------------------------------------------\n",
      "Checking independence \n",
      "Ok\n",
      "Checking normality using Shapiro-Wilk's test for normality, alpha=0.05\n",
      "W: 0.979548, p:0.308329\n",
      "The null hypothesis (normality) is rejected\n",
      "Checking heteroscedasticity using Levene's test, alpha=0.05\n",
      "W: 1.417655, p:0.221961\n",
      "The null hypothesis (heteroscedasticity) is rejected\n",
      "Conditions for a parametric test are not fulfilled, applying a non-parametric test\n",
      "----------------------------------------------------------\n",
      "Working with more than 2 algorithms\n",
      "----------------------------------------------------------\n",
      "----------------------------------------------------------\n",
      "Applying Friedman test\n",
      "----------------------------------------------------------\n",
      "F-value: 0.585394, p-value: 0.7404105831879244\n",
      "Null hypothesis is accepted; hence, we can't say that there is a significant difference in the performance of the models\n",
      "----------------------------------------------------------\n",
      "Analysing effect size\n",
      "----------------------------------------------------------\n",
      "We take the model with the best mean (KNN, mean: 0.687560) and compare it with the other models: \n",
      "Comparing effect size of KNN and Arbol: Cohen's d=0.36204722611650947, Medium\n",
      "Comparing effect size of KNN and SVM: Cohen's d=0.9705020915654732, Large\n",
      "Comparing effect size of KNN and LR: Cohen's d=0.45006000060216633, Medium\n",
      "Comparing effect size of KNN and MLP: Cohen's d=0.3930142864313946, Medium\n",
      "Comparing effect size of KNN and RF: Cohen's d=0.2789551125650001, Medium\n",
      "Comparing effect size of KNN and ET: Cohen's d=0.13232641902658387, Small\n",
      "Eta squared: 0.057941 (Medium)\n"
     ]
    },
    {
     "data": {
      "image/png": "[encoded data removed]",
      "text/plain": [
       "<Figure size 432x288 with 1 Axes>"
      ]
     },
     "metadata": {
      "needs_background": "light"
     },
     "output_type": "display_data"
    }
   ],
   "source": [
    "clf = manifold.Isomap(10, n_components=10)\n",
    "X_iso10 = clf.fit_transform(X)\n",
    "compare_methods(X_iso10,Y,listAlgorithms,listParams,listNames,metric='auroc')"
   ]
  },
  {
   "cell_type": "markdown",
   "metadata": {},
   "source": [
    "# LLE"
   ]
  },
  {
   "cell_type": "code",
   "execution_count": 25,
   "metadata": {},
   "outputs": [
    {
     "name": "stdout",
     "output_type": "stream",
     "text": [
      "temp.csv\n",
      "['Arbol' 'SVM' 'KNN' 'LR' 'MLP' 'RF' 'ET']\n",
      "==========================================================\n",
      "Report\n",
      "==========================================================\n",
      "**********************************************************\n",
      "Mean and std\n",
      "**********************************************************\n",
      "Arbol: 0.589524 (0.113279)\n",
      "SVM: 0.580000 (0.136367)\n",
      "KNN: 0.550714 (0.162354)\n",
      "LR: 0.612024 (0.163988)\n",
      "MLP: 0.568274 (0.153787)\n",
      "RF: 0.513929 (0.179956)\n",
      "ET: 0.581071 (0.137999)\n",
      "**********************************************************\n",
      "Statistical tests\n",
      "**********************************************************\n",
      "----------------------------------------------------------\n",
      "Checking parametric conditions \n",
      "----------------------------------------------------------\n",
      "Checking independence \n",
      "Ok\n",
      "Checking normality using Shapiro-Wilk's test for normality, alpha=0.05\n",
      "W: 0.987344, p:0.706468\n",
      "The null hypothesis (normality) is accepted\n",
      "Checking heteroscedasticity using Levene's test, alpha=0.05\n",
      "W: 0.092054, p:0.996922\n",
      "The null hypothesis (heteroscedasticity) is accepted\n",
      "Conditions for a parametric test are fulfilled\n",
      "----------------------------------------------------------\n",
      "Working with more than 2 algorithms\n",
      "----------------------------------------------------------\n",
      "----------------------------------------------------------\n",
      "Applying ANOVA test\n",
      "----------------------------------------------------------\n",
      "F-value: 0.386744, p-value: 0.8848488677688494\n",
      "Null hypothesis is accepted; hence, we can't say that there is a significant difference in the performance of the models\n",
      "----------------------------------------------------------\n",
      "Analysing effect size\n",
      "----------------------------------------------------------\n",
      "We take the model with the best mean (LR, mean: 0.612024) and compare it with the other models: \n",
      "Comparing effect size of LR and Arbol: Cohen's d=0.15145762977051921, Small\n",
      "Comparing effect size of LR and SVM: Cohen's d=0.20144695584349875, Medium\n",
      "Comparing effect size of LR and KNN: Cohen's d=0.35645151063012487, Medium\n",
      "Comparing effect size of LR and MLP: Cohen's d=0.26108758856909037, Medium\n",
      "Comparing effect size of LR and RF: Cohen's d=0.5405600323353635, Large\n",
      "Comparing effect size of LR and ET: Cohen's d=0.19375584360007372, Small\n",
      "Eta squared: 0.035524 (Medium)\n"
     ]
    },
    {
     "data": {
      "image/png": "[encoded data removed]",
      "text/plain": [
       "<Figure size 432x288 with 1 Axes>"
      ]
     },
     "metadata": {
      "needs_background": "light"
     },
     "output_type": "display_data"
    }
   ],
   "source": [
    "clf = manifold.LocallyLinearEmbedding(10, n_components=2,method='standard')\n",
    "X_lle2 = clf.fit_transform(X)\n",
    "compare_methods(X_lle2,Y,listAlgorithms,listParams,listNames,metric='auroc')"
   ]
  },
  {
   "cell_type": "code",
   "execution_count": 23,
   "metadata": {},
   "outputs": [
    {
     "name": "stdout",
     "output_type": "stream",
     "text": [
      "temp.csv\n",
      "['Arbol' 'SVM' 'KNN' 'LR' 'MLP' 'RF' 'ET']\n",
      "==========================================================\n",
      "Report\n",
      "==========================================================\n",
      "**********************************************************\n",
      "Mean and std\n",
      "**********************************************************\n",
      "Arbol: 0.557083 (0.127544)\n",
      "SVM: 0.663750 (0.086304)\n",
      "KNN: 0.706607 (0.166654)\n",
      "LR: 0.680714 (0.138249)\n",
      "MLP: 0.675357 (0.131825)\n",
      "RF: 0.733690 (0.130467)\n",
      "ET: 0.697798 (0.171536)\n",
      "**********************************************************\n",
      "Statistical tests\n",
      "**********************************************************\n",
      "----------------------------------------------------------\n",
      "Checking parametric conditions \n",
      "----------------------------------------------------------\n",
      "Checking independence \n",
      "Ok\n",
      "Checking normality using Shapiro-Wilk's test for normality, alpha=0.05\n",
      "W: 0.983534, p:0.488352\n",
      "The null hypothesis (normality) is rejected\n",
      "Checking heteroscedasticity using Levene's test, alpha=0.05\n",
      "W: 1.595982, p:0.163111\n",
      "The null hypothesis (heteroscedasticity) is rejected\n",
      "Conditions for a parametric test are not fulfilled, applying a non-parametric test\n",
      "----------------------------------------------------------\n",
      "Working with more than 2 algorithms\n",
      "----------------------------------------------------------\n",
      "----------------------------------------------------------\n",
      "Applying Friedman test\n",
      "----------------------------------------------------------\n",
      "F-value: 1.206561, p-value: 0.3172084304661743\n",
      "Null hypothesis is rejected; hence, models have different performance\n",
      "Technique      Ranking\n",
      "-----------  ---------\n",
      "RF                5.1\n",
      "KNN               4.65\n",
      "MLP               4.05\n",
      "LR                3.9\n",
      "ET                3.8\n",
      "SVM               3.75\n",
      "Arbol             2.75\n",
      "Winner model: RF\n",
      "----------------------------------------------------------\n",
      "Applying Holm p-value adjustment procedure and analysing effect size\n",
      "----------------------------------------------------------\n",
      "Comparison      Zvalue    p-value    adjusted p-value\n",
      "------------  --------  ---------  ------------------\n",
      "RF vs Arbol   2.43248   0.0149958           0.0899746\n",
      "RF vs SVM     1.39738   0.162299            0.811493\n",
      "RF vs ET      1.34563   0.178423            0.811493\n",
      "RF vs LR      1.24212   0.214193            0.811493\n",
      "RF vs MLP     1.08685   0.277102            0.811493\n",
      "RF vs KNN     0.465794  0.641363            0.811493\n",
      "There is a significant difference between the models: RF (mean: 0.733690, std: 0.130467) and Arbol (mean: 0.557083, std: 0.127544) (Cohen's d=1.298654276411978, Large)\n",
      "We can't say that there is a significant difference in the performance of the models: RF (mean: 0.733690, std: 0.130467) and SVM (mean: 0.663750, std: 0.086304) (Cohen's d=0.5998580277715092, Large)\n",
      "We can't say that there is a significant difference in the performance of the models: RF (mean: 0.733690, std: 0.130467) and ET (mean: 0.697798, std: 0.171536) (Cohen's d=0.22344451280365896, Medium)\n",
      "We can't say that there is a significant difference in the performance of the models: RF (mean: 0.733690, std: 0.130467) and LR (mean: 0.680714, std: 0.138249) (Cohen's d=0.3739013963643958, Medium)\n",
      "We can't say that there is a significant difference in the performance of the models: RF (mean: 0.733690, std: 0.130467) and MLP (mean: 0.675357, std: 0.131825) (Cohen's d=0.4219652509120672, Medium)\n",
      "We can't say that there is a significant difference in the performance of the models: RF (mean: 0.733690, std: 0.130467) and KNN (mean: 0.706607, std: 0.166654) (Cohen's d=0.17168145586875486, Small)\n",
      "Eta squared: 0.123911 (Large)\n"
     ]
    },
    {
     "data": {
      "image/png": "[encoded data removed]",
      "text/plain": [
       "<Figure size 432x288 with 1 Axes>"
      ]
     },
     "metadata": {
      "needs_background": "light"
     },
     "output_type": "display_data"
    }
   ],
   "source": [
    "clf = manifold.LocallyLinearEmbedding(10, n_components=10,method='standard')\n",
    "X_lle10 = clf.fit_transform(X)\n",
    "compare_methods(X_lle10,Y,listAlgorithms,listParams,listNames,metric='auroc')"
   ]
  },
  {
   "cell_type": "code",
   "execution_count": 24,
   "metadata": {},
   "outputs": [
    {
     "name": "stdout",
     "output_type": "stream",
     "text": [
      "temp.csv\n",
      "['Arbol' 'SVM' 'KNN' 'LR' 'MLP' 'RF' 'ET']\n",
      "==========================================================\n",
      "Report\n",
      "==========================================================\n",
      "**********************************************************\n",
      "Mean and std\n",
      "**********************************************************\n",
      "Arbol: 0.614107 (0.182826)\n",
      "SVM: 0.513095 (0.113589)\n",
      "KNN: 0.483095 (0.026480)\n",
      "LR: 0.487202 (0.098278)\n",
      "MLP: 0.511845 (0.098569)\n",
      "RF: 0.654464 (0.098363)\n",
      "ET: 0.547024 (0.126751)\n",
      "**********************************************************\n",
      "Statistical tests\n",
      "**********************************************************\n",
      "----------------------------------------------------------\n",
      "Checking parametric conditions \n",
      "----------------------------------------------------------\n",
      "Checking independence \n",
      "Ok\n",
      "Checking normality using Shapiro-Wilk's test for normality, alpha=0.05\n",
      "W: 0.927299, p:0.000560\n",
      "The null hypothesis (normality) is rejected\n",
      "Checking heteroscedasticity using Levene's test, alpha=0.05\n",
      "W: 2.657469, p:0.023145\n",
      "The null hypothesis (heteroscedasticity) is rejected\n",
      "Conditions for a parametric test are not fulfilled, applying a non-parametric test\n",
      "----------------------------------------------------------\n",
      "Working with more than 2 algorithms\n",
      "----------------------------------------------------------\n",
      "----------------------------------------------------------\n",
      "Applying Friedman test\n",
      "----------------------------------------------------------\n",
      "F-value: 4.009809, p-value: 0.0021610374631365614\n",
      "Null hypothesis is rejected; hence, models have different performance\n",
      "Technique      Ranking\n",
      "-----------  ---------\n",
      "RF                6.05\n",
      "Arbol             5.1\n",
      "MLP               3.9\n",
      "ET                3.85\n",
      "SVM               3.4\n",
      "LR                3.15\n",
      "KNN               2.55\n",
      "Winner model: RF\n",
      "----------------------------------------------------------\n",
      "Applying Holm p-value adjustment procedure and analysing effect size\n",
      "----------------------------------------------------------\n",
      "Comparison      Zvalue      p-value    adjusted p-value\n",
      "------------  --------  -----------  ------------------\n",
      "RF vs KNN     3.62284   0.000291381          0.00174829\n",
      "RF vs LR      3.00179   0.00268402           0.0134201\n",
      "RF vs SVM     2.74301   0.00608787           0.0243515\n",
      "RF vs ET      2.27722   0.0227733            0.0683199\n",
      "RF vs MLP     2.22546   0.0260503            0.0683199\n",
      "RF vs Arbol   0.983343  0.325438             0.325438\n",
      "There is a significant difference between the models: RF (mean: 0.654464, std: 0.098363) and KNN (mean: 0.483095, std: 0.026480) (Cohen's d=2.257073688933983, Large)\n",
      "There is a significant difference between the models: RF (mean: 0.654464, std: 0.098363) and LR (mean: 0.487202, std: 0.098278) (Cohen's d=1.6138959951420555, Large)\n",
      "There is a significant difference between the models: RF (mean: 0.654464, std: 0.098363) and SVM (mean: 0.513095, std: 0.113589) (Cohen's d=1.2622660680526212, Large)\n",
      "There is a significant difference between the models: RF (mean: 0.654464, std: 0.098363) and ET (mean: 0.547024, std: 0.126751) (Cohen's d=0.8984458631125743, Large)\n",
      "There is a significant difference between the models: RF (mean: 0.654464, std: 0.098363) and MLP (mean: 0.511845, std: 0.098569) (Cohen's d=1.3740829817449602, Large)\n",
      "There is a significant difference between the models: RF (mean: 0.654464, std: 0.098363) and Arbol (mean: 0.614107, std: 0.182826) (Cohen's d=0.26080431996994113, Medium)\n",
      "Eta squared: 0.220398 (Large)\n"
     ]
    },
    {
     "data": {
      "image/png": "[encoded data removed]",
      "text/plain": [
       "<Figure size 432x288 with 1 Axes>"
      ]
     },
     "metadata": {
      "needs_background": "light"
     },
     "output_type": "display_data"
    }
   ],
   "source": [
    "clf = manifold.LocallyLinearEmbedding(10, n_components=100,method='standard')\n",
    "X_lle100 = clf.fit_transform(X)\n",
    "compare_methods(X_lle100,Y,listAlgorithms,listParams,listNames,metric='auroc')"
   ]
  },
  {
   "cell_type": "markdown",
   "metadata": {},
   "source": [
    "# MDS"
   ]
  },
  {
   "cell_type": "code",
   "execution_count": 26,
   "metadata": {},
   "outputs": [
    {
     "name": "stdout",
     "output_type": "stream",
     "text": [
      "temp.csv\n",
      "['Arbol' 'SVM' 'KNN' 'LR' 'MLP' 'RF' 'ET']\n",
      "==========================================================\n",
      "Report\n",
      "==========================================================\n",
      "**********************************************************\n",
      "Mean and std\n",
      "**********************************************************\n",
      "Arbol: 0.519107 (0.148926)\n",
      "SVM: 0.562619 (0.160348)\n",
      "KNN: 0.532440 (0.106658)\n",
      "LR: 0.499940 (0.124366)\n",
      "MLP: 0.549167 (0.108702)\n",
      "RF: 0.462381 (0.129038)\n",
      "ET: 0.469226 (0.185019)\n",
      "**********************************************************\n",
      "Statistical tests\n",
      "**********************************************************\n",
      "----------------------------------------------------------\n",
      "Checking parametric conditions \n",
      "----------------------------------------------------------\n",
      "Checking independence \n",
      "Ok\n",
      "Checking normality using Shapiro-Wilk's test for normality, alpha=0.05\n",
      "W: 0.979836, p:0.319277\n",
      "The null hypothesis (normality) is rejected\n",
      "Checking heteroscedasticity using Levene's test, alpha=0.05\n",
      "W: 0.940125, p:0.472932\n",
      "The null hypothesis (heteroscedasticity) is rejected\n",
      "Conditions for a parametric test are not fulfilled, applying a non-parametric test\n",
      "----------------------------------------------------------\n",
      "Working with more than 2 algorithms\n",
      "----------------------------------------------------------\n",
      "----------------------------------------------------------\n",
      "Applying Friedman test\n",
      "----------------------------------------------------------\n",
      "F-value: 1.153102, p-value: 0.3449993136477185\n",
      "Null hypothesis is rejected; hence, models have different performance\n",
      "Technique      Ranking\n",
      "-----------  ---------\n",
      "MLP                4.8\n",
      "KNN                4.5\n",
      "SVM                4.5\n",
      "Arbol              4.2\n",
      "LR                 4\n",
      "ET                 3\n",
      "RF                 3\n",
      "Winner model: MLP\n",
      "----------------------------------------------------------\n",
      "Applying Holm p-value adjustment procedure and analysing effect size\n",
      "----------------------------------------------------------\n",
      "Comparison      Zvalue    p-value    adjusted p-value\n",
      "------------  --------  ---------  ------------------\n",
      "MLP vs RF     1.86318   0.0624374            0.374624\n",
      "MLP vs ET     1.86318   0.0624374            0.374624\n",
      "MLP vs LR     0.828079  0.407626             1\n",
      "MLP vs Arbol  0.621059  0.534561             1\n",
      "MLP vs SVM    0.31053   0.756158             1\n",
      "MLP vs KNN    0.31053   0.756158             1\n",
      "There is a significant difference between the models: MLP (mean: 0.549167, std: 0.108702) and RF (mean: 0.462381, std: 0.129038) (Cohen's d=0.6901036890382812, Large)\n",
      "There is a significant difference between the models: MLP (mean: 0.549167, std: 0.108702) and ET (mean: 0.469226, std: 0.185019) (Cohen's d=0.49980159698917975, Medium)\n",
      "We can't say that there is a significant difference in the performance of the models: MLP (mean: 0.549167, std: 0.108702) and LR (mean: 0.499940, std: 0.124366) (Cohen's d=0.3998391511921566, Medium)\n",
      "We can't say that there is a significant difference in the performance of the models: MLP (mean: 0.549167, std: 0.108702) and Arbol (mean: 0.519107, std: 0.148926) (Cohen's d=0.2187311977606535, Medium)\n",
      "We can't say that there is a significant difference in the performance of the models: MLP (mean: 0.549167, std: 0.108702) and SVM (mean: 0.562619, std: 0.160348) (Cohen's d=0.09316641746946022, Small)\n",
      "We can't say that there is a significant difference in the performance of the models: MLP (mean: 0.549167, std: 0.108702) and KNN (mean: 0.532440, std: 0.106658) (Cohen's d=0.147354778987226, Small)\n",
      "Eta squared: 0.060385 (Large)\n"
     ]
    },
    {
     "data": {
      "image/png": "[encoded data removed]",
      "text/plain": [
       "<Figure size 432x288 with 1 Axes>"
      ]
     },
     "metadata": {
      "needs_background": "light"
     },
     "output_type": "display_data"
    }
   ],
   "source": [
    "clf = manifold.MDS(n_components=2, n_init=1, max_iter=100)\n",
    "X_mds2 = clf.fit_transform(X)\n",
    "compare_methods(X_mds2,Y,listAlgorithms,listParams,listNames,metric='auroc')"
   ]
  },
  {
   "cell_type": "code",
   "execution_count": 27,
   "metadata": {},
   "outputs": [
    {
     "name": "stdout",
     "output_type": "stream",
     "text": [
      "temp.csv\n",
      "['Arbol' 'SVM' 'KNN' 'LR' 'MLP' 'RF' 'ET']\n",
      "==========================================================\n",
      "Report\n",
      "==========================================================\n",
      "**********************************************************\n",
      "Mean and std\n",
      "**********************************************************\n",
      "Arbol: 0.559464 (0.139647)\n",
      "SVM: 0.669167 (0.094539)\n",
      "KNN: 0.626726 (0.150858)\n",
      "LR: 0.513214 (0.117107)\n",
      "MLP: 0.541964 (0.133455)\n",
      "RF: 0.607857 (0.126734)\n",
      "ET: 0.650000 (0.094596)\n",
      "**********************************************************\n",
      "Statistical tests\n",
      "**********************************************************\n",
      "----------------------------------------------------------\n",
      "Checking parametric conditions \n",
      "----------------------------------------------------------\n",
      "Checking independence \n",
      "Ok\n",
      "Checking normality using Shapiro-Wilk's test for normality, alpha=0.05\n",
      "W: 0.983462, p:0.484586\n",
      "The null hypothesis (normality) is rejected\n",
      "Checking heteroscedasticity using Levene's test, alpha=0.05\n",
      "W: 0.252354, p:0.956578\n",
      "The null hypothesis (heteroscedasticity) is accepted\n",
      "Conditions for a parametric test are not fulfilled, applying a non-parametric test\n",
      "----------------------------------------------------------\n",
      "Working with more than 2 algorithms\n",
      "----------------------------------------------------------\n",
      "----------------------------------------------------------\n",
      "Applying Friedman test\n",
      "----------------------------------------------------------\n",
      "F-value: 2.379544, p-value: 0.0411322263932411\n",
      "Null hypothesis is rejected; hence, models have different performance\n",
      "Technique      Ranking\n",
      "-----------  ---------\n",
      "SVM               5.45\n",
      "ET                4.95\n",
      "KNN               4.35\n",
      "RF                4.05\n",
      "Arbol             3.25\n",
      "MLP               3.15\n",
      "LR                2.8\n",
      "Winner model: SVM\n",
      "----------------------------------------------------------\n",
      "Applying Holm p-value adjustment procedure and analysing effect size\n",
      "----------------------------------------------------------\n",
      "Comparison      Zvalue     p-value    adjusted p-value\n",
      "------------  --------  ----------  ------------------\n",
      "SVM vs LR     2.74301   0.00608787           0.0365272\n",
      "SVM vs MLP    2.38073   0.0172786            0.0863928\n",
      "SVM vs Arbol  2.27722   0.0227733            0.0910932\n",
      "SVM vs RF     1.44914   0.147299             0.441897\n",
      "SVM vs KNN    1.13861   0.254867             0.509733\n",
      "SVM vs ET     0.517549  0.604773             0.604773\n",
      "There is a significant difference between the models: SVM (mean: 0.669167, std: 0.094539) and LR (mean: 0.513214, std: 0.117107) (Cohen's d=1.3902000877644731, Large)\n",
      "There is a significant difference between the models: SVM (mean: 0.669167, std: 0.094539) and MLP (mean: 0.541964, std: 0.133455) (Cohen's d=1.043487867459067, Large)\n",
      "There is a significant difference between the models: SVM (mean: 0.669167, std: 0.094539) and Arbol (mean: 0.559464, std: 0.139647) (Cohen's d=0.8727627121193204, Large)\n",
      "There is a significant difference between the models: SVM (mean: 0.669167, std: 0.094539) and RF (mean: 0.607857, std: 0.126734) (Cohen's d=0.5202369657013605, Large)\n",
      "We can't say that there is a significant difference in the performance of the models: SVM (mean: 0.669167, std: 0.094539) and KNN (mean: 0.626726, std: 0.150858) (Cohen's d=0.31982698046539637, Medium)\n",
      "We can't say that there is a significant difference in the performance of the models: SVM (mean: 0.669167, std: 0.094539) and ET (mean: 0.650000, std: 0.094596) (Cohen's d=0.19227591217210532, Small)\n",
      "Eta squared: 0.159608 (Large)\n"
     ]
    },
    {
     "data": {
      "image/png": "[encoded data removed]",
      "text/plain": [
       "<Figure size 432x288 with 1 Axes>"
      ]
     },
     "metadata": {
      "needs_background": "light"
     },
     "output_type": "display_data"
    }
   ],
   "source": [
    "clf = manifold.MDS(n_components=10, n_init=1, max_iter=100)\n",
    "X_mds10 = clf.fit_transform(X)\n",
    "compare_methods(X_mds10,Y,listAlgorithms,listParams,listNames,metric='auroc')"
   ]
  },
  {
   "cell_type": "code",
   "execution_count": 28,
   "metadata": {},
   "outputs": [
    {
     "name": "stdout",
     "output_type": "stream",
     "text": [
      "temp.csv\n",
      "['Arbol' 'SVM' 'KNN' 'LR' 'MLP' 'RF' 'ET']\n",
      "==========================================================\n",
      "Report\n",
      "==========================================================\n",
      "**********************************************************\n",
      "Mean and std\n",
      "**********************************************************\n",
      "Arbol: 0.423869 (0.187925)\n",
      "SVM: 0.572143 (0.145275)\n",
      "KNN: 0.540595 (0.144956)\n",
      "LR: 0.477143 (0.148202)\n",
      "MLP: 0.577440 (0.158074)\n",
      "RF: 0.481429 (0.144363)\n",
      "ET: 0.616012 (0.115504)\n",
      "**********************************************************\n",
      "Statistical tests\n",
      "**********************************************************\n",
      "----------------------------------------------------------\n",
      "Checking parametric conditions \n",
      "----------------------------------------------------------\n",
      "Checking independence \n",
      "Ok\n",
      "Checking normality using Shapiro-Wilk's test for normality, alpha=0.05\n",
      "W: 0.972637, p:0.128475\n",
      "The null hypothesis (normality) is rejected\n",
      "Checking heteroscedasticity using Levene's test, alpha=0.05\n",
      "W: 0.722030, p:0.633373\n",
      "The null hypothesis (heteroscedasticity) is accepted\n",
      "Conditions for a parametric test are not fulfilled, applying a non-parametric test\n",
      "----------------------------------------------------------\n",
      "Working with more than 2 algorithms\n",
      "----------------------------------------------------------\n",
      "----------------------------------------------------------\n",
      "Applying Friedman test\n",
      "----------------------------------------------------------\n",
      "F-value: 1.372505, p-value: 0.2424158365395408\n",
      "Null hypothesis is rejected; hence, models have different performance\n",
      "Technique      Ranking\n",
      "-----------  ---------\n",
      "ET                5.3\n",
      "SVM               4.55\n",
      "KNN               4.3\n",
      "MLP               4\n",
      "RF                3.5\n",
      "LR                3.25\n",
      "Arbol             3.1\n",
      "Winner model: ET\n",
      "----------------------------------------------------------\n",
      "Applying Holm p-value adjustment procedure and analysing effect size\n",
      "----------------------------------------------------------\n",
      "Comparison      Zvalue    p-value    adjusted p-value\n",
      "------------  --------  ---------  ------------------\n",
      "ET vs Arbol   2.27722   0.0227733            0.13664\n",
      "ET vs LR      2.12195   0.0338418            0.169209\n",
      "ET vs RF      1.86318   0.0624374            0.249749\n",
      "ET vs MLP     1.34563   0.178423             0.535268\n",
      "ET vs KNN     1.0351    0.300623             0.601246\n",
      "ET vs SVM     0.776324  0.437558             0.601246\n",
      "There is a significant difference between the models: ET (mean: 0.616012, std: 0.115504) and Arbol (mean: 0.423869, std: 0.187925) (Cohen's d=1.168657946394522, Large)\n",
      "There is a significant difference between the models: ET (mean: 0.616012, std: 0.115504) and LR (mean: 0.477143, std: 0.148202) (Cohen's d=0.9915690264700329, Large)\n",
      "There is a significant difference between the models: ET (mean: 0.616012, std: 0.115504) and RF (mean: 0.481429, std: 0.144363) (Cohen's d=0.9766283088725142, Large)\n",
      "We can't say that there is a significant difference in the performance of the models: ET (mean: 0.616012, std: 0.115504) and MLP (mean: 0.577440, std: 0.158074) (Cohen's d=0.26432693683187236, Medium)\n",
      "We can't say that there is a significant difference in the performance of the models: ET (mean: 0.616012, std: 0.115504) and KNN (mean: 0.540595, std: 0.144956) (Cohen's d=0.5459064727256632, Large)\n",
      "We can't say that there is a significant difference in the performance of the models: ET (mean: 0.616012, std: 0.115504) and SVM (mean: 0.572143, std: 0.145275) (Cohen's d=0.31712159734966266, Medium)\n",
      "Eta squared: 0.149573 (Large)\n"
     ]
    },
    {
     "data": {
      "image/png": "[encoded data removed]",
      "text/plain": [
       "<Figure size 432x288 with 1 Axes>"
      ]
     },
     "metadata": {
      "needs_background": "light"
     },
     "output_type": "display_data"
    }
   ],
   "source": [
    "clf = manifold.MDS(n_components=100, n_init=1, max_iter=100)\n",
    "X_mds100 = clf.fit_transform(X)\n",
    "compare_methods(X_mds100,Y,listAlgorithms,listParams,listNames,metric='auroc')"
   ]
  },
  {
   "cell_type": "code",
   "execution_count": null,
   "metadata": {},
   "outputs": [],
   "source": []
  }
 ],
 "metadata": {
  "colab": {
   "name": "CompareMethods.ipynb",
   "provenance": []
  },
  "kernelspec": {
   "display_name": "Python 3",
   "language": "python",
   "name": "python3"
  },
  "language_info": {
   "codemirror_mode": {
    "name": "ipython",
    "version": 3
   },
   "file_extension": ".py",
   "mimetype": "text/x-python",
   "name": "python",
   "nbconvert_exporter": "python",
   "pygments_lexer": "ipython3",
   "version": "3.6.7"
  }
 },
 "nbformat": 4,
 "nbformat_minor": 1
}
