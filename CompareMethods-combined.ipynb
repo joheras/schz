{
 "cells": [
  {
   "cell_type": "code",
   "execution_count": 1,
   "metadata": {
    "id": "9VdC2keIvxIJ"
   },
   "outputs": [],
   "source": [
    "import numpy as np\n",
    "from StatisticalAnalysis import compare_methods"
   ]
  },
  {
   "cell_type": "code",
   "execution_count": 2,
   "metadata": {
    "id": "3iCEO6wXtftF"
   },
   "outputs": [],
   "source": [
    "import warnings\n",
    "warnings.filterwarnings('ignore')"
   ]
  },
  {
   "cell_type": "markdown",
   "metadata": {
    "id": "Zb3btBk5vxIM"
   },
   "source": [
    "First we load the data and process it to have the correct form."
   ]
  },
  {
   "cell_type": "code",
   "execution_count": 3,
   "metadata": {
    "id": "StF6b56QvxIN"
   },
   "outputs": [],
   "source": [
    "ts_hc = np.load('ts_hc.npy')\n",
    "ts_schz = np.load('ts_schz.npy')"
   ]
  },
  {
   "cell_type": "code",
   "execution_count": 4,
   "metadata": {
    "id": "qd1nFcAfvxIO"
   },
   "outputs": [],
   "source": [
    "ts_hc = ts_hc.reshape(52,142*118)"
   ]
  },
  {
   "cell_type": "code",
   "execution_count": 5,
   "metadata": {
    "id": "fc006UE6vxIO"
   },
   "outputs": [],
   "source": [
    "ts_schz = ts_schz.reshape(50,142*118)"
   ]
  },
  {
   "cell_type": "code",
   "execution_count": 6,
   "metadata": {},
   "outputs": [],
   "source": [
    "corr_hc = np.load('corr_hc.npy')\n",
    "corr_schz = np.load('corr_schz.npy')"
   ]
  },
  {
   "cell_type": "code",
   "execution_count": 7,
   "metadata": {},
   "outputs": [],
   "source": [
    "corr_hc = corr_hc.reshape(52,118*118)\n",
    "corr_schz = corr_schz.reshape(50,118*118)"
   ]
  },
  {
   "cell_type": "code",
   "execution_count": 13,
   "metadata": {},
   "outputs": [],
   "source": [
    "hc = np.append(ts_hc,corr_hc,axis=1)\n",
    "schz = np.append(ts_schz,corr_schz,axis=1)"
   ]
  },
  {
   "cell_type": "code",
   "execution_count": 14,
   "metadata": {
    "id": "SEhdGg3IvxIP"
   },
   "outputs": [],
   "source": [
    "X = np.append(hc,schz,axis=0)"
   ]
  },
  {
   "cell_type": "code",
   "execution_count": 15,
   "metadata": {
    "colab": {
     "base_uri": "https://localhost:8080/"
    },
    "id": "8d-RFXoavxIQ",
    "outputId": "a61e1d34-79c6-4f1a-df1f-0b3a74b2c53d"
   },
   "outputs": [
    {
     "data": {
      "text/plain": [
       "(102, 30680)"
      ]
     },
     "execution_count": 15,
     "metadata": {},
     "output_type": "execute_result"
    }
   ],
   "source": [
    "X.shape"
   ]
  },
  {
   "cell_type": "code",
   "execution_count": 16,
   "metadata": {
    "colab": {
     "base_uri": "https://localhost:8080/"
    },
    "id": "hnaiAVUvJmgn",
    "outputId": "6cb5c264-f346-4b38-e85b-aa3b8bf8ace6"
   },
   "outputs": [
    {
     "data": {
      "text/plain": [
       "(30680,)"
      ]
     },
     "execution_count": 16,
     "metadata": {},
     "output_type": "execute_result"
    }
   ],
   "source": [
    "X[0].shape"
   ]
  },
  {
   "cell_type": "code",
   "execution_count": 17,
   "metadata": {
    "id": "5oh4k1gEvxIR"
   },
   "outputs": [],
   "source": [
    "Y = np.append(np.zeros(52),np.ones(50),axis=0)"
   ]
  },
  {
   "cell_type": "code",
   "execution_count": 18,
   "metadata": {
    "colab": {
     "base_uri": "https://localhost:8080/"
    },
    "id": "PZuBWU5LvxIR",
    "outputId": "21a0987a-b533-41fc-bea5-9f94b3246a66",
    "scrolled": true
   },
   "outputs": [
    {
     "data": {
      "text/plain": [
       "(102,)"
      ]
     },
     "execution_count": 18,
     "metadata": {},
     "output_type": "execute_result"
    }
   ],
   "source": [
    "Y.shape"
   ]
  },
  {
   "cell_type": "markdown",
   "metadata": {
    "id": "w2w8w0VjvxIS"
   },
   "source": [
    "Now, we define the algorithms that we are going to use. "
   ]
  },
  {
   "cell_type": "code",
   "execution_count": 19,
   "metadata": {
    "id": "MEPfV3efvxIS"
   },
   "outputs": [],
   "source": [
    "from sklearn.tree import DecisionTreeClassifier\n",
    "from sklearn.neighbors import KNeighborsClassifier\n",
    "from sklearn.linear_model import LogisticRegression\n",
    "from sklearn.svm import SVC\n",
    "from sklearn.neural_network import MLPClassifier\n",
    "from sklearn.ensemble import ExtraTreesClassifier\n",
    "from sklearn.ensemble import GradientBoostingClassifier\n",
    "from sklearn.ensemble import RandomForestClassifier\n",
    "from sklearn.ensemble import AdaBoostClassifier\n",
    "from scipy.stats import randint as sp_randint"
   ]
  },
  {
   "cell_type": "code",
   "execution_count": 20,
   "metadata": {
    "id": "YwnPEwswvxIU"
   },
   "outputs": [],
   "source": [
    "# Decision tree\n",
    "clfTree = DecisionTreeClassifier(random_state=84)\n",
    "param_distTree = {\"min_samples_split\": sp_randint(3, 30)}\n",
    "# SVM\n",
    "clfSVC = SVC(random_state=84)\n",
    "param_distSVC = {'C': [1, 10, 100, 1000], 'gamma': [0.001, 0.0001],'kernel': ['rbf'], 'class_weight':['balanced', None]}\n",
    "# KNN\n",
    "clfKNN = KNeighborsClassifier()\n",
    "param_distKNN = {'n_neighbors':sp_randint(3, 30)}\n",
    "# Logistic regression\n",
    "clfLR = LogisticRegression(random_state=84)\n",
    "param_distLR = {'C': [0.1,0.5,1, 10, 100, 1000]}\n",
    "# Neural Network\n",
    "clfMLP = MLPClassifier(random_state=84)\n",
    "param_distMLP = {'activation': ['identity', 'logistic', 'tanh', 'relu'], 'solver': ['lbfgs', 'sgd', 'adam'],\n",
    "                 'alpha': sp_randint(0.0001, 1), 'learning_rate': ['constant', 'invscaling', 'adaptive'],\n",
    "                 'hidden_layer_sizes': [(5,2), (3,3,3), (5,3,2), (5,4,3,2)],\n",
    "                 'momentum': [0.9, 0.95, 0.99]}\n",
    "# RandomForest\n",
    "clfRF = RandomForestClassifier(random_state=84)\n",
    "param_distRF =  {'n_estimators': [int(x) for x in np.linspace(start = 200, stop = 2000, num = 10)], 'max_features': ['auto', 'sqrt'],'max_depth': [int(x) for x in np.linspace(10, 110, num = 11)],\n",
    "                 'min_samples_split': [2, 5, 10],'min_samples_leaf': [1, 2, 4],\n",
    "                 'bootstrap': [True, False]}\n",
    "# ExtraTreesClassifier\n",
    "clfET = ExtraTreesClassifier(random_state=84)\n",
    "param_distET =  {'n_estimators': [int(x) for x in np.linspace(start = 200, stop = 2000, num = 10)], 'max_features': ['auto', 'sqrt'],'max_depth': [int(x) for x in np.linspace(10, 110, num = 11)],\n",
    "                 'min_samples_split': [2, 5, 10],'min_samples_leaf': [1, 2, 4],\n",
    "                 'bootstrap': [True, False]}"
   ]
  },
  {
   "cell_type": "code",
   "execution_count": 21,
   "metadata": {
    "id": "GGQcPxBOvxIV"
   },
   "outputs": [],
   "source": [
    "listAlgorithms = [clfTree,clfSVC,clfKNN,clfLR,clfMLP,clfRF,clfET]"
   ]
  },
  {
   "cell_type": "code",
   "execution_count": 22,
   "metadata": {
    "id": "8Nl-1GpjvxIV"
   },
   "outputs": [],
   "source": [
    "listParams = [param_distTree,param_distSVC,param_distKNN,param_distLR,param_distMLP,param_distRF, param_distET]"
   ]
  },
  {
   "cell_type": "code",
   "execution_count": 23,
   "metadata": {
    "id": "IK_8iIWovxIV"
   },
   "outputs": [],
   "source": [
    "listNames = [\"Arbol\", \"SVM\", \"KNN\", \"LR\", \"MLP\",\"RF\",\"ET\"]"
   ]
  },
  {
   "cell_type": "markdown",
   "metadata": {},
   "source": [
    "# Plain comparison"
   ]
  },
  {
   "cell_type": "code",
   "execution_count": 24,
   "metadata": {
    "id": "LSSesjlBvxIV"
   },
   "outputs": [
    {
     "name": "stdout",
     "output_type": "stream",
     "text": [
      "temp.csv\n",
      "['Arbol' 'SVM' 'KNN' 'LR' 'MLP' 'RF' 'ET']\n",
      "==========================================================\n",
      "Report\n",
      "==========================================================\n",
      "**********************************************************\n",
      "Mean and std\n",
      "**********************************************************\n",
      "Arbol: 0.533095 (0.192870)\n",
      "SVM: 0.701548 (0.141779)\n",
      "KNN: 0.735952 (0.131182)\n",
      "LR: 0.697381 (0.142105)\n",
      "MLP: 0.671071 (0.129800)\n",
      "RF: 0.678929 (0.138983)\n",
      "ET: 0.683869 (0.197006)\n",
      "**********************************************************\n",
      "Statistical tests\n",
      "**********************************************************\n",
      "----------------------------------------------------------\n",
      "Checking parametric conditions \n",
      "----------------------------------------------------------\n",
      "Checking independence \n",
      "Ok\n",
      "Checking normality using Shapiro-Wilk's test for normality, alpha=0.05\n",
      "W: 0.948848, p:0.006313\n",
      "The null hypothesis (normality) is rejected\n",
      "Checking heteroscedasticity using Levene's test, alpha=0.05\n",
      "W: 0.594420, p:0.733602\n",
      "The null hypothesis (heteroscedasticity) is accepted\n",
      "Conditions for a parametric test are not fulfilled, applying a non-parametric test\n",
      "----------------------------------------------------------\n",
      "Working with more than 2 algorithms\n",
      "----------------------------------------------------------\n",
      "----------------------------------------------------------\n",
      "Applying Friedman test\n",
      "----------------------------------------------------------\n",
      "F-value: 2.180124, p-value: 0.059042650800093965\n",
      "Null hypothesis is rejected; hence, models have different performance\n",
      "Technique      Ranking\n",
      "-----------  ---------\n",
      "KNN               5\n",
      "ET                4.8\n",
      "SVM               4.35\n",
      "LR                4.25\n",
      "RF                3.9\n",
      "MLP               3.55\n",
      "Arbol             2.15\n",
      "Winner model: KNN\n",
      "----------------------------------------------------------\n",
      "Applying Holm p-value adjustment procedure and analysing effect size\n",
      "----------------------------------------------------------\n",
      "Comparison      Zvalue     p-value    adjusted p-value\n",
      "------------  --------  ----------  ------------------\n",
      "KNN vs Arbol  2.95003   0.00317743           0.0190646\n",
      "KNN vs MLP    1.50089   0.133383             0.666917\n",
      "KNN vs RF     1.13861   0.254867             1\n",
      "KNN vs LR     0.776324  0.437558             1\n",
      "KNN vs SVM    0.672814  0.501066             1\n",
      "KNN vs ET     0.20702   0.835994             1\n",
      "There is a significant difference between the models: KNN (mean: 0.735952, std: 0.131182) and Arbol (mean: 0.533095, std: 0.192870) (Cohen's d=1.1668014404905471, Large)\n",
      "We can't say that there is a significant difference in the performance of the models: KNN (mean: 0.735952, std: 0.131182) and MLP (mean: 0.671071, std: 0.129800) (Cohen's d=0.4716855000687547, Medium)\n",
      "We can't say that there is a significant difference in the performance of the models: KNN (mean: 0.735952, std: 0.131182) and RF (mean: 0.678929, std: 0.138983) (Cohen's d=0.4003113994051793, Medium)\n",
      "We can't say that there is a significant difference in the performance of the models: KNN (mean: 0.735952, std: 0.131182) and LR (mean: 0.697381, std: 0.142105) (Cohen's d=0.2675789471927795, Medium)\n",
      "We can't say that there is a significant difference in the performance of the models: KNN (mean: 0.735952, std: 0.131182) and SVM (mean: 0.701548, std: 0.141779) (Cohen's d=0.23896986682297866, Medium)\n",
      "We can't say that there is a significant difference in the performance of the models: KNN (mean: 0.735952, std: 0.131182) and ET (mean: 0.683869, std: 0.197006) (Cohen's d=0.29523232613228356, Medium)\n",
      "Eta squared: 0.128823 (Large)\n"
     ]
    },
    {
     "data": {
      "image/png": "[encoded data removed]",
      "text/plain": [
       "<Figure size 432x288 with 1 Axes>"
      ]
     },
     "metadata": {
      "needs_background": "light"
     },
     "output_type": "display_data"
    }
   ],
   "source": [
    "compare_methods(X,Y,listAlgorithms,listParams,listNames,metric='auroc')"
   ]
  },
  {
   "cell_type": "markdown",
   "metadata": {
    "id": "9RmrYzBMOAXv"
   },
   "source": [
    "# PCA with 2 components"
   ]
  },
  {
   "cell_type": "code",
   "execution_count": 25,
   "metadata": {
    "id": "Sjjc5WXGvxIX"
   },
   "outputs": [],
   "source": [
    "from sklearn.decomposition import PCA"
   ]
  },
  {
   "cell_type": "code",
   "execution_count": 26,
   "metadata": {
    "id": "edHm_G34N87W"
   },
   "outputs": [],
   "source": [
    "pca = PCA(n_components=2)"
   ]
  },
  {
   "cell_type": "code",
   "execution_count": 27,
   "metadata": {
    "id": "H4lw_jzBODCv"
   },
   "outputs": [
    {
     "data": {
      "text/plain": [
       "PCA(n_components=2)"
      ]
     },
     "execution_count": 27,
     "metadata": {},
     "output_type": "execute_result"
    }
   ],
   "source": [
    "pca.fit(X)"
   ]
  },
  {
   "cell_type": "code",
   "execution_count": 28,
   "metadata": {
    "id": "ImTFoLrKOFHZ"
   },
   "outputs": [],
   "source": [
    "X_pca2 = pca.transform(X)"
   ]
  },
  {
   "cell_type": "code",
   "execution_count": 29,
   "metadata": {
    "id": "5nt7OQ61JuKG"
   },
   "outputs": [
    {
     "data": {
      "text/plain": [
       "(102, 2)"
      ]
     },
     "execution_count": 29,
     "metadata": {},
     "output_type": "execute_result"
    }
   ],
   "source": [
    "X_pca2.shape"
   ]
  },
  {
   "cell_type": "code",
   "execution_count": 30,
   "metadata": {
    "id": "KyVbCZLpOInH"
   },
   "outputs": [
    {
     "name": "stdout",
     "output_type": "stream",
     "text": [
      "temp.csv\n",
      "['Arbol' 'SVM' 'KNN' 'LR' 'MLP' 'RF' 'ET']\n",
      "==========================================================\n",
      "Report\n",
      "==========================================================\n",
      "**********************************************************\n",
      "Mean and std\n",
      "**********************************************************\n",
      "Arbol: 0.681190 (0.136258)\n",
      "SVM: 0.652083 (0.162231)\n",
      "KNN: 0.646726 (0.152699)\n",
      "LR: 0.555179 (0.198608)\n",
      "MLP: 0.555238 (0.130202)\n",
      "RF: 0.669583 (0.196566)\n",
      "ET: 0.650714 (0.199543)\n",
      "**********************************************************\n",
      "Statistical tests\n",
      "**********************************************************\n",
      "----------------------------------------------------------\n",
      "Checking parametric conditions \n",
      "----------------------------------------------------------\n",
      "Checking independence \n",
      "Ok\n",
      "Checking normality using Shapiro-Wilk's test for normality, alpha=0.05\n",
      "W: 0.964715, p:0.045837\n",
      "The null hypothesis (normality) is rejected\n",
      "Checking heteroscedasticity using Levene's test, alpha=0.05\n",
      "W: 0.381421, p:0.888216\n",
      "The null hypothesis (heteroscedasticity) is accepted\n",
      "Conditions for a parametric test are not fulfilled, applying a non-parametric test\n",
      "----------------------------------------------------------\n",
      "Working with more than 2 algorithms\n",
      "----------------------------------------------------------\n",
      "----------------------------------------------------------\n",
      "Applying Friedman test\n",
      "----------------------------------------------------------\n",
      "F-value: 1.619469, p-value: 0.1596055859804083\n",
      "Null hypothesis is rejected; hence, models have different performance\n",
      "Technique      Ranking\n",
      "-----------  ---------\n",
      "ET                5.05\n",
      "Arbol             4.5\n",
      "RF                4.45\n",
      "SVM               4.25\n",
      "KNN               4.05\n",
      "MLP               2.9\n",
      "LR                2.8\n",
      "Winner model: ET\n",
      "----------------------------------------------------------\n",
      "Applying Holm p-value adjustment procedure and analysing effect size\n",
      "----------------------------------------------------------\n",
      "Comparison      Zvalue    p-value    adjusted p-value\n",
      "------------  --------  ---------  ------------------\n",
      "ET vs LR      2.32897   0.0198606            0.119164\n",
      "ET vs MLP     2.22546   0.0260503            0.130251\n",
      "ET vs KNN     1.0351    0.300623             1\n",
      "ET vs SVM     0.828079  0.407626             1\n",
      "ET vs RF      0.621059  0.534561             1\n",
      "ET vs Arbol   0.569304  0.56915              1\n",
      "There is a significant difference between the models: ET (mean: 0.650714, std: 0.199543) and LR (mean: 0.555179, std: 0.198608) (Cohen's d=0.4552697695927597, Medium)\n",
      "There is a significant difference between the models: ET (mean: 0.650714, std: 0.199543) and MLP (mean: 0.555238, std: 0.130202) (Cohen's d=0.5376171884473728, Large)\n",
      "We can't say that there is a significant difference in the performance of the models: ET (mean: 0.650714, std: 0.199543) and KNN (mean: 0.646726, std: 0.152699) (Cohen's d=0.02129457082783767, Small)\n",
      "We can't say that there is a significant difference in the performance of the models: ET (mean: 0.650714, std: 0.199543) and SVM (mean: 0.652083, std: 0.162231) (Cohen's d=0.007142259974174988, Small)\n",
      "We can't say that there is a significant difference in the performance of the models: ET (mean: 0.650714, std: 0.199543) and RF (mean: 0.669583, std: 0.196566) (Cohen's d=0.09038057048312766, Small)\n",
      "We can't say that there is a significant difference in the performance of the models: ET (mean: 0.650714, std: 0.199543) and Arbol (mean: 0.681190, std: 0.136258) (Cohen's d=0.16922016701636322, Small)\n",
      "Eta squared: 0.075452 (Large)\n"
     ]
    },
    {
     "data": {
      "image/png": "[encoded data removed]",
      "text/plain": [
       "<Figure size 432x288 with 1 Axes>"
      ]
     },
     "metadata": {
      "needs_background": "light"
     },
     "output_type": "display_data"
    }
   ],
   "source": [
    "compare_methods(X_pca2,Y,listAlgorithms,listParams,listNames,metric='auroc')"
   ]
  },
  {
   "cell_type": "markdown",
   "metadata": {
    "id": "4_aNOwHHORLf"
   },
   "source": [
    "# PCA with 10 components"
   ]
  },
  {
   "cell_type": "code",
   "execution_count": 31,
   "metadata": {
    "id": "XoW_W87nONDr"
   },
   "outputs": [],
   "source": [
    "pca = PCA(n_components=10)"
   ]
  },
  {
   "cell_type": "code",
   "execution_count": 32,
   "metadata": {
    "id": "D6xAEHgfOXqw"
   },
   "outputs": [
    {
     "data": {
      "text/plain": [
       "PCA(n_components=10)"
      ]
     },
     "execution_count": 32,
     "metadata": {},
     "output_type": "execute_result"
    }
   ],
   "source": [
    "pca.fit(X)"
   ]
  },
  {
   "cell_type": "code",
   "execution_count": 33,
   "metadata": {
    "id": "UsP9oOY0OYu2"
   },
   "outputs": [],
   "source": [
    "X_pca10 = pca.transform(X)"
   ]
  },
  {
   "cell_type": "code",
   "execution_count": 34,
   "metadata": {
    "id": "GJl8Qwv_OgCN"
   },
   "outputs": [],
   "source": [
    "!mv temp.csv temppca2.csv"
   ]
  },
  {
   "cell_type": "code",
   "execution_count": 35,
   "metadata": {
    "id": "fQo9oAaWObE9"
   },
   "outputs": [
    {
     "name": "stdout",
     "output_type": "stream",
     "text": [
      "temp.csv\n",
      "['Arbol' 'SVM' 'KNN' 'LR' 'MLP' 'RF' 'ET']\n",
      "==========================================================\n",
      "Report\n",
      "==========================================================\n",
      "**********************************************************\n",
      "Mean and std\n",
      "**********************************************************\n",
      "Arbol: 0.432500 (0.119613)\n",
      "SVM: 0.687976 (0.146808)\n",
      "KNN: 0.607738 (0.142918)\n",
      "LR: 0.742024 (0.098265)\n",
      "MLP: 0.605714 (0.078325)\n",
      "RF: 0.645298 (0.149571)\n",
      "ET: 0.611964 (0.142189)\n",
      "**********************************************************\n",
      "Statistical tests\n",
      "**********************************************************\n",
      "----------------------------------------------------------\n",
      "Checking parametric conditions \n",
      "----------------------------------------------------------\n",
      "Checking independence \n",
      "Ok\n",
      "Checking normality using Shapiro-Wilk's test for normality, alpha=0.05\n",
      "W: 0.981205, p:0.375684\n",
      "The null hypothesis (normality) is rejected\n",
      "Checking heteroscedasticity using Levene's test, alpha=0.05\n",
      "W: 0.691065, p:0.657582\n",
      "The null hypothesis (heteroscedasticity) is accepted\n",
      "Conditions for a parametric test are not fulfilled, applying a non-parametric test\n",
      "----------------------------------------------------------\n",
      "Working with more than 2 algorithms\n",
      "----------------------------------------------------------\n",
      "----------------------------------------------------------\n",
      "Applying Friedman test\n",
      "----------------------------------------------------------\n",
      "F-value: 5.862872, p-value: 9.242006616794196e-05\n",
      "Null hypothesis is rejected; hence, models have different performance\n",
      "Technique      Ranking\n",
      "-----------  ---------\n",
      "LR                6\n",
      "SVM               4.75\n",
      "RF                4.25\n",
      "ET                4\n",
      "MLP               3.9\n",
      "KNN               3.6\n",
      "Arbol             1.5\n",
      "Winner model: LR\n",
      "----------------------------------------------------------\n",
      "Applying Holm p-value adjustment procedure and analysing effect size\n",
      "----------------------------------------------------------\n",
      "Comparison      Zvalue      p-value    adjusted p-value\n",
      "------------  --------  -----------  ------------------\n",
      "LR vs Arbol    4.65794  3.19385e-06         1.91631e-05\n",
      "LR vs KNN      2.48424  0.012983            0.0649149\n",
      "LR vs MLP      2.17371  0.0297272           0.118909\n",
      "LR vs ET       2.0702   0.0384339           0.118909\n",
      "LR vs RF       1.81142  0.0700755           0.140151\n",
      "LR vs SVM      1.29387  0.195709            0.195709\n",
      "There is a significant difference between the models: LR (mean: 0.742024, std: 0.098265) and Arbol (mean: 0.432500, std: 0.119613) (Cohen's d=2.682605451149818, Large)\n",
      "There is a significant difference between the models: LR (mean: 0.742024, std: 0.098265) and KNN (mean: 0.607738, std: 0.142918) (Cohen's d=1.0387625531076112, Large)\n",
      "There is a significant difference between the models: LR (mean: 0.742024, std: 0.098265) and MLP (mean: 0.605714, std: 0.078325) (Cohen's d=1.4553275366860634, Large)\n",
      "There is a significant difference between the models: LR (mean: 0.742024, std: 0.098265) and ET (mean: 0.611964, std: 0.142189) (Cohen's d=1.009564118609487, Large)\n",
      "There is a significant difference between the models: LR (mean: 0.742024, std: 0.098265) and RF (mean: 0.645298, std: 0.149571) (Cohen's d=0.7251352590175288, Large)\n",
      "There is a significant difference between the models: LR (mean: 0.742024, std: 0.098265) and SVM (mean: 0.687976, std: 0.146808) (Cohen's d=0.41046539140805216, Medium)\n",
      "Eta squared: 0.327020 (Large)\n"
     ]
    },
    {
     "data": {
      "image/png": "[encoded data removed]",
      "text/plain": [
       "<Figure size 432x288 with 1 Axes>"
      ]
     },
     "metadata": {
      "needs_background": "light"
     },
     "output_type": "display_data"
    }
   ],
   "source": [
    "compare_methods(X_pca10,Y,listAlgorithms,listParams,listNames,metric='auroc')"
   ]
  },
  {
   "cell_type": "code",
   "execution_count": 36,
   "metadata": {
    "id": "uUqwDOQLOjtd"
   },
   "outputs": [],
   "source": [
    "!mv temp.csv temppca10.csv"
   ]
  },
  {
   "cell_type": "markdown",
   "metadata": {
    "id": "7wgUs9MrOuQE"
   },
   "source": [
    "# PCA with 100 components"
   ]
  },
  {
   "cell_type": "code",
   "execution_count": 37,
   "metadata": {
    "id": "Ef54_v0COuQF"
   },
   "outputs": [],
   "source": [
    "pca = PCA(n_components=100)"
   ]
  },
  {
   "cell_type": "code",
   "execution_count": 38,
   "metadata": {
    "id": "ejF2FGo0OuQG"
   },
   "outputs": [
    {
     "data": {
      "text/plain": [
       "PCA(n_components=100)"
      ]
     },
     "execution_count": 38,
     "metadata": {},
     "output_type": "execute_result"
    }
   ],
   "source": [
    "pca.fit(X)"
   ]
  },
  {
   "cell_type": "code",
   "execution_count": 39,
   "metadata": {
    "id": "AAI4QlOZOuQG"
   },
   "outputs": [],
   "source": [
    "X_pca100 = pca.transform(X)"
   ]
  },
  {
   "cell_type": "code",
   "execution_count": 40,
   "metadata": {
    "id": "JVbgf7IdOuQH"
   },
   "outputs": [
    {
     "name": "stdout",
     "output_type": "stream",
     "text": [
      "temp.csv\n",
      "['Arbol' 'SVM' 'KNN' 'LR' 'MLP' 'RF' 'ET']\n",
      "==========================================================\n",
      "Report\n",
      "==========================================================\n",
      "**********************************************************\n",
      "Mean and std\n",
      "**********************************************************\n",
      "Arbol: 0.486250 (0.164736)\n",
      "SVM: 0.720298 (0.158374)\n",
      "KNN: 0.738810 (0.135382)\n",
      "LR: 0.717024 (0.138283)\n",
      "MLP: 0.554226 (0.138358)\n",
      "RF: 0.536429 (0.125664)\n",
      "ET: 0.527024 (0.145345)\n",
      "**********************************************************\n",
      "Statistical tests\n",
      "**********************************************************\n",
      "----------------------------------------------------------\n",
      "Checking parametric conditions \n",
      "----------------------------------------------------------\n",
      "Checking independence \n",
      "Ok\n",
      "Checking normality using Shapiro-Wilk's test for normality, alpha=0.05\n",
      "W: 0.979387, p:0.302334\n",
      "The null hypothesis (normality) is rejected\n",
      "Checking heteroscedasticity using Levene's test, alpha=0.05\n",
      "W: 0.284352, p:0.942293\n",
      "The null hypothesis (heteroscedasticity) is accepted\n",
      "Conditions for a parametric test are not fulfilled, applying a non-parametric test\n",
      "----------------------------------------------------------\n",
      "Working with more than 2 algorithms\n",
      "----------------------------------------------------------\n",
      "----------------------------------------------------------\n",
      "Applying Friedman test\n",
      "----------------------------------------------------------\n",
      "F-value: 6.403423, p-value: 3.8766978901039195e-05\n",
      "Null hypothesis is rejected; hence, models have different performance\n",
      "Technique      Ranking\n",
      "-----------  ---------\n",
      "KNN               5.6\n",
      "SVM               5.5\n",
      "LR                5.35\n",
      "Arbol             3.05\n",
      "ET                2.95\n",
      "RF                2.8\n",
      "MLP               2.75\n",
      "Winner model: KNN\n",
      "----------------------------------------------------------\n",
      "Applying Holm p-value adjustment procedure and analysing effect size\n",
      "----------------------------------------------------------\n",
      "Comparison      Zvalue     p-value    adjusted p-value\n",
      "------------  --------  ----------  ------------------\n",
      "KNN vs MLP    2.95003   0.00317743           0.0190646\n",
      "KNN vs RF     2.89828   0.00375221           0.0190646\n",
      "KNN vs ET     2.74301   0.00608787           0.0243515\n",
      "KNN vs Arbol  2.6395    0.00830282           0.0249085\n",
      "KNN vs LR     0.258775  0.795809             1\n",
      "KNN vs SVM    0.10351   0.917558             1\n",
      "There is a significant difference between the models: KNN (mean: 0.738810, std: 0.135382) and MLP (mean: 0.554226, std: 0.138358) (Cohen's d=1.2793213830916927, Large)\n",
      "There is a significant difference between the models: KNN (mean: 0.738810, std: 0.135382) and RF (mean: 0.536429, std: 0.125664) (Cohen's d=1.469948794538955, Large)\n",
      "There is a significant difference between the models: KNN (mean: 0.738810, std: 0.135382) and ET (mean: 0.527024, std: 0.145345) (Cohen's d=1.4305085413829564, Large)\n",
      "There is a significant difference between the models: KNN (mean: 0.738810, std: 0.135382) and Arbol (mean: 0.486250, std: 0.164736) (Cohen's d=1.5891122610813064, Large)\n",
      "We can't say that there is a significant difference in the performance of the models: KNN (mean: 0.738810, std: 0.135382) and LR (mean: 0.717024, std: 0.138283) (Cohen's d=0.15103549475094208, Small)\n",
      "We can't say that there is a significant difference in the performance of the models: KNN (mean: 0.738810, std: 0.135382) and SVM (mean: 0.720298, std: 0.158374) (Cohen's d=0.11920363918419295, Small)\n",
      "Eta squared: 0.327347 (Large)\n"
     ]
    },
    {
     "data": {
      "image/png": "[encoded data removed]",
      "text/plain": [
       "<Figure size 432x288 with 1 Axes>"
      ]
     },
     "metadata": {
      "needs_background": "light"
     },
     "output_type": "display_data"
    }
   ],
   "source": [
    "compare_methods(X_pca100,Y,listAlgorithms,listParams,listNames,metric='auroc')"
   ]
  },
  {
   "cell_type": "code",
   "execution_count": 41,
   "metadata": {
    "id": "DNplq4INOuQI"
   },
   "outputs": [],
   "source": [
    "!mv temp.csv temppca100.csv"
   ]
  },
  {
   "cell_type": "markdown",
   "metadata": {
    "id": "B9xyvRUBJ4Yg"
   },
   "source": [
    "# TSNE with 2 components"
   ]
  },
  {
   "cell_type": "code",
   "execution_count": 42,
   "metadata": {
    "id": "cgeSd7wqJ4MA"
   },
   "outputs": [],
   "source": [
    "from sklearn.manifold import TSNE"
   ]
  },
  {
   "cell_type": "code",
   "execution_count": 43,
   "metadata": {
    "id": "VqpY0-F7JWkP"
   },
   "outputs": [],
   "source": [
    "Xtsne2 = TSNE(n_components=2).fit_transform(X)"
   ]
  },
  {
   "cell_type": "code",
   "execution_count": 44,
   "metadata": {
    "id": "JLGsE9ymKGAf"
   },
   "outputs": [
    {
     "name": "stdout",
     "output_type": "stream",
     "text": [
      "temp.csv\n",
      "['Arbol' 'SVM' 'KNN' 'LR' 'MLP' 'RF' 'ET']\n",
      "==========================================================\n",
      "Report\n",
      "==========================================================\n",
      "**********************************************************\n",
      "Mean and std\n",
      "**********************************************************\n",
      "Arbol: 0.591429 (0.192361)\n",
      "SVM: 0.629286 (0.105633)\n",
      "KNN: 0.621964 (0.116702)\n",
      "LR: 0.600238 (0.133684)\n",
      "MLP: 0.616190 (0.149150)\n",
      "RF: 0.568214 (0.122650)\n",
      "ET: 0.609881 (0.169852)\n",
      "**********************************************************\n",
      "Statistical tests\n",
      "**********************************************************\n",
      "----------------------------------------------------------\n",
      "Checking parametric conditions \n",
      "----------------------------------------------------------\n",
      "Checking independence \n",
      "Ok\n",
      "Checking normality using Shapiro-Wilk's test for normality, alpha=0.05\n",
      "W: 0.980194, p:0.333282\n",
      "The null hypothesis (normality) is rejected\n",
      "Checking heteroscedasticity using Levene's test, alpha=0.05\n",
      "W: 1.011126, p:0.426252\n",
      "The null hypothesis (heteroscedasticity) is rejected\n",
      "Conditions for a parametric test are not fulfilled, applying a non-parametric test\n",
      "----------------------------------------------------------\n",
      "Working with more than 2 algorithms\n",
      "----------------------------------------------------------\n",
      "----------------------------------------------------------\n",
      "Applying Friedman test\n",
      "----------------------------------------------------------\n",
      "F-value: 0.692308, p-value: 0.656741447743465\n",
      "Null hypothesis is accepted; hence, we can't say that there is a significant difference in the performance of the models\n",
      "----------------------------------------------------------\n",
      "Analysing effect size\n",
      "----------------------------------------------------------\n",
      "We take the model with the best mean (SVM, mean: 0.629286) and compare it with the other models: \n",
      "Comparing effect size of SVM and Arbol: Cohen's d=0.23143838508084696, Medium\n",
      "Comparing effect size of SVM and KNN: Cohen's d=0.062402411240447576, Small\n",
      "Comparing effect size of SVM and LR: Cohen's d=0.22873101432679627, Medium\n",
      "Comparing effect size of SVM and MLP: Cohen's d=0.09612787251832024, Small\n",
      "Comparing effect size of SVM and RF: Cohen's d=0.5061876998487763, Large\n",
      "Comparing effect size of SVM and ET: Cohen's d=0.13015784243945458, Small\n",
      "Eta squared: 0.017429 (Medium)\n"
     ]
    },
    {
     "data": {
      "image/png": "[encoded data removed]",
      "text/plain": [
       "<Figure size 432x288 with 1 Axes>"
      ]
     },
     "metadata": {
      "needs_background": "light"
     },
     "output_type": "display_data"
    }
   ],
   "source": [
    "compare_methods(Xtsne2,Y,listAlgorithms,listParams,listNames,metric='auroc')"
   ]
  },
  {
   "cell_type": "code",
   "execution_count": 45,
   "metadata": {
    "id": "9s4RecsnKMgQ"
   },
   "outputs": [],
   "source": [
    "!mv temp.csv temptsne2.csv"
   ]
  },
  {
   "cell_type": "markdown",
   "metadata": {},
   "source": [
    "# TSNE with 3 components"
   ]
  },
  {
   "cell_type": "code",
   "execution_count": 46,
   "metadata": {
    "id": "ROSlAByBKUuE"
   },
   "outputs": [
    {
     "name": "stdout",
     "output_type": "stream",
     "text": [
      "temp.csv\n",
      "['Arbol' 'SVM' 'KNN' 'LR' 'MLP' 'RF' 'ET']\n",
      "==========================================================\n",
      "Report\n",
      "==========================================================\n",
      "**********************************************************\n",
      "Mean and std\n",
      "**********************************************************\n",
      "Arbol: 0.449940 (0.143343)\n",
      "SVM: 0.491310 (0.162705)\n",
      "KNN: 0.486429 (0.154682)\n",
      "LR: 0.495179 (0.166474)\n",
      "MLP: 0.475000 (0.216932)\n",
      "RF: 0.509583 (0.219769)\n",
      "ET: 0.445774 (0.141090)\n",
      "**********************************************************\n",
      "Statistical tests\n",
      "**********************************************************\n",
      "----------------------------------------------------------\n",
      "Checking parametric conditions \n",
      "----------------------------------------------------------\n",
      "Checking independence \n",
      "Ok\n",
      "Checking normality using Shapiro-Wilk's test for normality, alpha=0.05\n",
      "W: 0.984389, p:0.534557\n",
      "The null hypothesis (normality) is accepted\n",
      "Checking heteroscedasticity using Levene's test, alpha=0.05\n",
      "W: 0.232547, p:0.964424\n",
      "The null hypothesis (heteroscedasticity) is accepted\n",
      "Conditions for a parametric test are fulfilled\n",
      "----------------------------------------------------------\n",
      "Working with more than 2 algorithms\n",
      "----------------------------------------------------------\n",
      "----------------------------------------------------------\n",
      "Applying ANOVA test\n",
      "----------------------------------------------------------\n",
      "F-value: 0.165322, p-value: 0.9850339995341068\n",
      "Null hypothesis is accepted; hence, we can't say that there is a significant difference in the performance of the models\n",
      "----------------------------------------------------------\n",
      "Analysing effect size\n",
      "----------------------------------------------------------\n",
      "We take the model with the best mean (RF, mean: 0.509583) and compare it with the other models: \n",
      "Comparing effect size of RF and Arbol: Cohen's d=0.30497013680417256, Medium\n",
      "Comparing effect size of RF and SVM: Cohen's d=0.08965986344579689, Small\n",
      "Comparing effect size of RF and KNN: Cohen's d=0.11559344639795198, Small\n",
      "Comparing effect size of RF and LR: Cohen's d=0.07009743984182212, Small\n",
      "Comparing effect size of RF and MLP: Cohen's d=0.15025362664850278, Small\n",
      "Comparing effect size of RF and ET: Cohen's d=0.3278044094101339, Medium\n",
      "Eta squared: 0.015501 (Medium)\n"
     ]
    },
    {
     "data": {
      "image/png": "[encoded data removed]",
      "text/plain": [
       "<Figure size 432x288 with 1 Axes>"
      ]
     },
     "metadata": {
      "needs_background": "light"
     },
     "output_type": "display_data"
    }
   ],
   "source": [
    "Xtsne3 = TSNE(n_components=3).fit_transform(X)\n",
    "compare_methods(Xtsne3,Y,listAlgorithms,listParams,listNames,metric='auroc')"
   ]
  },
  {
   "cell_type": "code",
   "execution_count": 47,
   "metadata": {
    "id": "rAl1ayHcKbSF"
   },
   "outputs": [],
   "source": [
    "!mv temp.csv temptsne3.csv"
   ]
  },
  {
   "cell_type": "markdown",
   "metadata": {},
   "source": [
    "# UMAP with 2 components"
   ]
  },
  {
   "cell_type": "code",
   "execution_count": 48,
   "metadata": {
    "id": "T45s4ka649by"
   },
   "outputs": [],
   "source": [
    "from umap import UMAP"
   ]
  },
  {
   "cell_type": "code",
   "execution_count": 49,
   "metadata": {
    "id": "y-O-MGt_5AC4"
   },
   "outputs": [],
   "source": [
    "reducer = UMAP()"
   ]
  },
  {
   "cell_type": "code",
   "execution_count": 50,
   "metadata": {
    "id": "h3U_6qzL5bR_"
   },
   "outputs": [],
   "source": [
    "Xumap = reducer.fit_transform(X)"
   ]
  },
  {
   "cell_type": "code",
   "execution_count": 51,
   "metadata": {
    "id": "PqHq4hZsXPPy"
   },
   "outputs": [
    {
     "name": "stdout",
     "output_type": "stream",
     "text": [
      "temp.csv\n",
      "['Arbol' 'SVM' 'KNN' 'LR' 'MLP' 'RF' 'ET']\n",
      "==========================================================\n",
      "Report\n",
      "==========================================================\n",
      "**********************************************************\n",
      "Mean and std\n",
      "**********************************************************\n",
      "Arbol: 0.713512 (0.100342)\n",
      "SVM: 0.619405 (0.126582)\n",
      "KNN: 0.548452 (0.172444)\n",
      "LR: 0.633988 (0.099826)\n",
      "MLP: 0.592202 (0.112492)\n",
      "RF: 0.643988 (0.137631)\n",
      "ET: 0.602024 (0.103480)\n",
      "**********************************************************\n",
      "Statistical tests\n",
      "**********************************************************\n",
      "----------------------------------------------------------\n",
      "Checking parametric conditions \n",
      "----------------------------------------------------------\n",
      "Checking independence \n",
      "Ok\n",
      "Checking normality using Shapiro-Wilk's test for normality, alpha=0.05\n",
      "W: 0.979310, p:0.299522\n",
      "The null hypothesis (normality) is rejected\n",
      "Checking heteroscedasticity using Levene's test, alpha=0.05\n",
      "W: 0.822337, p:0.556876\n",
      "The null hypothesis (heteroscedasticity) is accepted\n",
      "Conditions for a parametric test are not fulfilled, applying a non-parametric test\n",
      "----------------------------------------------------------\n",
      "Working with more than 2 algorithms\n",
      "----------------------------------------------------------\n",
      "----------------------------------------------------------\n",
      "Applying Friedman test\n",
      "----------------------------------------------------------\n",
      "F-value: 2.280215, p-value: 0.049259961608642766\n",
      "Null hypothesis is rejected; hence, models have different performance\n",
      "Technique      Ranking\n",
      "-----------  ---------\n",
      "Arbol             5.9\n",
      "RF                4.5\n",
      "LR                4.05\n",
      "ET                3.7\n",
      "MLP               3.45\n",
      "SVM               3.45\n",
      "KNN               2.95\n",
      "Winner model: Arbol\n",
      "----------------------------------------------------------\n",
      "Applying Holm p-value adjustment procedure and analysing effect size\n",
      "----------------------------------------------------------\n",
      "Comparison      Zvalue     p-value    adjusted p-value\n",
      "------------  --------  ----------  ------------------\n",
      "Arbol vs KNN   3.05354  0.00226158           0.0135695\n",
      "Arbol vs SVM   2.53599  0.011213             0.0560648\n",
      "Arbol vs MLP   2.53599  0.011213             0.0560648\n",
      "Arbol vs ET    2.27722  0.0227733            0.0683199\n",
      "Arbol vs LR    1.91493  0.0555012            0.111002\n",
      "Arbol vs RF    1.44914  0.147299             0.147299\n",
      "There is a significant difference between the models: Arbol (mean: 0.713512, std: 0.100342) and KNN (mean: 0.548452, std: 0.172444) (Cohen's d=1.1099557671925688, Large)\n",
      "There is a significant difference between the models: Arbol (mean: 0.713512, std: 0.100342) and SVM (mean: 0.619405, std: 0.126582) (Cohen's d=0.7816456325869465, Large)\n",
      "There is a significant difference between the models: Arbol (mean: 0.713512, std: 0.100342) and MLP (mean: 0.592202, std: 0.112492) (Cohen's d=1.0796889051367202, Large)\n",
      "There is a significant difference between the models: Arbol (mean: 0.713512, std: 0.100342) and ET (mean: 0.602024, std: 0.103480) (Cohen's d=1.0377138295032686, Large)\n",
      "There is a significant difference between the models: Arbol (mean: 0.713512, std: 0.100342) and LR (mean: 0.633988, std: 0.099826) (Cohen's d=0.7537930605876961, Large)\n",
      "There is a significant difference between the models: Arbol (mean: 0.713512, std: 0.100342) and RF (mean: 0.643988, std: 0.137631) (Cohen's d=0.54763471920233, Large)\n",
      "Eta squared: 0.126851 (Large)\n"
     ]
    },
    {
     "data": {
      "image/png": "[encoded data removed]",
      "text/plain": [
       "<Figure size 432x288 with 1 Axes>"
      ]
     },
     "metadata": {
      "needs_background": "light"
     },
     "output_type": "display_data"
    }
   ],
   "source": [
    "compare_methods(Xumap,Y,listAlgorithms,listParams,listNames,metric='auroc')"
   ]
  },
  {
   "cell_type": "code",
   "execution_count": 52,
   "metadata": {
    "id": "9NTIJDD2XWW6"
   },
   "outputs": [],
   "source": [
    "!mv temp.csv tempumap2.csv"
   ]
  },
  {
   "cell_type": "markdown",
   "metadata": {},
   "source": [
    "# UMAP with 10 components"
   ]
  },
  {
   "cell_type": "code",
   "execution_count": 53,
   "metadata": {
    "id": "vtZHePZ6XaWK"
   },
   "outputs": [],
   "source": [
    "reducer = UMAP(n_components=10)"
   ]
  },
  {
   "cell_type": "code",
   "execution_count": 54,
   "metadata": {
    "id": "RT32rbaFXsMs"
   },
   "outputs": [],
   "source": [
    "Xumap10 = reducer.fit_transform(X)"
   ]
  },
  {
   "cell_type": "code",
   "execution_count": 55,
   "metadata": {
    "id": "IZhqNI6ZX2L0"
   },
   "outputs": [
    {
     "name": "stdout",
     "output_type": "stream",
     "text": [
      "temp.csv\n",
      "['Arbol' 'SVM' 'KNN' 'LR' 'MLP' 'RF' 'ET']\n",
      "==========================================================\n",
      "Report\n",
      "==========================================================\n",
      "**********************************************************\n",
      "Mean and std\n",
      "**********************************************************\n",
      "Arbol: 0.570179 (0.163457)\n",
      "SVM: 0.646548 (0.190549)\n",
      "KNN: 0.680417 (0.163163)\n",
      "LR: 0.636429 (0.143818)\n",
      "MLP: 0.607560 (0.144225)\n",
      "RF: 0.669881 (0.143222)\n",
      "ET: 0.676250 (0.138491)\n",
      "**********************************************************\n",
      "Statistical tests\n",
      "**********************************************************\n",
      "----------------------------------------------------------\n",
      "Checking parametric conditions \n",
      "----------------------------------------------------------\n",
      "Checking independence \n",
      "Ok\n",
      "Checking normality using Shapiro-Wilk's test for normality, alpha=0.05\n",
      "W: 0.980440, p:0.343247\n",
      "The null hypothesis (normality) is rejected\n",
      "Checking heteroscedasticity using Levene's test, alpha=0.05\n",
      "W: 0.371771, p:0.894228\n",
      "The null hypothesis (heteroscedasticity) is accepted\n",
      "Conditions for a parametric test are not fulfilled, applying a non-parametric test\n",
      "----------------------------------------------------------\n",
      "Working with more than 2 algorithms\n",
      "----------------------------------------------------------\n",
      "----------------------------------------------------------\n",
      "Applying Friedman test\n",
      "----------------------------------------------------------\n",
      "F-value: 1.357583, p-value: 0.2484610410573055\n",
      "Null hypothesis is rejected; hence, models have different performance\n",
      "Technique      Ranking\n",
      "-----------  ---------\n",
      "KNN               4.75\n",
      "ET                4.6\n",
      "RF                4.6\n",
      "SVM               4.25\n",
      "LR                3.75\n",
      "MLP               3.45\n",
      "Arbol             2.6\n",
      "Winner model: KNN\n",
      "----------------------------------------------------------\n",
      "Applying Holm p-value adjustment procedure and analysing effect size\n",
      "----------------------------------------------------------\n",
      "Comparison      Zvalue    p-value    adjusted p-value\n",
      "------------  --------  ---------  ------------------\n",
      "KNN vs Arbol  2.22546   0.0260503            0.156302\n",
      "KNN vs MLP    1.34563   0.178423             0.892113\n",
      "KNN vs LR     1.0351    0.300623             1\n",
      "KNN vs SVM    0.517549  0.604773             1\n",
      "KNN vs RF     0.155265  0.876613             1\n",
      "KNN vs ET     0.155265  0.876613             1\n",
      "There is a significant difference between the models: KNN (mean: 0.680417, std: 0.163163) and Arbol (mean: 0.570179, std: 0.163457) (Cohen's d=0.6403825365991478, Large)\n",
      "We can't say that there is a significant difference in the performance of the models: KNN (mean: 0.680417, std: 0.163163) and MLP (mean: 0.607560, std: 0.144225) (Cohen's d=0.4488626941492545, Medium)\n",
      "We can't say that there is a significant difference in the performance of the models: KNN (mean: 0.680417, std: 0.163163) and LR (mean: 0.636429, std: 0.143818) (Cohen's d=0.27133987957921535, Medium)\n",
      "We can't say that there is a significant difference in the performance of the models: KNN (mean: 0.680417, std: 0.163163) and SVM (mean: 0.646548, std: 0.190549) (Cohen's d=0.18113689801425936, Small)\n",
      "We can't say that there is a significant difference in the performance of the models: KNN (mean: 0.680417, std: 0.163163) and RF (mean: 0.669881, std: 0.143222) (Cohen's d=0.06510733825948442, Small)\n",
      "We can't say that there is a significant difference in the performance of the models: KNN (mean: 0.680417, std: 0.163163) and ET (mean: 0.676250, std: 0.138491) (Cohen's d=0.02612059707879563, Small)\n",
      "Eta squared: 0.054339 (Medium)\n"
     ]
    },
    {
     "data": {
      "image/png": "[encoded data removed]",
      "text/plain": [
       "<Figure size 432x288 with 1 Axes>"
      ]
     },
     "metadata": {
      "needs_background": "light"
     },
     "output_type": "display_data"
    }
   ],
   "source": [
    "compare_methods(Xumap10,Y,listAlgorithms,listParams,listNames,metric='auroc')"
   ]
  },
  {
   "cell_type": "code",
   "execution_count": 56,
   "metadata": {
    "id": "B91qjVhuX5I-"
   },
   "outputs": [],
   "source": [
    "!mv temp.csv tempumap10.csv"
   ]
  },
  {
   "cell_type": "code",
   "execution_count": null,
   "metadata": {},
   "outputs": [],
   "source": []
  }
 ],
 "metadata": {
  "colab": {
   "name": "CompareMethods.ipynb",
   "provenance": []
  },
  "kernelspec": {
   "display_name": "Python 3",
   "language": "python",
   "name": "python3"
  },
  "language_info": {
   "codemirror_mode": {
    "name": "ipython",
    "version": 3
   },
   "file_extension": ".py",
   "mimetype": "text/x-python",
   "name": "python",
   "nbconvert_exporter": "python",
   "pygments_lexer": "ipython3",
   "version": "3.6.7"
  }
 },
 "nbformat": 4,
 "nbformat_minor": 1
}
