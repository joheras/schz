{
 "cells": [
  {
   "cell_type": "code",
   "execution_count": 1,
   "metadata": {
    "id": "9VdC2keIvxIJ"
   },
   "outputs": [],
   "source": [
    "import numpy as np\n",
    "from StatisticalAnalysis import compare_methods"
   ]
  },
  {
   "cell_type": "code",
   "execution_count": 2,
   "metadata": {
    "id": "3iCEO6wXtftF"
   },
   "outputs": [],
   "source": [
    "import warnings\n",
    "warnings.filterwarnings('ignore')"
   ]
  },
  {
   "cell_type": "markdown",
   "metadata": {
    "id": "Zb3btBk5vxIM"
   },
   "source": [
    "First we load the data and process it to have the correct form."
   ]
  },
  {
   "cell_type": "code",
   "execution_count": 3,
   "metadata": {},
   "outputs": [],
   "source": [
    "corr = np.load('corrAutoencoderSparse.npy')"
   ]
  },
  {
   "cell_type": "code",
   "execution_count": 4,
   "metadata": {},
   "outputs": [],
   "source": [
    "corr_hc = corr[0:52]\n",
    "corr_schz = corr[52:]"
   ]
  },
  {
   "cell_type": "code",
   "execution_count": 5,
   "metadata": {
    "id": "StF6b56QvxIN"
   },
   "outputs": [
    {
     "data": {
      "text/plain": [
       "(52, 32)"
      ]
     },
     "execution_count": 5,
     "metadata": {},
     "output_type": "execute_result"
    }
   ],
   "source": [
    "corr_hc.shape"
   ]
  },
  {
   "cell_type": "code",
   "execution_count": 6,
   "metadata": {
    "id": "qd1nFcAfvxIO"
   },
   "outputs": [],
   "source": [
    "corr_hc = corr_hc.reshape(52,32)"
   ]
  },
  {
   "cell_type": "code",
   "execution_count": 7,
   "metadata": {
    "id": "fc006UE6vxIO"
   },
   "outputs": [],
   "source": [
    "corr_schz = corr_schz.reshape(50,32)"
   ]
  },
  {
   "cell_type": "code",
   "execution_count": 8,
   "metadata": {
    "id": "SEhdGg3IvxIP"
   },
   "outputs": [],
   "source": [
    "X = np.append(corr_hc,corr_schz,axis=0)"
   ]
  },
  {
   "cell_type": "code",
   "execution_count": 9,
   "metadata": {
    "colab": {
     "base_uri": "https://localhost:8080/"
    },
    "id": "8d-RFXoavxIQ",
    "outputId": "a61e1d34-79c6-4f1a-df1f-0b3a74b2c53d"
   },
   "outputs": [
    {
     "data": {
      "text/plain": [
       "(102, 32)"
      ]
     },
     "execution_count": 9,
     "metadata": {},
     "output_type": "execute_result"
    }
   ],
   "source": [
    "X.shape"
   ]
  },
  {
   "cell_type": "code",
   "execution_count": 10,
   "metadata": {
    "colab": {
     "base_uri": "https://localhost:8080/"
    },
    "id": "hnaiAVUvJmgn",
    "outputId": "6cb5c264-f346-4b38-e85b-aa3b8bf8ace6"
   },
   "outputs": [
    {
     "data": {
      "text/plain": [
       "(32,)"
      ]
     },
     "execution_count": 10,
     "metadata": {},
     "output_type": "execute_result"
    }
   ],
   "source": [
    "X[0].shape"
   ]
  },
  {
   "cell_type": "code",
   "execution_count": 11,
   "metadata": {
    "id": "5oh4k1gEvxIR"
   },
   "outputs": [],
   "source": [
    "Y = np.append(np.zeros(52),np.ones(50),axis=0)"
   ]
  },
  {
   "cell_type": "code",
   "execution_count": 12,
   "metadata": {
    "colab": {
     "base_uri": "https://localhost:8080/"
    },
    "id": "PZuBWU5LvxIR",
    "outputId": "21a0987a-b533-41fc-bea5-9f94b3246a66",
    "scrolled": true
   },
   "outputs": [
    {
     "data": {
      "text/plain": [
       "(102,)"
      ]
     },
     "execution_count": 12,
     "metadata": {},
     "output_type": "execute_result"
    }
   ],
   "source": [
    "Y.shape"
   ]
  },
  {
   "cell_type": "markdown",
   "metadata": {
    "id": "w2w8w0VjvxIS"
   },
   "source": [
    "Now, we define the algorithms that we are going to use. "
   ]
  },
  {
   "cell_type": "code",
   "execution_count": 13,
   "metadata": {
    "id": "MEPfV3efvxIS"
   },
   "outputs": [],
   "source": [
    "from sklearn.tree import DecisionTreeClassifier\n",
    "from sklearn.neighbors import KNeighborsClassifier\n",
    "from sklearn.linear_model import LogisticRegression\n",
    "from sklearn.svm import SVC\n",
    "from sklearn.neural_network import MLPClassifier\n",
    "from sklearn.ensemble import ExtraTreesClassifier\n",
    "from sklearn.ensemble import GradientBoostingClassifier\n",
    "from sklearn.ensemble import RandomForestClassifier\n",
    "from sklearn.ensemble import AdaBoostClassifier\n",
    "from scipy.stats import randint as sp_randint"
   ]
  },
  {
   "cell_type": "code",
   "execution_count": 14,
   "metadata": {
    "id": "YwnPEwswvxIU"
   },
   "outputs": [],
   "source": [
    "# Decision tree\n",
    "clfTree = DecisionTreeClassifier(random_state=84)\n",
    "param_distTree = {\"min_samples_split\": sp_randint(3, 30)}\n",
    "# SVM\n",
    "clfSVC = SVC(random_state=84)\n",
    "param_distSVC = {'C': [1, 10, 100, 1000], 'gamma': [0.001, 0.0001],'kernel': ['rbf'], 'class_weight':['balanced', None]}\n",
    "# KNN\n",
    "clfKNN = KNeighborsClassifier()\n",
    "param_distKNN = {'n_neighbors':sp_randint(3, 30)}\n",
    "# Logistic regression\n",
    "clfLR = LogisticRegression(random_state=84)\n",
    "param_distLR = {'C': [0.1,0.5,1, 10, 100, 1000]}\n",
    "# Neural Network\n",
    "clfMLP = MLPClassifier(random_state=84)\n",
    "param_distMLP = {'activation': ['identity', 'logistic', 'tanh', 'relu'], 'solver': ['lbfgs', 'sgd', 'adam'],\n",
    "                 'alpha': sp_randint(0.0001, 1), 'learning_rate': ['constant', 'invscaling', 'adaptive'],\n",
    "                 'hidden_layer_sizes': [(5,2), (3,3,3), (5,3,2), (5,4,3,2)],\n",
    "                 'momentum': [0.9, 0.95, 0.99]}\n",
    "# RandomForest\n",
    "clfRF = RandomForestClassifier(random_state=84)\n",
    "param_distRF =  {'n_estimators': [int(x) for x in np.linspace(start = 200, stop = 2000, num = 10)], 'max_features': ['auto', 'sqrt'],'max_depth': [int(x) for x in np.linspace(10, 110, num = 11)],\n",
    "                 'min_samples_split': [2, 5, 10],'min_samples_leaf': [1, 2, 4],\n",
    "                 'bootstrap': [True, False]}\n",
    "# ExtraTreesClassifier\n",
    "clfET = ExtraTreesClassifier(random_state=84)\n",
    "param_distET =  {'n_estimators': [int(x) for x in np.linspace(start = 200, stop = 2000, num = 10)], 'max_features': ['auto', 'sqrt'],'max_depth': [int(x) for x in np.linspace(10, 110, num = 11)],\n",
    "                 'min_samples_split': [2, 5, 10],'min_samples_leaf': [1, 2, 4],\n",
    "                 'bootstrap': [True, False]}"
   ]
  },
  {
   "cell_type": "code",
   "execution_count": 15,
   "metadata": {
    "id": "GGQcPxBOvxIV"
   },
   "outputs": [],
   "source": [
    "listAlgorithms = [clfTree,clfSVC,clfKNN,clfLR,clfMLP,clfRF,clfET]"
   ]
  },
  {
   "cell_type": "code",
   "execution_count": 16,
   "metadata": {
    "id": "8Nl-1GpjvxIV"
   },
   "outputs": [],
   "source": [
    "listParams = [param_distTree,param_distSVC,param_distKNN,param_distLR,param_distMLP,param_distRF, param_distET]"
   ]
  },
  {
   "cell_type": "code",
   "execution_count": 17,
   "metadata": {
    "id": "IK_8iIWovxIV"
   },
   "outputs": [],
   "source": [
    "listNames = [\"Arbol\", \"SVM\", \"KNN\", \"LR\", \"MLP\",\"RF\",\"ET\"]"
   ]
  },
  {
   "cell_type": "markdown",
   "metadata": {},
   "source": [
    "# Plain comparison"
   ]
  },
  {
   "cell_type": "code",
   "execution_count": 18,
   "metadata": {
    "id": "LSSesjlBvxIV"
   },
   "outputs": [
    {
     "name": "stdout",
     "output_type": "stream",
     "text": [
      "temp.csv\n",
      "['Arbol' 'SVM' 'KNN' 'LR' 'MLP' 'RF' 'ET']\n",
      "==========================================================\n",
      "Report\n",
      "==========================================================\n",
      "**********************************************************\n",
      "Mean and std\n",
      "**********************************************************\n",
      "Arbol: 0.574048 (0.163320)\n",
      "SVM: 0.509524 (0.134436)\n",
      "KNN: 0.578512 (0.138968)\n",
      "LR: 0.455714 (0.082027)\n",
      "MLP: 0.474405 (0.041415)\n",
      "RF: 0.541012 (0.153859)\n",
      "ET: 0.577202 (0.122111)\n",
      "**********************************************************\n",
      "Statistical tests\n",
      "**********************************************************\n",
      "----------------------------------------------------------\n",
      "Checking parametric conditions \n",
      "----------------------------------------------------------\n",
      "Checking independence \n",
      "Ok\n",
      "Checking normality using Shapiro-Wilk's test for normality, alpha=0.05\n",
      "W: 0.938899, p:0.001984\n",
      "The null hypothesis (normality) is rejected\n",
      "Checking heteroscedasticity using Levene's test, alpha=0.05\n",
      "W: 2.314092, p:0.044074\n",
      "The null hypothesis (heteroscedasticity) is rejected\n",
      "Conditions for a parametric test are not fulfilled, applying a non-parametric test\n",
      "----------------------------------------------------------\n",
      "Working with more than 2 algorithms\n",
      "----------------------------------------------------------\n",
      "----------------------------------------------------------\n",
      "Applying Friedman test\n",
      "----------------------------------------------------------\n",
      "F-value: 1.336341, p-value: 0.2572911655170933\n",
      "Null hypothesis is rejected; hence, models have different performance\n",
      "Technique      Ranking\n",
      "-----------  ---------\n",
      "ET                4.7\n",
      "KNN               4.55\n",
      "Arbol             4.55\n",
      "RF                4.15\n",
      "SVM               3.9\n",
      "MLP               3.7\n",
      "LR                2.45\n",
      "Winner model: ET\n",
      "----------------------------------------------------------\n",
      "Applying Holm p-value adjustment procedure and analysing effect size\n",
      "----------------------------------------------------------\n",
      "Comparison      Zvalue    p-value    adjusted p-value\n",
      "------------  --------  ---------  ------------------\n",
      "ET vs LR      2.32897   0.0198606            0.119164\n",
      "ET vs MLP     1.0351    0.300623             1\n",
      "ET vs SVM     0.828079  0.407626             1\n",
      "ET vs RF      0.569304  0.56915              1\n",
      "ET vs Arbol   0.155265  0.876613             1\n",
      "ET vs KNN     0.155265  0.876613             1\n",
      "There is a significant difference between the models: ET (mean: 0.577202, std: 0.122111) and LR (mean: 0.455714, std: 0.082027) (Cohen's d=1.1080193420219844, Large)\n",
      "We can't say that there is a significant difference in the performance of the models: ET (mean: 0.577202, std: 0.122111) and MLP (mean: 0.474405, std: 0.041415) (Cohen's d=1.0696032188071123, Large)\n",
      "We can't say that there is a significant difference in the performance of the models: ET (mean: 0.577202, std: 0.122111) and SVM (mean: 0.509524, std: 0.134436) (Cohen's d=0.4999612150363318, Medium)\n",
      "We can't say that there is a significant difference in the performance of the models: ET (mean: 0.577202, std: 0.122111) and RF (mean: 0.541012, std: 0.153859) (Cohen's d=0.24718862638585998, Medium)\n",
      "We can't say that there is a significant difference in the performance of the models: ET (mean: 0.577202, std: 0.122111) and Arbol (mean: 0.574048, std: 0.163320) (Cohen's d=0.02075569009594808, Small)\n",
      "We can't say that there is a significant difference in the performance of the models: ET (mean: 0.577202, std: 0.122111) and KNN (mean: 0.578512, std: 0.138968) (Cohen's d=0.009497076313642066, Small)\n",
      "Eta squared: 0.123633 (Large)\n"
     ]
    },
    {
     "data": {
      "image/png": "[encoded data removed]",
      "text/plain": [
       "<Figure size 432x288 with 1 Axes>"
      ]
     },
     "metadata": {
      "needs_background": "light"
     },
     "output_type": "display_data"
    }
   ],
   "source": [
    "compare_methods(X,Y,listAlgorithms,listParams,listNames,metric='auroc')"
   ]
  },
  {
   "cell_type": "code",
   "execution_count": 19,
   "metadata": {},
   "outputs": [
    {
     "name": "stdout",
     "output_type": "stream",
     "text": [
      "temp.csv\n",
      "['Arbol' 'SVM' 'KNN' 'LR' 'MLP' 'RF' 'ET']\n",
      "==========================================================\n",
      "Report\n",
      "==========================================================\n",
      "**********************************************************\n",
      "Mean and std\n",
      "**********************************************************\n",
      "Arbol: 0.545000 (0.232624)\n",
      "SVM: 0.408095 (0.328517)\n",
      "KNN: 0.571905 (0.253595)\n",
      "LR: 0.395130 (0.264439)\n",
      "MLP: 0.167511 (0.205514)\n",
      "RF: 0.516667 (0.234876)\n",
      "ET: 0.589524 (0.261079)\n",
      "**********************************************************\n",
      "Statistical tests\n",
      "**********************************************************\n",
      "----------------------------------------------------------\n",
      "Checking parametric conditions \n",
      "----------------------------------------------------------\n",
      "Checking independence \n",
      "Ok\n",
      "Checking normality using Shapiro-Wilk's test for normality, alpha=0.05\n",
      "W: 0.942537, p:0.003006\n",
      "The null hypothesis (normality) is rejected\n",
      "Checking heteroscedasticity using Levene's test, alpha=0.05\n",
      "W: 0.376444, p:0.891332\n",
      "The null hypothesis (heteroscedasticity) is accepted\n",
      "Conditions for a parametric test are not fulfilled, applying a non-parametric test\n",
      "----------------------------------------------------------\n",
      "Working with more than 2 algorithms\n",
      "----------------------------------------------------------\n",
      "----------------------------------------------------------\n",
      "Applying Friedman test\n",
      "----------------------------------------------------------\n",
      "F-value: 2.828209, p-value: 0.018160793412989706\n",
      "Null hypothesis is rejected; hence, models have different performance\n",
      "Technique      Ranking\n",
      "-----------  ---------\n",
      "KNN               5\n",
      "Arbol             4.95\n",
      "ET                4.75\n",
      "RF                4.2\n",
      "SVM               3.7\n",
      "LR                3.3\n",
      "MLP               2.1\n",
      "Winner model: KNN\n",
      "----------------------------------------------------------\n",
      "Applying Holm p-value adjustment procedure and analysing effect size\n",
      "----------------------------------------------------------\n",
      "Comparison       Zvalue     p-value    adjusted p-value\n",
      "------------  ---------  ----------  ------------------\n",
      "KNN vs MLP    3.00179    0.00268402           0.0161041\n",
      "KNN vs LR     1.75967    0.0784643            0.392321\n",
      "KNN vs SVM    1.34563    0.178423             0.71369\n",
      "KNN vs RF     0.828079   0.407626             1\n",
      "KNN vs ET     0.258775   0.795809             1\n",
      "KNN vs Arbol  0.0517549  0.958724             1\n",
      "There is a significant difference between the models: KNN (mean: 0.571905, std: 0.253595) and MLP (mean: 0.167511, std: 0.205514) (Cohen's d=1.6621558491772803, Large)\n",
      "There is a significant difference between the models: KNN (mean: 0.571905, std: 0.253595) and LR (mean: 0.395130, std: 0.264439) (Cohen's d=0.6473196711699307, Large)\n",
      "We can't say that there is a significant difference in the performance of the models: KNN (mean: 0.571905, std: 0.253595) and SVM (mean: 0.408095, std: 0.328517) (Cohen's d=0.5295616310045416, Large)\n",
      "We can't say that there is a significant difference in the performance of the models: KNN (mean: 0.571905, std: 0.253595) and RF (mean: 0.516667, std: 0.234876) (Cohen's d=0.21440386758719107, Medium)\n",
      "We can't say that there is a significant difference in the performance of the models: KNN (mean: 0.571905, std: 0.253595) and ET (mean: 0.589524, std: 0.261079) (Cohen's d=0.06494643870434619, Small)\n",
      "We can't say that there is a significant difference in the performance of the models: KNN (mean: 0.571905, std: 0.253595) and Arbol (mean: 0.545000, std: 0.232624) (Cohen's d=0.10489262555115436, Small)\n",
      "Eta squared: 0.222399 (Large)\n"
     ]
    },
    {
     "data": {
      "image/png": "[encoded data removed]",
      "text/plain": [
       "<Figure size 432x288 with 1 Axes>"
      ]
     },
     "metadata": {
      "needs_background": "light"
     },
     "output_type": "display_data"
    }
   ],
   "source": [
    "compare_methods(X,Y,listAlgorithms,listParams,listNames,metric='precision')"
   ]
  },
  {
   "cell_type": "code",
   "execution_count": 20,
   "metadata": {},
   "outputs": [
    {
     "name": "stdout",
     "output_type": "stream",
     "text": [
      "temp.csv\n",
      "['Arbol' 'SVM' 'KNN' 'LR' 'MLP' 'RF' 'ET']\n",
      "==========================================================\n",
      "Report\n",
      "==========================================================\n",
      "**********************************************************\n",
      "Mean and std\n",
      "**********************************************************\n",
      "Arbol: 0.518452 (0.232896)\n",
      "SVM: 0.360119 (0.321067)\n",
      "KNN: 0.552381 (0.285526)\n",
      "LR: 0.490476 (0.338472)\n",
      "MLP: 0.320238 (0.395355)\n",
      "RF: 0.506548 (0.214953)\n",
      "ET: 0.504762 (0.243055)\n",
      "**********************************************************\n",
      "Statistical tests\n",
      "**********************************************************\n",
      "----------------------------------------------------------\n",
      "Checking parametric conditions \n",
      "----------------------------------------------------------\n",
      "Checking independence \n",
      "Ok\n",
      "Checking normality using Shapiro-Wilk's test for normality, alpha=0.05\n",
      "W: 0.935698, p:0.001387\n",
      "The null hypothesis (normality) is rejected\n",
      "Checking heteroscedasticity using Levene's test, alpha=0.05\n",
      "W: 0.916602, p:0.489081\n",
      "The null hypothesis (heteroscedasticity) is rejected\n",
      "Conditions for a parametric test are not fulfilled, applying a non-parametric test\n",
      "----------------------------------------------------------\n",
      "Working with more than 2 algorithms\n",
      "----------------------------------------------------------\n",
      "----------------------------------------------------------\n",
      "Applying Friedman test\n",
      "----------------------------------------------------------\n",
      "F-value: 1.630669, p-value: 0.1565475963884806\n",
      "Null hypothesis is rejected; hence, models have different performance\n",
      "Technique      Ranking\n",
      "-----------  ---------\n",
      "KNN               4.75\n",
      "Arbol             4.55\n",
      "RF                4.45\n",
      "ET                4.4\n",
      "LR                4.25\n",
      "SVM               3.05\n",
      "MLP               2.55\n",
      "Winner model: KNN\n",
      "----------------------------------------------------------\n",
      "Applying Holm p-value adjustment procedure and analysing effect size\n",
      "----------------------------------------------------------\n",
      "Comparison      Zvalue    p-value    adjusted p-value\n",
      "------------  --------  ---------  ------------------\n",
      "KNN vs MLP    2.27722   0.0227733            0.13664\n",
      "KNN vs SVM    1.75967   0.0784643            0.392321\n",
      "KNN vs LR     0.517549  0.604773             1\n",
      "KNN vs ET     0.362284  0.71714              1\n",
      "KNN vs RF     0.31053   0.756158             1\n",
      "KNN vs Arbol  0.20702   0.835994             1\n",
      "There is a significant difference between the models: KNN (mean: 0.552381, std: 0.285526) and MLP (mean: 0.320238, std: 0.395355) (Cohen's d=0.638642863068523, Large)\n",
      "There is a significant difference between the models: KNN (mean: 0.552381, std: 0.285526) and SVM (mean: 0.360119, std: 0.321067) (Cohen's d=0.6003476646134344, Large)\n",
      "We can't say that there is a significant difference in the performance of the models: KNN (mean: 0.552381, std: 0.285526) and LR (mean: 0.490476, std: 0.338472) (Cohen's d=0.18755745000178142, Small)\n",
      "We can't say that there is a significant difference in the performance of the models: KNN (mean: 0.552381, std: 0.285526) and ET (mean: 0.504762, std: 0.243055) (Cohen's d=0.17038168018358668, Small)\n",
      "We can't say that there is a significant difference in the performance of the models: KNN (mean: 0.552381, std: 0.285526) and RF (mean: 0.506548, std: 0.214953) (Cohen's d=0.17205659797305725, Small)\n",
      "We can't say that there is a significant difference in the performance of the models: KNN (mean: 0.552381, std: 0.285526) and Arbol (mean: 0.518452, std: 0.232896) (Cohen's d=0.12353978984241733, Small)\n",
      "Eta squared: 0.070160 (Large)\n"
     ]
    },
    {
     "data": {
      "image/png": "[encoded data removed]",
      "text/plain": [
       "<Figure size 432x288 with 1 Axes>"
      ]
     },
     "metadata": {
      "needs_background": "light"
     },
     "output_type": "display_data"
    }
   ],
   "source": [
    "compare_methods(X,Y,listAlgorithms,listParams,listNames,metric='recall')"
   ]
  },
  {
   "cell_type": "code",
   "execution_count": 21,
   "metadata": {},
   "outputs": [
    {
     "name": "stdout",
     "output_type": "stream",
     "text": [
      "temp.csv\n",
      "['Arbol' 'SVM' 'KNN' 'LR' 'MLP' 'RF' 'ET']\n",
      "==========================================================\n",
      "Report\n",
      "==========================================================\n",
      "**********************************************************\n",
      "Mean and std\n",
      "**********************************************************\n",
      "Arbol: 0.557273 (0.148494)\n",
      "SVM: 0.488182 (0.190348)\n",
      "KNN: 0.511818 (0.122174)\n",
      "LR: 0.342727 (0.107876)\n",
      "MLP: 0.352727 (0.098400)\n",
      "RF: 0.509091 (0.126426)\n",
      "ET: 0.517273 (0.134438)\n",
      "**********************************************************\n",
      "Statistical tests\n",
      "**********************************************************\n",
      "----------------------------------------------------------\n",
      "Checking parametric conditions \n",
      "----------------------------------------------------------\n",
      "Checking independence \n",
      "Ok\n",
      "Checking normality using Shapiro-Wilk's test for normality, alpha=0.05\n",
      "W: 0.946846, p:0.004974\n",
      "The null hypothesis (normality) is rejected\n",
      "Checking heteroscedasticity using Levene's test, alpha=0.05\n",
      "W: 0.921489, p:0.485699\n",
      "The null hypothesis (heteroscedasticity) is rejected\n",
      "Conditions for a parametric test are not fulfilled, applying a non-parametric test\n",
      "----------------------------------------------------------\n",
      "Working with more than 2 algorithms\n",
      "----------------------------------------------------------\n",
      "----------------------------------------------------------\n",
      "Applying Friedman test\n",
      "----------------------------------------------------------\n",
      "F-value: 2.389831, p-value: 0.04037024419300461\n",
      "Null hypothesis is rejected; hence, models have different performance\n",
      "Technique      Ranking\n",
      "-----------  ---------\n",
      "Arbol             5.05\n",
      "ET                4.65\n",
      "KNN               4.45\n",
      "RF                4.4\n",
      "SVM               4.25\n",
      "LR                2.65\n",
      "MLP               2.55\n",
      "Winner model: Arbol\n",
      "----------------------------------------------------------\n",
      "Applying Holm p-value adjustment procedure and analysing effect size\n",
      "----------------------------------------------------------\n",
      "Comparison      Zvalue     p-value    adjusted p-value\n",
      "------------  --------  ----------  ------------------\n",
      "Arbol vs MLP  2.58775   0.00966062           0.0579637\n",
      "Arbol vs LR   2.48424   0.012983             0.0649149\n",
      "Arbol vs SVM  0.828079  0.407626             1\n",
      "Arbol vs RF   0.672814  0.501066             1\n",
      "Arbol vs KNN  0.621059  0.534561             1\n",
      "Arbol vs ET   0.414039  0.678845             1\n",
      "There is a significant difference between the models: Arbol (mean: 0.557273, std: 0.148494) and MLP (mean: 0.352727, std: 0.098400) (Cohen's d=1.5405298711067466, Large)\n",
      "There is a significant difference between the models: Arbol (mean: 0.557273, std: 0.148494) and LR (mean: 0.342727, std: 0.107876) (Cohen's d=1.5682688388084765, Large)\n",
      "We can't say that there is a significant difference in the performance of the models: Arbol (mean: 0.557273, std: 0.148494) and SVM (mean: 0.488182, std: 0.190348) (Cohen's d=0.38396137181282125, Medium)\n",
      "We can't say that there is a significant difference in the performance of the models: Arbol (mean: 0.557273, std: 0.148494) and RF (mean: 0.509091, std: 0.126426) (Cohen's d=0.3314622671185514, Medium)\n",
      "We can't say that there is a significant difference in the performance of the models: Arbol (mean: 0.557273, std: 0.148494) and KNN (mean: 0.511818, std: 0.122174) (Cohen's d=0.3171382023648705, Medium)\n",
      "We can't say that there is a significant difference in the performance of the models: Arbol (mean: 0.557273, std: 0.148494) and ET (mean: 0.517273, std: 0.134438) (Cohen's d=0.2679133235183355, Medium)\n",
      "Eta squared: 0.252315 (Large)\n"
     ]
    },
    {
     "data": {
      "image/png": "[encoded data removed]",
      "text/plain": [
       "<Figure size 432x288 with 1 Axes>"
      ]
     },
     "metadata": {
      "needs_background": "light"
     },
     "output_type": "display_data"
    }
   ],
   "source": [
    "compare_methods(X,Y,listAlgorithms,listParams,listNames,metric='accuracy')"
   ]
  }
 ],
 "metadata": {
  "colab": {
   "name": "CompareMethods.ipynb",
   "provenance": []
  },
  "kernelspec": {
   "display_name": "Python 3",
   "language": "python",
   "name": "python3"
  },
  "language_info": {
   "codemirror_mode": {
    "name": "ipython",
    "version": 3
   },
   "file_extension": ".py",
   "mimetype": "text/x-python",
   "name": "python",
   "nbconvert_exporter": "python",
   "pygments_lexer": "ipython3",
   "version": "3.6.7"
  }
 },
 "nbformat": 4,
 "nbformat_minor": 1
}
