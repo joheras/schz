{
 "cells": [
  {
   "cell_type": "code",
   "execution_count": 1,
   "metadata": {
    "id": "9VdC2keIvxIJ"
   },
   "outputs": [],
   "source": [
    "import numpy as np\n",
    "from StatisticalAnalysis import compare_methods"
   ]
  },
  {
   "cell_type": "code",
   "execution_count": 2,
   "metadata": {
    "id": "3iCEO6wXtftF"
   },
   "outputs": [],
   "source": [
    "import warnings\n",
    "warnings.filterwarnings('ignore')"
   ]
  },
  {
   "cell_type": "markdown",
   "metadata": {
    "id": "Zb3btBk5vxIM"
   },
   "source": [
    "First we load the data and process it to have the correct form."
   ]
  },
  {
   "cell_type": "code",
   "execution_count": 3,
   "metadata": {
    "id": "StF6b56QvxIN"
   },
   "outputs": [],
   "source": [
    "corr_hc = np.load('corr_hc.npy')\n",
    "corr_schz = np.load('corr_schz.npy')"
   ]
  },
  {
   "cell_type": "code",
   "execution_count": 4,
   "metadata": {
    "id": "qd1nFcAfvxIO"
   },
   "outputs": [],
   "source": [
    "corr_hc = corr_hc.reshape(52,118*118)"
   ]
  },
  {
   "cell_type": "code",
   "execution_count": 5,
   "metadata": {
    "id": "fc006UE6vxIO"
   },
   "outputs": [],
   "source": [
    "corr_schz = corr_schz.reshape(50,118*118)"
   ]
  },
  {
   "cell_type": "code",
   "execution_count": 6,
   "metadata": {
    "id": "SEhdGg3IvxIP"
   },
   "outputs": [],
   "source": [
    "X = np.append(corr_hc,corr_schz,axis=0)"
   ]
  },
  {
   "cell_type": "code",
   "execution_count": 7,
   "metadata": {
    "colab": {
     "base_uri": "https://localhost:8080/"
    },
    "id": "8d-RFXoavxIQ",
    "outputId": "a61e1d34-79c6-4f1a-df1f-0b3a74b2c53d"
   },
   "outputs": [
    {
     "data": {
      "text/plain": [
       "(102, 13924)"
      ]
     },
     "execution_count": 7,
     "metadata": {},
     "output_type": "execute_result"
    }
   ],
   "source": [
    "X.shape"
   ]
  },
  {
   "cell_type": "code",
   "execution_count": 8,
   "metadata": {
    "colab": {
     "base_uri": "https://localhost:8080/"
    },
    "id": "hnaiAVUvJmgn",
    "outputId": "6cb5c264-f346-4b38-e85b-aa3b8bf8ace6"
   },
   "outputs": [
    {
     "data": {
      "text/plain": [
       "(13924,)"
      ]
     },
     "execution_count": 8,
     "metadata": {},
     "output_type": "execute_result"
    }
   ],
   "source": [
    "X[0].shape"
   ]
  },
  {
   "cell_type": "code",
   "execution_count": 9,
   "metadata": {
    "id": "5oh4k1gEvxIR"
   },
   "outputs": [],
   "source": [
    "Y = np.append(np.zeros(52),np.ones(50),axis=0)"
   ]
  },
  {
   "cell_type": "code",
   "execution_count": 10,
   "metadata": {
    "colab": {
     "base_uri": "https://localhost:8080/"
    },
    "id": "PZuBWU5LvxIR",
    "outputId": "21a0987a-b533-41fc-bea5-9f94b3246a66",
    "scrolled": true
   },
   "outputs": [
    {
     "data": {
      "text/plain": [
       "(102,)"
      ]
     },
     "execution_count": 10,
     "metadata": {},
     "output_type": "execute_result"
    }
   ],
   "source": [
    "Y.shape"
   ]
  },
  {
   "cell_type": "markdown",
   "metadata": {
    "id": "w2w8w0VjvxIS"
   },
   "source": [
    "Now, we define the algorithms that we are going to use. "
   ]
  },
  {
   "cell_type": "code",
   "execution_count": 11,
   "metadata": {
    "id": "MEPfV3efvxIS"
   },
   "outputs": [],
   "source": [
    "from sklearn.tree import DecisionTreeClassifier\n",
    "from sklearn.neighbors import KNeighborsClassifier\n",
    "from sklearn.linear_model import LogisticRegression\n",
    "from sklearn.svm import SVC\n",
    "from sklearn.neural_network import MLPClassifier\n",
    "from sklearn.ensemble import ExtraTreesClassifier\n",
    "from sklearn.ensemble import GradientBoostingClassifier\n",
    "from sklearn.ensemble import RandomForestClassifier\n",
    "from sklearn.ensemble import AdaBoostClassifier\n",
    "from scipy.stats import randint as sp_randint"
   ]
  },
  {
   "cell_type": "code",
   "execution_count": 12,
   "metadata": {
    "id": "YwnPEwswvxIU"
   },
   "outputs": [],
   "source": [
    "# Decision tree\n",
    "clfTree = DecisionTreeClassifier(random_state=84)\n",
    "param_distTree = {\"min_samples_split\": sp_randint(3, 30)}\n",
    "# SVM\n",
    "clfSVC = SVC(random_state=84)\n",
    "param_distSVC = {'C': [1, 10, 100, 1000], 'gamma': [0.001, 0.0001],'kernel': ['rbf'], 'class_weight':['balanced', None]}\n",
    "# KNN\n",
    "clfKNN = KNeighborsClassifier()\n",
    "param_distKNN = {'n_neighbors':sp_randint(3, 30)}\n",
    "# Logistic regression\n",
    "clfLR = LogisticRegression(random_state=84)\n",
    "param_distLR = {'C': [0.1,0.5,1, 10, 100, 1000]}\n",
    "# Neural Network\n",
    "clfMLP = MLPClassifier(random_state=84)\n",
    "param_distMLP = {'activation': ['identity', 'logistic', 'tanh', 'relu'], 'solver': ['lbfgs', 'sgd', 'adam'],\n",
    "                 'alpha': sp_randint(0.0001, 1), 'learning_rate': ['constant', 'invscaling', 'adaptive'],\n",
    "                 'hidden_layer_sizes': [(5,2), (3,3,3), (5,3,2), (5,4,3,2)],\n",
    "                 'momentum': [0.9, 0.95, 0.99]}\n",
    "# RandomForest\n",
    "clfRF = RandomForestClassifier(random_state=84)\n",
    "param_distRF =  {'n_estimators': [int(x) for x in np.linspace(start = 200, stop = 2000, num = 10)], 'max_features': ['auto', 'sqrt'],'max_depth': [int(x) for x in np.linspace(10, 110, num = 11)],\n",
    "                 'min_samples_split': [2, 5, 10],'min_samples_leaf': [1, 2, 4],\n",
    "                 'bootstrap': [True, False]}\n",
    "# ExtraTreesClassifier\n",
    "clfET = ExtraTreesClassifier(random_state=84)\n",
    "param_distET =  {'n_estimators': [int(x) for x in np.linspace(start = 200, stop = 2000, num = 10)], 'max_features': ['auto', 'sqrt'],'max_depth': [int(x) for x in np.linspace(10, 110, num = 11)],\n",
    "                 'min_samples_split': [2, 5, 10],'min_samples_leaf': [1, 2, 4],\n",
    "                 'bootstrap': [True, False]}"
   ]
  },
  {
   "cell_type": "code",
   "execution_count": 13,
   "metadata": {
    "id": "GGQcPxBOvxIV"
   },
   "outputs": [],
   "source": [
    "listAlgorithms = [clfTree,clfSVC,clfKNN,clfLR,clfMLP,clfRF,clfET]"
   ]
  },
  {
   "cell_type": "code",
   "execution_count": 14,
   "metadata": {
    "id": "8Nl-1GpjvxIV"
   },
   "outputs": [],
   "source": [
    "listParams = [param_distTree,param_distSVC,param_distKNN,param_distLR,param_distMLP,param_distRF, param_distET]"
   ]
  },
  {
   "cell_type": "code",
   "execution_count": 15,
   "metadata": {
    "id": "IK_8iIWovxIV"
   },
   "outputs": [],
   "source": [
    "listNames = [\"Arbol\", \"SVM\", \"KNN\", \"LR\", \"MLP\",\"RF\",\"ET\"]"
   ]
  },
  {
   "cell_type": "markdown",
   "metadata": {},
   "source": [
    "# Plain comparison"
   ]
  },
  {
   "cell_type": "code",
   "execution_count": 16,
   "metadata": {
    "id": "LSSesjlBvxIV"
   },
   "outputs": [
    {
     "name": "stdout",
     "output_type": "stream",
     "text": [
      "temp.csv\n",
      "['Arbol' 'SVM' 'KNN' 'LR' 'MLP' 'RF' 'ET']\n",
      "==========================================================\n",
      "Report\n",
      "==========================================================\n",
      "**********************************************************\n",
      "Mean and std\n",
      "**********************************************************\n",
      "Arbol: 0.571845 (0.138296)\n",
      "SVM: 0.638631 (0.136986)\n",
      "KNN: 0.535536 (0.157887)\n",
      "LR: 0.653214 (0.127111)\n",
      "MLP: 0.710060 (0.144832)\n",
      "RF: 0.635952 (0.126980)\n",
      "ET: 0.644286 (0.109247)\n",
      "**********************************************************\n",
      "Statistical tests\n",
      "**********************************************************\n",
      "----------------------------------------------------------\n",
      "Checking parametric conditions \n",
      "----------------------------------------------------------\n",
      "Checking independence \n",
      "Ok\n",
      "Checking normality using Shapiro-Wilk's test for normality, alpha=0.05\n",
      "W: 0.969455, p:0.084896\n",
      "The null hypothesis (normality) is rejected\n",
      "Checking heteroscedasticity using Levene's test, alpha=0.05\n",
      "W: 0.170961, p:0.983669\n",
      "The null hypothesis (heteroscedasticity) is accepted\n",
      "Conditions for a parametric test are not fulfilled, applying a non-parametric test\n",
      "----------------------------------------------------------\n",
      "Working with more than 2 algorithms\n",
      "----------------------------------------------------------\n",
      "----------------------------------------------------------\n",
      "Applying Friedman test\n",
      "----------------------------------------------------------\n",
      "F-value: 2.175166, p-value: 0.05957378410499459\n",
      "Null hypothesis is rejected; hence, models have different performance\n",
      "Technique      Ranking\n",
      "-----------  ---------\n",
      "MLP               5.5\n",
      "LR                4.45\n",
      "RF                4.15\n",
      "ET                4.05\n",
      "SVM               4\n",
      "Arbol             3.5\n",
      "KNN               2.35\n",
      "Winner model: MLP\n",
      "----------------------------------------------------------\n",
      "Applying Holm p-value adjustment procedure and analysing effect size\n",
      "----------------------------------------------------------\n",
      "Comparison      Zvalue     p-value    adjusted p-value\n",
      "------------  --------  ----------  ------------------\n",
      "MLP vs KNN     3.26056  0.00111193          0.00667155\n",
      "MLP vs Arbol   2.0702   0.0384339           0.19217\n",
      "MLP vs SVM     1.55265  0.120507            0.482029\n",
      "MLP vs ET      1.50089  0.133383            0.482029\n",
      "MLP vs RF      1.39738  0.162299            0.482029\n",
      "MLP vs LR      1.08685  0.277102            0.482029\n",
      "There is a significant difference between the models: MLP (mean: 0.710060, std: 0.144832) and KNN (mean: 0.535536, std: 0.157887) (Cohen's d=1.0928542230173395, Large)\n",
      "There is a significant difference between the models: MLP (mean: 0.710060, std: 0.144832) and Arbol (mean: 0.571845, std: 0.138296) (Cohen's d=0.925988849443534, Large)\n",
      "There is a significant difference between the models: MLP (mean: 0.710060, std: 0.144832) and SVM (mean: 0.638631, std: 0.136986) (Cohen's d=0.4807133095548718, Medium)\n",
      "There is a significant difference between the models: MLP (mean: 0.710060, std: 0.144832) and ET (mean: 0.644286, std: 0.109247) (Cohen's d=0.4864267897992978, Medium)\n",
      "There is a significant difference between the models: MLP (mean: 0.710060, std: 0.144832) and RF (mean: 0.635952, std: 0.126980) (Cohen's d=0.5161880385301426, Large)\n",
      "There is a significant difference between the models: MLP (mean: 0.710060, std: 0.144832) and LR (mean: 0.653214, std: 0.127111) (Cohen's d=0.3957742411551125, Medium)\n",
      "Eta squared: 0.132240 (Large)\n"
     ]
    },
    {
     "data": {
      "image/png": "[encoded data removed]",
      "text/plain": [
       "<Figure size 432x288 with 1 Axes>"
      ]
     },
     "metadata": {
      "needs_background": "light"
     },
     "output_type": "display_data"
    }
   ],
   "source": [
    "compare_methods(X,Y,listAlgorithms,listParams,listNames,metric='auroc')"
   ]
  },
  {
   "cell_type": "markdown",
   "metadata": {
    "id": "9RmrYzBMOAXv"
   },
   "source": [
    "# PCA with 2 components"
   ]
  },
  {
   "cell_type": "code",
   "execution_count": 17,
   "metadata": {
    "id": "Sjjc5WXGvxIX"
   },
   "outputs": [],
   "source": [
    "from sklearn.decomposition import PCA"
   ]
  },
  {
   "cell_type": "code",
   "execution_count": 18,
   "metadata": {
    "id": "edHm_G34N87W"
   },
   "outputs": [],
   "source": [
    "pca = PCA(n_components=2)"
   ]
  },
  {
   "cell_type": "code",
   "execution_count": 19,
   "metadata": {
    "id": "H4lw_jzBODCv"
   },
   "outputs": [
    {
     "data": {
      "text/plain": [
       "PCA(n_components=2)"
      ]
     },
     "execution_count": 19,
     "metadata": {},
     "output_type": "execute_result"
    }
   ],
   "source": [
    "pca.fit(X)"
   ]
  },
  {
   "cell_type": "code",
   "execution_count": 20,
   "metadata": {
    "id": "ImTFoLrKOFHZ"
   },
   "outputs": [],
   "source": [
    "X_pca2 = pca.transform(X)"
   ]
  },
  {
   "cell_type": "code",
   "execution_count": 21,
   "metadata": {
    "id": "5nt7OQ61JuKG"
   },
   "outputs": [
    {
     "data": {
      "text/plain": [
       "(102, 2)"
      ]
     },
     "execution_count": 21,
     "metadata": {},
     "output_type": "execute_result"
    }
   ],
   "source": [
    "X_pca2.shape"
   ]
  },
  {
   "cell_type": "code",
   "execution_count": 22,
   "metadata": {
    "id": "KyVbCZLpOInH"
   },
   "outputs": [
    {
     "name": "stdout",
     "output_type": "stream",
     "text": [
      "temp.csv\n",
      "['Arbol' 'SVM' 'KNN' 'LR' 'MLP' 'RF' 'ET']\n",
      "==========================================================\n",
      "Report\n",
      "==========================================================\n",
      "**********************************************************\n",
      "Mean and std\n",
      "**********************************************************\n",
      "Arbol: 0.563036 (0.144517)\n",
      "SVM: 0.597560 (0.114921)\n",
      "KNN: 0.639226 (0.177934)\n",
      "LR: 0.532500 (0.099141)\n",
      "MLP: 0.560952 (0.123839)\n",
      "RF: 0.632381 (0.080458)\n",
      "ET: 0.520417 (0.083462)\n",
      "**********************************************************\n",
      "Statistical tests\n",
      "**********************************************************\n",
      "----------------------------------------------------------\n",
      "Checking parametric conditions \n",
      "----------------------------------------------------------\n",
      "Checking independence \n",
      "Ok\n",
      "Checking normality using Shapiro-Wilk's test for normality, alpha=0.05\n",
      "W: 0.981573, p:0.392070\n",
      "The null hypothesis (normality) is rejected\n",
      "Checking heteroscedasticity using Levene's test, alpha=0.05\n",
      "W: 1.119516, p:0.361296\n",
      "The null hypothesis (heteroscedasticity) is rejected\n",
      "Conditions for a parametric test are not fulfilled, applying a non-parametric test\n",
      "----------------------------------------------------------\n",
      "Working with more than 2 algorithms\n",
      "----------------------------------------------------------\n",
      "----------------------------------------------------------\n",
      "Applying Friedman test\n",
      "----------------------------------------------------------\n",
      "F-value: 2.202489, p-value: 0.056703707555626814\n",
      "Null hypothesis is rejected; hence, models have different performance\n",
      "Technique      Ranking\n",
      "-----------  ---------\n",
      "KNN               5.25\n",
      "RF                4.9\n",
      "SVM               4.75\n",
      "MLP               3.6\n",
      "Arbol             3.6\n",
      "LR                3.1\n",
      "ET                2.8\n",
      "Winner model: KNN\n",
      "----------------------------------------------------------\n",
      "Applying Holm p-value adjustment procedure and analysing effect size\n",
      "----------------------------------------------------------\n",
      "Comparison      Zvalue    p-value    adjusted p-value\n",
      "------------  --------  ---------  ------------------\n",
      "KNN vs ET     2.53599   0.011213            0.0672778\n",
      "KNN vs LR     2.22546   0.0260503           0.130251\n",
      "KNN vs Arbol  1.70791   0.0876526           0.35061\n",
      "KNN vs MLP    1.70791   0.0876526           0.35061\n",
      "KNN vs SVM    0.517549  0.604773            1\n",
      "KNN vs RF     0.362284  0.71714             1\n",
      "There is a significant difference between the models: KNN (mean: 0.639226, std: 0.177934) and ET (mean: 0.520417, std: 0.083462) (Cohen's d=0.8110452682959634, Large)\n",
      "There is a significant difference between the models: KNN (mean: 0.639226, std: 0.177934) and LR (mean: 0.532500, std: 0.099141) (Cohen's d=0.7029711188158729, Large)\n",
      "There is a significant difference between the models: KNN (mean: 0.639226, std: 0.177934) and Arbol (mean: 0.563036, std: 0.144517) (Cohen's d=0.4459314082342907, Medium)\n",
      "There is a significant difference between the models: KNN (mean: 0.639226, std: 0.177934) and MLP (mean: 0.560952, std: 0.123839) (Cohen's d=0.484416182025281, Medium)\n",
      "We can't say that there is a significant difference in the performance of the models: KNN (mean: 0.639226, std: 0.177934) and SVM (mean: 0.597560, std: 0.114921) (Cohen's d=0.2639122244215652, Medium)\n",
      "We can't say that there is a significant difference in the performance of the models: KNN (mean: 0.639226, std: 0.177934) and RF (mean: 0.632381, std: 0.080458) (Cohen's d=0.04702924075451349, Small)\n",
      "Eta squared: 0.110691 (Large)\n"
     ]
    },
    {
     "data": {
      "image/png": "[encoded data removed]",
      "text/plain": [
       "<Figure size 432x288 with 1 Axes>"
      ]
     },
     "metadata": {
      "needs_background": "light"
     },
     "output_type": "display_data"
    }
   ],
   "source": [
    "compare_methods(X_pca2,Y,listAlgorithms,listParams,listNames,metric='auroc')"
   ]
  },
  {
   "cell_type": "markdown",
   "metadata": {
    "id": "4_aNOwHHORLf"
   },
   "source": [
    "# PCA with 10 components"
   ]
  },
  {
   "cell_type": "code",
   "execution_count": 23,
   "metadata": {
    "id": "XoW_W87nONDr"
   },
   "outputs": [],
   "source": [
    "pca = PCA(n_components=10)"
   ]
  },
  {
   "cell_type": "code",
   "execution_count": 24,
   "metadata": {
    "id": "D6xAEHgfOXqw"
   },
   "outputs": [
    {
     "data": {
      "text/plain": [
       "PCA(n_components=10)"
      ]
     },
     "execution_count": 24,
     "metadata": {},
     "output_type": "execute_result"
    }
   ],
   "source": [
    "pca.fit(X)"
   ]
  },
  {
   "cell_type": "code",
   "execution_count": 25,
   "metadata": {
    "id": "UsP9oOY0OYu2"
   },
   "outputs": [],
   "source": [
    "X_pca10 = pca.transform(X)"
   ]
  },
  {
   "cell_type": "code",
   "execution_count": 26,
   "metadata": {
    "id": "GJl8Qwv_OgCN"
   },
   "outputs": [],
   "source": [
    "!mv temp.csv temppca2.csv"
   ]
  },
  {
   "cell_type": "code",
   "execution_count": 27,
   "metadata": {
    "id": "fQo9oAaWObE9"
   },
   "outputs": [
    {
     "name": "stdout",
     "output_type": "stream",
     "text": [
      "temp.csv\n",
      "['Arbol' 'SVM' 'KNN' 'LR' 'MLP' 'RF' 'ET']\n",
      "==========================================================\n",
      "Report\n",
      "==========================================================\n",
      "**********************************************************\n",
      "Mean and std\n",
      "**********************************************************\n",
      "Arbol: 0.563036 (0.097447)\n",
      "SVM: 0.628214 (0.141538)\n",
      "KNN: 0.737024 (0.139408)\n",
      "LR: 0.591429 (0.203376)\n",
      "MLP: 0.541429 (0.140943)\n",
      "RF: 0.563155 (0.148870)\n",
      "ET: 0.575357 (0.187613)\n",
      "**********************************************************\n",
      "Statistical tests\n",
      "**********************************************************\n",
      "----------------------------------------------------------\n",
      "Checking parametric conditions \n",
      "----------------------------------------------------------\n",
      "Checking independence \n",
      "Ok\n",
      "Checking normality using Shapiro-Wilk's test for normality, alpha=0.05\n",
      "W: 0.979125, p:0.292832\n",
      "The null hypothesis (normality) is rejected\n",
      "Checking heteroscedasticity using Levene's test, alpha=0.05\n",
      "W: 0.863863, p:0.526436\n",
      "The null hypothesis (heteroscedasticity) is accepted\n",
      "Conditions for a parametric test are not fulfilled, applying a non-parametric test\n",
      "----------------------------------------------------------\n",
      "Working with more than 2 algorithms\n",
      "----------------------------------------------------------\n",
      "----------------------------------------------------------\n",
      "Applying Friedman test\n",
      "----------------------------------------------------------\n",
      "F-value: 2.292852, p-value: 0.04814401191320716\n",
      "Null hypothesis is rejected; hence, models have different performance\n",
      "Technique      Ranking\n",
      "-----------  ---------\n",
      "KNN               5.95\n",
      "SVM               4.6\n",
      "LR                3.8\n",
      "ET                3.65\n",
      "MLP               3.4\n",
      "Arbol             3.4\n",
      "RF                3.2\n",
      "Winner model: KNN\n",
      "----------------------------------------------------------\n",
      "Applying Holm p-value adjustment procedure and analysing effect size\n",
      "----------------------------------------------------------\n",
      "Comparison      Zvalue     p-value    adjusted p-value\n",
      "------------  --------  ----------  ------------------\n",
      "KNN vs RF      2.84652  0.00441999           0.0265199\n",
      "KNN vs Arbol   2.6395   0.00830282           0.0415141\n",
      "KNN vs MLP     2.6395   0.00830282           0.0415141\n",
      "KNN vs ET      2.38073  0.0172786            0.0518357\n",
      "KNN vs LR      2.22546  0.0260503            0.0521006\n",
      "KNN vs SVM     1.39738  0.162299             0.162299\n",
      "There is a significant difference between the models: KNN (mean: 0.737024, std: 0.139408) and RF (mean: 0.563155, std: 0.148870) (Cohen's d=1.1437421326732469, Large)\n",
      "There is a significant difference between the models: KNN (mean: 0.737024, std: 0.139408) and Arbol (mean: 0.563036, std: 0.097447) (Cohen's d=1.3723908009057644, Large)\n",
      "There is a significant difference between the models: KNN (mean: 0.737024, std: 0.139408) and MLP (mean: 0.541429, std: 0.140943) (Cohen's d=1.323736737614263, Large)\n",
      "There is a significant difference between the models: KNN (mean: 0.737024, std: 0.139408) and ET (mean: 0.575357, std: 0.187613) (Cohen's d=0.9279568336700011, Large)\n",
      "There is a significant difference between the models: KNN (mean: 0.737024, std: 0.139408) and LR (mean: 0.591429, std: 0.203376) (Cohen's d=0.7922175155971785, Large)\n",
      "There is a significant difference between the models: KNN (mean: 0.737024, std: 0.139408) and SVM (mean: 0.628214, std: 0.141538) (Cohen's d=0.7348222941804688, Large)\n",
      "Eta squared: 0.136147 (Large)\n"
     ]
    },
    {
     "data": {
      "image/png": "[encoded data removed]",
      "text/plain": [
       "<Figure size 432x288 with 1 Axes>"
      ]
     },
     "metadata": {
      "needs_background": "light"
     },
     "output_type": "display_data"
    }
   ],
   "source": [
    "compare_methods(X_pca10,Y,listAlgorithms,listParams,listNames,metric='auroc')"
   ]
  },
  {
   "cell_type": "code",
   "execution_count": 28,
   "metadata": {
    "id": "uUqwDOQLOjtd"
   },
   "outputs": [],
   "source": [
    "!mv temp.csv temppca10.csv"
   ]
  },
  {
   "cell_type": "markdown",
   "metadata": {
    "id": "7wgUs9MrOuQE"
   },
   "source": [
    "# PCA with 100 components"
   ]
  },
  {
   "cell_type": "code",
   "execution_count": 29,
   "metadata": {
    "id": "Ef54_v0COuQF"
   },
   "outputs": [],
   "source": [
    "pca = PCA(n_components=100)"
   ]
  },
  {
   "cell_type": "code",
   "execution_count": 30,
   "metadata": {
    "id": "ejF2FGo0OuQG"
   },
   "outputs": [
    {
     "data": {
      "text/plain": [
       "PCA(n_components=100)"
      ]
     },
     "execution_count": 30,
     "metadata": {},
     "output_type": "execute_result"
    }
   ],
   "source": [
    "pca.fit(X)"
   ]
  },
  {
   "cell_type": "code",
   "execution_count": 31,
   "metadata": {
    "id": "AAI4QlOZOuQG"
   },
   "outputs": [],
   "source": [
    "X_pca100 = pca.transform(X)"
   ]
  },
  {
   "cell_type": "code",
   "execution_count": 32,
   "metadata": {
    "id": "JVbgf7IdOuQH"
   },
   "outputs": [
    {
     "name": "stdout",
     "output_type": "stream",
     "text": [
      "temp.csv\n",
      "['Arbol' 'SVM' 'KNN' 'LR' 'MLP' 'RF' 'ET']\n",
      "==========================================================\n",
      "Report\n",
      "==========================================================\n",
      "**********************************************************\n",
      "Mean and std\n",
      "**********************************************************\n",
      "Arbol: 0.502321 (0.207704)\n",
      "SVM: 0.658274 (0.139687)\n",
      "KNN: 0.535536 (0.157887)\n",
      "LR: 0.653214 (0.127111)\n",
      "MLP: 0.605179 (0.108865)\n",
      "RF: 0.466012 (0.146655)\n",
      "ET: 0.474821 (0.136024)\n",
      "**********************************************************\n",
      "Statistical tests\n",
      "**********************************************************\n",
      "----------------------------------------------------------\n",
      "Checking parametric conditions \n",
      "----------------------------------------------------------\n",
      "Checking independence \n",
      "Ok\n",
      "Checking normality using Shapiro-Wilk's test for normality, alpha=0.05\n",
      "W: 0.967056, p:0.062109\n",
      "The null hypothesis (normality) is rejected\n",
      "Checking heteroscedasticity using Levene's test, alpha=0.05\n",
      "W: 1.435144, p:0.215454\n",
      "The null hypothesis (heteroscedasticity) is rejected\n",
      "Conditions for a parametric test are not fulfilled, applying a non-parametric test\n",
      "----------------------------------------------------------\n",
      "Working with more than 2 algorithms\n",
      "----------------------------------------------------------\n",
      "----------------------------------------------------------\n",
      "Applying Friedman test\n",
      "----------------------------------------------------------\n",
      "F-value: 4.111342, p-value: 0.0018062490752296378\n",
      "Null hypothesis is rejected; hence, models have different performance\n",
      "Technique      Ranking\n",
      "-----------  ---------\n",
      "SVM               5.6\n",
      "LR                5.3\n",
      "MLP               4.6\n",
      "KNN               3.85\n",
      "Arbol             3.35\n",
      "ET                2.85\n",
      "RF                2.45\n",
      "Winner model: SVM\n",
      "----------------------------------------------------------\n",
      "Applying Holm p-value adjustment procedure and analysing effect size\n",
      "----------------------------------------------------------\n",
      "Comparison      Zvalue     p-value    adjusted p-value\n",
      "------------  --------  ----------  ------------------\n",
      "SVM vs RF      3.26056  0.00111193          0.00667155\n",
      "SVM vs ET      2.84652  0.00441999          0.0220999\n",
      "SVM vs Arbol   2.32897  0.0198606           0.0794424\n",
      "SVM vs KNN     1.81142  0.0700755           0.210227\n",
      "SVM vs MLP     1.0351   0.300623            0.601246\n",
      "SVM vs LR      0.31053  0.756158            0.756158\n",
      "There is a significant difference between the models: SVM (mean: 0.658274, std: 0.139687) and RF (mean: 0.466012, std: 0.146655) (Cohen's d=1.273589711342852, Large)\n",
      "There is a significant difference between the models: SVM (mean: 0.658274, std: 0.139687) and ET (mean: 0.474821, std: 0.136024) (Cohen's d=1.262354612111314, Large)\n",
      "There is a significant difference between the models: SVM (mean: 0.658274, std: 0.139687) and Arbol (mean: 0.502321, std: 0.207704) (Cohen's d=0.8359025794731755, Large)\n",
      "There is a significant difference between the models: SVM (mean: 0.658274, std: 0.139687) and KNN (mean: 0.535536, std: 0.157887) (Cohen's d=0.7811312799803629, Large)\n",
      "We can't say that there is a significant difference in the performance of the models: SVM (mean: 0.658274, std: 0.139687) and MLP (mean: 0.605179, std: 0.108865) (Cohen's d=0.4022302809086244, Medium)\n",
      "We can't say that there is a significant difference in the performance of the models: SVM (mean: 0.658274, std: 0.139687) and LR (mean: 0.653214, std: 0.127111) (Cohen's d=0.03594150309855812, Small)\n",
      "Eta squared: 0.205779 (Large)\n"
     ]
    },
    {
     "data": {
      "image/png": "[encoded data removed]",
      "text/plain": [
       "<Figure size 432x288 with 1 Axes>"
      ]
     },
     "metadata": {
      "needs_background": "light"
     },
     "output_type": "display_data"
    }
   ],
   "source": [
    "compare_methods(X_pca100,Y,listAlgorithms,listParams,listNames,metric='auroc')"
   ]
  },
  {
   "cell_type": "code",
   "execution_count": 33,
   "metadata": {
    "id": "DNplq4INOuQI"
   },
   "outputs": [],
   "source": [
    "!mv temp.csv temppca100.csv"
   ]
  },
  {
   "cell_type": "markdown",
   "metadata": {
    "id": "B9xyvRUBJ4Yg"
   },
   "source": [
    "# TSNE with 2 components"
   ]
  },
  {
   "cell_type": "code",
   "execution_count": 34,
   "metadata": {
    "id": "cgeSd7wqJ4MA"
   },
   "outputs": [],
   "source": [
    "from sklearn.manifold import TSNE"
   ]
  },
  {
   "cell_type": "code",
   "execution_count": 35,
   "metadata": {
    "id": "VqpY0-F7JWkP"
   },
   "outputs": [],
   "source": [
    "Xtsne2 = TSNE(n_components=2).fit_transform(X)"
   ]
  },
  {
   "cell_type": "code",
   "execution_count": 36,
   "metadata": {
    "id": "JLGsE9ymKGAf"
   },
   "outputs": [
    {
     "name": "stdout",
     "output_type": "stream",
     "text": [
      "temp.csv\n",
      "['Arbol' 'SVM' 'KNN' 'LR' 'MLP' 'RF' 'ET']\n",
      "==========================================================\n",
      "Report\n",
      "==========================================================\n",
      "**********************************************************\n",
      "Mean and std\n",
      "**********************************************************\n",
      "Arbol: 0.509464 (0.164810)\n",
      "SVM: 0.598512 (0.144009)\n",
      "KNN: 0.576131 (0.182785)\n",
      "LR: 0.532560 (0.137716)\n",
      "MLP: 0.596667 (0.113469)\n",
      "RF: 0.579881 (0.095107)\n",
      "ET: 0.558155 (0.118819)\n",
      "**********************************************************\n",
      "Statistical tests\n",
      "**********************************************************\n",
      "----------------------------------------------------------\n",
      "Checking parametric conditions \n",
      "----------------------------------------------------------\n",
      "Checking independence \n",
      "Ok\n",
      "Checking normality using Shapiro-Wilk's test for normality, alpha=0.05\n",
      "W: 0.974450, p:0.162403\n",
      "The null hypothesis (normality) is rejected\n",
      "Checking heteroscedasticity using Levene's test, alpha=0.05\n",
      "W: 0.417293, p:0.864849\n",
      "The null hypothesis (heteroscedasticity) is accepted\n",
      "Conditions for a parametric test are not fulfilled, applying a non-parametric test\n",
      "----------------------------------------------------------\n",
      "Working with more than 2 algorithms\n",
      "----------------------------------------------------------\n",
      "----------------------------------------------------------\n",
      "Applying Friedman test\n",
      "----------------------------------------------------------\n",
      "F-value: 0.445277, p-value: 0.8451262357512135\n",
      "Null hypothesis is accepted; hence, we can't say that there is a significant difference in the performance of the models\n",
      "----------------------------------------------------------\n",
      "Analysing effect size\n",
      "----------------------------------------------------------\n",
      "We take the model with the best mean (SVM, mean: 0.598512) and compare it with the other models: \n",
      "Comparing effect size of SVM and Arbol: Cohen's d=0.545866778216717, Large\n",
      "Comparing effect size of SVM and KNN: Cohen's d=0.12903866941705902, Small\n",
      "Comparing effect size of SVM and LR: Cohen's d=0.4440671526042024, Medium\n",
      "Comparing effect size of SVM and MLP: Cohen's d=0.01350302280768862, Small\n",
      "Comparing effect size of SVM and RF: Cohen's d=0.14483739496006084, Small\n",
      "Comparing effect size of SVM and ET: Cohen's d=0.29001138913799307, Medium\n",
      "Eta squared: 0.046533 (Medium)\n"
     ]
    },
    {
     "data": {
      "image/png": "[encoded data removed]",
      "text/plain": [
       "<Figure size 432x288 with 1 Axes>"
      ]
     },
     "metadata": {
      "needs_background": "light"
     },
     "output_type": "display_data"
    }
   ],
   "source": [
    "compare_methods(Xtsne2,Y,listAlgorithms,listParams,listNames,metric='auroc')"
   ]
  },
  {
   "cell_type": "code",
   "execution_count": 37,
   "metadata": {
    "id": "9s4RecsnKMgQ"
   },
   "outputs": [],
   "source": [
    "!mv temp.csv temptsne2.csv"
   ]
  },
  {
   "cell_type": "markdown",
   "metadata": {},
   "source": [
    "# TSNE with 3 components"
   ]
  },
  {
   "cell_type": "code",
   "execution_count": 38,
   "metadata": {
    "id": "ROSlAByBKUuE"
   },
   "outputs": [
    {
     "name": "stdout",
     "output_type": "stream",
     "text": [
      "temp.csv\n",
      "['Arbol' 'SVM' 'KNN' 'LR' 'MLP' 'RF' 'ET']\n",
      "==========================================================\n",
      "Report\n",
      "==========================================================\n",
      "**********************************************************\n",
      "Mean and std\n",
      "**********************************************************\n",
      "Arbol: 0.555298 (0.263285)\n",
      "SVM: 0.530655 (0.089445)\n",
      "KNN: 0.475298 (0.200976)\n",
      "LR: 0.406012 (0.144827)\n",
      "MLP: 0.548631 (0.091143)\n",
      "RF: 0.622917 (0.127595)\n",
      "ET: 0.540298 (0.146553)\n",
      "**********************************************************\n",
      "Statistical tests\n",
      "**********************************************************\n",
      "----------------------------------------------------------\n",
      "Checking parametric conditions \n",
      "----------------------------------------------------------\n",
      "Checking independence \n",
      "Ok\n",
      "Checking normality using Shapiro-Wilk's test for normality, alpha=0.05\n",
      "W: 0.983432, p:0.482984\n",
      "The null hypothesis (normality) is rejected\n",
      "Checking heteroscedasticity using Levene's test, alpha=0.05\n",
      "W: 3.594251, p:0.003974\n",
      "The null hypothesis (heteroscedasticity) is rejected\n",
      "Conditions for a parametric test are not fulfilled, applying a non-parametric test\n",
      "----------------------------------------------------------\n",
      "Working with more than 2 algorithms\n",
      "----------------------------------------------------------\n",
      "----------------------------------------------------------\n",
      "Applying Friedman test\n",
      "----------------------------------------------------------\n",
      "F-value: 1.783055, p-value: 0.12000061613508162\n",
      "Null hypothesis is rejected; hence, models have different performance\n",
      "Technique      Ranking\n",
      "-----------  ---------\n",
      "RF                5.35\n",
      "ET                4.5\n",
      "SVM               4.15\n",
      "Arbol             4.1\n",
      "MLP               4.05\n",
      "KNN               3.25\n",
      "LR                2.6\n",
      "Winner model: RF\n",
      "----------------------------------------------------------\n",
      "Applying Holm p-value adjustment procedure and analysing effect size\n",
      "----------------------------------------------------------\n",
      "Comparison      Zvalue     p-value    adjusted p-value\n",
      "------------  --------  ----------  ------------------\n",
      "RF vs LR      2.84652   0.00441999           0.0265199\n",
      "RF vs KNN     2.17371   0.0297272            0.148636\n",
      "RF vs MLP     1.34563   0.178423             0.71369\n",
      "RF vs Arbol   1.29387   0.195709             0.71369\n",
      "RF vs SVM     1.24212   0.214193             0.71369\n",
      "RF vs ET      0.879834  0.378949             0.71369\n",
      "There is a significant difference between the models: RF (mean: 0.622917, std: 0.127595) and LR (mean: 0.406012, std: 0.144827) (Cohen's d=1.5076832371460938, Large)\n",
      "There is a significant difference between the models: RF (mean: 0.622917, std: 0.127595) and KNN (mean: 0.475298, std: 0.200976) (Cohen's d=0.8319459892301657, Large)\n",
      "We can't say that there is a significant difference in the performance of the models: RF (mean: 0.622917, std: 0.127595) and MLP (mean: 0.548631, std: 0.091143) (Cohen's d=0.635598414452996, Large)\n",
      "We can't say that there is a significant difference in the performance of the models: RF (mean: 0.622917, std: 0.127595) and Arbol (mean: 0.555298, std: 0.263285) (Cohen's d=0.3100771531329071, Medium)\n",
      "We can't say that there is a significant difference in the performance of the models: RF (mean: 0.622917, std: 0.127595) and SVM (mean: 0.530655, std: 0.089445) (Cohen's d=0.7943757912731549, Large)\n",
      "We can't say that there is a significant difference in the performance of the models: RF (mean: 0.622917, std: 0.127595) and ET (mean: 0.540298, std: 0.146553) (Cohen's d=0.5704407716093872, Large)\n",
      "Eta squared: 0.131430 (Large)\n"
     ]
    },
    {
     "data": {
      "image/png": "[encoded data removed]",
      "text/plain": [
       "<Figure size 432x288 with 1 Axes>"
      ]
     },
     "metadata": {
      "needs_background": "light"
     },
     "output_type": "display_data"
    }
   ],
   "source": [
    "Xtsne3 = TSNE(n_components=3).fit_transform(X)\n",
    "compare_methods(Xtsne3,Y,listAlgorithms,listParams,listNames,metric='auroc')"
   ]
  },
  {
   "cell_type": "code",
   "execution_count": 39,
   "metadata": {
    "id": "rAl1ayHcKbSF"
   },
   "outputs": [],
   "source": [
    "!mv temp.csv temptsne3.csv"
   ]
  },
  {
   "cell_type": "markdown",
   "metadata": {},
   "source": [
    "# UMAP with 2 components"
   ]
  },
  {
   "cell_type": "code",
   "execution_count": 40,
   "metadata": {
    "id": "T45s4ka649by"
   },
   "outputs": [],
   "source": [
    "from umap import UMAP"
   ]
  },
  {
   "cell_type": "code",
   "execution_count": 41,
   "metadata": {
    "id": "y-O-MGt_5AC4"
   },
   "outputs": [],
   "source": [
    "reducer = UMAP()"
   ]
  },
  {
   "cell_type": "code",
   "execution_count": 42,
   "metadata": {
    "id": "h3U_6qzL5bR_"
   },
   "outputs": [],
   "source": [
    "Xumap = reducer.fit_transform(X)"
   ]
  },
  {
   "cell_type": "code",
   "execution_count": 43,
   "metadata": {
    "id": "PqHq4hZsXPPy"
   },
   "outputs": [
    {
     "name": "stdout",
     "output_type": "stream",
     "text": [
      "temp.csv\n",
      "['Arbol' 'SVM' 'KNN' 'LR' 'MLP' 'RF' 'ET']\n",
      "==========================================================\n",
      "Report\n",
      "==========================================================\n",
      "**********************************************************\n",
      "Mean and std\n",
      "**********************************************************\n",
      "Arbol: 0.655774 (0.163228)\n",
      "SVM: 0.637857 (0.146844)\n",
      "KNN: 0.627024 (0.133351)\n",
      "LR: 0.652738 (0.138443)\n",
      "MLP: 0.592321 (0.156775)\n",
      "RF: 0.662024 (0.175966)\n",
      "ET: 0.705298 (0.141354)\n",
      "**********************************************************\n",
      "Statistical tests\n",
      "**********************************************************\n",
      "----------------------------------------------------------\n",
      "Checking parametric conditions \n",
      "----------------------------------------------------------\n",
      "Checking independence \n",
      "Ok\n",
      "Checking normality using Shapiro-Wilk's test for normality, alpha=0.05\n",
      "W: 0.973475, p:0.143210\n",
      "The null hypothesis (normality) is rejected\n",
      "Checking heteroscedasticity using Levene's test, alpha=0.05\n",
      "W: 0.218044, p:0.969665\n",
      "The null hypothesis (heteroscedasticity) is accepted\n",
      "Conditions for a parametric test are not fulfilled, applying a non-parametric test\n",
      "----------------------------------------------------------\n",
      "Working with more than 2 algorithms\n",
      "----------------------------------------------------------\n",
      "----------------------------------------------------------\n",
      "Applying Friedman test\n",
      "----------------------------------------------------------\n",
      "F-value: 0.968354, p-value: 0.45544870549439587\n",
      "Null hypothesis is rejected; hence, models have different performance\n",
      "Technique      Ranking\n",
      "-----------  ---------\n",
      "ET                5.3\n",
      "Arbol             4.2\n",
      "RF                4.15\n",
      "LR                3.95\n",
      "KNN               3.65\n",
      "SVM               3.55\n",
      "MLP               3.2\n",
      "Winner model: ET\n",
      "----------------------------------------------------------\n",
      "Applying Holm p-value adjustment procedure and analysing effect size\n",
      "----------------------------------------------------------\n",
      "Comparison      Zvalue    p-value    adjusted p-value\n",
      "------------  --------  ---------  ------------------\n",
      "ET vs MLP      2.17371  0.0297272            0.178363\n",
      "ET vs SVM      1.81142  0.0700755            0.350378\n",
      "ET vs KNN      1.70791  0.0876526            0.35061\n",
      "ET vs LR       1.39738  0.162299             0.486896\n",
      "ET vs RF       1.19036  0.233904             0.486896\n",
      "ET vs Arbol    1.13861  0.254867             0.486896\n",
      "There is a significant difference between the models: ET (mean: 0.705298, std: 0.141354) and MLP (mean: 0.592321, std: 0.156775) (Cohen's d=0.7180488300033325, Large)\n",
      "There is a significant difference between the models: ET (mean: 0.705298, std: 0.141354) and SVM (mean: 0.637857, std: 0.146844) (Cohen's d=0.44391731813872265, Medium)\n",
      "There is a significant difference between the models: ET (mean: 0.705298, std: 0.141354) and KNN (mean: 0.627024, std: 0.133351) (Cohen's d=0.5404030237894251, Large)\n",
      "There is a significant difference between the models: ET (mean: 0.705298, std: 0.141354) and LR (mean: 0.652738, std: 0.138443) (Cohen's d=0.35639957638899256, Medium)\n",
      "There is a significant difference between the models: ET (mean: 0.705298, std: 0.141354) and RF (mean: 0.662024, std: 0.175966) (Cohen's d=0.2572239367287249, Medium)\n",
      "There is a significant difference between the models: ET (mean: 0.705298, std: 0.141354) and Arbol (mean: 0.655774, std: 0.163228) (Cohen's d=0.3077121679583702, Medium)\n",
      "Eta squared: 0.042913 (Medium)\n"
     ]
    },
    {
     "data": {
      "image/png": "[encoded data removed]",
      "text/plain": [
       "<Figure size 432x288 with 1 Axes>"
      ]
     },
     "metadata": {
      "needs_background": "light"
     },
     "output_type": "display_data"
    }
   ],
   "source": [
    "compare_methods(Xumap,Y,listAlgorithms,listParams,listNames,metric='auroc')"
   ]
  },
  {
   "cell_type": "code",
   "execution_count": 44,
   "metadata": {
    "id": "9NTIJDD2XWW6"
   },
   "outputs": [],
   "source": [
    "!mv temp.csv tempumap2.csv"
   ]
  },
  {
   "cell_type": "markdown",
   "metadata": {},
   "source": [
    "# UMAP with 10 components"
   ]
  },
  {
   "cell_type": "code",
   "execution_count": 45,
   "metadata": {
    "id": "vtZHePZ6XaWK"
   },
   "outputs": [],
   "source": [
    "reducer = UMAP(n_components=10)"
   ]
  },
  {
   "cell_type": "code",
   "execution_count": 46,
   "metadata": {
    "id": "RT32rbaFXsMs"
   },
   "outputs": [],
   "source": [
    "Xumap10 = reducer.fit_transform(X)"
   ]
  },
  {
   "cell_type": "code",
   "execution_count": 47,
   "metadata": {
    "id": "IZhqNI6ZX2L0"
   },
   "outputs": [
    {
     "name": "stdout",
     "output_type": "stream",
     "text": [
      "temp.csv\n",
      "['Arbol' 'SVM' 'KNN' 'LR' 'MLP' 'RF' 'ET']\n",
      "==========================================================\n",
      "Report\n",
      "==========================================================\n",
      "**********************************************************\n",
      "Mean and std\n",
      "**********************************************************\n",
      "Arbol: 0.656071 (0.175048)\n",
      "SVM: 0.635655 (0.142111)\n",
      "KNN: 0.634048 (0.119932)\n",
      "LR: 0.675655 (0.143709)\n",
      "MLP: 0.624643 (0.114920)\n",
      "RF: 0.654405 (0.081830)\n",
      "ET: 0.626905 (0.135227)\n",
      "**********************************************************\n",
      "Statistical tests\n",
      "**********************************************************\n",
      "----------------------------------------------------------\n",
      "Checking parametric conditions \n",
      "----------------------------------------------------------\n",
      "Checking independence \n",
      "Ok\n",
      "Checking normality using Shapiro-Wilk's test for normality, alpha=0.05\n",
      "W: 0.983975, p:0.511896\n",
      "The null hypothesis (normality) is accepted\n",
      "Checking heteroscedasticity using Levene's test, alpha=0.05\n",
      "W: 1.281840, p:0.278527\n",
      "The null hypothesis (heteroscedasticity) is rejected\n",
      "Conditions for a parametric test are not fulfilled, applying a non-parametric test\n",
      "----------------------------------------------------------\n",
      "Working with more than 2 algorithms\n",
      "----------------------------------------------------------\n",
      "----------------------------------------------------------\n",
      "Applying Friedman test\n",
      "----------------------------------------------------------\n",
      "F-value: 0.319527, p-value: 0.924001182808647\n",
      "Null hypothesis is accepted; hence, we can't say that there is a significant difference in the performance of the models\n",
      "----------------------------------------------------------\n",
      "Analysing effect size\n",
      "----------------------------------------------------------\n",
      "We take the model with the best mean (LR, mean: 0.675655) and compare it with the other models: \n",
      "Comparing effect size of LR and Arbol: Cohen's d=0.11600825348006971, Small\n",
      "Comparing effect size of LR and SVM: Cohen's d=0.2655290268962527, Medium\n",
      "Comparing effect size of LR and KNN: Cohen's d=0.2982271863735317, Medium\n",
      "Comparing effect size of LR and MLP: Cohen's d=0.3719387584925916, Medium\n",
      "Comparing effect size of LR and RF: Cohen's d=0.17239658006575947, Small\n",
      "Comparing effect size of LR and ET: Cohen's d=0.33145212990872785, Medium\n",
      "Eta squared: 0.016580 (Medium)\n"
     ]
    },
    {
     "data": {
      "image/png": "[encoded data removed]",
      "text/plain": [
       "<Figure size 432x288 with 1 Axes>"
      ]
     },
     "metadata": {
      "needs_background": "light"
     },
     "output_type": "display_data"
    }
   ],
   "source": [
    "compare_methods(Xumap10,Y,listAlgorithms,listParams,listNames,metric='auroc')"
   ]
  },
  {
   "cell_type": "code",
   "execution_count": 48,
   "metadata": {
    "id": "B91qjVhuX5I-"
   },
   "outputs": [],
   "source": [
    "!mv temp.csv tempumap10.csv"
   ]
  }
 ],
 "metadata": {
  "colab": {
   "name": "CompareMethods.ipynb",
   "provenance": []
  },
  "kernelspec": {
   "display_name": "Python 3",
   "language": "python",
   "name": "python3"
  },
  "language_info": {
   "codemirror_mode": {
    "name": "ipython",
    "version": 3
   },
   "file_extension": ".py",
   "mimetype": "text/x-python",
   "name": "python",
   "nbconvert_exporter": "python",
   "pygments_lexer": "ipython3",
   "version": "3.6.7"
  }
 },
 "nbformat": 4,
 "nbformat_minor": 1
}
