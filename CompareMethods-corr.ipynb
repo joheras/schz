{
 "cells": [
  {
   "cell_type": "code",
   "execution_count": 1,
   "metadata": {
    "id": "9VdC2keIvxIJ"
   },
   "outputs": [],
   "source": [
    "import numpy as np\n",
    "from StatisticalAnalysis import compare_methods"
   ]
  },
  {
   "cell_type": "code",
   "execution_count": 2,
   "metadata": {
    "id": "3iCEO6wXtftF"
   },
   "outputs": [],
   "source": [
    "import warnings\n",
    "warnings.filterwarnings('ignore')"
   ]
  },
  {
   "cell_type": "markdown",
   "metadata": {
    "id": "Zb3btBk5vxIM"
   },
   "source": [
    "First we load the data and process it to have the correct form."
   ]
  },
  {
   "cell_type": "code",
   "execution_count": 3,
   "metadata": {},
   "outputs": [],
   "source": [
    "corr_hc = np.load('corr_hc.npy')\n",
    "corr_schz = np.load('corr_schz.npy')"
   ]
  },
  {
   "cell_type": "code",
   "execution_count": 4,
   "metadata": {},
   "outputs": [],
   "source": [
    "corr_hc = corr_hc.reshape(52,118*118)\n",
    "corr_schz = corr_schz.reshape(50,118*118)"
   ]
  },
  {
   "cell_type": "code",
   "execution_count": 5,
   "metadata": {},
   "outputs": [],
   "source": [
    "X = np.append(corr_hc,corr_schz,axis=0)"
   ]
  },
  {
   "cell_type": "code",
   "execution_count": 6,
   "metadata": {
    "colab": {
     "base_uri": "https://localhost:8080/"
    },
    "id": "8d-RFXoavxIQ",
    "outputId": "a61e1d34-79c6-4f1a-df1f-0b3a74b2c53d"
   },
   "outputs": [
    {
     "data": {
      "text/plain": [
       "(102, 13924)"
      ]
     },
     "execution_count": 6,
     "metadata": {},
     "output_type": "execute_result"
    }
   ],
   "source": [
    "X.shape"
   ]
  },
  {
   "cell_type": "code",
   "execution_count": 7,
   "metadata": {
    "colab": {
     "base_uri": "https://localhost:8080/"
    },
    "id": "hnaiAVUvJmgn",
    "outputId": "6cb5c264-f346-4b38-e85b-aa3b8bf8ace6"
   },
   "outputs": [
    {
     "data": {
      "text/plain": [
       "(13924,)"
      ]
     },
     "execution_count": 7,
     "metadata": {},
     "output_type": "execute_result"
    }
   ],
   "source": [
    "X[0].shape"
   ]
  },
  {
   "cell_type": "code",
   "execution_count": 8,
   "metadata": {
    "id": "5oh4k1gEvxIR"
   },
   "outputs": [],
   "source": [
    "Y = np.append(np.zeros(52),np.ones(50),axis=0)"
   ]
  },
  {
   "cell_type": "code",
   "execution_count": 9,
   "metadata": {
    "colab": {
     "base_uri": "https://localhost:8080/"
    },
    "id": "PZuBWU5LvxIR",
    "outputId": "21a0987a-b533-41fc-bea5-9f94b3246a66",
    "scrolled": true
   },
   "outputs": [
    {
     "data": {
      "text/plain": [
       "(102,)"
      ]
     },
     "execution_count": 9,
     "metadata": {},
     "output_type": "execute_result"
    }
   ],
   "source": [
    "Y.shape"
   ]
  },
  {
   "cell_type": "markdown",
   "metadata": {
    "id": "w2w8w0VjvxIS"
   },
   "source": [
    "Now, we define the algorithms that we are going to use. "
   ]
  },
  {
   "cell_type": "code",
   "execution_count": 10,
   "metadata": {
    "id": "MEPfV3efvxIS"
   },
   "outputs": [],
   "source": [
    "from sklearn.tree import DecisionTreeClassifier\n",
    "from sklearn.neighbors import KNeighborsClassifier\n",
    "from sklearn.linear_model import LogisticRegression\n",
    "from sklearn.svm import SVC\n",
    "from sklearn.neural_network import MLPClassifier\n",
    "from sklearn.ensemble import ExtraTreesClassifier\n",
    "from sklearn.ensemble import GradientBoostingClassifier\n",
    "from sklearn.ensemble import RandomForestClassifier\n",
    "from sklearn.ensemble import AdaBoostClassifier\n",
    "from scipy.stats import randint as sp_randint"
   ]
  },
  {
   "cell_type": "code",
   "execution_count": 11,
   "metadata": {
    "id": "YwnPEwswvxIU"
   },
   "outputs": [],
   "source": [
    "# Decision tree\n",
    "clfTree = DecisionTreeClassifier(random_state=84)\n",
    "param_distTree = {\"min_samples_split\": sp_randint(3, 30)}\n",
    "# SVM\n",
    "clfSVC = SVC(random_state=84)\n",
    "param_distSVC = {'C': [1, 10, 100, 1000], 'gamma': [0.001, 0.0001],'kernel': ['rbf'], 'class_weight':['balanced', None]}\n",
    "# KNN\n",
    "clfKNN = KNeighborsClassifier()\n",
    "param_distKNN = {'n_neighbors':sp_randint(3, 30)}\n",
    "# Logistic regression\n",
    "clfLR = LogisticRegression(random_state=84)\n",
    "param_distLR = {'C': [0.1,0.5,1, 10, 100, 1000]}\n",
    "# Neural Network\n",
    "clfMLP = MLPClassifier(random_state=84)\n",
    "param_distMLP = {'activation': ['identity', 'logistic', 'tanh', 'relu'], 'solver': ['lbfgs', 'sgd', 'adam'],\n",
    "                 'alpha': sp_randint(0.0001, 1), 'learning_rate': ['constant', 'invscaling', 'adaptive'],\n",
    "                 'hidden_layer_sizes': [(5,2), (3,3,3), (5,3,2), (5,4,3,2)],\n",
    "                 'momentum': [0.9, 0.95, 0.99]}\n",
    "# RandomForest\n",
    "clfRF = RandomForestClassifier(random_state=84)\n",
    "param_distRF =  {'n_estimators': [int(x) for x in np.linspace(start = 200, stop = 2000, num = 10)], 'max_features': ['auto', 'sqrt'],'max_depth': [int(x) for x in np.linspace(10, 110, num = 11)],\n",
    "                 'min_samples_split': [2, 5, 10],'min_samples_leaf': [1, 2, 4],\n",
    "                 'bootstrap': [True, False]}\n",
    "# ExtraTreesClassifier\n",
    "clfET = ExtraTreesClassifier(random_state=84)\n",
    "param_distET =  {'n_estimators': [int(x) for x in np.linspace(start = 200, stop = 2000, num = 10)], 'max_features': ['auto', 'sqrt'],'max_depth': [int(x) for x in np.linspace(10, 110, num = 11)],\n",
    "                 'min_samples_split': [2, 5, 10],'min_samples_leaf': [1, 2, 4],\n",
    "                 'bootstrap': [True, False]}"
   ]
  },
  {
   "cell_type": "code",
   "execution_count": 12,
   "metadata": {
    "id": "GGQcPxBOvxIV"
   },
   "outputs": [],
   "source": [
    "listAlgorithms = [clfTree,clfSVC,clfKNN,clfLR,clfMLP,clfRF,clfET]"
   ]
  },
  {
   "cell_type": "code",
   "execution_count": 13,
   "metadata": {
    "id": "8Nl-1GpjvxIV"
   },
   "outputs": [],
   "source": [
    "listParams = [param_distTree,param_distSVC,param_distKNN,param_distLR,param_distMLP,param_distRF, param_distET]"
   ]
  },
  {
   "cell_type": "code",
   "execution_count": 14,
   "metadata": {
    "id": "IK_8iIWovxIV"
   },
   "outputs": [],
   "source": [
    "listNames = [\"Arbol\", \"SVM\", \"KNN\", \"LR\", \"MLP\",\"RF\",\"ET\"]"
   ]
  },
  {
   "cell_type": "markdown",
   "metadata": {},
   "source": [
    "# Plain comparison"
   ]
  },
  {
   "cell_type": "code",
   "execution_count": 15,
   "metadata": {
    "id": "LSSesjlBvxIV",
    "scrolled": true
   },
   "outputs": [
    {
     "name": "stdout",
     "output_type": "stream",
     "text": [
      "temp.csv\n",
      "['Arbol' 'SVM' 'KNN' 'LR' 'MLP' 'RF' 'ET']\n",
      "==========================================================\n",
      "Report\n",
      "==========================================================\n",
      "**********************************************************\n",
      "Mean and std\n",
      "**********************************************************\n",
      "Arbol: 0.571845 (0.138296)\n",
      "SVM: 0.638631 (0.136986)\n",
      "KNN: 0.535536 (0.157887)\n",
      "LR: 0.653214 (0.127111)\n",
      "MLP: 0.710060 (0.144832)\n",
      "RF: 0.635952 (0.126980)\n",
      "ET: 0.644286 (0.109247)\n",
      "**********************************************************\n",
      "Statistical tests\n",
      "**********************************************************\n",
      "----------------------------------------------------------\n",
      "Checking parametric conditions \n",
      "----------------------------------------------------------\n",
      "Checking independence \n",
      "Ok\n",
      "Checking normality using Shapiro-Wilk's test for normality, alpha=0.05\n",
      "W: 0.969455, p:0.084896\n",
      "The null hypothesis (normality) is rejected\n",
      "Checking heteroscedasticity using Levene's test, alpha=0.05\n",
      "W: 0.170961, p:0.983669\n",
      "The null hypothesis (heteroscedasticity) is accepted\n",
      "Conditions for a parametric test are not fulfilled, applying a non-parametric test\n",
      "----------------------------------------------------------\n",
      "Working with more than 2 algorithms\n",
      "----------------------------------------------------------\n",
      "----------------------------------------------------------\n",
      "Applying Friedman test\n",
      "----------------------------------------------------------\n",
      "F-value: 2.175166, p-value: 0.05957378410499459\n",
      "Null hypothesis is rejected; hence, models have different performance\n",
      "Technique      Ranking\n",
      "-----------  ---------\n",
      "MLP               5.5\n",
      "LR                4.45\n",
      "RF                4.15\n",
      "ET                4.05\n",
      "SVM               4\n",
      "Arbol             3.5\n",
      "KNN               2.35\n",
      "Winner model: MLP\n",
      "----------------------------------------------------------\n",
      "Applying Holm p-value adjustment procedure and analysing effect size\n",
      "----------------------------------------------------------\n",
      "Comparison      Zvalue     p-value    adjusted p-value\n",
      "------------  --------  ----------  ------------------\n",
      "MLP vs KNN     3.26056  0.00111193          0.00667155\n",
      "MLP vs Arbol   2.0702   0.0384339           0.19217\n",
      "MLP vs SVM     1.55265  0.120507            0.482029\n",
      "MLP vs ET      1.50089  0.133383            0.482029\n",
      "MLP vs RF      1.39738  0.162299            0.482029\n",
      "MLP vs LR      1.08685  0.277102            0.482029\n",
      "There is a significant difference between the models: MLP (mean: 0.710060, std: 0.144832) and KNN (mean: 0.535536, std: 0.157887) (Cohen's d=1.0928542230173395, Large)\n",
      "There is a significant difference between the models: MLP (mean: 0.710060, std: 0.144832) and Arbol (mean: 0.571845, std: 0.138296) (Cohen's d=0.925988849443534, Large)\n",
      "There is a significant difference between the models: MLP (mean: 0.710060, std: 0.144832) and SVM (mean: 0.638631, std: 0.136986) (Cohen's d=0.4807133095548718, Medium)\n",
      "There is a significant difference between the models: MLP (mean: 0.710060, std: 0.144832) and ET (mean: 0.644286, std: 0.109247) (Cohen's d=0.4864267897992978, Medium)\n",
      "There is a significant difference between the models: MLP (mean: 0.710060, std: 0.144832) and RF (mean: 0.635952, std: 0.126980) (Cohen's d=0.5161880385301426, Large)\n",
      "There is a significant difference between the models: MLP (mean: 0.710060, std: 0.144832) and LR (mean: 0.653214, std: 0.127111) (Cohen's d=0.3957742411551125, Medium)\n",
      "Eta squared: 0.132240 (Large)\n"
     ]
    },
    {
     "data": {
      "image/png": "[encoded data removed]",
      "text/plain": [
       "<Figure size 432x288 with 1 Axes>"
      ]
     },
     "metadata": {
      "needs_background": "light"
     },
     "output_type": "display_data"
    }
   ],
   "source": [
    "compare_methods(X,Y,listAlgorithms,listParams,listNames,metric='auroc')"
   ]
  },
  {
   "cell_type": "code",
   "execution_count": 16,
   "metadata": {},
   "outputs": [
    {
     "name": "stdout",
     "output_type": "stream",
     "text": [
      "temp.csv\n",
      "['Arbol' 'SVM' 'KNN' 'LR' 'MLP' 'RF' 'ET']\n",
      "==========================================================\n",
      "Report\n",
      "==========================================================\n",
      "**********************************************************\n",
      "Mean and std\n",
      "**********************************************************\n",
      "Arbol: 0.563810 (0.233082)\n",
      "SVM: 0.614762 (0.240900)\n",
      "KNN: 0.500357 (0.249825)\n",
      "LR: 0.632857 (0.246147)\n",
      "MLP: 0.669048 (0.228485)\n",
      "RF: 0.586310 (0.258739)\n",
      "ET: 0.597976 (0.219788)\n",
      "**********************************************************\n",
      "Statistical tests\n",
      "**********************************************************\n",
      "----------------------------------------------------------\n",
      "Checking parametric conditions \n",
      "----------------------------------------------------------\n",
      "Checking independence \n",
      "Ok\n",
      "Checking normality using Shapiro-Wilk's test for normality, alpha=0.05\n",
      "W: 0.957011, p:0.017170\n",
      "The null hypothesis (normality) is rejected\n",
      "Checking heteroscedasticity using Levene's test, alpha=0.05\n",
      "W: 0.163939, p:0.985359\n",
      "The null hypothesis (heteroscedasticity) is accepted\n",
      "Conditions for a parametric test are not fulfilled, applying a non-parametric test\n",
      "----------------------------------------------------------\n",
      "Working with more than 2 algorithms\n",
      "----------------------------------------------------------\n",
      "----------------------------------------------------------\n",
      "Applying Friedman test\n",
      "----------------------------------------------------------\n",
      "F-value: 2.101322, p-value: 0.0680588516820293\n",
      "Null hypothesis is rejected; hence, models have different performance\n",
      "Technique      Ranking\n",
      "-----------  ---------\n",
      "MLP               5.4\n",
      "LR                4.4\n",
      "ET                4.15\n",
      "RF                4.05\n",
      "SVM               4.05\n",
      "Arbol             3.7\n",
      "KNN               2.25\n",
      "Winner model: MLP\n",
      "----------------------------------------------------------\n",
      "Applying Holm p-value adjustment procedure and analysing effect size\n",
      "----------------------------------------------------------\n",
      "Comparison      Zvalue     p-value    adjusted p-value\n",
      "------------  --------  ----------  ------------------\n",
      "MLP vs KNN     3.26056  0.00111193          0.00667155\n",
      "MLP vs Arbol   1.75967  0.0784643           0.392321\n",
      "MLP vs SVM     1.39738  0.162299            0.649194\n",
      "MLP vs RF      1.39738  0.162299            0.649194\n",
      "MLP vs ET      1.29387  0.195709            0.649194\n",
      "MLP vs LR      1.0351   0.300623            0.649194\n",
      "There is a significant difference between the models: MLP (mean: 0.669048, std: 0.228485) and KNN (mean: 0.500357, std: 0.249825) (Cohen's d=0.6684986585249793, Large)\n",
      "There is a significant difference between the models: MLP (mean: 0.669048, std: 0.228485) and Arbol (mean: 0.563810, std: 0.233082) (Cohen's d=0.432581418228834, Medium)\n",
      "We can't say that there is a significant difference in the performance of the models: MLP (mean: 0.669048, std: 0.228485) and SVM (mean: 0.614762, std: 0.240900) (Cohen's d=0.21935947877603132, Medium)\n",
      "We can't say that there is a significant difference in the performance of the models: MLP (mean: 0.669048, std: 0.228485) and RF (mean: 0.586310, std: 0.258739) (Cohen's d=0.3215826840164489, Medium)\n",
      "We can't say that there is a significant difference in the performance of the models: MLP (mean: 0.669048, std: 0.228485) and ET (mean: 0.597976, std: 0.219788) (Cohen's d=0.30076168924186075, Medium)\n",
      "We can't say that there is a significant difference in the performance of the models: MLP (mean: 0.669048, std: 0.228485) and LR (mean: 0.632857, std: 0.246147) (Cohen's d=0.14457348826633434, Small)\n",
      "Eta squared: 0.041227 (Medium)\n"
     ]
    },
    {
     "data": {
      "image/png": "[encoded data removed]",
      "text/plain": [
       "<Figure size 432x288 with 1 Axes>"
      ]
     },
     "metadata": {
      "needs_background": "light"
     },
     "output_type": "display_data"
    }
   ],
   "source": [
    "compare_methods(X,Y,listAlgorithms,listParams,listNames,metric='precision')"
   ]
  },
  {
   "cell_type": "code",
   "execution_count": 17,
   "metadata": {},
   "outputs": [
    {
     "name": "stdout",
     "output_type": "stream",
     "text": [
      "temp.csv\n",
      "['Arbol' 'SVM' 'KNN' 'LR' 'MLP' 'RF' 'ET']\n",
      "==========================================================\n",
      "Report\n",
      "==========================================================\n",
      "**********************************************************\n",
      "Mean and std\n",
      "**********************************************************\n",
      "Arbol: 0.607738 (0.186119)\n",
      "SVM: 0.632738 (0.177218)\n",
      "KNN: 0.520833 (0.316062)\n",
      "LR: 0.643452 (0.200631)\n",
      "MLP: 0.734524 (0.164618)\n",
      "RF: 0.670833 (0.233771)\n",
      "ET: 0.660714 (0.254509)\n",
      "**********************************************************\n",
      "Statistical tests\n",
      "**********************************************************\n",
      "----------------------------------------------------------\n",
      "Checking parametric conditions \n",
      "----------------------------------------------------------\n",
      "Checking independence \n",
      "Ok\n",
      "Checking normality using Shapiro-Wilk's test for normality, alpha=0.05\n",
      "W: 0.945287, p:0.004140\n",
      "The null hypothesis (normality) is rejected\n",
      "Checking heteroscedasticity using Levene's test, alpha=0.05\n",
      "W: 1.714620, p:0.132223\n",
      "The null hypothesis (heteroscedasticity) is rejected\n",
      "Conditions for a parametric test are not fulfilled, applying a non-parametric test\n",
      "----------------------------------------------------------\n",
      "Working with more than 2 algorithms\n",
      "----------------------------------------------------------\n",
      "----------------------------------------------------------\n",
      "Applying Friedman test\n",
      "----------------------------------------------------------\n",
      "F-value: 1.011919, p-value: 0.42740784663148546\n",
      "Null hypothesis is rejected; hence, models have different performance\n",
      "Technique      Ranking\n",
      "-----------  ---------\n",
      "MLP               5.3\n",
      "RF                4.35\n",
      "LR                4\n",
      "SVM               3.85\n",
      "ET                3.75\n",
      "Arbol             3.65\n",
      "KNN               3.1\n",
      "Winner model: MLP\n",
      "----------------------------------------------------------\n",
      "Applying Holm p-value adjustment procedure and analysing effect size\n",
      "----------------------------------------------------------\n",
      "Comparison      Zvalue    p-value    adjusted p-value\n",
      "------------  --------  ---------  ------------------\n",
      "MLP vs KNN    2.27722   0.0227733            0.13664\n",
      "MLP vs Arbol  1.70791   0.0876526            0.438263\n",
      "MLP vs ET     1.6044    0.108625             0.438263\n",
      "MLP vs SVM    1.50089   0.133383             0.438263\n",
      "MLP vs LR     1.34563   0.178423             0.438263\n",
      "MLP vs RF     0.983343  0.325438             0.438263\n",
      "There is a significant difference between the models: MLP (mean: 0.734524, std: 0.164618) and KNN (mean: 0.520833, std: 0.316062) (Cohen's d=0.8045057099550104, Large)\n",
      "There is a significant difference between the models: MLP (mean: 0.734524, std: 0.164618) and Arbol (mean: 0.607738, std: 0.186119) (Cohen's d=0.6845823912792632, Large)\n",
      "There is a significant difference between the models: MLP (mean: 0.734524, std: 0.164618) and ET (mean: 0.660714, std: 0.254509) (Cohen's d=0.3267031558240938, Medium)\n",
      "There is a significant difference between the models: MLP (mean: 0.734524, std: 0.164618) and SVM (mean: 0.632738, std: 0.177218) (Cohen's d=0.5645805957113189, Large)\n",
      "There is a significant difference between the models: MLP (mean: 0.734524, std: 0.164618) and LR (mean: 0.643452, std: 0.200631) (Cohen's d=0.47080885343142437, Medium)\n",
      "There is a significant difference between the models: MLP (mean: 0.734524, std: 0.164618) and RF (mean: 0.670833, std: 0.233771) (Cohen's d=0.2988633793830297, Medium)\n",
      "Eta squared: 0.067690 (Large)\n"
     ]
    },
    {
     "data": {
      "image/png": "[encoded data removed]",
      "text/plain": [
       "<Figure size 432x288 with 1 Axes>"
      ]
     },
     "metadata": {
      "needs_background": "light"
     },
     "output_type": "display_data"
    }
   ],
   "source": [
    "compare_methods(X,Y,listAlgorithms,listParams,listNames,metric='recall')"
   ]
  },
  {
   "cell_type": "code",
   "execution_count": 18,
   "metadata": {},
   "outputs": [
    {
     "name": "stdout",
     "output_type": "stream",
     "text": [
      "temp.csv\n",
      "['Arbol' 'SVM' 'KNN' 'LR' 'MLP' 'RF' 'ET']\n",
      "==========================================================\n",
      "Report\n",
      "==========================================================\n",
      "**********************************************************\n",
      "Mean and std\n",
      "**********************************************************\n",
      "Arbol: 0.545455 (0.127532)\n",
      "SVM: 0.635455 (0.120977)\n",
      "KNN: 0.539091 (0.117835)\n",
      "LR: 0.653636 (0.116807)\n",
      "MLP: 0.714545 (0.131375)\n",
      "RF: 0.597273 (0.122106)\n",
      "ET: 0.588182 (0.085382)\n",
      "**********************************************************\n",
      "Statistical tests\n",
      "**********************************************************\n",
      "----------------------------------------------------------\n",
      "Checking parametric conditions \n",
      "----------------------------------------------------------\n",
      "Checking independence \n",
      "Ok\n",
      "Checking normality using Shapiro-Wilk's test for normality, alpha=0.05\n",
      "W: 0.956984, p:0.017112\n",
      "The null hypothesis (normality) is rejected\n",
      "Checking heteroscedasticity using Levene's test, alpha=0.05\n",
      "W: 0.159166, p:0.986448\n",
      "The null hypothesis (heteroscedasticity) is accepted\n",
      "Conditions for a parametric test are not fulfilled, applying a non-parametric test\n",
      "----------------------------------------------------------\n",
      "Working with more than 2 algorithms\n",
      "----------------------------------------------------------\n",
      "----------------------------------------------------------\n",
      "Applying Friedman test\n",
      "----------------------------------------------------------\n",
      "F-value: 2.628980, p-value: 0.02611581744733482\n",
      "Null hypothesis is rejected; hence, models have different performance\n",
      "Technique      Ranking\n",
      "-----------  ---------\n",
      "MLP               5.75\n",
      "LR                4.65\n",
      "SVM               4.3\n",
      "RF                3.95\n",
      "ET                3.6\n",
      "Arbol             3.05\n",
      "KNN               2.7\n",
      "Winner model: MLP\n",
      "----------------------------------------------------------\n",
      "Applying Holm p-value adjustment procedure and analysing effect size\n",
      "----------------------------------------------------------\n",
      "Comparison      Zvalue     p-value    adjusted p-value\n",
      "------------  --------  ----------  ------------------\n",
      "MLP vs KNN     3.15705  0.00159374          0.00956244\n",
      "MLP vs Arbol   2.79477  0.00519374          0.0259687\n",
      "MLP vs ET      2.22546  0.0260503           0.104201\n",
      "MLP vs RF      1.86318  0.0624374           0.187312\n",
      "MLP vs SVM     1.50089  0.133383            0.266767\n",
      "MLP vs LR      1.13861  0.254867            0.266767\n",
      "There is a significant difference between the models: MLP (mean: 0.714545, std: 0.131375) and KNN (mean: 0.539091, std: 0.117835) (Cohen's d=1.3338570905308418, Large)\n",
      "There is a significant difference between the models: MLP (mean: 0.714545, std: 0.131375) and Arbol (mean: 0.545455, std: 0.127532) (Cohen's d=1.239021406575397, Large)\n",
      "There is a significant difference between the models: MLP (mean: 0.714545, std: 0.131375) and ET (mean: 0.588182, std: 0.085382) (Cohen's d=1.0820224568861128, Large)\n",
      "There is a significant difference between the models: MLP (mean: 0.714545, std: 0.131375) and RF (mean: 0.597273, std: 0.122106) (Cohen's d=0.8772263171842793, Large)\n",
      "There is a significant difference between the models: MLP (mean: 0.714545, std: 0.131375) and SVM (mean: 0.635455, std: 0.120977) (Cohen's d=0.594157023740053, Large)\n",
      "There is a significant difference between the models: MLP (mean: 0.714545, std: 0.131375) and LR (mean: 0.653636, std: 0.116807) (Cohen's d=0.4648532808613021, Medium)\n",
      "Eta squared: 0.192344 (Large)\n"
     ]
    },
    {
     "data": {
      "image/png": "[encoded data removed]",
      "text/plain": [
       "<Figure size 432x288 with 1 Axes>"
      ]
     },
     "metadata": {
      "needs_background": "light"
     },
     "output_type": "display_data"
    }
   ],
   "source": [
    "compare_methods(X,Y,listAlgorithms,listParams,listNames,metric='accuracy')"
   ]
  },
  {
   "cell_type": "markdown",
   "metadata": {
    "id": "9RmrYzBMOAXv"
   },
   "source": [
    "# PCA with 2 components"
   ]
  },
  {
   "cell_type": "code",
   "execution_count": 19,
   "metadata": {
    "id": "Sjjc5WXGvxIX"
   },
   "outputs": [],
   "source": [
    "from sklearn.decomposition import PCA"
   ]
  },
  {
   "cell_type": "code",
   "execution_count": 20,
   "metadata": {
    "id": "edHm_G34N87W"
   },
   "outputs": [],
   "source": [
    "pca = PCA(n_components=2)"
   ]
  },
  {
   "cell_type": "code",
   "execution_count": 21,
   "metadata": {
    "id": "H4lw_jzBODCv"
   },
   "outputs": [
    {
     "data": {
      "text/plain": [
       "PCA(n_components=2)"
      ]
     },
     "execution_count": 21,
     "metadata": {},
     "output_type": "execute_result"
    }
   ],
   "source": [
    "pca.fit(X)"
   ]
  },
  {
   "cell_type": "code",
   "execution_count": 22,
   "metadata": {
    "id": "ImTFoLrKOFHZ"
   },
   "outputs": [],
   "source": [
    "X_pca2 = pca.transform(X)"
   ]
  },
  {
   "cell_type": "code",
   "execution_count": 23,
   "metadata": {
    "id": "5nt7OQ61JuKG"
   },
   "outputs": [
    {
     "data": {
      "text/plain": [
       "(102, 2)"
      ]
     },
     "execution_count": 23,
     "metadata": {},
     "output_type": "execute_result"
    }
   ],
   "source": [
    "X_pca2.shape"
   ]
  },
  {
   "cell_type": "code",
   "execution_count": 24,
   "metadata": {
    "id": "KyVbCZLpOInH",
    "scrolled": true
   },
   "outputs": [
    {
     "name": "stdout",
     "output_type": "stream",
     "text": [
      "temp.csv\n",
      "['Arbol' 'SVM' 'KNN' 'LR' 'MLP' 'RF' 'ET']\n",
      "==========================================================\n",
      "Report\n",
      "==========================================================\n",
      "**********************************************************\n",
      "Mean and std\n",
      "**********************************************************\n",
      "Arbol: 0.563036 (0.144517)\n",
      "SVM: 0.597560 (0.114921)\n",
      "KNN: 0.639226 (0.177934)\n",
      "LR: 0.532500 (0.099141)\n",
      "MLP: 0.536190 (0.143598)\n",
      "RF: 0.632381 (0.080458)\n",
      "ET: 0.520417 (0.083462)\n",
      "**********************************************************\n",
      "Statistical tests\n",
      "**********************************************************\n",
      "----------------------------------------------------------\n",
      "Checking parametric conditions \n",
      "----------------------------------------------------------\n",
      "Checking independence \n",
      "Ok\n",
      "Checking normality using Shapiro-Wilk's test for normality, alpha=0.05\n",
      "W: 0.985115, p:0.575485\n",
      "The null hypothesis (normality) is accepted\n",
      "Checking heteroscedasticity using Levene's test, alpha=0.05\n",
      "W: 1.250801, p:0.293034\n",
      "The null hypothesis (heteroscedasticity) is rejected\n",
      "Conditions for a parametric test are not fulfilled, applying a non-parametric test\n",
      "----------------------------------------------------------\n",
      "Working with more than 2 algorithms\n",
      "----------------------------------------------------------\n",
      "----------------------------------------------------------\n",
      "Applying Friedman test\n",
      "----------------------------------------------------------\n",
      "F-value: 2.096433, p-value: 0.06866030070702145\n",
      "Null hypothesis is rejected; hence, models have different performance\n",
      "Technique      Ranking\n",
      "-----------  ---------\n",
      "KNN               5.3\n",
      "RF                4.8\n",
      "SVM               4.75\n",
      "Arbol             3.7\n",
      "MLP               3.35\n",
      "LR                3.25\n",
      "ET                2.85\n",
      "Winner model: KNN\n",
      "----------------------------------------------------------\n",
      "Applying Holm p-value adjustment procedure and analysing effect size\n",
      "----------------------------------------------------------\n",
      "Comparison      Zvalue    p-value    adjusted p-value\n",
      "------------  --------  ---------  ------------------\n",
      "KNN vs ET     2.53599   0.011213            0.0672778\n",
      "KNN vs LR     2.12195   0.0338418           0.169209\n",
      "KNN vs MLP    2.01844   0.0435453           0.174181\n",
      "KNN vs Arbol  1.65616   0.09769             0.29307\n",
      "KNN vs SVM    0.569304  0.56915             1\n",
      "KNN vs RF     0.517549  0.604773            1\n",
      "There is a significant difference between the models: KNN (mean: 0.639226, std: 0.177934) and ET (mean: 0.520417, std: 0.083462) (Cohen's d=0.8110452682959634, Large)\n",
      "There is a significant difference between the models: KNN (mean: 0.639226, std: 0.177934) and LR (mean: 0.532500, std: 0.099141) (Cohen's d=0.7029711188158729, Large)\n",
      "There is a significant difference between the models: KNN (mean: 0.639226, std: 0.177934) and MLP (mean: 0.536190, std: 0.143598) (Cohen's d=0.6045781612391972, Large)\n",
      "There is a significant difference between the models: KNN (mean: 0.639226, std: 0.177934) and Arbol (mean: 0.563036, std: 0.144517) (Cohen's d=0.4459314082342907, Medium)\n",
      "We can't say that there is a significant difference in the performance of the models: KNN (mean: 0.639226, std: 0.177934) and SVM (mean: 0.597560, std: 0.114921) (Cohen's d=0.2639122244215652, Medium)\n",
      "We can't say that there is a significant difference in the performance of the models: KNN (mean: 0.639226, std: 0.177934) and RF (mean: 0.632381, std: 0.080458) (Cohen's d=0.04702924075451349, Small)\n",
      "Eta squared: 0.115802 (Large)\n"
     ]
    },
    {
     "data": {
      "image/png": "[encoded data removed]",
      "text/plain": [
       "<Figure size 432x288 with 1 Axes>"
      ]
     },
     "metadata": {
      "needs_background": "light"
     },
     "output_type": "display_data"
    }
   ],
   "source": [
    "compare_methods(X_pca2,Y,listAlgorithms,listParams,listNames,metric='auroc')"
   ]
  },
  {
   "cell_type": "code",
   "execution_count": 25,
   "metadata": {},
   "outputs": [
    {
     "name": "stdout",
     "output_type": "stream",
     "text": [
      "temp.csv\n",
      "['Arbol' 'SVM' 'KNN' 'LR' 'MLP' 'RF' 'ET']\n",
      "==========================================================\n",
      "Report\n",
      "==========================================================\n",
      "**********************************************************\n",
      "Mean and std\n",
      "**********************************************************\n",
      "Arbol: 0.531905 (0.192834)\n",
      "SVM: 0.526667 (0.261428)\n",
      "KNN: 0.637381 (0.290628)\n",
      "LR: 0.516071 (0.244850)\n",
      "MLP: 0.513095 (0.276511)\n",
      "RF: 0.613810 (0.202215)\n",
      "ET: 0.500000 (0.217051)\n",
      "**********************************************************\n",
      "Statistical tests\n",
      "**********************************************************\n",
      "----------------------------------------------------------\n",
      "Checking parametric conditions \n",
      "----------------------------------------------------------\n",
      "Checking independence \n",
      "Ok\n",
      "Checking normality using Shapiro-Wilk's test for normality, alpha=0.05\n",
      "W: 0.962807, p:0.035840\n",
      "The null hypothesis (normality) is rejected\n",
      "Checking heteroscedasticity using Levene's test, alpha=0.05\n",
      "W: 0.161839, p:0.985844\n",
      "The null hypothesis (heteroscedasticity) is accepted\n",
      "Conditions for a parametric test are not fulfilled, applying a non-parametric test\n",
      "----------------------------------------------------------\n",
      "Working with more than 2 algorithms\n",
      "----------------------------------------------------------\n",
      "----------------------------------------------------------\n",
      "Applying Friedman test\n",
      "----------------------------------------------------------\n",
      "F-value: 1.913816, p-value: 0.09521027227197532\n",
      "Null hypothesis is rejected; hence, models have different performance\n",
      "Technique      Ranking\n",
      "-----------  ---------\n",
      "RF                5.15\n",
      "KNN               5.15\n",
      "SVM               4.45\n",
      "Arbol             3.6\n",
      "MLP               3.4\n",
      "LR                3.2\n",
      "ET                3.05\n",
      "Winner model: RF\n",
      "----------------------------------------------------------\n",
      "Applying Holm p-value adjustment procedure and analysing effect size\n",
      "----------------------------------------------------------\n",
      "Comparison      Zvalue    p-value    adjusted p-value\n",
      "------------  --------  ---------  ------------------\n",
      "RF vs ET      2.17371   0.0297272            0.178363\n",
      "RF vs LR      2.01844   0.0435453            0.217726\n",
      "RF vs MLP     1.81142   0.0700755            0.280302\n",
      "RF vs Arbol   1.6044    0.108625             0.325876\n",
      "RF vs SVM     0.724569  0.468717             0.937433\n",
      "RF vs KNN     0         1                    1\n",
      "There is a significant difference between the models: RF (mean: 0.613810, std: 0.202215) and ET (mean: 0.500000, std: 0.217051) (Cohen's d=0.514716969853096, Large)\n",
      "There is a significant difference between the models: RF (mean: 0.613810, std: 0.202215) and LR (mean: 0.516071, std: 0.244850) (Cohen's d=0.4129317289419068, Medium)\n",
      "There is a significant difference between the models: RF (mean: 0.613810, std: 0.202215) and MLP (mean: 0.513095, std: 0.276511) (Cohen's d=0.39444562755940876, Medium)\n",
      "There is a significant difference between the models: RF (mean: 0.613810, std: 0.202215) and Arbol (mean: 0.531905, std: 0.192834) (Cohen's d=0.3932662961421897, Medium)\n",
      "We can't say that there is a significant difference in the performance of the models: RF (mean: 0.613810, std: 0.202215) and SVM (mean: 0.526667, std: 0.261428) (Cohen's d=0.35374181294721474, Medium)\n",
      "We can't say that there is a significant difference in the performance of the models: RF (mean: 0.613810, std: 0.202215) and KNN (mean: 0.637381, std: 0.290628) (Cohen's d=0.08932023824006013, Small)\n",
      "Eta squared: 0.040684 (Medium)\n"
     ]
    },
    {
     "data": {
      "image/png": "[encoded data removed]",
      "text/plain": [
       "<Figure size 432x288 with 1 Axes>"
      ]
     },
     "metadata": {
      "needs_background": "light"
     },
     "output_type": "display_data"
    }
   ],
   "source": [
    "compare_methods(X_pca2,Y,listAlgorithms,listParams,listNames,metric='precision')"
   ]
  },
  {
   "cell_type": "code",
   "execution_count": 26,
   "metadata": {},
   "outputs": [
    {
     "name": "stdout",
     "output_type": "stream",
     "text": [
      "temp.csv\n",
      "['Arbol' 'SVM' 'KNN' 'LR' 'MLP' 'RF' 'ET']\n",
      "==========================================================\n",
      "Report\n",
      "==========================================================\n",
      "**********************************************************\n",
      "Mean and std\n",
      "**********************************************************\n",
      "Arbol: 0.548214 (0.267770)\n",
      "SVM: 0.522024 (0.233164)\n",
      "KNN: 0.520238 (0.278279)\n",
      "LR: 0.483929 (0.207874)\n",
      "MLP: 0.502976 (0.276811)\n",
      "RF: 0.610119 (0.253116)\n",
      "ET: 0.438690 (0.180310)\n",
      "**********************************************************\n",
      "Statistical tests\n",
      "**********************************************************\n",
      "----------------------------------------------------------\n",
      "Checking parametric conditions \n",
      "----------------------------------------------------------\n",
      "Checking independence \n",
      "Ok\n",
      "Checking normality using Shapiro-Wilk's test for normality, alpha=0.05\n",
      "W: 0.949331, p:0.006690\n",
      "The null hypothesis (normality) is rejected\n",
      "Checking heteroscedasticity using Levene's test, alpha=0.05\n",
      "W: 0.499244, p:0.806582\n",
      "The null hypothesis (heteroscedasticity) is accepted\n",
      "Conditions for a parametric test are not fulfilled, applying a non-parametric test\n",
      "----------------------------------------------------------\n",
      "Working with more than 2 algorithms\n",
      "----------------------------------------------------------\n",
      "----------------------------------------------------------\n",
      "Applying Friedman test\n",
      "----------------------------------------------------------\n",
      "F-value: 0.496891, p-value: 0.8078832079441516\n",
      "Null hypothesis is accepted; hence, we can't say that there is a significant difference in the performance of the models\n",
      "----------------------------------------------------------\n",
      "Analysing effect size\n",
      "----------------------------------------------------------\n",
      "We take the model with the best mean (RF, mean: 0.610119) and compare it with the other models: \n",
      "Comparing effect size of RF and Arbol: Cohen's d=0.2254032852967396, Medium\n",
      "Comparing effect size of RF and SVM: Cohen's d=0.3434407831095998, Medium\n",
      "Comparing effect size of RF and KNN: Cohen's d=0.32056429642520684, Medium\n",
      "Comparing effect size of RF and LR: Cohen's d=0.5168972458267931, Large\n",
      "Comparing effect size of RF and MLP: Cohen's d=0.38323422094780035, Medium\n",
      "Comparing effect size of RF and ET: Cohen's d=0.7400771013293431, Large\n",
      "Eta squared: 0.039121 (Medium)\n"
     ]
    },
    {
     "data": {
      "image/png": "[encoded data removed]",
      "text/plain": [
       "<Figure size 432x288 with 1 Axes>"
      ]
     },
     "metadata": {
      "needs_background": "light"
     },
     "output_type": "display_data"
    }
   ],
   "source": [
    "compare_methods(X_pca2,Y,listAlgorithms,listParams,listNames,metric='recall')"
   ]
  },
  {
   "cell_type": "code",
   "execution_count": 27,
   "metadata": {},
   "outputs": [
    {
     "name": "stdout",
     "output_type": "stream",
     "text": [
      "temp.csv\n",
      "['Arbol' 'SVM' 'KNN' 'LR' 'MLP' 'RF' 'ET']\n",
      "==========================================================\n",
      "Report\n",
      "==========================================================\n",
      "**********************************************************\n",
      "Mean and std\n",
      "**********************************************************\n",
      "Arbol: 0.520909 (0.130292)\n",
      "SVM: 0.560000 (0.144268)\n",
      "KNN: 0.626364 (0.165417)\n",
      "LR: 0.480909 (0.068569)\n",
      "MLP: 0.491818 (0.137837)\n",
      "RF: 0.578182 (0.109333)\n",
      "ET: 0.480000 (0.077545)\n",
      "**********************************************************\n",
      "Statistical tests\n",
      "**********************************************************\n",
      "----------------------------------------------------------\n",
      "Checking parametric conditions \n",
      "----------------------------------------------------------\n",
      "Checking independence \n",
      "Ok\n",
      "Checking normality using Shapiro-Wilk's test for normality, alpha=0.05\n",
      "W: 0.960734, p:0.027488\n",
      "The null hypothesis (normality) is rejected\n",
      "Checking heteroscedasticity using Levene's test, alpha=0.05\n",
      "W: 1.308582, p:0.266513\n",
      "The null hypothesis (heteroscedasticity) is rejected\n",
      "Conditions for a parametric test are not fulfilled, applying a non-parametric test\n",
      "----------------------------------------------------------\n",
      "Working with more than 2 algorithms\n",
      "----------------------------------------------------------\n",
      "----------------------------------------------------------\n",
      "Applying Friedman test\n",
      "----------------------------------------------------------\n",
      "F-value: 1.639645, p-value: 0.15413569517399273\n",
      "Null hypothesis is rejected; hence, models have different performance\n",
      "Technique      Ranking\n",
      "-----------  ---------\n",
      "KNN               5.2\n",
      "RF                4.8\n",
      "SVM               4.6\n",
      "Arbol             3.65\n",
      "MLP               3.45\n",
      "LR                3.2\n",
      "ET                3.1\n",
      "Winner model: KNN\n",
      "----------------------------------------------------------\n",
      "Applying Holm p-value adjustment procedure and analysing effect size\n",
      "----------------------------------------------------------\n",
      "Comparison      Zvalue    p-value    adjusted p-value\n",
      "------------  --------  ---------  ------------------\n",
      "KNN vs ET     2.17371   0.0297272            0.178363\n",
      "KNN vs LR     2.0702    0.0384339            0.19217\n",
      "KNN vs MLP    1.81142   0.0700755            0.280302\n",
      "KNN vs Arbol  1.6044    0.108625             0.325876\n",
      "KNN vs SVM    0.621059  0.534561             1\n",
      "KNN vs RF     0.414039  0.678845             1\n",
      "There is a significant difference between the models: KNN (mean: 0.626364, std: 0.165417) and ET (mean: 0.480000, std: 0.077545) (Cohen's d=1.0748604546194773, Large)\n",
      "There is a significant difference between the models: KNN (mean: 0.626364, std: 0.165417) and LR (mean: 0.480909, std: 0.068569) (Cohen's d=1.0898119503464307, Large)\n",
      "There is a significant difference between the models: KNN (mean: 0.626364, std: 0.165417) and MLP (mean: 0.491818, std: 0.137837) (Cohen's d=0.8383478963207506, Large)\n",
      "There is a significant difference between the models: KNN (mean: 0.626364, std: 0.165417) and Arbol (mean: 0.520909, std: 0.130292) (Cohen's d=0.6719073295175901, Large)\n",
      "We can't say that there is a significant difference in the performance of the models: KNN (mean: 0.626364, std: 0.165417) and SVM (mean: 0.560000, std: 0.144268) (Cohen's d=0.4056494667656962, Medium)\n",
      "We can't say that there is a significant difference in the performance of the models: KNN (mean: 0.626364, std: 0.165417) and RF (mean: 0.578182, std: 0.109333) (Cohen's d=0.32601069865487775, Medium)\n",
      "Eta squared: 0.149958 (Large)\n"
     ]
    },
    {
     "data": {
      "image/png": "[encoded data removed]",
      "text/plain": [
       "<Figure size 432x288 with 1 Axes>"
      ]
     },
     "metadata": {
      "needs_background": "light"
     },
     "output_type": "display_data"
    }
   ],
   "source": [
    "compare_methods(X_pca2,Y,listAlgorithms,listParams,listNames,metric='accuracy')"
   ]
  },
  {
   "cell_type": "markdown",
   "metadata": {
    "id": "4_aNOwHHORLf"
   },
   "source": [
    "# PCA with 10 components"
   ]
  },
  {
   "cell_type": "code",
   "execution_count": 28,
   "metadata": {
    "id": "XoW_W87nONDr"
   },
   "outputs": [],
   "source": [
    "pca = PCA(n_components=10)"
   ]
  },
  {
   "cell_type": "code",
   "execution_count": 29,
   "metadata": {
    "id": "D6xAEHgfOXqw"
   },
   "outputs": [
    {
     "data": {
      "text/plain": [
       "PCA(n_components=10)"
      ]
     },
     "execution_count": 29,
     "metadata": {},
     "output_type": "execute_result"
    }
   ],
   "source": [
    "pca.fit(X)"
   ]
  },
  {
   "cell_type": "code",
   "execution_count": 30,
   "metadata": {
    "id": "UsP9oOY0OYu2"
   },
   "outputs": [],
   "source": [
    "X_pca10 = pca.transform(X)"
   ]
  },
  {
   "cell_type": "code",
   "execution_count": 31,
   "metadata": {
    "id": "GJl8Qwv_OgCN"
   },
   "outputs": [],
   "source": [
    "!mv temp.csv temppca2.csv"
   ]
  },
  {
   "cell_type": "code",
   "execution_count": 32,
   "metadata": {
    "id": "fQo9oAaWObE9"
   },
   "outputs": [
    {
     "name": "stdout",
     "output_type": "stream",
     "text": [
      "temp.csv\n",
      "['Arbol' 'SVM' 'KNN' 'LR' 'MLP' 'RF' 'ET']\n",
      "==========================================================\n",
      "Report\n",
      "==========================================================\n",
      "**********************************************************\n",
      "Mean and std\n",
      "**********************************************************\n",
      "Arbol: 0.616012 (0.120468)\n",
      "SVM: 0.628214 (0.141538)\n",
      "KNN: 0.747024 (0.136360)\n",
      "LR: 0.591429 (0.203376)\n",
      "MLP: 0.577321 (0.154446)\n",
      "RF: 0.576548 (0.165005)\n",
      "ET: 0.550357 (0.196291)\n",
      "**********************************************************\n",
      "Statistical tests\n",
      "**********************************************************\n",
      "----------------------------------------------------------\n",
      "Checking parametric conditions \n",
      "----------------------------------------------------------\n",
      "Checking independence \n",
      "Ok\n",
      "Checking normality using Shapiro-Wilk's test for normality, alpha=0.05\n",
      "W: 0.972086, p:0.119595\n",
      "The null hypothesis (normality) is rejected\n",
      "Checking heteroscedasticity using Levene's test, alpha=0.05\n",
      "W: 0.786511, p:0.583774\n",
      "The null hypothesis (heteroscedasticity) is accepted\n",
      "Conditions for a parametric test are not fulfilled, applying a non-parametric test\n",
      "----------------------------------------------------------\n",
      "Working with more than 2 algorithms\n",
      "----------------------------------------------------------\n",
      "----------------------------------------------------------\n",
      "Applying Friedman test\n",
      "----------------------------------------------------------\n",
      "F-value: 1.935127, p-value: 0.09166473845493961\n",
      "Null hypothesis is rejected; hence, models have different performance\n",
      "Technique      Ranking\n",
      "-----------  ---------\n",
      "KNN               5.8\n",
      "SVM               4.25\n",
      "Arbol             4.15\n",
      "LR                3.85\n",
      "MLP               3.55\n",
      "RF                3.45\n",
      "ET                2.95\n",
      "Winner model: KNN\n",
      "----------------------------------------------------------\n",
      "Applying Holm p-value adjustment procedure and analysing effect size\n",
      "----------------------------------------------------------\n",
      "Comparison      Zvalue     p-value    adjusted p-value\n",
      "------------  --------  ----------  ------------------\n",
      "KNN vs ET      2.95003  0.00317743           0.0190646\n",
      "KNN vs RF      2.43248  0.0149958            0.0749789\n",
      "KNN vs MLP     2.32897  0.0198606            0.0794424\n",
      "KNN vs LR      2.01844  0.0435453            0.130636\n",
      "KNN vs Arbol   1.70791  0.0876526            0.175305\n",
      "KNN vs SVM     1.6044   0.108625             0.175305\n",
      "There is a significant difference between the models: KNN (mean: 0.747024, std: 0.136360) and ET (mean: 0.550357, std: 0.196291) (Cohen's d=1.1039688315350895, Large)\n",
      "There is a significant difference between the models: KNN (mean: 0.747024, std: 0.136360) and RF (mean: 0.576548, std: 0.165005) (Cohen's d=1.0684854857749664, Large)\n",
      "There is a significant difference between the models: KNN (mean: 0.747024, std: 0.136360) and MLP (mean: 0.577321, std: 0.154446) (Cohen's d=1.10508999623789, Large)\n",
      "There is a significant difference between the models: KNN (mean: 0.747024, std: 0.136360) and LR (mean: 0.591429, std: 0.203376) (Cohen's d=0.8525433131569501, Large)\n",
      "There is a significant difference between the models: KNN (mean: 0.747024, std: 0.136360) and Arbol (mean: 0.616012, std: 0.120468) (Cohen's d=0.9660279034384152, Large)\n",
      "There is a significant difference between the models: KNN (mean: 0.747024, std: 0.136360) and SVM (mean: 0.628214, std: 0.141538) (Cohen's d=0.8110373081855872, Large)\n",
      "Eta squared: 0.120360 (Large)\n"
     ]
    },
    {
     "data": {
      "image/png": "[encoded data removed]",
      "text/plain": [
       "<Figure size 432x288 with 1 Axes>"
      ]
     },
     "metadata": {
      "needs_background": "light"
     },
     "output_type": "display_data"
    }
   ],
   "source": [
    "compare_methods(X_pca10,Y,listAlgorithms,listParams,listNames,metric='auroc')"
   ]
  },
  {
   "cell_type": "code",
   "execution_count": 33,
   "metadata": {},
   "outputs": [
    {
     "name": "stdout",
     "output_type": "stream",
     "text": [
      "temp.csv\n",
      "['Arbol' 'SVM' 'KNN' 'LR' 'MLP' 'RF' 'ET']\n",
      "==========================================================\n",
      "Report\n",
      "==========================================================\n",
      "**********************************************************\n",
      "Mean and std\n",
      "**********************************************************\n",
      "Arbol: 0.597500 (0.242099)\n",
      "SVM: 0.567857 (0.282540)\n",
      "KNN: 0.686667 (0.315242)\n",
      "LR: 0.560000 (0.277208)\n",
      "MLP: 0.555000 (0.306236)\n",
      "RF: 0.549524 (0.253644)\n",
      "ET: 0.534405 (0.327106)\n",
      "**********************************************************\n",
      "Statistical tests\n",
      "**********************************************************\n",
      "----------------------------------------------------------\n",
      "Checking parametric conditions \n",
      "----------------------------------------------------------\n",
      "Checking independence \n",
      "Ok\n",
      "Checking normality using Shapiro-Wilk's test for normality, alpha=0.05\n",
      "W: 0.938482, p:0.001893\n",
      "The null hypothesis (normality) is rejected\n",
      "Checking heteroscedasticity using Levene's test, alpha=0.05\n",
      "W: 0.225264, p:0.967110\n",
      "The null hypothesis (heteroscedasticity) is accepted\n",
      "Conditions for a parametric test are not fulfilled, applying a non-parametric test\n",
      "----------------------------------------------------------\n",
      "Working with more than 2 algorithms\n",
      "----------------------------------------------------------\n",
      "----------------------------------------------------------\n",
      "Applying Friedman test\n",
      "----------------------------------------------------------\n",
      "F-value: 1.031847, p-value: 0.4149849226685387\n",
      "Null hypothesis is rejected; hence, models have different performance\n",
      "Technique      Ranking\n",
      "-----------  ---------\n",
      "KNN               5.4\n",
      "Arbol             4.15\n",
      "MLP               4.1\n",
      "LR                3.75\n",
      "SVM               3.75\n",
      "RF                3.65\n",
      "ET                3.2\n",
      "Winner model: KNN\n",
      "----------------------------------------------------------\n",
      "Applying Holm p-value adjustment procedure and analysing effect size\n",
      "----------------------------------------------------------\n",
      "Comparison      Zvalue    p-value    adjusted p-value\n",
      "------------  --------  ---------  ------------------\n",
      "KNN vs ET      2.27722  0.0227733            0.13664\n",
      "KNN vs RF      1.81142  0.0700755            0.350378\n",
      "KNN vs SVM     1.70791  0.0876526            0.35061\n",
      "KNN vs LR      1.70791  0.0876526            0.35061\n",
      "KNN vs MLP     1.34563  0.178423             0.356845\n",
      "KNN vs Arbol   1.29387  0.195709             0.356845\n",
      "There is a significant difference between the models: KNN (mean: 0.686667, std: 0.315242) and ET (mean: 0.534405, std: 0.327106) (Cohen's d=0.4496739200415008, Medium)\n",
      "There is a significant difference between the models: KNN (mean: 0.686667, std: 0.315242) and RF (mean: 0.549524, std: 0.253644) (Cohen's d=0.4547447151774893, Medium)\n",
      "There is a significant difference between the models: KNN (mean: 0.686667, std: 0.315242) and SVM (mean: 0.567857, std: 0.282540) (Cohen's d=0.3765391980548629, Medium)\n",
      "There is a significant difference between the models: KNN (mean: 0.686667, std: 0.315242) and LR (mean: 0.560000, std: 0.277208) (Cohen's d=0.40482586981020835, Medium)\n",
      "There is a significant difference between the models: KNN (mean: 0.686667, std: 0.315242) and MLP (mean: 0.555000, std: 0.306236) (Cohen's d=0.4019345771246421, Medium)\n",
      "There is a significant difference between the models: KNN (mean: 0.686667, std: 0.315242) and Arbol (mean: 0.597500, std: 0.242099) (Cohen's d=0.3009709349077754, Medium)\n",
      "Eta squared: 0.026615 (Medium)\n"
     ]
    },
    {
     "data": {
      "image/png": "[encoded data removed]",
      "text/plain": [
       "<Figure size 432x288 with 1 Axes>"
      ]
     },
     "metadata": {
      "needs_background": "light"
     },
     "output_type": "display_data"
    }
   ],
   "source": [
    "compare_methods(X_pca10,Y,listAlgorithms,listParams,listNames,metric='precision')"
   ]
  },
  {
   "cell_type": "code",
   "execution_count": 34,
   "metadata": {},
   "outputs": [
    {
     "name": "stdout",
     "output_type": "stream",
     "text": [
      "temp.csv\n",
      "['Arbol' 'SVM' 'KNN' 'LR' 'MLP' 'RF' 'ET']\n",
      "==========================================================\n",
      "Report\n",
      "==========================================================\n",
      "**********************************************************\n",
      "Mean and std\n",
      "**********************************************************\n",
      "Arbol: 0.577381 (0.196717)\n",
      "SVM: 0.597619 (0.295363)\n",
      "KNN: 0.691071 (0.289905)\n",
      "LR: 0.556548 (0.318408)\n",
      "MLP: 0.446429 (0.241831)\n",
      "RF: 0.523214 (0.316166)\n",
      "ET: 0.465476 (0.327433)\n",
      "**********************************************************\n",
      "Statistical tests\n",
      "**********************************************************\n",
      "----------------------------------------------------------\n",
      "Checking parametric conditions \n",
      "----------------------------------------------------------\n",
      "Checking independence \n",
      "Ok\n",
      "Checking normality using Shapiro-Wilk's test for normality, alpha=0.05\n",
      "W: 0.938750, p:0.001951\n",
      "The null hypothesis (normality) is rejected\n",
      "Checking heteroscedasticity using Levene's test, alpha=0.05\n",
      "W: 0.696944, p:0.652972\n",
      "The null hypothesis (heteroscedasticity) is accepted\n",
      "Conditions for a parametric test are not fulfilled, applying a non-parametric test\n",
      "----------------------------------------------------------\n",
      "Working with more than 2 algorithms\n",
      "----------------------------------------------------------\n",
      "----------------------------------------------------------\n",
      "Applying Friedman test\n",
      "----------------------------------------------------------\n",
      "F-value: 1.336341, p-value: 0.25729116551709486\n",
      "Null hypothesis is rejected; hence, models have different performance\n",
      "Technique      Ranking\n",
      "-----------  ---------\n",
      "KNN               5.25\n",
      "Arbol             4.4\n",
      "SVM               4.2\n",
      "LR                4.15\n",
      "RF                3.9\n",
      "MLP               3.15\n",
      "ET                2.95\n",
      "Winner model: KNN\n",
      "----------------------------------------------------------\n",
      "Applying Holm p-value adjustment procedure and analysing effect size\n",
      "----------------------------------------------------------\n",
      "Comparison      Zvalue    p-value    adjusted p-value\n",
      "------------  --------  ---------  ------------------\n",
      "KNN vs ET     2.38073   0.0172786            0.103671\n",
      "KNN vs MLP    2.17371   0.0297272            0.148636\n",
      "KNN vs RF     1.39738   0.162299             0.649194\n",
      "KNN vs LR     1.13861   0.254867             0.7646\n",
      "KNN vs SVM    1.08685   0.277102             0.7646\n",
      "KNN vs Arbol  0.879834  0.378949             0.7646\n",
      "There is a significant difference between the models: KNN (mean: 0.691071, std: 0.289905) and ET (mean: 0.465476, std: 0.327433) (Cohen's d=0.6920811346916899, Large)\n",
      "There is a significant difference between the models: KNN (mean: 0.691071, std: 0.289905) and MLP (mean: 0.446429, std: 0.241831) (Cohen's d=0.8694003115509937, Large)\n",
      "We can't say that there is a significant difference in the performance of the models: KNN (mean: 0.691071, std: 0.289905) and RF (mean: 0.523214, std: 0.316166) (Cohen's d=0.5250012172075301, Large)\n",
      "We can't say that there is a significant difference in the performance of the models: KNN (mean: 0.691071, std: 0.289905) and LR (mean: 0.556548, std: 0.318408) (Cohen's d=0.4191282342986057, Medium)\n",
      "We can't say that there is a significant difference in the performance of the models: KNN (mean: 0.691071, std: 0.289905) and SVM (mean: 0.597619, std: 0.295363) (Cohen's d=0.30294776899557996, Medium)\n",
      "We can't say that there is a significant difference in the performance of the models: KNN (mean: 0.691071, std: 0.289905) and Arbol (mean: 0.577381, std: 0.196717) (Cohen's d=0.43537400977906227, Medium)\n",
      "Eta squared: 0.067158 (Large)\n"
     ]
    },
    {
     "data": {
      "image/png": "[encoded data removed]",
      "text/plain": [
       "<Figure size 432x288 with 1 Axes>"
      ]
     },
     "metadata": {
      "needs_background": "light"
     },
     "output_type": "display_data"
    }
   ],
   "source": [
    "compare_methods(X_pca10,Y,listAlgorithms,listParams,listNames,metric='recall')"
   ]
  },
  {
   "cell_type": "code",
   "execution_count": 35,
   "metadata": {},
   "outputs": [
    {
     "name": "stdout",
     "output_type": "stream",
     "text": [
      "temp.csv\n",
      "['Arbol' 'SVM' 'KNN' 'LR' 'MLP' 'RF' 'ET']\n",
      "==========================================================\n",
      "Report\n",
      "==========================================================\n",
      "**********************************************************\n",
      "Mean and std\n",
      "**********************************************************\n",
      "Arbol: 0.590000 (0.106364)\n",
      "SVM: 0.628182 (0.118073)\n",
      "KNN: 0.714545 (0.106111)\n",
      "LR: 0.589091 (0.170551)\n",
      "MLP: 0.567273 (0.121845)\n",
      "RF: 0.590000 (0.136451)\n",
      "ET: 0.521818 (0.175772)\n",
      "**********************************************************\n",
      "Statistical tests\n",
      "**********************************************************\n",
      "----------------------------------------------------------\n",
      "Checking parametric conditions \n",
      "----------------------------------------------------------\n",
      "Checking independence \n",
      "Ok\n",
      "Checking normality using Shapiro-Wilk's test for normality, alpha=0.05\n",
      "W: 0.965547, p:0.051056\n",
      "The null hypothesis (normality) is rejected\n",
      "Checking heteroscedasticity using Levene's test, alpha=0.05\n",
      "W: 0.673208, p:0.671614\n",
      "The null hypothesis (heteroscedasticity) is accepted\n",
      "Conditions for a parametric test are not fulfilled, applying a non-parametric test\n",
      "----------------------------------------------------------\n",
      "Working with more than 2 algorithms\n",
      "----------------------------------------------------------\n",
      "----------------------------------------------------------\n",
      "Applying Friedman test\n",
      "----------------------------------------------------------\n",
      "F-value: 2.723657, p-value: 0.02197480864650858\n",
      "Null hypothesis is rejected; hence, models have different performance\n",
      "Technique      Ranking\n",
      "-----------  ---------\n",
      "KNN               5.9\n",
      "SVM               4.6\n",
      "Arbol             4\n",
      "RF                3.8\n",
      "LR                3.7\n",
      "MLP               3.45\n",
      "ET                2.55\n",
      "Winner model: KNN\n",
      "----------------------------------------------------------\n",
      "Applying Holm p-value adjustment procedure and analysing effect size\n",
      "----------------------------------------------------------\n",
      "Comparison      Zvalue      p-value    adjusted p-value\n",
      "------------  --------  -----------  ------------------\n",
      "KNN vs ET      3.46758  0.000525168          0.00315101\n",
      "KNN vs MLP     2.53599  0.011213             0.0560648\n",
      "KNN vs LR      2.27722  0.0227733            0.0910932\n",
      "KNN vs RF      2.17371  0.0297272            0.0910932\n",
      "KNN vs Arbol   1.96669  0.0492193            0.0984386\n",
      "KNN vs SVM     1.34563  0.178423             0.178423\n",
      "There is a significant difference between the models: KNN (mean: 0.714545, std: 0.106111) and ET (mean: 0.521818, std: 0.175772) (Cohen's d=1.259368904507792, Large)\n",
      "There is a significant difference between the models: KNN (mean: 0.714545, std: 0.106111) and MLP (mean: 0.567273, std: 0.121845) (Cohen's d=1.2228979090403114, Large)\n",
      "There is a significant difference between the models: KNN (mean: 0.714545, std: 0.106111) and LR (mean: 0.589091, std: 0.170551) (Cohen's d=0.8379468089131914, Large)\n",
      "There is a significant difference between the models: KNN (mean: 0.714545, std: 0.106111) and RF (mean: 0.590000, std: 0.136451) (Cohen's d=0.9666842641303834, Large)\n",
      "There is a significant difference between the models: KNN (mean: 0.714545, std: 0.106111) and Arbol (mean: 0.590000, std: 0.106364) (Cohen's d=1.11217241039118, Large)\n",
      "There is a significant difference between the models: KNN (mean: 0.714545, std: 0.106111) and SVM (mean: 0.628182, std: 0.118073) (Cohen's d=0.7298939787492947, Large)\n",
      "Eta squared: 0.141480 (Large)\n"
     ]
    },
    {
     "data": {
      "image/png": "[encoded data removed]",
      "text/plain": [
       "<Figure size 432x288 with 1 Axes>"
      ]
     },
     "metadata": {
      "needs_background": "light"
     },
     "output_type": "display_data"
    }
   ],
   "source": [
    "compare_methods(X_pca10,Y,listAlgorithms,listParams,listNames,metric='accuracy')"
   ]
  },
  {
   "cell_type": "code",
   "execution_count": 36,
   "metadata": {
    "id": "uUqwDOQLOjtd"
   },
   "outputs": [],
   "source": [
    "!mv temp.csv temppca10.csv"
   ]
  },
  {
   "cell_type": "markdown",
   "metadata": {
    "id": "7wgUs9MrOuQE"
   },
   "source": [
    "# PCA with 100 components"
   ]
  },
  {
   "cell_type": "code",
   "execution_count": 37,
   "metadata": {
    "id": "Ef54_v0COuQF"
   },
   "outputs": [],
   "source": [
    "pca = PCA(n_components=100)"
   ]
  },
  {
   "cell_type": "code",
   "execution_count": 38,
   "metadata": {
    "id": "ejF2FGo0OuQG"
   },
   "outputs": [
    {
     "data": {
      "text/plain": [
       "PCA(n_components=100)"
      ]
     },
     "execution_count": 38,
     "metadata": {},
     "output_type": "execute_result"
    }
   ],
   "source": [
    "pca.fit(X)"
   ]
  },
  {
   "cell_type": "code",
   "execution_count": 39,
   "metadata": {
    "id": "AAI4QlOZOuQG"
   },
   "outputs": [],
   "source": [
    "X_pca100 = pca.transform(X)"
   ]
  },
  {
   "cell_type": "code",
   "execution_count": 40,
   "metadata": {
    "id": "JVbgf7IdOuQH",
    "scrolled": true
   },
   "outputs": [
    {
     "name": "stdout",
     "output_type": "stream",
     "text": [
      "temp.csv\n",
      "['Arbol' 'SVM' 'KNN' 'LR' 'MLP' 'RF' 'ET']\n",
      "==========================================================\n",
      "Report\n",
      "==========================================================\n",
      "**********************************************************\n",
      "Mean and std\n",
      "**********************************************************\n",
      "Arbol: 0.502321 (0.207704)\n",
      "SVM: 0.658274 (0.139687)\n",
      "KNN: 0.535536 (0.157887)\n",
      "LR: 0.653214 (0.127111)\n",
      "MLP: 0.605179 (0.108865)\n",
      "RF: 0.466012 (0.146655)\n",
      "ET: 0.474821 (0.136024)\n",
      "**********************************************************\n",
      "Statistical tests\n",
      "**********************************************************\n",
      "----------------------------------------------------------\n",
      "Checking parametric conditions \n",
      "----------------------------------------------------------\n",
      "Checking independence \n",
      "Ok\n",
      "Checking normality using Shapiro-Wilk's test for normality, alpha=0.05\n",
      "W: 0.967056, p:0.062109\n",
      "The null hypothesis (normality) is rejected\n",
      "Checking heteroscedasticity using Levene's test, alpha=0.05\n",
      "W: 1.435144, p:0.215454\n",
      "The null hypothesis (heteroscedasticity) is rejected\n",
      "Conditions for a parametric test are not fulfilled, applying a non-parametric test\n",
      "----------------------------------------------------------\n",
      "Working with more than 2 algorithms\n",
      "----------------------------------------------------------\n",
      "----------------------------------------------------------\n",
      "Applying Friedman test\n",
      "----------------------------------------------------------\n",
      "F-value: 4.111342, p-value: 0.0018062490752296378\n",
      "Null hypothesis is rejected; hence, models have different performance\n",
      "Technique      Ranking\n",
      "-----------  ---------\n",
      "SVM               5.6\n",
      "LR                5.3\n",
      "MLP               4.6\n",
      "KNN               3.85\n",
      "Arbol             3.35\n",
      "ET                2.85\n",
      "RF                2.45\n",
      "Winner model: SVM\n",
      "----------------------------------------------------------\n",
      "Applying Holm p-value adjustment procedure and analysing effect size\n",
      "----------------------------------------------------------\n",
      "Comparison      Zvalue     p-value    adjusted p-value\n",
      "------------  --------  ----------  ------------------\n",
      "SVM vs RF      3.26056  0.00111193          0.00667155\n",
      "SVM vs ET      2.84652  0.00441999          0.0220999\n",
      "SVM vs Arbol   2.32897  0.0198606           0.0794424\n",
      "SVM vs KNN     1.81142  0.0700755           0.210227\n",
      "SVM vs MLP     1.0351   0.300623            0.601246\n",
      "SVM vs LR      0.31053  0.756158            0.756158\n",
      "There is a significant difference between the models: SVM (mean: 0.658274, std: 0.139687) and RF (mean: 0.466012, std: 0.146655) (Cohen's d=1.273589711342852, Large)\n",
      "There is a significant difference between the models: SVM (mean: 0.658274, std: 0.139687) and ET (mean: 0.474821, std: 0.136024) (Cohen's d=1.262354612111314, Large)\n",
      "There is a significant difference between the models: SVM (mean: 0.658274, std: 0.139687) and Arbol (mean: 0.502321, std: 0.207704) (Cohen's d=0.8359025794731755, Large)\n",
      "There is a significant difference between the models: SVM (mean: 0.658274, std: 0.139687) and KNN (mean: 0.535536, std: 0.157887) (Cohen's d=0.7811312799803629, Large)\n",
      "We can't say that there is a significant difference in the performance of the models: SVM (mean: 0.658274, std: 0.139687) and MLP (mean: 0.605179, std: 0.108865) (Cohen's d=0.4022302809086244, Medium)\n",
      "We can't say that there is a significant difference in the performance of the models: SVM (mean: 0.658274, std: 0.139687) and LR (mean: 0.653214, std: 0.127111) (Cohen's d=0.03594150309855812, Small)\n",
      "Eta squared: 0.205779 (Large)\n"
     ]
    },
    {
     "data": {
      "image/png": "[encoded data removed]",
      "text/plain": [
       "<Figure size 432x288 with 1 Axes>"
      ]
     },
     "metadata": {
      "needs_background": "light"
     },
     "output_type": "display_data"
    }
   ],
   "source": [
    "compare_methods(X_pca100,Y,listAlgorithms,listParams,listNames,metric='auroc')"
   ]
  },
  {
   "cell_type": "code",
   "execution_count": 41,
   "metadata": {},
   "outputs": [
    {
     "name": "stdout",
     "output_type": "stream",
     "text": [
      "temp.csv\n",
      "['Arbol' 'SVM' 'KNN' 'LR' 'MLP' 'RF' 'ET']\n",
      "==========================================================\n",
      "Report\n",
      "==========================================================\n",
      "**********************************************************\n",
      "Mean and std\n",
      "**********************************************************\n",
      "Arbol: 0.470714 (0.211726)\n",
      "SVM: 0.620000 (0.216769)\n",
      "KNN: 0.500357 (0.249825)\n",
      "LR: 0.632857 (0.246147)\n",
      "MLP: 0.599048 (0.204845)\n",
      "RF: 0.344762 (0.268851)\n",
      "ET: 0.307143 (0.174135)\n",
      "**********************************************************\n",
      "Statistical tests\n",
      "**********************************************************\n",
      "----------------------------------------------------------\n",
      "Checking parametric conditions \n",
      "----------------------------------------------------------\n",
      "Checking independence \n",
      "Ok\n",
      "Checking normality using Shapiro-Wilk's test for normality, alpha=0.05\n",
      "W: 0.958073, p:0.019619\n",
      "The null hypothesis (normality) is rejected\n",
      "Checking heteroscedasticity using Levene's test, alpha=0.05\n",
      "W: 0.326594, p:0.920599\n",
      "The null hypothesis (heteroscedasticity) is accepted\n",
      "Conditions for a parametric test are not fulfilled, applying a non-parametric test\n",
      "----------------------------------------------------------\n",
      "Working with more than 2 algorithms\n",
      "----------------------------------------------------------\n",
      "----------------------------------------------------------\n",
      "Applying Friedman test\n",
      "----------------------------------------------------------\n",
      "F-value: 3.416851, p-value: 0.006238260071510071\n",
      "Null hypothesis is rejected; hence, models have different performance\n",
      "Technique      Ranking\n",
      "-----------  ---------\n",
      "LR                5.2\n",
      "SVM               5.2\n",
      "MLP               5\n",
      "KNN               3.75\n",
      "Arbol             3.5\n",
      "ET                2.7\n",
      "RF                2.65\n",
      "Winner model: LR\n",
      "----------------------------------------------------------\n",
      "Applying Holm p-value adjustment procedure and analysing effect size\n",
      "----------------------------------------------------------\n",
      "Comparison      Zvalue     p-value    adjusted p-value\n",
      "------------  --------  ----------  ------------------\n",
      "LR vs RF       2.6395   0.00830282           0.0498169\n",
      "LR vs ET       2.58775  0.00966062           0.0498169\n",
      "LR vs Arbol    1.75967  0.0784643            0.313857\n",
      "LR vs KNN      1.50089  0.133383             0.40015\n",
      "LR vs MLP      0.20702  0.835994             1\n",
      "LR vs SVM      0        1                    1\n",
      "There is a significant difference between the models: LR (mean: 0.632857, std: 0.246147) and RF (mean: 0.344762, std: 0.268851) (Cohen's d=1.0603768461716687, Large)\n",
      "There is a significant difference between the models: LR (mean: 0.632857, std: 0.246147) and ET (mean: 0.307143, std: 0.174135) (Cohen's d=1.449319164787328, Large)\n",
      "There is a significant difference between the models: LR (mean: 0.632857, std: 0.246147) and Arbol (mean: 0.470714, std: 0.211726) (Cohen's d=0.670009487409244, Large)\n",
      "There is a significant difference between the models: LR (mean: 0.632857, std: 0.246147) and KNN (mean: 0.500357, std: 0.249825) (Cohen's d=0.5068715887953015, Large)\n",
      "We can't say that there is a significant difference in the performance of the models: LR (mean: 0.632857, std: 0.246147) and MLP (mean: 0.599048, std: 0.204845) (Cohen's d=0.14164710874276357, Small)\n",
      "We can't say that there is a significant difference in the performance of the models: LR (mean: 0.632857, std: 0.246147) and SVM (mean: 0.620000, std: 0.216769) (Cohen's d=0.05259213610770753, Small)\n",
      "Eta squared: 0.224305 (Large)\n"
     ]
    },
    {
     "data": {
      "image/png": "[encoded data removed]",
      "text/plain": [
       "<Figure size 432x288 with 1 Axes>"
      ]
     },
     "metadata": {
      "needs_background": "light"
     },
     "output_type": "display_data"
    }
   ],
   "source": [
    "compare_methods(X_pca100,Y,listAlgorithms,listParams,listNames,metric='precision')"
   ]
  },
  {
   "cell_type": "code",
   "execution_count": 42,
   "metadata": {},
   "outputs": [
    {
     "name": "stdout",
     "output_type": "stream",
     "text": [
      "temp.csv\n",
      "['Arbol' 'SVM' 'KNN' 'LR' 'MLP' 'RF' 'ET']\n",
      "==========================================================\n",
      "Report\n",
      "==========================================================\n",
      "**********************************************************\n",
      "Mean and std\n",
      "**********************************************************\n",
      "Arbol: 0.534524 (0.288992)\n",
      "SVM: 0.697024 (0.208256)\n",
      "KNN: 0.520833 (0.316062)\n",
      "LR: 0.643452 (0.200631)\n",
      "MLP: 0.641667 (0.169905)\n",
      "RF: 0.429167 (0.354559)\n",
      "ET: 0.422619 (0.327814)\n",
      "**********************************************************\n",
      "Statistical tests\n",
      "**********************************************************\n",
      "----------------------------------------------------------\n",
      "Checking parametric conditions \n",
      "----------------------------------------------------------\n",
      "Checking independence \n",
      "Ok\n",
      "Checking normality using Shapiro-Wilk's test for normality, alpha=0.05\n",
      "W: 0.945087, p:0.004043\n",
      "The null hypothesis (normality) is rejected\n",
      "Checking heteroscedasticity using Levene's test, alpha=0.05\n",
      "W: 2.183822, p:0.056167\n",
      "The null hypothesis (heteroscedasticity) is rejected\n",
      "Conditions for a parametric test are not fulfilled, applying a non-parametric test\n",
      "----------------------------------------------------------\n",
      "Working with more than 2 algorithms\n",
      "----------------------------------------------------------\n",
      "----------------------------------------------------------\n",
      "Applying Friedman test\n",
      "----------------------------------------------------------\n",
      "F-value: 1.599369, p-value: 0.16523207116004635\n",
      "Null hypothesis is rejected; hence, models have different performance\n",
      "Technique      Ranking\n",
      "-----------  ---------\n",
      "MLP               5\n",
      "SVM               5\n",
      "LR                4.45\n",
      "KNN               3.9\n",
      "Arbol             3.55\n",
      "RF                3.1\n",
      "ET                3\n",
      "Winner model: MLP\n",
      "----------------------------------------------------------\n",
      "Applying Holm p-value adjustment procedure and analysing effect size\n",
      "----------------------------------------------------------\n",
      "Comparison      Zvalue    p-value    adjusted p-value\n",
      "------------  --------  ---------  ------------------\n",
      "MLP vs ET     2.0702    0.0384339            0.230604\n",
      "MLP vs RF     1.96669   0.0492193            0.246097\n",
      "MLP vs Arbol  1.50089   0.133383             0.533533\n",
      "MLP vs KNN    1.13861   0.254867             0.7646\n",
      "MLP vs LR     0.569304  0.56915              1\n",
      "MLP vs SVM    0         1                    1\n",
      "There is a significant difference between the models: MLP (mean: 0.641667, std: 0.169905) and ET (mean: 0.422619, std: 0.327814) (Cohen's d=0.79593954679192, Large)\n",
      "There is a significant difference between the models: MLP (mean: 0.641667, std: 0.169905) and RF (mean: 0.429167, std: 0.354559) (Cohen's d=0.7251357683117506, Large)\n",
      "We can't say that there is a significant difference in the performance of the models: MLP (mean: 0.641667, std: 0.169905) and Arbol (mean: 0.534524, std: 0.288992) (Cohen's d=0.4287929586021885, Medium)\n",
      "We can't say that there is a significant difference in the performance of the models: MLP (mean: 0.641667, std: 0.169905) and KNN (mean: 0.520833, std: 0.316062) (Cohen's d=0.45178029111701123, Medium)\n",
      "We can't say that there is a significant difference in the performance of the models: MLP (mean: 0.641667, std: 0.169905) and LR (mean: 0.643452, std: 0.200631) (Cohen's d=0.009112668425739257, Small)\n",
      "We can't say that there is a significant difference in the performance of the models: MLP (mean: 0.641667, std: 0.169905) and SVM (mean: 0.697024, std: 0.208256) (Cohen's d=0.2763290623383515, Medium)\n",
      "Eta squared: 0.117507 (Large)\n"
     ]
    },
    {
     "data": {
      "image/png": "[encoded data removed]",
      "text/plain": [
       "<Figure size 432x288 with 1 Axes>"
      ]
     },
     "metadata": {
      "needs_background": "light"
     },
     "output_type": "display_data"
    }
   ],
   "source": [
    "compare_methods(X_pca100,Y,listAlgorithms,listParams,listNames,metric='recall')"
   ]
  },
  {
   "cell_type": "code",
   "execution_count": 43,
   "metadata": {},
   "outputs": [
    {
     "name": "stdout",
     "output_type": "stream",
     "text": [
      "temp.csv\n",
      "['Arbol' 'SVM' 'KNN' 'LR' 'MLP' 'RF' 'ET']\n",
      "==========================================================\n",
      "Report\n",
      "==========================================================\n",
      "**********************************************************\n",
      "Mean and std\n",
      "**********************************************************\n",
      "Arbol: 0.459091 (0.188129)\n",
      "SVM: 0.645455 (0.121764)\n",
      "KNN: 0.539091 (0.117835)\n",
      "LR: 0.653636 (0.116807)\n",
      "MLP: 0.605455 (0.137342)\n",
      "RF: 0.362727 (0.125997)\n",
      "ET: 0.390000 (0.145990)\n",
      "**********************************************************\n",
      "Statistical tests\n",
      "**********************************************************\n",
      "----------------------------------------------------------\n",
      "Checking parametric conditions \n",
      "----------------------------------------------------------\n",
      "Checking independence \n",
      "Ok\n",
      "Checking normality using Shapiro-Wilk's test for normality, alpha=0.05\n",
      "W: 0.951086, p:0.008269\n",
      "The null hypothesis (normality) is rejected\n",
      "Checking heteroscedasticity using Levene's test, alpha=0.05\n",
      "W: 1.160026, p:0.339023\n",
      "The null hypothesis (heteroscedasticity) is rejected\n",
      "Conditions for a parametric test are not fulfilled, applying a non-parametric test\n",
      "----------------------------------------------------------\n",
      "Working with more than 2 algorithms\n",
      "----------------------------------------------------------\n",
      "----------------------------------------------------------\n",
      "Applying Friedman test\n",
      "----------------------------------------------------------\n",
      "F-value: 7.221435, p-value: 1.0871532522882532e-05\n",
      "Null hypothesis is rejected; hence, models have different performance\n",
      "Technique      Ranking\n",
      "-----------  ---------\n",
      "LR                5.65\n",
      "SVM               5.5\n",
      "MLP               4.9\n",
      "KNN               4.15\n",
      "Arbol             3.3\n",
      "ET                2.4\n",
      "RF                2.1\n",
      "Winner model: LR\n",
      "----------------------------------------------------------\n",
      "Applying Holm p-value adjustment procedure and analysing effect size\n",
      "----------------------------------------------------------\n",
      "Comparison      Zvalue      p-value    adjusted p-value\n",
      "------------  --------  -----------  ------------------\n",
      "LR vs RF      3.6746    0.000238223          0.00142934\n",
      "LR vs ET      3.36407   0.000768022          0.00384011\n",
      "LR vs Arbol   2.43248   0.0149958            0.0599831\n",
      "LR vs KNN     1.55265   0.120507             0.361522\n",
      "LR vs MLP     0.776324  0.437558             0.875116\n",
      "LR vs SVM     0.155265  0.876613             0.876613\n",
      "There is a significant difference between the models: LR (mean: 0.653636, std: 0.116807) and RF (mean: 0.362727, std: 0.125997) (Cohen's d=2.2716565136426627, Large)\n",
      "There is a significant difference between the models: LR (mean: 0.653636, std: 0.116807) and ET (mean: 0.390000, std: 0.145990) (Cohen's d=1.8917961356965394, Large)\n",
      "There is a significant difference between the models: LR (mean: 0.653636, std: 0.116807) and Arbol (mean: 0.459091, std: 0.188129) (Cohen's d=1.1786862363692248, Large)\n",
      "There is a significant difference between the models: LR (mean: 0.653636, std: 0.116807) and KNN (mean: 0.539091, std: 0.117835) (Cohen's d=0.9262313604997515, Large)\n",
      "We can't say that there is a significant difference in the performance of the models: LR (mean: 0.653636, std: 0.116807) and MLP (mean: 0.605455, std: 0.137342) (Cohen's d=0.3585366745837657, Medium)\n",
      "We can't say that there is a significant difference in the performance of the models: LR (mean: 0.653636, std: 0.116807) and SVM (mean: 0.645455, std: 0.121764) (Cohen's d=0.0650564636623564, Small)\n",
      "Eta squared: 0.392854 (Large)\n"
     ]
    },
    {
     "data": {
      "image/png": "[encoded data removed]",
      "text/plain": [
       "<Figure size 432x288 with 1 Axes>"
      ]
     },
     "metadata": {
      "needs_background": "light"
     },
     "output_type": "display_data"
    }
   ],
   "source": [
    "compare_methods(X_pca100,Y,listAlgorithms,listParams,listNames,metric='accuracy')"
   ]
  },
  {
   "cell_type": "code",
   "execution_count": 44,
   "metadata": {
    "id": "DNplq4INOuQI"
   },
   "outputs": [],
   "source": [
    "!mv temp.csv temppca100.csv"
   ]
  },
  {
   "cell_type": "markdown",
   "metadata": {
    "id": "B9xyvRUBJ4Yg"
   },
   "source": [
    "# TSNE with 2 components"
   ]
  },
  {
   "cell_type": "code",
   "execution_count": 45,
   "metadata": {
    "id": "cgeSd7wqJ4MA"
   },
   "outputs": [],
   "source": [
    "from sklearn.manifold import TSNE"
   ]
  },
  {
   "cell_type": "code",
   "execution_count": 46,
   "metadata": {
    "id": "VqpY0-F7JWkP"
   },
   "outputs": [],
   "source": [
    "Xtsne2 = TSNE(n_components=2).fit_transform(X)"
   ]
  },
  {
   "cell_type": "code",
   "execution_count": 47,
   "metadata": {
    "id": "JLGsE9ymKGAf",
    "scrolled": true
   },
   "outputs": [
    {
     "name": "stdout",
     "output_type": "stream",
     "text": [
      "temp.csv\n",
      "['Arbol' 'SVM' 'KNN' 'LR' 'MLP' 'RF' 'ET']\n",
      "==========================================================\n",
      "Report\n",
      "==========================================================\n",
      "**********************************************************\n",
      "Mean and std\n",
      "**********************************************************\n",
      "Arbol: 0.590417 (0.150174)\n",
      "SVM: 0.613929 (0.139911)\n",
      "KNN: 0.625060 (0.167687)\n",
      "LR: 0.537857 (0.188118)\n",
      "MLP: 0.518393 (0.198288)\n",
      "RF: 0.671071 (0.157330)\n",
      "ET: 0.580595 (0.115153)\n",
      "**********************************************************\n",
      "Statistical tests\n",
      "**********************************************************\n",
      "----------------------------------------------------------\n",
      "Checking parametric conditions \n",
      "----------------------------------------------------------\n",
      "Checking independence \n",
      "Ok\n",
      "Checking normality using Shapiro-Wilk's test for normality, alpha=0.05\n",
      "W: 0.985258, p:0.583669\n",
      "The null hypothesis (normality) is accepted\n",
      "Checking heteroscedasticity using Levene's test, alpha=0.05\n",
      "W: 0.725110, p:0.630976\n",
      "The null hypothesis (heteroscedasticity) is accepted\n",
      "Conditions for a parametric test are fulfilled\n",
      "----------------------------------------------------------\n",
      "Working with more than 2 algorithms\n",
      "----------------------------------------------------------\n",
      "----------------------------------------------------------\n",
      "Applying ANOVA test\n",
      "----------------------------------------------------------\n",
      "F-value: 0.935523, p-value: 0.4760656341249353\n",
      "Null hypothesis is rejected; hence, models have different performance\n",
      "----------------------------------------------------------\n",
      "Applying Bonferroni-Dunn post-hoc and analysing effect size\n",
      "----------------------------------------------------------\n",
      "Comparison      Zvalue    p-value    adjusted p-value\n",
      "------------  --------  ---------  ------------------\n",
      "MLP vs RF     2.00331   0.0247248            0.519221\n",
      "LR vs RF      1.74792   0.0426749            0.896173\n",
      "KNN vs MLP    1.39959   0.0832711            1\n",
      "SVM vs MLP    1.25354   0.107321             1\n",
      "RF vs ET      1.18715   0.119813             1\n",
      "KNN vs LR     1.14419   0.128436             1\n",
      "Arbol vs RF   1.05828   0.146984             1\n",
      "SVM vs LR     0.998142  0.161014             1\n",
      "Arbol vs MLP  0.945033  0.174126             1\n",
      "MLP vs ET     0.816165  0.208741             1\n",
      "SVM vs RF     0.749778  0.22809              1\n",
      "Arbol vs LR   0.68964   0.246477             1\n",
      "KNN vs RF     0.603728  0.274096             1\n",
      "KNN vs ET     0.583421  0.280846             1\n",
      "LR vs ET      0.560772  0.288471             1\n",
      "Arbol vs KNN  0.454553  0.325497             1\n",
      "SVM vs ET     0.437371  0.331669             1\n",
      "Arbol vs SVM  0.308502  0.379359             1\n",
      "LR vs MLP     0.255393  0.399626             1\n",
      "SVM vs KNN    0.146051  0.442174             1\n",
      "Arbol vs ET   0.128868  0.448936             1\n",
      "We can't say that there is a significant difference in the performance of the models: MLP (mean: 0.518393, std: 0.198288) and RF (mean: 0.671071, std: 0.157330) (Cohen's d=0.8092535668465427, Large)\n",
      "We can't say that there is a significant difference in the performance of the models: LR (mean: 0.537857, std: 0.188118) and RF (mean: 0.671071, std: 0.157330) (Cohen's d=0.7287898952679852, Large)\n",
      "We can't say that there is a significant difference in the performance of the models: KNN (mean: 0.625060, std: 0.167687) and MLP (mean: 0.518393, std: 0.198288) (Cohen's d=0.5510812527484416, Large)\n",
      "We can't say that there is a significant difference in the performance of the models: SVM (mean: 0.613929, std: 0.139911) and MLP (mean: 0.518393, std: 0.198288) (Cohen's d=0.528165150065329, Large)\n",
      "We can't say that there is a significant difference in the performance of the models: RF (mean: 0.671071, std: 0.157330) and ET (mean: 0.580595, std: 0.115153) (Cohen's d=0.6225951353602495, Large)\n",
      "We can't say that there is a significant difference in the performance of the models: KNN (mean: 0.625060, std: 0.167687) and LR (mean: 0.537857, std: 0.188118) (Cohen's d=0.4642512719436062, Medium)\n",
      "We can't say that there is a significant difference in the performance of the models: Arbol (mean: 0.590417, std: 0.150174) and RF (mean: 0.671071, std: 0.157330) (Cohen's d=0.497523081620967, Medium)\n",
      "We can't say that there is a significant difference in the performance of the models: SVM (mean: 0.613929, std: 0.139911) and LR (mean: 0.537857, std: 0.188118) (Cohen's d=0.435333028141883, Medium)\n",
      "We can't say that there is a significant difference in the performance of the models: Arbol (mean: 0.590417, std: 0.150174) and MLP (mean: 0.518393, std: 0.198288) (Cohen's d=0.38848224419243116, Medium)\n",
      "We can't say that there is a significant difference in the performance of the models: MLP (mean: 0.518393, std: 0.198288) and ET (mean: 0.580595, std: 0.115153) (Cohen's d=0.363948871777745, Medium)\n",
      "We can't say that there is a significant difference in the performance of the models: SVM (mean: 0.613929, std: 0.139911) and RF (mean: 0.671071, std: 0.157330) (Cohen's d=0.3641335041139693, Medium)\n",
      "We can't say that there is a significant difference in the performance of the models: Arbol (mean: 0.590417, std: 0.150174) and LR (mean: 0.537857, std: 0.188118) (Cohen's d=0.2929521820981971, Medium)\n",
      "We can't say that there is a significant difference in the performance of the models: KNN (mean: 0.625060, std: 0.167687) and RF (mean: 0.671071, std: 0.157330) (Cohen's d=0.26846956217692397, Medium)\n",
      "We can't say that there is a significant difference in the performance of the models: KNN (mean: 0.625060, std: 0.167687) and ET (mean: 0.580595, std: 0.115153) (Cohen's d=0.29326265248223393, Medium)\n",
      "We can't say that there is a significant difference in the performance of the models: LR (mean: 0.537857, std: 0.188118) and ET (mean: 0.580595, std: 0.115153) (Cohen's d=0.2599665040958847, Medium)\n",
      "We can't say that there is a significant difference in the performance of the models: Arbol (mean: 0.590417, std: 0.150174) and KNN (mean: 0.625060, std: 0.167687) (Cohen's d=0.20647576301542006, Medium)\n",
      "We can't say that there is a significant difference in the performance of the models: SVM (mean: 0.613929, std: 0.139911) and ET (mean: 0.580595, std: 0.115153) (Cohen's d=0.24679999006252298, Medium)\n",
      "We can't say that there is a significant difference in the performance of the models: Arbol (mean: 0.590417, std: 0.150174) and SVM (mean: 0.613929, std: 0.139911) (Cohen's d=0.1536887871915077, Small)\n",
      "We can't say that there is a significant difference in the performance of the models: LR (mean: 0.537857, std: 0.188118) and MLP (mean: 0.518393, std: 0.198288) (Cohen's d=0.09554242162888367, Small)\n",
      "We can't say that there is a significant difference in the performance of the models: SVM (mean: 0.613929, std: 0.139911) and KNN (mean: 0.625060, std: 0.167687) (Cohen's d=0.06838115093626948, Small)\n",
      "We can't say that there is a significant difference in the performance of the models: Arbol (mean: 0.590417, std: 0.150174) and ET (mean: 0.580595, std: 0.115153) (Cohen's d=0.06962964411196193, Small)\n",
      "Eta squared: 0.081809 (Large)\n"
     ]
    },
    {
     "data": {
      "image/png": "[encoded data removed]",
      "text/plain": [
       "<Figure size 432x288 with 1 Axes>"
      ]
     },
     "metadata": {
      "needs_background": "light"
     },
     "output_type": "display_data"
    }
   ],
   "source": [
    "compare_methods(Xtsne2,Y,listAlgorithms,listParams,listNames,metric='auroc')"
   ]
  },
  {
   "cell_type": "code",
   "execution_count": 48,
   "metadata": {},
   "outputs": [
    {
     "name": "stdout",
     "output_type": "stream",
     "text": [
      "temp.csv\n",
      "['Arbol' 'SVM' 'KNN' 'LR' 'MLP' 'RF' 'ET']\n",
      "==========================================================\n",
      "Report\n",
      "==========================================================\n",
      "**********************************************************\n",
      "Mean and std\n",
      "**********************************************************\n",
      "Arbol: 0.577619 (0.247106)\n",
      "SVM: 0.615476 (0.264119)\n",
      "KNN: 0.633333 (0.229976)\n",
      "LR: 0.505238 (0.238416)\n",
      "MLP: 0.513333 (0.279762)\n",
      "RF: 0.688333 (0.293830)\n",
      "ET: 0.554286 (0.232164)\n",
      "**********************************************************\n",
      "Statistical tests\n",
      "**********************************************************\n",
      "----------------------------------------------------------\n",
      "Checking parametric conditions \n",
      "----------------------------------------------------------\n",
      "Checking independence \n",
      "Ok\n",
      "Checking normality using Shapiro-Wilk's test for normality, alpha=0.05\n",
      "W: 0.950125, p:0.007361\n",
      "The null hypothesis (normality) is rejected\n",
      "Checking heteroscedasticity using Levene's test, alpha=0.05\n",
      "W: 0.162676, p:0.985652\n",
      "The null hypothesis (heteroscedasticity) is accepted\n",
      "Conditions for a parametric test are not fulfilled, applying a non-parametric test\n",
      "----------------------------------------------------------\n",
      "Working with more than 2 algorithms\n",
      "----------------------------------------------------------\n",
      "----------------------------------------------------------\n",
      "Applying Friedman test\n",
      "----------------------------------------------------------\n",
      "F-value: 1.548347, p-value: 0.1803403995505377\n",
      "Null hypothesis is rejected; hence, models have different performance\n",
      "Technique      Ranking\n",
      "-----------  ---------\n",
      "RF                5.1\n",
      "SVM               4.75\n",
      "Arbol             4.35\n",
      "KNN               4.25\n",
      "ET                3.45\n",
      "LR                3.2\n",
      "MLP               2.9\n",
      "Winner model: RF\n",
      "----------------------------------------------------------\n",
      "Applying Holm p-value adjustment procedure and analysing effect size\n",
      "----------------------------------------------------------\n",
      "Comparison      Zvalue    p-value    adjusted p-value\n",
      "------------  --------  ---------  ------------------\n",
      "RF vs MLP     2.27722   0.0227733            0.13664\n",
      "RF vs LR      1.96669   0.0492193            0.246097\n",
      "RF vs ET      1.70791   0.0876526            0.35061\n",
      "RF vs KNN     0.879834  0.378949             1\n",
      "RF vs Arbol   0.776324  0.437558             1\n",
      "RF vs SVM     0.362284  0.71714              1\n",
      "There is a significant difference between the models: RF (mean: 0.688333, std: 0.293830) and MLP (mean: 0.513333, std: 0.279762) (Cohen's d=0.5787029833632925, Large)\n",
      "There is a significant difference between the models: RF (mean: 0.688333, std: 0.293830) and LR (mean: 0.505238, std: 0.238416) (Cohen's d=0.6491943319385524, Large)\n",
      "There is a significant difference between the models: RF (mean: 0.688333, std: 0.293830) and ET (mean: 0.554286, std: 0.232164) (Cohen's d=0.4802478475962154, Medium)\n",
      "We can't say that there is a significant difference in the performance of the models: RF (mean: 0.688333, std: 0.293830) and KNN (mean: 0.633333, std: 0.229976) (Cohen's d=0.19776085396263032, Small)\n",
      "We can't say that there is a significant difference in the performance of the models: RF (mean: 0.688333, std: 0.293830) and Arbol (mean: 0.577619, std: 0.247106) (Cohen's d=0.38689646743445893, Medium)\n",
      "We can't say that there is a significant difference in the performance of the models: RF (mean: 0.688333, std: 0.293830) and SVM (mean: 0.615476, std: 0.264119) (Cohen's d=0.24740816863276546, Medium)\n",
      "Eta squared: 0.054442 (Medium)\n"
     ]
    },
    {
     "data": {
      "image/png": "[encoded data removed]",
      "text/plain": [
       "<Figure size 432x288 with 1 Axes>"
      ]
     },
     "metadata": {
      "needs_background": "light"
     },
     "output_type": "display_data"
    }
   ],
   "source": [
    "compare_methods(Xtsne2,Y,listAlgorithms,listParams,listNames,metric='precision')"
   ]
  },
  {
   "cell_type": "code",
   "execution_count": 49,
   "metadata": {},
   "outputs": [
    {
     "name": "stdout",
     "output_type": "stream",
     "text": [
      "temp.csv\n",
      "['Arbol' 'SVM' 'KNN' 'LR' 'MLP' 'RF' 'ET']\n",
      "==========================================================\n",
      "Report\n",
      "==========================================================\n",
      "**********************************************************\n",
      "Mean and std\n",
      "**********************************************************\n",
      "Arbol: 0.594643 (0.165267)\n",
      "SVM: 0.545833 (0.206986)\n",
      "KNN: 0.576786 (0.222215)\n",
      "LR: 0.507143 (0.251594)\n",
      "MLP: 0.427381 (0.248262)\n",
      "RF: 0.555952 (0.186267)\n",
      "ET: 0.572619 (0.187963)\n",
      "**********************************************************\n",
      "Statistical tests\n",
      "**********************************************************\n",
      "----------------------------------------------------------\n",
      "Checking parametric conditions \n",
      "----------------------------------------------------------\n",
      "Checking independence \n",
      "Ok\n",
      "Checking normality using Shapiro-Wilk's test for normality, alpha=0.05\n",
      "W: 0.955086, p:0.013506\n",
      "The null hypothesis (normality) is rejected\n",
      "Checking heteroscedasticity using Levene's test, alpha=0.05\n",
      "W: 0.478116, p:0.822138\n",
      "The null hypothesis (heteroscedasticity) is accepted\n",
      "Conditions for a parametric test are not fulfilled, applying a non-parametric test\n",
      "----------------------------------------------------------\n",
      "Working with more than 2 algorithms\n",
      "----------------------------------------------------------\n",
      "----------------------------------------------------------\n",
      "Applying Friedman test\n",
      "----------------------------------------------------------\n",
      "F-value: 1.031847, p-value: 0.4149849226685408\n",
      "Null hypothesis is rejected; hence, models have different performance\n",
      "Technique      Ranking\n",
      "-----------  ---------\n",
      "Arbol             4.9\n",
      "ET                4.35\n",
      "KNN               4.35\n",
      "RF                4.15\n",
      "SVM               4.05\n",
      "LR                3.4\n",
      "MLP               2.8\n",
      "Winner model: Arbol\n",
      "----------------------------------------------------------\n",
      "Applying Holm p-value adjustment procedure and analysing effect size\n",
      "----------------------------------------------------------\n",
      "Comparison      Zvalue    p-value    adjusted p-value\n",
      "------------  --------  ---------  ------------------\n",
      "Arbol vs MLP  2.17371   0.0297272            0.178363\n",
      "Arbol vs LR   1.55265   0.120507             0.602537\n",
      "Arbol vs SVM  0.879834  0.378949             1\n",
      "Arbol vs RF   0.776324  0.437558             1\n",
      "Arbol vs KNN  0.569304  0.56915              1\n",
      "Arbol vs ET   0.569304  0.56915              1\n",
      "There is a significant difference between the models: Arbol (mean: 0.594643, std: 0.165267) and MLP (mean: 0.427381, std: 0.248262) (Cohen's d=0.7524311807667983, Large)\n",
      "We can't say that there is a significant difference in the performance of the models: Arbol (mean: 0.594643, std: 0.165267) and LR (mean: 0.507143, std: 0.251594) (Cohen's d=0.3899868932749356, Medium)\n",
      "We can't say that there is a significant difference in the performance of the models: Arbol (mean: 0.594643, std: 0.165267) and SVM (mean: 0.545833, std: 0.206986) (Cohen's d=0.24723305937351894, Medium)\n",
      "We can't say that there is a significant difference in the performance of the models: Arbol (mean: 0.594643, std: 0.165267) and RF (mean: 0.555952, std: 0.186267) (Cohen's d=0.20845602618307776, Medium)\n",
      "We can't say that there is a significant difference in the performance of the models: Arbol (mean: 0.594643, std: 0.165267) and KNN (mean: 0.576786, std: 0.222215) (Cohen's d=0.08651087140154134, Small)\n",
      "We can't say that there is a significant difference in the performance of the models: Arbol (mean: 0.594643, std: 0.165267) and ET (mean: 0.572619, std: 0.187963) (Cohen's d=0.11805671793045601, Small)\n",
      "Eta squared: 0.058255 (Medium)\n"
     ]
    },
    {
     "data": {
      "image/png": "[encoded data removed]",
      "text/plain": [
       "<Figure size 432x288 with 1 Axes>"
      ]
     },
     "metadata": {
      "needs_background": "light"
     },
     "output_type": "display_data"
    }
   ],
   "source": [
    "compare_methods(Xtsne2,Y,listAlgorithms,listParams,listNames,metric='recall')"
   ]
  },
  {
   "cell_type": "code",
   "execution_count": 50,
   "metadata": {},
   "outputs": [
    {
     "name": "stdout",
     "output_type": "stream",
     "text": [
      "temp.csv\n",
      "['Arbol' 'SVM' 'KNN' 'LR' 'MLP' 'RF' 'ET']\n",
      "==========================================================\n",
      "Report\n",
      "==========================================================\n",
      "**********************************************************\n",
      "Mean and std\n",
      "**********************************************************\n",
      "Arbol: 0.589091 (0.161644)\n",
      "SVM: 0.597273 (0.145798)\n",
      "KNN: 0.629091 (0.156078)\n",
      "LR: 0.490909 (0.164141)\n",
      "MLP: 0.541818 (0.200792)\n",
      "RF: 0.639091 (0.126755)\n",
      "ET: 0.580000 (0.126543)\n",
      "**********************************************************\n",
      "Statistical tests\n",
      "**********************************************************\n",
      "----------------------------------------------------------\n",
      "Checking parametric conditions \n",
      "----------------------------------------------------------\n",
      "Checking independence \n",
      "Ok\n",
      "Checking normality using Shapiro-Wilk's test for normality, alpha=0.05\n",
      "W: 0.970956, p:0.103237\n",
      "The null hypothesis (normality) is rejected\n",
      "Checking heteroscedasticity using Levene's test, alpha=0.05\n",
      "W: 0.567919, p:0.754269\n",
      "The null hypothesis (heteroscedasticity) is accepted\n",
      "Conditions for a parametric test are not fulfilled, applying a non-parametric test\n",
      "----------------------------------------------------------\n",
      "Working with more than 2 algorithms\n",
      "----------------------------------------------------------\n",
      "----------------------------------------------------------\n",
      "Applying Friedman test\n",
      "----------------------------------------------------------\n",
      "F-value: 1.349076, p-value: 0.2519656095209406\n",
      "Null hypothesis is rejected; hence, models have different performance\n",
      "Technique      Ranking\n",
      "-----------  ---------\n",
      "RF                4.9\n",
      "SVM               4.55\n",
      "KNN               4.5\n",
      "Arbol             4.4\n",
      "ET                3.65\n",
      "MLP               3.05\n",
      "LR                2.95\n",
      "Winner model: RF\n",
      "----------------------------------------------------------\n",
      "Applying Holm p-value adjustment procedure and analysing effect size\n",
      "----------------------------------------------------------\n",
      "Comparison      Zvalue    p-value    adjusted p-value\n",
      "------------  --------  ---------  ------------------\n",
      "RF vs LR      2.01844   0.0435453            0.261272\n",
      "RF vs MLP     1.91493   0.0555012            0.277506\n",
      "RF vs ET      1.29387   0.195709             0.782837\n",
      "RF vs Arbol   0.517549  0.604773             1\n",
      "RF vs KNN     0.414039  0.678845             1\n",
      "RF vs SVM     0.362284  0.71714              1\n",
      "There is a significant difference between the models: RF (mean: 0.639091, std: 0.126755) and LR (mean: 0.490909, std: 0.164141) (Cohen's d=0.9586300538269732, Large)\n",
      "There is a significant difference between the models: RF (mean: 0.639091, std: 0.126755) and MLP (mean: 0.541818, std: 0.200792) (Cohen's d=0.5496019412998305, Large)\n",
      "We can't say that there is a significant difference in the performance of the models: RF (mean: 0.639091, std: 0.126755) and ET (mean: 0.580000, std: 0.126543) (Cohen's d=0.44262773715929704, Medium)\n",
      "We can't say that there is a significant difference in the performance of the models: RF (mean: 0.639091, std: 0.126755) and Arbol (mean: 0.589091, std: 0.161644) (Cohen's d=0.3265662472416208, Medium)\n",
      "We can't say that there is a significant difference in the performance of the models: RF (mean: 0.639091, std: 0.126755) and KNN (mean: 0.629091, std: 0.156078) (Cohen's d=0.06672660524174621, Small)\n",
      "We can't say that there is a significant difference in the performance of the models: RF (mean: 0.639091, std: 0.126755) and SVM (mean: 0.597273, std: 0.145798) (Cohen's d=0.29040728124412035, Medium)\n",
      "Eta squared: 0.083907 (Large)\n"
     ]
    },
    {
     "data": {
      "image/png": "[encoded data removed]",
      "text/plain": [
       "<Figure size 432x288 with 1 Axes>"
      ]
     },
     "metadata": {
      "needs_background": "light"
     },
     "output_type": "display_data"
    }
   ],
   "source": [
    "compare_methods(Xtsne2,Y,listAlgorithms,listParams,listNames,metric='accuracy')"
   ]
  },
  {
   "cell_type": "code",
   "execution_count": 51,
   "metadata": {
    "id": "9s4RecsnKMgQ"
   },
   "outputs": [],
   "source": [
    "!mv temp.csv temptsne2.csv"
   ]
  },
  {
   "cell_type": "markdown",
   "metadata": {},
   "source": [
    "# TSNE with 3 components"
   ]
  },
  {
   "cell_type": "code",
   "execution_count": 52,
   "metadata": {
    "id": "ROSlAByBKUuE",
    "scrolled": true
   },
   "outputs": [
    {
     "name": "stdout",
     "output_type": "stream",
     "text": [
      "temp.csv\n",
      "['Arbol' 'SVM' 'KNN' 'LR' 'MLP' 'RF' 'ET']\n",
      "==========================================================\n",
      "Report\n",
      "==========================================================\n",
      "**********************************************************\n",
      "Mean and std\n",
      "**********************************************************\n",
      "Arbol: 0.607857 (0.115899)\n",
      "SVM: 0.448512 (0.145584)\n",
      "KNN: 0.444881 (0.163256)\n",
      "LR: 0.496548 (0.139741)\n",
      "MLP: 0.411012 (0.244448)\n",
      "RF: 0.460357 (0.132353)\n",
      "ET: 0.457381 (0.138218)\n",
      "**********************************************************\n",
      "Statistical tests\n",
      "**********************************************************\n",
      "----------------------------------------------------------\n",
      "Checking parametric conditions \n",
      "----------------------------------------------------------\n",
      "Checking independence \n",
      "Ok\n",
      "Checking normality using Shapiro-Wilk's test for normality, alpha=0.05\n",
      "W: 0.957397, p:0.018022\n",
      "The null hypothesis (normality) is rejected\n",
      "Checking heteroscedasticity using Levene's test, alpha=0.05\n",
      "W: 0.909568, p:0.493973\n",
      "The null hypothesis (heteroscedasticity) is rejected\n",
      "Conditions for a parametric test are not fulfilled, applying a non-parametric test\n",
      "----------------------------------------------------------\n",
      "Working with more than 2 algorithms\n",
      "----------------------------------------------------------\n",
      "----------------------------------------------------------\n",
      "Applying Friedman test\n",
      "----------------------------------------------------------\n",
      "F-value: 2.200000, p-value: 0.05695950016903373\n",
      "Null hypothesis is rejected; hence, models have different performance\n",
      "Technique      Ranking\n",
      "-----------  ---------\n",
      "Arbol             5.95\n",
      "LR                4.55\n",
      "KNN               3.7\n",
      "RF                3.6\n",
      "SVM               3.6\n",
      "MLP               3.35\n",
      "ET                3.25\n",
      "Winner model: Arbol\n",
      "----------------------------------------------------------\n",
      "Applying Holm p-value adjustment procedure and analysing effect size\n",
      "----------------------------------------------------------\n",
      "Comparison      Zvalue     p-value    adjusted p-value\n",
      "------------  --------  ----------  ------------------\n",
      "Arbol vs ET    2.79477  0.00519374           0.0311624\n",
      "Arbol vs MLP   2.69126  0.00711836           0.0355918\n",
      "Arbol vs SVM   2.43248  0.0149958            0.0599831\n",
      "Arbol vs RF    2.43248  0.0149958            0.0599831\n",
      "Arbol vs KNN   2.32897  0.0198606            0.0599831\n",
      "Arbol vs LR    1.44914  0.147299             0.147299\n",
      "There is a significant difference between the models: Arbol (mean: 0.607857, std: 0.115899) and ET (mean: 0.457381, std: 0.138218) (Cohen's d=1.119222160918809, Large)\n",
      "There is a significant difference between the models: Arbol (mean: 0.607857, std: 0.115899) and MLP (mean: 0.411012, std: 0.244448) (Cohen's d=0.9762092293194778, Large)\n",
      "There is a significant difference between the models: Arbol (mean: 0.607857, std: 0.115899) and SVM (mean: 0.448512, std: 0.145584) (Cohen's d=1.1488564424655445, Large)\n",
      "There is a significant difference between the models: Arbol (mean: 0.607857, std: 0.115899) and RF (mean: 0.460357, std: 0.132353) (Cohen's d=1.124860436891695, Large)\n",
      "There is a significant difference between the models: Arbol (mean: 0.607857, std: 0.115899) and KNN (mean: 0.444881, std: 0.163256) (Cohen's d=1.0921182644927412, Large)\n",
      "There is a significant difference between the models: Arbol (mean: 0.607857, std: 0.115899) and LR (mean: 0.496548, std: 0.139741) (Cohen's d=0.8225721564013518, Large)\n",
      "Eta squared: 0.120793 (Large)\n"
     ]
    },
    {
     "data": {
      "image/png": "[encoded data removed]",
      "text/plain": [
       "<Figure size 432x288 with 1 Axes>"
      ]
     },
     "metadata": {
      "needs_background": "light"
     },
     "output_type": "display_data"
    }
   ],
   "source": [
    "Xtsne3 = TSNE(n_components=3).fit_transform(X)\n",
    "compare_methods(Xtsne3,Y,listAlgorithms,listParams,listNames,metric='auroc')"
   ]
  },
  {
   "cell_type": "code",
   "execution_count": 53,
   "metadata": {},
   "outputs": [
    {
     "name": "stdout",
     "output_type": "stream",
     "text": [
      "temp.csv\n",
      "['Arbol' 'SVM' 'KNN' 'LR' 'MLP' 'RF' 'ET']\n",
      "==========================================================\n",
      "Report\n",
      "==========================================================\n",
      "**********************************************************\n",
      "Mean and std\n",
      "**********************************************************\n",
      "Arbol: 0.553095 (0.313723)\n",
      "SVM: 0.396429 (0.354436)\n",
      "KNN: 0.450000 (0.374907)\n",
      "LR: 0.418333 (0.310416)\n",
      "MLP: 0.380556 (0.394024)\n",
      "RF: 0.453968 (0.313197)\n",
      "ET: 0.459921 (0.303173)\n",
      "**********************************************************\n",
      "Statistical tests\n",
      "**********************************************************\n",
      "----------------------------------------------------------\n",
      "Checking parametric conditions \n",
      "----------------------------------------------------------\n",
      "Checking independence \n",
      "Ok\n",
      "Checking normality using Shapiro-Wilk's test for normality, alpha=0.05\n",
      "W: 0.895496, p:0.000026\n",
      "The null hypothesis (normality) is rejected\n",
      "Checking heteroscedasticity using Levene's test, alpha=0.05\n",
      "W: 0.399544, p:0.876604\n",
      "The null hypothesis (heteroscedasticity) is accepted\n",
      "Conditions for a parametric test are not fulfilled, applying a non-parametric test\n",
      "----------------------------------------------------------\n",
      "Working with more than 2 algorithms\n",
      "----------------------------------------------------------\n",
      "----------------------------------------------------------\n",
      "Applying Friedman test\n",
      "----------------------------------------------------------\n",
      "F-value: 0.917355, p-value: 0.48976516869155884\n",
      "Null hypothesis is rejected; hence, models have different performance\n",
      "Technique      Ranking\n",
      "-----------  ---------\n",
      "Arbol             5.35\n",
      "RF                4.15\n",
      "ET                4.1\n",
      "LR                3.85\n",
      "MLP               3.6\n",
      "KNN               3.5\n",
      "SVM               3.45\n",
      "Winner model: Arbol\n",
      "----------------------------------------------------------\n",
      "Applying Holm p-value adjustment procedure and analysing effect size\n",
      "----------------------------------------------------------\n",
      "Comparison      Zvalue    p-value    adjusted p-value\n",
      "------------  --------  ---------  ------------------\n",
      "Arbol vs SVM   1.96669  0.0492193            0.295316\n",
      "Arbol vs KNN   1.91493  0.0555012            0.295316\n",
      "Arbol vs MLP   1.81142  0.0700755            0.295316\n",
      "Arbol vs LR    1.55265  0.120507             0.361522\n",
      "Arbol vs ET    1.29387  0.195709             0.391419\n",
      "Arbol vs RF    1.24212  0.214193             0.391419\n",
      "There is a significant difference between the models: Arbol (mean: 0.553095, std: 0.313723) and SVM (mean: 0.396429, std: 0.354436) (Cohen's d=0.4440618444342292, Medium)\n",
      "There is a significant difference between the models: Arbol (mean: 0.553095, std: 0.313723) and KNN (mean: 0.450000, std: 0.374907) (Cohen's d=0.28294137511477174, Medium)\n",
      "There is a significant difference between the models: Arbol (mean: 0.553095, std: 0.313723) and MLP (mean: 0.380556, std: 0.394024) (Cohen's d=0.45960544708373086, Medium)\n",
      "There is a significant difference between the models: Arbol (mean: 0.553095, std: 0.313723) and LR (mean: 0.418333, std: 0.310416) (Cohen's d=0.4096670510290578, Medium)\n",
      "There is a significant difference between the models: Arbol (mean: 0.553095, std: 0.313723) and ET (mean: 0.459921, std: 0.303173) (Cohen's d=0.28653246348967537, Medium)\n",
      "There is a significant difference between the models: Arbol (mean: 0.553095, std: 0.313723) and RF (mean: 0.453968, std: 0.313197) (Cohen's d=0.300006976200396, Medium)\n",
      "Eta squared: 0.023302 (Medium)\n"
     ]
    },
    {
     "data": {
      "image/png": "[encoded data removed]",
      "text/plain": [
       "<Figure size 432x288 with 1 Axes>"
      ]
     },
     "metadata": {
      "needs_background": "light"
     },
     "output_type": "display_data"
    }
   ],
   "source": [
    "compare_methods(Xtsne3,Y,listAlgorithms,listParams,listNames,metric='precision')"
   ]
  },
  {
   "cell_type": "code",
   "execution_count": 54,
   "metadata": {},
   "outputs": [
    {
     "name": "stdout",
     "output_type": "stream",
     "text": [
      "temp.csv\n",
      "['Arbol' 'SVM' 'KNN' 'LR' 'MLP' 'RF' 'ET']\n",
      "==========================================================\n",
      "Report\n",
      "==========================================================\n",
      "**********************************************************\n",
      "Mean and std\n",
      "**********************************************************\n",
      "Arbol: 0.524405 (0.280135)\n",
      "SVM: 0.320238 (0.287714)\n",
      "KNN: 0.211310 (0.163431)\n",
      "LR: 0.423810 (0.314439)\n",
      "MLP: 0.320238 (0.313005)\n",
      "RF: 0.391071 (0.307203)\n",
      "ET: 0.455357 (0.347970)\n",
      "**********************************************************\n",
      "Statistical tests\n",
      "**********************************************************\n",
      "----------------------------------------------------------\n",
      "Checking parametric conditions \n",
      "----------------------------------------------------------\n",
      "Checking independence \n",
      "Ok\n",
      "Checking normality using Shapiro-Wilk's test for normality, alpha=0.05\n",
      "W: 0.912003, p:0.000119\n",
      "The null hypothesis (normality) is rejected\n",
      "Checking heteroscedasticity using Levene's test, alpha=0.05\n",
      "W: 1.325800, p:0.259010\n",
      "The null hypothesis (heteroscedasticity) is rejected\n",
      "Conditions for a parametric test are not fulfilled, applying a non-parametric test\n",
      "----------------------------------------------------------\n",
      "Working with more than 2 algorithms\n",
      "----------------------------------------------------------\n",
      "----------------------------------------------------------\n",
      "Applying Friedman test\n",
      "----------------------------------------------------------\n",
      "F-value: 0.976247, p-value: 0.4502798205312649\n",
      "Null hypothesis is rejected; hence, models have different performance\n",
      "Technique      Ranking\n",
      "-----------  ---------\n",
      "Arbol             5.05\n",
      "ET                4.55\n",
      "LR                4.2\n",
      "RF                4.1\n",
      "MLP               3.55\n",
      "KNN               3.4\n",
      "SVM               3.15\n",
      "Winner model: Arbol\n",
      "----------------------------------------------------------\n",
      "Applying Holm p-value adjustment procedure and analysing effect size\n",
      "----------------------------------------------------------\n",
      "Comparison      Zvalue    p-value    adjusted p-value\n",
      "------------  --------  ---------  ------------------\n",
      "Arbol vs SVM  1.96669   0.0492193            0.295316\n",
      "Arbol vs KNN  1.70791   0.0876526            0.438263\n",
      "Arbol vs MLP  1.55265   0.120507             0.482029\n",
      "Arbol vs RF   0.983343  0.325438             0.976315\n",
      "Arbol vs LR   0.879834  0.378949             0.976315\n",
      "Arbol vs ET   0.517549  0.604773             0.976315\n",
      "There is a significant difference between the models: Arbol (mean: 0.524405, std: 0.280135) and SVM (mean: 0.320238, std: 0.287714) (Cohen's d=0.682126664628417, Large)\n",
      "There is a significant difference between the models: Arbol (mean: 0.524405, std: 0.280135) and KNN (mean: 0.211310, std: 0.163431) (Cohen's d=1.295197253058983, Large)\n",
      "There is a significant difference between the models: Arbol (mean: 0.524405, std: 0.280135) and MLP (mean: 0.320238, std: 0.313005) (Cohen's d=0.6520989802086464, Large)\n",
      "We can't say that there is a significant difference in the performance of the models: Arbol (mean: 0.524405, std: 0.280135) and RF (mean: 0.391071, std: 0.307203) (Cohen's d=0.430270049225877, Medium)\n",
      "We can't say that there is a significant difference in the performance of the models: Arbol (mean: 0.524405, std: 0.280135) and LR (mean: 0.423810, std: 0.314439) (Cohen's d=0.3204803405249025, Medium)\n",
      "We can't say that there is a significant difference in the performance of the models: Arbol (mean: 0.524405, std: 0.280135) and ET (mean: 0.455357, std: 0.347970) (Cohen's d=0.2073718538066712, Medium)\n",
      "Eta squared: 0.096546 (Large)\n"
     ]
    },
    {
     "data": {
      "image/png": "[encoded data removed]",
      "text/plain": [
       "<Figure size 432x288 with 1 Axes>"
      ]
     },
     "metadata": {
      "needs_background": "light"
     },
     "output_type": "display_data"
    }
   ],
   "source": [
    "compare_methods(Xtsne3,Y,listAlgorithms,listParams,listNames,metric='recall')"
   ]
  },
  {
   "cell_type": "code",
   "execution_count": 55,
   "metadata": {},
   "outputs": [
    {
     "name": "stdout",
     "output_type": "stream",
     "text": [
      "temp.csv\n",
      "['Arbol' 'SVM' 'KNN' 'LR' 'MLP' 'RF' 'ET']\n",
      "==========================================================\n",
      "Report\n",
      "==========================================================\n",
      "**********************************************************\n",
      "Mean and std\n",
      "**********************************************************\n",
      "Arbol: 0.547273 (0.146575)\n",
      "SVM: 0.380909 (0.138674)\n",
      "KNN: 0.430000 (0.136063)\n",
      "LR: 0.430909 (0.140142)\n",
      "MLP: 0.361818 (0.245515)\n",
      "RF: 0.391818 (0.115598)\n",
      "ET: 0.371818 (0.081459)\n",
      "**********************************************************\n",
      "Statistical tests\n",
      "**********************************************************\n",
      "----------------------------------------------------------\n",
      "Checking parametric conditions \n",
      "----------------------------------------------------------\n",
      "Checking independence \n",
      "Ok\n",
      "Checking normality using Shapiro-Wilk's test for normality, alpha=0.05\n",
      "W: 0.975299, p:0.181122\n",
      "The null hypothesis (normality) is rejected\n",
      "Checking heteroscedasticity using Levene's test, alpha=0.05\n",
      "W: 1.225093, p:0.305514\n",
      "The null hypothesis (heteroscedasticity) is rejected\n",
      "Conditions for a parametric test are not fulfilled, applying a non-parametric test\n",
      "----------------------------------------------------------\n",
      "Working with more than 2 algorithms\n",
      "----------------------------------------------------------\n",
      "----------------------------------------------------------\n",
      "Applying Friedman test\n",
      "----------------------------------------------------------\n",
      "F-value: 2.096433, p-value: 0.06866030070702145\n",
      "Null hypothesis is rejected; hence, models have different performance\n",
      "Technique      Ranking\n",
      "-----------  ---------\n",
      "Arbol             5.8\n",
      "KNN               4.45\n",
      "LR                4.35\n",
      "MLP               3.45\n",
      "RF                3.4\n",
      "SVM               3.35\n",
      "ET                3.2\n",
      "Winner model: Arbol\n",
      "----------------------------------------------------------\n",
      "Applying Holm p-value adjustment procedure and analysing effect size\n",
      "----------------------------------------------------------\n",
      "Comparison      Zvalue     p-value    adjusted p-value\n",
      "------------  --------  ----------  ------------------\n",
      "Arbol vs ET    2.69126  0.00711836           0.0427102\n",
      "Arbol vs SVM   2.53599  0.011213             0.0560648\n",
      "Arbol vs RF    2.48424  0.012983             0.0560648\n",
      "Arbol vs MLP   2.43248  0.0149958            0.0560648\n",
      "Arbol vs LR    1.50089  0.133383             0.266767\n",
      "Arbol vs KNN   1.39738  0.162299             0.266767\n",
      "There is a significant difference between the models: Arbol (mean: 0.547273, std: 0.146575) and ET (mean: 0.371818, std: 0.081459) (Cohen's d=1.4037652736208972, Large)\n",
      "There is a significant difference between the models: Arbol (mean: 0.547273, std: 0.146575) and SVM (mean: 0.380909, std: 0.138674) (Cohen's d=1.1061603792093755, Large)\n",
      "There is a significant difference between the models: Arbol (mean: 0.547273, std: 0.146575) and RF (mean: 0.391818, std: 0.115598) (Cohen's d=1.1172652998580104, Large)\n",
      "There is a significant difference between the models: Arbol (mean: 0.547273, std: 0.146575) and MLP (mean: 0.361818, std: 0.245515) (Cohen's d=0.8701578161431094, Large)\n",
      "There is a significant difference between the models: Arbol (mean: 0.547273, std: 0.146575) and LR (mean: 0.430909, std: 0.140142) (Cohen's d=0.7698498621740406, Large)\n",
      "There is a significant difference between the models: Arbol (mean: 0.547273, std: 0.146575) and KNN (mean: 0.430000, std: 0.136063) (Cohen's d=0.7867137522682149, Large)\n",
      "Eta squared: 0.132720 (Large)\n"
     ]
    },
    {
     "data": {
      "image/png": "[encoded data removed]",
      "text/plain": [
       "<Figure size 432x288 with 1 Axes>"
      ]
     },
     "metadata": {
      "needs_background": "light"
     },
     "output_type": "display_data"
    }
   ],
   "source": [
    "compare_methods(Xtsne3,Y,listAlgorithms,listParams,listNames,metric='accuracy')"
   ]
  },
  {
   "cell_type": "code",
   "execution_count": 56,
   "metadata": {
    "id": "rAl1ayHcKbSF"
   },
   "outputs": [],
   "source": [
    "!mv temp.csv temptsne3.csv"
   ]
  },
  {
   "cell_type": "markdown",
   "metadata": {},
   "source": [
    "# UMAP with 2 components"
   ]
  },
  {
   "cell_type": "code",
   "execution_count": 57,
   "metadata": {
    "id": "T45s4ka649by"
   },
   "outputs": [],
   "source": [
    "from umap import UMAP"
   ]
  },
  {
   "cell_type": "code",
   "execution_count": 58,
   "metadata": {
    "id": "y-O-MGt_5AC4"
   },
   "outputs": [],
   "source": [
    "reducer = UMAP()"
   ]
  },
  {
   "cell_type": "code",
   "execution_count": 59,
   "metadata": {
    "id": "h3U_6qzL5bR_"
   },
   "outputs": [],
   "source": [
    "Xumap = reducer.fit_transform(X)"
   ]
  },
  {
   "cell_type": "code",
   "execution_count": 60,
   "metadata": {
    "id": "PqHq4hZsXPPy",
    "scrolled": true
   },
   "outputs": [
    {
     "name": "stdout",
     "output_type": "stream",
     "text": [
      "temp.csv\n",
      "['Arbol' 'SVM' 'KNN' 'LR' 'MLP' 'RF' 'ET']\n",
      "==========================================================\n",
      "Report\n",
      "==========================================================\n",
      "**********************************************************\n",
      "Mean and std\n",
      "**********************************************************\n",
      "Arbol: 0.638631 (0.174764)\n",
      "SVM: 0.632083 (0.111065)\n",
      "KNN: 0.593690 (0.144580)\n",
      "LR: 0.628512 (0.186439)\n",
      "MLP: 0.549048 (0.160077)\n",
      "RF: 0.651131 (0.125066)\n",
      "ET: 0.609464 (0.147160)\n",
      "**********************************************************\n",
      "Statistical tests\n",
      "**********************************************************\n",
      "----------------------------------------------------------\n",
      "Checking parametric conditions \n",
      "----------------------------------------------------------\n",
      "Checking independence \n",
      "Ok\n",
      "Checking normality using Shapiro-Wilk's test for normality, alpha=0.05\n",
      "W: 0.987704, p:0.727684\n",
      "The null hypothesis (normality) is accepted\n",
      "Checking heteroscedasticity using Levene's test, alpha=0.05\n",
      "W: 0.632161, p:0.703946\n",
      "The null hypothesis (heteroscedasticity) is accepted\n",
      "Conditions for a parametric test are fulfilled\n",
      "----------------------------------------------------------\n",
      "Working with more than 2 algorithms\n",
      "----------------------------------------------------------\n",
      "----------------------------------------------------------\n",
      "Applying ANOVA test\n",
      "----------------------------------------------------------\n",
      "F-value: 0.466391, p-value: 0.8306280354085583\n",
      "Null hypothesis is accepted; hence, we can't say that there is a significant difference in the performance of the models\n",
      "----------------------------------------------------------\n",
      "Analysing effect size\n",
      "----------------------------------------------------------\n",
      "We take the model with the best mean (RF, mean: 0.651131) and compare it with the other models: \n",
      "Comparing effect size of RF and Arbol: Cohen's d=0.07803702944604061, Small\n",
      "Comparing effect size of RF and SVM: Cohen's d=0.15278338080995352, Small\n",
      "Comparing effect size of RF and KNN: Cohen's d=0.40312528982816653, Medium\n",
      "Comparing effect size of RF and LR: Cohen's d=0.13517313424507424, Small\n",
      "Comparing effect size of RF and MLP: Cohen's d=0.6742079086072217, Large\n",
      "Comparing effect size of RF and ET: Cohen's d=0.289457293940072, Medium\n",
      "Eta squared: 0.042529 (Medium)\n"
     ]
    },
    {
     "data": {
      "image/png": "[encoded data removed]",
      "text/plain": [
       "<Figure size 432x288 with 1 Axes>"
      ]
     },
     "metadata": {
      "needs_background": "light"
     },
     "output_type": "display_data"
    }
   ],
   "source": [
    "compare_methods(Xumap,Y,listAlgorithms,listParams,listNames,metric='auroc')"
   ]
  },
  {
   "cell_type": "code",
   "execution_count": 61,
   "metadata": {},
   "outputs": [
    {
     "name": "stdout",
     "output_type": "stream",
     "text": [
      "temp.csv\n",
      "['Arbol' 'SVM' 'KNN' 'LR' 'MLP' 'RF' 'ET']\n",
      "==========================================================\n",
      "Report\n",
      "==========================================================\n",
      "**********************************************************\n",
      "Mean and std\n",
      "**********************************************************\n",
      "Arbol: 0.574167 (0.279793)\n",
      "SVM: 0.577738 (0.211303)\n",
      "KNN: 0.560000 (0.277108)\n",
      "LR: 0.580000 (0.294090)\n",
      "MLP: 0.499762 (0.355524)\n",
      "RF: 0.611905 (0.240420)\n",
      "ET: 0.563333 (0.240116)\n",
      "**********************************************************\n",
      "Statistical tests\n",
      "**********************************************************\n",
      "----------------------------------------------------------\n",
      "Checking parametric conditions \n",
      "----------------------------------------------------------\n",
      "Checking independence \n",
      "Ok\n",
      "Checking normality using Shapiro-Wilk's test for normality, alpha=0.05\n",
      "W: 0.944163, p:0.003630\n",
      "The null hypothesis (normality) is rejected\n",
      "Checking heteroscedasticity using Levene's test, alpha=0.05\n",
      "W: 0.441630, p:0.848175\n",
      "The null hypothesis (heteroscedasticity) is accepted\n",
      "Conditions for a parametric test are not fulfilled, applying a non-parametric test\n",
      "----------------------------------------------------------\n",
      "Working with more than 2 algorithms\n",
      "----------------------------------------------------------\n",
      "----------------------------------------------------------\n",
      "Applying Friedman test\n",
      "----------------------------------------------------------\n",
      "F-value: 0.776916, p-value: 0.5915812389973002\n",
      "Null hypothesis is accepted; hence, we can't say that there is a significant difference in the performance of the models\n",
      "----------------------------------------------------------\n",
      "Analysing effect size\n",
      "----------------------------------------------------------\n",
      "We take the model with the best mean (RF, mean: 0.611905) and compare it with the other models: \n",
      "Comparing effect size of RF and Arbol: Cohen's d=0.13724929377156667, Small\n",
      "Comparing effect size of RF and SVM: Cohen's d=0.14321265955523063, Small\n",
      "Comparing effect size of RF and KNN: Cohen's d=0.18981751822958975, Small\n",
      "Comparing effect size of RF and LR: Cohen's d=0.11268676909685675, Small\n",
      "Comparing effect size of RF and MLP: Cohen's d=0.3505615868616172, Medium\n",
      "Comparing effect size of RF and ET: Cohen's d=0.1917815068169604, Small\n",
      "Eta squared: 0.012962 (Medium)\n"
     ]
    },
    {
     "data": {
      "image/png": "[encoded data removed]",
      "text/plain": [
       "<Figure size 432x288 with 1 Axes>"
      ]
     },
     "metadata": {
      "needs_background": "light"
     },
     "output_type": "display_data"
    }
   ],
   "source": [
    "compare_methods(Xumap,Y,listAlgorithms,listParams,listNames,metric='precision')"
   ]
  },
  {
   "cell_type": "code",
   "execution_count": 62,
   "metadata": {},
   "outputs": [
    {
     "name": "stdout",
     "output_type": "stream",
     "text": [
      "temp.csv\n",
      "['Arbol' 'SVM' 'KNN' 'LR' 'MLP' 'RF' 'ET']\n",
      "==========================================================\n",
      "Report\n",
      "==========================================================\n",
      "**********************************************************\n",
      "Mean and std\n",
      "**********************************************************\n",
      "Arbol: 0.632738 (0.284422)\n",
      "SVM: 0.722024 (0.225721)\n",
      "KNN: 0.549405 (0.229858)\n",
      "LR: 0.585714 (0.294354)\n",
      "MLP: 0.455952 (0.336635)\n",
      "RF: 0.661905 (0.189297)\n",
      "ET: 0.624405 (0.199497)\n",
      "**********************************************************\n",
      "Statistical tests\n",
      "**********************************************************\n",
      "----------------------------------------------------------\n",
      "Checking parametric conditions \n",
      "----------------------------------------------------------\n",
      "Checking independence \n",
      "Ok\n",
      "Checking normality using Shapiro-Wilk's test for normality, alpha=0.05\n",
      "W: 0.923921, p:0.000393\n",
      "The null hypothesis (normality) is rejected\n",
      "Checking heteroscedasticity using Levene's test, alpha=0.05\n",
      "W: 1.021039, p:0.419990\n",
      "The null hypothesis (heteroscedasticity) is rejected\n",
      "Conditions for a parametric test are not fulfilled, applying a non-parametric test\n",
      "----------------------------------------------------------\n",
      "Working with more than 2 algorithms\n",
      "----------------------------------------------------------\n",
      "----------------------------------------------------------\n",
      "Applying Friedman test\n",
      "----------------------------------------------------------\n",
      "F-value: 1.277325, p-value: 0.2832424590535163\n",
      "Null hypothesis is rejected; hence, models have different performance\n",
      "Technique      Ranking\n",
      "-----------  ---------\n",
      "SVM               5.35\n",
      "RF                4.65\n",
      "Arbol             3.95\n",
      "ET                3.9\n",
      "LR                3.5\n",
      "KNN               3.5\n",
      "MLP               3.15\n",
      "Winner model: SVM\n",
      "----------------------------------------------------------\n",
      "Applying Holm p-value adjustment procedure and analysing effect size\n",
      "----------------------------------------------------------\n",
      "Comparison      Zvalue    p-value    adjusted p-value\n",
      "------------  --------  ---------  ------------------\n",
      "SVM vs MLP    2.27722   0.0227733            0.13664\n",
      "SVM vs KNN    1.91493   0.0555012            0.277506\n",
      "SVM vs LR     1.91493   0.0555012            0.277506\n",
      "SVM vs ET     1.50089   0.133383             0.40015\n",
      "SVM vs Arbol  1.44914   0.147299             0.40015\n",
      "SVM vs RF     0.724569  0.468717             0.468717\n",
      "There is a significant difference between the models: SVM (mean: 0.722024, std: 0.225721) and MLP (mean: 0.455952, std: 0.336635) (Cohen's d=0.8807466203384893, Large)\n",
      "There is a significant difference between the models: SVM (mean: 0.722024, std: 0.225721) and KNN (mean: 0.549405, std: 0.229858) (Cohen's d=0.7188830686282216, Large)\n",
      "There is a significant difference between the models: SVM (mean: 0.722024, std: 0.225721) and LR (mean: 0.585714, std: 0.294354) (Cohen's d=0.49301811391900735, Medium)\n",
      "There is a significant difference between the models: SVM (mean: 0.722024, std: 0.225721) and ET (mean: 0.624405, std: 0.199497) (Cohen's d=0.4347602960838888, Medium)\n",
      "There is a significant difference between the models: SVM (mean: 0.722024, std: 0.225721) and Arbol (mean: 0.632738, std: 0.284422) (Cohen's d=0.3299019164130485, Medium)\n",
      "There is a significant difference between the models: SVM (mean: 0.722024, std: 0.225721) and RF (mean: 0.661905, std: 0.189297) (Cohen's d=0.2737980994563945, Medium)\n",
      "Eta squared: 0.086810 (Large)\n"
     ]
    },
    {
     "data": {
      "image/png": "[encoded data removed]",
      "text/plain": [
       "<Figure size 432x288 with 1 Axes>"
      ]
     },
     "metadata": {
      "needs_background": "light"
     },
     "output_type": "display_data"
    }
   ],
   "source": [
    "compare_methods(Xumap,Y,listAlgorithms,listParams,listNames,metric='recall')"
   ]
  },
  {
   "cell_type": "code",
   "execution_count": 63,
   "metadata": {},
   "outputs": [
    {
     "name": "stdout",
     "output_type": "stream",
     "text": [
      "temp.csv\n",
      "['Arbol' 'SVM' 'KNN' 'LR' 'MLP' 'RF' 'ET']\n",
      "==========================================================\n",
      "Report\n",
      "==========================================================\n",
      "**********************************************************\n",
      "Mean and std\n",
      "**********************************************************\n",
      "Arbol: 0.625455 (0.179568)\n",
      "SVM: 0.646364 (0.102968)\n",
      "KNN: 0.569091 (0.115293)\n",
      "LR: 0.597273 (0.170029)\n",
      "MLP: 0.607273 (0.161900)\n",
      "RF: 0.644545 (0.115741)\n",
      "ET: 0.579091 (0.121699)\n",
      "**********************************************************\n",
      "Statistical tests\n",
      "**********************************************************\n",
      "----------------------------------------------------------\n",
      "Checking parametric conditions \n",
      "----------------------------------------------------------\n",
      "Checking independence \n",
      "Ok\n",
      "Checking normality using Shapiro-Wilk's test for normality, alpha=0.05\n",
      "W: 0.964285, p:0.043360\n",
      "The null hypothesis (normality) is rejected\n",
      "Checking heteroscedasticity using Levene's test, alpha=0.05\n",
      "W: 0.618985, p:0.714318\n",
      "The null hypothesis (heteroscedasticity) is accepted\n",
      "Conditions for a parametric test are not fulfilled, applying a non-parametric test\n",
      "----------------------------------------------------------\n",
      "Working with more than 2 algorithms\n",
      "----------------------------------------------------------\n",
      "----------------------------------------------------------\n",
      "Applying Friedman test\n",
      "----------------------------------------------------------\n",
      "F-value: 0.625668, p-value: 0.7089365538511894\n",
      "Null hypothesis is accepted; hence, we can't say that there is a significant difference in the performance of the models\n",
      "----------------------------------------------------------\n",
      "Analysing effect size\n",
      "----------------------------------------------------------\n",
      "We take the model with the best mean (SVM, mean: 0.646364) and compare it with the other models: \n",
      "Comparing effect size of SVM and Arbol: Cohen's d=0.1355222642819817, Small\n",
      "Comparing effect size of SVM and KNN: Cohen's d=0.6706695675730896, Large\n",
      "Comparing effect size of SVM and LR: Cohen's d=0.3313375377145878, Medium\n",
      "Comparing effect size of SVM and MLP: Cohen's d=0.2733412816977451, Medium\n",
      "Comparing effect size of SVM and RF: Cohen's d=0.01574645867520619, Small\n",
      "Comparing effect size of SVM and ET: Cohen's d=0.5661681212002453, Large\n",
      "Eta squared: 0.038290 (Medium)\n"
     ]
    },
    {
     "data": {
      "image/png": "[encoded data removed]",
      "text/plain": [
       "<Figure size 432x288 with 1 Axes>"
      ]
     },
     "metadata": {
      "needs_background": "light"
     },
     "output_type": "display_data"
    }
   ],
   "source": [
    "compare_methods(Xumap,Y,listAlgorithms,listParams,listNames,metric='accuracy')"
   ]
  },
  {
   "cell_type": "code",
   "execution_count": 64,
   "metadata": {
    "id": "9NTIJDD2XWW6"
   },
   "outputs": [],
   "source": [
    "!mv temp.csv tempumap2.csv"
   ]
  },
  {
   "cell_type": "markdown",
   "metadata": {},
   "source": [
    "# UMAP with 10 components"
   ]
  },
  {
   "cell_type": "code",
   "execution_count": 65,
   "metadata": {
    "id": "vtZHePZ6XaWK"
   },
   "outputs": [],
   "source": [
    "reducer = UMAP(n_components=10)"
   ]
  },
  {
   "cell_type": "code",
   "execution_count": 66,
   "metadata": {
    "id": "RT32rbaFXsMs"
   },
   "outputs": [],
   "source": [
    "Xumap10 = reducer.fit_transform(X)"
   ]
  },
  {
   "cell_type": "code",
   "execution_count": 67,
   "metadata": {
    "id": "IZhqNI6ZX2L0",
    "scrolled": true
   },
   "outputs": [
    {
     "name": "stdout",
     "output_type": "stream",
     "text": [
      "temp.csv\n",
      "['Arbol' 'SVM' 'KNN' 'LR' 'MLP' 'RF' 'ET']\n",
      "==========================================================\n",
      "Report\n",
      "==========================================================\n",
      "**********************************************************\n",
      "Mean and std\n",
      "**********************************************************\n",
      "Arbol: 0.607083 (0.182486)\n",
      "SVM: 0.687321 (0.134439)\n",
      "KNN: 0.591488 (0.163468)\n",
      "LR: 0.702798 (0.131158)\n",
      "MLP: 0.625119 (0.111679)\n",
      "RF: 0.626429 (0.209036)\n",
      "ET: 0.658155 (0.161864)\n",
      "**********************************************************\n",
      "Statistical tests\n",
      "**********************************************************\n",
      "----------------------------------------------------------\n",
      "Checking parametric conditions \n",
      "----------------------------------------------------------\n",
      "Checking independence \n",
      "Ok\n",
      "Checking normality using Shapiro-Wilk's test for normality, alpha=0.05\n",
      "W: 0.970366, p:0.095593\n",
      "The null hypothesis (normality) is rejected\n",
      "Checking heteroscedasticity using Levene's test, alpha=0.05\n",
      "W: 1.209739, p:0.313172\n",
      "The null hypothesis (heteroscedasticity) is rejected\n",
      "Conditions for a parametric test are not fulfilled, applying a non-parametric test\n",
      "----------------------------------------------------------\n",
      "Working with more than 2 algorithms\n",
      "----------------------------------------------------------\n",
      "----------------------------------------------------------\n",
      "Applying Friedman test\n",
      "----------------------------------------------------------\n",
      "F-value: 2.207472, p-value: 0.05619515381412821\n",
      "Null hypothesis is rejected; hence, models have different performance\n",
      "Technique      Ranking\n",
      "-----------  ---------\n",
      "LR                5.5\n",
      "SVM               5.15\n",
      "ET                4\n",
      "RF                3.6\n",
      "MLP               3.5\n",
      "Arbol             3.15\n",
      "KNN               3.1\n",
      "Winner model: LR\n",
      "----------------------------------------------------------\n",
      "Applying Holm p-value adjustment procedure and analysing effect size\n",
      "----------------------------------------------------------\n",
      "Comparison      Zvalue    p-value    adjusted p-value\n",
      "------------  --------  ---------  ------------------\n",
      "LR vs KNN     2.48424   0.012983            0.0778978\n",
      "LR vs Arbol   2.43248   0.0149958           0.0778978\n",
      "LR vs MLP     2.0702    0.0384339           0.153736\n",
      "LR vs RF      1.96669   0.0492193           0.153736\n",
      "LR vs ET      1.55265   0.120507            0.241015\n",
      "LR vs SVM     0.362284  0.71714             0.71714\n",
      "There is a significant difference between the models: LR (mean: 0.702798, std: 0.131158) and KNN (mean: 0.591488, std: 0.163468) (Cohen's d=0.7125522583996825, Large)\n",
      "There is a significant difference between the models: LR (mean: 0.702798, std: 0.131158) and Arbol (mean: 0.607083, std: 0.182486) (Cohen's d=0.5714149972756115, Large)\n",
      "There is a significant difference between the models: LR (mean: 0.702798, std: 0.131158) and MLP (mean: 0.625119, std: 0.111679) (Cohen's d=0.6049849649478484, Large)\n",
      "There is a significant difference between the models: LR (mean: 0.702798, std: 0.131158) and RF (mean: 0.626429, std: 0.209036) (Cohen's d=0.4151929022198236, Medium)\n",
      "There is a significant difference between the models: LR (mean: 0.702798, std: 0.131158) and ET (mean: 0.658155, std: 0.161864) (Cohen's d=0.2874958389271443, Medium)\n",
      "We can't say that there is a significant difference in the performance of the models: LR (mean: 0.702798, std: 0.131158) and SVM (mean: 0.687321, std: 0.134439) (Cohen's d=0.11054979781631749, Small)\n",
      "Eta squared: 0.054830 (Medium)\n"
     ]
    },
    {
     "data": {
      "image/png": "[encoded data removed]",
      "text/plain": [
       "<Figure size 432x288 with 1 Axes>"
      ]
     },
     "metadata": {
      "needs_background": "light"
     },
     "output_type": "display_data"
    }
   ],
   "source": [
    "compare_methods(Xumap10,Y,listAlgorithms,listParams,listNames,metric='auroc')"
   ]
  },
  {
   "cell_type": "code",
   "execution_count": 68,
   "metadata": {},
   "outputs": [
    {
     "name": "stdout",
     "output_type": "stream",
     "text": [
      "temp.csv\n",
      "['Arbol' 'SVM' 'KNN' 'LR' 'MLP' 'RF' 'ET']\n",
      "==========================================================\n",
      "Report\n",
      "==========================================================\n",
      "**********************************************************\n",
      "Mean and std\n",
      "**********************************************************\n",
      "Arbol: 0.595238 (0.250598)\n",
      "SVM: 0.657143 (0.234485)\n",
      "KNN: 0.593333 (0.301496)\n",
      "LR: 0.677143 (0.234088)\n",
      "MLP: 0.632619 (0.220626)\n",
      "RF: 0.588333 (0.258419)\n",
      "ET: 0.637143 (0.242400)\n",
      "**********************************************************\n",
      "Statistical tests\n",
      "**********************************************************\n",
      "----------------------------------------------------------\n",
      "Checking parametric conditions \n",
      "----------------------------------------------------------\n",
      "Checking independence \n",
      "Ok\n",
      "Checking normality using Shapiro-Wilk's test for normality, alpha=0.05\n",
      "W: 0.945103, p:0.004051\n",
      "The null hypothesis (normality) is rejected\n",
      "Checking heteroscedasticity using Levene's test, alpha=0.05\n",
      "W: 0.048587, p:0.999497\n",
      "The null hypothesis (heteroscedasticity) is accepted\n",
      "Conditions for a parametric test are not fulfilled, applying a non-parametric test\n",
      "----------------------------------------------------------\n",
      "Working with more than 2 algorithms\n",
      "----------------------------------------------------------\n",
      "----------------------------------------------------------\n",
      "Applying Friedman test\n",
      "----------------------------------------------------------\n",
      "F-value: 1.271041, p-value: 0.2861309309972808\n",
      "Null hypothesis is rejected; hence, models have different performance\n",
      "Technique      Ranking\n",
      "-----------  ---------\n",
      "LR                5.25\n",
      "SVM               4.65\n",
      "MLP               3.95\n",
      "KNN               3.95\n",
      "ET                3.9\n",
      "RF                3.25\n",
      "Arbol             3.05\n",
      "Winner model: LR\n",
      "----------------------------------------------------------\n",
      "Applying Holm p-value adjustment procedure and analysing effect size\n",
      "----------------------------------------------------------\n",
      "Comparison      Zvalue    p-value    adjusted p-value\n",
      "------------  --------  ---------  ------------------\n",
      "LR vs Arbol   2.27722   0.0227733            0.13664\n",
      "LR vs RF      2.0702    0.0384339            0.19217\n",
      "LR vs ET      1.39738   0.162299             0.649194\n",
      "LR vs KNN     1.34563   0.178423             0.649194\n",
      "LR vs MLP     1.34563   0.178423             0.649194\n",
      "LR vs SVM     0.621059  0.534561             0.649194\n",
      "There is a significant difference between the models: LR (mean: 0.677143, std: 0.234088) and Arbol (mean: 0.595238, std: 0.250598) (Cohen's d=0.3204409602713903, Medium)\n",
      "There is a significant difference between the models: LR (mean: 0.677143, std: 0.234088) and RF (mean: 0.588333, std: 0.258419) (Cohen's d=0.34171857937937444, Medium)\n",
      "We can't say that there is a significant difference in the performance of the models: LR (mean: 0.677143, std: 0.234088) and ET (mean: 0.637143, std: 0.242400) (Cohen's d=0.15925510089523498, Small)\n",
      "We can't say that there is a significant difference in the performance of the models: LR (mean: 0.677143, std: 0.234088) and KNN (mean: 0.593333, std: 0.301496) (Cohen's d=0.29458043911888304, Medium)\n",
      "We can't say that there is a significant difference in the performance of the models: LR (mean: 0.677143, std: 0.234088) and MLP (mean: 0.632619, std: 0.220626) (Cohen's d=0.1857012794701056, Small)\n",
      "We can't say that there is a significant difference in the performance of the models: LR (mean: 0.677143, std: 0.234088) and SVM (mean: 0.657143, std: 0.234485) (Cohen's d=0.08098490867013858, Small)\n",
      "Eta squared: 0.016152 (Medium)\n"
     ]
    },
    {
     "data": {
      "image/png": "[encoded data removed]",
      "text/plain": [
       "<Figure size 432x288 with 1 Axes>"
      ]
     },
     "metadata": {
      "needs_background": "light"
     },
     "output_type": "display_data"
    }
   ],
   "source": [
    "compare_methods(Xumap10,Y,listAlgorithms,listParams,listNames,metric='precision')"
   ]
  },
  {
   "cell_type": "code",
   "execution_count": 69,
   "metadata": {},
   "outputs": [
    {
     "name": "stdout",
     "output_type": "stream",
     "text": [
      "temp.csv\n",
      "['Arbol' 'SVM' 'KNN' 'LR' 'MLP' 'RF' 'ET']\n",
      "==========================================================\n",
      "Report\n",
      "==========================================================\n",
      "**********************************************************\n",
      "Mean and std\n",
      "**********************************************************\n",
      "Arbol: 0.592262 (0.257309)\n",
      "SVM: 0.651786 (0.231872)\n",
      "KNN: 0.514286 (0.215985)\n",
      "LR: 0.670238 (0.221445)\n",
      "MLP: 0.575000 (0.229922)\n",
      "RF: 0.616667 (0.273696)\n",
      "ET: 0.643452 (0.234352)\n",
      "**********************************************************\n",
      "Statistical tests\n",
      "**********************************************************\n",
      "----------------------------------------------------------\n",
      "Checking parametric conditions \n",
      "----------------------------------------------------------\n",
      "Checking independence \n",
      "Ok\n",
      "Checking normality using Shapiro-Wilk's test for normality, alpha=0.05\n",
      "W: 0.953434, p:0.011015\n",
      "The null hypothesis (normality) is rejected\n",
      "Checking heteroscedasticity using Levene's test, alpha=0.05\n",
      "W: 0.392053, p:0.881454\n",
      "The null hypothesis (heteroscedasticity) is accepted\n",
      "Conditions for a parametric test are not fulfilled, applying a non-parametric test\n",
      "----------------------------------------------------------\n",
      "Working with more than 2 algorithms\n",
      "----------------------------------------------------------\n",
      "----------------------------------------------------------\n",
      "Applying Friedman test\n",
      "----------------------------------------------------------\n",
      "F-value: 0.929078, p-value: 0.4817392850988248\n",
      "Null hypothesis is rejected; hence, models have different performance\n",
      "Technique      Ranking\n",
      "-----------  ---------\n",
      "LR                5\n",
      "SVM               4.65\n",
      "ET                4.15\n",
      "RF                3.9\n",
      "MLP               3.8\n",
      "KNN               3.25\n",
      "Arbol             3.25\n",
      "Winner model: LR\n",
      "----------------------------------------------------------\n",
      "Applying Holm p-value adjustment procedure and analysing effect size\n",
      "----------------------------------------------------------\n",
      "Comparison      Zvalue    p-value    adjusted p-value\n",
      "------------  --------  ---------  ------------------\n",
      "LR vs Arbol   1.81142   0.0700755            0.420453\n",
      "LR vs KNN     1.81142   0.0700755            0.420453\n",
      "LR vs MLP     1.24212   0.214193             0.856772\n",
      "LR vs RF      1.13861   0.254867             0.856772\n",
      "LR vs ET      0.879834  0.378949             0.856772\n",
      "LR vs SVM     0.362284  0.71714              0.856772\n",
      "There is a significant difference between the models: LR (mean: 0.670238, std: 0.221445) and Arbol (mean: 0.592262, std: 0.257309) (Cohen's d=0.3081670570646779, Medium)\n",
      "There is a significant difference between the models: LR (mean: 0.670238, std: 0.221445) and KNN (mean: 0.514286, std: 0.215985) (Cohen's d=0.6763959207171982, Large)\n",
      "We can't say that there is a significant difference in the performance of the models: LR (mean: 0.670238, std: 0.221445) and MLP (mean: 0.575000, std: 0.229922) (Cohen's d=0.4002725004313203, Medium)\n",
      "We can't say that there is a significant difference in the performance of the models: LR (mean: 0.670238, std: 0.221445) and RF (mean: 0.616667, std: 0.273696) (Cohen's d=0.20415098440266788, Medium)\n",
      "We can't say that there is a significant difference in the performance of the models: LR (mean: 0.670238, std: 0.221445) and ET (mean: 0.643452, std: 0.234352) (Cohen's d=0.11145744683191025, Small)\n",
      "We can't say that there is a significant difference in the performance of the models: LR (mean: 0.670238, std: 0.221445) and SVM (mean: 0.651786, std: 0.231872) (Cohen's d=0.07721246319562958, Small)\n",
      "Eta squared: 0.041467 (Medium)\n"
     ]
    },
    {
     "data": {
      "image/png": "[encoded data removed]",
      "text/plain": [
       "<Figure size 432x288 with 1 Axes>"
      ]
     },
     "metadata": {
      "needs_background": "light"
     },
     "output_type": "display_data"
    }
   ],
   "source": [
    "compare_methods(Xumap10,Y,listAlgorithms,listParams,listNames,metric='recall')"
   ]
  },
  {
   "cell_type": "code",
   "execution_count": 70,
   "metadata": {},
   "outputs": [
    {
     "name": "stdout",
     "output_type": "stream",
     "text": [
      "temp.csv\n",
      "['Arbol' 'SVM' 'KNN' 'LR' 'MLP' 'RF' 'ET']\n",
      "==========================================================\n",
      "Report\n",
      "==========================================================\n",
      "**********************************************************\n",
      "Mean and std\n",
      "**********************************************************\n",
      "Arbol: 0.555455 (0.163911)\n",
      "SVM: 0.666364 (0.127859)\n",
      "KNN: 0.605455 (0.129857)\n",
      "LR: 0.684545 (0.127406)\n",
      "MLP: 0.616364 (0.132228)\n",
      "RF: 0.588182 (0.187636)\n",
      "ET: 0.626364 (0.148516)\n",
      "**********************************************************\n",
      "Statistical tests\n",
      "**********************************************************\n",
      "----------------------------------------------------------\n",
      "Checking parametric conditions \n",
      "----------------------------------------------------------\n",
      "Checking independence \n",
      "Ok\n",
      "Checking normality using Shapiro-Wilk's test for normality, alpha=0.05\n",
      "W: 0.961963, p:0.032161\n",
      "The null hypothesis (normality) is rejected\n",
      "Checking heteroscedasticity using Levene's test, alpha=0.05\n",
      "W: 0.426301, p:0.858749\n",
      "The null hypothesis (heteroscedasticity) is accepted\n",
      "Conditions for a parametric test are not fulfilled, applying a non-parametric test\n",
      "----------------------------------------------------------\n",
      "Working with more than 2 algorithms\n",
      "----------------------------------------------------------\n",
      "----------------------------------------------------------\n",
      "Applying Friedman test\n",
      "----------------------------------------------------------\n",
      "F-value: 2.607554, p-value: 0.02715620082959269\n",
      "Null hypothesis is rejected; hence, models have different performance\n",
      "Technique      Ranking\n",
      "-----------  ---------\n",
      "LR                5.55\n",
      "SVM               5\n",
      "MLP               4\n",
      "ET                3.95\n",
      "KNN               3.65\n",
      "RF                3.4\n",
      "Arbol             2.45\n",
      "Winner model: LR\n",
      "----------------------------------------------------------\n",
      "Applying Holm p-value adjustment procedure and analysing effect size\n",
      "----------------------------------------------------------\n",
      "Comparison      Zvalue     p-value    adjusted p-value\n",
      "------------  --------  ----------  ------------------\n",
      "LR vs Arbol   3.2088    0.00133288          0.00799728\n",
      "LR vs RF      2.22546   0.0260503           0.130251\n",
      "LR vs KNN     1.96669   0.0492193           0.196877\n",
      "LR vs ET      1.65616   0.09769             0.29307\n",
      "LR vs MLP     1.6044    0.108625            0.29307\n",
      "LR vs SVM     0.569304  0.56915             0.56915\n",
      "There is a significant difference between the models: LR (mean: 0.684545, std: 0.127406) and Arbol (mean: 0.555455, std: 0.163911) (Cohen's d=0.8342523535798385, Large)\n",
      "There is a significant difference between the models: LR (mean: 0.684545, std: 0.127406) and RF (mean: 0.588182, std: 0.187636) (Cohen's d=0.5700334592470531, Large)\n",
      "There is a significant difference between the models: LR (mean: 0.684545, std: 0.127406) and KNN (mean: 0.605455, std: 0.129857) (Cohen's d=0.5832857361266304, Large)\n",
      "There is a significant difference between the models: LR (mean: 0.684545, std: 0.127406) and ET (mean: 0.626364, std: 0.148516) (Cohen's d=0.3989193258472534, Medium)\n",
      "There is a significant difference between the models: LR (mean: 0.684545, std: 0.127406) and MLP (mean: 0.616364, std: 0.132228) (Cohen's d=0.49817668877243443, Medium)\n",
      "We can't say that there is a significant difference in the performance of the models: LR (mean: 0.684545, std: 0.127406) and SVM (mean: 0.666364, std: 0.127859) (Cohen's d=0.13514404741167554, Small)\n",
      "Eta squared: 0.072219 (Large)\n"
     ]
    },
    {
     "data": {
      "image/png": "[encoded data removed]",
      "text/plain": [
       "<Figure size 432x288 with 1 Axes>"
      ]
     },
     "metadata": {
      "needs_background": "light"
     },
     "output_type": "display_data"
    }
   ],
   "source": [
    "compare_methods(Xumap10,Y,listAlgorithms,listParams,listNames,metric='accuracy')"
   ]
  },
  {
   "cell_type": "markdown",
   "metadata": {},
   "source": [
    "# Isomap"
   ]
  },
  {
   "cell_type": "code",
   "execution_count": 71,
   "metadata": {
    "scrolled": true
   },
   "outputs": [
    {
     "name": "stdout",
     "output_type": "stream",
     "text": [
      "temp.csv\n",
      "['Arbol' 'SVM' 'KNN' 'LR' 'MLP' 'RF' 'ET']\n",
      "==========================================================\n",
      "Report\n",
      "==========================================================\n",
      "**********************************************************\n",
      "Mean and std\n",
      "**********************************************************\n",
      "Arbol: 0.553929 (0.143713)\n",
      "SVM: 0.641488 (0.117655)\n",
      "KNN: 0.623571 (0.156804)\n",
      "LR: 0.628512 (0.122114)\n",
      "MLP: 0.618095 (0.115574)\n",
      "RF: 0.573869 (0.191203)\n",
      "ET: 0.573571 (0.117700)\n",
      "**********************************************************\n",
      "Statistical tests\n",
      "**********************************************************\n",
      "----------------------------------------------------------\n",
      "Checking parametric conditions \n",
      "----------------------------------------------------------\n",
      "Checking independence \n",
      "Ok\n",
      "Checking normality using Shapiro-Wilk's test for normality, alpha=0.05\n",
      "W: 0.970855, p:0.101893\n",
      "The null hypothesis (normality) is rejected\n",
      "Checking heteroscedasticity using Levene's test, alpha=0.05\n",
      "W: 0.388278, p:0.883871\n",
      "The null hypothesis (heteroscedasticity) is accepted\n",
      "Conditions for a parametric test are not fulfilled, applying a non-parametric test\n",
      "----------------------------------------------------------\n",
      "Working with more than 2 algorithms\n",
      "----------------------------------------------------------\n",
      "----------------------------------------------------------\n",
      "Applying Friedman test\n",
      "----------------------------------------------------------\n",
      "F-value: 1.108303, p-value: 0.3697291841078919\n",
      "Null hypothesis is rejected; hence, models have different performance\n",
      "Technique      Ranking\n",
      "-----------  ---------\n",
      "SVM               4.85\n",
      "LR                4.7\n",
      "MLP               4.4\n",
      "KNN               4.05\n",
      "ET                3.65\n",
      "RF                3.5\n",
      "Arbol             2.85\n",
      "Winner model: SVM\n",
      "----------------------------------------------------------\n",
      "Applying Holm p-value adjustment procedure and analysing effect size\n",
      "----------------------------------------------------------\n",
      "Comparison      Zvalue    p-value    adjusted p-value\n",
      "------------  --------  ---------  ------------------\n",
      "SVM vs Arbol  2.0702    0.0384339            0.230604\n",
      "SVM vs RF     1.39738   0.162299             0.811493\n",
      "SVM vs ET     1.24212   0.214193             0.856772\n",
      "SVM vs KNN    0.828079  0.407626             1\n",
      "SVM vs MLP    0.465794  0.641363             1\n",
      "SVM vs LR     0.155265  0.876613             1\n",
      "There is a significant difference between the models: SVM (mean: 0.641488, std: 0.117655) and Arbol (mean: 0.553929, std: 0.143713) (Cohen's d=0.6324912423876934, Large)\n",
      "We can't say that there is a significant difference in the performance of the models: SVM (mean: 0.641488, std: 0.117655) and RF (mean: 0.573869, std: 0.191203) (Cohen's d=0.4040955049878643, Medium)\n",
      "We can't say that there is a significant difference in the performance of the models: SVM (mean: 0.641488, std: 0.117655) and ET (mean: 0.573571, std: 0.117700) (Cohen's d=0.5475249628806612, Large)\n",
      "We can't say that there is a significant difference in the performance of the models: SVM (mean: 0.641488, std: 0.117655) and KNN (mean: 0.623571, std: 0.156804) (Cohen's d=0.12261879303488167, Small)\n",
      "We can't say that there is a significant difference in the performance of the models: SVM (mean: 0.641488, std: 0.117655) and MLP (mean: 0.618095, std: 0.115574) (Cohen's d=0.19029791178044198, Small)\n",
      "We can't say that there is a significant difference in the performance of the models: SVM (mean: 0.641488, std: 0.117655) and LR (mean: 0.628512, std: 0.122114) (Cohen's d=0.10266679894202486, Small)\n",
      "Eta squared: 0.047676 (Medium)\n"
     ]
    },
    {
     "data": {
      "image/png": "[encoded data removed]",
      "text/plain": [
       "<Figure size 432x288 with 1 Axes>"
      ]
     },
     "metadata": {
      "needs_background": "light"
     },
     "output_type": "display_data"
    }
   ],
   "source": [
    "from sklearn import manifold\n",
    "clf = manifold.Isomap(10, n_components=2)\n",
    "X_iso2 = clf.fit_transform(X)\n",
    "compare_methods(X_iso2,Y,listAlgorithms,listParams,listNames,metric='auroc')\n",
    "!mv temp.csv tempiso2.csv"
   ]
  },
  {
   "cell_type": "code",
   "execution_count": 72,
   "metadata": {},
   "outputs": [
    {
     "name": "stdout",
     "output_type": "stream",
     "text": [
      "temp.csv\n",
      "['Arbol' 'SVM' 'KNN' 'LR' 'MLP' 'RF' 'ET']\n",
      "==========================================================\n",
      "Report\n",
      "==========================================================\n",
      "**********************************************************\n",
      "Mean and std\n",
      "**********************************************************\n",
      "Arbol: 0.530833 (0.289637)\n",
      "SVM: 0.630000 (0.285657)\n",
      "KNN: 0.580238 (0.294057)\n",
      "LR: 0.609762 (0.249942)\n",
      "MLP: 0.606905 (0.252151)\n",
      "RF: 0.535833 (0.276688)\n",
      "ET: 0.526071 (0.287619)\n",
      "**********************************************************\n",
      "Statistical tests\n",
      "**********************************************************\n",
      "----------------------------------------------------------\n",
      "Checking parametric conditions \n",
      "----------------------------------------------------------\n",
      "Checking independence \n",
      "Ok\n",
      "Checking normality using Shapiro-Wilk's test for normality, alpha=0.05\n",
      "W: 0.950252, p:0.007474\n",
      "The null hypothesis (normality) is rejected\n",
      "Checking heteroscedasticity using Levene's test, alpha=0.05\n",
      "W: 0.059123, p:0.999117\n",
      "The null hypothesis (heteroscedasticity) is accepted\n",
      "Conditions for a parametric test are not fulfilled, applying a non-parametric test\n",
      "----------------------------------------------------------\n",
      "Working with more than 2 algorithms\n",
      "----------------------------------------------------------\n",
      "----------------------------------------------------------\n",
      "Applying Friedman test\n",
      "----------------------------------------------------------\n",
      "F-value: 1.465116, p-value: 0.20769169685343858\n",
      "Null hypothesis is rejected; hence, models have different performance\n",
      "Technique      Ranking\n",
      "-----------  ---------\n",
      "LR                4.85\n",
      "SVM               4.85\n",
      "MLP               4.75\n",
      "KNN               3.8\n",
      "ET                3.45\n",
      "RF                3.4\n",
      "Arbol             2.9\n",
      "Winner model: LR\n",
      "----------------------------------------------------------\n",
      "Applying Holm p-value adjustment procedure and analysing effect size\n",
      "----------------------------------------------------------\n",
      "Comparison      Zvalue    p-value    adjusted p-value\n",
      "------------  --------  ---------  ------------------\n",
      "LR vs Arbol    2.01844  0.0435453            0.261272\n",
      "LR vs RF       1.50089  0.133383             0.666917\n",
      "LR vs ET       1.44914  0.147299             0.666917\n",
      "LR vs KNN      1.08685  0.277102             0.831305\n",
      "LR vs MLP      0.10351  0.917558             1\n",
      "LR vs SVM      0        1                    1\n",
      "There is a significant difference between the models: LR (mean: 0.609762, std: 0.249942) and Arbol (mean: 0.530833, std: 0.289637) (Cohen's d=0.27679508994623253, Medium)\n",
      "We can't say that there is a significant difference in the performance of the models: LR (mean: 0.609762, std: 0.249942) and RF (mean: 0.535833, std: 0.276688) (Cohen's d=0.26601035997913997, Medium)\n",
      "We can't say that there is a significant difference in the performance of the models: LR (mean: 0.609762, std: 0.249942) and ET (mean: 0.526071, std: 0.287619) (Cohen's d=0.2946697062943458, Medium)\n",
      "We can't say that there is a significant difference in the performance of the models: LR (mean: 0.609762, std: 0.249942) and KNN (mean: 0.580238, std: 0.294057) (Cohen's d=0.1026366050547728, Small)\n",
      "We can't say that there is a significant difference in the performance of the models: LR (mean: 0.609762, std: 0.249942) and MLP (mean: 0.606905, std: 0.252151) (Cohen's d=0.01079680407915867, Small)\n",
      "We can't say that there is a significant difference in the performance of the models: LR (mean: 0.609762, std: 0.249942) and SVM (mean: 0.630000, std: 0.285657) (Cohen's d=0.07153483087286626, Small)\n",
      "Eta squared: 0.020336 (Medium)\n"
     ]
    },
    {
     "data": {
      "image/png": "[encoded data removed]",
      "text/plain": [
       "<Figure size 432x288 with 1 Axes>"
      ]
     },
     "metadata": {
      "needs_background": "light"
     },
     "output_type": "display_data"
    }
   ],
   "source": [
    "compare_methods(X_iso2,Y,listAlgorithms,listParams,listNames,metric='precision')"
   ]
  },
  {
   "cell_type": "code",
   "execution_count": 73,
   "metadata": {},
   "outputs": [
    {
     "name": "stdout",
     "output_type": "stream",
     "text": [
      "temp.csv\n",
      "['Arbol' 'SVM' 'KNN' 'LR' 'MLP' 'RF' 'ET']\n",
      "==========================================================\n",
      "Report\n",
      "==========================================================\n",
      "**********************************************************\n",
      "Mean and std\n",
      "**********************************************************\n",
      "Arbol: 0.508333 (0.250513)\n",
      "SVM: 0.554167 (0.237894)\n",
      "KNN: 0.605952 (0.247462)\n",
      "LR: 0.601786 (0.205274)\n",
      "MLP: 0.568452 (0.159969)\n",
      "RF: 0.556548 (0.268890)\n",
      "ET: 0.545833 (0.270922)\n",
      "**********************************************************\n",
      "Statistical tests\n",
      "**********************************************************\n",
      "----------------------------------------------------------\n",
      "Checking parametric conditions \n",
      "----------------------------------------------------------\n",
      "Checking independence \n",
      "Ok\n",
      "Checking normality using Shapiro-Wilk's test for normality, alpha=0.05\n",
      "W: 0.947067, p:0.005106\n",
      "The null hypothesis (normality) is rejected\n",
      "Checking heteroscedasticity using Levene's test, alpha=0.05\n",
      "W: 0.417683, p:0.864587\n",
      "The null hypothesis (heteroscedasticity) is accepted\n",
      "Conditions for a parametric test are not fulfilled, applying a non-parametric test\n",
      "----------------------------------------------------------\n",
      "Working with more than 2 algorithms\n",
      "----------------------------------------------------------\n",
      "----------------------------------------------------------\n",
      "Applying Friedman test\n",
      "----------------------------------------------------------\n",
      "F-value: 0.312639, p-value: 0.9276750738950317\n",
      "Null hypothesis is accepted; hence, we can't say that there is a significant difference in the performance of the models\n",
      "----------------------------------------------------------\n",
      "Analysing effect size\n",
      "----------------------------------------------------------\n",
      "We take the model with the best mean (KNN, mean: 0.605952) and compare it with the other models: \n",
      "Comparing effect size of KNN and Arbol: Cohen's d=0.37193829566525555, Medium\n",
      "Comparing effect size of KNN and SVM: Cohen's d=0.20240313486171435, Medium\n",
      "Comparing effect size of KNN and LR: Cohen's d=0.0173867214379485, Small\n",
      "Comparing effect size of KNN and MLP: Cohen's d=0.170741739367692, Small\n",
      "Comparing effect size of KNN and RF: Cohen's d=0.18138472047097073, Small\n",
      "Comparing effect size of KNN and ET: Cohen's d=0.21982017149624944, Medium\n",
      "Eta squared: 0.016921 (Medium)\n"
     ]
    },
    {
     "data": {
      "image/png": "[encoded data removed]",
      "text/plain": [
       "<Figure size 432x288 with 1 Axes>"
      ]
     },
     "metadata": {
      "needs_background": "light"
     },
     "output_type": "display_data"
    }
   ],
   "source": [
    "compare_methods(X_iso2,Y,listAlgorithms,listParams,listNames,metric='recall')"
   ]
  },
  {
   "cell_type": "code",
   "execution_count": 74,
   "metadata": {},
   "outputs": [
    {
     "name": "stdout",
     "output_type": "stream",
     "text": [
      "temp.csv\n",
      "['Arbol' 'SVM' 'KNN' 'LR' 'MLP' 'RF' 'ET']\n",
      "==========================================================\n",
      "Report\n",
      "==========================================================\n",
      "**********************************************************\n",
      "Mean and std\n",
      "**********************************************************\n",
      "Arbol: 0.540000 (0.121710)\n",
      "SVM: 0.578182 (0.123529)\n",
      "KNN: 0.599091 (0.124877)\n",
      "LR: 0.597273 (0.131366)\n",
      "MLP: 0.597273 (0.131366)\n",
      "RF: 0.549091 (0.160176)\n",
      "ET: 0.539091 (0.086822)\n",
      "**********************************************************\n",
      "Statistical tests\n",
      "**********************************************************\n",
      "----------------------------------------------------------\n",
      "Checking parametric conditions \n",
      "----------------------------------------------------------\n",
      "Checking independence \n",
      "Ok\n",
      "Checking normality using Shapiro-Wilk's test for normality, alpha=0.05\n",
      "W: 0.952273, p:0.009554\n",
      "The null hypothesis (normality) is rejected\n",
      "Checking heteroscedasticity using Levene's test, alpha=0.05\n",
      "W: 0.364303, p:0.898793\n",
      "The null hypothesis (heteroscedasticity) is accepted\n",
      "Conditions for a parametric test are not fulfilled, applying a non-parametric test\n",
      "----------------------------------------------------------\n",
      "Working with more than 2 algorithms\n",
      "----------------------------------------------------------\n",
      "----------------------------------------------------------\n",
      "Applying Friedman test\n",
      "----------------------------------------------------------\n",
      "F-value: 0.773124, p-value: 0.5944544517938192\n",
      "Null hypothesis is accepted; hence, we can't say that there is a significant difference in the performance of the models\n",
      "----------------------------------------------------------\n",
      "Analysing effect size\n",
      "----------------------------------------------------------\n",
      "We take the model with the best mean (KNN, mean: 0.599091) and compare it with the other models: \n",
      "Comparing effect size of KNN and Arbol: Cohen's d=0.45463933622786745, Medium\n",
      "Comparing effect size of KNN and SVM: Cohen's d=0.15970468017967943, Small\n",
      "Comparing effect size of KNN and LR: Cohen's d=0.013458531698209151, Small\n",
      "Comparing effect size of KNN and MLP: Cohen's d=0.013458531698209151, Small\n",
      "Comparing effect size of KNN and RF: Cohen's d=0.33028747520959373, Medium\n",
      "Comparing effect size of KNN and ET: Cohen's d=0.5292717802446524, Large\n",
      "Eta squared: 0.039635 (Medium)\n"
     ]
    },
    {
     "data": {
      "image/png": "[encoded data removed]",
      "text/plain": [
       "<Figure size 432x288 with 1 Axes>"
      ]
     },
     "metadata": {
      "needs_background": "light"
     },
     "output_type": "display_data"
    }
   ],
   "source": [
    "compare_methods(X_iso2,Y,listAlgorithms,listParams,listNames,metric='accuracy')"
   ]
  },
  {
   "cell_type": "code",
   "execution_count": 75,
   "metadata": {},
   "outputs": [
    {
     "name": "stdout",
     "output_type": "stream",
     "text": [
      "temp.csv\n",
      "['Arbol' 'SVM' 'KNN' 'LR' 'MLP' 'RF' 'ET']\n",
      "==========================================================\n",
      "Report\n",
      "==========================================================\n",
      "**********************************************************\n",
      "Mean and std\n",
      "**********************************************************\n",
      "Arbol: 0.645060 (0.186361)\n",
      "SVM: 0.635952 (0.129461)\n",
      "KNN: 0.524643 (0.189893)\n",
      "LR: 0.622619 (0.205748)\n",
      "MLP: 0.592619 (0.174832)\n",
      "RF: 0.636905 (0.164662)\n",
      "ET: 0.623512 (0.214274)\n",
      "**********************************************************\n",
      "Statistical tests\n",
      "**********************************************************\n",
      "----------------------------------------------------------\n",
      "Checking parametric conditions \n",
      "----------------------------------------------------------\n",
      "Checking independence \n",
      "Ok\n",
      "Checking normality using Shapiro-Wilk's test for normality, alpha=0.05\n",
      "W: 0.969895, p:0.089908\n",
      "The null hypothesis (normality) is rejected\n",
      "Checking heteroscedasticity using Levene's test, alpha=0.05\n",
      "W: 0.559647, p:0.760678\n",
      "The null hypothesis (heteroscedasticity) is accepted\n",
      "Conditions for a parametric test are not fulfilled, applying a non-parametric test\n",
      "----------------------------------------------------------\n",
      "Working with more than 2 algorithms\n",
      "----------------------------------------------------------\n",
      "----------------------------------------------------------\n",
      "Applying Friedman test\n",
      "----------------------------------------------------------\n",
      "F-value: 1.426148, p-value: 0.22172834246903472\n",
      "Null hypothesis is rejected; hence, models have different performance\n",
      "Technique      Ranking\n",
      "-----------  ---------\n",
      "RF                4.85\n",
      "LR                4.4\n",
      "ET                4.3\n",
      "Arbol             4.3\n",
      "SVM               4.25\n",
      "MLP               3.45\n",
      "KNN               2.45\n",
      "Winner model: RF\n",
      "----------------------------------------------------------\n",
      "Applying Holm p-value adjustment procedure and analysing effect size\n",
      "----------------------------------------------------------\n",
      "Comparison      Zvalue    p-value    adjusted p-value\n",
      "------------  --------  ---------  ------------------\n",
      "RF vs KNN     2.48424    0.012983           0.0778978\n",
      "RF vs MLP     1.44914    0.147299           0.736496\n",
      "RF vs SVM     0.621059   0.534561           1\n",
      "RF vs Arbol   0.569304   0.56915            1\n",
      "RF vs ET      0.569304   0.56915            1\n",
      "RF vs LR      0.465794   0.641363           1\n",
      "There is a significant difference between the models: RF (mean: 0.636905, std: 0.164662) and KNN (mean: 0.524643, std: 0.189893) (Cohen's d=0.5992443192591503, Large)\n",
      "We can't say that there is a significant difference in the performance of the models: RF (mean: 0.636905, std: 0.164662) and MLP (mean: 0.592619, std: 0.174832) (Cohen's d=0.24739352968815467, Medium)\n",
      "We can't say that there is a significant difference in the performance of the models: RF (mean: 0.636905, std: 0.164662) and SVM (mean: 0.635952, std: 0.129461) (Cohen's d=0.006100212757632703, Small)\n",
      "We can't say that there is a significant difference in the performance of the models: RF (mean: 0.636905, std: 0.164662) and Arbol (mean: 0.645060, std: 0.186361) (Cohen's d=0.04399457432404153, Small)\n",
      "We can't say that there is a significant difference in the performance of the models: RF (mean: 0.636905, std: 0.164662) and ET (mean: 0.623512, std: 0.214274) (Cohen's d=0.06649177430655591, Small)\n",
      "We can't say that there is a significant difference in the performance of the models: RF (mean: 0.636905, std: 0.164662) and LR (mean: 0.622619, std: 0.205748) (Cohen's d=0.0727302410662289, Small)\n",
      "Eta squared: 0.043186 (Medium)\n"
     ]
    },
    {
     "data": {
      "image/png": "[encoded data removed]",
      "text/plain": [
       "<Figure size 432x288 with 1 Axes>"
      ]
     },
     "metadata": {
      "needs_background": "light"
     },
     "output_type": "display_data"
    }
   ],
   "source": [
    "clf = manifold.Isomap(10, n_components=10)\n",
    "X_iso10 = clf.fit_transform(X)\n",
    "compare_methods(X_iso10,Y,listAlgorithms,listParams,listNames,metric='auroc')"
   ]
  },
  {
   "cell_type": "code",
   "execution_count": 76,
   "metadata": {},
   "outputs": [
    {
     "name": "stdout",
     "output_type": "stream",
     "text": [
      "temp.csv\n",
      "['Arbol' 'SVM' 'KNN' 'LR' 'MLP' 'RF' 'ET']\n",
      "==========================================================\n",
      "Report\n",
      "==========================================================\n",
      "**********************************************************\n",
      "Mean and std\n",
      "**********************************************************\n",
      "Arbol: 0.620714 (0.230116)\n",
      "SVM: 0.627857 (0.263041)\n",
      "KNN: 0.503571 (0.240172)\n",
      "LR: 0.623095 (0.236574)\n",
      "MLP: 0.597500 (0.234107)\n",
      "RF: 0.660238 (0.318502)\n",
      "ET: 0.633571 (0.364082)\n",
      "**********************************************************\n",
      "Statistical tests\n",
      "**********************************************************\n",
      "----------------------------------------------------------\n",
      "Checking parametric conditions \n",
      "----------------------------------------------------------\n",
      "Checking independence \n",
      "Ok\n",
      "Checking normality using Shapiro-Wilk's test for normality, alpha=0.05\n",
      "W: 0.938530, p:0.001904\n",
      "The null hypothesis (normality) is rejected\n",
      "Checking heteroscedasticity using Levene's test, alpha=0.05\n",
      "W: 1.155272, p:0.341580\n",
      "The null hypothesis (heteroscedasticity) is rejected\n",
      "Conditions for a parametric test are not fulfilled, applying a non-parametric test\n",
      "----------------------------------------------------------\n",
      "Working with more than 2 algorithms\n",
      "----------------------------------------------------------\n",
      "----------------------------------------------------------\n",
      "Applying Friedman test\n",
      "----------------------------------------------------------\n",
      "F-value: 1.090090, p-value: 0.3801612070053687\n",
      "Null hypothesis is rejected; hence, models have different performance\n",
      "Technique      Ranking\n",
      "-----------  ---------\n",
      "RF                4.65\n",
      "SVM               4.3\n",
      "LR                4.25\n",
      "MLP               4.15\n",
      "Arbol             4.15\n",
      "ET                4.05\n",
      "KNN               2.45\n",
      "Winner model: RF\n",
      "----------------------------------------------------------\n",
      "Applying Holm p-value adjustment procedure and analysing effect size\n",
      "----------------------------------------------------------\n",
      "Comparison      Zvalue    p-value    adjusted p-value\n",
      "------------  --------  ---------  ------------------\n",
      "RF vs KNN     2.27722   0.0227733             0.13664\n",
      "RF vs ET      0.621059  0.534561              1\n",
      "RF vs Arbol   0.517549  0.604773              1\n",
      "RF vs MLP     0.517549  0.604773              1\n",
      "RF vs LR      0.414039  0.678845              1\n",
      "RF vs SVM     0.362284  0.71714               1\n",
      "There is a significant difference between the models: RF (mean: 0.660238, std: 0.318502) and KNN (mean: 0.503571, std: 0.240172) (Cohen's d=0.5269167723596777, Large)\n",
      "We can't say that there is a significant difference in the performance of the models: RF (mean: 0.660238, std: 0.318502) and ET (mean: 0.633571, std: 0.364082) (Cohen's d=0.07396011575210049, Small)\n",
      "We can't say that there is a significant difference in the performance of the models: RF (mean: 0.660238, std: 0.318502) and Arbol (mean: 0.620714, std: 0.230116) (Cohen's d=0.13495087584723697, Small)\n",
      "We can't say that there is a significant difference in the performance of the models: RF (mean: 0.660238, std: 0.318502) and MLP (mean: 0.597500, std: 0.234107) (Cohen's d=0.21294041713513404, Medium)\n",
      "We can't say that there is a significant difference in the performance of the models: RF (mean: 0.660238, std: 0.318502) and LR (mean: 0.623095, std: 0.236574) (Cohen's d=0.12560144918428315, Small)\n",
      "We can't say that there is a significant difference in the performance of the models: RF (mean: 0.660238, std: 0.318502) and SVM (mean: 0.627857, std: 0.263041) (Cohen's d=0.10517032395743212, Small)\n",
      "Eta squared: 0.028098 (Medium)\n"
     ]
    },
    {
     "data": {
      "image/png": "[encoded data removed]",
      "text/plain": [
       "<Figure size 432x288 with 1 Axes>"
      ]
     },
     "metadata": {
      "needs_background": "light"
     },
     "output_type": "display_data"
    }
   ],
   "source": [
    "compare_methods(X_iso10,Y,listAlgorithms,listParams,listNames,metric='precision')"
   ]
  },
  {
   "cell_type": "code",
   "execution_count": 77,
   "metadata": {},
   "outputs": [
    {
     "name": "stdout",
     "output_type": "stream",
     "text": [
      "temp.csv\n",
      "['Arbol' 'SVM' 'KNN' 'LR' 'MLP' 'RF' 'ET']\n",
      "==========================================================\n",
      "Report\n",
      "==========================================================\n",
      "**********************************************************\n",
      "Mean and std\n",
      "**********************************************************\n",
      "Arbol: 0.695238 (0.276652)\n",
      "SVM: 0.631548 (0.202073)\n",
      "KNN: 0.644048 (0.310093)\n",
      "LR: 0.608929 (0.285665)\n",
      "MLP: 0.569048 (0.224543)\n",
      "RF: 0.600000 (0.254227)\n",
      "ET: 0.552381 (0.311131)\n",
      "**********************************************************\n",
      "Statistical tests\n",
      "**********************************************************\n",
      "----------------------------------------------------------\n",
      "Checking parametric conditions \n",
      "----------------------------------------------------------\n",
      "Checking independence \n",
      "Ok\n",
      "Checking normality using Shapiro-Wilk's test for normality, alpha=0.05\n",
      "W: 0.927373, p:0.000564\n",
      "The null hypothesis (normality) is rejected\n",
      "Checking heteroscedasticity using Levene's test, alpha=0.05\n",
      "W: 0.511952, p:0.797083\n",
      "The null hypothesis (heteroscedasticity) is accepted\n",
      "Conditions for a parametric test are not fulfilled, applying a non-parametric test\n",
      "----------------------------------------------------------\n",
      "Working with more than 2 algorithms\n",
      "----------------------------------------------------------\n",
      "----------------------------------------------------------\n",
      "Applying Friedman test\n",
      "----------------------------------------------------------\n",
      "F-value: 0.868808, p-value: 0.5238354000687757\n",
      "Null hypothesis is accepted; hence, we can't say that there is a significant difference in the performance of the models\n",
      "----------------------------------------------------------\n",
      "Analysing effect size\n",
      "----------------------------------------------------------\n",
      "We take the model with the best mean (Arbol, mean: 0.695238) and compare it with the other models: \n",
      "Comparing effect size of Arbol and SVM: Cohen's d=0.24942056225926176, Medium\n",
      "Comparing effect size of Arbol and KNN: Cohen's d=0.16526717182172398, Small\n",
      "Comparing effect size of Arbol and LR: Cohen's d=0.29118755496108784, Medium\n",
      "Comparing effect size of Arbol and MLP: Cohen's d=0.4751564060189486, Medium\n",
      "Comparing effect size of Arbol and RF: Cohen's d=0.34007846326371427, Medium\n",
      "Comparing effect size of Arbol and ET: Cohen's d=0.46035203394767404, Medium\n",
      "Eta squared: 0.026589 (Medium)\n"
     ]
    },
    {
     "data": {
      "image/png": "[encoded data removed]",
      "text/plain": [
       "<Figure size 432x288 with 1 Axes>"
      ]
     },
     "metadata": {
      "needs_background": "light"
     },
     "output_type": "display_data"
    }
   ],
   "source": [
    "compare_methods(X_iso10,Y,listAlgorithms,listParams,listNames,metric='recall')"
   ]
  },
  {
   "cell_type": "code",
   "execution_count": 78,
   "metadata": {},
   "outputs": [
    {
     "name": "stdout",
     "output_type": "stream",
     "text": [
      "temp.csv\n",
      "['Arbol' 'SVM' 'KNN' 'LR' 'MLP' 'RF' 'ET']\n",
      "==========================================================\n",
      "Report\n",
      "==========================================================\n",
      "**********************************************************\n",
      "Mean and std\n",
      "**********************************************************\n",
      "Arbol: 0.647273 (0.155015)\n",
      "SVM: 0.598182 (0.120110)\n",
      "KNN: 0.497273 (0.169445)\n",
      "LR: 0.614545 (0.167835)\n",
      "MLP: 0.586364 (0.156736)\n",
      "RF: 0.618182 (0.118740)\n",
      "ET: 0.598182 (0.174432)\n",
      "**********************************************************\n",
      "Statistical tests\n",
      "**********************************************************\n",
      "----------------------------------------------------------\n",
      "Checking parametric conditions \n",
      "----------------------------------------------------------\n",
      "Checking independence \n",
      "Ok\n",
      "Checking normality using Shapiro-Wilk's test for normality, alpha=0.05\n",
      "W: 0.961485, p:0.030252\n",
      "The null hypothesis (normality) is rejected\n",
      "Checking heteroscedasticity using Levene's test, alpha=0.05\n",
      "W: 0.736270, p:0.622311\n",
      "The null hypothesis (heteroscedasticity) is accepted\n",
      "Conditions for a parametric test are not fulfilled, applying a non-parametric test\n",
      "----------------------------------------------------------\n",
      "Working with more than 2 algorithms\n",
      "----------------------------------------------------------\n",
      "----------------------------------------------------------\n",
      "Applying Friedman test\n",
      "----------------------------------------------------------\n",
      "F-value: 1.385329, p-value: 0.2373227468528354\n",
      "Null hypothesis is rejected; hence, models have different performance\n",
      "Technique      Ranking\n",
      "-----------  ---------\n",
      "Arbol             4.7\n",
      "RF                4.6\n",
      "LR                4.5\n",
      "ET                4.1\n",
      "SVM               3.95\n",
      "MLP               3.75\n",
      "KNN               2.4\n",
      "Winner model: Arbol\n",
      "----------------------------------------------------------\n",
      "Applying Holm p-value adjustment procedure and analysing effect size\n",
      "----------------------------------------------------------\n",
      "Comparison      Zvalue    p-value    adjusted p-value\n",
      "------------  --------  ---------  ------------------\n",
      "Arbol vs KNN  2.38073   0.0172786            0.103671\n",
      "Arbol vs MLP  0.983343  0.325438             1\n",
      "Arbol vs SVM  0.776324  0.437558             1\n",
      "Arbol vs ET   0.621059  0.534561             1\n",
      "Arbol vs LR   0.20702   0.835994             1\n",
      "Arbol vs RF   0.10351   0.917558             1\n",
      "There is a significant difference between the models: Arbol (mean: 0.647273, std: 0.155015) and KNN (mean: 0.497273, std: 0.169445) (Cohen's d=0.8762983714086348, Large)\n",
      "We can't say that there is a significant difference in the performance of the models: Arbol (mean: 0.647273, std: 0.155015) and MLP (mean: 0.586364, std: 0.156736) (Cohen's d=0.37069668239629433, Medium)\n",
      "We can't say that there is a significant difference in the performance of the models: Arbol (mean: 0.647273, std: 0.155015) and SVM (mean: 0.598182, std: 0.120110) (Cohen's d=0.33585680533579193, Medium)\n",
      "We can't say that there is a significant difference in the performance of the models: Arbol (mean: 0.647273, std: 0.155015) and ET (mean: 0.598182, std: 0.174432) (Cohen's d=0.28223681822639096, Medium)\n",
      "We can't say that there is a significant difference in the performance of the models: Arbol (mean: 0.647273, std: 0.155015) and LR (mean: 0.614545, std: 0.167835) (Cohen's d=0.19218420549316315, Small)\n",
      "We can't say that there is a significant difference in the performance of the models: Arbol (mean: 0.647273, std: 0.155015) and RF (mean: 0.618182, std: 0.118740) (Cohen's d=0.1998785828776684, Small)\n",
      "Eta squared: 0.074801 (Large)\n"
     ]
    },
    {
     "data": {
      "image/png": "[encoded data removed]",
      "text/plain": [
       "<Figure size 432x288 with 1 Axes>"
      ]
     },
     "metadata": {
      "needs_background": "light"
     },
     "output_type": "display_data"
    }
   ],
   "source": [
    "compare_methods(X_iso10,Y,listAlgorithms,listParams,listNames,metric='accuracy')"
   ]
  },
  {
   "cell_type": "markdown",
   "metadata": {},
   "source": [
    "# LLE"
   ]
  },
  {
   "cell_type": "code",
   "execution_count": 79,
   "metadata": {
    "scrolled": true
   },
   "outputs": [
    {
     "name": "stdout",
     "output_type": "stream",
     "text": [
      "temp.csv\n",
      "['Arbol' 'SVM' 'KNN' 'LR' 'MLP' 'RF' 'ET']\n",
      "==========================================================\n",
      "Report\n",
      "==========================================================\n",
      "**********************************************************\n",
      "Mean and std\n",
      "**********************************************************\n",
      "Arbol: 0.668750 (0.181831)\n",
      "SVM: 0.485119 (0.069785)\n",
      "KNN: 0.621131 (0.106013)\n",
      "LR: 0.554881 (0.102900)\n",
      "MLP: 0.534524 (0.083844)\n",
      "RF: 0.673333 (0.156524)\n",
      "ET: 0.646250 (0.171743)\n",
      "**********************************************************\n",
      "Statistical tests\n",
      "**********************************************************\n",
      "----------------------------------------------------------\n",
      "Checking parametric conditions \n",
      "----------------------------------------------------------\n",
      "Checking independence \n",
      "Ok\n",
      "Checking normality using Shapiro-Wilk's test for normality, alpha=0.05\n",
      "W: 0.975117, p:0.176950\n",
      "The null hypothesis (normality) is rejected\n",
      "Checking heteroscedasticity using Levene's test, alpha=0.05\n",
      "W: 2.316226, p:0.043899\n",
      "The null hypothesis (heteroscedasticity) is rejected\n",
      "Conditions for a parametric test are not fulfilled, applying a non-parametric test\n",
      "----------------------------------------------------------\n",
      "Working with more than 2 algorithms\n",
      "----------------------------------------------------------\n",
      "----------------------------------------------------------\n",
      "Applying Friedman test\n",
      "----------------------------------------------------------\n",
      "F-value: 4.347458, p-value: 0.0011935884380385176\n",
      "Null hypothesis is rejected; hence, models have different performance\n",
      "Technique      Ranking\n",
      "-----------  ---------\n",
      "RF                5.55\n",
      "Arbol             5.25\n",
      "ET                4.85\n",
      "KNN               3.9\n",
      "LR                3.1\n",
      "MLP               2.9\n",
      "SVM               2.45\n",
      "Winner model: RF\n",
      "----------------------------------------------------------\n",
      "Applying Holm p-value adjustment procedure and analysing effect size\n",
      "----------------------------------------------------------\n",
      "Comparison      Zvalue     p-value    adjusted p-value\n",
      "------------  --------  ----------  ------------------\n",
      "RF vs SVM     3.2088    0.00133288          0.00799728\n",
      "RF vs MLP     2.74301   0.00608787          0.0304394\n",
      "RF vs LR      2.53599   0.011213            0.0448519\n",
      "RF vs KNN     1.70791   0.0876526           0.262958\n",
      "RF vs ET      0.724569  0.468717            0.937433\n",
      "RF vs Arbol   0.31053   0.756158            0.937433\n",
      "There is a significant difference between the models: RF (mean: 0.673333, std: 0.156524) and SVM (mean: 0.485119, std: 0.069785) (Cohen's d=1.4734632013711257, Large)\n",
      "There is a significant difference between the models: RF (mean: 0.673333, std: 0.156524) and MLP (mean: 0.534524, std: 0.083844) (Cohen's d=1.048809791036211, Large)\n",
      "There is a significant difference between the models: RF (mean: 0.673333, std: 0.156524) and LR (mean: 0.554881, std: 0.102900) (Cohen's d=0.8483995193426989, Large)\n",
      "There is a significant difference between the models: RF (mean: 0.673333, std: 0.156524) and KNN (mean: 0.621131, std: 0.106013) (Cohen's d=0.37047481424238454, Medium)\n",
      "We can't say that there is a significant difference in the performance of the models: RF (mean: 0.673333, std: 0.156524) and ET (mean: 0.646250, std: 0.171743) (Cohen's d=0.15637248505303677, Small)\n",
      "We can't say that there is a significant difference in the performance of the models: RF (mean: 0.673333, std: 0.156524) and Arbol (mean: 0.668750, std: 0.181831) (Cohen's d=0.0256300505515617, Small)\n",
      "Eta squared: 0.210343 (Large)\n"
     ]
    },
    {
     "data": {
      "image/png": "[encoded data removed]",
      "text/plain": [
       "<Figure size 432x288 with 1 Axes>"
      ]
     },
     "metadata": {
      "needs_background": "light"
     },
     "output_type": "display_data"
    }
   ],
   "source": [
    "clf = manifold.LocallyLinearEmbedding(10, n_components=2,method='standard')\n",
    "X_lle2 = clf.fit_transform(X)\n",
    "compare_methods(X_lle2,Y,listAlgorithms,listParams,listNames,metric='auroc')"
   ]
  },
  {
   "cell_type": "code",
   "execution_count": 80,
   "metadata": {},
   "outputs": [
    {
     "name": "stdout",
     "output_type": "stream",
     "text": [
      "temp.csv\n",
      "['Arbol' 'SVM' 'KNN' 'LR' 'MLP' 'RF' 'ET']\n",
      "==========================================================\n",
      "Report\n",
      "==========================================================\n",
      "**********************************************************\n",
      "Mean and std\n",
      "**********************************************************\n",
      "Arbol: 0.652500 (0.368180)\n",
      "SVM: 0.301212 (0.292349)\n",
      "KNN: 0.560238 (0.307676)\n",
      "LR: 0.567857 (0.219064)\n",
      "MLP: 0.476190 (0.329054)\n",
      "RF: 0.662500 (0.285123)\n",
      "ET: 0.648571 (0.283562)\n",
      "**********************************************************\n",
      "Statistical tests\n",
      "**********************************************************\n",
      "----------------------------------------------------------\n",
      "Checking parametric conditions \n",
      "----------------------------------------------------------\n",
      "Checking independence \n",
      "Ok\n",
      "Checking normality using Shapiro-Wilk's test for normality, alpha=0.05\n",
      "W: 0.918735, p:0.000232\n",
      "The null hypothesis (normality) is rejected\n",
      "Checking heteroscedasticity using Levene's test, alpha=0.05\n",
      "W: 0.815866, p:0.561693\n",
      "The null hypothesis (heteroscedasticity) is accepted\n",
      "Conditions for a parametric test are not fulfilled, applying a non-parametric test\n",
      "----------------------------------------------------------\n",
      "Working with more than 2 algorithms\n",
      "----------------------------------------------------------\n",
      "----------------------------------------------------------\n",
      "Applying Friedman test\n",
      "----------------------------------------------------------\n",
      "F-value: 3.100840, p-value: 0.011056151776679513\n",
      "Null hypothesis is rejected; hence, models have different performance\n",
      "Technique      Ranking\n",
      "-----------  ---------\n",
      "RF                5.1\n",
      "ET                4.8\n",
      "Arbol             4.8\n",
      "KNN               4.35\n",
      "LR                3.55\n",
      "MLP               3.4\n",
      "SVM               2\n",
      "Winner model: RF\n",
      "----------------------------------------------------------\n",
      "Applying Holm p-value adjustment procedure and analysing effect size\n",
      "----------------------------------------------------------\n",
      "Comparison      Zvalue     p-value    adjusted p-value\n",
      "------------  --------  ----------  ------------------\n",
      "RF vs SVM     3.2088    0.00133288          0.00799728\n",
      "RF vs MLP     1.75967   0.0784643           0.392321\n",
      "RF vs LR      1.6044    0.108625            0.434502\n",
      "RF vs KNN     0.776324  0.437558            1\n",
      "RF vs Arbol   0.31053   0.756158            1\n",
      "RF vs ET      0.31053   0.756158            1\n",
      "There is a significant difference between the models: RF (mean: 0.662500, std: 0.285123) and SVM (mean: 0.301212, std: 0.292349) (Cohen's d=1.1869704702265522, Large)\n",
      "There is a significant difference between the models: RF (mean: 0.662500, std: 0.285123) and MLP (mean: 0.476190, std: 0.329054) (Cohen's d=0.5740959208948053, Large)\n",
      "There is a significant difference between the models: RF (mean: 0.662500, std: 0.285123) and LR (mean: 0.567857, std: 0.219064) (Cohen's d=0.35314378135712715, Medium)\n",
      "We can't say that there is a significant difference in the performance of the models: RF (mean: 0.662500, std: 0.285123) and KNN (mean: 0.560238, std: 0.307676) (Cohen's d=0.32707221634366046, Medium)\n",
      "We can't say that there is a significant difference in the performance of the models: RF (mean: 0.662500, std: 0.285123) and Arbol (mean: 0.652500, std: 0.368180) (Cohen's d=0.02881078877935641, Small)\n",
      "We can't say that there is a significant difference in the performance of the models: RF (mean: 0.662500, std: 0.285123) and ET (mean: 0.648571, std: 0.283562) (Cohen's d=0.04647127647788321, Small)\n",
      "Eta squared: 0.137002 (Large)\n"
     ]
    },
    {
     "data": {
      "image/png": "[encoded data removed]",
      "text/plain": [
       "<Figure size 432x288 with 1 Axes>"
      ]
     },
     "metadata": {
      "needs_background": "light"
     },
     "output_type": "display_data"
    }
   ],
   "source": [
    "compare_methods(X_lle2,Y,listAlgorithms,listParams,listNames,metric='precision')"
   ]
  },
  {
   "cell_type": "code",
   "execution_count": 81,
   "metadata": {},
   "outputs": [
    {
     "name": "stdout",
     "output_type": "stream",
     "text": [
      "temp.csv\n",
      "['Arbol' 'SVM' 'KNN' 'LR' 'MLP' 'RF' 'ET']\n",
      "==========================================================\n",
      "Report\n",
      "==========================================================\n",
      "**********************************************************\n",
      "Mean and std\n",
      "**********************************************************\n",
      "Arbol: 0.550595 (0.343254)\n",
      "SVM: 0.503571 (0.459161)\n",
      "KNN: 0.497619 (0.245758)\n",
      "LR: 0.440476 (0.162708)\n",
      "MLP: 0.363690 (0.328585)\n",
      "RF: 0.621429 (0.273696)\n",
      "ET: 0.558929 (0.249098)\n",
      "**********************************************************\n",
      "Statistical tests\n",
      "**********************************************************\n",
      "----------------------------------------------------------\n",
      "Checking parametric conditions \n",
      "----------------------------------------------------------\n",
      "Checking independence \n",
      "Ok\n",
      "Checking normality using Shapiro-Wilk's test for normality, alpha=0.05\n",
      "W: 0.936739, p:0.001557\n",
      "The null hypothesis (normality) is rejected\n",
      "Checking heteroscedasticity using Levene's test, alpha=0.05\n",
      "W: 3.546958, p:0.004341\n",
      "The null hypothesis (heteroscedasticity) is rejected\n",
      "Conditions for a parametric test are not fulfilled, applying a non-parametric test\n",
      "----------------------------------------------------------\n",
      "Working with more than 2 algorithms\n",
      "----------------------------------------------------------\n",
      "----------------------------------------------------------\n",
      "Applying Friedman test\n",
      "----------------------------------------------------------\n",
      "F-value: 0.820733, p-value: 0.5587961162621052\n",
      "Null hypothesis is accepted; hence, we can't say that there is a significant difference in the performance of the models\n",
      "----------------------------------------------------------\n",
      "Analysing effect size\n",
      "----------------------------------------------------------\n",
      "We take the model with the best mean (RF, mean: 0.621429) and compare it with the other models: \n",
      "Comparing effect size of RF and Arbol: Cohen's d=0.21646921321368934, Medium\n",
      "Comparing effect size of RF and SVM: Cohen's d=0.2958066090683315, Medium\n",
      "Comparing effect size of RF and KNN: Cohen's d=0.4515767582897191, Medium\n",
      "Comparing effect size of RF and LR: Cohen's d=0.7624607891110095, Large\n",
      "Comparing effect size of RF and MLP: Cohen's d=0.8086022043748935, Large\n",
      "Comparing effect size of RF and ET: Cohen's d=0.2265797157113729, Medium\n",
      "Eta squared: 0.060768 (Large)\n"
     ]
    },
    {
     "data": {
      "image/png": "[encoded data removed]",
      "text/plain": [
       "<Figure size 432x288 with 1 Axes>"
      ]
     },
     "metadata": {
      "needs_background": "light"
     },
     "output_type": "display_data"
    }
   ],
   "source": [
    "compare_methods(X_lle2,Y,listAlgorithms,listParams,listNames,metric='recall')"
   ]
  },
  {
   "cell_type": "code",
   "execution_count": 82,
   "metadata": {},
   "outputs": [
    {
     "name": "stdout",
     "output_type": "stream",
     "text": [
      "temp.csv\n",
      "['Arbol' 'SVM' 'KNN' 'LR' 'MLP' 'RF' 'ET']\n",
      "==========================================================\n",
      "Report\n",
      "==========================================================\n",
      "**********************************************************\n",
      "Mean and std\n",
      "**********************************************************\n",
      "Arbol: 0.618182 (0.167628)\n",
      "SVM: 0.467273 (0.195706)\n",
      "KNN: 0.598182 (0.117185)\n",
      "LR: 0.528182 (0.135174)\n",
      "MLP: 0.470909 (0.132540)\n",
      "RF: 0.617273 (0.158007)\n",
      "ET: 0.597273 (0.170029)\n",
      "**********************************************************\n",
      "Statistical tests\n",
      "**********************************************************\n",
      "----------------------------------------------------------\n",
      "Checking parametric conditions \n",
      "----------------------------------------------------------\n",
      "Checking independence \n",
      "Ok\n",
      "Checking normality using Shapiro-Wilk's test for normality, alpha=0.05\n",
      "W: 0.971446, p:0.110042\n",
      "The null hypothesis (normality) is rejected\n",
      "Checking heteroscedasticity using Levene's test, alpha=0.05\n",
      "W: 0.829230, p:0.551766\n",
      "The null hypothesis (heteroscedasticity) is accepted\n",
      "Conditions for a parametric test are not fulfilled, applying a non-parametric test\n",
      "----------------------------------------------------------\n",
      "Working with more than 2 algorithms\n",
      "----------------------------------------------------------\n",
      "----------------------------------------------------------\n",
      "Applying Friedman test\n",
      "----------------------------------------------------------\n",
      "F-value: 1.469464, p-value: 0.20617565854910813\n",
      "Null hypothesis is rejected; hence, models have different performance\n",
      "Technique      Ranking\n",
      "-----------  ---------\n",
      "RF                4.9\n",
      "Arbol             4.65\n",
      "ET                4.5\n",
      "KNN               4.35\n",
      "LR                3.65\n",
      "SVM               3.2\n",
      "MLP               2.75\n",
      "Winner model: RF\n",
      "----------------------------------------------------------\n",
      "Applying Holm p-value adjustment procedure and analysing effect size\n",
      "----------------------------------------------------------\n",
      "Comparison      Zvalue    p-value    adjusted p-value\n",
      "------------  --------  ---------  ------------------\n",
      "RF vs MLP     2.22546   0.0260503            0.156302\n",
      "RF vs SVM     1.75967   0.0784643            0.392321\n",
      "RF vs LR      1.29387   0.195709             0.782837\n",
      "RF vs KNN     0.569304  0.56915              1\n",
      "RF vs ET      0.414039  0.678845             1\n",
      "RF vs Arbol   0.258775  0.795809             1\n",
      "There is a significant difference between the models: RF (mean: 0.617273, std: 0.158007) and MLP (mean: 0.470909, std: 0.132540) (Cohen's d=0.9521516843857887, Large)\n",
      "There is a significant difference between the models: RF (mean: 0.617273, std: 0.158007) and SVM (mean: 0.467273, std: 0.195706) (Cohen's d=0.8000904550902145, Large)\n",
      "We can't say that there is a significant difference in the performance of the models: RF (mean: 0.617273, std: 0.158007) and LR (mean: 0.528182, std: 0.135174) (Cohen's d=0.5748264737987729, Large)\n",
      "We can't say that there is a significant difference in the performance of the models: RF (mean: 0.617273, std: 0.158007) and KNN (mean: 0.598182, std: 0.117185) (Cohen's d=0.13020169986662292, Small)\n",
      "We can't say that there is a significant difference in the performance of the models: RF (mean: 0.617273, std: 0.158007) and ET (mean: 0.597273, std: 0.170029) (Cohen's d=0.11560282386434922, Small)\n",
      "We can't say that there is a significant difference in the performance of the models: RF (mean: 0.617273, std: 0.158007) and Arbol (mean: 0.618182, std: 0.167628) (Cohen's d=0.005294662713923677, Small)\n",
      "Eta squared: 0.137103 (Large)\n"
     ]
    },
    {
     "data": {
      "image/png": "[encoded data removed]",
      "text/plain": [
       "<Figure size 432x288 with 1 Axes>"
      ]
     },
     "metadata": {
      "needs_background": "light"
     },
     "output_type": "display_data"
    }
   ],
   "source": [
    "compare_methods(X_lle2,Y,listAlgorithms,listParams,listNames,metric='accuracy')"
   ]
  },
  {
   "cell_type": "code",
   "execution_count": 83,
   "metadata": {
    "scrolled": true
   },
   "outputs": [
    {
     "name": "stdout",
     "output_type": "stream",
     "text": [
      "temp.csv\n",
      "['Arbol' 'SVM' 'KNN' 'LR' 'MLP' 'RF' 'ET']\n",
      "==========================================================\n",
      "Report\n",
      "==========================================================\n",
      "**********************************************************\n",
      "Mean and std\n",
      "**********************************************************\n",
      "Arbol: 0.567083 (0.110513)\n",
      "SVM: 0.490417 (0.095266)\n",
      "KNN: 0.641726 (0.181014)\n",
      "LR: 0.534762 (0.098189)\n",
      "MLP: 0.608929 (0.145689)\n",
      "RF: 0.597560 (0.117708)\n",
      "ET: 0.546667 (0.126815)\n",
      "**********************************************************\n",
      "Statistical tests\n",
      "**********************************************************\n",
      "----------------------------------------------------------\n",
      "Checking parametric conditions \n",
      "----------------------------------------------------------\n",
      "Checking independence \n",
      "Ok\n",
      "Checking normality using Shapiro-Wilk's test for normality, alpha=0.05\n",
      "W: 0.938990, p:0.002005\n",
      "The null hypothesis (normality) is rejected\n",
      "Checking heteroscedasticity using Levene's test, alpha=0.05\n",
      "W: 1.275405, p:0.281485\n",
      "The null hypothesis (heteroscedasticity) is rejected\n",
      "Conditions for a parametric test are not fulfilled, applying a non-parametric test\n",
      "----------------------------------------------------------\n",
      "Working with more than 2 algorithms\n",
      "----------------------------------------------------------\n",
      "----------------------------------------------------------\n",
      "Applying Friedman test\n",
      "----------------------------------------------------------\n",
      "F-value: 1.313076, p-value: 0.2672698240792516\n",
      "Null hypothesis is rejected; hence, models have different performance\n",
      "Technique      Ranking\n",
      "-----------  ---------\n",
      "KNN               5\n",
      "RF                4.55\n",
      "MLP               4.5\n",
      "Arbol             3.9\n",
      "ET                3.7\n",
      "LR                3.7\n",
      "SVM               2.65\n",
      "Winner model: KNN\n",
      "----------------------------------------------------------\n",
      "Applying Holm p-value adjustment procedure and analysing effect size\n",
      "----------------------------------------------------------\n",
      "Comparison      Zvalue    p-value    adjusted p-value\n",
      "------------  --------  ---------  ------------------\n",
      "KNN vs SVM    2.43248   0.0149958           0.0899746\n",
      "KNN vs LR     1.34563   0.178423            0.892113\n",
      "KNN vs ET     1.34563   0.178423            0.892113\n",
      "KNN vs Arbol  1.13861   0.254867            0.892113\n",
      "KNN vs MLP    0.517549  0.604773            1\n",
      "KNN vs RF     0.465794  0.641363            1\n",
      "There is a significant difference between the models: KNN (mean: 0.641726, std: 0.181014) and SVM (mean: 0.490417, std: 0.095266) (Cohen's d=0.9924280308920609, Large)\n",
      "We can't say that there is a significant difference in the performance of the models: KNN (mean: 0.641726, std: 0.181014) and LR (mean: 0.534762, std: 0.098189) (Cohen's d=0.6968771889225425, Large)\n",
      "We can't say that there is a significant difference in the performance of the models: KNN (mean: 0.641726, std: 0.181014) and ET (mean: 0.546667, std: 0.126815) (Cohen's d=0.5770435568932228, Large)\n",
      "We can't say that there is a significant difference in the performance of the models: KNN (mean: 0.641726, std: 0.181014) and Arbol (mean: 0.567083, std: 0.110513) (Cohen's d=0.4721923816477568, Medium)\n",
      "We can't say that there is a significant difference in the performance of the models: KNN (mean: 0.641726, std: 0.181014) and MLP (mean: 0.608929, std: 0.145689) (Cohen's d=0.18937274240352148, Small)\n",
      "We can't say that there is a significant difference in the performance of the models: KNN (mean: 0.641726, std: 0.181014) and RF (mean: 0.597560, std: 0.117708) (Cohen's d=0.2744350888664721, Medium)\n",
      "Eta squared: 0.119218 (Large)\n"
     ]
    },
    {
     "data": {
      "image/png": "[encoded data removed]",
      "text/plain": [
       "<Figure size 432x288 with 1 Axes>"
      ]
     },
     "metadata": {
      "needs_background": "light"
     },
     "output_type": "display_data"
    }
   ],
   "source": [
    "clf = manifold.LocallyLinearEmbedding(10, n_components=10,method='standard')\n",
    "X_lle10 = clf.fit_transform(X)\n",
    "compare_methods(X_lle10,Y,listAlgorithms,listParams,listNames,metric='auroc')"
   ]
  },
  {
   "cell_type": "code",
   "execution_count": 84,
   "metadata": {},
   "outputs": [
    {
     "name": "stdout",
     "output_type": "stream",
     "text": [
      "temp.csv\n",
      "['Arbol' 'SVM' 'KNN' 'LR' 'MLP' 'RF' 'ET']\n",
      "==========================================================\n",
      "Report\n",
      "==========================================================\n",
      "**********************************************************\n",
      "Mean and std\n",
      "**********************************************************\n",
      "Arbol: 0.557778 (0.160693)\n",
      "SVM: 0.463571 (0.214640)\n",
      "KNN: 0.628333 (0.241068)\n",
      "LR: 0.433571 (0.263705)\n",
      "MLP: 0.622381 (0.299003)\n",
      "RF: 0.576071 (0.168426)\n",
      "ET: 0.515000 (0.204321)\n",
      "**********************************************************\n",
      "Statistical tests\n",
      "**********************************************************\n",
      "----------------------------------------------------------\n",
      "Checking parametric conditions \n",
      "----------------------------------------------------------\n",
      "Checking independence \n",
      "Ok\n",
      "Checking normality using Shapiro-Wilk's test for normality, alpha=0.05\n",
      "W: 0.954397, p:0.012402\n",
      "The null hypothesis (normality) is rejected\n",
      "Checking heteroscedasticity using Levene's test, alpha=0.05\n",
      "W: 1.098145, p:0.373486\n",
      "The null hypothesis (heteroscedasticity) is rejected\n",
      "Conditions for a parametric test are not fulfilled, applying a non-parametric test\n",
      "----------------------------------------------------------\n",
      "Working with more than 2 algorithms\n",
      "----------------------------------------------------------\n",
      "----------------------------------------------------------\n",
      "Applying Friedman test\n",
      "----------------------------------------------------------\n",
      "F-value: 1.709732, p-value: 0.13645586352237016\n",
      "Null hypothesis is rejected; hence, models have different performance\n",
      "Technique      Ranking\n",
      "-----------  ---------\n",
      "KNN               5.35\n",
      "MLP               4.5\n",
      "RF                4.45\n",
      "Arbol             4\n",
      "ET                3.55\n",
      "LR                3.45\n",
      "SVM               2.7\n",
      "Winner model: KNN\n",
      "----------------------------------------------------------\n",
      "Applying Holm p-value adjustment procedure and analysing effect size\n",
      "----------------------------------------------------------\n",
      "Comparison      Zvalue     p-value    adjusted p-value\n",
      "------------  --------  ----------  ------------------\n",
      "KNN vs SVM    2.74301   0.00608787           0.0365272\n",
      "KNN vs LR     1.96669   0.0492193            0.246097\n",
      "KNN vs ET     1.86318   0.0624374            0.249749\n",
      "KNN vs Arbol  1.39738   0.162299             0.486896\n",
      "KNN vs RF     0.931589  0.351549             0.703098\n",
      "KNN vs MLP    0.879834  0.378949             0.703098\n",
      "There is a significant difference between the models: KNN (mean: 0.628333, std: 0.241068) and SVM (mean: 0.463571, std: 0.214640) (Cohen's d=0.6848446097098102, Large)\n",
      "There is a significant difference between the models: KNN (mean: 0.628333, std: 0.241068) and LR (mean: 0.433571, std: 0.263705) (Cohen's d=0.7313460380981268, Large)\n",
      "There is a significant difference between the models: KNN (mean: 0.628333, std: 0.241068) and ET (mean: 0.515000, std: 0.204321) (Cohen's d=0.4811668709699936, Medium)\n",
      "There is a significant difference between the models: KNN (mean: 0.628333, std: 0.241068) and Arbol (mean: 0.557778, std: 0.160693) (Cohen's d=0.32673303468924403, Medium)\n",
      "We can't say that there is a significant difference in the performance of the models: KNN (mean: 0.628333, std: 0.241068) and RF (mean: 0.576071, std: 0.168426) (Cohen's d=0.23842962894125402, Medium)\n",
      "We can't say that there is a significant difference in the performance of the models: KNN (mean: 0.628333, std: 0.241068) and MLP (mean: 0.622381, std: 0.299003) (Cohen's d=0.020792490373750423, Small)\n",
      "Eta squared: 0.086407 (Large)\n"
     ]
    },
    {
     "data": {
      "image/png": "[encoded data removed]",
      "text/plain": [
       "<Figure size 432x288 with 1 Axes>"
      ]
     },
     "metadata": {
      "needs_background": "light"
     },
     "output_type": "display_data"
    }
   ],
   "source": [
    "compare_methods(X_lle10,Y,listAlgorithms,listParams,listNames,metric='precision')"
   ]
  },
  {
   "cell_type": "code",
   "execution_count": 85,
   "metadata": {},
   "outputs": [
    {
     "name": "stdout",
     "output_type": "stream",
     "text": [
      "temp.csv\n",
      "['Arbol' 'SVM' 'KNN' 'LR' 'MLP' 'RF' 'ET']\n",
      "==========================================================\n",
      "Report\n",
      "==========================================================\n",
      "**********************************************************\n",
      "Mean and std\n",
      "**********************************************************\n",
      "Arbol: 0.552976 (0.250601)\n",
      "SVM: 0.563095 (0.327416)\n",
      "KNN: 0.567262 (0.263631)\n",
      "LR: 0.539286 (0.312080)\n",
      "MLP: 0.585119 (0.274069)\n",
      "RF: 0.606548 (0.185165)\n",
      "ET: 0.514881 (0.243528)\n",
      "**********************************************************\n",
      "Statistical tests\n",
      "**********************************************************\n",
      "----------------------------------------------------------\n",
      "Checking parametric conditions \n",
      "----------------------------------------------------------\n",
      "Checking independence \n",
      "Ok\n",
      "Checking normality using Shapiro-Wilk's test for normality, alpha=0.05\n",
      "W: 0.932870, p:0.001017\n",
      "The null hypothesis (normality) is rejected\n",
      "Checking heteroscedasticity using Levene's test, alpha=0.05\n",
      "W: 0.755250, p:0.607654\n",
      "The null hypothesis (heteroscedasticity) is accepted\n",
      "Conditions for a parametric test are not fulfilled, applying a non-parametric test\n",
      "----------------------------------------------------------\n",
      "Working with more than 2 algorithms\n",
      "----------------------------------------------------------\n",
      "----------------------------------------------------------\n",
      "Applying Friedman test\n",
      "----------------------------------------------------------\n",
      "F-value: 0.187022, p-value: 0.9792263182716797\n",
      "Null hypothesis is accepted; hence, we can't say that there is a significant difference in the performance of the models\n",
      "----------------------------------------------------------\n",
      "Analysing effect size\n",
      "----------------------------------------------------------\n",
      "We take the model with the best mean (RF, mean: 0.606548) and compare it with the other models: \n",
      "Comparing effect size of RF and Arbol: Cohen's d=0.23066899098927454, Medium\n",
      "Comparing effect size of RF and SVM: Cohen's d=0.1549856582857016, Small\n",
      "Comparing effect size of RF and KNN: Cohen's d=0.1636056366877054, Small\n",
      "Comparing effect size of RF and LR: Cohen's d=0.248682872178212, Medium\n",
      "Comparing effect size of RF and MLP: Cohen's d=0.08692029756451733, Small\n",
      "Comparing effect size of RF and ET: Cohen's d=0.4020021517241402, Medium\n",
      "Eta squared: 0.010494 (Medium)\n"
     ]
    },
    {
     "data": {
      "image/png": "[encoded data removed]",
      "text/plain": [
       "<Figure size 432x288 with 1 Axes>"
      ]
     },
     "metadata": {
      "needs_background": "light"
     },
     "output_type": "display_data"
    }
   ],
   "source": [
    "compare_methods(X_lle10,Y,listAlgorithms,listParams,listNames,metric='recall')"
   ]
  },
  {
   "cell_type": "code",
   "execution_count": 86,
   "metadata": {},
   "outputs": [
    {
     "name": "stdout",
     "output_type": "stream",
     "text": [
      "temp.csv\n",
      "['Arbol' 'SVM' 'KNN' 'LR' 'MLP' 'RF' 'ET']\n",
      "==========================================================\n",
      "Report\n",
      "==========================================================\n",
      "**********************************************************\n",
      "Mean and std\n",
      "**********************************************************\n",
      "Arbol: 0.568182 (0.111433)\n",
      "SVM: 0.452727 (0.177438)\n",
      "KNN: 0.599091 (0.179460)\n",
      "LR: 0.451818 (0.163538)\n",
      "MLP: 0.557273 (0.176328)\n",
      "RF: 0.587273 (0.133249)\n",
      "ET: 0.529091 (0.127195)\n",
      "**********************************************************\n",
      "Statistical tests\n",
      "**********************************************************\n",
      "----------------------------------------------------------\n",
      "Checking parametric conditions \n",
      "----------------------------------------------------------\n",
      "Checking independence \n",
      "Ok\n",
      "Checking normality using Shapiro-Wilk's test for normality, alpha=0.05\n",
      "W: 0.964422, p:0.044134\n",
      "The null hypothesis (normality) is rejected\n",
      "Checking heteroscedasticity using Levene's test, alpha=0.05\n",
      "W: 0.407983, p:0.871060\n",
      "The null hypothesis (heteroscedasticity) is accepted\n",
      "Conditions for a parametric test are not fulfilled, applying a non-parametric test\n",
      "----------------------------------------------------------\n",
      "Working with more than 2 algorithms\n",
      "----------------------------------------------------------\n",
      "----------------------------------------------------------\n",
      "Applying Friedman test\n",
      "----------------------------------------------------------\n",
      "F-value: 0.895936, p-value: 0.5046353663130189\n",
      "Null hypothesis is accepted; hence, we can't say that there is a significant difference in the performance of the models\n",
      "----------------------------------------------------------\n",
      "Analysing effect size\n",
      "----------------------------------------------------------\n",
      "We take the model with the best mean (KNN, mean: 0.599091) and compare it with the other models: \n",
      "Comparing effect size of KNN and Arbol: Cohen's d=0.19630999793843426, Small\n",
      "Comparing effect size of KNN and SVM: Cohen's d=0.7780966351172223, Large\n",
      "Comparing effect size of KNN and LR: Cohen's d=0.8137952583771478, Large\n",
      "Comparing effect size of KNN and MLP: Cohen's d=0.22300163615931126, Medium\n",
      "Comparing effect size of KNN and RF: Cohen's d=0.07093665016798616, Small\n",
      "Comparing effect size of KNN and ET: Cohen's d=0.42695496921109966, Medium\n",
      "Eta squared: 0.116609 (Large)\n"
     ]
    },
    {
     "data": {
      "image/png": "[encoded data removed]",
      "text/plain": [
       "<Figure size 432x288 with 1 Axes>"
      ]
     },
     "metadata": {
      "needs_background": "light"
     },
     "output_type": "display_data"
    }
   ],
   "source": [
    "compare_methods(X_lle10,Y,listAlgorithms,listParams,listNames,metric='accuracy')"
   ]
  },
  {
   "cell_type": "code",
   "execution_count": 87,
   "metadata": {},
   "outputs": [
    {
     "name": "stdout",
     "output_type": "stream",
     "text": [
      "temp.csv\n",
      "['Arbol' 'SVM' 'KNN' 'LR' 'MLP' 'RF' 'ET']\n",
      "==========================================================\n",
      "Report\n",
      "==========================================================\n",
      "**********************************************************\n",
      "Mean and std\n",
      "**********************************************************\n",
      "Arbol: 0.519167 (0.133317)\n",
      "SVM: 0.512202 (0.036607)\n",
      "KNN: 0.504167 (0.078711)\n",
      "LR: 0.533036 (0.088673)\n",
      "MLP: 0.465595 (0.116563)\n",
      "RF: 0.646369 (0.111409)\n",
      "ET: 0.553512 (0.109606)\n",
      "**********************************************************\n",
      "Statistical tests\n",
      "**********************************************************\n",
      "----------------------------------------------------------\n",
      "Checking parametric conditions \n",
      "----------------------------------------------------------\n",
      "Checking independence \n",
      "Ok\n",
      "Checking normality using Shapiro-Wilk's test for normality, alpha=0.05\n",
      "W: 0.962392, p:0.033983\n",
      "The null hypothesis (normality) is rejected\n",
      "Checking heteroscedasticity using Levene's test, alpha=0.05\n",
      "W: 1.834048, p:0.106693\n",
      "The null hypothesis (heteroscedasticity) is rejected\n",
      "Conditions for a parametric test are not fulfilled, applying a non-parametric test\n",
      "----------------------------------------------------------\n",
      "Working with more than 2 algorithms\n",
      "----------------------------------------------------------\n",
      "----------------------------------------------------------\n",
      "Applying Friedman test\n",
      "----------------------------------------------------------\n",
      "F-value: 2.839323, p-value: 0.017796577741772013\n",
      "Null hypothesis is rejected; hence, models have different performance\n",
      "Technique      Ranking\n",
      "-----------  ---------\n",
      "RF                6.05\n",
      "ET                4.3\n",
      "LR                4.05\n",
      "Arbol             3.9\n",
      "SVM               3.7\n",
      "KNN               3.4\n",
      "MLP               2.6\n",
      "Winner model: RF\n",
      "----------------------------------------------------------\n",
      "Applying Holm p-value adjustment procedure and analysing effect size\n",
      "----------------------------------------------------------\n",
      "Comparison      Zvalue     p-value    adjusted p-value\n",
      "------------  --------  ----------  ------------------\n",
      "RF vs MLP      3.57109  0.0003555            0.002133\n",
      "RF vs KNN      2.74301  0.00608787           0.0304394\n",
      "RF vs SVM      2.43248  0.0149958            0.0599831\n",
      "RF vs Arbol    2.22546  0.0260503            0.0781508\n",
      "RF vs LR       2.0702   0.0384339            0.0781508\n",
      "RF vs ET       1.81142  0.0700755            0.0781508\n",
      "There is a significant difference between the models: RF (mean: 0.646369, std: 0.111409) and MLP (mean: 0.465595, std: 0.116563) (Cohen's d=1.50416539796464, Large)\n",
      "There is a significant difference between the models: RF (mean: 0.646369, std: 0.111409) and KNN (mean: 0.504167, std: 0.078711) (Cohen's d=1.3986248766268887, Large)\n",
      "There is a significant difference between the models: RF (mean: 0.646369, std: 0.111409) and SVM (mean: 0.512202, std: 0.036607) (Cohen's d=1.5349652113285723, Large)\n",
      "There is a significant difference between the models: RF (mean: 0.646369, std: 0.111409) and Arbol (mean: 0.519167, std: 0.133317) (Cohen's d=0.9822772900630647, Large)\n",
      "There is a significant difference between the models: RF (mean: 0.646369, std: 0.111409) and LR (mean: 0.533036, std: 0.088673) (Cohen's d=1.0678637304898175, Large)\n",
      "There is a significant difference between the models: RF (mean: 0.646369, std: 0.111409) and ET (mean: 0.553512, std: 0.109606) (Cohen's d=0.7971321291170672, Large)\n",
      "Eta squared: 0.213042 (Large)\n"
     ]
    },
    {
     "data": {
      "image/png": "[encoded data removed]",
      "text/plain": [
       "<Figure size 432x288 with 1 Axes>"
      ]
     },
     "metadata": {
      "needs_background": "light"
     },
     "output_type": "display_data"
    }
   ],
   "source": [
    "clf = manifold.LocallyLinearEmbedding(10, n_components=100,method='standard')\n",
    "X_lle100 = clf.fit_transform(X)\n",
    "compare_methods(X_lle100,Y,listAlgorithms,listParams,listNames,metric='auroc')"
   ]
  },
  {
   "cell_type": "code",
   "execution_count": 88,
   "metadata": {},
   "outputs": [
    {
     "name": "stdout",
     "output_type": "stream",
     "text": [
      "temp.csv\n",
      "['Arbol' 'SVM' 'KNN' 'LR' 'MLP' 'RF' 'ET']\n",
      "==========================================================\n",
      "Report\n",
      "==========================================================\n",
      "**********************************************************\n",
      "Mean and std\n",
      "**********************************************************\n",
      "Arbol: 0.498333 (0.197828)\n",
      "SVM: 0.370794 (0.324982)\n",
      "KNN: 0.336667 (0.344384)\n",
      "LR: 0.193066 (0.235616)\n",
      "MLP: 0.459524 (0.161880)\n",
      "RF: 0.626190 (0.253701)\n",
      "ET: 0.574405 (0.290940)\n",
      "**********************************************************\n",
      "Statistical tests\n",
      "**********************************************************\n",
      "----------------------------------------------------------\n",
      "Checking parametric conditions \n",
      "----------------------------------------------------------\n",
      "Checking independence \n",
      "Ok\n",
      "Checking normality using Shapiro-Wilk's test for normality, alpha=0.05\n",
      "W: 0.933223, p:0.001057\n",
      "The null hypothesis (normality) is rejected\n",
      "Checking heteroscedasticity using Levene's test, alpha=0.05\n",
      "W: 0.935628, p:0.475994\n",
      "The null hypothesis (heteroscedasticity) is rejected\n",
      "Conditions for a parametric test are not fulfilled, applying a non-parametric test\n",
      "----------------------------------------------------------\n",
      "Working with more than 2 algorithms\n",
      "----------------------------------------------------------\n",
      "----------------------------------------------------------\n",
      "Applying Friedman test\n",
      "----------------------------------------------------------\n",
      "F-value: 2.844888, p-value: 0.017616976634162507\n",
      "Null hypothesis is rejected; hence, models have different performance\n",
      "Technique      Ranking\n",
      "-----------  ---------\n",
      "RF                5.8\n",
      "ET                4.9\n",
      "Arbol             4.3\n",
      "MLP               3.55\n",
      "SVM               3.45\n",
      "KNN               3.2\n",
      "LR                2.8\n",
      "Winner model: RF\n",
      "----------------------------------------------------------\n",
      "Applying Holm p-value adjustment procedure and analysing effect size\n",
      "----------------------------------------------------------\n",
      "Comparison      Zvalue     p-value    adjusted p-value\n",
      "------------  --------  ----------  ------------------\n",
      "RF vs LR      3.1053    0.00190089           0.0114054\n",
      "RF vs KNN     2.69126   0.00711836           0.0355918\n",
      "RF vs SVM     2.43248   0.0149958            0.0599831\n",
      "RF vs MLP     2.32897   0.0198606            0.0599831\n",
      "RF vs Arbol   1.55265   0.120507             0.241015\n",
      "RF vs ET      0.931589  0.351549             0.351549\n",
      "There is a significant difference between the models: RF (mean: 0.626190, std: 0.253701) and LR (mean: 0.193066, std: 0.235616) (Cohen's d=1.6783296809799912, Large)\n",
      "There is a significant difference between the models: RF (mean: 0.626190, std: 0.253701) and KNN (mean: 0.336667, std: 0.344384) (Cohen's d=0.9081085789673674, Large)\n",
      "There is a significant difference between the models: RF (mean: 0.626190, std: 0.253701) and SVM (mean: 0.370794, std: 0.324982) (Cohen's d=0.8311051305817603, Large)\n",
      "There is a significant difference between the models: RF (mean: 0.626190, std: 0.253701) and MLP (mean: 0.459524, std: 0.161880) (Cohen's d=0.7430102925497611, Large)\n",
      "There is a significant difference between the models: RF (mean: 0.626190, std: 0.253701) and Arbol (mean: 0.498333, std: 0.197828) (Cohen's d=0.5332009984941408, Large)\n",
      "There is a significant difference between the models: RF (mean: 0.626190, std: 0.253701) and ET (mean: 0.574405, std: 0.290940) (Cohen's d=0.1799859184183521, Small)\n",
      "Eta squared: 0.211963 (Large)\n"
     ]
    },
    {
     "data": {
      "image/png": "[encoded data removed]",
      "text/plain": [
       "<Figure size 432x288 with 1 Axes>"
      ]
     },
     "metadata": {
      "needs_background": "light"
     },
     "output_type": "display_data"
    }
   ],
   "source": [
    "compare_methods(X_lle100,Y,listAlgorithms,listParams,listNames,metric='precision')"
   ]
  },
  {
   "cell_type": "code",
   "execution_count": 89,
   "metadata": {},
   "outputs": [
    {
     "name": "stdout",
     "output_type": "stream",
     "text": [
      "temp.csv\n",
      "['Arbol' 'SVM' 'KNN' 'LR' 'MLP' 'RF' 'ET']\n",
      "==========================================================\n",
      "Report\n",
      "==========================================================\n",
      "**********************************************************\n",
      "Mean and std\n",
      "**********************************************************\n",
      "Arbol: 0.532143 (0.218481)\n",
      "SVM: 0.425000 (0.419076)\n",
      "KNN: 0.352381 (0.333299)\n",
      "LR: 0.441667 (0.453459)\n",
      "MLP: 0.466667 (0.223404)\n",
      "RF: 0.569048 (0.269521)\n",
      "ET: 0.507738 (0.362187)\n",
      "**********************************************************\n",
      "Statistical tests\n",
      "**********************************************************\n",
      "----------------------------------------------------------\n",
      "Checking parametric conditions \n",
      "----------------------------------------------------------\n",
      "Checking independence \n",
      "Ok\n",
      "Checking normality using Shapiro-Wilk's test for normality, alpha=0.05\n",
      "W: 0.903802, p:0.000055\n",
      "The null hypothesis (normality) is rejected\n",
      "Checking heteroscedasticity using Levene's test, alpha=0.05\n",
      "W: 2.820936, p:0.017010\n",
      "The null hypothesis (heteroscedasticity) is rejected\n",
      "Conditions for a parametric test are not fulfilled, applying a non-parametric test\n",
      "----------------------------------------------------------\n",
      "Working with more than 2 algorithms\n",
      "----------------------------------------------------------\n",
      "----------------------------------------------------------\n",
      "Applying Friedman test\n",
      "----------------------------------------------------------\n",
      "F-value: 0.688581, p-value: 0.6596499541239367\n",
      "Null hypothesis is accepted; hence, we can't say that there is a significant difference in the performance of the models\n",
      "----------------------------------------------------------\n",
      "Analysing effect size\n",
      "----------------------------------------------------------\n",
      "We take the model with the best mean (RF, mean: 0.569048) and compare it with the other models: \n",
      "Comparing effect size of RF and Arbol: Cohen's d=0.14270838377682368, Small\n",
      "Comparing effect size of RF and SVM: Cohen's d=0.38786722283415354, Medium\n",
      "Comparing effect size of RF and KNN: Cohen's d=0.6781693054919599, Large\n",
      "Comparing effect size of RF and LR: Cohen's d=0.3239739620176214, Medium\n",
      "Comparing effect size of RF and MLP: Cohen's d=0.3923710456554817, Medium\n",
      "Comparing effect size of RF and ET: Cohen's d=0.18219627828388846, Small\n",
      "Eta squared: 0.038478 (Medium)\n"
     ]
    },
    {
     "data": {
      "image/png": "[encoded data removed]",
      "text/plain": [
       "<Figure size 432x288 with 1 Axes>"
      ]
     },
     "metadata": {
      "needs_background": "light"
     },
     "output_type": "display_data"
    }
   ],
   "source": [
    "compare_methods(X_lle100,Y,listAlgorithms,listParams,listNames,metric='recall')"
   ]
  },
  {
   "cell_type": "code",
   "execution_count": 90,
   "metadata": {},
   "outputs": [
    {
     "name": "stdout",
     "output_type": "stream",
     "text": [
      "temp.csv\n",
      "['Arbol' 'SVM' 'KNN' 'LR' 'MLP' 'RF' 'ET']\n",
      "==========================================================\n",
      "Report\n",
      "==========================================================\n",
      "**********************************************************\n",
      "Mean and std\n",
      "**********************************************************\n",
      "Arbol: 0.488182 (0.113695)\n",
      "SVM: 0.477273 (0.172787)\n",
      "KNN: 0.461818 (0.136412)\n",
      "LR: 0.382727 (0.156904)\n",
      "MLP: 0.470909 (0.074612)\n",
      "RF: 0.578182 (0.077160)\n",
      "ET: 0.440909 (0.107584)\n",
      "**********************************************************\n",
      "Statistical tests\n",
      "**********************************************************\n",
      "----------------------------------------------------------\n",
      "Checking parametric conditions \n",
      "----------------------------------------------------------\n",
      "Checking independence \n",
      "Ok\n",
      "Checking normality using Shapiro-Wilk's test for normality, alpha=0.05\n",
      "W: 0.960996, p:0.028423\n",
      "The null hypothesis (normality) is rejected\n",
      "Checking heteroscedasticity using Levene's test, alpha=0.05\n",
      "W: 0.936940, p:0.475100\n",
      "The null hypothesis (heteroscedasticity) is rejected\n",
      "Conditions for a parametric test are not fulfilled, applying a non-parametric test\n",
      "----------------------------------------------------------\n",
      "Working with more than 2 algorithms\n",
      "----------------------------------------------------------\n",
      "----------------------------------------------------------\n",
      "Applying Friedman test\n",
      "----------------------------------------------------------\n",
      "F-value: 1.970832, p-value: 0.08600690068622796\n",
      "Null hypothesis is rejected; hence, models have different performance\n",
      "Technique      Ranking\n",
      "-----------  ---------\n",
      "RF                5.75\n",
      "Arbol             4.2\n",
      "MLP               4.05\n",
      "KNN               3.9\n",
      "SVM               3.85\n",
      "ET                3.55\n",
      "LR                2.7\n",
      "Winner model: RF\n",
      "----------------------------------------------------------\n",
      "Applying Holm p-value adjustment procedure and analysing effect size\n",
      "----------------------------------------------------------\n",
      "Comparison      Zvalue     p-value    adjusted p-value\n",
      "------------  --------  ----------  ------------------\n",
      "RF vs LR       3.15705  0.00159374          0.00956244\n",
      "RF vs ET       2.27722  0.0227733           0.113867\n",
      "RF vs SVM      1.96669  0.0492193           0.196877\n",
      "RF vs KNN      1.91493  0.0555012           0.196877\n",
      "RF vs MLP      1.75967  0.0784643           0.196877\n",
      "RF vs Arbol    1.6044   0.108625            0.196877\n",
      "There is a significant difference between the models: RF (mean: 0.578182, std: 0.077160) and LR (mean: 0.382727, std: 0.156904) (Cohen's d=1.4997364134638573, Large)\n",
      "There is a significant difference between the models: RF (mean: 0.578182, std: 0.077160) and ET (mean: 0.440909, std: 0.107584) (Cohen's d=1.3910831938675814, Large)\n",
      "There is a significant difference between the models: RF (mean: 0.578182, std: 0.077160) and SVM (mean: 0.477273, std: 0.172787) (Cohen's d=0.7154345317863203, Large)\n",
      "There is a significant difference between the models: RF (mean: 0.578182, std: 0.077160) and KNN (mean: 0.461818, std: 0.136412) (Cohen's d=0.9961433031871078, Large)\n",
      "There is a significant difference between the models: RF (mean: 0.578182, std: 0.077160) and MLP (mean: 0.470909, std: 0.074612) (Cohen's d=1.340870613769069, Large)\n",
      "There is a significant difference between the models: RF (mean: 0.578182, std: 0.077160) and Arbol (mean: 0.488182, std: 0.113695) (Cohen's d=0.8787713024273132, Large)\n",
      "Eta squared: 0.158843 (Large)\n"
     ]
    },
    {
     "data": {
      "image/png": "[encoded data removed]",
      "text/plain": [
       "<Figure size 432x288 with 1 Axes>"
      ]
     },
     "metadata": {
      "needs_background": "light"
     },
     "output_type": "display_data"
    }
   ],
   "source": [
    "compare_methods(X_lle100,Y,listAlgorithms,listParams,listNames,metric='accuracy')"
   ]
  },
  {
   "cell_type": "markdown",
   "metadata": {},
   "source": [
    "# MDS"
   ]
  },
  {
   "cell_type": "code",
   "execution_count": 91,
   "metadata": {},
   "outputs": [
    {
     "ename": "OSError",
     "evalue": "[Errno 12] Cannot allocate memory",
     "output_type": "error",
     "traceback": [
      "\u001b[0;31m---------------------------------------------------------------------------\u001b[0m",
      "\u001b[0;31mOSError\u001b[0m                                   Traceback (most recent call last)",
      "\u001b[0;32m<ipython-input-91-c22c6fa31532>\u001b[0m in \u001b[0;36m<module>\u001b[0;34m\u001b[0m\n\u001b[1;32m      1\u001b[0m \u001b[0mclf\u001b[0m \u001b[0;34m=\u001b[0m \u001b[0mmanifold\u001b[0m\u001b[0;34m.\u001b[0m\u001b[0mMDS\u001b[0m\u001b[0;34m(\u001b[0m\u001b[0mn_components\u001b[0m\u001b[0;34m=\u001b[0m\u001b[0;36m2\u001b[0m\u001b[0;34m,\u001b[0m \u001b[0mn_init\u001b[0m\u001b[0;34m=\u001b[0m\u001b[0;36m1\u001b[0m\u001b[0;34m,\u001b[0m \u001b[0mmax_iter\u001b[0m\u001b[0;34m=\u001b[0m\u001b[0;36m100\u001b[0m\u001b[0;34m)\u001b[0m\u001b[0;34m\u001b[0m\u001b[0;34m\u001b[0m\u001b[0m\n\u001b[1;32m      2\u001b[0m \u001b[0mX_mds2\u001b[0m \u001b[0;34m=\u001b[0m \u001b[0mclf\u001b[0m\u001b[0;34m.\u001b[0m\u001b[0mfit_transform\u001b[0m\u001b[0;34m(\u001b[0m\u001b[0mX\u001b[0m\u001b[0;34m)\u001b[0m\u001b[0;34m\u001b[0m\u001b[0;34m\u001b[0m\u001b[0m\n\u001b[0;32m----> 3\u001b[0;31m \u001b[0mcompare_methods\u001b[0m\u001b[0;34m(\u001b[0m\u001b[0mX_mds2\u001b[0m\u001b[0;34m,\u001b[0m\u001b[0mY\u001b[0m\u001b[0;34m,\u001b[0m\u001b[0mlistAlgorithms\u001b[0m\u001b[0;34m,\u001b[0m\u001b[0mlistParams\u001b[0m\u001b[0;34m,\u001b[0m\u001b[0mlistNames\u001b[0m\u001b[0;34m,\u001b[0m\u001b[0mmetric\u001b[0m\u001b[0;34m=\u001b[0m\u001b[0;34m'auroc'\u001b[0m\u001b[0;34m)\u001b[0m\u001b[0;34m\u001b[0m\u001b[0;34m\u001b[0m\u001b[0m\n\u001b[0m",
      "\u001b[0;32m~/.virtualenvs/clodsa/lib/python3.6/site-packages/StatisticalAnalysis/statisticalComparison.py\u001b[0m in \u001b[0;36mcompare_methods\u001b[0;34m(data, labels, listAlgorithms, listParameters, listAlgorithmNames, metric, alpha)\u001b[0m\n\u001b[1;32m    382\u001b[0m                   for (x, y, z) in zip(listAlgorithms, listParameters, listAlgorithmNames)]\n\u001b[1;32m    383\u001b[0m \u001b[0;34m\u001b[0m\u001b[0m\n\u001b[0;32m--> 384\u001b[0;31m     \u001b[0mp\u001b[0m \u001b[0;34m=\u001b[0m \u001b[0mPool\u001b[0m\u001b[0;34m(\u001b[0m\u001b[0mlen\u001b[0m\u001b[0;34m(\u001b[0m\u001b[0mlistAlgorithms\u001b[0m\u001b[0;34m)\u001b[0m\u001b[0;34m)\u001b[0m\u001b[0;34m\u001b[0m\u001b[0;34m\u001b[0m\u001b[0m\n\u001b[0m\u001b[1;32m    385\u001b[0m \u001b[0;34m\u001b[0m\u001b[0m\n\u001b[1;32m    386\u001b[0m     \u001b[0mcomparison\u001b[0m\u001b[0;34m=\u001b[0m\u001b[0mp\u001b[0m\u001b[0;34m.\u001b[0m\u001b[0mmap\u001b[0m\u001b[0;34m(\u001b[0m\u001b[0mcompare_method\u001b[0m\u001b[0;34m,\u001b[0m\u001b[0mtuple\u001b[0m\u001b[0;34m)\u001b[0m\u001b[0;34m\u001b[0m\u001b[0;34m\u001b[0m\u001b[0m\n",
      "\u001b[0;32m/usr/lib/python3.6/multiprocessing/context.py\u001b[0m in \u001b[0;36mPool\u001b[0;34m(self, processes, initializer, initargs, maxtasksperchild)\u001b[0m\n\u001b[1;32m    117\u001b[0m         \u001b[0;32mfrom\u001b[0m \u001b[0;34m.\u001b[0m\u001b[0mpool\u001b[0m \u001b[0;32mimport\u001b[0m \u001b[0mPool\u001b[0m\u001b[0;34m\u001b[0m\u001b[0;34m\u001b[0m\u001b[0m\n\u001b[1;32m    118\u001b[0m         return Pool(processes, initializer, initargs, maxtasksperchild,\n\u001b[0;32m--> 119\u001b[0;31m                     context=self.get_context())\n\u001b[0m\u001b[1;32m    120\u001b[0m \u001b[0;34m\u001b[0m\u001b[0m\n\u001b[1;32m    121\u001b[0m     \u001b[0;32mdef\u001b[0m \u001b[0mRawValue\u001b[0m\u001b[0;34m(\u001b[0m\u001b[0mself\u001b[0m\u001b[0;34m,\u001b[0m \u001b[0mtypecode_or_type\u001b[0m\u001b[0;34m,\u001b[0m \u001b[0;34m*\u001b[0m\u001b[0margs\u001b[0m\u001b[0;34m)\u001b[0m\u001b[0;34m:\u001b[0m\u001b[0;34m\u001b[0m\u001b[0;34m\u001b[0m\u001b[0m\n",
      "\u001b[0;32m/usr/lib/python3.6/multiprocessing/pool.py\u001b[0m in \u001b[0;36m__init__\u001b[0;34m(self, processes, initializer, initargs, maxtasksperchild, context)\u001b[0m\n\u001b[1;32m    172\u001b[0m         \u001b[0mself\u001b[0m\u001b[0;34m.\u001b[0m\u001b[0m_processes\u001b[0m \u001b[0;34m=\u001b[0m \u001b[0mprocesses\u001b[0m\u001b[0;34m\u001b[0m\u001b[0;34m\u001b[0m\u001b[0m\n\u001b[1;32m    173\u001b[0m         \u001b[0mself\u001b[0m\u001b[0;34m.\u001b[0m\u001b[0m_pool\u001b[0m \u001b[0;34m=\u001b[0m \u001b[0;34m[\u001b[0m\u001b[0;34m]\u001b[0m\u001b[0;34m\u001b[0m\u001b[0;34m\u001b[0m\u001b[0m\n\u001b[0;32m--> 174\u001b[0;31m         \u001b[0mself\u001b[0m\u001b[0;34m.\u001b[0m\u001b[0m_repopulate_pool\u001b[0m\u001b[0;34m(\u001b[0m\u001b[0;34m)\u001b[0m\u001b[0;34m\u001b[0m\u001b[0;34m\u001b[0m\u001b[0m\n\u001b[0m\u001b[1;32m    175\u001b[0m \u001b[0;34m\u001b[0m\u001b[0m\n\u001b[1;32m    176\u001b[0m         self._worker_handler = threading.Thread(\n",
      "\u001b[0;32m/usr/lib/python3.6/multiprocessing/pool.py\u001b[0m in \u001b[0;36m_repopulate_pool\u001b[0;34m(self)\u001b[0m\n\u001b[1;32m    237\u001b[0m             \u001b[0mw\u001b[0m\u001b[0;34m.\u001b[0m\u001b[0mname\u001b[0m \u001b[0;34m=\u001b[0m \u001b[0mw\u001b[0m\u001b[0;34m.\u001b[0m\u001b[0mname\u001b[0m\u001b[0;34m.\u001b[0m\u001b[0mreplace\u001b[0m\u001b[0;34m(\u001b[0m\u001b[0;34m'Process'\u001b[0m\u001b[0;34m,\u001b[0m \u001b[0;34m'PoolWorker'\u001b[0m\u001b[0;34m)\u001b[0m\u001b[0;34m\u001b[0m\u001b[0;34m\u001b[0m\u001b[0m\n\u001b[1;32m    238\u001b[0m             \u001b[0mw\u001b[0m\u001b[0;34m.\u001b[0m\u001b[0mdaemon\u001b[0m \u001b[0;34m=\u001b[0m \u001b[0;32mTrue\u001b[0m\u001b[0;34m\u001b[0m\u001b[0;34m\u001b[0m\u001b[0m\n\u001b[0;32m--> 239\u001b[0;31m             \u001b[0mw\u001b[0m\u001b[0;34m.\u001b[0m\u001b[0mstart\u001b[0m\u001b[0;34m(\u001b[0m\u001b[0;34m)\u001b[0m\u001b[0;34m\u001b[0m\u001b[0;34m\u001b[0m\u001b[0m\n\u001b[0m\u001b[1;32m    240\u001b[0m             \u001b[0mutil\u001b[0m\u001b[0;34m.\u001b[0m\u001b[0mdebug\u001b[0m\u001b[0;34m(\u001b[0m\u001b[0;34m'added worker'\u001b[0m\u001b[0;34m)\u001b[0m\u001b[0;34m\u001b[0m\u001b[0;34m\u001b[0m\u001b[0m\n\u001b[1;32m    241\u001b[0m \u001b[0;34m\u001b[0m\u001b[0m\n",
      "\u001b[0;32m/usr/lib/python3.6/multiprocessing/process.py\u001b[0m in \u001b[0;36mstart\u001b[0;34m(self)\u001b[0m\n\u001b[1;32m    103\u001b[0m                \u001b[0;34m'daemonic processes are not allowed to have children'\u001b[0m\u001b[0;34m\u001b[0m\u001b[0;34m\u001b[0m\u001b[0m\n\u001b[1;32m    104\u001b[0m         \u001b[0m_cleanup\u001b[0m\u001b[0;34m(\u001b[0m\u001b[0;34m)\u001b[0m\u001b[0;34m\u001b[0m\u001b[0;34m\u001b[0m\u001b[0m\n\u001b[0;32m--> 105\u001b[0;31m         \u001b[0mself\u001b[0m\u001b[0;34m.\u001b[0m\u001b[0m_popen\u001b[0m \u001b[0;34m=\u001b[0m \u001b[0mself\u001b[0m\u001b[0;34m.\u001b[0m\u001b[0m_Popen\u001b[0m\u001b[0;34m(\u001b[0m\u001b[0mself\u001b[0m\u001b[0;34m)\u001b[0m\u001b[0;34m\u001b[0m\u001b[0;34m\u001b[0m\u001b[0m\n\u001b[0m\u001b[1;32m    106\u001b[0m         \u001b[0mself\u001b[0m\u001b[0;34m.\u001b[0m\u001b[0m_sentinel\u001b[0m \u001b[0;34m=\u001b[0m \u001b[0mself\u001b[0m\u001b[0;34m.\u001b[0m\u001b[0m_popen\u001b[0m\u001b[0;34m.\u001b[0m\u001b[0msentinel\u001b[0m\u001b[0;34m\u001b[0m\u001b[0;34m\u001b[0m\u001b[0m\n\u001b[1;32m    107\u001b[0m         \u001b[0;31m# Avoid a refcycle if the target function holds an indirect\u001b[0m\u001b[0;34m\u001b[0m\u001b[0;34m\u001b[0m\u001b[0;34m\u001b[0m\u001b[0m\n",
      "\u001b[0;32m/usr/lib/python3.6/multiprocessing/context.py\u001b[0m in \u001b[0;36m_Popen\u001b[0;34m(process_obj)\u001b[0m\n\u001b[1;32m    275\u001b[0m         \u001b[0;32mdef\u001b[0m \u001b[0m_Popen\u001b[0m\u001b[0;34m(\u001b[0m\u001b[0mprocess_obj\u001b[0m\u001b[0;34m)\u001b[0m\u001b[0;34m:\u001b[0m\u001b[0;34m\u001b[0m\u001b[0;34m\u001b[0m\u001b[0m\n\u001b[1;32m    276\u001b[0m             \u001b[0;32mfrom\u001b[0m \u001b[0;34m.\u001b[0m\u001b[0mpopen_fork\u001b[0m \u001b[0;32mimport\u001b[0m \u001b[0mPopen\u001b[0m\u001b[0;34m\u001b[0m\u001b[0;34m\u001b[0m\u001b[0m\n\u001b[0;32m--> 277\u001b[0;31m             \u001b[0;32mreturn\u001b[0m \u001b[0mPopen\u001b[0m\u001b[0;34m(\u001b[0m\u001b[0mprocess_obj\u001b[0m\u001b[0;34m)\u001b[0m\u001b[0;34m\u001b[0m\u001b[0;34m\u001b[0m\u001b[0m\n\u001b[0m\u001b[1;32m    278\u001b[0m \u001b[0;34m\u001b[0m\u001b[0m\n\u001b[1;32m    279\u001b[0m     \u001b[0;32mclass\u001b[0m \u001b[0mSpawnProcess\u001b[0m\u001b[0;34m(\u001b[0m\u001b[0mprocess\u001b[0m\u001b[0;34m.\u001b[0m\u001b[0mBaseProcess\u001b[0m\u001b[0;34m)\u001b[0m\u001b[0;34m:\u001b[0m\u001b[0;34m\u001b[0m\u001b[0;34m\u001b[0m\u001b[0m\n",
      "\u001b[0;32m/usr/lib/python3.6/multiprocessing/popen_fork.py\u001b[0m in \u001b[0;36m__init__\u001b[0;34m(self, process_obj)\u001b[0m\n\u001b[1;32m     17\u001b[0m         \u001b[0mutil\u001b[0m\u001b[0;34m.\u001b[0m\u001b[0m_flush_std_streams\u001b[0m\u001b[0;34m(\u001b[0m\u001b[0;34m)\u001b[0m\u001b[0;34m\u001b[0m\u001b[0;34m\u001b[0m\u001b[0m\n\u001b[1;32m     18\u001b[0m         \u001b[0mself\u001b[0m\u001b[0;34m.\u001b[0m\u001b[0mreturncode\u001b[0m \u001b[0;34m=\u001b[0m \u001b[0;32mNone\u001b[0m\u001b[0;34m\u001b[0m\u001b[0;34m\u001b[0m\u001b[0m\n\u001b[0;32m---> 19\u001b[0;31m         \u001b[0mself\u001b[0m\u001b[0;34m.\u001b[0m\u001b[0m_launch\u001b[0m\u001b[0;34m(\u001b[0m\u001b[0mprocess_obj\u001b[0m\u001b[0;34m)\u001b[0m\u001b[0;34m\u001b[0m\u001b[0;34m\u001b[0m\u001b[0m\n\u001b[0m\u001b[1;32m     20\u001b[0m \u001b[0;34m\u001b[0m\u001b[0m\n\u001b[1;32m     21\u001b[0m     \u001b[0;32mdef\u001b[0m \u001b[0mduplicate_for_child\u001b[0m\u001b[0;34m(\u001b[0m\u001b[0mself\u001b[0m\u001b[0;34m,\u001b[0m \u001b[0mfd\u001b[0m\u001b[0;34m)\u001b[0m\u001b[0;34m:\u001b[0m\u001b[0;34m\u001b[0m\u001b[0;34m\u001b[0m\u001b[0m\n",
      "\u001b[0;32m/usr/lib/python3.6/multiprocessing/popen_fork.py\u001b[0m in \u001b[0;36m_launch\u001b[0;34m(self, process_obj)\u001b[0m\n\u001b[1;32m     64\u001b[0m         \u001b[0mcode\u001b[0m \u001b[0;34m=\u001b[0m \u001b[0;36m1\u001b[0m\u001b[0;34m\u001b[0m\u001b[0;34m\u001b[0m\u001b[0m\n\u001b[1;32m     65\u001b[0m         \u001b[0mparent_r\u001b[0m\u001b[0;34m,\u001b[0m \u001b[0mchild_w\u001b[0m \u001b[0;34m=\u001b[0m \u001b[0mos\u001b[0m\u001b[0;34m.\u001b[0m\u001b[0mpipe\u001b[0m\u001b[0;34m(\u001b[0m\u001b[0;34m)\u001b[0m\u001b[0;34m\u001b[0m\u001b[0;34m\u001b[0m\u001b[0m\n\u001b[0;32m---> 66\u001b[0;31m         \u001b[0mself\u001b[0m\u001b[0;34m.\u001b[0m\u001b[0mpid\u001b[0m \u001b[0;34m=\u001b[0m \u001b[0mos\u001b[0m\u001b[0;34m.\u001b[0m\u001b[0mfork\u001b[0m\u001b[0;34m(\u001b[0m\u001b[0;34m)\u001b[0m\u001b[0;34m\u001b[0m\u001b[0;34m\u001b[0m\u001b[0m\n\u001b[0m\u001b[1;32m     67\u001b[0m         \u001b[0;32mif\u001b[0m \u001b[0mself\u001b[0m\u001b[0;34m.\u001b[0m\u001b[0mpid\u001b[0m \u001b[0;34m==\u001b[0m \u001b[0;36m0\u001b[0m\u001b[0;34m:\u001b[0m\u001b[0;34m\u001b[0m\u001b[0;34m\u001b[0m\u001b[0m\n\u001b[1;32m     68\u001b[0m             \u001b[0;32mtry\u001b[0m\u001b[0;34m:\u001b[0m\u001b[0;34m\u001b[0m\u001b[0;34m\u001b[0m\u001b[0m\n",
      "\u001b[0;31mOSError\u001b[0m: [Errno 12] Cannot allocate memory"
     ]
    }
   ],
   "source": [
    "clf = manifold.MDS(n_components=2, n_init=1, max_iter=100)\n",
    "X_mds2 = clf.fit_transform(X)\n",
    "compare_methods(X_mds2,Y,listAlgorithms,listParams,listNames,metric='auroc')"
   ]
  },
  {
   "cell_type": "code",
   "execution_count": null,
   "metadata": {},
   "outputs": [],
   "source": [
    "compare_methods(X_mds2,Y,listAlgorithms,listParams,listNames,metric='precision')"
   ]
  },
  {
   "cell_type": "code",
   "execution_count": null,
   "metadata": {},
   "outputs": [],
   "source": [
    "compare_methods(X_mds2,Y,listAlgorithms,listParams,listNames,metric='recall')"
   ]
  },
  {
   "cell_type": "code",
   "execution_count": null,
   "metadata": {},
   "outputs": [],
   "source": [
    "compare_methods(X_mds2,Y,listAlgorithms,listParams,listNames,metric='accuracy')"
   ]
  },
  {
   "cell_type": "code",
   "execution_count": null,
   "metadata": {
    "scrolled": true
   },
   "outputs": [],
   "source": [
    "clf = manifold.MDS(n_components=10, n_init=1, max_iter=100)\n",
    "X_mds10 = clf.fit_transform(X)\n",
    "compare_methods(X_mds10,Y,listAlgorithms,listParams,listNames,metric='auroc')"
   ]
  },
  {
   "cell_type": "code",
   "execution_count": null,
   "metadata": {},
   "outputs": [],
   "source": [
    "compare_methods(X_mds10,Y,listAlgorithms,listParams,listNames,metric='precision')"
   ]
  },
  {
   "cell_type": "code",
   "execution_count": null,
   "metadata": {},
   "outputs": [],
   "source": [
    "compare_methods(X_mds10,Y,listAlgorithms,listParams,listNames,metric='recall')"
   ]
  },
  {
   "cell_type": "code",
   "execution_count": null,
   "metadata": {},
   "outputs": [],
   "source": [
    "compare_methods(X_mds10,Y,listAlgorithms,listParams,listNames,metric='accuracy')"
   ]
  },
  {
   "cell_type": "code",
   "execution_count": null,
   "metadata": {},
   "outputs": [],
   "source": [
    "clf = manifold.MDS(n_components=100, n_init=1, max_iter=100)\n",
    "X_mds100 = clf.fit_transform(X)\n",
    "compare_methods(X_mds100,Y,listAlgorithms,listParams,listNames,metric='auroc')"
   ]
  },
  {
   "cell_type": "code",
   "execution_count": null,
   "metadata": {},
   "outputs": [],
   "source": [
    "compare_methods(XumaX_mds10p10,Y,listAlgorithms,listParams,listNames,metric='precision')"
   ]
  },
  {
   "cell_type": "code",
   "execution_count": null,
   "metadata": {},
   "outputs": [],
   "source": [
    "compare_methods(Xumap10,Y,listAlgorithms,listParams,listNames,metric='recall')"
   ]
  },
  {
   "cell_type": "code",
   "execution_count": null,
   "metadata": {},
   "outputs": [],
   "source": [
    "compare_methods(Xumap10,Y,listAlgorithms,listParams,listNames,metric='accuracy')"
   ]
  },
  {
   "cell_type": "code",
   "execution_count": null,
   "metadata": {},
   "outputs": [],
   "source": []
  }
 ],
 "metadata": {
  "colab": {
   "name": "CompareMethods.ipynb",
   "provenance": []
  },
  "kernelspec": {
   "display_name": "Python 3",
   "language": "python",
   "name": "python3"
  },
  "language_info": {
   "codemirror_mode": {
    "name": "ipython",
    "version": 3
   },
   "file_extension": ".py",
   "mimetype": "text/x-python",
   "name": "python",
   "nbconvert_exporter": "python",
   "pygments_lexer": "ipython3",
   "version": "3.6.7"
  }
 },
 "nbformat": 4,
 "nbformat_minor": 1
}
