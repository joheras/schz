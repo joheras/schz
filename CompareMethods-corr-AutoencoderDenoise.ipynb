{
 "cells": [
  {
   "cell_type": "code",
   "execution_count": 1,
   "metadata": {
    "id": "9VdC2keIvxIJ"
   },
   "outputs": [],
   "source": [
    "import numpy as np\n",
    "from StatisticalAnalysis import compare_methods"
   ]
  },
  {
   "cell_type": "code",
   "execution_count": 2,
   "metadata": {
    "id": "3iCEO6wXtftF"
   },
   "outputs": [],
   "source": [
    "import warnings\n",
    "warnings.filterwarnings('ignore')"
   ]
  },
  {
   "cell_type": "markdown",
   "metadata": {
    "id": "Zb3btBk5vxIM"
   },
   "source": [
    "First we load the data and process it to have the correct form."
   ]
  },
  {
   "cell_type": "code",
   "execution_count": 3,
   "metadata": {},
   "outputs": [],
   "source": [
    "corr = np.load('corrAutoencoderDenoise.npy')"
   ]
  },
  {
   "cell_type": "code",
   "execution_count": 4,
   "metadata": {},
   "outputs": [],
   "source": [
    "corr_hc = corr[0:52]\n",
    "corr_schz = corr[52:]"
   ]
  },
  {
   "cell_type": "code",
   "execution_count": 5,
   "metadata": {
    "id": "StF6b56QvxIN"
   },
   "outputs": [
    {
     "data": {
      "text/plain": [
       "(52, 16)"
      ]
     },
     "execution_count": 5,
     "metadata": {},
     "output_type": "execute_result"
    }
   ],
   "source": [
    "corr_hc.shape"
   ]
  },
  {
   "cell_type": "code",
   "execution_count": 6,
   "metadata": {
    "id": "qd1nFcAfvxIO"
   },
   "outputs": [],
   "source": [
    "corr_hc = corr_hc.reshape(52,16)"
   ]
  },
  {
   "cell_type": "code",
   "execution_count": 7,
   "metadata": {
    "id": "fc006UE6vxIO"
   },
   "outputs": [],
   "source": [
    "corr_schz = corr_schz.reshape(50,16)"
   ]
  },
  {
   "cell_type": "code",
   "execution_count": 8,
   "metadata": {
    "id": "SEhdGg3IvxIP"
   },
   "outputs": [],
   "source": [
    "X = np.append(corr_hc,corr_schz,axis=0)"
   ]
  },
  {
   "cell_type": "code",
   "execution_count": 9,
   "metadata": {
    "colab": {
     "base_uri": "https://localhost:8080/"
    },
    "id": "8d-RFXoavxIQ",
    "outputId": "a61e1d34-79c6-4f1a-df1f-0b3a74b2c53d"
   },
   "outputs": [
    {
     "data": {
      "text/plain": [
       "(102, 16)"
      ]
     },
     "execution_count": 9,
     "metadata": {},
     "output_type": "execute_result"
    }
   ],
   "source": [
    "X.shape"
   ]
  },
  {
   "cell_type": "code",
   "execution_count": 10,
   "metadata": {
    "colab": {
     "base_uri": "https://localhost:8080/"
    },
    "id": "hnaiAVUvJmgn",
    "outputId": "6cb5c264-f346-4b38-e85b-aa3b8bf8ace6"
   },
   "outputs": [
    {
     "data": {
      "text/plain": [
       "(16,)"
      ]
     },
     "execution_count": 10,
     "metadata": {},
     "output_type": "execute_result"
    }
   ],
   "source": [
    "X[0].shape"
   ]
  },
  {
   "cell_type": "code",
   "execution_count": 11,
   "metadata": {
    "id": "5oh4k1gEvxIR"
   },
   "outputs": [],
   "source": [
    "Y = np.append(np.zeros(52),np.ones(50),axis=0)"
   ]
  },
  {
   "cell_type": "code",
   "execution_count": 12,
   "metadata": {
    "colab": {
     "base_uri": "https://localhost:8080/"
    },
    "id": "PZuBWU5LvxIR",
    "outputId": "21a0987a-b533-41fc-bea5-9f94b3246a66",
    "scrolled": true
   },
   "outputs": [
    {
     "data": {
      "text/plain": [
       "(102,)"
      ]
     },
     "execution_count": 12,
     "metadata": {},
     "output_type": "execute_result"
    }
   ],
   "source": [
    "Y.shape"
   ]
  },
  {
   "cell_type": "markdown",
   "metadata": {
    "id": "w2w8w0VjvxIS"
   },
   "source": [
    "Now, we define the algorithms that we are going to use. "
   ]
  },
  {
   "cell_type": "code",
   "execution_count": 13,
   "metadata": {
    "id": "MEPfV3efvxIS"
   },
   "outputs": [],
   "source": [
    "from sklearn.tree import DecisionTreeClassifier\n",
    "from sklearn.neighbors import KNeighborsClassifier\n",
    "from sklearn.linear_model import LogisticRegression\n",
    "from sklearn.svm import SVC\n",
    "from sklearn.neural_network import MLPClassifier\n",
    "from sklearn.ensemble import ExtraTreesClassifier\n",
    "from sklearn.ensemble import GradientBoostingClassifier\n",
    "from sklearn.ensemble import RandomForestClassifier\n",
    "from sklearn.ensemble import AdaBoostClassifier\n",
    "from scipy.stats import randint as sp_randint"
   ]
  },
  {
   "cell_type": "code",
   "execution_count": 14,
   "metadata": {
    "id": "YwnPEwswvxIU"
   },
   "outputs": [],
   "source": [
    "# Decision tree\n",
    "clfTree = DecisionTreeClassifier(random_state=84)\n",
    "param_distTree = {\"min_samples_split\": sp_randint(3, 30)}\n",
    "# SVM\n",
    "clfSVC = SVC(random_state=84)\n",
    "param_distSVC = {'C': [1, 10, 100, 1000], 'gamma': [0.001, 0.0001],'kernel': ['rbf'], 'class_weight':['balanced', None]}\n",
    "# KNN\n",
    "clfKNN = KNeighborsClassifier()\n",
    "param_distKNN = {'n_neighbors':sp_randint(3, 30)}\n",
    "# Logistic regression\n",
    "clfLR = LogisticRegression(random_state=84)\n",
    "param_distLR = {'C': [0.1,0.5,1, 10, 100, 1000]}\n",
    "# Neural Network\n",
    "clfMLP = MLPClassifier(random_state=84)\n",
    "param_distMLP = {'activation': ['identity', 'logistic', 'tanh', 'relu'], 'solver': ['lbfgs', 'sgd', 'adam'],\n",
    "                 'alpha': sp_randint(0.0001, 1), 'learning_rate': ['constant', 'invscaling', 'adaptive'],\n",
    "                 'hidden_layer_sizes': [(5,2), (3,3,3), (5,3,2), (5,4,3,2)],\n",
    "                 'momentum': [0.9, 0.95, 0.99]}\n",
    "# RandomForest\n",
    "clfRF = RandomForestClassifier(random_state=84)\n",
    "param_distRF =  {'n_estimators': [int(x) for x in np.linspace(start = 200, stop = 2000, num = 10)], 'max_features': ['auto', 'sqrt'],'max_depth': [int(x) for x in np.linspace(10, 110, num = 11)],\n",
    "                 'min_samples_split': [2, 5, 10],'min_samples_leaf': [1, 2, 4],\n",
    "                 'bootstrap': [True, False]}\n",
    "# ExtraTreesClassifier\n",
    "clfET = ExtraTreesClassifier(random_state=84)\n",
    "param_distET =  {'n_estimators': [int(x) for x in np.linspace(start = 200, stop = 2000, num = 10)], 'max_features': ['auto', 'sqrt'],'max_depth': [int(x) for x in np.linspace(10, 110, num = 11)],\n",
    "                 'min_samples_split': [2, 5, 10],'min_samples_leaf': [1, 2, 4],\n",
    "                 'bootstrap': [True, False]}"
   ]
  },
  {
   "cell_type": "code",
   "execution_count": 15,
   "metadata": {
    "id": "GGQcPxBOvxIV"
   },
   "outputs": [],
   "source": [
    "listAlgorithms = [clfTree,clfSVC,clfKNN,clfLR,clfMLP,clfRF,clfET]"
   ]
  },
  {
   "cell_type": "code",
   "execution_count": 16,
   "metadata": {
    "id": "8Nl-1GpjvxIV"
   },
   "outputs": [],
   "source": [
    "listParams = [param_distTree,param_distSVC,param_distKNN,param_distLR,param_distMLP,param_distRF, param_distET]"
   ]
  },
  {
   "cell_type": "code",
   "execution_count": 17,
   "metadata": {
    "id": "IK_8iIWovxIV"
   },
   "outputs": [],
   "source": [
    "listNames = [\"Arbol\", \"SVM\", \"KNN\", \"LR\", \"MLP\",\"RF\",\"ET\"]"
   ]
  },
  {
   "cell_type": "markdown",
   "metadata": {},
   "source": [
    "# Plain comparison"
   ]
  },
  {
   "cell_type": "code",
   "execution_count": 18,
   "metadata": {
    "id": "LSSesjlBvxIV"
   },
   "outputs": [
    {
     "name": "stdout",
     "output_type": "stream",
     "text": [
      "temp.csv\n",
      "['Arbol' 'SVM' 'KNN' 'LR' 'MLP' 'RF' 'ET']\n",
      "==========================================================\n",
      "Report\n",
      "==========================================================\n",
      "**********************************************************\n",
      "Mean and std\n",
      "**********************************************************\n",
      "Arbol: 0.712321 (0.134450)\n",
      "SVM: 0.623333 (0.099299)\n",
      "KNN: 0.611845 (0.118886)\n",
      "LR: 0.611845 (0.119639)\n",
      "MLP: 0.638452 (0.150450)\n",
      "RF: 0.686071 (0.102543)\n",
      "ET: 0.629821 (0.162554)\n",
      "**********************************************************\n",
      "Statistical tests\n",
      "**********************************************************\n",
      "----------------------------------------------------------\n",
      "Checking parametric conditions \n",
      "----------------------------------------------------------\n",
      "Checking independence \n",
      "Ok\n",
      "Checking normality using Shapiro-Wilk's test for normality, alpha=0.05\n",
      "W: 0.964628, p:0.045329\n",
      "The null hypothesis (normality) is rejected\n",
      "Checking heteroscedasticity using Levene's test, alpha=0.05\n",
      "W: 0.715437, p:0.638511\n",
      "The null hypothesis (heteroscedasticity) is accepted\n",
      "Conditions for a parametric test are not fulfilled, applying a non-parametric test\n",
      "----------------------------------------------------------\n",
      "Working with more than 2 algorithms\n",
      "----------------------------------------------------------\n",
      "----------------------------------------------------------\n",
      "Applying Friedman test\n",
      "----------------------------------------------------------\n",
      "F-value: 0.763657, p-value: 0.6016504639580664\n",
      "Null hypothesis is accepted; hence, we can't say that there is a significant difference in the performance of the models\n",
      "----------------------------------------------------------\n",
      "Analysing effect size\n",
      "----------------------------------------------------------\n",
      "We take the model with the best mean (Arbol, mean: 0.712321) and compare it with the other models: \n",
      "Comparing effect size of Arbol and SVM: Cohen's d=0.7142952803577098, Large\n",
      "Comparing effect size of Arbol and KNN: Cohen's d=0.751101804539487, Large\n",
      "Comparing effect size of Arbol and LR: Cohen's d=0.7490161367999142, Large\n",
      "Comparing effect size of Arbol and MLP: Cohen's d=0.49117580340680317, Medium\n",
      "Comparing effect size of Arbol and RF: Cohen's d=0.20827822120922826, Medium\n",
      "Comparing effect size of Arbol and ET: Cohen's d=0.5246953996402214, Large\n",
      "Eta squared: 0.073210 (Large)\n"
     ]
    },
    {
     "data": {
      "image/png": "[encoded data removed]",
      "text/plain": [
       "<Figure size 432x288 with 1 Axes>"
      ]
     },
     "metadata": {
      "needs_background": "light"
     },
     "output_type": "display_data"
    }
   ],
   "source": [
    "compare_methods(X,Y,listAlgorithms,listParams,listNames,metric='auroc')"
   ]
  },
  {
   "cell_type": "code",
   "execution_count": 19,
   "metadata": {},
   "outputs": [
    {
     "name": "stdout",
     "output_type": "stream",
     "text": [
      "temp.csv\n",
      "['Arbol' 'SVM' 'KNN' 'LR' 'MLP' 'RF' 'ET']\n",
      "==========================================================\n",
      "Report\n",
      "==========================================================\n",
      "**********************************************************\n",
      "Mean and std\n",
      "**********************************************************\n",
      "Arbol: 0.706667 (0.239931)\n",
      "SVM: 0.596667 (0.233190)\n",
      "KNN: 0.495000 (0.244728)\n",
      "LR: 0.590238 (0.244788)\n",
      "MLP: 0.632381 (0.299388)\n",
      "RF: 0.676071 (0.272158)\n",
      "ET: 0.609048 (0.279662)\n",
      "**********************************************************\n",
      "Statistical tests\n",
      "**********************************************************\n",
      "----------------------------------------------------------\n",
      "Checking parametric conditions \n",
      "----------------------------------------------------------\n",
      "Checking independence \n",
      "Ok\n",
      "Checking normality using Shapiro-Wilk's test for normality, alpha=0.05\n",
      "W: 0.929827, p:0.000732\n",
      "The null hypothesis (normality) is rejected\n",
      "Checking heteroscedasticity using Levene's test, alpha=0.05\n",
      "W: 0.436202, p:0.851946\n",
      "The null hypothesis (heteroscedasticity) is accepted\n",
      "Conditions for a parametric test are not fulfilled, applying a non-parametric test\n",
      "----------------------------------------------------------\n",
      "Working with more than 2 algorithms\n",
      "----------------------------------------------------------\n",
      "----------------------------------------------------------\n",
      "Applying Friedman test\n",
      "----------------------------------------------------------\n",
      "F-value: 0.805447, p-value: 0.5701410537960394\n",
      "Null hypothesis is accepted; hence, we can't say that there is a significant difference in the performance of the models\n",
      "----------------------------------------------------------\n",
      "Analysing effect size\n",
      "----------------------------------------------------------\n",
      "We take the model with the best mean (Arbol, mean: 0.706667) and compare it with the other models: \n",
      "Comparing effect size of Arbol and SVM: Cohen's d=0.4410904601605718, Medium\n",
      "Comparing effect size of Arbol and KNN: Cohen's d=0.8286035813332129, Large\n",
      "Comparing effect size of Arbol and LR: Cohen's d=0.455721390364334, Medium\n",
      "Comparing effect size of Arbol and MLP: Cohen's d=0.2597695967491367, Medium\n",
      "Comparing effect size of Arbol and RF: Cohen's d=0.1131362787810408, Small\n",
      "Comparing effect size of Arbol and ET: Cohen's d=0.3554325488440397, Medium\n",
      "Eta squared: 0.055473 (Medium)\n"
     ]
    },
    {
     "data": {
      "image/png": "[encoded data removed]",
      "text/plain": [
       "<Figure size 432x288 with 1 Axes>"
      ]
     },
     "metadata": {
      "needs_background": "light"
     },
     "output_type": "display_data"
    }
   ],
   "source": [
    "compare_methods(X,Y,listAlgorithms,listParams,listNames,metric='precision')"
   ]
  },
  {
   "cell_type": "code",
   "execution_count": 20,
   "metadata": {},
   "outputs": [
    {
     "name": "stdout",
     "output_type": "stream",
     "text": [
      "temp.csv\n",
      "['Arbol' 'SVM' 'KNN' 'LR' 'MLP' 'RF' 'ET']\n",
      "==========================================================\n",
      "Report\n",
      "==========================================================\n",
      "**********************************************************\n",
      "Mean and std\n",
      "**********************************************************\n",
      "Arbol: 0.662500 (0.226223)\n",
      "SVM: 0.655357 (0.150454)\n",
      "KNN: 0.600000 (0.282682)\n",
      "LR: 0.643452 (0.134594)\n",
      "MLP: 0.579167 (0.196664)\n",
      "RF: 0.660119 (0.113890)\n",
      "ET: 0.611905 (0.202954)\n",
      "**********************************************************\n",
      "Statistical tests\n",
      "**********************************************************\n",
      "----------------------------------------------------------\n",
      "Checking parametric conditions \n",
      "----------------------------------------------------------\n",
      "Checking independence \n",
      "Ok\n",
      "Checking normality using Shapiro-Wilk's test for normality, alpha=0.05\n",
      "W: 0.956851, p:0.016829\n",
      "The null hypothesis (normality) is rejected\n",
      "Checking heteroscedasticity using Levene's test, alpha=0.05\n",
      "W: 1.335525, p:0.254852\n",
      "The null hypothesis (heteroscedasticity) is rejected\n",
      "Conditions for a parametric test are not fulfilled, applying a non-parametric test\n",
      "----------------------------------------------------------\n",
      "Working with more than 2 algorithms\n",
      "----------------------------------------------------------\n",
      "----------------------------------------------------------\n",
      "Applying Friedman test\n",
      "----------------------------------------------------------\n",
      "F-value: 0.406495, p-value: 0.8715360297005253\n",
      "Null hypothesis is accepted; hence, we can't say that there is a significant difference in the performance of the models\n",
      "----------------------------------------------------------\n",
      "Analysing effect size\n",
      "----------------------------------------------------------\n",
      "We take the model with the best mean (Arbol, mean: 0.662500) and compare it with the other models: \n",
      "Comparing effect size of Arbol and SVM: Cohen's d=0.03527293448068223, Small\n",
      "Comparing effect size of Arbol and KNN: Cohen's d=0.23159980444371975, Medium\n",
      "Comparing effect size of Arbol and LR: Cohen's d=0.09708119487587401, Small\n",
      "Comparing effect size of Arbol and MLP: Cohen's d=0.37298206674925344, Medium\n",
      "Comparing effect size of Arbol and RF: Cohen's d=0.012612378028589749, Small\n",
      "Comparing effect size of Arbol and ET: Cohen's d=0.22335061955982763, Medium\n",
      "Eta squared: 0.024322 (Medium)\n"
     ]
    },
    {
     "data": {
      "image/png": "[encoded data removed]",
      "text/plain": [
       "<Figure size 432x288 with 1 Axes>"
      ]
     },
     "metadata": {
      "needs_background": "light"
     },
     "output_type": "display_data"
    }
   ],
   "source": [
    "compare_methods(X,Y,listAlgorithms,listParams,listNames,metric='recall')"
   ]
  },
  {
   "cell_type": "code",
   "execution_count": 21,
   "metadata": {},
   "outputs": [
    {
     "name": "stdout",
     "output_type": "stream",
     "text": [
      "temp.csv\n",
      "['Arbol' 'SVM' 'KNN' 'LR' 'MLP' 'RF' 'ET']\n",
      "==========================================================\n",
      "Report\n",
      "==========================================================\n",
      "**********************************************************\n",
      "Mean and std\n",
      "**********************************************************\n",
      "Arbol: 0.703636 (0.121574)\n",
      "SVM: 0.638182 (0.090982)\n",
      "KNN: 0.547273 (0.152109)\n",
      "LR: 0.597273 (0.115139)\n",
      "MLP: 0.599091 (0.146950)\n",
      "RF: 0.659091 (0.108426)\n",
      "ET: 0.600909 (0.144511)\n",
      "**********************************************************\n",
      "Statistical tests\n",
      "**********************************************************\n",
      "----------------------------------------------------------\n",
      "Checking parametric conditions \n",
      "----------------------------------------------------------\n",
      "Checking independence \n",
      "Ok\n",
      "Checking normality using Shapiro-Wilk's test for normality, alpha=0.05\n",
      "W: 0.957091, p:0.017343\n",
      "The null hypothesis (normality) is rejected\n",
      "Checking heteroscedasticity using Levene's test, alpha=0.05\n",
      "W: 0.426815, p:0.858398\n",
      "The null hypothesis (heteroscedasticity) is accepted\n",
      "Conditions for a parametric test are not fulfilled, applying a non-parametric test\n",
      "----------------------------------------------------------\n",
      "Working with more than 2 algorithms\n",
      "----------------------------------------------------------\n",
      "----------------------------------------------------------\n",
      "Applying Friedman test\n",
      "----------------------------------------------------------\n",
      "F-value: 1.541728, p-value: 0.1823899582140528\n",
      "Null hypothesis is rejected; hence, models have different performance\n",
      "Technique      Ranking\n",
      "-----------  ---------\n",
      "Arbol             5.25\n",
      "RF                4.75\n",
      "SVM               4.45\n",
      "ET                3.6\n",
      "LR                3.55\n",
      "MLP               3.45\n",
      "KNN               2.95\n",
      "Winner model: Arbol\n",
      "----------------------------------------------------------\n",
      "Applying Holm p-value adjustment procedure and analysing effect size\n",
      "----------------------------------------------------------\n",
      "Comparison      Zvalue    p-value    adjusted p-value\n",
      "------------  --------  ---------  ------------------\n",
      "Arbol vs KNN  2.38073   0.0172786            0.103671\n",
      "Arbol vs MLP  1.86318   0.0624374            0.312187\n",
      "Arbol vs LR   1.75967   0.0784643            0.313857\n",
      "Arbol vs ET   1.70791   0.0876526            0.313857\n",
      "Arbol vs SVM  0.828079  0.407626             0.815252\n",
      "Arbol vs RF   0.517549  0.604773             0.815252\n",
      "There is a significant difference between the models: Arbol (mean: 0.703636, std: 0.121574) and KNN (mean: 0.547273, std: 0.152109) (Cohen's d=1.077340520950527, Large)\n",
      "There is a significant difference between the models: Arbol (mean: 0.703636, std: 0.121574) and MLP (mean: 0.599091, std: 0.146950) (Cohen's d=0.7354338358156478, Large)\n",
      "There is a significant difference between the models: Arbol (mean: 0.703636, std: 0.121574) and LR (mean: 0.597273, std: 0.115139) (Cohen's d=0.8522405339937025, Large)\n",
      "There is a significant difference between the models: Arbol (mean: 0.703636, std: 0.121574) and ET (mean: 0.600909, std: 0.144511) (Cohen's d=0.729808974142484, Large)\n",
      "We can't say that there is a significant difference in the performance of the models: Arbol (mean: 0.703636, std: 0.121574) and SVM (mean: 0.638182, std: 0.090982) (Cohen's d=0.5783179168097997, Large)\n",
      "We can't say that there is a significant difference in the performance of the models: Arbol (mean: 0.703636, std: 0.121574) and RF (mean: 0.659091, std: 0.108426) (Cohen's d=0.3668756960121439, Medium)\n",
      "Eta squared: 0.119688 (Large)\n"
     ]
    },
    {
     "data": {
      "image/png": "[encoded data removed]",
      "text/plain": [
       "<Figure size 432x288 with 1 Axes>"
      ]
     },
     "metadata": {
      "needs_background": "light"
     },
     "output_type": "display_data"
    }
   ],
   "source": [
    "compare_methods(X,Y,listAlgorithms,listParams,listNames,metric='accuracy')"
   ]
  }
 ],
 "metadata": {
  "colab": {
   "name": "CompareMethods.ipynb",
   "provenance": []
  },
  "kernelspec": {
   "display_name": "Python 3",
   "language": "python",
   "name": "python3"
  },
  "language_info": {
   "codemirror_mode": {
    "name": "ipython",
    "version": 3
   },
   "file_extension": ".py",
   "mimetype": "text/x-python",
   "name": "python",
   "nbconvert_exporter": "python",
   "pygments_lexer": "ipython3",
   "version": "3.6.7"
  }
 },
 "nbformat": 4,
 "nbformat_minor": 1
}
