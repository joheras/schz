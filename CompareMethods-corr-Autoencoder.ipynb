{
 "cells": [
  {
   "cell_type": "code",
   "execution_count": 1,
   "metadata": {
    "id": "9VdC2keIvxIJ"
   },
   "outputs": [],
   "source": [
    "import numpy as np\n",
    "from StatisticalAnalysis import compare_methods"
   ]
  },
  {
   "cell_type": "code",
   "execution_count": 2,
   "metadata": {
    "id": "3iCEO6wXtftF"
   },
   "outputs": [],
   "source": [
    "import warnings\n",
    "warnings.filterwarnings('ignore')"
   ]
  },
  {
   "cell_type": "markdown",
   "metadata": {
    "id": "Zb3btBk5vxIM"
   },
   "source": [
    "First we load the data and process it to have the correct form."
   ]
  },
  {
   "cell_type": "code",
   "execution_count": 3,
   "metadata": {},
   "outputs": [],
   "source": [
    "corr = np.load('corrAutoencoder.npy')"
   ]
  },
  {
   "cell_type": "code",
   "execution_count": 4,
   "metadata": {},
   "outputs": [],
   "source": [
    "corr_hc = corr[0:52]\n",
    "corr_schz = corr[52:]"
   ]
  },
  {
   "cell_type": "code",
   "execution_count": 5,
   "metadata": {
    "id": "StF6b56QvxIN"
   },
   "outputs": [
    {
     "data": {
      "text/plain": [
       "(52, 15, 15, 1)"
      ]
     },
     "execution_count": 5,
     "metadata": {},
     "output_type": "execute_result"
    }
   ],
   "source": [
    "corr_hc.shape"
   ]
  },
  {
   "cell_type": "code",
   "execution_count": 6,
   "metadata": {
    "id": "qd1nFcAfvxIO"
   },
   "outputs": [],
   "source": [
    "corr_hc = corr_hc.reshape(52,15*15)"
   ]
  },
  {
   "cell_type": "code",
   "execution_count": 7,
   "metadata": {
    "id": "fc006UE6vxIO"
   },
   "outputs": [],
   "source": [
    "corr_schz = corr_schz.reshape(50,15*15)"
   ]
  },
  {
   "cell_type": "code",
   "execution_count": 8,
   "metadata": {
    "id": "SEhdGg3IvxIP"
   },
   "outputs": [],
   "source": [
    "X = np.append(corr_hc,corr_schz,axis=0)"
   ]
  },
  {
   "cell_type": "code",
   "execution_count": 9,
   "metadata": {
    "colab": {
     "base_uri": "https://localhost:8080/"
    },
    "id": "8d-RFXoavxIQ",
    "outputId": "a61e1d34-79c6-4f1a-df1f-0b3a74b2c53d"
   },
   "outputs": [
    {
     "data": {
      "text/plain": [
       "(102, 225)"
      ]
     },
     "execution_count": 9,
     "metadata": {},
     "output_type": "execute_result"
    }
   ],
   "source": [
    "X.shape"
   ]
  },
  {
   "cell_type": "code",
   "execution_count": 10,
   "metadata": {
    "colab": {
     "base_uri": "https://localhost:8080/"
    },
    "id": "hnaiAVUvJmgn",
    "outputId": "6cb5c264-f346-4b38-e85b-aa3b8bf8ace6"
   },
   "outputs": [
    {
     "data": {
      "text/plain": [
       "(225,)"
      ]
     },
     "execution_count": 10,
     "metadata": {},
     "output_type": "execute_result"
    }
   ],
   "source": [
    "X[0].shape"
   ]
  },
  {
   "cell_type": "code",
   "execution_count": 11,
   "metadata": {
    "id": "5oh4k1gEvxIR"
   },
   "outputs": [],
   "source": [
    "Y = np.append(np.zeros(52),np.ones(50),axis=0)"
   ]
  },
  {
   "cell_type": "code",
   "execution_count": 12,
   "metadata": {
    "colab": {
     "base_uri": "https://localhost:8080/"
    },
    "id": "PZuBWU5LvxIR",
    "outputId": "21a0987a-b533-41fc-bea5-9f94b3246a66",
    "scrolled": true
   },
   "outputs": [
    {
     "data": {
      "text/plain": [
       "(102,)"
      ]
     },
     "execution_count": 12,
     "metadata": {},
     "output_type": "execute_result"
    }
   ],
   "source": [
    "Y.shape"
   ]
  },
  {
   "cell_type": "markdown",
   "metadata": {
    "id": "w2w8w0VjvxIS"
   },
   "source": [
    "Now, we define the algorithms that we are going to use. "
   ]
  },
  {
   "cell_type": "code",
   "execution_count": 13,
   "metadata": {
    "id": "MEPfV3efvxIS"
   },
   "outputs": [],
   "source": [
    "from sklearn.tree import DecisionTreeClassifier\n",
    "from sklearn.neighbors import KNeighborsClassifier\n",
    "from sklearn.linear_model import LogisticRegression\n",
    "from sklearn.svm import SVC\n",
    "from sklearn.neural_network import MLPClassifier\n",
    "from sklearn.ensemble import ExtraTreesClassifier\n",
    "from sklearn.ensemble import GradientBoostingClassifier\n",
    "from sklearn.ensemble import RandomForestClassifier\n",
    "from sklearn.ensemble import AdaBoostClassifier\n",
    "from scipy.stats import randint as sp_randint"
   ]
  },
  {
   "cell_type": "code",
   "execution_count": 14,
   "metadata": {
    "id": "YwnPEwswvxIU"
   },
   "outputs": [],
   "source": [
    "# Decision tree\n",
    "clfTree = DecisionTreeClassifier(random_state=84)\n",
    "param_distTree = {\"min_samples_split\": sp_randint(3, 30)}\n",
    "# SVM\n",
    "clfSVC = SVC(random_state=84)\n",
    "param_distSVC = {'C': [1, 10, 100, 1000], 'gamma': [0.001, 0.0001],'kernel': ['rbf'], 'class_weight':['balanced', None]}\n",
    "# KNN\n",
    "clfKNN = KNeighborsClassifier()\n",
    "param_distKNN = {'n_neighbors':sp_randint(3, 30)}\n",
    "# Logistic regression\n",
    "clfLR = LogisticRegression(random_state=84)\n",
    "param_distLR = {'C': [0.1,0.5,1, 10, 100, 1000]}\n",
    "# Neural Network\n",
    "clfMLP = MLPClassifier(random_state=84)\n",
    "param_distMLP = {'activation': ['identity', 'logistic', 'tanh', 'relu'], 'solver': ['lbfgs', 'sgd', 'adam'],\n",
    "                 'alpha': sp_randint(0.0001, 1), 'learning_rate': ['constant', 'invscaling', 'adaptive'],\n",
    "                 'hidden_layer_sizes': [(5,2), (3,3,3), (5,3,2), (5,4,3,2)],\n",
    "                 'momentum': [0.9, 0.95, 0.99]}\n",
    "# RandomForest\n",
    "clfRF = RandomForestClassifier(random_state=84)\n",
    "param_distRF =  {'n_estimators': [int(x) for x in np.linspace(start = 200, stop = 2000, num = 10)], 'max_features': ['auto', 'sqrt'],'max_depth': [int(x) for x in np.linspace(10, 110, num = 11)],\n",
    "                 'min_samples_split': [2, 5, 10],'min_samples_leaf': [1, 2, 4],\n",
    "                 'bootstrap': [True, False]}\n",
    "# ExtraTreesClassifier\n",
    "clfET = ExtraTreesClassifier(random_state=84)\n",
    "param_distET =  {'n_estimators': [int(x) for x in np.linspace(start = 200, stop = 2000, num = 10)], 'max_features': ['auto', 'sqrt'],'max_depth': [int(x) for x in np.linspace(10, 110, num = 11)],\n",
    "                 'min_samples_split': [2, 5, 10],'min_samples_leaf': [1, 2, 4],\n",
    "                 'bootstrap': [True, False]}"
   ]
  },
  {
   "cell_type": "code",
   "execution_count": 15,
   "metadata": {
    "id": "GGQcPxBOvxIV"
   },
   "outputs": [],
   "source": [
    "listAlgorithms = [clfTree,clfSVC,clfKNN,clfLR,clfMLP,clfRF,clfET]"
   ]
  },
  {
   "cell_type": "code",
   "execution_count": 16,
   "metadata": {
    "id": "8Nl-1GpjvxIV"
   },
   "outputs": [],
   "source": [
    "listParams = [param_distTree,param_distSVC,param_distKNN,param_distLR,param_distMLP,param_distRF, param_distET]"
   ]
  },
  {
   "cell_type": "code",
   "execution_count": 17,
   "metadata": {
    "id": "IK_8iIWovxIV"
   },
   "outputs": [],
   "source": [
    "listNames = [\"Arbol\", \"SVM\", \"KNN\", \"LR\", \"MLP\",\"RF\",\"ET\"]"
   ]
  },
  {
   "cell_type": "markdown",
   "metadata": {},
   "source": [
    "# Plain comparison"
   ]
  },
  {
   "cell_type": "code",
   "execution_count": 18,
   "metadata": {
    "id": "LSSesjlBvxIV",
    "scrolled": false
   },
   "outputs": [
    {
     "name": "stdout",
     "output_type": "stream",
     "text": [
      "temp.csv\n",
      "['Arbol' 'SVM' 'KNN' 'LR' 'MLP' 'RF' 'ET']\n",
      "==========================================================\n",
      "Report\n",
      "==========================================================\n",
      "**********************************************************\n",
      "Mean and std\n",
      "**********************************************************\n",
      "Arbol: 0.516488 (0.121520)\n",
      "SVM: 0.664524 (0.145515)\n",
      "KNN: 0.657083 (0.144782)\n",
      "LR: 0.615238 (0.117968)\n",
      "MLP: 0.516310 (0.167891)\n",
      "RF: 0.616131 (0.105983)\n",
      "ET: 0.602738 (0.108073)\n",
      "**********************************************************\n",
      "Statistical tests\n",
      "**********************************************************\n",
      "----------------------------------------------------------\n",
      "Checking parametric conditions \n",
      "----------------------------------------------------------\n",
      "Checking independence \n",
      "Ok\n",
      "Checking normality using Shapiro-Wilk's test for normality, alpha=0.05\n",
      "W: 0.980411, p:0.342052\n",
      "The null hypothesis (normality) is rejected\n",
      "Checking heteroscedasticity using Levene's test, alpha=0.05\n",
      "W: 0.548578, p:0.769217\n",
      "The null hypothesis (heteroscedasticity) is accepted\n",
      "Conditions for a parametric test are not fulfilled, applying a non-parametric test\n",
      "----------------------------------------------------------\n",
      "Working with more than 2 algorithms\n",
      "----------------------------------------------------------\n",
      "----------------------------------------------------------\n",
      "Applying Friedman test\n",
      "----------------------------------------------------------\n",
      "F-value: 2.842105, p-value: 0.01770656970746798\n",
      "Null hypothesis is rejected; hence, models have different performance\n",
      "Technique      Ranking\n",
      "-----------  ---------\n",
      "SVM               5.25\n",
      "KNN               5\n",
      "LR                4.55\n",
      "RF                4.15\n",
      "ET                3.8\n",
      "Arbol             2.7\n",
      "MLP               2.55\n",
      "Winner model: SVM\n",
      "----------------------------------------------------------\n",
      "Applying Holm p-value adjustment procedure and analysing effect size\n",
      "----------------------------------------------------------\n",
      "Comparison      Zvalue     p-value    adjusted p-value\n",
      "------------  --------  ----------  ------------------\n",
      "SVM vs MLP    2.79477   0.00519374           0.0311624\n",
      "SVM vs Arbol  2.6395    0.00830282           0.0415141\n",
      "SVM vs ET     1.50089   0.133383             0.533533\n",
      "SVM vs RF     1.13861   0.254867             0.7646\n",
      "SVM vs LR     0.724569  0.468717             0.937433\n",
      "SVM vs KNN    0.258775  0.795809             0.937433\n",
      "There is a significant difference between the models: SVM (mean: 0.664524, std: 0.145515) and MLP (mean: 0.516310, std: 0.167891) (Cohen's d=0.8950136878711686, Large)\n",
      "There is a significant difference between the models: SVM (mean: 0.664524, std: 0.145515) and Arbol (mean: 0.516488, std: 0.121520) (Cohen's d=1.0476171541680332, Large)\n",
      "We can't say that there is a significant difference in the performance of the models: SVM (mean: 0.664524, std: 0.145515) and ET (mean: 0.602738, std: 0.108073) (Cohen's d=0.45732720353208584, Medium)\n",
      "We can't say that there is a significant difference in the performance of the models: SVM (mean: 0.664524, std: 0.145515) and RF (mean: 0.616131, std: 0.105983) (Cohen's d=0.36065968222750694, Medium)\n",
      "We can't say that there is a significant difference in the performance of the models: SVM (mean: 0.664524, std: 0.145515) and LR (mean: 0.615238, std: 0.117968) (Cohen's d=0.3529868015549026, Medium)\n",
      "We can't say that there is a significant difference in the performance of the models: SVM (mean: 0.664524, std: 0.145515) and KNN (mean: 0.657083, std: 0.144782) (Cohen's d=0.04863029363326576, Small)\n",
      "Eta squared: 0.152163 (Large)\n"
     ]
    },
    {
     "data": {
      "image/png": "[encoded data removed]",
      "text/plain": [
       "<Figure size 432x288 with 1 Axes>"
      ]
     },
     "metadata": {
      "needs_background": "light"
     },
     "output_type": "display_data"
    }
   ],
   "source": [
    "compare_methods(X,Y,listAlgorithms,listParams,listNames,metric='auroc')"
   ]
  },
  {
   "cell_type": "code",
   "execution_count": 19,
   "metadata": {},
   "outputs": [
    {
     "name": "stdout",
     "output_type": "stream",
     "text": [
      "temp.csv\n",
      "['Arbol' 'SVM' 'KNN' 'LR' 'MLP' 'RF' 'ET']\n",
      "==========================================================\n",
      "Report\n",
      "==========================================================\n",
      "**********************************************************\n",
      "Mean and std\n",
      "**********************************************************\n",
      "Arbol: 0.522222 (0.194365)\n",
      "SVM: 0.636190 (0.208876)\n",
      "KNN: 0.625714 (0.243027)\n",
      "LR: 0.608810 (0.248615)\n",
      "MLP: 0.476786 (0.269327)\n",
      "RF: 0.632143 (0.266080)\n",
      "ET: 0.606667 (0.242922)\n",
      "**********************************************************\n",
      "Statistical tests\n",
      "**********************************************************\n",
      "----------------------------------------------------------\n",
      "Checking parametric conditions \n",
      "----------------------------------------------------------\n",
      "Checking independence \n",
      "Ok\n",
      "Checking normality using Shapiro-Wilk's test for normality, alpha=0.05\n",
      "W: 0.955719, p:0.014612\n",
      "The null hypothesis (normality) is rejected\n",
      "Checking heteroscedasticity using Levene's test, alpha=0.05\n",
      "W: 0.463008, p:0.833057\n",
      "The null hypothesis (heteroscedasticity) is accepted\n",
      "Conditions for a parametric test are not fulfilled, applying a non-parametric test\n",
      "----------------------------------------------------------\n",
      "Working with more than 2 algorithms\n",
      "----------------------------------------------------------\n",
      "----------------------------------------------------------\n",
      "Applying Friedman test\n",
      "----------------------------------------------------------\n",
      "F-value: 2.389831, p-value: 0.04037024419300539\n",
      "Null hypothesis is rejected; hence, models have different performance\n",
      "Technique      Ranking\n",
      "-----------  ---------\n",
      "SVM               5.05\n",
      "KNN               4.75\n",
      "LR                4.55\n",
      "RF                4.35\n",
      "ET                4.05\n",
      "MLP               2.65\n",
      "Arbol             2.6\n",
      "Winner model: SVM\n",
      "----------------------------------------------------------\n",
      "Applying Holm p-value adjustment procedure and analysing effect size\n",
      "----------------------------------------------------------\n",
      "Comparison      Zvalue    p-value    adjusted p-value\n",
      "------------  --------  ---------  ------------------\n",
      "SVM vs Arbol  2.53599    0.011213           0.0672778\n",
      "SVM vs MLP    2.48424    0.012983           0.0672778\n",
      "SVM vs ET     1.0351     0.300623           1\n",
      "SVM vs RF     0.724569   0.468717           1\n",
      "SVM vs LR     0.517549   0.604773           1\n",
      "SVM vs KNN    0.31053    0.756158           1\n",
      "There is a significant difference between the models: SVM (mean: 0.636190, std: 0.208876) and Arbol (mean: 0.522222, std: 0.194365) (Cohen's d=0.5359074547304358, Large)\n",
      "There is a significant difference between the models: SVM (mean: 0.636190, std: 0.208876) and MLP (mean: 0.476786, std: 0.269327) (Cohen's d=0.6274766957201268, Large)\n",
      "We can't say that there is a significant difference in the performance of the models: SVM (mean: 0.636190, std: 0.208876) and ET (mean: 0.606667, std: 0.242922) (Cohen's d=0.1236374495885232, Small)\n",
      "We can't say that there is a significant difference in the performance of the models: SVM (mean: 0.636190, std: 0.208876) and RF (mean: 0.632143, std: 0.266080) (Cohen's d=0.016053535378820257, Small)\n",
      "We can't say that there is a significant difference in the performance of the models: SVM (mean: 0.636190, std: 0.208876) and LR (mean: 0.608810, std: 0.248615) (Cohen's d=0.1131318726319597, Small)\n",
      "We can't say that there is a significant difference in the performance of the models: SVM (mean: 0.636190, std: 0.208876) and KNN (mean: 0.625714, std: 0.243027) (Cohen's d=0.04386045334652631, Small)\n",
      "Eta squared: 0.054144 (Medium)\n"
     ]
    },
    {
     "data": {
      "image/png": "[encoded data removed]",
      "text/plain": [
       "<Figure size 432x288 with 1 Axes>"
      ]
     },
     "metadata": {
      "needs_background": "light"
     },
     "output_type": "display_data"
    }
   ],
   "source": [
    "compare_methods(X,Y,listAlgorithms,listParams,listNames,metric='precision')"
   ]
  },
  {
   "cell_type": "code",
   "execution_count": 20,
   "metadata": {},
   "outputs": [
    {
     "name": "stdout",
     "output_type": "stream",
     "text": [
      "temp.csv\n",
      "['Arbol' 'SVM' 'KNN' 'LR' 'MLP' 'RF' 'ET']\n",
      "==========================================================\n",
      "Report\n",
      "==========================================================\n",
      "**********************************************************\n",
      "Mean and std\n",
      "**********************************************************\n",
      "Arbol: 0.433929 (0.158795)\n",
      "SVM: 0.699405 (0.169434)\n",
      "KNN: 0.622024 (0.210671)\n",
      "LR: 0.581548 (0.147062)\n",
      "MLP: 0.480357 (0.299211)\n",
      "RF: 0.539286 (0.118576)\n",
      "ET: 0.508333 (0.190703)\n",
      "**********************************************************\n",
      "Statistical tests\n",
      "**********************************************************\n",
      "----------------------------------------------------------\n",
      "Checking parametric conditions \n",
      "----------------------------------------------------------\n",
      "Checking independence \n",
      "Ok\n",
      "Checking normality using Shapiro-Wilk's test for normality, alpha=0.05\n",
      "W: 0.972808, p:0.131347\n",
      "The null hypothesis (normality) is rejected\n",
      "Checking heteroscedasticity using Levene's test, alpha=0.05\n",
      "W: 2.791649, p:0.017975\n",
      "The null hypothesis (heteroscedasticity) is rejected\n",
      "Conditions for a parametric test are not fulfilled, applying a non-parametric test\n",
      "----------------------------------------------------------\n",
      "Working with more than 2 algorithms\n",
      "----------------------------------------------------------\n",
      "----------------------------------------------------------\n",
      "Applying Friedman test\n",
      "----------------------------------------------------------\n",
      "F-value: 1.635155, p-value: 0.15533783076539087\n",
      "Null hypothesis is rejected; hence, models have different performance\n",
      "Technique      Ranking\n",
      "-----------  ---------\n",
      "SVM               5.3\n",
      "KNN               4.7\n",
      "LR                4.2\n",
      "RF                3.95\n",
      "MLP               3.7\n",
      "ET                3.45\n",
      "Arbol             2.7\n",
      "Winner model: SVM\n",
      "----------------------------------------------------------\n",
      "Applying Holm p-value adjustment procedure and analysing effect size\n",
      "----------------------------------------------------------\n",
      "Comparison      Zvalue     p-value    adjusted p-value\n",
      "------------  --------  ----------  ------------------\n",
      "SVM vs Arbol  2.69126   0.00711836           0.0427102\n",
      "SVM vs ET     1.91493   0.0555012            0.277506\n",
      "SVM vs MLP    1.65616   0.09769              0.39076\n",
      "SVM vs RF     1.39738   0.162299             0.486896\n",
      "SVM vs LR     1.13861   0.254867             0.509733\n",
      "SVM vs KNN    0.621059  0.534561             0.534561\n",
      "There is a significant difference between the models: SVM (mean: 0.699405, std: 0.169434) and Arbol (mean: 0.433929, std: 0.158795) (Cohen's d=1.533812756994155, Large)\n",
      "There is a significant difference between the models: SVM (mean: 0.699405, std: 0.169434) and ET (mean: 0.508333, std: 0.190703) (Cohen's d=1.0049011754604178, Large)\n",
      "There is a significant difference between the models: SVM (mean: 0.699405, std: 0.169434) and MLP (mean: 0.480357, std: 0.299211) (Cohen's d=0.8546770918088592, Large)\n",
      "There is a significant difference between the models: SVM (mean: 0.699405, std: 0.169434) and RF (mean: 0.539286, std: 0.118576) (Cohen's d=1.0387683446883393, Large)\n",
      "We can't say that there is a significant difference in the performance of the models: SVM (mean: 0.699405, std: 0.169434) and LR (mean: 0.581548, std: 0.147062) (Cohen's d=0.7047845360388683, Large)\n",
      "We can't say that there is a significant difference in the performance of the models: SVM (mean: 0.699405, std: 0.169434) and KNN (mean: 0.622024, std: 0.210671) (Cohen's d=0.3840082165003936, Medium)\n",
      "Eta squared: 0.157669 (Large)\n"
     ]
    },
    {
     "data": {
      "image/png": "[encoded data removed]",
      "text/plain": [
       "<Figure size 432x288 with 1 Axes>"
      ]
     },
     "metadata": {
      "needs_background": "light"
     },
     "output_type": "display_data"
    }
   ],
   "source": [
    "compare_methods(X,Y,listAlgorithms,listParams,listNames,metric='recall')"
   ]
  },
  {
   "cell_type": "code",
   "execution_count": 21,
   "metadata": {},
   "outputs": [
    {
     "name": "stdout",
     "output_type": "stream",
     "text": [
      "temp.csv\n",
      "['Arbol' 'SVM' 'KNN' 'LR' 'MLP' 'RF' 'ET']\n",
      "==========================================================\n",
      "Report\n",
      "==========================================================\n",
      "**********************************************************\n",
      "Mean and std\n",
      "**********************************************************\n",
      "Arbol: 0.502727 (0.149548)\n",
      "SVM: 0.657273 (0.125049)\n",
      "KNN: 0.649091 (0.125849)\n",
      "LR: 0.589091 (0.111696)\n",
      "MLP: 0.551818 (0.162422)\n",
      "RF: 0.607273 (0.099320)\n",
      "ET: 0.589091 (0.127000)\n",
      "**********************************************************\n",
      "Statistical tests\n",
      "**********************************************************\n",
      "----------------------------------------------------------\n",
      "Checking parametric conditions \n",
      "----------------------------------------------------------\n",
      "Checking independence \n",
      "Ok\n",
      "Checking normality using Shapiro-Wilk's test for normality, alpha=0.05\n",
      "W: 0.965937, p:0.053706\n",
      "The null hypothesis (normality) is rejected\n",
      "Checking heteroscedasticity using Levene's test, alpha=0.05\n",
      "W: 0.629267, p:0.706225\n",
      "The null hypothesis (heteroscedasticity) is accepted\n",
      "Conditions for a parametric test are not fulfilled, applying a non-parametric test\n",
      "----------------------------------------------------------\n",
      "Working with more than 2 algorithms\n",
      "----------------------------------------------------------\n",
      "----------------------------------------------------------\n",
      "Applying Friedman test\n",
      "----------------------------------------------------------\n",
      "F-value: 1.637400, p-value: 0.15473581107132706\n",
      "Null hypothesis is rejected; hence, models have different performance\n",
      "Technique      Ranking\n",
      "-----------  ---------\n",
      "SVM               5.2\n",
      "KNN               4.75\n",
      "RF                4.3\n",
      "LR                4.05\n",
      "ET                3.7\n",
      "MLP               3.25\n",
      "Arbol             2.75\n",
      "Winner model: SVM\n",
      "----------------------------------------------------------\n",
      "Applying Holm p-value adjustment procedure and analysing effect size\n",
      "----------------------------------------------------------\n",
      "Comparison      Zvalue    p-value    adjusted p-value\n",
      "------------  --------  ---------  ------------------\n",
      "SVM vs Arbol  2.53599   0.011213            0.0672778\n",
      "SVM vs MLP    2.01844   0.0435453           0.217726\n",
      "SVM vs ET     1.55265   0.120507            0.482029\n",
      "SVM vs LR     1.19036   0.233904            0.701711\n",
      "SVM vs RF     0.931589  0.351549            0.703098\n",
      "SVM vs KNN    0.465794  0.641363            0.703098\n",
      "There is a significant difference between the models: SVM (mean: 0.657273, std: 0.125049) and Arbol (mean: 0.502727, std: 0.149548) (Cohen's d=1.0636316338942688, Large)\n",
      "There is a significant difference between the models: SVM (mean: 0.657273, std: 0.125049) and MLP (mean: 0.551818, std: 0.162422) (Cohen's d=0.690212672229267, Large)\n",
      "There is a significant difference between the models: SVM (mean: 0.657273, std: 0.125049) and ET (mean: 0.589091, std: 0.127000) (Cohen's d=0.5132426918356865, Large)\n",
      "We can't say that there is a significant difference in the performance of the models: SVM (mean: 0.657273, std: 0.125049) and LR (mean: 0.589091, std: 0.111696) (Cohen's d=0.5455687811812178, Large)\n",
      "We can't say that there is a significant difference in the performance of the models: SVM (mean: 0.657273, std: 0.125049) and RF (mean: 0.607273, std: 0.099320) (Cohen's d=0.42007041109062293, Medium)\n",
      "We can't say that there is a significant difference in the performance of the models: SVM (mean: 0.657273, std: 0.125049) and KNN (mean: 0.649091, std: 0.125849) (Cohen's d=0.06187308663660657, Small)\n",
      "Eta squared: 0.127558 (Large)\n"
     ]
    },
    {
     "data": {
      "image/png": "[encoded data removed]",
      "text/plain": [
       "<Figure size 432x288 with 1 Axes>"
      ]
     },
     "metadata": {
      "needs_background": "light"
     },
     "output_type": "display_data"
    }
   ],
   "source": [
    "compare_methods(X,Y,listAlgorithms,listParams,listNames,metric='accuracy')"
   ]
  }
 ],
 "metadata": {
  "colab": {
   "name": "CompareMethods.ipynb",
   "provenance": []
  },
  "kernelspec": {
   "display_name": "Python 3",
   "language": "python",
   "name": "python3"
  },
  "language_info": {
   "codemirror_mode": {
    "name": "ipython",
    "version": 3
   },
   "file_extension": ".py",
   "mimetype": "text/x-python",
   "name": "python",
   "nbconvert_exporter": "python",
   "pygments_lexer": "ipython3",
   "version": "3.6.7"
  }
 },
 "nbformat": 4,
 "nbformat_minor": 1
}
