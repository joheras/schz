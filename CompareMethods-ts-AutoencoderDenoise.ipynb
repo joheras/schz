{
 "cells": [
  {
   "cell_type": "code",
   "execution_count": 1,
   "metadata": {
    "id": "9VdC2keIvxIJ"
   },
   "outputs": [],
   "source": [
    "import numpy as np\n",
    "from StatisticalAnalysis import compare_methods"
   ]
  },
  {
   "cell_type": "code",
   "execution_count": 2,
   "metadata": {
    "id": "3iCEO6wXtftF"
   },
   "outputs": [],
   "source": [
    "import warnings\n",
    "warnings.filterwarnings('ignore')"
   ]
  },
  {
   "cell_type": "markdown",
   "metadata": {
    "id": "Zb3btBk5vxIM"
   },
   "source": [
    "First we load the data and process it to have the correct form."
   ]
  },
  {
   "cell_type": "code",
   "execution_count": 3,
   "metadata": {},
   "outputs": [],
   "source": [
    "ts = np.load('tsAutoencoderDenoise.npy')"
   ]
  },
  {
   "cell_type": "code",
   "execution_count": 4,
   "metadata": {},
   "outputs": [],
   "source": [
    "ts_hc = ts[0:52]\n",
    "ts_schz = ts[52:]"
   ]
  },
  {
   "cell_type": "code",
   "execution_count": 5,
   "metadata": {
    "id": "StF6b56QvxIN"
   },
   "outputs": [
    {
     "data": {
      "text/plain": [
       "(52, 16)"
      ]
     },
     "execution_count": 5,
     "metadata": {},
     "output_type": "execute_result"
    }
   ],
   "source": [
    "ts_hc.shape"
   ]
  },
  {
   "cell_type": "code",
   "execution_count": 6,
   "metadata": {
    "id": "qd1nFcAfvxIO"
   },
   "outputs": [],
   "source": [
    "ts_hc = ts_hc.reshape(52,16)"
   ]
  },
  {
   "cell_type": "code",
   "execution_count": 7,
   "metadata": {
    "id": "fc006UE6vxIO"
   },
   "outputs": [],
   "source": [
    "ts_schz = ts_schz.reshape(50,16)"
   ]
  },
  {
   "cell_type": "code",
   "execution_count": 8,
   "metadata": {
    "id": "SEhdGg3IvxIP"
   },
   "outputs": [],
   "source": [
    "X = np.append(ts_hc,ts_schz,axis=0)"
   ]
  },
  {
   "cell_type": "code",
   "execution_count": 9,
   "metadata": {
    "colab": {
     "base_uri": "https://localhost:8080/"
    },
    "id": "8d-RFXoavxIQ",
    "outputId": "a61e1d34-79c6-4f1a-df1f-0b3a74b2c53d"
   },
   "outputs": [
    {
     "data": {
      "text/plain": [
       "(102, 16)"
      ]
     },
     "execution_count": 9,
     "metadata": {},
     "output_type": "execute_result"
    }
   ],
   "source": [
    "X.shape"
   ]
  },
  {
   "cell_type": "code",
   "execution_count": 10,
   "metadata": {
    "colab": {
     "base_uri": "https://localhost:8080/"
    },
    "id": "hnaiAVUvJmgn",
    "outputId": "6cb5c264-f346-4b38-e85b-aa3b8bf8ace6"
   },
   "outputs": [
    {
     "data": {
      "text/plain": [
       "(16,)"
      ]
     },
     "execution_count": 10,
     "metadata": {},
     "output_type": "execute_result"
    }
   ],
   "source": [
    "X[0].shape"
   ]
  },
  {
   "cell_type": "code",
   "execution_count": 11,
   "metadata": {
    "id": "5oh4k1gEvxIR"
   },
   "outputs": [],
   "source": [
    "Y = np.append(np.zeros(52),np.ones(50),axis=0)"
   ]
  },
  {
   "cell_type": "code",
   "execution_count": 12,
   "metadata": {
    "colab": {
     "base_uri": "https://localhost:8080/"
    },
    "id": "PZuBWU5LvxIR",
    "outputId": "21a0987a-b533-41fc-bea5-9f94b3246a66",
    "scrolled": true
   },
   "outputs": [
    {
     "data": {
      "text/plain": [
       "(102,)"
      ]
     },
     "execution_count": 12,
     "metadata": {},
     "output_type": "execute_result"
    }
   ],
   "source": [
    "Y.shape"
   ]
  },
  {
   "cell_type": "markdown",
   "metadata": {
    "id": "w2w8w0VjvxIS"
   },
   "source": [
    "Now, we define the algorithms that we are going to use. "
   ]
  },
  {
   "cell_type": "code",
   "execution_count": 13,
   "metadata": {
    "id": "MEPfV3efvxIS"
   },
   "outputs": [],
   "source": [
    "from sklearn.tree import DecisionTreeClassifier\n",
    "from sklearn.neighbors import KNeighborsClassifier\n",
    "from sklearn.linear_model import LogisticRegression\n",
    "from sklearn.svm import SVC\n",
    "from sklearn.neural_network import MLPClassifier\n",
    "from sklearn.ensemble import ExtraTreesClassifier\n",
    "from sklearn.ensemble import GradientBoostingClassifier\n",
    "from sklearn.ensemble import RandomForestClassifier\n",
    "from sklearn.ensemble import AdaBoostClassifier\n",
    "from scipy.stats import randint as sp_randint"
   ]
  },
  {
   "cell_type": "code",
   "execution_count": 14,
   "metadata": {
    "id": "YwnPEwswvxIU"
   },
   "outputs": [],
   "source": [
    "# Decision tree\n",
    "clfTree = DecisionTreeClassifier(random_state=84)\n",
    "param_distTree = {\"min_samples_split\": sp_randint(3, 30)}\n",
    "# SVM\n",
    "clfSVC = SVC(random_state=84)\n",
    "param_distSVC = {'C': [1, 10, 100, 1000], 'gamma': [0.001, 0.0001],'kernel': ['rbf'], 'class_weight':['balanced', None]}\n",
    "# KNN\n",
    "clfKNN = KNeighborsClassifier()\n",
    "param_distKNN = {'n_neighbors':sp_randint(3, 30)}\n",
    "# Logistic regression\n",
    "clfLR = LogisticRegression(random_state=84)\n",
    "param_distLR = {'C': [0.1,0.5,1, 10, 100, 1000]}\n",
    "# Neural Network\n",
    "clfMLP = MLPClassifier(random_state=84)\n",
    "param_distMLP = {'activation': ['identity', 'logistic', 'tanh', 'relu'], 'solver': ['lbfgs', 'sgd', 'adam'],\n",
    "                 'alpha': sp_randint(0.0001, 1), 'learning_rate': ['constant', 'invscaling', 'adaptive'],\n",
    "                 'hidden_layer_sizes': [(5,2), (3,3,3), (5,3,2), (5,4,3,2)],\n",
    "                 'momentum': [0.9, 0.95, 0.99]}\n",
    "# RandomForest\n",
    "clfRF = RandomForestClassifier(random_state=84)\n",
    "param_distRF =  {'n_estimators': [int(x) for x in np.linspace(start = 200, stop = 2000, num = 10)], 'max_features': ['auto', 'sqrt'],'max_depth': [int(x) for x in np.linspace(10, 110, num = 11)],\n",
    "                 'min_samples_split': [2, 5, 10],'min_samples_leaf': [1, 2, 4],\n",
    "                 'bootstrap': [True, False]}\n",
    "# ExtraTreesClassifier\n",
    "clfET = ExtraTreesClassifier(random_state=84)\n",
    "param_distET =  {'n_estimators': [int(x) for x in np.linspace(start = 200, stop = 2000, num = 10)], 'max_features': ['auto', 'sqrt'],'max_depth': [int(x) for x in np.linspace(10, 110, num = 11)],\n",
    "                 'min_samples_split': [2, 5, 10],'min_samples_leaf': [1, 2, 4],\n",
    "                 'bootstrap': [True, False]}"
   ]
  },
  {
   "cell_type": "code",
   "execution_count": 15,
   "metadata": {
    "id": "GGQcPxBOvxIV"
   },
   "outputs": [],
   "source": [
    "listAlgorithms = [clfTree,clfSVC,clfKNN,clfLR,clfMLP,clfRF,clfET]"
   ]
  },
  {
   "cell_type": "code",
   "execution_count": 16,
   "metadata": {
    "id": "8Nl-1GpjvxIV"
   },
   "outputs": [],
   "source": [
    "listParams = [param_distTree,param_distSVC,param_distKNN,param_distLR,param_distMLP,param_distRF, param_distET]"
   ]
  },
  {
   "cell_type": "code",
   "execution_count": 17,
   "metadata": {
    "id": "IK_8iIWovxIV"
   },
   "outputs": [],
   "source": [
    "listNames = [\"Arbol\", \"SVM\", \"KNN\", \"LR\", \"MLP\",\"RF\",\"ET\"]"
   ]
  },
  {
   "cell_type": "markdown",
   "metadata": {},
   "source": [
    "# Plain comparison"
   ]
  },
  {
   "cell_type": "code",
   "execution_count": 18,
   "metadata": {
    "id": "LSSesjlBvxIV"
   },
   "outputs": [
    {
     "name": "stdout",
     "output_type": "stream",
     "text": [
      "temp.csv\n",
      "['Arbol' 'SVM' 'KNN' 'LR' 'MLP' 'RF' 'ET']\n",
      "==========================================================\n",
      "Report\n",
      "==========================================================\n",
      "**********************************************************\n",
      "Mean and std\n",
      "**********************************************************\n",
      "Arbol: 0.486369 (0.143092)\n",
      "SVM: 0.589345 (0.114281)\n",
      "KNN: 0.559405 (0.152367)\n",
      "LR: 0.590238 (0.120965)\n",
      "MLP: 0.553036 (0.188245)\n",
      "RF: 0.575952 (0.118790)\n",
      "ET: 0.631905 (0.103376)\n",
      "**********************************************************\n",
      "Statistical tests\n",
      "**********************************************************\n",
      "----------------------------------------------------------\n",
      "Checking parametric conditions \n",
      "----------------------------------------------------------\n",
      "Checking independence \n",
      "Ok\n",
      "Checking normality using Shapiro-Wilk's test for normality, alpha=0.05\n",
      "W: 0.967237, p:0.063588\n",
      "The null hypothesis (normality) is rejected\n",
      "Checking heteroscedasticity using Levene's test, alpha=0.05\n",
      "W: 0.398646, p:0.877189\n",
      "The null hypothesis (heteroscedasticity) is accepted\n",
      "Conditions for a parametric test are not fulfilled, applying a non-parametric test\n",
      "----------------------------------------------------------\n",
      "Working with more than 2 algorithms\n",
      "----------------------------------------------------------\n",
      "----------------------------------------------------------\n",
      "Applying Friedman test\n",
      "----------------------------------------------------------\n",
      "F-value: 0.942790, p-value: 0.4724550155669588\n",
      "Null hypothesis is rejected; hence, models have different performance\n",
      "Technique      Ranking\n",
      "-----------  ---------\n",
      "ET                4.6\n",
      "SVM               4.6\n",
      "LR                4.55\n",
      "KNN               4.15\n",
      "MLP               3.8\n",
      "RF                3.4\n",
      "Arbol             2.9\n",
      "Winner model: ET\n",
      "----------------------------------------------------------\n",
      "Applying Holm p-value adjustment procedure and analysing effect size\n",
      "----------------------------------------------------------\n",
      "Comparison       Zvalue    p-value    adjusted p-value\n",
      "------------  ---------  ---------  ------------------\n",
      "ET vs Arbol   1.75967    0.0784643            0.470786\n",
      "ET vs RF      1.24212    0.214193             1\n",
      "ET vs MLP     0.828079   0.407626             1\n",
      "ET vs KNN     0.465794   0.641363             1\n",
      "ET vs LR      0.0517549  0.958724             1\n",
      "ET vs SVM     0          1                    1\n",
      "There is a significant difference between the models: ET (mean: 0.631905, std: 0.103376) and Arbol (mean: 0.486369, std: 0.143092) (Cohen's d=1.1060962573180972, Large)\n",
      "We can't say that there is a significant difference in the performance of the models: ET (mean: 0.631905, std: 0.103376) and RF (mean: 0.575952, std: 0.118790) (Cohen's d=0.4767048651571765, Medium)\n",
      "We can't say that there is a significant difference in the performance of the models: ET (mean: 0.631905, std: 0.103376) and MLP (mean: 0.553036, std: 0.188245) (Cohen's d=0.4927021426993278, Medium)\n",
      "We can't say that there is a significant difference in the performance of the models: ET (mean: 0.631905, std: 0.103376) and KNN (mean: 0.559405, std: 0.152367) (Cohen's d=0.5282730226525333, Large)\n",
      "We can't say that there is a significant difference in the performance of the models: ET (mean: 0.631905, std: 0.103376) and LR (mean: 0.590238, std: 0.120965) (Cohen's d=0.3513172744794909, Medium)\n",
      "We can't say that there is a significant difference in the performance of the models: ET (mean: 0.631905, std: 0.103376) and SVM (mean: 0.589345, std: 0.114281) (Cohen's d=0.37053560122440576, Medium)\n",
      "Eta squared: 0.083833 (Large)\n"
     ]
    },
    {
     "data": {
      "image/png": "[encoded data removed]",
      "text/plain": [
       "<Figure size 432x288 with 1 Axes>"
      ]
     },
     "metadata": {
      "needs_background": "light"
     },
     "output_type": "display_data"
    }
   ],
   "source": [
    "compare_methods(X,Y,listAlgorithms,listParams,listNames,metric='auroc')"
   ]
  },
  {
   "cell_type": "code",
   "execution_count": 19,
   "metadata": {},
   "outputs": [
    {
     "name": "stdout",
     "output_type": "stream",
     "text": [
      "temp.csv\n",
      "['Arbol' 'SVM' 'KNN' 'LR' 'MLP' 'RF' 'ET']\n",
      "==========================================================\n",
      "Report\n",
      "==========================================================\n",
      "**********************************************************\n",
      "Mean and std\n",
      "**********************************************************\n",
      "Arbol: 0.482817 (0.226266)\n",
      "SVM: 0.591667 (0.206238)\n",
      "KNN: 0.532857 (0.191159)\n",
      "LR: 0.572024 (0.236166)\n",
      "MLP: 0.540357 (0.243640)\n",
      "RF: 0.570714 (0.259561)\n",
      "ET: 0.605476 (0.253618)\n",
      "**********************************************************\n",
      "Statistical tests\n",
      "**********************************************************\n",
      "----------------------------------------------------------\n",
      "Checking parametric conditions \n",
      "----------------------------------------------------------\n",
      "Checking independence \n",
      "Ok\n",
      "Checking normality using Shapiro-Wilk's test for normality, alpha=0.05\n",
      "W: 0.920194, p:0.000269\n",
      "The null hypothesis (normality) is rejected\n",
      "Checking heteroscedasticity using Levene's test, alpha=0.05\n",
      "W: 0.294270, p:0.937479\n",
      "The null hypothesis (heteroscedasticity) is accepted\n",
      "Conditions for a parametric test are not fulfilled, applying a non-parametric test\n",
      "----------------------------------------------------------\n",
      "Working with more than 2 algorithms\n",
      "----------------------------------------------------------\n",
      "----------------------------------------------------------\n",
      "Applying Friedman test\n",
      "----------------------------------------------------------\n",
      "F-value: 0.958506, p-value: 0.4619525021520643\n",
      "Null hypothesis is rejected; hence, models have different performance\n",
      "Technique      Ranking\n",
      "-----------  ---------\n",
      "SVM               4.8\n",
      "LR                4.5\n",
      "ET                4.4\n",
      "KNN               4\n",
      "MLP               3.95\n",
      "RF                3.55\n",
      "Arbol             2.8\n",
      "Winner model: SVM\n",
      "----------------------------------------------------------\n",
      "Applying Holm p-value adjustment procedure and analysing effect size\n",
      "----------------------------------------------------------\n",
      "Comparison      Zvalue    p-value    adjusted p-value\n",
      "------------  --------  ---------  ------------------\n",
      "SVM vs Arbol  2.0702    0.0384339            0.230604\n",
      "SVM vs RF     1.29387   0.195709             0.978547\n",
      "SVM vs MLP    0.879834  0.378949             1\n",
      "SVM vs KNN    0.828079  0.407626             1\n",
      "SVM vs ET     0.414039  0.678845             1\n",
      "SVM vs LR     0.31053   0.756158             1\n",
      "There is a significant difference between the models: SVM (mean: 0.591667, std: 0.206238) and Arbol (mean: 0.482817, std: 0.226266) (Cohen's d=0.47700227810425627, Medium)\n",
      "We can't say that there is a significant difference in the performance of the models: SVM (mean: 0.591667, std: 0.206238) and RF (mean: 0.570714, std: 0.259561) (Cohen's d=0.08479270055809421, Small)\n",
      "We can't say that there is a significant difference in the performance of the models: SVM (mean: 0.591667, std: 0.206238) and MLP (mean: 0.540357, std: 0.243640) (Cohen's d=0.21565417296351477, Medium)\n",
      "We can't say that there is a significant difference in the performance of the models: SVM (mean: 0.591667, std: 0.206238) and KNN (mean: 0.532857, std: 0.191159) (Cohen's d=0.2805831024693021, Medium)\n",
      "We can't say that there is a significant difference in the performance of the models: SVM (mean: 0.591667, std: 0.206238) and ET (mean: 0.605476, std: 0.253618) (Cohen's d=0.05667803559239361, Small)\n",
      "We can't say that there is a significant difference in the performance of the models: SVM (mean: 0.591667, std: 0.206238) and LR (mean: 0.572024, std: 0.236166) (Cohen's d=0.08405149882489427, Small)\n",
      "Eta squared: 0.026655 (Medium)\n"
     ]
    },
    {
     "data": {
      "image/png": "[encoded data removed]",
      "text/plain": [
       "<Figure size 432x288 with 1 Axes>"
      ]
     },
     "metadata": {
      "needs_background": "light"
     },
     "output_type": "display_data"
    }
   ],
   "source": [
    "compare_methods(X,Y,listAlgorithms,listParams,listNames,metric='precision')"
   ]
  },
  {
   "cell_type": "code",
   "execution_count": 20,
   "metadata": {},
   "outputs": [
    {
     "name": "stdout",
     "output_type": "stream",
     "text": [
      "temp.csv\n",
      "['Arbol' 'SVM' 'KNN' 'LR' 'MLP' 'RF' 'ET']\n",
      "==========================================================\n",
      "Report\n",
      "==========================================================\n",
      "**********************************************************\n",
      "Mean and std\n",
      "**********************************************************\n",
      "Arbol: 0.594048 (0.226281)\n",
      "SVM: 0.592262 (0.201279)\n",
      "KNN: 0.700000 (0.178476)\n",
      "LR: 0.616667 (0.166394)\n",
      "MLP: 0.579762 (0.240349)\n",
      "RF: 0.583929 (0.258808)\n",
      "ET: 0.670833 (0.201891)\n",
      "**********************************************************\n",
      "Statistical tests\n",
      "**********************************************************\n",
      "----------------------------------------------------------\n",
      "Checking parametric conditions \n",
      "----------------------------------------------------------\n",
      "Checking independence \n",
      "Ok\n",
      "Checking normality using Shapiro-Wilk's test for normality, alpha=0.05\n",
      "W: 0.949551, p:0.006869\n",
      "The null hypothesis (normality) is rejected\n",
      "Checking heteroscedasticity using Levene's test, alpha=0.05\n",
      "W: 0.743764, p:0.616512\n",
      "The null hypothesis (heteroscedasticity) is accepted\n",
      "Conditions for a parametric test are not fulfilled, applying a non-parametric test\n",
      "----------------------------------------------------------\n",
      "Working with more than 2 algorithms\n",
      "----------------------------------------------------------\n",
      "----------------------------------------------------------\n",
      "Applying Friedman test\n",
      "----------------------------------------------------------\n",
      "F-value: 0.638554, p-value: 0.6988329541930014\n",
      "Null hypothesis is accepted; hence, we can't say that there is a significant difference in the performance of the models\n",
      "----------------------------------------------------------\n",
      "Analysing effect size\n",
      "----------------------------------------------------------\n",
      "We take the model with the best mean (KNN, mean: 0.700000) and compare it with the other models: \n",
      "Comparing effect size of KNN and Arbol: Cohen's d=0.4932407211590203, Medium\n",
      "Comparing effect size of KNN and SVM: Cohen's d=0.5373222912069444, Large\n",
      "Comparing effect size of KNN and LR: Cohen's d=0.45819211815346655, Medium\n",
      "Comparing effect size of KNN and MLP: Cohen's d=0.538855099322047, Large\n",
      "Comparing effect size of KNN and RF: Cohen's d=0.4953422194313375, Medium\n",
      "Comparing effect size of KNN and ET: Cohen's d=0.14521573217345451, Small\n",
      "Eta squared: 0.040462 (Medium)\n"
     ]
    },
    {
     "data": {
      "image/png": "[encoded data removed]",
      "text/plain": [
       "<Figure size 432x288 with 1 Axes>"
      ]
     },
     "metadata": {
      "needs_background": "light"
     },
     "output_type": "display_data"
    }
   ],
   "source": [
    "compare_methods(X,Y,listAlgorithms,listParams,listNames,metric='recall')"
   ]
  },
  {
   "cell_type": "code",
   "execution_count": 21,
   "metadata": {},
   "outputs": [
    {
     "name": "stdout",
     "output_type": "stream",
     "text": [
      "temp.csv\n",
      "['Arbol' 'SVM' 'KNN' 'LR' 'MLP' 'RF' 'ET']\n",
      "==========================================================\n",
      "Report\n",
      "==========================================================\n",
      "**********************************************************\n",
      "Mean and std\n",
      "**********************************************************\n",
      "Arbol: 0.448182 (0.119921)\n",
      "SVM: 0.579091 (0.095697)\n",
      "KNN: 0.520909 (0.094742)\n",
      "LR: 0.587273 (0.110011)\n",
      "MLP: 0.547273 (0.159638)\n",
      "RF: 0.520000 (0.089517)\n",
      "ET: 0.599091 (0.059952)\n",
      "**********************************************************\n",
      "Statistical tests\n",
      "**********************************************************\n",
      "----------------------------------------------------------\n",
      "Checking parametric conditions \n",
      "----------------------------------------------------------\n",
      "Checking independence \n",
      "Ok\n",
      "Checking normality using Shapiro-Wilk's test for normality, alpha=0.05\n",
      "W: 0.955657, p:0.014499\n",
      "The null hypothesis (normality) is rejected\n",
      "Checking heteroscedasticity using Levene's test, alpha=0.05\n",
      "W: 1.692263, p:0.137595\n",
      "The null hypothesis (heteroscedasticity) is rejected\n",
      "Conditions for a parametric test are not fulfilled, applying a non-parametric test\n",
      "----------------------------------------------------------\n",
      "Working with more than 2 algorithms\n",
      "----------------------------------------------------------\n",
      "----------------------------------------------------------\n",
      "Applying Friedman test\n",
      "----------------------------------------------------------\n",
      "F-value: 1.769231, p-value: 0.12295283449887329\n",
      "Null hypothesis is rejected; hence, models have different performance\n",
      "Technique      Ranking\n",
      "-----------  ---------\n",
      "LR                4.9\n",
      "ET                4.8\n",
      "SVM               4.75\n",
      "MLP               4.05\n",
      "KNN               3.55\n",
      "RF                3.35\n",
      "Arbol             2.6\n",
      "Winner model: LR\n",
      "----------------------------------------------------------\n",
      "Applying Holm p-value adjustment procedure and analysing effect size\n",
      "----------------------------------------------------------\n",
      "Comparison      Zvalue    p-value    adjusted p-value\n",
      "------------  --------  ---------  ------------------\n",
      "LR vs Arbol   2.38073   0.0172786            0.103671\n",
      "LR vs RF      1.6044    0.108625             0.543127\n",
      "LR vs KNN     1.39738   0.162299             0.649194\n",
      "LR vs MLP     0.879834  0.378949             1\n",
      "LR vs SVM     0.155265  0.876613             1\n",
      "LR vs ET      0.10351   0.917558             1\n",
      "There is a significant difference between the models: LR (mean: 0.587273, std: 0.110011) and Arbol (mean: 0.448182, std: 0.119921) (Cohen's d=1.1466940140262851, Large)\n",
      "We can't say that there is a significant difference in the performance of the models: LR (mean: 0.587273, std: 0.110011) and RF (mean: 0.520000, std: 0.089517) (Cohen's d=0.6363670511812249, Large)\n",
      "We can't say that there is a significant difference in the performance of the models: LR (mean: 0.587273, std: 0.110011) and KNN (mean: 0.520909, std: 0.094742) (Cohen's d=0.6132625559712277, Large)\n",
      "We can't say that there is a significant difference in the performance of the models: LR (mean: 0.587273, std: 0.110011) and MLP (mean: 0.547273, std: 0.159638) (Cohen's d=0.2768080405134145, Medium)\n",
      "We can't say that there is a significant difference in the performance of the models: LR (mean: 0.587273, std: 0.110011) and SVM (mean: 0.579091, std: 0.095697) (Cohen's d=0.07528371991317152, Small)\n",
      "We can't say that there is a significant difference in the performance of the models: LR (mean: 0.587273, std: 0.110011) and ET (mean: 0.599091, std: 0.059952) (Cohen's d=0.12655602358134735, Small)\n",
      "Eta squared: 0.167453 (Large)\n"
     ]
    },
    {
     "data": {
      "image/png": "[encoded data removed]",
      "text/plain": [
       "<Figure size 432x288 with 1 Axes>"
      ]
     },
     "metadata": {
      "needs_background": "light"
     },
     "output_type": "display_data"
    }
   ],
   "source": [
    "compare_methods(X,Y,listAlgorithms,listParams,listNames,metric='accuracy')"
   ]
  }
 ],
 "metadata": {
  "colab": {
   "name": "CompareMethods.ipynb",
   "provenance": []
  },
  "kernelspec": {
   "display_name": "Python 3",
   "language": "python",
   "name": "python3"
  },
  "language_info": {
   "codemirror_mode": {
    "name": "ipython",
    "version": 3
   },
   "file_extension": ".py",
   "mimetype": "text/x-python",
   "name": "python",
   "nbconvert_exporter": "python",
   "pygments_lexer": "ipython3",
   "version": "3.6.7"
  }
 },
 "nbformat": 4,
 "nbformat_minor": 1
}
