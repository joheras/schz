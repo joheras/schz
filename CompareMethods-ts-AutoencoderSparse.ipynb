{
 "cells": [
  {
   "cell_type": "code",
   "execution_count": 1,
   "metadata": {
    "id": "9VdC2keIvxIJ"
   },
   "outputs": [],
   "source": [
    "import numpy as np\n",
    "from StatisticalAnalysis import compare_methods"
   ]
  },
  {
   "cell_type": "code",
   "execution_count": 2,
   "metadata": {
    "id": "3iCEO6wXtftF"
   },
   "outputs": [],
   "source": [
    "import warnings\n",
    "warnings.filterwarnings('ignore')"
   ]
  },
  {
   "cell_type": "markdown",
   "metadata": {
    "id": "Zb3btBk5vxIM"
   },
   "source": [
    "First we load the data and process it to have the correct form."
   ]
  },
  {
   "cell_type": "code",
   "execution_count": 3,
   "metadata": {},
   "outputs": [],
   "source": [
    "ts = np.load('tsAutoencoderSparse.npy')"
   ]
  },
  {
   "cell_type": "code",
   "execution_count": 4,
   "metadata": {},
   "outputs": [],
   "source": [
    "ts_hc = ts[0:52]\n",
    "ts_schz = ts[52:]"
   ]
  },
  {
   "cell_type": "code",
   "execution_count": 5,
   "metadata": {
    "id": "StF6b56QvxIN"
   },
   "outputs": [
    {
     "data": {
      "text/plain": [
       "(52, 32)"
      ]
     },
     "execution_count": 5,
     "metadata": {},
     "output_type": "execute_result"
    }
   ],
   "source": [
    "ts_hc.shape"
   ]
  },
  {
   "cell_type": "code",
   "execution_count": 6,
   "metadata": {
    "id": "qd1nFcAfvxIO"
   },
   "outputs": [],
   "source": [
    "ts_hc = ts_hc.reshape(52,32)"
   ]
  },
  {
   "cell_type": "code",
   "execution_count": 7,
   "metadata": {
    "id": "fc006UE6vxIO"
   },
   "outputs": [],
   "source": [
    "ts_schz = ts_schz.reshape(50,32)"
   ]
  },
  {
   "cell_type": "code",
   "execution_count": 8,
   "metadata": {
    "id": "SEhdGg3IvxIP"
   },
   "outputs": [],
   "source": [
    "X = np.append(ts_hc,ts_schz,axis=0)"
   ]
  },
  {
   "cell_type": "code",
   "execution_count": 9,
   "metadata": {
    "colab": {
     "base_uri": "https://localhost:8080/"
    },
    "id": "8d-RFXoavxIQ",
    "outputId": "a61e1d34-79c6-4f1a-df1f-0b3a74b2c53d"
   },
   "outputs": [
    {
     "data": {
      "text/plain": [
       "(102, 32)"
      ]
     },
     "execution_count": 9,
     "metadata": {},
     "output_type": "execute_result"
    }
   ],
   "source": [
    "X.shape"
   ]
  },
  {
   "cell_type": "code",
   "execution_count": 10,
   "metadata": {
    "colab": {
     "base_uri": "https://localhost:8080/"
    },
    "id": "hnaiAVUvJmgn",
    "outputId": "6cb5c264-f346-4b38-e85b-aa3b8bf8ace6"
   },
   "outputs": [
    {
     "data": {
      "text/plain": [
       "(32,)"
      ]
     },
     "execution_count": 10,
     "metadata": {},
     "output_type": "execute_result"
    }
   ],
   "source": [
    "X[0].shape"
   ]
  },
  {
   "cell_type": "code",
   "execution_count": 11,
   "metadata": {
    "id": "5oh4k1gEvxIR"
   },
   "outputs": [],
   "source": [
    "Y = np.append(np.zeros(52),np.ones(50),axis=0)"
   ]
  },
  {
   "cell_type": "code",
   "execution_count": 12,
   "metadata": {
    "colab": {
     "base_uri": "https://localhost:8080/"
    },
    "id": "PZuBWU5LvxIR",
    "outputId": "21a0987a-b533-41fc-bea5-9f94b3246a66",
    "scrolled": true
   },
   "outputs": [
    {
     "data": {
      "text/plain": [
       "(102,)"
      ]
     },
     "execution_count": 12,
     "metadata": {},
     "output_type": "execute_result"
    }
   ],
   "source": [
    "Y.shape"
   ]
  },
  {
   "cell_type": "markdown",
   "metadata": {
    "id": "w2w8w0VjvxIS"
   },
   "source": [
    "Now, we define the algorithms that we are going to use. "
   ]
  },
  {
   "cell_type": "code",
   "execution_count": 13,
   "metadata": {
    "id": "MEPfV3efvxIS"
   },
   "outputs": [],
   "source": [
    "from sklearn.tree import DecisionTreeClassifier\n",
    "from sklearn.neighbors import KNeighborsClassifier\n",
    "from sklearn.linear_model import LogisticRegression\n",
    "from sklearn.svm import SVC\n",
    "from sklearn.neural_network import MLPClassifier\n",
    "from sklearn.ensemble import ExtraTreesClassifier\n",
    "from sklearn.ensemble import GradientBoostingClassifier\n",
    "from sklearn.ensemble import RandomForestClassifier\n",
    "from sklearn.ensemble import AdaBoostClassifier\n",
    "from scipy.stats import randint as sp_randint"
   ]
  },
  {
   "cell_type": "code",
   "execution_count": 14,
   "metadata": {
    "id": "YwnPEwswvxIU"
   },
   "outputs": [],
   "source": [
    "# Decision tree\n",
    "clfTree = DecisionTreeClassifier(random_state=84)\n",
    "param_distTree = {\"min_samples_split\": sp_randint(3, 30)}\n",
    "# SVM\n",
    "clfSVC = SVC(random_state=84)\n",
    "param_distSVC = {'C': [1, 10, 100, 1000], 'gamma': [0.001, 0.0001],'kernel': ['rbf'], 'class_weight':['balanced', None]}\n",
    "# KNN\n",
    "clfKNN = KNeighborsClassifier()\n",
    "param_distKNN = {'n_neighbors':sp_randint(3, 30)}\n",
    "# Logistic regression\n",
    "clfLR = LogisticRegression(random_state=84)\n",
    "param_distLR = {'C': [0.1,0.5,1, 10, 100, 1000]}\n",
    "# Neural Network\n",
    "clfMLP = MLPClassifier(random_state=84)\n",
    "param_distMLP = {'activation': ['identity', 'logistic', 'tanh', 'relu'], 'solver': ['lbfgs', 'sgd', 'adam'],\n",
    "                 'alpha': sp_randint(0.0001, 1), 'learning_rate': ['constant', 'invscaling', 'adaptive'],\n",
    "                 'hidden_layer_sizes': [(5,2), (3,3,3), (5,3,2), (5,4,3,2)],\n",
    "                 'momentum': [0.9, 0.95, 0.99]}\n",
    "# RandomForest\n",
    "clfRF = RandomForestClassifier(random_state=84)\n",
    "param_distRF =  {'n_estimators': [int(x) for x in np.linspace(start = 200, stop = 2000, num = 10)], 'max_features': ['auto', 'sqrt'],'max_depth': [int(x) for x in np.linspace(10, 110, num = 11)],\n",
    "                 'min_samples_split': [2, 5, 10],'min_samples_leaf': [1, 2, 4],\n",
    "                 'bootstrap': [True, False]}\n",
    "# ExtraTreesClassifier\n",
    "clfET = ExtraTreesClassifier(random_state=84)\n",
    "param_distET =  {'n_estimators': [int(x) for x in np.linspace(start = 200, stop = 2000, num = 10)], 'max_features': ['auto', 'sqrt'],'max_depth': [int(x) for x in np.linspace(10, 110, num = 11)],\n",
    "                 'min_samples_split': [2, 5, 10],'min_samples_leaf': [1, 2, 4],\n",
    "                 'bootstrap': [True, False]}"
   ]
  },
  {
   "cell_type": "code",
   "execution_count": 15,
   "metadata": {
    "id": "GGQcPxBOvxIV"
   },
   "outputs": [],
   "source": [
    "listAlgorithms = [clfTree,clfSVC,clfKNN,clfLR,clfMLP,clfRF,clfET]"
   ]
  },
  {
   "cell_type": "code",
   "execution_count": 16,
   "metadata": {
    "id": "8Nl-1GpjvxIV"
   },
   "outputs": [],
   "source": [
    "listParams = [param_distTree,param_distSVC,param_distKNN,param_distLR,param_distMLP,param_distRF, param_distET]"
   ]
  },
  {
   "cell_type": "code",
   "execution_count": 17,
   "metadata": {
    "id": "IK_8iIWovxIV"
   },
   "outputs": [],
   "source": [
    "listNames = [\"Arbol\", \"SVM\", \"KNN\", \"LR\", \"MLP\",\"RF\",\"ET\"]"
   ]
  },
  {
   "cell_type": "markdown",
   "metadata": {},
   "source": [
    "# Plain comparison"
   ]
  },
  {
   "cell_type": "code",
   "execution_count": 18,
   "metadata": {
    "id": "LSSesjlBvxIV"
   },
   "outputs": [
    {
     "name": "stdout",
     "output_type": "stream",
     "text": [
      "temp.csv\n",
      "['Arbol' 'SVM' 'KNN' 'LR' 'MLP' 'RF' 'ET']\n",
      "==========================================================\n",
      "Report\n",
      "==========================================================\n",
      "**********************************************************\n",
      "Mean and std\n",
      "**********************************************************\n",
      "Arbol: 0.613631 (0.172401)\n",
      "SVM: 0.606429 (0.145900)\n",
      "KNN: 0.580119 (0.137583)\n",
      "LR: 0.609345 (0.193816)\n",
      "MLP: 0.650893 (0.160372)\n",
      "RF: 0.720774 (0.161186)\n",
      "ET: 0.636548 (0.155947)\n",
      "**********************************************************\n",
      "Statistical tests\n",
      "**********************************************************\n",
      "----------------------------------------------------------\n",
      "Checking parametric conditions \n",
      "----------------------------------------------------------\n",
      "Checking independence \n",
      "Ok\n",
      "Checking normality using Shapiro-Wilk's test for normality, alpha=0.05\n",
      "W: 0.978579, p:0.273815\n",
      "The null hypothesis (normality) is rejected\n",
      "Checking heteroscedasticity using Levene's test, alpha=0.05\n",
      "W: 0.287242, p:0.940909\n",
      "The null hypothesis (heteroscedasticity) is accepted\n",
      "Conditions for a parametric test are not fulfilled, applying a non-parametric test\n",
      "----------------------------------------------------------\n",
      "Working with more than 2 algorithms\n",
      "----------------------------------------------------------\n",
      "----------------------------------------------------------\n",
      "Applying Friedman test\n",
      "----------------------------------------------------------\n",
      "F-value: 1.192113, p-value: 0.3245362498885509\n",
      "Null hypothesis is rejected; hence, models have different performance\n",
      "Technique      Ranking\n",
      "-----------  ---------\n",
      "RF                5.6\n",
      "MLP               4.1\n",
      "ET                3.85\n",
      "LR                3.8\n",
      "Arbol             3.7\n",
      "SVM               3.5\n",
      "KNN               3.45\n",
      "Winner model: RF\n",
      "----------------------------------------------------------\n",
      "Applying Holm p-value adjustment procedure and analysing effect size\n",
      "----------------------------------------------------------\n",
      "Comparison      Zvalue    p-value    adjusted p-value\n",
      "------------  --------  ---------  ------------------\n",
      "RF vs KNN      2.22546  0.0260503            0.156302\n",
      "RF vs SVM      2.17371  0.0297272            0.156302\n",
      "RF vs Arbol    1.96669  0.0492193            0.196877\n",
      "RF vs LR       1.86318  0.0624374            0.196877\n",
      "RF vs ET       1.81142  0.0700755            0.196877\n",
      "RF vs MLP      1.55265  0.120507             0.196877\n",
      "There is a significant difference between the models: RF (mean: 0.720774, std: 0.161186) and KNN (mean: 0.580119, std: 0.137583) (Cohen's d=0.8904706303536642, Large)\n",
      "There is a significant difference between the models: RF (mean: 0.720774, std: 0.161186) and SVM (mean: 0.606429, std: 0.145900) (Cohen's d=0.7056222614670004, Large)\n",
      "There is a significant difference between the models: RF (mean: 0.720774, std: 0.161186) and Arbol (mean: 0.613631, std: 0.172401) (Cohen's d=0.6090612458691458, Large)\n",
      "There is a significant difference between the models: RF (mean: 0.720774, std: 0.161186) and LR (mean: 0.609345, std: 0.193816) (Cohen's d=0.5930493047089642, Large)\n",
      "There is a significant difference between the models: RF (mean: 0.720774, std: 0.161186) and ET (mean: 0.636548, std: 0.155947) (Cohen's d=0.5038464224549298, Large)\n",
      "There is a significant difference between the models: RF (mean: 0.720774, std: 0.161186) and MLP (mean: 0.650893, std: 0.160372) (Cohen's d=0.4123339663541339, Medium)\n",
      "Eta squared: 0.063525 (Large)\n"
     ]
    },
    {
     "data": {
      "image/png": "[encoded data removed]",
      "text/plain": [
       "<Figure size 432x288 with 1 Axes>"
      ]
     },
     "metadata": {
      "needs_background": "light"
     },
     "output_type": "display_data"
    }
   ],
   "source": [
    "compare_methods(X,Y,listAlgorithms,listParams,listNames,metric='auroc')"
   ]
  },
  {
   "cell_type": "code",
   "execution_count": 19,
   "metadata": {},
   "outputs": [
    {
     "name": "stdout",
     "output_type": "stream",
     "text": [
      "temp.csv\n",
      "['Arbol' 'SVM' 'KNN' 'LR' 'MLP' 'RF' 'ET']\n",
      "==========================================================\n",
      "Report\n",
      "==========================================================\n",
      "**********************************************************\n",
      "Mean and std\n",
      "**********************************************************\n",
      "Arbol: 0.598333 (0.206620)\n",
      "SVM: 0.595000 (0.238287)\n",
      "KNN: 0.600000 (0.297489)\n",
      "LR: 0.580238 (0.263024)\n",
      "MLP: 0.685000 (0.301703)\n",
      "RF: 0.685000 (0.197266)\n",
      "ET: 0.600000 (0.331662)\n",
      "**********************************************************\n",
      "Statistical tests\n",
      "**********************************************************\n",
      "----------------------------------------------------------\n",
      "Checking parametric conditions \n",
      "----------------------------------------------------------\n",
      "Checking independence \n",
      "Ok\n",
      "Checking normality using Shapiro-Wilk's test for normality, alpha=0.05\n",
      "W: 0.929659, p:0.000719\n",
      "The null hypothesis (normality) is rejected\n",
      "Checking heteroscedasticity using Levene's test, alpha=0.05\n",
      "W: 0.983420, p:0.444090\n",
      "The null hypothesis (heteroscedasticity) is rejected\n",
      "Conditions for a parametric test are not fulfilled, applying a non-parametric test\n",
      "----------------------------------------------------------\n",
      "Working with more than 2 algorithms\n",
      "----------------------------------------------------------\n",
      "----------------------------------------------------------\n",
      "Applying Friedman test\n",
      "----------------------------------------------------------\n",
      "F-value: 0.786408, p-value: 0.5844122766523867\n",
      "Null hypothesis is accepted; hence, we can't say that there is a significant difference in the performance of the models\n",
      "----------------------------------------------------------\n",
      "Analysing effect size\n",
      "----------------------------------------------------------\n",
      "We take the model with the best mean (MLP, mean: 0.685000) and compare it with the other models: \n",
      "Comparing effect size of MLP and Arbol: Cohen's d=0.3179769028273072, Medium\n",
      "Comparing effect size of MLP and SVM: Cohen's d=0.31407501046239833, Medium\n",
      "Comparing effect size of MLP and KNN: Cohen's d=0.2691489628129031, Medium\n",
      "Comparing effect size of MLP and LR: Cohen's d=0.35115561973878456, Medium\n",
      "Comparing effect size of MLP and RF: Cohen's d=4.1321578936867936e-16, Small\n",
      "Comparing effect size of MLP and ET: Cohen's d=0.25434906347143293, Medium\n",
      "Eta squared: 0.023425 (Medium)\n"
     ]
    },
    {
     "data": {
      "image/png": "[encoded data removed]",
      "text/plain": [
       "<Figure size 432x288 with 1 Axes>"
      ]
     },
     "metadata": {
      "needs_background": "light"
     },
     "output_type": "display_data"
    }
   ],
   "source": [
    "compare_methods(X,Y,listAlgorithms,listParams,listNames,metric='precision')"
   ]
  },
  {
   "cell_type": "code",
   "execution_count": 20,
   "metadata": {},
   "outputs": [
    {
     "name": "stdout",
     "output_type": "stream",
     "text": [
      "temp.csv\n",
      "['Arbol' 'SVM' 'KNN' 'LR' 'MLP' 'RF' 'ET']\n",
      "==========================================================\n",
      "Report\n",
      "==========================================================\n",
      "**********************************************************\n",
      "Mean and std\n",
      "**********************************************************\n",
      "Arbol: 0.608333 (0.210108)\n",
      "SVM: 0.581548 (0.271340)\n",
      "KNN: 0.458929 (0.255390)\n",
      "LR: 0.604167 (0.198693)\n",
      "MLP: 0.626786 (0.208453)\n",
      "RF: 0.720833 (0.213266)\n",
      "ET: 0.510714 (0.250422)\n",
      "**********************************************************\n",
      "Statistical tests\n",
      "**********************************************************\n",
      "----------------------------------------------------------\n",
      "Checking parametric conditions \n",
      "----------------------------------------------------------\n",
      "Checking independence \n",
      "Ok\n",
      "Checking normality using Shapiro-Wilk's test for normality, alpha=0.05\n",
      "W: 0.962893, p:0.036242\n",
      "The null hypothesis (normality) is rejected\n",
      "Checking heteroscedasticity using Levene's test, alpha=0.05\n",
      "W: 0.248473, p:0.958177\n",
      "The null hypothesis (heteroscedasticity) is accepted\n",
      "Conditions for a parametric test are not fulfilled, applying a non-parametric test\n",
      "----------------------------------------------------------\n",
      "Working with more than 2 algorithms\n",
      "----------------------------------------------------------\n",
      "----------------------------------------------------------\n",
      "Applying Friedman test\n",
      "----------------------------------------------------------\n",
      "F-value: 1.655391, p-value: 0.14998787701935234\n",
      "Null hypothesis is rejected; hence, models have different performance\n",
      "Technique      Ranking\n",
      "-----------  ---------\n",
      "RF                5.4\n",
      "MLP               4.4\n",
      "Arbol             4.25\n",
      "LR                4.05\n",
      "SVM               3.95\n",
      "ET                3.15\n",
      "KNN               2.8\n",
      "Winner model: RF\n",
      "----------------------------------------------------------\n",
      "Applying Holm p-value adjustment procedure and analysing effect size\n",
      "----------------------------------------------------------\n",
      "Comparison      Zvalue     p-value    adjusted p-value\n",
      "------------  --------  ----------  ------------------\n",
      "RF vs KNN      2.69126  0.00711836           0.0427102\n",
      "RF vs ET       2.32897  0.0198606            0.0993029\n",
      "RF vs SVM      1.50089  0.133383             0.533533\n",
      "RF vs LR       1.39738  0.162299             0.533533\n",
      "RF vs Arbol    1.19036  0.233904             0.533533\n",
      "RF vs MLP      1.0351   0.300623             0.533533\n",
      "There is a significant difference between the models: RF (mean: 0.720833, std: 0.213266) and KNN (mean: 0.458929, std: 0.255390) (Cohen's d=1.0560709703538922, Large)\n",
      "There is a significant difference between the models: RF (mean: 0.720833, std: 0.213266) and ET (mean: 0.510714, std: 0.250422) (Cohen's d=0.8570404676969373, Large)\n",
      "We can't say that there is a significant difference in the performance of the models: RF (mean: 0.720833, std: 0.213266) and SVM (mean: 0.581548, std: 0.271340) (Cohen's d=0.5414677972280973, Large)\n",
      "We can't say that there is a significant difference in the performance of the models: RF (mean: 0.720833, std: 0.213266) and LR (mean: 0.604167, std: 0.198693) (Cohen's d=0.5369986177363613, Large)\n",
      "We can't say that there is a significant difference in the performance of the models: RF (mean: 0.720833, std: 0.213266) and Arbol (mean: 0.608333, std: 0.210108) (Cohen's d=0.504159364443421, Large)\n",
      "We can't say that there is a significant difference in the performance of the models: RF (mean: 0.720833, std: 0.213266) and MLP (mean: 0.626786, std: 0.208453) (Cohen's d=0.4231046785621201, Medium)\n",
      "Eta squared: 0.102000 (Large)\n"
     ]
    },
    {
     "data": {
      "image/png": "[encoded data removed]",
      "text/plain": [
       "<Figure size 432x288 with 1 Axes>"
      ]
     },
     "metadata": {
      "needs_background": "light"
     },
     "output_type": "display_data"
    }
   ],
   "source": [
    "compare_methods(X,Y,listAlgorithms,listParams,listNames,metric='recall')"
   ]
  },
  {
   "cell_type": "code",
   "execution_count": 21,
   "metadata": {},
   "outputs": [
    {
     "name": "stdout",
     "output_type": "stream",
     "text": [
      "temp.csv\n",
      "['Arbol' 'SVM' 'KNN' 'LR' 'MLP' 'RF' 'ET']\n",
      "==========================================================\n",
      "Report\n",
      "==========================================================\n",
      "**********************************************************\n",
      "Mean and std\n",
      "**********************************************************\n",
      "Arbol: 0.595455 (0.160847)\n",
      "SVM: 0.559091 (0.159920)\n",
      "KNN: 0.521818 (0.132628)\n",
      "LR: 0.577273 (0.169552)\n",
      "MLP: 0.618182 (0.159389)\n",
      "RF: 0.704545 (0.140557)\n",
      "ET: 0.617273 (0.116523)\n",
      "**********************************************************\n",
      "Statistical tests\n",
      "**********************************************************\n",
      "----------------------------------------------------------\n",
      "Checking parametric conditions \n",
      "----------------------------------------------------------\n",
      "Checking independence \n",
      "Ok\n",
      "Checking normality using Shapiro-Wilk's test for normality, alpha=0.05\n",
      "W: 0.947654, p:0.005474\n",
      "The null hypothesis (normality) is rejected\n",
      "Checking heteroscedasticity using Levene's test, alpha=0.05\n",
      "W: 0.285357, p:0.941813\n",
      "The null hypothesis (heteroscedasticity) is accepted\n",
      "Conditions for a parametric test are not fulfilled, applying a non-parametric test\n",
      "----------------------------------------------------------\n",
      "Working with more than 2 algorithms\n",
      "----------------------------------------------------------\n",
      "----------------------------------------------------------\n",
      "Applying Friedman test\n",
      "----------------------------------------------------------\n",
      "F-value: 1.662154, p-value: 0.14823842380298513\n",
      "Null hypothesis is rejected; hence, models have different performance\n",
      "Technique      Ranking\n",
      "-----------  ---------\n",
      "RF                5.75\n",
      "MLP               4.25\n",
      "ET                4.05\n",
      "Arbol             3.7\n",
      "LR                3.65\n",
      "SVM               3.45\n",
      "KNN               3.15\n",
      "Winner model: RF\n",
      "----------------------------------------------------------\n",
      "Applying Holm p-value adjustment procedure and analysing effect size\n",
      "----------------------------------------------------------\n",
      "Comparison      Zvalue     p-value    adjusted p-value\n",
      "------------  --------  ----------  ------------------\n",
      "RF vs KNN      2.69126  0.00711836           0.0427102\n",
      "RF vs SVM      2.38073  0.0172786            0.0863928\n",
      "RF vs LR       2.17371  0.0297272            0.118909\n",
      "RF vs Arbol    2.12195  0.0338418            0.118909\n",
      "RF vs ET       1.75967  0.0784643            0.156929\n",
      "RF vs MLP      1.55265  0.120507             0.156929\n",
      "There is a significant difference between the models: RF (mean: 0.704545, std: 0.140557) and KNN (mean: 0.521818, std: 0.132628) (Cohen's d=1.2685744044860694, Large)\n",
      "There is a significant difference between the models: RF (mean: 0.704545, std: 0.140557) and SVM (mean: 0.559091, std: 0.159920) (Cohen's d=0.9165748137732068, Large)\n",
      "There is a significant difference between the models: RF (mean: 0.704545, std: 0.140557) and LR (mean: 0.577273, std: 0.169552) (Cohen's d=0.7753222251004469, Large)\n",
      "There is a significant difference between the models: RF (mean: 0.704545, std: 0.140557) and Arbol (mean: 0.595455, std: 0.160847) (Cohen's d=0.6851862277049052, Large)\n",
      "There is a significant difference between the models: RF (mean: 0.704545, std: 0.140557) and ET (mean: 0.617273, std: 0.116523) (Cohen's d=0.6413156507303338, Large)\n",
      "There is a significant difference between the models: RF (mean: 0.704545, std: 0.140557) and MLP (mean: 0.618182, std: 0.159389) (Cohen's d=0.5452361502242778, Large)\n",
      "Eta squared: 0.112676 (Large)\n"
     ]
    },
    {
     "data": {
      "image/png": "[encoded data removed]",
      "text/plain": [
       "<Figure size 432x288 with 1 Axes>"
      ]
     },
     "metadata": {
      "needs_background": "light"
     },
     "output_type": "display_data"
    }
   ],
   "source": [
    "compare_methods(X,Y,listAlgorithms,listParams,listNames,metric='accuracy')"
   ]
  }
 ],
 "metadata": {
  "colab": {
   "name": "CompareMethods.ipynb",
   "provenance": []
  },
  "kernelspec": {
   "display_name": "Python 3",
   "language": "python",
   "name": "python3"
  },
  "language_info": {
   "codemirror_mode": {
    "name": "ipython",
    "version": 3
   },
   "file_extension": ".py",
   "mimetype": "text/x-python",
   "name": "python",
   "nbconvert_exporter": "python",
   "pygments_lexer": "ipython3",
   "version": "3.6.7"
  }
 },
 "nbformat": 4,
 "nbformat_minor": 1
}
