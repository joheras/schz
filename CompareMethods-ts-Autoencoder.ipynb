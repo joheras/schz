{
 "cells": [
  {
   "cell_type": "code",
   "execution_count": 1,
   "metadata": {
    "id": "9VdC2keIvxIJ"
   },
   "outputs": [],
   "source": [
    "import numpy as np\n",
    "from StatisticalAnalysis import compare_methods"
   ]
  },
  {
   "cell_type": "code",
   "execution_count": 2,
   "metadata": {
    "id": "3iCEO6wXtftF"
   },
   "outputs": [],
   "source": [
    "import warnings\n",
    "warnings.filterwarnings('ignore')"
   ]
  },
  {
   "cell_type": "markdown",
   "metadata": {
    "id": "Zb3btBk5vxIM"
   },
   "source": [
    "First we load the data and process it to have the correct form."
   ]
  },
  {
   "cell_type": "code",
   "execution_count": 3,
   "metadata": {},
   "outputs": [],
   "source": [
    "ts = np.load('tsAutoencoder.npy')"
   ]
  },
  {
   "cell_type": "code",
   "execution_count": 4,
   "metadata": {},
   "outputs": [],
   "source": [
    "ts_hc = ts[0:52]\n",
    "ts_schz = ts[52:]"
   ]
  },
  {
   "cell_type": "code",
   "execution_count": 5,
   "metadata": {
    "id": "StF6b56QvxIN"
   },
   "outputs": [
    {
     "data": {
      "text/plain": [
       "(52, 18, 15, 1)"
      ]
     },
     "execution_count": 5,
     "metadata": {},
     "output_type": "execute_result"
    }
   ],
   "source": [
    "ts_hc.shape"
   ]
  },
  {
   "cell_type": "code",
   "execution_count": 6,
   "metadata": {
    "id": "qd1nFcAfvxIO"
   },
   "outputs": [],
   "source": [
    "ts_hc = ts_hc.reshape(52,18*15)"
   ]
  },
  {
   "cell_type": "code",
   "execution_count": 7,
   "metadata": {
    "id": "fc006UE6vxIO"
   },
   "outputs": [],
   "source": [
    "ts_schz = ts_schz.reshape(50,18*15)"
   ]
  },
  {
   "cell_type": "code",
   "execution_count": 8,
   "metadata": {
    "id": "SEhdGg3IvxIP"
   },
   "outputs": [],
   "source": [
    "X = np.append(ts_hc,ts_schz,axis=0)"
   ]
  },
  {
   "cell_type": "code",
   "execution_count": 9,
   "metadata": {
    "colab": {
     "base_uri": "https://localhost:8080/"
    },
    "id": "8d-RFXoavxIQ",
    "outputId": "a61e1d34-79c6-4f1a-df1f-0b3a74b2c53d"
   },
   "outputs": [
    {
     "data": {
      "text/plain": [
       "(102, 270)"
      ]
     },
     "execution_count": 9,
     "metadata": {},
     "output_type": "execute_result"
    }
   ],
   "source": [
    "X.shape"
   ]
  },
  {
   "cell_type": "code",
   "execution_count": 10,
   "metadata": {
    "colab": {
     "base_uri": "https://localhost:8080/"
    },
    "id": "hnaiAVUvJmgn",
    "outputId": "6cb5c264-f346-4b38-e85b-aa3b8bf8ace6"
   },
   "outputs": [
    {
     "data": {
      "text/plain": [
       "(270,)"
      ]
     },
     "execution_count": 10,
     "metadata": {},
     "output_type": "execute_result"
    }
   ],
   "source": [
    "X[0].shape"
   ]
  },
  {
   "cell_type": "code",
   "execution_count": 11,
   "metadata": {
    "id": "5oh4k1gEvxIR"
   },
   "outputs": [],
   "source": [
    "Y = np.append(np.zeros(52),np.ones(50),axis=0)"
   ]
  },
  {
   "cell_type": "code",
   "execution_count": 12,
   "metadata": {
    "colab": {
     "base_uri": "https://localhost:8080/"
    },
    "id": "PZuBWU5LvxIR",
    "outputId": "21a0987a-b533-41fc-bea5-9f94b3246a66",
    "scrolled": true
   },
   "outputs": [
    {
     "data": {
      "text/plain": [
       "(102,)"
      ]
     },
     "execution_count": 12,
     "metadata": {},
     "output_type": "execute_result"
    }
   ],
   "source": [
    "Y.shape"
   ]
  },
  {
   "cell_type": "markdown",
   "metadata": {
    "id": "w2w8w0VjvxIS"
   },
   "source": [
    "Now, we define the algorithms that we are going to use. "
   ]
  },
  {
   "cell_type": "code",
   "execution_count": 13,
   "metadata": {
    "id": "MEPfV3efvxIS"
   },
   "outputs": [],
   "source": [
    "from sklearn.tree import DecisionTreeClassifier\n",
    "from sklearn.neighbors import KNeighborsClassifier\n",
    "from sklearn.linear_model import LogisticRegression\n",
    "from sklearn.svm import SVC\n",
    "from sklearn.neural_network import MLPClassifier\n",
    "from sklearn.ensemble import ExtraTreesClassifier\n",
    "from sklearn.ensemble import GradientBoostingClassifier\n",
    "from sklearn.ensemble import RandomForestClassifier\n",
    "from sklearn.ensemble import AdaBoostClassifier\n",
    "from scipy.stats import randint as sp_randint"
   ]
  },
  {
   "cell_type": "code",
   "execution_count": 14,
   "metadata": {
    "id": "YwnPEwswvxIU"
   },
   "outputs": [],
   "source": [
    "# Decision tree\n",
    "clfTree = DecisionTreeClassifier(random_state=84)\n",
    "param_distTree = {\"min_samples_split\": sp_randint(3, 30)}\n",
    "# SVM\n",
    "clfSVC = SVC(random_state=84)\n",
    "param_distSVC = {'C': [1, 10, 100, 1000], 'gamma': [0.001, 0.0001],'kernel': ['rbf'], 'class_weight':['balanced', None]}\n",
    "# KNN\n",
    "clfKNN = KNeighborsClassifier()\n",
    "param_distKNN = {'n_neighbors':sp_randint(3, 30)}\n",
    "# Logistic regression\n",
    "clfLR = LogisticRegression(random_state=84)\n",
    "param_distLR = {'C': [0.1,0.5,1, 10, 100, 1000]}\n",
    "# Neural Network\n",
    "clfMLP = MLPClassifier(random_state=84)\n",
    "param_distMLP = {'activation': ['identity', 'logistic', 'tanh', 'relu'], 'solver': ['lbfgs', 'sgd', 'adam'],\n",
    "                 'alpha': sp_randint(0.0001, 1), 'learning_rate': ['constant', 'invscaling', 'adaptive'],\n",
    "                 'hidden_layer_sizes': [(5,2), (3,3,3), (5,3,2), (5,4,3,2)],\n",
    "                 'momentum': [0.9, 0.95, 0.99]}\n",
    "# RandomForest\n",
    "clfRF = RandomForestClassifier(random_state=84)\n",
    "param_distRF =  {'n_estimators': [int(x) for x in np.linspace(start = 200, stop = 2000, num = 10)], 'max_features': ['auto', 'sqrt'],'max_depth': [int(x) for x in np.linspace(10, 110, num = 11)],\n",
    "                 'min_samples_split': [2, 5, 10],'min_samples_leaf': [1, 2, 4],\n",
    "                 'bootstrap': [True, False]}\n",
    "# ExtraTreesClassifier\n",
    "clfET = ExtraTreesClassifier(random_state=84)\n",
    "param_distET =  {'n_estimators': [int(x) for x in np.linspace(start = 200, stop = 2000, num = 10)], 'max_features': ['auto', 'sqrt'],'max_depth': [int(x) for x in np.linspace(10, 110, num = 11)],\n",
    "                 'min_samples_split': [2, 5, 10],'min_samples_leaf': [1, 2, 4],\n",
    "                 'bootstrap': [True, False]}"
   ]
  },
  {
   "cell_type": "code",
   "execution_count": 15,
   "metadata": {
    "id": "GGQcPxBOvxIV"
   },
   "outputs": [],
   "source": [
    "listAlgorithms = [clfTree,clfSVC,clfKNN,clfLR,clfMLP,clfRF,clfET]"
   ]
  },
  {
   "cell_type": "code",
   "execution_count": 16,
   "metadata": {
    "id": "8Nl-1GpjvxIV"
   },
   "outputs": [],
   "source": [
    "listParams = [param_distTree,param_distSVC,param_distKNN,param_distLR,param_distMLP,param_distRF, param_distET]"
   ]
  },
  {
   "cell_type": "code",
   "execution_count": 17,
   "metadata": {
    "id": "IK_8iIWovxIV"
   },
   "outputs": [],
   "source": [
    "listNames = [\"Arbol\", \"SVM\", \"KNN\", \"LR\", \"MLP\",\"RF\",\"ET\"]"
   ]
  },
  {
   "cell_type": "markdown",
   "metadata": {},
   "source": [
    "# Plain comparison"
   ]
  },
  {
   "cell_type": "code",
   "execution_count": 18,
   "metadata": {
    "id": "LSSesjlBvxIV"
   },
   "outputs": [
    {
     "name": "stdout",
     "output_type": "stream",
     "text": [
      "temp.csv\n",
      "['Arbol' 'SVM' 'KNN' 'LR' 'MLP' 'RF' 'ET']\n",
      "==========================================================\n",
      "Report\n",
      "==========================================================\n",
      "**********************************************************\n",
      "Mean and std\n",
      "**********************************************************\n",
      "Arbol: 0.529405 (0.248647)\n",
      "SVM: 0.486310 (0.094080)\n",
      "KNN: 0.621429 (0.156276)\n",
      "LR: 0.565000 (0.107134)\n",
      "MLP: 0.661250 (0.077320)\n",
      "RF: 0.607083 (0.151808)\n",
      "ET: 0.621667 (0.123095)\n",
      "**********************************************************\n",
      "Statistical tests\n",
      "**********************************************************\n",
      "----------------------------------------------------------\n",
      "Checking parametric conditions \n",
      "----------------------------------------------------------\n",
      "Checking independence \n",
      "Ok\n",
      "Checking normality using Shapiro-Wilk's test for normality, alpha=0.05\n",
      "W: 0.962641, p:0.035087\n",
      "The null hypothesis (normality) is rejected\n",
      "Checking heteroscedasticity using Levene's test, alpha=0.05\n",
      "W: 1.938448, p:0.088257\n",
      "The null hypothesis (heteroscedasticity) is rejected\n",
      "Conditions for a parametric test are not fulfilled, applying a non-parametric test\n",
      "----------------------------------------------------------\n",
      "Working with more than 2 algorithms\n",
      "----------------------------------------------------------\n",
      "----------------------------------------------------------\n",
      "Applying Friedman test\n",
      "----------------------------------------------------------\n",
      "F-value: 2.672070, p-value: 0.02414237515554274\n",
      "Null hypothesis is rejected; hence, models have different performance\n",
      "Technique      Ranking\n",
      "-----------  ---------\n",
      "MLP               5.5\n",
      "ET                4.45\n",
      "RF                4.25\n",
      "Arbol             4.05\n",
      "KNN               4\n",
      "LR                3.7\n",
      "SVM               2.05\n",
      "Winner model: MLP\n",
      "----------------------------------------------------------\n",
      "Applying Holm p-value adjustment procedure and analysing effect size\n",
      "----------------------------------------------------------\n",
      "Comparison      Zvalue    p-value    adjusted p-value\n",
      "------------  --------  ---------  ------------------\n",
      "MLP vs SVM     3.57109  0.0003555            0.002133\n",
      "MLP vs LR      1.86318  0.0624374            0.312187\n",
      "MLP vs KNN     1.55265  0.120507             0.482029\n",
      "MLP vs Arbol   1.50089  0.133383             0.482029\n",
      "MLP vs RF      1.29387  0.195709             0.482029\n",
      "MLP vs ET      1.08685  0.277102             0.482029\n",
      "There is a significant difference between the models: MLP (mean: 0.661250, std: 0.077320) and SVM (mean: 0.486310, std: 0.094080) (Cohen's d=1.9273733473812944, Large)\n",
      "There is a significant difference between the models: MLP (mean: 0.661250, std: 0.077320) and LR (mean: 0.565000, std: 0.107134) (Cohen's d=0.9773803102026498, Large)\n",
      "There is a significant difference between the models: MLP (mean: 0.661250, std: 0.077320) and KNN (mean: 0.621429, std: 0.156276) (Cohen's d=0.3064170526004842, Medium)\n",
      "There is a significant difference between the models: MLP (mean: 0.661250, std: 0.077320) and Arbol (mean: 0.529405, std: 0.248647) (Cohen's d=0.6793205032892857, Large)\n",
      "There is a significant difference between the models: MLP (mean: 0.661250, std: 0.077320) and RF (mean: 0.607083, std: 0.151808) (Cohen's d=0.4265693214145393, Medium)\n",
      "There is a significant difference between the models: MLP (mean: 0.661250, std: 0.077320) and ET (mean: 0.621667, std: 0.123095) (Cohen's d=0.36533458867191776, Medium)\n",
      "Eta squared: 0.128373 (Large)\n"
     ]
    },
    {
     "data": {
      "image/png": "[encoded data removed]",
      "text/plain": [
       "<Figure size 432x288 with 1 Axes>"
      ]
     },
     "metadata": {
      "needs_background": "light"
     },
     "output_type": "display_data"
    }
   ],
   "source": [
    "compare_methods(X,Y,listAlgorithms,listParams,listNames,metric='auroc')"
   ]
  },
  {
   "cell_type": "code",
   "execution_count": 19,
   "metadata": {},
   "outputs": [
    {
     "name": "stdout",
     "output_type": "stream",
     "text": [
      "temp.csv\n",
      "['Arbol' 'SVM' 'KNN' 'LR' 'MLP' 'RF' 'ET']\n",
      "==========================================================\n",
      "Report\n",
      "==========================================================\n",
      "**********************************************************\n",
      "Mean and std\n",
      "**********************************************************\n",
      "Arbol: 0.494524 (0.290033)\n",
      "SVM: 0.384545 (0.254818)\n",
      "KNN: 0.572738 (0.172166)\n",
      "LR: 0.538929 (0.229189)\n",
      "MLP: 0.621905 (0.169030)\n",
      "RF: 0.558333 (0.235614)\n",
      "ET: 0.591905 (0.156478)\n",
      "**********************************************************\n",
      "Statistical tests\n",
      "**********************************************************\n",
      "----------------------------------------------------------\n",
      "Checking parametric conditions \n",
      "----------------------------------------------------------\n",
      "Checking independence \n",
      "Ok\n",
      "Checking normality using Shapiro-Wilk's test for normality, alpha=0.05\n",
      "W: 0.958696, p:0.021224\n",
      "The null hypothesis (normality) is rejected\n",
      "Checking heteroscedasticity using Levene's test, alpha=0.05\n",
      "W: 1.328654, p:0.257784\n",
      "The null hypothesis (heteroscedasticity) is rejected\n",
      "Conditions for a parametric test are not fulfilled, applying a non-parametric test\n",
      "----------------------------------------------------------\n",
      "Working with more than 2 algorithms\n",
      "----------------------------------------------------------\n",
      "----------------------------------------------------------\n",
      "Applying Friedman test\n",
      "----------------------------------------------------------\n",
      "F-value: 2.420802, p-value: 0.03815928544117919\n",
      "Null hypothesis is rejected; hence, models have different performance\n",
      "Technique      Ranking\n",
      "-----------  ---------\n",
      "MLP               5.6\n",
      "ET                4.5\n",
      "RF                4\n",
      "LR                4\n",
      "KNN               3.85\n",
      "Arbol             3.8\n",
      "SVM               2.25\n",
      "Winner model: MLP\n",
      "----------------------------------------------------------\n",
      "Applying Holm p-value adjustment procedure and analysing effect size\n",
      "----------------------------------------------------------\n",
      "Comparison      Zvalue      p-value    adjusted p-value\n",
      "------------  --------  -----------  ------------------\n",
      "MLP vs SVM     3.46758  0.000525168          0.00315101\n",
      "MLP vs Arbol   1.86318  0.0624374            0.312187\n",
      "MLP vs KNN     1.81142  0.0700755            0.312187\n",
      "MLP vs LR      1.65616  0.09769              0.312187\n",
      "MLP vs RF      1.65616  0.09769              0.312187\n",
      "MLP vs ET      1.13861  0.254867             0.312187\n",
      "There is a significant difference between the models: MLP (mean: 0.621905, std: 0.169030) and SVM (mean: 0.384545, std: 0.254818) (Cohen's d=1.0414257538754663, Large)\n",
      "There is a significant difference between the models: MLP (mean: 0.621905, std: 0.169030) and Arbol (mean: 0.494524, std: 0.290033) (Cohen's d=0.5090933977336187, Large)\n",
      "There is a significant difference between the models: MLP (mean: 0.621905, std: 0.169030) and KNN (mean: 0.572738, std: 0.172166) (Cohen's d=0.2734002740396546, Medium)\n",
      "There is a significant difference between the models: MLP (mean: 0.621905, std: 0.169030) and LR (mean: 0.538929, std: 0.229189) (Cohen's d=0.3909147087514281, Medium)\n",
      "There is a significant difference between the models: MLP (mean: 0.621905, std: 0.169030) and RF (mean: 0.558333, std: 0.235614) (Cohen's d=0.29412959505245345, Medium)\n",
      "There is a significant difference between the models: MLP (mean: 0.621905, std: 0.169030) and ET (mean: 0.591905, std: 0.156478) (Cohen's d=0.17473802940766894, Small)\n",
      "Eta squared: 0.098207 (Large)\n"
     ]
    },
    {
     "data": {
      "image/png": "[encoded data removed]",
      "text/plain": [
       "<Figure size 432x288 with 1 Axes>"
      ]
     },
     "metadata": {
      "needs_background": "light"
     },
     "output_type": "display_data"
    }
   ],
   "source": [
    "compare_methods(X,Y,listAlgorithms,listParams,listNames,metric='precision')"
   ]
  },
  {
   "cell_type": "code",
   "execution_count": 20,
   "metadata": {},
   "outputs": [
    {
     "name": "stdout",
     "output_type": "stream",
     "text": [
      "temp.csv\n",
      "['Arbol' 'SVM' 'KNN' 'LR' 'MLP' 'RF' 'ET']\n",
      "==========================================================\n",
      "Report\n",
      "==========================================================\n",
      "**********************************************************\n",
      "Mean and std\n",
      "**********************************************************\n",
      "Arbol: 0.547619 (0.322836)\n",
      "SVM: 0.451190 (0.312143)\n",
      "KNN: 0.885714 (0.123970)\n",
      "LR: 0.591071 (0.257733)\n",
      "MLP: 0.699405 (0.192018)\n",
      "RF: 0.595238 (0.271679)\n",
      "ET: 0.670238 (0.218286)\n",
      "**********************************************************\n",
      "Statistical tests\n",
      "**********************************************************\n",
      "----------------------------------------------------------\n",
      "Checking parametric conditions \n",
      "----------------------------------------------------------\n",
      "Checking independence \n",
      "Ok\n",
      "Checking normality using Shapiro-Wilk's test for normality, alpha=0.05\n",
      "W: 0.924427, p:0.000415\n",
      "The null hypothesis (normality) is rejected\n",
      "Checking heteroscedasticity using Levene's test, alpha=0.05\n",
      "W: 1.420088, p:0.221046\n",
      "The null hypothesis (heteroscedasticity) is rejected\n",
      "Conditions for a parametric test are not fulfilled, applying a non-parametric test\n",
      "----------------------------------------------------------\n",
      "Working with more than 2 algorithms\n",
      "----------------------------------------------------------\n",
      "----------------------------------------------------------\n",
      "Applying Friedman test\n",
      "----------------------------------------------------------\n",
      "F-value: 2.165264, p-value: 0.06064865118396512\n",
      "Null hypothesis is rejected; hence, models have different performance\n",
      "Technique      Ranking\n",
      "-----------  ---------\n",
      "KNN               5.85\n",
      "MLP               4.45\n",
      "ET                4.3\n",
      "LR                3.45\n",
      "RF                3.4\n",
      "Arbol             3.3\n",
      "SVM               3.25\n",
      "Winner model: KNN\n",
      "----------------------------------------------------------\n",
      "Applying Holm p-value adjustment procedure and analysing effect size\n",
      "----------------------------------------------------------\n",
      "Comparison      Zvalue     p-value    adjusted p-value\n",
      "------------  --------  ----------  ------------------\n",
      "KNN vs SVM     2.69126  0.00711836           0.0427102\n",
      "KNN vs Arbol   2.6395   0.00830282           0.0427102\n",
      "KNN vs RF      2.53599  0.011213             0.0448519\n",
      "KNN vs LR      2.48424  0.012983             0.0448519\n",
      "KNN vs ET      1.6044   0.108625             0.217251\n",
      "KNN vs MLP     1.44914  0.147299             0.217251\n",
      "There is a significant difference between the models: KNN (mean: 0.885714, std: 0.123970) and SVM (mean: 0.451190, std: 0.312143) (Cohen's d=1.7357680089314853, Large)\n",
      "There is a significant difference between the models: KNN (mean: 0.885714, std: 0.123970) and Arbol (mean: 0.547619, std: 0.322836) (Cohen's d=1.3116698577384702, Large)\n",
      "There is a significant difference between the models: KNN (mean: 0.885714, std: 0.123970) and RF (mean: 0.595238, std: 0.271679) (Cohen's d=1.3050222543526726, Large)\n",
      "There is a significant difference between the models: KNN (mean: 0.885714, std: 0.123970) and LR (mean: 0.591071, std: 0.257733) (Cohen's d=1.3821969415357693, Large)\n",
      "There is a significant difference between the models: KNN (mean: 0.885714, std: 0.123970) and ET (mean: 0.670238, std: 0.218286) (Cohen's d=1.1516106673710278, Large)\n",
      "There is a significant difference between the models: KNN (mean: 0.885714, std: 0.123970) and MLP (mean: 0.699405, std: 0.192018) (Cohen's d=1.093632621692302, Large)\n",
      "Eta squared: 0.203937 (Large)\n"
     ]
    },
    {
     "data": {
      "image/png": "[encoded data removed]",
      "text/plain": [
       "<Figure size 432x288 with 1 Axes>"
      ]
     },
     "metadata": {
      "needs_background": "light"
     },
     "output_type": "display_data"
    }
   ],
   "source": [
    "compare_methods(X,Y,listAlgorithms,listParams,listNames,metric='recall')"
   ]
  },
  {
   "cell_type": "code",
   "execution_count": 21,
   "metadata": {},
   "outputs": [
    {
     "name": "stdout",
     "output_type": "stream",
     "text": [
      "temp.csv\n",
      "['Arbol' 'SVM' 'KNN' 'LR' 'MLP' 'RF' 'ET']\n",
      "==========================================================\n",
      "Report\n",
      "==========================================================\n",
      "**********************************************************\n",
      "Mean and std\n",
      "**********************************************************\n",
      "Arbol: 0.505455 (0.242719)\n",
      "SVM: 0.527273 (0.128950)\n",
      "KNN: 0.638182 (0.127584)\n",
      "LR: 0.539091 (0.099424)\n",
      "MLP: 0.637273 (0.076650)\n",
      "RF: 0.605455 (0.125783)\n",
      "ET: 0.616364 (0.103875)\n",
      "**********************************************************\n",
      "Statistical tests\n",
      "**********************************************************\n",
      "----------------------------------------------------------\n",
      "Checking parametric conditions \n",
      "----------------------------------------------------------\n",
      "Checking independence \n",
      "Ok\n",
      "Checking normality using Shapiro-Wilk's test for normality, alpha=0.05\n",
      "W: 0.922259, p:0.000332\n",
      "The null hypothesis (normality) is rejected\n",
      "Checking heteroscedasticity using Levene's test, alpha=0.05\n",
      "W: 1.335547, p:0.254842\n",
      "The null hypothesis (heteroscedasticity) is rejected\n",
      "Conditions for a parametric test are not fulfilled, applying a non-parametric test\n",
      "----------------------------------------------------------\n",
      "Working with more than 2 algorithms\n",
      "----------------------------------------------------------\n",
      "----------------------------------------------------------\n",
      "Applying Friedman test\n",
      "----------------------------------------------------------\n",
      "F-value: 1.338462, p-value: 0.2563978353391939\n",
      "Null hypothesis is rejected; hence, models have different performance\n",
      "Technique      Ranking\n",
      "-----------  ---------\n",
      "MLP               5.15\n",
      "ET                4.5\n",
      "KNN               4.45\n",
      "RF                4.2\n",
      "Arbol             3.4\n",
      "LR                3.2\n",
      "SVM               3.1\n",
      "Winner model: MLP\n",
      "----------------------------------------------------------\n",
      "Applying Holm p-value adjustment procedure and analysing effect size\n",
      "----------------------------------------------------------\n",
      "Comparison      Zvalue    p-value    adjusted p-value\n",
      "------------  --------  ---------  ------------------\n",
      "MLP vs SVM    2.12195   0.0338418            0.203051\n",
      "MLP vs LR     2.01844   0.0435453            0.217726\n",
      "MLP vs Arbol  1.81142   0.0700755            0.280302\n",
      "MLP vs RF     0.983343  0.325438             0.976315\n",
      "MLP vs KNN    0.724569  0.468717             0.976315\n",
      "MLP vs ET     0.672814  0.501066             0.976315\n",
      "There is a significant difference between the models: MLP (mean: 0.637273, std: 0.076650) and SVM (mean: 0.527273, std: 0.128950) (Cohen's d=0.9837976411186047, Large)\n",
      "There is a significant difference between the models: MLP (mean: 0.637273, std: 0.076650) and LR (mean: 0.539091, std: 0.099424) (Cohen's d=1.0492637316733748, Large)\n",
      "There is a significant difference between the models: MLP (mean: 0.637273, std: 0.076650) and Arbol (mean: 0.505455, std: 0.242719) (Cohen's d=0.6948092834014169, Large)\n",
      "We can't say that there is a significant difference in the performance of the models: MLP (mean: 0.637273, std: 0.076650) and RF (mean: 0.605455, std: 0.125783) (Cohen's d=0.28981097476979106, Medium)\n",
      "We can't say that there is a significant difference in the performance of the models: MLP (mean: 0.637273, std: 0.076650) and KNN (mean: 0.638182, std: 0.127584) (Cohen's d=0.008194611083597857, Small)\n",
      "We can't say that there is a significant difference in the performance of the models: MLP (mean: 0.637273, std: 0.076650) and ET (mean: 0.616364, std: 0.103875) (Cohen's d=0.21730262640063575, Medium)\n",
      "Eta squared: 0.121934 (Large)\n"
     ]
    },
    {
     "data": {
      "image/png": "[encoded data removed]",
      "text/plain": [
       "<Figure size 432x288 with 1 Axes>"
      ]
     },
     "metadata": {
      "needs_background": "light"
     },
     "output_type": "display_data"
    }
   ],
   "source": [
    "compare_methods(X,Y,listAlgorithms,listParams,listNames,metric='accuracy')"
   ]
  }
 ],
 "metadata": {
  "colab": {
   "name": "CompareMethods.ipynb",
   "provenance": []
  },
  "kernelspec": {
   "display_name": "Python 3",
   "language": "python",
   "name": "python3"
  },
  "language_info": {
   "codemirror_mode": {
    "name": "ipython",
    "version": 3
   },
   "file_extension": ".py",
   "mimetype": "text/x-python",
   "name": "python",
   "nbconvert_exporter": "python",
   "pygments_lexer": "ipython3",
   "version": "3.6.7"
  }
 },
 "nbformat": 4,
 "nbformat_minor": 1
}
