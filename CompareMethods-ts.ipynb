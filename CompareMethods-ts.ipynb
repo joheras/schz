{
 "cells": [
  {
   "cell_type": "code",
   "execution_count": 1,
   "metadata": {
    "id": "9VdC2keIvxIJ"
   },
   "outputs": [],
   "source": [
    "import numpy as np\n",
    "from StatisticalAnalysis import compare_methods"
   ]
  },
  {
   "cell_type": "code",
   "execution_count": 2,
   "metadata": {
    "id": "3iCEO6wXtftF"
   },
   "outputs": [],
   "source": [
    "import warnings\n",
    "warnings.filterwarnings('ignore')"
   ]
  },
  {
   "cell_type": "markdown",
   "metadata": {
    "id": "Zb3btBk5vxIM"
   },
   "source": [
    "First we load the data and process it to have the correct form."
   ]
  },
  {
   "cell_type": "code",
   "execution_count": 3,
   "metadata": {
    "id": "StF6b56QvxIN"
   },
   "outputs": [],
   "source": [
    "ts_hc = np.load('ts_hc.npy')\n",
    "ts_schz = np.load('ts_schz.npy')"
   ]
  },
  {
   "cell_type": "code",
   "execution_count": 4,
   "metadata": {
    "id": "qd1nFcAfvxIO"
   },
   "outputs": [],
   "source": [
    "ts_hc = ts_hc.reshape(52,142*118)"
   ]
  },
  {
   "cell_type": "code",
   "execution_count": 5,
   "metadata": {
    "id": "fc006UE6vxIO"
   },
   "outputs": [],
   "source": [
    "ts_schz = ts_schz.reshape(50,142*118)"
   ]
  },
  {
   "cell_type": "code",
   "execution_count": 6,
   "metadata": {
    "id": "SEhdGg3IvxIP"
   },
   "outputs": [],
   "source": [
    "X = np.append(ts_hc,ts_schz,axis=0)"
   ]
  },
  {
   "cell_type": "code",
   "execution_count": 7,
   "metadata": {
    "colab": {
     "base_uri": "https://localhost:8080/"
    },
    "id": "8d-RFXoavxIQ",
    "outputId": "a61e1d34-79c6-4f1a-df1f-0b3a74b2c53d"
   },
   "outputs": [
    {
     "data": {
      "text/plain": [
       "(102, 16756)"
      ]
     },
     "execution_count": 7,
     "metadata": {},
     "output_type": "execute_result"
    }
   ],
   "source": [
    "X.shape"
   ]
  },
  {
   "cell_type": "code",
   "execution_count": 8,
   "metadata": {
    "colab": {
     "base_uri": "https://localhost:8080/"
    },
    "id": "hnaiAVUvJmgn",
    "outputId": "6cb5c264-f346-4b38-e85b-aa3b8bf8ace6"
   },
   "outputs": [
    {
     "data": {
      "text/plain": [
       "(16756,)"
      ]
     },
     "execution_count": 8,
     "metadata": {},
     "output_type": "execute_result"
    }
   ],
   "source": [
    "X[0].shape"
   ]
  },
  {
   "cell_type": "code",
   "execution_count": 9,
   "metadata": {
    "id": "5oh4k1gEvxIR"
   },
   "outputs": [],
   "source": [
    "Y = np.append(np.zeros(52),np.ones(50),axis=0)"
   ]
  },
  {
   "cell_type": "code",
   "execution_count": 10,
   "metadata": {
    "colab": {
     "base_uri": "https://localhost:8080/"
    },
    "id": "PZuBWU5LvxIR",
    "outputId": "21a0987a-b533-41fc-bea5-9f94b3246a66",
    "scrolled": true
   },
   "outputs": [
    {
     "data": {
      "text/plain": [
       "(102,)"
      ]
     },
     "execution_count": 10,
     "metadata": {},
     "output_type": "execute_result"
    }
   ],
   "source": [
    "Y.shape"
   ]
  },
  {
   "cell_type": "markdown",
   "metadata": {
    "id": "w2w8w0VjvxIS"
   },
   "source": [
    "Now, we define the algorithms that we are going to use. "
   ]
  },
  {
   "cell_type": "code",
   "execution_count": 11,
   "metadata": {
    "id": "MEPfV3efvxIS"
   },
   "outputs": [],
   "source": [
    "from sklearn.tree import DecisionTreeClassifier\n",
    "from sklearn.neighbors import KNeighborsClassifier\n",
    "from sklearn.linear_model import LogisticRegression\n",
    "from sklearn.svm import SVC\n",
    "from sklearn.neural_network import MLPClassifier\n",
    "from sklearn.ensemble import ExtraTreesClassifier\n",
    "from sklearn.ensemble import GradientBoostingClassifier\n",
    "from sklearn.ensemble import RandomForestClassifier\n",
    "from sklearn.ensemble import AdaBoostClassifier\n",
    "from scipy.stats import randint as sp_randint"
   ]
  },
  {
   "cell_type": "code",
   "execution_count": 12,
   "metadata": {
    "id": "YwnPEwswvxIU"
   },
   "outputs": [],
   "source": [
    "# Decision tree\n",
    "clfTree = DecisionTreeClassifier(random_state=84)\n",
    "param_distTree = {\"min_samples_split\": sp_randint(3, 30)}\n",
    "# SVM\n",
    "clfSVC = SVC(random_state=84)\n",
    "param_distSVC = {'C': [1, 10, 100, 1000], 'gamma': [0.001, 0.0001],'kernel': ['rbf'], 'class_weight':['balanced', None]}\n",
    "# KNN\n",
    "clfKNN = KNeighborsClassifier()\n",
    "param_distKNN = {'n_neighbors':sp_randint(3, 30)}\n",
    "# Logistic regression\n",
    "clfLR = LogisticRegression(random_state=84)\n",
    "param_distLR = {'C': [0.1,0.5,1, 10, 100, 1000]}\n",
    "# Neural Network\n",
    "clfMLP = MLPClassifier(random_state=84)\n",
    "param_distMLP = {'activation': ['identity', 'logistic', 'tanh', 'relu'], 'solver': ['lbfgs', 'sgd', 'adam'],\n",
    "                 'alpha': sp_randint(0.0001, 1), 'learning_rate': ['constant', 'invscaling', 'adaptive'],\n",
    "                 'hidden_layer_sizes': [(5,2), (3,3,3), (5,3,2), (5,4,3,2)],\n",
    "                 'momentum': [0.9, 0.95, 0.99]}\n",
    "# RandomForest\n",
    "clfRF = RandomForestClassifier(random_state=84)\n",
    "param_distRF =  {'n_estimators': [int(x) for x in np.linspace(start = 200, stop = 2000, num = 10)], 'max_features': ['auto', 'sqrt'],'max_depth': [int(x) for x in np.linspace(10, 110, num = 11)],\n",
    "                 'min_samples_split': [2, 5, 10],'min_samples_leaf': [1, 2, 4],\n",
    "                 'bootstrap': [True, False]}\n",
    "# ExtraTreesClassifier\n",
    "clfET = ExtraTreesClassifier(random_state=84)\n",
    "param_distET =  {'n_estimators': [int(x) for x in np.linspace(start = 200, stop = 2000, num = 10)], 'max_features': ['auto', 'sqrt'],'max_depth': [int(x) for x in np.linspace(10, 110, num = 11)],\n",
    "                 'min_samples_split': [2, 5, 10],'min_samples_leaf': [1, 2, 4],\n",
    "                 'bootstrap': [True, False]}"
   ]
  },
  {
   "cell_type": "code",
   "execution_count": 13,
   "metadata": {
    "id": "GGQcPxBOvxIV"
   },
   "outputs": [],
   "source": [
    "listAlgorithms = [clfTree,clfSVC,clfKNN,clfLR,clfMLP,clfRF,clfET]"
   ]
  },
  {
   "cell_type": "code",
   "execution_count": 14,
   "metadata": {
    "id": "8Nl-1GpjvxIV"
   },
   "outputs": [],
   "source": [
    "listParams = [param_distTree,param_distSVC,param_distKNN,param_distLR,param_distMLP,param_distRF, param_distET]"
   ]
  },
  {
   "cell_type": "code",
   "execution_count": 15,
   "metadata": {
    "id": "IK_8iIWovxIV"
   },
   "outputs": [],
   "source": [
    "listNames = [\"Arbol\", \"SVM\", \"KNN\", \"LR\", \"MLP\",\"RF\",\"ET\"]"
   ]
  },
  {
   "cell_type": "markdown",
   "metadata": {},
   "source": [
    "# Plain comparison"
   ]
  },
  {
   "cell_type": "code",
   "execution_count": 16,
   "metadata": {
    "id": "LSSesjlBvxIV"
   },
   "outputs": [
    {
     "name": "stdout",
     "output_type": "stream",
     "text": [
      "temp.csv\n",
      "['Arbol' 'SVM' 'KNN' 'LR' 'MLP' 'RF' 'ET']\n",
      "==========================================================\n",
      "Report\n",
      "==========================================================\n",
      "**********************************************************\n",
      "Mean and std\n",
      "**********************************************************\n",
      "Arbol: 0.567857 (0.190531)\n",
      "SVM: 0.731964 (0.105599)\n",
      "KNN: 0.700417 (0.080373)\n",
      "LR: 0.688750 (0.143604)\n",
      "MLP: 0.635179 (0.163971)\n",
      "RF: 0.631905 (0.105488)\n",
      "ET: 0.682679 (0.075463)\n",
      "**********************************************************\n",
      "Statistical tests\n",
      "**********************************************************\n",
      "----------------------------------------------------------\n",
      "Checking parametric conditions \n",
      "----------------------------------------------------------\n",
      "Checking independence \n",
      "Ok\n",
      "Checking normality using Shapiro-Wilk's test for normality, alpha=0.05\n",
      "W: 0.957773, p:0.018892\n",
      "The null hypothesis (normality) is rejected\n",
      "Checking heteroscedasticity using Levene's test, alpha=0.05\n",
      "W: 1.794373, p:0.114611\n",
      "The null hypothesis (heteroscedasticity) is rejected\n",
      "Conditions for a parametric test are not fulfilled, applying a non-parametric test\n",
      "----------------------------------------------------------\n",
      "Working with more than 2 algorithms\n",
      "----------------------------------------------------------\n",
      "----------------------------------------------------------\n",
      "Applying Friedman test\n",
      "----------------------------------------------------------\n",
      "F-value: 1.923277, p-value: 0.09362025878677782\n",
      "Null hypothesis is rejected; hence, models have different performance\n",
      "Technique      Ranking\n",
      "-----------  ---------\n",
      "SVM               5.5\n",
      "ET                4.45\n",
      "LR                4.35\n",
      "KNN               4.3\n",
      "Arbol             3.2\n",
      "MLP               3.15\n",
      "RF                3.05\n",
      "Winner model: SVM\n",
      "----------------------------------------------------------\n",
      "Applying Holm p-value adjustment procedure and analysing effect size\n",
      "----------------------------------------------------------\n",
      "Comparison      Zvalue    p-value    adjusted p-value\n",
      "------------  --------  ---------  ------------------\n",
      "SVM vs RF      2.53599  0.011213            0.0672778\n",
      "SVM vs MLP     2.43248  0.0149958           0.0749789\n",
      "SVM vs Arbol   2.38073  0.0172786           0.0749789\n",
      "SVM vs KNN     1.24212  0.214193            0.642579\n",
      "SVM vs LR      1.19036  0.233904            0.642579\n",
      "SVM vs ET      1.08685  0.277102            0.642579\n",
      "There is a significant difference between the models: SVM (mean: 0.731964, std: 0.105599) and RF (mean: 0.631905, std: 0.105488) (Cohen's d=0.8993903375360939, Large)\n",
      "There is a significant difference between the models: SVM (mean: 0.731964, std: 0.105599) and MLP (mean: 0.635179, std: 0.163971) (Cohen's d=0.665795106726764, Large)\n",
      "There is a significant difference between the models: SVM (mean: 0.731964, std: 0.105599) and Arbol (mean: 0.567857, std: 0.190531) (Cohen's d=1.010720675066559, Large)\n",
      "We can't say that there is a significant difference in the performance of the models: SVM (mean: 0.731964, std: 0.105599) and KNN (mean: 0.700417, std: 0.080373) (Cohen's d=0.3189428491128898, Medium)\n",
      "We can't say that there is a significant difference in the performance of the models: SVM (mean: 0.731964, std: 0.105599) and LR (mean: 0.688750, std: 0.143604) (Cohen's d=0.32526216496975846, Medium)\n",
      "We can't say that there is a significant difference in the performance of the models: SVM (mean: 0.731964, std: 0.105599) and ET (mean: 0.682679, std: 0.075463) (Cohen's d=0.5094631697183565, Large)\n",
      "Eta squared: 0.132108 (Large)\n"
     ]
    },
    {
     "data": {
      "image/png": "[encoded data removed]",
      "text/plain": [
       "<Figure size 432x288 with 1 Axes>"
      ]
     },
     "metadata": {
      "needs_background": "light"
     },
     "output_type": "display_data"
    }
   ],
   "source": [
    "compare_methods(X,Y,listAlgorithms,listParams,listNames,metric='auroc')"
   ]
  },
  {
   "cell_type": "markdown",
   "metadata": {
    "id": "9RmrYzBMOAXv"
   },
   "source": [
    "# PCA with 2 components"
   ]
  },
  {
   "cell_type": "code",
   "execution_count": 17,
   "metadata": {
    "id": "Sjjc5WXGvxIX"
   },
   "outputs": [],
   "source": [
    "from sklearn.decomposition import PCA"
   ]
  },
  {
   "cell_type": "code",
   "execution_count": 18,
   "metadata": {
    "id": "edHm_G34N87W"
   },
   "outputs": [],
   "source": [
    "pca = PCA(n_components=2)"
   ]
  },
  {
   "cell_type": "code",
   "execution_count": 19,
   "metadata": {
    "id": "H4lw_jzBODCv"
   },
   "outputs": [
    {
     "data": {
      "text/plain": [
       "PCA(n_components=2)"
      ]
     },
     "execution_count": 19,
     "metadata": {},
     "output_type": "execute_result"
    }
   ],
   "source": [
    "pca.fit(X)"
   ]
  },
  {
   "cell_type": "code",
   "execution_count": 20,
   "metadata": {
    "id": "ImTFoLrKOFHZ"
   },
   "outputs": [],
   "source": [
    "X_pca2 = pca.transform(X)"
   ]
  },
  {
   "cell_type": "code",
   "execution_count": 21,
   "metadata": {
    "id": "5nt7OQ61JuKG"
   },
   "outputs": [
    {
     "data": {
      "text/plain": [
       "(102, 2)"
      ]
     },
     "execution_count": 21,
     "metadata": {},
     "output_type": "execute_result"
    }
   ],
   "source": [
    "X_pca2.shape"
   ]
  },
  {
   "cell_type": "code",
   "execution_count": 22,
   "metadata": {
    "id": "KyVbCZLpOInH"
   },
   "outputs": [
    {
     "name": "stdout",
     "output_type": "stream",
     "text": [
      "temp.csv\n",
      "['Arbol' 'SVM' 'KNN' 'LR' 'MLP' 'RF' 'ET']\n",
      "==========================================================\n",
      "Report\n",
      "==========================================================\n",
      "**********************************************************\n",
      "Mean and std\n",
      "**********************************************************\n",
      "Arbol: 0.646190 (0.105462)\n",
      "SVM: 0.626488 (0.164797)\n",
      "KNN: 0.668155 (0.187567)\n",
      "LR: 0.551012 (0.203379)\n",
      "MLP: 0.485298 (0.158442)\n",
      "RF: 0.660476 (0.133606)\n",
      "ET: 0.688512 (0.147907)\n",
      "**********************************************************\n",
      "Statistical tests\n",
      "**********************************************************\n",
      "----------------------------------------------------------\n",
      "Checking parametric conditions \n",
      "----------------------------------------------------------\n",
      "Checking independence \n",
      "Ok\n",
      "Checking normality using Shapiro-Wilk's test for normality, alpha=0.05\n",
      "W: 0.987991, p:0.744469\n",
      "The null hypothesis (normality) is accepted\n",
      "Checking heteroscedasticity using Levene's test, alpha=0.05\n",
      "W: 0.804014, p:0.570565\n",
      "The null hypothesis (heteroscedasticity) is accepted\n",
      "Conditions for a parametric test are fulfilled\n",
      "----------------------------------------------------------\n",
      "Working with more than 2 algorithms\n",
      "----------------------------------------------------------\n",
      "----------------------------------------------------------\n",
      "Applying ANOVA test\n",
      "----------------------------------------------------------\n",
      "F-value: 1.885190, p-value: 0.0972476480537483\n",
      "Null hypothesis is rejected; hence, models have different performance\n",
      "----------------------------------------------------------\n",
      "Applying Bonferroni-Dunn post-hoc and analysing effect size\n",
      "----------------------------------------------------------\n",
      "Comparison      Zvalue     p-value    adjusted p-value\n",
      "------------  --------  ----------  ------------------\n",
      "MLP vs ET     2.69085   0.00455727           0.0957026\n",
      "KNN vs MLP    2.42129   0.00917879           0.192755\n",
      "MLP vs RF     2.31961   0.0118081            0.24797\n",
      "Arbol vs MLP  2.13045   0.0185226            0.388975\n",
      "SVM vs MLP    1.86956   0.0330967            0.69503\n",
      "LR vs ET      1.8207    0.0367015            0.770731\n",
      "KNN vs LR     1.55114   0.062939             1\n",
      "LR vs RF      1.44946   0.0760841            1\n",
      "Arbol vs LR   1.2603    0.106105             1\n",
      "SVM vs LR     0.999412  0.160709             1\n",
      "LR vs MLP     0.870151  0.193761             1\n",
      "SVM vs ET     0.821284  0.207291             1\n",
      "Arbol vs ET   0.560396  0.288598             1\n",
      "SVM vs KNN    0.551726  0.291544             1\n",
      "SVM vs RF     0.450051  0.327109             1\n",
      "RF vs ET      0.371233  0.355855             1\n",
      "Arbol vs KNN  0.290838  0.386065             1\n",
      "KNN vs ET     0.269558  0.394191             1\n",
      "Arbol vs SVM  0.260888  0.397515             1\n",
      "Arbol vs RF   0.189163  0.425287             1\n",
      "KNN vs RF     0.101675  0.459669             1\n",
      "There is a significant difference between the models: MLP (mean: 0.485298, std: 0.158442) and ET (mean: 0.688512, std: 0.147907) (Cohen's d=1.2578626304540488, Large)\n",
      "There is a significant difference between the models: KNN (mean: 0.668155, std: 0.187567) and MLP (mean: 0.485298, std: 0.158442) (Cohen's d=0.9991775943972804, Large)\n",
      "There is a significant difference between the models: MLP (mean: 0.485298, std: 0.158442) and RF (mean: 0.660476, std: 0.133606) (Cohen's d=1.1340020759673193, Large)\n",
      "There is a significant difference between the models: Arbol (mean: 0.646190, std: 0.105462) and MLP (mean: 0.485298, std: 0.158442) (Cohen's d=1.134131142975639, Large)\n",
      "We can't say that there is a significant difference in the performance of the models: SVM (mean: 0.626488, std: 0.164797) and MLP (mean: 0.485298, std: 0.158442) (Cohen's d=0.828607672051207, Large)\n",
      "We can't say that there is a significant difference in the performance of the models: LR (mean: 0.551012, std: 0.203379) and ET (mean: 0.688512, std: 0.147907) (Cohen's d=0.7335748381340736, Large)\n",
      "We can't say that there is a significant difference in the performance of the models: KNN (mean: 0.668155, std: 0.187567) and LR (mean: 0.551012, std: 0.203379) (Cohen's d=0.568060516164977, Large)\n",
      "We can't say that there is a significant difference in the performance of the models: LR (mean: 0.551012, std: 0.203379) and RF (mean: 0.660476, std: 0.133606) (Cohen's d=0.6035280598234622, Large)\n",
      "We can't say that there is a significant difference in the performance of the models: Arbol (mean: 0.646190, std: 0.105462) and LR (mean: 0.551012, std: 0.203379) (Cohen's d=0.557386426366514, Large)\n",
      "We can't say that there is a significant difference in the performance of the models: SVM (mean: 0.626488, std: 0.164797) and LR (mean: 0.551012, std: 0.203379) (Cohen's d=0.3868416856055012, Medium)\n",
      "We can't say that there is a significant difference in the performance of the models: LR (mean: 0.551012, std: 0.203379) and MLP (mean: 0.485298, std: 0.158442) (Cohen's d=0.3419741543830196, Medium)\n",
      "We can't say that there is a significant difference in the performance of the models: SVM (mean: 0.626488, std: 0.164797) and ET (mean: 0.688512, std: 0.147907) (Cohen's d=0.3757883944458703, Medium)\n",
      "We can't say that there is a significant difference in the performance of the models: Arbol (mean: 0.646190, std: 0.105462) and ET (mean: 0.688512, std: 0.147907) (Cohen's d=0.3125710926780774, Medium)\n",
      "We can't say that there is a significant difference in the performance of the models: SVM (mean: 0.626488, std: 0.164797) and KNN (mean: 0.668155, std: 0.187567) (Cohen's d=0.22389414796734824, Medium)\n",
      "We can't say that there is a significant difference in the performance of the models: SVM (mean: 0.626488, std: 0.164797) and RF (mean: 0.660476, std: 0.133606) (Cohen's d=0.21493869784055875, Medium)\n",
      "We can't say that there is a significant difference in the performance of the models: RF (mean: 0.660476, std: 0.133606) and ET (mean: 0.688512, std: 0.147907) (Cohen's d=0.1887144084961938, Small)\n",
      "We can't say that there is a significant difference in the performance of the models: Arbol (mean: 0.646190, std: 0.105462) and KNN (mean: 0.668155, std: 0.187567) (Cohen's d=0.13694482023048002, Small)\n",
      "We can't say that there is a significant difference in the performance of the models: KNN (mean: 0.668155, std: 0.187567) and ET (mean: 0.688512, std: 0.147907) (Cohen's d=0.11433919416389236, Small)\n",
      "We can't say that there is a significant difference in the performance of the models: Arbol (mean: 0.646190, std: 0.105462) and SVM (mean: 0.626488, std: 0.164797) (Cohen's d=0.13510361012555308, Small)\n",
      "We can't say that there is a significant difference in the performance of the models: Arbol (mean: 0.646190, std: 0.105462) and RF (mean: 0.660476, std: 0.133606) (Cohen's d=0.11260129325647733, Small)\n",
      "We can't say that there is a significant difference in the performance of the models: KNN (mean: 0.668155, std: 0.187567) and RF (mean: 0.660476, std: 0.133606) (Cohen's d=0.04473499847223746, Small)\n",
      "Eta squared: 0.152213 (Large)\n"
     ]
    },
    {
     "data": {
      "image/png": "[encoded data removed]",
      "text/plain": [
       "<Figure size 432x288 with 1 Axes>"
      ]
     },
     "metadata": {
      "needs_background": "light"
     },
     "output_type": "display_data"
    }
   ],
   "source": [
    "compare_methods(X_pca2,Y,listAlgorithms,listParams,listNames,metric='auroc')"
   ]
  },
  {
   "cell_type": "markdown",
   "metadata": {
    "id": "4_aNOwHHORLf"
   },
   "source": [
    "# PCA with 10 components"
   ]
  },
  {
   "cell_type": "code",
   "execution_count": 23,
   "metadata": {
    "id": "XoW_W87nONDr"
   },
   "outputs": [],
   "source": [
    "pca = PCA(n_components=10)"
   ]
  },
  {
   "cell_type": "code",
   "execution_count": 24,
   "metadata": {
    "id": "D6xAEHgfOXqw"
   },
   "outputs": [
    {
     "data": {
      "text/plain": [
       "PCA(n_components=10)"
      ]
     },
     "execution_count": 24,
     "metadata": {},
     "output_type": "execute_result"
    }
   ],
   "source": [
    "pca.fit(X)"
   ]
  },
  {
   "cell_type": "code",
   "execution_count": 25,
   "metadata": {
    "id": "UsP9oOY0OYu2"
   },
   "outputs": [],
   "source": [
    "X_pca10 = pca.transform(X)"
   ]
  },
  {
   "cell_type": "code",
   "execution_count": 26,
   "metadata": {
    "id": "GJl8Qwv_OgCN"
   },
   "outputs": [],
   "source": [
    "!mv temp.csv temppca2.csv"
   ]
  },
  {
   "cell_type": "code",
   "execution_count": 27,
   "metadata": {
    "id": "fQo9oAaWObE9"
   },
   "outputs": [
    {
     "name": "stdout",
     "output_type": "stream",
     "text": [
      "temp.csv\n",
      "['Arbol' 'SVM' 'KNN' 'LR' 'MLP' 'RF' 'ET']\n",
      "==========================================================\n",
      "Report\n",
      "==========================================================\n",
      "**********************************************************\n",
      "Mean and std\n",
      "**********************************************************\n",
      "Arbol: 0.683869 (0.191571)\n",
      "SVM: 0.658810 (0.117937)\n",
      "KNN: 0.609405 (0.153158)\n",
      "LR: 0.704524 (0.095990)\n",
      "MLP: 0.553036 (0.153642)\n",
      "RF: 0.616548 (0.174698)\n",
      "ET: 0.562679 (0.126478)\n",
      "**********************************************************\n",
      "Statistical tests\n",
      "**********************************************************\n",
      "----------------------------------------------------------\n",
      "Checking parametric conditions \n",
      "----------------------------------------------------------\n",
      "Checking independence \n",
      "Ok\n",
      "Checking normality using Shapiro-Wilk's test for normality, alpha=0.05\n",
      "W: 0.985671, p:0.607615\n",
      "The null hypothesis (normality) is accepted\n",
      "Checking heteroscedasticity using Levene's test, alpha=0.05\n",
      "W: 0.733594, p:0.624386\n",
      "The null hypothesis (heteroscedasticity) is accepted\n",
      "Conditions for a parametric test are fulfilled\n",
      "----------------------------------------------------------\n",
      "Working with more than 2 algorithms\n",
      "----------------------------------------------------------\n",
      "----------------------------------------------------------\n",
      "Applying ANOVA test\n",
      "----------------------------------------------------------\n",
      "F-value: 1.388302, p-value: 0.23326755280400746\n",
      "Null hypothesis is rejected; hence, models have different performance\n",
      "----------------------------------------------------------\n",
      "Applying Bonferroni-Dunn post-hoc and analysing effect size\n",
      "----------------------------------------------------------\n",
      "Comparison      Zvalue    p-value    adjusted p-value\n",
      "------------  --------  ---------  ------------------\n",
      "LR vs MLP     2.17079   0.0168612            0.354086\n",
      "LR vs ET      2.03261   0.0231558            0.486272\n",
      "Arbol vs MLP  1.87481   0.0327277            0.687281\n",
      "Arbol vs ET   1.73663   0.0436697            0.917064\n",
      "SVM vs MLP    1.51572   0.0672964            1\n",
      "SVM vs ET     1.37754   0.0866103            1\n",
      "KNN vs LR     1.36304   0.0888615            1\n",
      "LR vs RF      1.26068   0.106037             1\n",
      "Arbol vs KNN  1.06706   0.145009             1\n",
      "Arbol vs RF   0.964702  0.169191             1\n",
      "MLP vs RF     0.910112  0.183116             1\n",
      "KNN vs MLP    0.807757  0.211135             1\n",
      "RF vs ET      0.771932  0.22152              1\n",
      "SVM vs KNN    0.70796   0.240791             1\n",
      "KNN vs ET     0.669577  0.252787             1\n",
      "SVM vs LR     0.655076  0.257402             1\n",
      "SVM vs RF     0.605604  0.273477             1\n",
      "Arbol vs SVM  0.359098  0.360361             1\n",
      "Arbol vs LR   0.295978  0.38411              1\n",
      "MLP vs ET     0.13818   0.445269             1\n",
      "KNN vs RF     0.102356  0.4594               1\n",
      "There is a significant difference between the models: LR (mean: 0.704524, std: 0.095990) and MLP (mean: 0.553036, std: 0.153642) (Cohen's d=1.121879021566002, Large)\n",
      "There is a significant difference between the models: LR (mean: 0.704524, std: 0.095990) and ET (mean: 0.562679, std: 0.126478) (Cohen's d=1.198558570833797, Large)\n",
      "We can't say that there is a significant difference in the performance of the models: Arbol (mean: 0.683869, std: 0.191571) and MLP (mean: 0.553036, std: 0.153642) (Cohen's d=0.7147863958948185, Large)\n",
      "We can't say that there is a significant difference in the performance of the models: Arbol (mean: 0.683869, std: 0.191571) and ET (mean: 0.562679, std: 0.126478) (Cohen's d=0.7082966296309237, Large)\n",
      "We can't say that there is a significant difference in the performance of the models: SVM (mean: 0.658810, std: 0.117937) and MLP (mean: 0.553036, std: 0.153642) (Cohen's d=0.7326755338627149, Large)\n",
      "We can't say that there is a significant difference in the performance of the models: SVM (mean: 0.658810, std: 0.117937) and ET (mean: 0.562679, std: 0.126478) (Cohen's d=0.7457996867725466, Large)\n",
      "We can't say that there is a significant difference in the performance of the models: KNN (mean: 0.609405, std: 0.153158) and LR (mean: 0.704524, std: 0.095990) (Cohen's d=0.7060252750633498, Large)\n",
      "We can't say that there is a significant difference in the performance of the models: LR (mean: 0.704524, std: 0.095990) and RF (mean: 0.616548, std: 0.174698) (Cohen's d=0.5921392197402433, Large)\n",
      "We can't say that there is a significant difference in the performance of the models: Arbol (mean: 0.683869, std: 0.191571) and KNN (mean: 0.609405, std: 0.153158) (Cohen's d=0.4073254413013323, Medium)\n",
      "We can't say that there is a significant difference in the performance of the models: Arbol (mean: 0.683869, std: 0.191571) and RF (mean: 0.616548, std: 0.174698) (Cohen's d=0.348372483572728, Medium)\n",
      "We can't say that there is a significant difference in the performance of the models: MLP (mean: 0.553036, std: 0.153642) and RF (mean: 0.616548, std: 0.174698) (Cohen's d=0.36626170402062846, Medium)\n",
      "We can't say that there is a significant difference in the performance of the models: KNN (mean: 0.609405, std: 0.153158) and MLP (mean: 0.553036, std: 0.153642) (Cohen's d=0.34860699864605543, Medium)\n",
      "We can't say that there is a significant difference in the performance of the models: RF (mean: 0.616548, std: 0.174698) and ET (mean: 0.562679, std: 0.126478) (Cohen's d=0.33510019512477607, Medium)\n",
      "We can't say that there is a significant difference in the performance of the models: SVM (mean: 0.658810, std: 0.117937) and KNN (mean: 0.609405, std: 0.153158) (Cohen's d=0.3428972777617111, Medium)\n",
      "We can't say that there is a significant difference in the performance of the models: KNN (mean: 0.609405, std: 0.153158) and ET (mean: 0.562679, std: 0.126478) (Cohen's d=0.3156105388226312, Medium)\n",
      "We can't say that there is a significant difference in the performance of the models: SVM (mean: 0.658810, std: 0.117937) and LR (mean: 0.704524, std: 0.095990) (Cohen's d=0.4033338029748435, Medium)\n",
      "We can't say that there is a significant difference in the performance of the models: SVM (mean: 0.658810, std: 0.117937) and RF (mean: 0.616548, std: 0.174698) (Cohen's d=0.2690014555295515, Medium)\n",
      "We can't say that there is a significant difference in the performance of the models: Arbol (mean: 0.683869, std: 0.191571) and SVM (mean: 0.658810, std: 0.117937) (Cohen's d=0.14945016266193, Small)\n",
      "We can't say that there is a significant difference in the performance of the models: Arbol (mean: 0.683869, std: 0.191571) and LR (mean: 0.704524, std: 0.095990) (Cohen's d=0.12932598563351075, Small)\n",
      "We can't say that there is a significant difference in the performance of the models: MLP (mean: 0.553036, std: 0.153642) and ET (mean: 0.562679, std: 0.126478) (Cohen's d=0.06501007637803449, Small)\n",
      "We can't say that there is a significant difference in the performance of the models: KNN (mean: 0.609405, std: 0.153158) and RF (mean: 0.616548, std: 0.174698) (Cohen's d=0.04124822080603531, Small)\n",
      "Eta squared: 0.116779 (Large)\n"
     ]
    },
    {
     "data": {
      "image/png": "[encoded data removed]",
      "text/plain": [
       "<Figure size 432x288 with 1 Axes>"
      ]
     },
     "metadata": {
      "needs_background": "light"
     },
     "output_type": "display_data"
    }
   ],
   "source": [
    "compare_methods(X_pca10,Y,listAlgorithms,listParams,listNames,metric='auroc')"
   ]
  },
  {
   "cell_type": "code",
   "execution_count": 28,
   "metadata": {
    "id": "uUqwDOQLOjtd"
   },
   "outputs": [],
   "source": [
    "!mv temp.csv temppca10.csv"
   ]
  },
  {
   "cell_type": "markdown",
   "metadata": {
    "id": "7wgUs9MrOuQE"
   },
   "source": [
    "# PCA with 100 components"
   ]
  },
  {
   "cell_type": "code",
   "execution_count": 29,
   "metadata": {
    "id": "Ef54_v0COuQF"
   },
   "outputs": [],
   "source": [
    "pca = PCA(n_components=100)"
   ]
  },
  {
   "cell_type": "code",
   "execution_count": 30,
   "metadata": {
    "id": "ejF2FGo0OuQG"
   },
   "outputs": [
    {
     "data": {
      "text/plain": [
       "PCA(n_components=100)"
      ]
     },
     "execution_count": 30,
     "metadata": {},
     "output_type": "execute_result"
    }
   ],
   "source": [
    "pca.fit(X)"
   ]
  },
  {
   "cell_type": "code",
   "execution_count": 31,
   "metadata": {
    "id": "AAI4QlOZOuQG"
   },
   "outputs": [],
   "source": [
    "X_pca100 = pca.transform(X)"
   ]
  },
  {
   "cell_type": "code",
   "execution_count": 32,
   "metadata": {
    "id": "JVbgf7IdOuQH"
   },
   "outputs": [
    {
     "name": "stdout",
     "output_type": "stream",
     "text": [
      "temp.csv\n",
      "['Arbol' 'SVM' 'KNN' 'LR' 'MLP' 'RF' 'ET']\n",
      "==========================================================\n",
      "Report\n",
      "==========================================================\n",
      "**********************************************************\n",
      "Mean and std\n",
      "**********************************************************\n",
      "Arbol: 0.494345 (0.188318)\n",
      "SVM: 0.731964 (0.105599)\n",
      "KNN: 0.709940 (0.088291)\n",
      "LR: 0.710000 (0.137790)\n",
      "MLP: 0.512857 (0.154670)\n",
      "RF: 0.603393 (0.184920)\n",
      "ET: 0.543155 (0.163670)\n",
      "**********************************************************\n",
      "Statistical tests\n",
      "**********************************************************\n",
      "----------------------------------------------------------\n",
      "Checking parametric conditions \n",
      "----------------------------------------------------------\n",
      "Checking independence \n",
      "Ok\n",
      "Checking normality using Shapiro-Wilk's test for normality, alpha=0.05\n",
      "W: 0.948293, p:0.005908\n",
      "The null hypothesis (normality) is rejected\n",
      "Checking heteroscedasticity using Levene's test, alpha=0.05\n",
      "W: 1.014641, p:0.424025\n",
      "The null hypothesis (heteroscedasticity) is rejected\n",
      "Conditions for a parametric test are not fulfilled, applying a non-parametric test\n",
      "----------------------------------------------------------\n",
      "Working with more than 2 algorithms\n",
      "----------------------------------------------------------\n",
      "----------------------------------------------------------\n",
      "Applying Friedman test\n",
      "----------------------------------------------------------\n",
      "F-value: 4.006452, p-value: 0.002173916243950913\n",
      "Null hypothesis is rejected; hence, models have different performance\n",
      "Technique      Ranking\n",
      "-----------  ---------\n",
      "SVM               5.5\n",
      "LR                5.4\n",
      "KNN               4.65\n",
      "RF                3.8\n",
      "ET                3.2\n",
      "Arbol             2.9\n",
      "MLP               2.55\n",
      "Winner model: SVM\n",
      "----------------------------------------------------------\n",
      "Applying Holm p-value adjustment procedure and analysing effect size\n",
      "----------------------------------------------------------\n",
      "Comparison      Zvalue     p-value    adjusted p-value\n",
      "------------  --------  ----------  ------------------\n",
      "SVM vs MLP    3.05354   0.00226158           0.0135695\n",
      "SVM vs Arbol  2.69126   0.00711836           0.0355918\n",
      "SVM vs ET     2.38073   0.0172786            0.0691142\n",
      "SVM vs RF     1.75967   0.0784643            0.235393\n",
      "SVM vs KNN    0.879834  0.378949             0.757899\n",
      "SVM vs LR     0.10351   0.917558             0.917558\n",
      "There is a significant difference between the models: SVM (mean: 0.731964, std: 0.105599) and MLP (mean: 0.512857, std: 0.154670) (Cohen's d=1.5696403562907653, Large)\n",
      "There is a significant difference between the models: SVM (mean: 0.731964, std: 0.105599) and Arbol (mean: 0.494345, std: 0.188318) (Cohen's d=1.4765783660408196, Large)\n",
      "There is a significant difference between the models: SVM (mean: 0.731964, std: 0.105599) and ET (mean: 0.543155, std: 0.163670) (Cohen's d=1.3005203617614638, Large)\n",
      "There is a significant difference between the models: SVM (mean: 0.731964, std: 0.105599) and RF (mean: 0.603393, std: 0.184920) (Cohen's d=0.8100442372174324, Large)\n",
      "We can't say that there is a significant difference in the performance of the models: SVM (mean: 0.731964, std: 0.105599) and KNN (mean: 0.709940, std: 0.088291) (Cohen's d=0.21466682611901883, Medium)\n",
      "We can't say that there is a significant difference in the performance of the models: SVM (mean: 0.731964, std: 0.105599) and LR (mean: 0.710000, std: 0.137790) (Cohen's d=0.16974677731309995, Small)\n",
      "Eta squared: 0.281452 (Large)\n"
     ]
    },
    {
     "data": {
      "image/png": "[encoded data removed]",
      "text/plain": [
       "<Figure size 432x288 with 1 Axes>"
      ]
     },
     "metadata": {
      "needs_background": "light"
     },
     "output_type": "display_data"
    }
   ],
   "source": [
    "compare_methods(X_pca100,Y,listAlgorithms,listParams,listNames,metric='auroc')"
   ]
  },
  {
   "cell_type": "code",
   "execution_count": 33,
   "metadata": {
    "id": "DNplq4INOuQI"
   },
   "outputs": [],
   "source": [
    "!mv temp.csv temppca100.csv"
   ]
  },
  {
   "cell_type": "markdown",
   "metadata": {
    "id": "B9xyvRUBJ4Yg"
   },
   "source": [
    "# TSNE with 2 components"
   ]
  },
  {
   "cell_type": "code",
   "execution_count": 34,
   "metadata": {
    "id": "cgeSd7wqJ4MA"
   },
   "outputs": [],
   "source": [
    "from sklearn.manifold import TSNE"
   ]
  },
  {
   "cell_type": "code",
   "execution_count": 35,
   "metadata": {
    "id": "VqpY0-F7JWkP"
   },
   "outputs": [],
   "source": [
    "Xtsne2 = TSNE(n_components=2).fit_transform(X)"
   ]
  },
  {
   "cell_type": "code",
   "execution_count": 36,
   "metadata": {
    "id": "JLGsE9ymKGAf"
   },
   "outputs": [
    {
     "name": "stdout",
     "output_type": "stream",
     "text": [
      "temp.csv\n",
      "['Arbol' 'SVM' 'KNN' 'LR' 'MLP' 'RF' 'ET']\n",
      "==========================================================\n",
      "Report\n",
      "==========================================================\n",
      "**********************************************************\n",
      "Mean and std\n",
      "**********************************************************\n",
      "Arbol: 0.468988 (0.190221)\n",
      "SVM: 0.575655 (0.100517)\n",
      "KNN: 0.527321 (0.093603)\n",
      "LR: 0.462321 (0.080926)\n",
      "MLP: 0.445119 (0.094505)\n",
      "RF: 0.493690 (0.121227)\n",
      "ET: 0.562738 (0.152469)\n",
      "**********************************************************\n",
      "Statistical tests\n",
      "**********************************************************\n",
      "----------------------------------------------------------\n",
      "Checking parametric conditions \n",
      "----------------------------------------------------------\n",
      "Checking independence \n",
      "Ok\n",
      "Checking normality using Shapiro-Wilk's test for normality, alpha=0.05\n",
      "W: 0.954142, p:0.012018\n",
      "The null hypothesis (normality) is rejected\n",
      "Checking heteroscedasticity using Levene's test, alpha=0.05\n",
      "W: 1.343012, p:0.251689\n",
      "The null hypothesis (heteroscedasticity) is rejected\n",
      "Conditions for a parametric test are not fulfilled, applying a non-parametric test\n",
      "----------------------------------------------------------\n",
      "Working with more than 2 algorithms\n",
      "----------------------------------------------------------\n",
      "----------------------------------------------------------\n",
      "Applying Friedman test\n",
      "----------------------------------------------------------\n",
      "F-value: 1.515335, p-value: 0.19077413891917416\n",
      "Null hypothesis is rejected; hence, models have different performance\n",
      "Technique      Ranking\n",
      "-----------  ---------\n",
      "SVM               5.4\n",
      "ET                4.65\n",
      "KNN               4.1\n",
      "RF                3.8\n",
      "Arbol             3.8\n",
      "MLP               3.25\n",
      "LR                3\n",
      "Winner model: SVM\n",
      "----------------------------------------------------------\n",
      "Applying Holm p-value adjustment procedure and analysing effect size\n",
      "----------------------------------------------------------\n",
      "Comparison      Zvalue    p-value    adjusted p-value\n",
      "------------  --------  ---------  ------------------\n",
      "SVM vs LR     2.48424   0.012983            0.0778978\n",
      "SVM vs MLP    2.22546   0.0260503           0.130251\n",
      "SVM vs Arbol  1.65616   0.09769             0.39076\n",
      "SVM vs RF     1.65616   0.09769             0.39076\n",
      "SVM vs KNN    1.34563   0.178423            0.39076\n",
      "SVM vs ET     0.776324  0.437558            0.437558\n",
      "There is a significant difference between the models: SVM (mean: 0.575655, std: 0.100517) and LR (mean: 0.462321, std: 0.080926) (Cohen's d=1.1782868572821195, Large)\n",
      "There is a significant difference between the models: SVM (mean: 0.575655, std: 0.100517) and MLP (mean: 0.445119, std: 0.094505) (Cohen's d=1.2693743066757492, Large)\n",
      "There is a significant difference between the models: SVM (mean: 0.575655, std: 0.100517) and Arbol (mean: 0.468988, std: 0.190221) (Cohen's d=0.6651693296084189, Large)\n",
      "There is a significant difference between the models: SVM (mean: 0.575655, std: 0.100517) and RF (mean: 0.493690, std: 0.121227) (Cohen's d=0.6982917338509735, Large)\n",
      "There is a significant difference between the models: SVM (mean: 0.575655, std: 0.100517) and KNN (mean: 0.527321, std: 0.093603) (Cohen's d=0.4721205970557539, Medium)\n",
      "There is a significant difference between the models: SVM (mean: 0.575655, std: 0.100517) and ET (mean: 0.562738, std: 0.152469) (Cohen's d=0.09489345755979112, Small)\n",
      "Eta squared: 0.126127 (Large)\n"
     ]
    },
    {
     "data": {
      "image/png": "[encoded data removed]",
      "text/plain": [
       "<Figure size 432x288 with 1 Axes>"
      ]
     },
     "metadata": {
      "needs_background": "light"
     },
     "output_type": "display_data"
    }
   ],
   "source": [
    "compare_methods(Xtsne2,Y,listAlgorithms,listParams,listNames,metric='auroc')"
   ]
  },
  {
   "cell_type": "code",
   "execution_count": 37,
   "metadata": {
    "id": "9s4RecsnKMgQ"
   },
   "outputs": [],
   "source": [
    "!mv temp.csv temptsne2.csv"
   ]
  },
  {
   "cell_type": "markdown",
   "metadata": {},
   "source": [
    "# TSNE with 3 components"
   ]
  },
  {
   "cell_type": "code",
   "execution_count": 38,
   "metadata": {
    "id": "ROSlAByBKUuE"
   },
   "outputs": [
    {
     "name": "stdout",
     "output_type": "stream",
     "text": [
      "temp.csv\n",
      "['Arbol' 'SVM' 'KNN' 'LR' 'MLP' 'RF' 'ET']\n",
      "==========================================================\n",
      "Report\n",
      "==========================================================\n",
      "**********************************************************\n",
      "Mean and std\n",
      "**********************************************************\n",
      "Arbol: 0.638214 (0.145540)\n",
      "SVM: 0.498095 (0.164871)\n",
      "KNN: 0.477262 (0.126311)\n",
      "LR: 0.500357 (0.162277)\n",
      "MLP: 0.527262 (0.105015)\n",
      "RF: 0.571071 (0.155452)\n",
      "ET: 0.538929 (0.139854)\n",
      "**********************************************************\n",
      "Statistical tests\n",
      "**********************************************************\n",
      "----------------------------------------------------------\n",
      "Checking parametric conditions \n",
      "----------------------------------------------------------\n",
      "Checking independence \n",
      "Ok\n",
      "Checking normality using Shapiro-Wilk's test for normality, alpha=0.05\n",
      "W: 0.974181, p:0.156875\n",
      "The null hypothesis (normality) is rejected\n",
      "Checking heteroscedasticity using Levene's test, alpha=0.05\n",
      "W: 0.672843, p:0.671901\n",
      "The null hypothesis (heteroscedasticity) is accepted\n",
      "Conditions for a parametric test are not fulfilled, applying a non-parametric test\n",
      "----------------------------------------------------------\n",
      "Working with more than 2 algorithms\n",
      "----------------------------------------------------------\n",
      "----------------------------------------------------------\n",
      "Applying Friedman test\n",
      "----------------------------------------------------------\n",
      "F-value: 2.084231, p-value: 0.07018423954634423\n",
      "Null hypothesis is rejected; hence, models have different performance\n",
      "Technique      Ranking\n",
      "-----------  ---------\n",
      "Arbol             5.65\n",
      "RF                4.7\n",
      "ET                4.25\n",
      "MLP               3.75\n",
      "SVM               3.45\n",
      "LR                3.15\n",
      "KNN               3.05\n",
      "Winner model: Arbol\n",
      "----------------------------------------------------------\n",
      "Applying Holm p-value adjustment procedure and analysing effect size\n",
      "----------------------------------------------------------\n",
      "Comparison      Zvalue     p-value    adjusted p-value\n",
      "------------  --------  ----------  ------------------\n",
      "Arbol vs KNN  2.69126   0.00711836           0.0427102\n",
      "Arbol vs LR   2.58775   0.00966062           0.0483031\n",
      "Arbol vs SVM  2.27722   0.0227733            0.0910932\n",
      "Arbol vs MLP  1.96669   0.0492193            0.147658\n",
      "Arbol vs ET   1.44914   0.147299             0.294598\n",
      "Arbol vs RF   0.983343  0.325438             0.325438\n",
      "There is a significant difference between the models: Arbol (mean: 0.638214, std: 0.145540) and KNN (mean: 0.477262, std: 0.126311) (Cohen's d=1.1205567919598518, Large)\n",
      "There is a significant difference between the models: Arbol (mean: 0.638214, std: 0.145540) and LR (mean: 0.500357, std: 0.162277) (Cohen's d=0.8484920715636076, Large)\n",
      "There is a significant difference between the models: Arbol (mean: 0.638214, std: 0.145540) and SVM (mean: 0.498095, std: 0.164871) (Cohen's d=0.8548117192369097, Large)\n",
      "There is a significant difference between the models: Arbol (mean: 0.638214, std: 0.145540) and MLP (mean: 0.527262, std: 0.105015) (Cohen's d=0.8294265937199298, Large)\n",
      "There is a significant difference between the models: Arbol (mean: 0.638214, std: 0.145540) and ET (mean: 0.538929, std: 0.139854) (Cohen's d=0.6599452800836905, Large)\n",
      "There is a significant difference between the models: Arbol (mean: 0.638214, std: 0.145540) and RF (mean: 0.571071, std: 0.155452) (Cohen's d=0.4230201600348898, Medium)\n",
      "Eta squared: 0.109719 (Large)\n"
     ]
    },
    {
     "data": {
      "image/png": "[encoded data removed]",
      "text/plain": [
       "<Figure size 432x288 with 1 Axes>"
      ]
     },
     "metadata": {
      "needs_background": "light"
     },
     "output_type": "display_data"
    }
   ],
   "source": [
    "Xtsne3 = TSNE(n_components=3).fit_transform(X)\n",
    "compare_methods(Xtsne3,Y,listAlgorithms,listParams,listNames,metric='auroc')"
   ]
  },
  {
   "cell_type": "code",
   "execution_count": 39,
   "metadata": {
    "id": "rAl1ayHcKbSF"
   },
   "outputs": [],
   "source": [
    "!mv temp.csv temptsne3.csv"
   ]
  },
  {
   "cell_type": "markdown",
   "metadata": {},
   "source": [
    "# UMAP with 2 components"
   ]
  },
  {
   "cell_type": "code",
   "execution_count": 40,
   "metadata": {
    "id": "T45s4ka649by"
   },
   "outputs": [],
   "source": [
    "from umap import UMAP"
   ]
  },
  {
   "cell_type": "code",
   "execution_count": 41,
   "metadata": {
    "id": "y-O-MGt_5AC4"
   },
   "outputs": [],
   "source": [
    "reducer = UMAP()"
   ]
  },
  {
   "cell_type": "code",
   "execution_count": 42,
   "metadata": {
    "id": "h3U_6qzL5bR_"
   },
   "outputs": [],
   "source": [
    "Xumap = reducer.fit_transform(X)"
   ]
  },
  {
   "cell_type": "code",
   "execution_count": 43,
   "metadata": {
    "id": "PqHq4hZsXPPy"
   },
   "outputs": [
    {
     "name": "stdout",
     "output_type": "stream",
     "text": [
      "temp.csv\n",
      "['Arbol' 'SVM' 'KNN' 'LR' 'MLP' 'RF' 'ET']\n",
      "==========================================================\n",
      "Report\n",
      "==========================================================\n",
      "**********************************************************\n",
      "Mean and std\n",
      "**********************************************************\n",
      "Arbol: 0.683333 (0.092924)\n",
      "SVM: 0.538929 (0.160124)\n",
      "KNN: 0.795833 (0.090127)\n",
      "LR: 0.544702 (0.138303)\n",
      "MLP: 0.610357 (0.106132)\n",
      "RF: 0.676607 (0.123127)\n",
      "ET: 0.741190 (0.094931)\n",
      "**********************************************************\n",
      "Statistical tests\n",
      "**********************************************************\n",
      "----------------------------------------------------------\n",
      "Checking parametric conditions \n",
      "----------------------------------------------------------\n",
      "Checking independence \n",
      "Ok\n",
      "Checking normality using Shapiro-Wilk's test for normality, alpha=0.05\n",
      "W: 0.966886, p:0.060751\n",
      "The null hypothesis (normality) is rejected\n",
      "Checking heteroscedasticity using Levene's test, alpha=0.05\n",
      "W: 0.763570, p:0.601265\n",
      "The null hypothesis (heteroscedasticity) is accepted\n",
      "Conditions for a parametric test are not fulfilled, applying a non-parametric test\n",
      "----------------------------------------------------------\n",
      "Working with more than 2 algorithms\n",
      "----------------------------------------------------------\n",
      "----------------------------------------------------------\n",
      "Applying Friedman test\n",
      "----------------------------------------------------------\n",
      "F-value: 13.611036, p-value: 2.4324913194817555e-09\n",
      "Null hypothesis is rejected; hence, models have different performance\n",
      "Technique      Ranking\n",
      "-----------  ---------\n",
      "KNN               6.35\n",
      "ET                5.6\n",
      "RF                4.4\n",
      "Arbol             4.4\n",
      "MLP               3.2\n",
      "SVM               2.1\n",
      "LR                1.95\n",
      "Winner model: KNN\n",
      "----------------------------------------------------------\n",
      "Applying Holm p-value adjustment procedure and analysing effect size\n",
      "----------------------------------------------------------\n",
      "Comparison      Zvalue      p-value    adjusted p-value\n",
      "------------  --------  -----------  ------------------\n",
      "KNN vs LR     4.55443   5.25271e-06         3.15163e-05\n",
      "KNN vs SVM    4.39917   1.08667e-05         5.43334e-05\n",
      "KNN vs MLP    3.26056   0.00111193          0.0044477\n",
      "KNN vs Arbol  2.01844   0.0435453           0.130636\n",
      "KNN vs RF     2.01844   0.0435453           0.130636\n",
      "KNN vs ET     0.776324  0.437558            0.437558\n",
      "There is a significant difference between the models: KNN (mean: 0.795833, std: 0.090127) and LR (mean: 0.544702, std: 0.138303) (Cohen's d=2.0410256914591423, Large)\n",
      "There is a significant difference between the models: KNN (mean: 0.795833, std: 0.090127) and SVM (mean: 0.538929, std: 0.160124) (Cohen's d=1.8758181929964728, Large)\n",
      "There is a significant difference between the models: KNN (mean: 0.795833, std: 0.090127) and MLP (mean: 0.610357, std: 0.106132) (Cohen's d=1.787190372963401, Large)\n",
      "There is a significant difference between the models: KNN (mean: 0.795833, std: 0.090127) and Arbol (mean: 0.683333, std: 0.092924) (Cohen's d=1.1659535775922258, Large)\n",
      "There is a significant difference between the models: KNN (mean: 0.795833, std: 0.090127) and RF (mean: 0.676607, std: 0.123127) (Cohen's d=1.0483063514298723, Large)\n",
      "There is a significant difference between the models: KNN (mean: 0.795833, std: 0.090127) and ET (mean: 0.741190, std: 0.094931) (Cohen's d=0.5600537132712952, Large)\n",
      "Eta squared: 0.366762 (Large)\n"
     ]
    },
    {
     "data": {
      "image/png": "[encoded data removed]",
      "text/plain": [
       "<Figure size 432x288 with 1 Axes>"
      ]
     },
     "metadata": {
      "needs_background": "light"
     },
     "output_type": "display_data"
    }
   ],
   "source": [
    "compare_methods(Xumap,Y,listAlgorithms,listParams,listNames,metric='auroc')"
   ]
  },
  {
   "cell_type": "code",
   "execution_count": 44,
   "metadata": {
    "id": "9NTIJDD2XWW6"
   },
   "outputs": [],
   "source": [
    "!mv temp.csv tempumap2.csv"
   ]
  },
  {
   "cell_type": "markdown",
   "metadata": {},
   "source": [
    "# UMAP with 10 components"
   ]
  },
  {
   "cell_type": "code",
   "execution_count": 45,
   "metadata": {
    "id": "vtZHePZ6XaWK"
   },
   "outputs": [],
   "source": [
    "reducer = UMAP(n_components=10)"
   ]
  },
  {
   "cell_type": "code",
   "execution_count": 46,
   "metadata": {
    "id": "RT32rbaFXsMs"
   },
   "outputs": [],
   "source": [
    "Xumap10 = reducer.fit_transform(X)"
   ]
  },
  {
   "cell_type": "code",
   "execution_count": 47,
   "metadata": {
    "id": "IZhqNI6ZX2L0"
   },
   "outputs": [
    {
     "name": "stdout",
     "output_type": "stream",
     "text": [
      "temp.csv\n",
      "['Arbol' 'SVM' 'KNN' 'LR' 'MLP' 'RF' 'ET']\n",
      "==========================================================\n",
      "Report\n",
      "==========================================================\n",
      "**********************************************************\n",
      "Mean and std\n",
      "**********************************************************\n",
      "Arbol: 0.589524 (0.084705)\n",
      "SVM: 0.724226 (0.154036)\n",
      "KNN: 0.673750 (0.151063)\n",
      "LR: 0.707857 (0.140641)\n",
      "MLP: 0.719583 (0.091548)\n",
      "RF: 0.682083 (0.122155)\n",
      "ET: 0.720060 (0.116902)\n",
      "**********************************************************\n",
      "Statistical tests\n",
      "**********************************************************\n",
      "----------------------------------------------------------\n",
      "Checking parametric conditions \n",
      "----------------------------------------------------------\n",
      "Checking independence \n",
      "Ok\n",
      "Checking normality using Shapiro-Wilk's test for normality, alpha=0.05\n",
      "W: 0.940566, p:0.002398\n",
      "The null hypothesis (normality) is rejected\n",
      "Checking heteroscedasticity using Levene's test, alpha=0.05\n",
      "W: 2.538726, p:0.028936\n",
      "The null hypothesis (heteroscedasticity) is rejected\n",
      "Conditions for a parametric test are not fulfilled, applying a non-parametric test\n",
      "----------------------------------------------------------\n",
      "Working with more than 2 algorithms\n",
      "----------------------------------------------------------\n",
      "----------------------------------------------------------\n",
      "Applying Friedman test\n",
      "----------------------------------------------------------\n",
      "F-value: 1.387469, p-value: 0.23648180958493337\n",
      "Null hypothesis is rejected; hence, models have different performance\n",
      "Technique      Ranking\n",
      "-----------  ---------\n",
      "ET                4.75\n",
      "SVM               4.75\n",
      "MLP               4.45\n",
      "LR                4.3\n",
      "RF                3.6\n",
      "KNN               3.55\n",
      "Arbol             2.6\n",
      "Winner model: ET\n",
      "----------------------------------------------------------\n",
      "Applying Holm p-value adjustment procedure and analysing effect size\n",
      "----------------------------------------------------------\n",
      "Comparison      Zvalue    p-value    adjusted p-value\n",
      "------------  --------  ---------  ------------------\n",
      "ET vs Arbol   2.22546   0.0260503            0.156302\n",
      "ET vs KNN     1.24212   0.214193             1\n",
      "ET vs RF      1.19036   0.233904             1\n",
      "ET vs LR      0.465794  0.641363             1\n",
      "ET vs MLP     0.31053   0.756158             1\n",
      "ET vs SVM     0         1                    1\n",
      "There is a significant difference between the models: ET (mean: 0.720060, std: 0.116902) and Arbol (mean: 0.589524, std: 0.084705) (Cohen's d=1.2131311643346108, Large)\n",
      "We can't say that there is a significant difference in the performance of the models: ET (mean: 0.720060, std: 0.116902) and KNN (mean: 0.673750, std: 0.151063) (Cohen's d=0.32526923667442104, Medium)\n",
      "We can't say that there is a significant difference in the performance of the models: ET (mean: 0.720060, std: 0.116902) and RF (mean: 0.682083, std: 0.122155) (Cohen's d=0.30134054486448264, Medium)\n",
      "We can't say that there is a significant difference in the performance of the models: ET (mean: 0.720060, std: 0.116902) and LR (mean: 0.707857, std: 0.140641) (Cohen's d=0.08951786304304882, Small)\n",
      "We can't say that there is a significant difference in the performance of the models: ET (mean: 0.720060, std: 0.116902) and MLP (mean: 0.719583, std: 0.091548) (Cohen's d=0.004302702750110301, Small)\n",
      "We can't say that there is a significant difference in the performance of the models: ET (mean: 0.720060, std: 0.116902) and SVM (mean: 0.724226, std: 0.154036) (Cohen's d=0.028908811214160366, Small)\n",
      "Eta squared: 0.110098 (Large)\n"
     ]
    },
    {
     "data": {
      "image/png": "[encoded data removed]",
      "text/plain": [
       "<Figure size 432x288 with 1 Axes>"
      ]
     },
     "metadata": {
      "needs_background": "light"
     },
     "output_type": "display_data"
    }
   ],
   "source": [
    "compare_methods(Xumap10,Y,listAlgorithms,listParams,listNames,metric='auroc')"
   ]
  },
  {
   "cell_type": "code",
   "execution_count": 48,
   "metadata": {
    "id": "B91qjVhuX5I-"
   },
   "outputs": [],
   "source": [
    "!mv temp.csv tempumap10.csv"
   ]
  }
 ],
 "metadata": {
  "colab": {
   "name": "CompareMethods.ipynb",
   "provenance": []
  },
  "kernelspec": {
   "display_name": "Python 3",
   "language": "python",
   "name": "python3"
  },
  "language_info": {
   "codemirror_mode": {
    "name": "ipython",
    "version": 3
   },
   "file_extension": ".py",
   "mimetype": "text/x-python",
   "name": "python",
   "nbconvert_exporter": "python",
   "pygments_lexer": "ipython3",
   "version": "3.6.7"
  }
 },
 "nbformat": 4,
 "nbformat_minor": 1
}
