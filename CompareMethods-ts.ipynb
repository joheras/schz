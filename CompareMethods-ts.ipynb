{
 "cells": [
  {
   "cell_type": "code",
   "execution_count": 1,
   "metadata": {
    "id": "9VdC2keIvxIJ"
   },
   "outputs": [],
   "source": [
    "import numpy as np\n",
    "from StatisticalAnalysis import compare_methods"
   ]
  },
  {
   "cell_type": "code",
   "execution_count": 2,
   "metadata": {
    "id": "3iCEO6wXtftF"
   },
   "outputs": [],
   "source": [
    "import warnings\n",
    "warnings.filterwarnings('ignore')"
   ]
  },
  {
   "cell_type": "markdown",
   "metadata": {
    "id": "Zb3btBk5vxIM"
   },
   "source": [
    "First we load the data and process it to have the correct form."
   ]
  },
  {
   "cell_type": "code",
   "execution_count": 3,
   "metadata": {
    "id": "StF6b56QvxIN"
   },
   "outputs": [],
   "source": [
    "ts_hc = np.load('ts_hc.npy')\n",
    "ts_schz = np.load('ts_schz.npy')"
   ]
  },
  {
   "cell_type": "code",
   "execution_count": 4,
   "metadata": {
    "id": "qd1nFcAfvxIO"
   },
   "outputs": [],
   "source": [
    "ts_hc = ts_hc.reshape(52,142*118)"
   ]
  },
  {
   "cell_type": "code",
   "execution_count": 5,
   "metadata": {
    "id": "fc006UE6vxIO"
   },
   "outputs": [],
   "source": [
    "ts_schz = ts_schz.reshape(50,142*118)"
   ]
  },
  {
   "cell_type": "code",
   "execution_count": 6,
   "metadata": {
    "id": "SEhdGg3IvxIP"
   },
   "outputs": [],
   "source": [
    "X = np.append(ts_hc,ts_schz,axis=0)"
   ]
  },
  {
   "cell_type": "code",
   "execution_count": 7,
   "metadata": {
    "colab": {
     "base_uri": "https://localhost:8080/"
    },
    "id": "8d-RFXoavxIQ",
    "outputId": "a61e1d34-79c6-4f1a-df1f-0b3a74b2c53d"
   },
   "outputs": [
    {
     "data": {
      "text/plain": [
       "(102, 16756)"
      ]
     },
     "execution_count": 7,
     "metadata": {},
     "output_type": "execute_result"
    }
   ],
   "source": [
    "X.shape"
   ]
  },
  {
   "cell_type": "code",
   "execution_count": 8,
   "metadata": {
    "colab": {
     "base_uri": "https://localhost:8080/"
    },
    "id": "hnaiAVUvJmgn",
    "outputId": "6cb5c264-f346-4b38-e85b-aa3b8bf8ace6"
   },
   "outputs": [
    {
     "data": {
      "text/plain": [
       "(16756,)"
      ]
     },
     "execution_count": 8,
     "metadata": {},
     "output_type": "execute_result"
    }
   ],
   "source": [
    "X[0].shape"
   ]
  },
  {
   "cell_type": "code",
   "execution_count": 9,
   "metadata": {
    "id": "5oh4k1gEvxIR"
   },
   "outputs": [],
   "source": [
    "Y = np.append(np.zeros(52),np.ones(50),axis=0)"
   ]
  },
  {
   "cell_type": "code",
   "execution_count": 10,
   "metadata": {
    "colab": {
     "base_uri": "https://localhost:8080/"
    },
    "id": "PZuBWU5LvxIR",
    "outputId": "21a0987a-b533-41fc-bea5-9f94b3246a66",
    "scrolled": true
   },
   "outputs": [
    {
     "data": {
      "text/plain": [
       "(102,)"
      ]
     },
     "execution_count": 10,
     "metadata": {},
     "output_type": "execute_result"
    }
   ],
   "source": [
    "Y.shape"
   ]
  },
  {
   "cell_type": "markdown",
   "metadata": {
    "id": "w2w8w0VjvxIS"
   },
   "source": [
    "Now, we define the algorithms that we are going to use. "
   ]
  },
  {
   "cell_type": "code",
   "execution_count": 11,
   "metadata": {
    "id": "MEPfV3efvxIS"
   },
   "outputs": [],
   "source": [
    "from sklearn.tree import DecisionTreeClassifier\n",
    "from sklearn.neighbors import KNeighborsClassifier\n",
    "from sklearn.linear_model import LogisticRegression\n",
    "from sklearn.svm import SVC\n",
    "from sklearn.neural_network import MLPClassifier\n",
    "from sklearn.ensemble import ExtraTreesClassifier\n",
    "from sklearn.ensemble import GradientBoostingClassifier\n",
    "from sklearn.ensemble import RandomForestClassifier\n",
    "from sklearn.ensemble import AdaBoostClassifier\n",
    "from scipy.stats import randint as sp_randint"
   ]
  },
  {
   "cell_type": "code",
   "execution_count": 12,
   "metadata": {
    "id": "YwnPEwswvxIU"
   },
   "outputs": [],
   "source": [
    "# Decision tree\n",
    "clfTree = DecisionTreeClassifier(random_state=84)\n",
    "param_distTree = {\"min_samples_split\": sp_randint(3, 30)}\n",
    "# SVM\n",
    "clfSVC = SVC(random_state=84)\n",
    "param_distSVC = {'C': [1, 10, 100, 1000], 'gamma': [0.001, 0.0001],'kernel': ['rbf'], 'class_weight':['balanced', None]}\n",
    "# KNN\n",
    "clfKNN = KNeighborsClassifier()\n",
    "param_distKNN = {'n_neighbors':sp_randint(3, 30)}\n",
    "# Logistic regression\n",
    "clfLR = LogisticRegression(random_state=84)\n",
    "param_distLR = {'C': [0.1,0.5,1, 10, 100, 1000]}\n",
    "# Neural Network\n",
    "clfMLP = MLPClassifier(random_state=84)\n",
    "param_distMLP = {'activation': ['identity', 'logistic', 'tanh', 'relu'], 'solver': ['lbfgs', 'sgd', 'adam'],\n",
    "                 'alpha': sp_randint(0.0001, 1), 'learning_rate': ['constant', 'invscaling', 'adaptive'],\n",
    "                 'hidden_layer_sizes': [(5,2), (3,3,3), (5,3,2), (5,4,3,2)],\n",
    "                 'momentum': [0.9, 0.95, 0.99]}\n",
    "# RandomForest\n",
    "clfRF = RandomForestClassifier(random_state=84)\n",
    "param_distRF =  {'n_estimators': [int(x) for x in np.linspace(start = 200, stop = 2000, num = 10)], 'max_features': ['auto', 'sqrt'],'max_depth': [int(x) for x in np.linspace(10, 110, num = 11)],\n",
    "                 'min_samples_split': [2, 5, 10],'min_samples_leaf': [1, 2, 4],\n",
    "                 'bootstrap': [True, False]}\n",
    "# ExtraTreesClassifier\n",
    "clfET = ExtraTreesClassifier(random_state=84)\n",
    "param_distET =  {'n_estimators': [int(x) for x in np.linspace(start = 200, stop = 2000, num = 10)], 'max_features': ['auto', 'sqrt'],'max_depth': [int(x) for x in np.linspace(10, 110, num = 11)],\n",
    "                 'min_samples_split': [2, 5, 10],'min_samples_leaf': [1, 2, 4],\n",
    "                 'bootstrap': [True, False]}"
   ]
  },
  {
   "cell_type": "code",
   "execution_count": 13,
   "metadata": {
    "id": "GGQcPxBOvxIV"
   },
   "outputs": [],
   "source": [
    "listAlgorithms = [clfTree,clfSVC,clfKNN,clfLR,clfMLP,clfRF,clfET]"
   ]
  },
  {
   "cell_type": "code",
   "execution_count": 14,
   "metadata": {
    "id": "8Nl-1GpjvxIV"
   },
   "outputs": [],
   "source": [
    "listParams = [param_distTree,param_distSVC,param_distKNN,param_distLR,param_distMLP,param_distRF, param_distET]"
   ]
  },
  {
   "cell_type": "code",
   "execution_count": 15,
   "metadata": {
    "id": "IK_8iIWovxIV"
   },
   "outputs": [],
   "source": [
    "listNames = [\"Arbol\", \"SVM\", \"KNN\", \"LR\", \"MLP\",\"RF\",\"ET\"]"
   ]
  },
  {
   "cell_type": "markdown",
   "metadata": {},
   "source": [
    "# Plain comparison"
   ]
  },
  {
   "cell_type": "code",
   "execution_count": 16,
   "metadata": {
    "id": "LSSesjlBvxIV",
    "scrolled": true
   },
   "outputs": [
    {
     "name": "stdout",
     "output_type": "stream",
     "text": [
      "temp.csv\n",
      "['Arbol' 'SVM' 'KNN' 'LR' 'MLP' 'RF' 'ET']\n",
      "==========================================================\n",
      "Report\n",
      "==========================================================\n",
      "**********************************************************\n",
      "Mean and std\n",
      "**********************************************************\n",
      "Arbol: 0.567857 (0.190531)\n",
      "SVM: 0.731964 (0.105599)\n",
      "KNN: 0.700417 (0.080373)\n",
      "LR: 0.688750 (0.143604)\n",
      "MLP: 0.635179 (0.163971)\n",
      "RF: 0.631905 (0.105488)\n",
      "ET: 0.682679 (0.075463)\n",
      "**********************************************************\n",
      "Statistical tests\n",
      "**********************************************************\n",
      "----------------------------------------------------------\n",
      "Checking parametric conditions \n",
      "----------------------------------------------------------\n",
      "Checking independence \n",
      "Ok\n",
      "Checking normality using Shapiro-Wilk's test for normality, alpha=0.05\n",
      "W: 0.957773, p:0.018892\n",
      "The null hypothesis (normality) is rejected\n",
      "Checking heteroscedasticity using Levene's test, alpha=0.05\n",
      "W: 1.794373, p:0.114611\n",
      "The null hypothesis (heteroscedasticity) is rejected\n",
      "Conditions for a parametric test are not fulfilled, applying a non-parametric test\n",
      "----------------------------------------------------------\n",
      "Working with more than 2 algorithms\n",
      "----------------------------------------------------------\n",
      "----------------------------------------------------------\n",
      "Applying Friedman test\n",
      "----------------------------------------------------------\n",
      "F-value: 1.923277, p-value: 0.09362025878677782\n",
      "Null hypothesis is rejected; hence, models have different performance\n",
      "Technique      Ranking\n",
      "-----------  ---------\n",
      "SVM               5.5\n",
      "ET                4.45\n",
      "LR                4.35\n",
      "KNN               4.3\n",
      "Arbol             3.2\n",
      "MLP               3.15\n",
      "RF                3.05\n",
      "Winner model: SVM\n",
      "----------------------------------------------------------\n",
      "Applying Holm p-value adjustment procedure and analysing effect size\n",
      "----------------------------------------------------------\n",
      "Comparison      Zvalue    p-value    adjusted p-value\n",
      "------------  --------  ---------  ------------------\n",
      "SVM vs RF      2.53599  0.011213            0.0672778\n",
      "SVM vs MLP     2.43248  0.0149958           0.0749789\n",
      "SVM vs Arbol   2.38073  0.0172786           0.0749789\n",
      "SVM vs KNN     1.24212  0.214193            0.642579\n",
      "SVM vs LR      1.19036  0.233904            0.642579\n",
      "SVM vs ET      1.08685  0.277102            0.642579\n",
      "There is a significant difference between the models: SVM (mean: 0.731964, std: 0.105599) and RF (mean: 0.631905, std: 0.105488) (Cohen's d=0.8993903375360939, Large)\n",
      "There is a significant difference between the models: SVM (mean: 0.731964, std: 0.105599) and MLP (mean: 0.635179, std: 0.163971) (Cohen's d=0.665795106726764, Large)\n",
      "There is a significant difference between the models: SVM (mean: 0.731964, std: 0.105599) and Arbol (mean: 0.567857, std: 0.190531) (Cohen's d=1.010720675066559, Large)\n",
      "We can't say that there is a significant difference in the performance of the models: SVM (mean: 0.731964, std: 0.105599) and KNN (mean: 0.700417, std: 0.080373) (Cohen's d=0.3189428491128898, Medium)\n",
      "We can't say that there is a significant difference in the performance of the models: SVM (mean: 0.731964, std: 0.105599) and LR (mean: 0.688750, std: 0.143604) (Cohen's d=0.32526216496975846, Medium)\n",
      "We can't say that there is a significant difference in the performance of the models: SVM (mean: 0.731964, std: 0.105599) and ET (mean: 0.682679, std: 0.075463) (Cohen's d=0.5094631697183565, Large)\n",
      "Eta squared: 0.132108 (Large)\n"
     ]
    },
    {
     "data": {
      "image/png": "[encoded data removed]",
      "text/plain": [
       "<Figure size 432x288 with 1 Axes>"
      ]
     },
     "metadata": {
      "needs_background": "light"
     },
     "output_type": "display_data"
    }
   ],
   "source": [
    "compare_methods(X,Y,listAlgorithms,listParams,listNames,metric='auroc')"
   ]
  },
  {
   "cell_type": "code",
   "execution_count": 17,
   "metadata": {},
   "outputs": [
    {
     "name": "stdout",
     "output_type": "stream",
     "text": [
      "temp.csv\n",
      "['Arbol' 'SVM' 'KNN' 'LR' 'MLP' 'RF' 'ET']\n",
      "==========================================================\n",
      "Report\n",
      "==========================================================\n",
      "**********************************************************\n",
      "Mean and std\n",
      "**********************************************************\n",
      "Arbol: 0.550000 (0.257013)\n",
      "SVM: 0.710000 (0.244972)\n",
      "KNN: 0.695000 (0.177959)\n",
      "LR: 0.635714 (0.236914)\n",
      "MLP: 0.579643 (0.254781)\n",
      "RF: 0.608810 (0.238813)\n",
      "ET: 0.673333 (0.251573)\n",
      "**********************************************************\n",
      "Statistical tests\n",
      "**********************************************************\n",
      "----------------------------------------------------------\n",
      "Checking parametric conditions \n",
      "----------------------------------------------------------\n",
      "Checking independence \n",
      "Ok\n",
      "Checking normality using Shapiro-Wilk's test for normality, alpha=0.05\n",
      "W: 0.920205, p:0.000269\n",
      "The null hypothesis (normality) is rejected\n",
      "Checking heteroscedasticity using Levene's test, alpha=0.05\n",
      "W: 0.282079, p:0.943371\n",
      "The null hypothesis (heteroscedasticity) is accepted\n",
      "Conditions for a parametric test are not fulfilled, applying a non-parametric test\n",
      "----------------------------------------------------------\n",
      "Working with more than 2 algorithms\n",
      "----------------------------------------------------------\n",
      "----------------------------------------------------------\n",
      "Applying Friedman test\n",
      "----------------------------------------------------------\n",
      "F-value: 2.310592, p-value: 0.04661933360507686\n",
      "Null hypothesis is rejected; hence, models have different performance\n",
      "Technique      Ranking\n",
      "-----------  ---------\n",
      "SVM               5.15\n",
      "KNN               5.05\n",
      "ET                4.6\n",
      "LR                4\n",
      "RF                3.45\n",
      "Arbol             3.1\n",
      "MLP               2.65\n",
      "Winner model: SVM\n",
      "----------------------------------------------------------\n",
      "Applying Holm p-value adjustment procedure and analysing effect size\n",
      "----------------------------------------------------------\n",
      "Comparison      Zvalue     p-value    adjusted p-value\n",
      "------------  --------  ----------  ------------------\n",
      "SVM vs MLP    2.58775   0.00966062           0.0579637\n",
      "SVM vs Arbol  2.12195   0.0338418            0.169209\n",
      "SVM vs RF     1.75967   0.0784643            0.313857\n",
      "SVM vs LR     1.19036   0.233904             0.701711\n",
      "SVM vs ET     0.569304  0.56915              1\n",
      "SVM vs KNN    0.10351   0.917558             1\n",
      "There is a significant difference between the models: SVM (mean: 0.710000, std: 0.244972) and MLP (mean: 0.579643, std: 0.254781) (Cohen's d=0.49482002720378143, Medium)\n",
      "There is a significant difference between the models: SVM (mean: 0.710000, std: 0.244972) and Arbol (mean: 0.550000, std: 0.257013) (Cohen's d=0.6045832353107599, Large)\n",
      "There is a significant difference between the models: SVM (mean: 0.710000, std: 0.244972) and RF (mean: 0.608810, std: 0.238813) (Cohen's d=0.3968289333089364, Medium)\n",
      "We can't say that there is a significant difference in the performance of the models: SVM (mean: 0.710000, std: 0.244972) and LR (mean: 0.635714, std: 0.236914) (Cohen's d=0.2924503105161993, Medium)\n",
      "We can't say that there is a significant difference in the performance of the models: SVM (mean: 0.710000, std: 0.244972) and ET (mean: 0.673333, std: 0.251573) (Cohen's d=0.1400961319818265, Small)\n",
      "We can't say that there is a significant difference in the performance of the models: SVM (mean: 0.710000, std: 0.244972) and KNN (mean: 0.695000, std: 0.177959) (Cohen's d=0.06646437013999523, Small)\n",
      "Eta squared: 0.051484 (Medium)\n"
     ]
    },
    {
     "data": {
      "image/png": "[encoded data removed]",
      "text/plain": [
       "<Figure size 432x288 with 1 Axes>"
      ]
     },
     "metadata": {
      "needs_background": "light"
     },
     "output_type": "display_data"
    }
   ],
   "source": [
    "compare_methods(X,Y,listAlgorithms,listParams,listNames,metric='precision')"
   ]
  },
  {
   "cell_type": "code",
   "execution_count": 18,
   "metadata": {},
   "outputs": [
    {
     "name": "stdout",
     "output_type": "stream",
     "text": [
      "temp.csv\n",
      "['Arbol' 'SVM' 'KNN' 'LR' 'MLP' 'RF' 'ET']\n",
      "==========================================================\n",
      "Report\n",
      "==========================================================\n",
      "**********************************************************\n",
      "Mean and std\n",
      "**********************************************************\n",
      "Arbol: 0.549405 (0.259322)\n",
      "SVM: 0.683333 (0.221774)\n",
      "KNN: 0.624405 (0.147457)\n",
      "LR: 0.728571 (0.186552)\n",
      "MLP: 0.704167 (0.230413)\n",
      "RF: 0.569048 (0.214867)\n",
      "ET: 0.617262 (0.203778)\n",
      "**********************************************************\n",
      "Statistical tests\n",
      "**********************************************************\n",
      "----------------------------------------------------------\n",
      "Checking parametric conditions \n",
      "----------------------------------------------------------\n",
      "Checking independence \n",
      "Ok\n",
      "Checking normality using Shapiro-Wilk's test for normality, alpha=0.05\n",
      "W: 0.944091, p:0.003600\n",
      "The null hypothesis (normality) is rejected\n",
      "Checking heteroscedasticity using Levene's test, alpha=0.05\n",
      "W: 0.624577, p:0.709917\n",
      "The null hypothesis (heteroscedasticity) is accepted\n",
      "Conditions for a parametric test are not fulfilled, applying a non-parametric test\n",
      "----------------------------------------------------------\n",
      "Working with more than 2 algorithms\n",
      "----------------------------------------------------------\n",
      "----------------------------------------------------------\n",
      "Applying Friedman test\n",
      "----------------------------------------------------------\n",
      "F-value: 1.239740, p-value: 0.3008882418972739\n",
      "Null hypothesis is rejected; hence, models have different performance\n",
      "Technique      Ranking\n",
      "-----------  ---------\n",
      "LR                5.05\n",
      "MLP               4.7\n",
      "SVM               4.4\n",
      "KNN               3.85\n",
      "ET                3.55\n",
      "Arbol             3.55\n",
      "RF                2.9\n",
      "Winner model: LR\n",
      "----------------------------------------------------------\n",
      "Applying Holm p-value adjustment procedure and analysing effect size\n",
      "----------------------------------------------------------\n",
      "Comparison      Zvalue    p-value    adjusted p-value\n",
      "------------  --------  ---------  ------------------\n",
      "LR vs RF      2.22546   0.0260503            0.156302\n",
      "LR vs Arbol   1.55265   0.120507             0.602537\n",
      "LR vs ET      1.55265   0.120507             0.602537\n",
      "LR vs KNN     1.24212   0.214193             0.642579\n",
      "LR vs SVM     0.672814  0.501066             1\n",
      "LR vs MLP     0.362284  0.71714              1\n",
      "There is a significant difference between the models: LR (mean: 0.728571, std: 0.186552) and RF (mean: 0.569048, std: 0.214867) (Cohen's d=0.752144591872165, Large)\n",
      "We can't say that there is a significant difference in the performance of the models: LR (mean: 0.728571, std: 0.186552) and Arbol (mean: 0.549405, std: 0.259322) (Cohen's d=0.7524673415359091, Large)\n",
      "We can't say that there is a significant difference in the performance of the models: LR (mean: 0.728571, std: 0.186552) and ET (mean: 0.617262, std: 0.203778) (Cohen's d=0.5405424531611649, Large)\n",
      "We can't say that there is a significant difference in the performance of the models: LR (mean: 0.728571, std: 0.186552) and KNN (mean: 0.624405, std: 0.147457) (Cohen's d=0.5877158211232074, Large)\n",
      "We can't say that there is a significant difference in the performance of the models: LR (mean: 0.728571, std: 0.186552) and SVM (mean: 0.683333, std: 0.221774) (Cohen's d=0.2094300640741514, Medium)\n",
      "We can't say that there is a significant difference in the performance of the models: LR (mean: 0.728571, std: 0.186552) and MLP (mean: 0.704167, std: 0.230413) (Cohen's d=0.1104427883454173, Small)\n",
      "Eta squared: 0.081499 (Large)\n"
     ]
    },
    {
     "data": {
      "image/png": "[encoded data removed]",
      "text/plain": [
       "<Figure size 432x288 with 1 Axes>"
      ]
     },
     "metadata": {
      "needs_background": "light"
     },
     "output_type": "display_data"
    }
   ],
   "source": [
    "compare_methods(X,Y,listAlgorithms,listParams,listNames,metric='recall')"
   ]
  },
  {
   "cell_type": "code",
   "execution_count": 19,
   "metadata": {},
   "outputs": [
    {
     "name": "stdout",
     "output_type": "stream",
     "text": [
      "temp.csv\n",
      "['Arbol' 'SVM' 'KNN' 'LR' 'MLP' 'RF' 'ET']\n",
      "==========================================================\n",
      "Report\n",
      "==========================================================\n",
      "**********************************************************\n",
      "Mean and std\n",
      "**********************************************************\n",
      "Arbol: 0.537273 (0.187962)\n",
      "SVM: 0.694545 (0.106964)\n",
      "KNN: 0.694545 (0.058663)\n",
      "LR: 0.667273 (0.124063)\n",
      "MLP: 0.597273 (0.145798)\n",
      "RF: 0.598182 (0.080165)\n",
      "ET: 0.636364 (0.066556)\n",
      "**********************************************************\n",
      "Statistical tests\n",
      "**********************************************************\n",
      "----------------------------------------------------------\n",
      "Checking parametric conditions \n",
      "----------------------------------------------------------\n",
      "Checking independence \n",
      "Ok\n",
      "Checking normality using Shapiro-Wilk's test for normality, alpha=0.05\n",
      "W: 0.926431, p:0.000511\n",
      "The null hypothesis (normality) is rejected\n",
      "Checking heteroscedasticity using Levene's test, alpha=0.05\n",
      "W: 2.231659, p:0.051391\n",
      "The null hypothesis (heteroscedasticity) is rejected\n",
      "Conditions for a parametric test are not fulfilled, applying a non-parametric test\n",
      "----------------------------------------------------------\n",
      "Working with more than 2 algorithms\n",
      "----------------------------------------------------------\n",
      "----------------------------------------------------------\n",
      "Applying Friedman test\n",
      "----------------------------------------------------------\n",
      "F-value: 2.985731, p-value: 0.013630614279407705\n",
      "Null hypothesis is rejected; hence, models have different performance\n",
      "Technique      Ranking\n",
      "-----------  ---------\n",
      "KNN               5.3\n",
      "SVM               5.3\n",
      "LR                4.5\n",
      "ET                4.05\n",
      "MLP               3.1\n",
      "Arbol             2.9\n",
      "RF                2.85\n",
      "Winner model: KNN\n",
      "----------------------------------------------------------\n",
      "Applying Holm p-value adjustment procedure and analysing effect size\n",
      "----------------------------------------------------------\n",
      "Comparison      Zvalue    p-value    adjusted p-value\n",
      "------------  --------  ---------  ------------------\n",
      "KNN vs RF     2.53599   0.011213            0.0672778\n",
      "KNN vs Arbol  2.48424   0.012983            0.0672778\n",
      "KNN vs MLP    2.27722   0.0227733           0.0910932\n",
      "KNN vs ET     1.29387   0.195709            0.587128\n",
      "KNN vs LR     0.828079  0.407626            0.815252\n",
      "KNN vs SVM    0         1                   1\n",
      "There is a significant difference between the models: KNN (mean: 0.694545, std: 0.058663) and RF (mean: 0.598182, std: 0.080165) (Cohen's d=1.3014873594213916, Large)\n",
      "There is a significant difference between the models: KNN (mean: 0.694545, std: 0.058663) and Arbol (mean: 0.537273, std: 0.187962) (Cohen's d=1.0716075199763897, Large)\n",
      "There is a significant difference between the models: KNN (mean: 0.694545, std: 0.058663) and MLP (mean: 0.597273, std: 0.145798) (Cohen's d=0.8304115865310443, Large)\n",
      "We can't say that there is a significant difference in the performance of the models: KNN (mean: 0.694545, std: 0.058663) and ET (mean: 0.636364, std: 0.066556) (Cohen's d=0.8798457350181602, Large)\n",
      "We can't say that there is a significant difference in the performance of the models: KNN (mean: 0.694545, std: 0.058663) and LR (mean: 0.667273, std: 0.124063) (Cohen's d=0.26662716927080904, Medium)\n",
      "We can't say that there is a significant difference in the performance of the models: KNN (mean: 0.694545, std: 0.058663) and SVM (mean: 0.694545, std: 0.106964) (Cohen's d=1.2209740296663332e-15, Small)\n",
      "Eta squared: 0.172777 (Large)\n"
     ]
    },
    {
     "data": {
      "image/png": "[encoded data removed]",
      "text/plain": [
       "<Figure size 432x288 with 1 Axes>"
      ]
     },
     "metadata": {
      "needs_background": "light"
     },
     "output_type": "display_data"
    }
   ],
   "source": [
    "compare_methods(X,Y,listAlgorithms,listParams,listNames,metric='accuracy')"
   ]
  },
  {
   "cell_type": "markdown",
   "metadata": {
    "id": "9RmrYzBMOAXv"
   },
   "source": [
    "# PCA with 2 components"
   ]
  },
  {
   "cell_type": "code",
   "execution_count": 20,
   "metadata": {
    "id": "Sjjc5WXGvxIX"
   },
   "outputs": [],
   "source": [
    "from sklearn.decomposition import PCA"
   ]
  },
  {
   "cell_type": "code",
   "execution_count": 21,
   "metadata": {
    "id": "edHm_G34N87W"
   },
   "outputs": [],
   "source": [
    "pca = PCA(n_components=2)"
   ]
  },
  {
   "cell_type": "code",
   "execution_count": 22,
   "metadata": {
    "id": "H4lw_jzBODCv"
   },
   "outputs": [
    {
     "data": {
      "text/plain": [
       "PCA(n_components=2)"
      ]
     },
     "execution_count": 22,
     "metadata": {},
     "output_type": "execute_result"
    }
   ],
   "source": [
    "pca.fit(X)"
   ]
  },
  {
   "cell_type": "code",
   "execution_count": 23,
   "metadata": {
    "id": "ImTFoLrKOFHZ"
   },
   "outputs": [],
   "source": [
    "X_pca2 = pca.transform(X)"
   ]
  },
  {
   "cell_type": "code",
   "execution_count": 24,
   "metadata": {
    "id": "5nt7OQ61JuKG"
   },
   "outputs": [
    {
     "data": {
      "text/plain": [
       "(102, 2)"
      ]
     },
     "execution_count": 24,
     "metadata": {},
     "output_type": "execute_result"
    }
   ],
   "source": [
    "X_pca2.shape"
   ]
  },
  {
   "cell_type": "code",
   "execution_count": 25,
   "metadata": {
    "id": "KyVbCZLpOInH",
    "scrolled": true
   },
   "outputs": [
    {
     "name": "stdout",
     "output_type": "stream",
     "text": [
      "temp.csv\n",
      "['Arbol' 'SVM' 'KNN' 'LR' 'MLP' 'RF' 'ET']\n",
      "==========================================================\n",
      "Report\n",
      "==========================================================\n",
      "**********************************************************\n",
      "Mean and std\n",
      "**********************************************************\n",
      "Arbol: 0.647679 (0.171935)\n",
      "SVM: 0.582202 (0.118734)\n",
      "KNN: 0.659821 (0.181806)\n",
      "LR: 0.551012 (0.203379)\n",
      "MLP: 0.579464 (0.157424)\n",
      "RF: 0.627024 (0.096707)\n",
      "ET: 0.653095 (0.117072)\n",
      "**********************************************************\n",
      "Statistical tests\n",
      "**********************************************************\n",
      "----------------------------------------------------------\n",
      "Checking parametric conditions \n",
      "----------------------------------------------------------\n",
      "Checking independence \n",
      "Ok\n",
      "Checking normality using Shapiro-Wilk's test for normality, alpha=0.05\n",
      "W: 0.987646, p:0.724301\n",
      "The null hypothesis (normality) is accepted\n",
      "Checking heteroscedasticity using Levene's test, alpha=0.05\n",
      "W: 1.731397, p:0.128321\n",
      "The null hypothesis (heteroscedasticity) is rejected\n",
      "Conditions for a parametric test are not fulfilled, applying a non-parametric test\n",
      "----------------------------------------------------------\n",
      "Working with more than 2 algorithms\n",
      "----------------------------------------------------------\n",
      "----------------------------------------------------------\n",
      "Applying Friedman test\n",
      "----------------------------------------------------------\n",
      "F-value: 0.581749, p-value: 0.7432449558973999\n",
      "Null hypothesis is accepted; hence, we can't say that there is a significant difference in the performance of the models\n",
      "----------------------------------------------------------\n",
      "Analysing effect size\n",
      "----------------------------------------------------------\n",
      "We take the model with the best mean (KNN, mean: 0.659821) and compare it with the other models: \n",
      "Comparing effect size of KNN and Arbol: Cohen's d=0.06510550985160864, Small\n",
      "Comparing effect size of KNN and SVM: Cohen's d=0.47957647598742886, Medium\n",
      "Comparing effect size of KNN and LR: Cohen's d=0.5351407140176145, Large\n",
      "Comparing effect size of KNN and MLP: Cohen's d=0.4482937810133883, Medium\n",
      "Comparing effect size of KNN and RF: Cohen's d=0.2136808727708291, Medium\n",
      "Comparing effect size of KNN and ET: Cohen's d=0.04173215566690245, Small\n",
      "Eta squared: 0.062719 (Large)\n"
     ]
    },
    {
     "data": {
      "image/png": "[encoded data removed]",
      "text/plain": [
       "<Figure size 432x288 with 1 Axes>"
      ]
     },
     "metadata": {
      "needs_background": "light"
     },
     "output_type": "display_data"
    }
   ],
   "source": [
    "compare_methods(X_pca2,Y,listAlgorithms,listParams,listNames,metric='auroc')"
   ]
  },
  {
   "cell_type": "code",
   "execution_count": 26,
   "metadata": {},
   "outputs": [
    {
     "name": "stdout",
     "output_type": "stream",
     "text": [
      "temp.csv\n",
      "['Arbol' 'SVM' 'KNN' 'LR' 'MLP' 'RF' 'ET']\n",
      "==========================================================\n",
      "Report\n",
      "==========================================================\n",
      "**********************************************************\n",
      "Mean and std\n",
      "**********************************************************\n",
      "Arbol: 0.604881 (0.251685)\n",
      "SVM: 0.560476 (0.229414)\n",
      "KNN: 0.668214 (0.263775)\n",
      "LR: 0.545833 (0.220456)\n",
      "MLP: 0.547500 (0.316536)\n",
      "RF: 0.591667 (0.218486)\n",
      "ET: 0.649167 (0.172016)\n",
      "**********************************************************\n",
      "Statistical tests\n",
      "**********************************************************\n",
      "----------------------------------------------------------\n",
      "Checking parametric conditions \n",
      "----------------------------------------------------------\n",
      "Checking independence \n",
      "Ok\n",
      "Checking normality using Shapiro-Wilk's test for normality, alpha=0.05\n",
      "W: 0.946500, p:0.004775\n",
      "The null hypothesis (normality) is rejected\n",
      "Checking heteroscedasticity using Levene's test, alpha=0.05\n",
      "W: 0.826600, p:0.553713\n",
      "The null hypothesis (heteroscedasticity) is accepted\n",
      "Conditions for a parametric test are not fulfilled, applying a non-parametric test\n",
      "----------------------------------------------------------\n",
      "Working with more than 2 algorithms\n",
      "----------------------------------------------------------\n",
      "----------------------------------------------------------\n",
      "Applying Friedman test\n",
      "----------------------------------------------------------\n",
      "F-value: 0.718473, p-value: 0.6363905279447114\n",
      "Null hypothesis is accepted; hence, we can't say that there is a significant difference in the performance of the models\n",
      "----------------------------------------------------------\n",
      "Analysing effect size\n",
      "----------------------------------------------------------\n",
      "We take the model with the best mean (KNN, mean: 0.668214) and compare it with the other models: \n",
      "Comparing effect size of KNN and Arbol: Cohen's d=0.23306088184910823, Medium\n",
      "Comparing effect size of KNN and SVM: Cohen's d=0.4134816283329166, Medium\n",
      "Comparing effect size of KNN and LR: Cohen's d=0.4776195767903159, Medium\n",
      "Comparing effect size of KNN and MLP: Cohen's d=0.39306246061154704, Medium\n",
      "Comparing effect size of KNN and RF: Cohen's d=0.299843374269119, Medium\n",
      "Comparing effect size of KNN and ET: Cohen's d=0.081151028687698, Small\n",
      "Eta squared: 0.033496 (Medium)\n"
     ]
    },
    {
     "data": {
      "image/png": "[encoded data removed]",
      "text/plain": [
       "<Figure size 432x288 with 1 Axes>"
      ]
     },
     "metadata": {
      "needs_background": "light"
     },
     "output_type": "display_data"
    }
   ],
   "source": [
    "compare_methods(X_pca2,Y,listAlgorithms,listParams,listNames,metric='precision')"
   ]
  },
  {
   "cell_type": "code",
   "execution_count": 27,
   "metadata": {},
   "outputs": [
    {
     "name": "stdout",
     "output_type": "stream",
     "text": [
      "temp.csv\n",
      "['Arbol' 'SVM' 'KNN' 'LR' 'MLP' 'RF' 'ET']\n",
      "==========================================================\n",
      "Report\n",
      "==========================================================\n",
      "**********************************************************\n",
      "Mean and std\n",
      "**********************************************************\n",
      "Arbol: 0.648810 (0.217453)\n",
      "SVM: 0.636310 (0.106959)\n",
      "KNN: 0.665476 (0.163616)\n",
      "LR: 0.568452 (0.239863)\n",
      "MLP: 0.549405 (0.286359)\n",
      "RF: 0.628571 (0.177840)\n",
      "ET: 0.694643 (0.163881)\n",
      "**********************************************************\n",
      "Statistical tests\n",
      "**********************************************************\n",
      "----------------------------------------------------------\n",
      "Checking parametric conditions \n",
      "----------------------------------------------------------\n",
      "Checking independence \n",
      "Ok\n",
      "Checking normality using Shapiro-Wilk's test for normality, alpha=0.05\n",
      "W: 0.949960, p:0.007216\n",
      "The null hypothesis (normality) is rejected\n",
      "Checking heteroscedasticity using Levene's test, alpha=0.05\n",
      "W: 0.831180, p:0.550324\n",
      "The null hypothesis (heteroscedasticity) is accepted\n",
      "Conditions for a parametric test are not fulfilled, applying a non-parametric test\n",
      "----------------------------------------------------------\n",
      "Working with more than 2 algorithms\n",
      "----------------------------------------------------------\n",
      "----------------------------------------------------------\n",
      "Applying Friedman test\n",
      "----------------------------------------------------------\n",
      "F-value: 0.882353, p-value: 0.5141984948824609\n",
      "Null hypothesis is accepted; hence, we can't say that there is a significant difference in the performance of the models\n",
      "----------------------------------------------------------\n",
      "Analysing effect size\n",
      "----------------------------------------------------------\n",
      "We take the model with the best mean (ET, mean: 0.694643) and compare it with the other models: \n",
      "Comparing effect size of ET and Arbol: Cohen's d=0.22583062140005453, Medium\n",
      "Comparing effect size of ET and SVM: Cohen's d=0.39991672738537865, Medium\n",
      "Comparing effect size of ET and KNN: Cohen's d=0.1689783546366505, Small\n",
      "Comparing effect size of ET and LR: Cohen's d=0.5827925587206223, Large\n",
      "Comparing effect size of ET and MLP: Cohen's d=0.5905895893412418, Large\n",
      "Comparing effect size of ET and RF: Cohen's d=0.3665487419015685, Medium\n",
      "Eta squared: 0.053636 (Medium)\n"
     ]
    },
    {
     "data": {
      "image/png": "[encoded data removed]",
      "text/plain": [
       "<Figure size 432x288 with 1 Axes>"
      ]
     },
     "metadata": {
      "needs_background": "light"
     },
     "output_type": "display_data"
    }
   ],
   "source": [
    "compare_methods(X_pca2,Y,listAlgorithms,listParams,listNames,metric='recall')"
   ]
  },
  {
   "cell_type": "code",
   "execution_count": 28,
   "metadata": {},
   "outputs": [
    {
     "name": "stdout",
     "output_type": "stream",
     "text": [
      "temp.csv\n",
      "['Arbol' 'SVM' 'KNN' 'LR' 'MLP' 'RF' 'ET']\n",
      "==========================================================\n",
      "Report\n",
      "==========================================================\n",
      "**********************************************************\n",
      "Mean and std\n",
      "**********************************************************\n",
      "Arbol: 0.638182 (0.155813)\n",
      "SVM: 0.588182 (0.096385)\n",
      "KNN: 0.676364 (0.154663)\n",
      "LR: 0.528182 (0.155794)\n",
      "MLP: 0.547273 (0.114618)\n",
      "RF: 0.597273 (0.070071)\n",
      "ET: 0.646364 (0.092750)\n",
      "**********************************************************\n",
      "Statistical tests\n",
      "**********************************************************\n",
      "----------------------------------------------------------\n",
      "Checking parametric conditions \n",
      "----------------------------------------------------------\n",
      "Checking independence \n",
      "Ok\n",
      "Checking normality using Shapiro-Wilk's test for normality, alpha=0.05\n",
      "W: 0.963359, p:0.038478\n",
      "The null hypothesis (normality) is rejected\n",
      "Checking heteroscedasticity using Levene's test, alpha=0.05\n",
      "W: 1.459281, p:0.206750\n",
      "The null hypothesis (heteroscedasticity) is rejected\n",
      "Conditions for a parametric test are not fulfilled, applying a non-parametric test\n",
      "----------------------------------------------------------\n",
      "Working with more than 2 algorithms\n",
      "----------------------------------------------------------\n",
      "----------------------------------------------------------\n",
      "Applying Friedman test\n",
      "----------------------------------------------------------\n",
      "F-value: 1.361842, p-value: 0.24672245657630176\n",
      "Null hypothesis is rejected; hence, models have different performance\n",
      "Technique      Ranking\n",
      "-----------  ---------\n",
      "KNN               4.95\n",
      "ET                4.9\n",
      "Arbol             4.35\n",
      "RF                4\n",
      "SVM               3.65\n",
      "LR                3.15\n",
      "MLP               3\n",
      "Winner model: KNN\n",
      "----------------------------------------------------------\n",
      "Applying Holm p-value adjustment procedure and analysing effect size\n",
      "----------------------------------------------------------\n",
      "Comparison       Zvalue    p-value    adjusted p-value\n",
      "------------  ---------  ---------  ------------------\n",
      "KNN vs MLP    2.01844    0.0435453            0.261272\n",
      "KNN vs LR     1.86318    0.0624374            0.312187\n",
      "KNN vs SVM    1.34563    0.178423             0.71369\n",
      "KNN vs RF     0.983343   0.325438             0.976315\n",
      "KNN vs Arbol  0.621059   0.534561             1\n",
      "KNN vs ET     0.0517549  0.958724             1\n",
      "There is a significant difference between the models: KNN (mean: 0.676364, std: 0.154663) and MLP (mean: 0.547273, std: 0.114618) (Cohen's d=0.8996877245934402, Large)\n",
      "There is a significant difference between the models: KNN (mean: 0.676364, std: 0.154663) and LR (mean: 0.528182, std: 0.155794) (Cohen's d=0.905609906203502, Large)\n",
      "We can't say that there is a significant difference in the performance of the models: KNN (mean: 0.676364, std: 0.154663) and SVM (mean: 0.588182, std: 0.096385) (Cohen's d=0.6491962469679475, Large)\n",
      "We can't say that there is a significant difference in the performance of the models: KNN (mean: 0.676364, std: 0.154663) and RF (mean: 0.597273, std: 0.070071) (Cohen's d=0.6249368607924064, Large)\n",
      "We can't say that there is a significant difference in the performance of the models: KNN (mean: 0.676364, std: 0.154663) and Arbol (mean: 0.638182, std: 0.155813) (Cohen's d=0.23333333333333345, Medium)\n",
      "We can't say that there is a significant difference in the performance of the models: KNN (mean: 0.676364, std: 0.154663) and ET (mean: 0.646364, std: 0.092750) (Cohen's d=0.22318308151918964, Medium)\n",
      "Eta squared: 0.138687 (Large)\n"
     ]
    },
    {
     "data": {
      "image/png": "[encoded data removed]",
      "text/plain": [
       "<Figure size 432x288 with 1 Axes>"
      ]
     },
     "metadata": {
      "needs_background": "light"
     },
     "output_type": "display_data"
    }
   ],
   "source": [
    "compare_methods(X_pca2,Y,listAlgorithms,listParams,listNames,metric='accuracy')"
   ]
  },
  {
   "cell_type": "markdown",
   "metadata": {
    "id": "4_aNOwHHORLf"
   },
   "source": [
    "# PCA with 10 components"
   ]
  },
  {
   "cell_type": "code",
   "execution_count": 29,
   "metadata": {
    "id": "XoW_W87nONDr"
   },
   "outputs": [],
   "source": [
    "pca = PCA(n_components=10)"
   ]
  },
  {
   "cell_type": "code",
   "execution_count": 30,
   "metadata": {
    "id": "D6xAEHgfOXqw"
   },
   "outputs": [
    {
     "data": {
      "text/plain": [
       "PCA(n_components=10)"
      ]
     },
     "execution_count": 30,
     "metadata": {},
     "output_type": "execute_result"
    }
   ],
   "source": [
    "pca.fit(X)"
   ]
  },
  {
   "cell_type": "code",
   "execution_count": 31,
   "metadata": {
    "id": "UsP9oOY0OYu2"
   },
   "outputs": [],
   "source": [
    "X_pca10 = pca.transform(X)"
   ]
  },
  {
   "cell_type": "code",
   "execution_count": 32,
   "metadata": {
    "id": "GJl8Qwv_OgCN"
   },
   "outputs": [],
   "source": [
    "!mv temp.csv temppca2.csv"
   ]
  },
  {
   "cell_type": "code",
   "execution_count": 33,
   "metadata": {
    "id": "fQo9oAaWObE9"
   },
   "outputs": [
    {
     "name": "stdout",
     "output_type": "stream",
     "text": [
      "temp.csv\n",
      "['Arbol' 'SVM' 'KNN' 'LR' 'MLP' 'RF' 'ET']\n",
      "==========================================================\n",
      "Report\n",
      "==========================================================\n",
      "**********************************************************\n",
      "Mean and std\n",
      "**********************************************************\n",
      "Arbol: 0.621667 (0.170884)\n",
      "SVM: 0.687976 (0.156379)\n",
      "KNN: 0.586488 (0.135158)\n",
      "LR: 0.704524 (0.095990)\n",
      "MLP: 0.645298 (0.109043)\n",
      "RF: 0.609881 (0.183304)\n",
      "ET: 0.614464 (0.146508)\n",
      "**********************************************************\n",
      "Statistical tests\n",
      "**********************************************************\n",
      "----------------------------------------------------------\n",
      "Checking parametric conditions \n",
      "----------------------------------------------------------\n",
      "Checking independence \n",
      "Ok\n",
      "Checking normality using Shapiro-Wilk's test for normality, alpha=0.05\n",
      "W: 0.983770, p:0.500861\n",
      "The null hypothesis (normality) is accepted\n",
      "Checking heteroscedasticity using Levene's test, alpha=0.05\n",
      "W: 0.603690, p:0.726336\n",
      "The null hypothesis (heteroscedasticity) is accepted\n",
      "Conditions for a parametric test are fulfilled\n",
      "----------------------------------------------------------\n",
      "Working with more than 2 algorithms\n",
      "----------------------------------------------------------\n",
      "----------------------------------------------------------\n",
      "Applying ANOVA test\n",
      "----------------------------------------------------------\n",
      "F-value: 0.796828, p-value: 0.5759723517510604\n",
      "Null hypothesis is accepted; hence, we can't say that there is a significant difference in the performance of the models\n",
      "----------------------------------------------------------\n",
      "Analysing effect size\n",
      "----------------------------------------------------------\n",
      "We take the model with the best mean (LR, mean: 0.704524) and compare it with the other models: \n",
      "Comparing effect size of LR and Arbol: Cohen's d=0.5671696922798015, Large\n",
      "Comparing effect size of LR and SVM: Cohen's d=0.12099326471029716, Small\n",
      "Comparing effect size of LR and KNN: Cohen's d=0.9552732313022304, Large\n",
      "Comparing effect size of LR and MLP: Cohen's d=0.5469706403730122, Large\n",
      "Comparing effect size of LR and RF: Cohen's d=0.6136626226406984, Large\n",
      "Comparing effect size of LR and ET: Cohen's d=0.6898397365132354, Large\n",
      "Eta squared: 0.070536 (Large)\n"
     ]
    },
    {
     "data": {
      "image/png": "[encoded data removed]",
      "text/plain": [
       "<Figure size 432x288 with 1 Axes>"
      ]
     },
     "metadata": {
      "needs_background": "light"
     },
     "output_type": "display_data"
    }
   ],
   "source": [
    "compare_methods(X_pca10,Y,listAlgorithms,listParams,listNames,metric='auroc')"
   ]
  },
  {
   "cell_type": "code",
   "execution_count": 34,
   "metadata": {},
   "outputs": [
    {
     "name": "stdout",
     "output_type": "stream",
     "text": [
      "temp.csv\n",
      "['Arbol' 'SVM' 'KNN' 'LR' 'MLP' 'RF' 'ET']\n",
      "==========================================================\n",
      "Report\n",
      "==========================================================\n",
      "**********************************************************\n",
      "Mean and std\n",
      "**********************************************************\n",
      "Arbol: 0.675000 (0.275000)\n",
      "SVM: 0.676310 (0.193267)\n",
      "KNN: 0.543056 (0.191560)\n",
      "LR: 0.681548 (0.162523)\n",
      "MLP: 0.597738 (0.289919)\n",
      "RF: 0.600000 (0.240947)\n",
      "ET: 0.615556 (0.181690)\n",
      "**********************************************************\n",
      "Statistical tests\n",
      "**********************************************************\n",
      "----------------------------------------------------------\n",
      "Checking parametric conditions \n",
      "----------------------------------------------------------\n",
      "Checking independence \n",
      "Ok\n",
      "Checking normality using Shapiro-Wilk's test for normality, alpha=0.05\n",
      "W: 0.959895, p:0.024703\n",
      "The null hypothesis (normality) is rejected\n",
      "Checking heteroscedasticity using Levene's test, alpha=0.05\n",
      "W: 0.775617, p:0.592056\n",
      "The null hypothesis (heteroscedasticity) is accepted\n",
      "Conditions for a parametric test are not fulfilled, applying a non-parametric test\n",
      "----------------------------------------------------------\n",
      "Working with more than 2 algorithms\n",
      "----------------------------------------------------------\n",
      "----------------------------------------------------------\n",
      "Applying Friedman test\n",
      "----------------------------------------------------------\n",
      "F-value: 1.698366, p-value: 0.13918861319638332\n",
      "Null hypothesis is rejected; hence, models have different performance\n",
      "Technique      Ranking\n",
      "-----------  ---------\n",
      "LR                4.9\n",
      "SVM               4.9\n",
      "Arbol             4.25\n",
      "MLP               4.15\n",
      "ET                3.7\n",
      "RF                3.7\n",
      "KNN               2.4\n",
      "Winner model: LR\n",
      "----------------------------------------------------------\n",
      "Applying Holm p-value adjustment procedure and analysing effect size\n",
      "----------------------------------------------------------\n",
      "Comparison      Zvalue     p-value    adjusted p-value\n",
      "------------  --------  ----------  ------------------\n",
      "LR vs KNN     2.58775   0.00966062           0.0579637\n",
      "LR vs RF      1.24212   0.214193             1\n",
      "LR vs ET      1.24212   0.214193             1\n",
      "LR vs MLP     0.776324  0.437558             1\n",
      "LR vs Arbol   0.672814  0.501066             1\n",
      "LR vs SVM     0         1                    1\n",
      "There is a significant difference between the models: LR (mean: 0.681548, std: 0.162523) and KNN (mean: 0.543056, std: 0.191560) (Cohen's d=0.7396317404846163, Large)\n",
      "We can't say that there is a significant difference in the performance of the models: LR (mean: 0.681548, std: 0.162523) and RF (mean: 0.600000, std: 0.240947) (Cohen's d=0.37644229399565, Medium)\n",
      "We can't say that there is a significant difference in the performance of the models: LR (mean: 0.681548, std: 0.162523) and ET (mean: 0.615556, std: 0.181690) (Cohen's d=0.3631987538405323, Medium)\n",
      "We can't say that there is a significant difference in the performance of the models: LR (mean: 0.681548, std: 0.162523) and MLP (mean: 0.597738, std: 0.289919) (Cohen's d=0.33830965399130714, Medium)\n",
      "We can't say that there is a significant difference in the performance of the models: LR (mean: 0.681548, std: 0.162523) and Arbol (mean: 0.675000, std: 0.275000) (Cohen's d=0.027500296011723248, Small)\n",
      "We can't say that there is a significant difference in the performance of the models: LR (mean: 0.681548, std: 0.162523) and SVM (mean: 0.676310, std: 0.193267) (Cohen's d=0.02783016476733505, Small)\n",
      "Eta squared: 0.044805 (Medium)\n"
     ]
    },
    {
     "data": {
      "image/png": "[encoded data removed]",
      "text/plain": [
       "<Figure size 432x288 with 1 Axes>"
      ]
     },
     "metadata": {
      "needs_background": "light"
     },
     "output_type": "display_data"
    }
   ],
   "source": [
    "compare_methods(X_pca10,Y,listAlgorithms,listParams,listNames,metric='precision')"
   ]
  },
  {
   "cell_type": "code",
   "execution_count": 35,
   "metadata": {},
   "outputs": [
    {
     "name": "stdout",
     "output_type": "stream",
     "text": [
      "temp.csv\n",
      "['Arbol' 'SVM' 'KNN' 'LR' 'MLP' 'RF' 'ET']\n",
      "==========================================================\n",
      "Report\n",
      "==========================================================\n",
      "**********************************************************\n",
      "Mean and std\n",
      "**********************************************************\n",
      "Arbol: 0.541667 (0.216866)\n",
      "SVM: 0.757738 (0.183890)\n",
      "KNN: 0.817857 (0.140965)\n",
      "LR: 0.755952 (0.158136)\n",
      "MLP: 0.627381 (0.330174)\n",
      "RF: 0.573214 (0.263362)\n",
      "ET: 0.619048 (0.256933)\n",
      "**********************************************************\n",
      "Statistical tests\n",
      "**********************************************************\n",
      "----------------------------------------------------------\n",
      "Checking parametric conditions \n",
      "----------------------------------------------------------\n",
      "Checking independence \n",
      "Ok\n",
      "Checking normality using Shapiro-Wilk's test for normality, alpha=0.05\n",
      "W: 0.935252, p:0.001321\n",
      "The null hypothesis (normality) is rejected\n",
      "Checking heteroscedasticity using Levene's test, alpha=0.05\n",
      "W: 2.402566, p:0.037355\n",
      "The null hypothesis (heteroscedasticity) is rejected\n",
      "Conditions for a parametric test are not fulfilled, applying a non-parametric test\n",
      "----------------------------------------------------------\n",
      "Working with more than 2 algorithms\n",
      "----------------------------------------------------------\n",
      "----------------------------------------------------------\n",
      "Applying Friedman test\n",
      "----------------------------------------------------------\n",
      "F-value: 2.710037, p-value: 0.022527416484468654\n",
      "Null hypothesis is rejected; hence, models have different performance\n",
      "Technique      Ranking\n",
      "-----------  ---------\n",
      "KNN               5.4\n",
      "LR                4.9\n",
      "SVM               4.85\n",
      "MLP               3.65\n",
      "ET                3.45\n",
      "RF                3\n",
      "Arbol             2.75\n",
      "Winner model: KNN\n",
      "----------------------------------------------------------\n",
      "Applying Holm p-value adjustment procedure and analysing effect size\n",
      "----------------------------------------------------------\n",
      "Comparison      Zvalue     p-value    adjusted p-value\n",
      "------------  --------  ----------  ------------------\n",
      "KNN vs Arbol  2.74301   0.00608787           0.0365272\n",
      "KNN vs RF     2.48424   0.012983             0.0649149\n",
      "KNN vs ET     2.01844   0.0435453            0.174181\n",
      "KNN vs MLP    1.81142   0.0700755            0.210227\n",
      "KNN vs SVM    0.569304  0.56915              1\n",
      "KNN vs LR     0.517549  0.604773             1\n",
      "There is a significant difference between the models: KNN (mean: 0.817857, std: 0.140965) and Arbol (mean: 0.541667, std: 0.216866) (Cohen's d=1.4326022747553486, Large)\n",
      "There is a significant difference between the models: KNN (mean: 0.817857, std: 0.140965) and RF (mean: 0.573214, std: 0.263362) (Cohen's d=1.0987816752053698, Large)\n",
      "There is a significant difference between the models: KNN (mean: 0.817857, std: 0.140965) and ET (mean: 0.619048, std: 0.256933) (Cohen's d=0.9101496959847702, Large)\n",
      "There is a significant difference between the models: KNN (mean: 0.817857, std: 0.140965) and MLP (mean: 0.627381, std: 0.330174) (Cohen's d=0.7118262258722602, Large)\n",
      "We can't say that there is a significant difference in the performance of the models: KNN (mean: 0.817857, std: 0.140965) and SVM (mean: 0.757738, std: 0.183890) (Cohen's d=0.34810918301559574, Medium)\n",
      "We can't say that there is a significant difference in the performance of the models: KNN (mean: 0.817857, std: 0.140965) and LR (mean: 0.755952, std: 0.158136) (Cohen's d=0.3920513850394314, Medium)\n",
      "Eta squared: 0.153657 (Large)\n"
     ]
    },
    {
     "data": {
      "image/png": "[encoded data removed]",
      "text/plain": [
       "<Figure size 432x288 with 1 Axes>"
      ]
     },
     "metadata": {
      "needs_background": "light"
     },
     "output_type": "display_data"
    }
   ],
   "source": [
    "compare_methods(X_pca10,Y,listAlgorithms,listParams,listNames,metric='recall')"
   ]
  },
  {
   "cell_type": "code",
   "execution_count": 36,
   "metadata": {},
   "outputs": [
    {
     "name": "stdout",
     "output_type": "stream",
     "text": [
      "temp.csv\n",
      "['Arbol' 'SVM' 'KNN' 'LR' 'MLP' 'RF' 'ET']\n",
      "==========================================================\n",
      "Report\n",
      "==========================================================\n",
      "**********************************************************\n",
      "Mean and std\n",
      "**********************************************************\n",
      "Arbol: 0.623636 (0.183231)\n",
      "SVM: 0.695455 (0.161258)\n",
      "KNN: 0.558182 (0.129155)\n",
      "LR: 0.705455 (0.088158)\n",
      "MLP: 0.637273 (0.076650)\n",
      "RF: 0.576364 (0.164653)\n",
      "ET: 0.585455 (0.147104)\n",
      "**********************************************************\n",
      "Statistical tests\n",
      "**********************************************************\n",
      "----------------------------------------------------------\n",
      "Checking parametric conditions \n",
      "----------------------------------------------------------\n",
      "Checking independence \n",
      "Ok\n",
      "Checking normality using Shapiro-Wilk's test for normality, alpha=0.05\n",
      "W: 0.956488, p:0.016083\n",
      "The null hypothesis (normality) is rejected\n",
      "Checking heteroscedasticity using Levene's test, alpha=0.05\n",
      "W: 1.203109, p:0.316526\n",
      "The null hypothesis (heteroscedasticity) is rejected\n",
      "Conditions for a parametric test are not fulfilled, applying a non-parametric test\n",
      "----------------------------------------------------------\n",
      "Working with more than 2 algorithms\n",
      "----------------------------------------------------------\n",
      "----------------------------------------------------------\n",
      "Applying Friedman test\n",
      "----------------------------------------------------------\n",
      "F-value: 3.692017, p-value: 0.00380456942538554\n",
      "Null hypothesis is rejected; hence, models have different performance\n",
      "Technique      Ranking\n",
      "-----------  ---------\n",
      "LR                5.5\n",
      "SVM               5.4\n",
      "MLP               4.5\n",
      "Arbol             3.9\n",
      "ET                3.05\n",
      "KNN               2.9\n",
      "RF                2.75\n",
      "Winner model: LR\n",
      "----------------------------------------------------------\n",
      "Applying Holm p-value adjustment procedure and analysing effect size\n",
      "----------------------------------------------------------\n",
      "Comparison      Zvalue     p-value    adjusted p-value\n",
      "------------  --------  ----------  ------------------\n",
      "LR vs RF       2.84652  0.00441999           0.0265199\n",
      "LR vs KNN      2.69126  0.00711836           0.0355918\n",
      "LR vs ET       2.53599  0.011213             0.0448519\n",
      "LR vs Arbol    1.65616  0.09769              0.29307\n",
      "LR vs MLP      1.0351   0.300623             0.601246\n",
      "LR vs SVM      0.10351  0.917558             0.917558\n",
      "There is a significant difference between the models: LR (mean: 0.705455, std: 0.088158) and RF (mean: 0.576364, std: 0.164653) (Cohen's d=0.9273148401362519, Large)\n",
      "There is a significant difference between the models: LR (mean: 0.705455, std: 0.088158) and KNN (mean: 0.558182, std: 0.129155) (Cohen's d=1.2635529967027672, Large)\n",
      "There is a significant difference between the models: LR (mean: 0.705455, std: 0.088158) and ET (mean: 0.585455, std: 0.147104) (Cohen's d=0.9387682497204256, Large)\n",
      "There is a significant difference between the models: LR (mean: 0.705455, std: 0.088158) and Arbol (mean: 0.623636, std: 0.183231) (Cohen's d=0.5398488634743791, Large)\n",
      "We can't say that there is a significant difference in the performance of the models: LR (mean: 0.705455, std: 0.088158) and MLP (mean: 0.637273, std: 0.076650) (Cohen's d=0.7830410418226547, Large)\n",
      "We can't say that there is a significant difference in the performance of the models: LR (mean: 0.705455, std: 0.088158) and SVM (mean: 0.695455, std: 0.161258) (Cohen's d=0.07300152490315057, Small)\n",
      "Eta squared: 0.125930 (Large)\n"
     ]
    },
    {
     "data": {
      "image/png": "[encoded data removed]",
      "text/plain": [
       "<Figure size 432x288 with 1 Axes>"
      ]
     },
     "metadata": {
      "needs_background": "light"
     },
     "output_type": "display_data"
    }
   ],
   "source": [
    "compare_methods(X_pca10,Y,listAlgorithms,listParams,listNames,metric='accuracy')"
   ]
  },
  {
   "cell_type": "code",
   "execution_count": 37,
   "metadata": {
    "id": "uUqwDOQLOjtd"
   },
   "outputs": [],
   "source": [
    "!mv temp.csv temppca10.csv"
   ]
  },
  {
   "cell_type": "markdown",
   "metadata": {
    "id": "7wgUs9MrOuQE"
   },
   "source": [
    "# PCA with 100 components"
   ]
  },
  {
   "cell_type": "code",
   "execution_count": 38,
   "metadata": {
    "id": "Ef54_v0COuQF"
   },
   "outputs": [],
   "source": [
    "pca = PCA(n_components=100)"
   ]
  },
  {
   "cell_type": "code",
   "execution_count": 39,
   "metadata": {
    "id": "ejF2FGo0OuQG"
   },
   "outputs": [
    {
     "data": {
      "text/plain": [
       "PCA(n_components=100)"
      ]
     },
     "execution_count": 39,
     "metadata": {},
     "output_type": "execute_result"
    }
   ],
   "source": [
    "pca.fit(X)"
   ]
  },
  {
   "cell_type": "code",
   "execution_count": 40,
   "metadata": {
    "id": "AAI4QlOZOuQG"
   },
   "outputs": [],
   "source": [
    "X_pca100 = pca.transform(X)"
   ]
  },
  {
   "cell_type": "code",
   "execution_count": 41,
   "metadata": {
    "id": "JVbgf7IdOuQH",
    "scrolled": true
   },
   "outputs": [
    {
     "name": "stdout",
     "output_type": "stream",
     "text": [
      "temp.csv\n",
      "['Arbol' 'SVM' 'KNN' 'LR' 'MLP' 'RF' 'ET']\n",
      "==========================================================\n",
      "Report\n",
      "==========================================================\n",
      "**********************************************************\n",
      "Mean and std\n",
      "**********************************************************\n",
      "Arbol: 0.494345 (0.188318)\n",
      "SVM: 0.731964 (0.105599)\n",
      "KNN: 0.709940 (0.088291)\n",
      "LR: 0.710000 (0.137790)\n",
      "MLP: 0.512857 (0.154670)\n",
      "RF: 0.603393 (0.184920)\n",
      "ET: 0.543155 (0.163670)\n",
      "**********************************************************\n",
      "Statistical tests\n",
      "**********************************************************\n",
      "----------------------------------------------------------\n",
      "Checking parametric conditions \n",
      "----------------------------------------------------------\n",
      "Checking independence \n",
      "Ok\n",
      "Checking normality using Shapiro-Wilk's test for normality, alpha=0.05\n",
      "W: 0.948293, p:0.005908\n",
      "The null hypothesis (normality) is rejected\n",
      "Checking heteroscedasticity using Levene's test, alpha=0.05\n",
      "W: 1.014641, p:0.424025\n",
      "The null hypothesis (heteroscedasticity) is rejected\n",
      "Conditions for a parametric test are not fulfilled, applying a non-parametric test\n",
      "----------------------------------------------------------\n",
      "Working with more than 2 algorithms\n",
      "----------------------------------------------------------\n",
      "----------------------------------------------------------\n",
      "Applying Friedman test\n",
      "----------------------------------------------------------\n",
      "F-value: 4.006452, p-value: 0.002173916243950913\n",
      "Null hypothesis is rejected; hence, models have different performance\n",
      "Technique      Ranking\n",
      "-----------  ---------\n",
      "SVM               5.5\n",
      "LR                5.4\n",
      "KNN               4.65\n",
      "RF                3.8\n",
      "ET                3.2\n",
      "Arbol             2.9\n",
      "MLP               2.55\n",
      "Winner model: SVM\n",
      "----------------------------------------------------------\n",
      "Applying Holm p-value adjustment procedure and analysing effect size\n",
      "----------------------------------------------------------\n",
      "Comparison      Zvalue     p-value    adjusted p-value\n",
      "------------  --------  ----------  ------------------\n",
      "SVM vs MLP    3.05354   0.00226158           0.0135695\n",
      "SVM vs Arbol  2.69126   0.00711836           0.0355918\n",
      "SVM vs ET     2.38073   0.0172786            0.0691142\n",
      "SVM vs RF     1.75967   0.0784643            0.235393\n",
      "SVM vs KNN    0.879834  0.378949             0.757899\n",
      "SVM vs LR     0.10351   0.917558             0.917558\n",
      "There is a significant difference between the models: SVM (mean: 0.731964, std: 0.105599) and MLP (mean: 0.512857, std: 0.154670) (Cohen's d=1.5696403562907653, Large)\n",
      "There is a significant difference between the models: SVM (mean: 0.731964, std: 0.105599) and Arbol (mean: 0.494345, std: 0.188318) (Cohen's d=1.4765783660408196, Large)\n",
      "There is a significant difference between the models: SVM (mean: 0.731964, std: 0.105599) and ET (mean: 0.543155, std: 0.163670) (Cohen's d=1.3005203617614638, Large)\n",
      "There is a significant difference between the models: SVM (mean: 0.731964, std: 0.105599) and RF (mean: 0.603393, std: 0.184920) (Cohen's d=0.8100442372174324, Large)\n",
      "We can't say that there is a significant difference in the performance of the models: SVM (mean: 0.731964, std: 0.105599) and KNN (mean: 0.709940, std: 0.088291) (Cohen's d=0.21466682611901883, Medium)\n",
      "We can't say that there is a significant difference in the performance of the models: SVM (mean: 0.731964, std: 0.105599) and LR (mean: 0.710000, std: 0.137790) (Cohen's d=0.16974677731309995, Small)\n",
      "Eta squared: 0.281452 (Large)\n"
     ]
    },
    {
     "data": {
      "image/png": "[encoded data removed]",
      "text/plain": [
       "<Figure size 432x288 with 1 Axes>"
      ]
     },
     "metadata": {
      "needs_background": "light"
     },
     "output_type": "display_data"
    }
   ],
   "source": [
    "compare_methods(X_pca100,Y,listAlgorithms,listParams,listNames,metric='auroc')"
   ]
  },
  {
   "cell_type": "code",
   "execution_count": 42,
   "metadata": {},
   "outputs": [
    {
     "name": "stdout",
     "output_type": "stream",
     "text": [
      "temp.csv\n",
      "['Arbol' 'SVM' 'KNN' 'LR' 'MLP' 'RF' 'ET']\n",
      "==========================================================\n",
      "Report\n",
      "==========================================================\n",
      "**********************************************************\n",
      "Mean and std\n",
      "**********************************************************\n",
      "Arbol: 0.530833 (0.324638)\n",
      "SVM: 0.710000 (0.244972)\n",
      "KNN: 0.748333 (0.215052)\n",
      "LR: 0.663333 (0.256233)\n",
      "MLP: 0.487262 (0.276791)\n",
      "RF: 0.630952 (0.366736)\n",
      "ET: 0.609524 (0.333027)\n",
      "**********************************************************\n",
      "Statistical tests\n",
      "**********************************************************\n",
      "----------------------------------------------------------\n",
      "Checking parametric conditions \n",
      "----------------------------------------------------------\n",
      "Checking independence \n",
      "Ok\n",
      "Checking normality using Shapiro-Wilk's test for normality, alpha=0.05\n",
      "W: 0.898640, p:0.000034\n",
      "The null hypothesis (normality) is rejected\n",
      "Checking heteroscedasticity using Levene's test, alpha=0.05\n",
      "W: 0.994544, p:0.436869\n",
      "The null hypothesis (heteroscedasticity) is rejected\n",
      "Conditions for a parametric test are not fulfilled, applying a non-parametric test\n",
      "----------------------------------------------------------\n",
      "Working with more than 2 algorithms\n",
      "----------------------------------------------------------\n",
      "----------------------------------------------------------\n",
      "Applying Friedman test\n",
      "----------------------------------------------------------\n",
      "F-value: 2.280215, p-value: 0.04925996160864354\n",
      "Null hypothesis is rejected; hence, models have different performance\n",
      "Technique      Ranking\n",
      "-----------  ---------\n",
      "SVM               5.05\n",
      "KNN               5\n",
      "LR                4.5\n",
      "ET                4\n",
      "RF                3.95\n",
      "Arbol             3.05\n",
      "MLP               2.45\n",
      "Winner model: SVM\n",
      "----------------------------------------------------------\n",
      "Applying Holm p-value adjustment procedure and analysing effect size\n",
      "----------------------------------------------------------\n",
      "Comparison       Zvalue     p-value    adjusted p-value\n",
      "------------  ---------  ----------  ------------------\n",
      "SVM vs MLP    2.69126    0.00711836           0.0427102\n",
      "SVM vs Arbol  2.0702     0.0384339            0.19217\n",
      "SVM vs RF     1.13861    0.254867             1\n",
      "SVM vs ET     1.08685    0.277102             1\n",
      "SVM vs LR     0.569304   0.56915              1\n",
      "SVM vs KNN    0.0517549  0.958724             1\n",
      "There is a significant difference between the models: SVM (mean: 0.710000, std: 0.244972) and MLP (mean: 0.487262, std: 0.276791) (Cohen's d=0.8084747391423815, Large)\n",
      "There is a significant difference between the models: SVM (mean: 0.710000, std: 0.244972) and Arbol (mean: 0.530833, std: 0.324638) (Cohen's d=0.5910507899395265, Large)\n",
      "We can't say that there is a significant difference in the performance of the models: SVM (mean: 0.710000, std: 0.244972) and RF (mean: 0.630952, std: 0.366736) (Cohen's d=0.24046833785170565, Medium)\n",
      "We can't say that there is a significant difference in the performance of the models: SVM (mean: 0.710000, std: 0.244972) and ET (mean: 0.609524, std: 0.333027) (Cohen's d=0.32606586301463497, Medium)\n",
      "We can't say that there is a significant difference in the performance of the models: SVM (mean: 0.710000, std: 0.244972) and LR (mean: 0.663333, std: 0.256233) (Cohen's d=0.17661719608309545, Small)\n",
      "We can't say that there is a significant difference in the performance of the models: SVM (mean: 0.710000, std: 0.244972) and KNN (mean: 0.748333, std: 0.215052) (Cohen's d=0.15777251129511446, Small)\n",
      "Eta squared: 0.079860 (Large)\n"
     ]
    },
    {
     "data": {
      "image/png": "[encoded data removed]",
      "text/plain": [
       "<Figure size 432x288 with 1 Axes>"
      ]
     },
     "metadata": {
      "needs_background": "light"
     },
     "output_type": "display_data"
    }
   ],
   "source": [
    "compare_methods(X_pca100,Y,listAlgorithms,listParams,listNames,metric='precision')"
   ]
  },
  {
   "cell_type": "code",
   "execution_count": 43,
   "metadata": {},
   "outputs": [
    {
     "name": "stdout",
     "output_type": "stream",
     "text": [
      "temp.csv\n",
      "['Arbol' 'SVM' 'KNN' 'LR' 'MLP' 'RF' 'ET']\n",
      "==========================================================\n",
      "Report\n",
      "==========================================================\n",
      "**********************************************************\n",
      "Mean and std\n",
      "**********************************************************\n",
      "Arbol: 0.445833 (0.181610)\n",
      "SVM: 0.683333 (0.221774)\n",
      "KNN: 0.595833 (0.179214)\n",
      "LR: 0.711905 (0.183874)\n",
      "MLP: 0.580357 (0.285109)\n",
      "RF: 0.498810 (0.322988)\n",
      "ET: 0.436905 (0.258202)\n",
      "**********************************************************\n",
      "Statistical tests\n",
      "**********************************************************\n",
      "----------------------------------------------------------\n",
      "Checking parametric conditions \n",
      "----------------------------------------------------------\n",
      "Checking independence \n",
      "Ok\n",
      "Checking normality using Shapiro-Wilk's test for normality, alpha=0.05\n",
      "W: 0.960854, p:0.027913\n",
      "The null hypothesis (normality) is rejected\n",
      "Checking heteroscedasticity using Levene's test, alpha=0.05\n",
      "W: 1.027619, p:0.415869\n",
      "The null hypothesis (heteroscedasticity) is rejected\n",
      "Conditions for a parametric test are not fulfilled, applying a non-parametric test\n",
      "----------------------------------------------------------\n",
      "Working with more than 2 algorithms\n",
      "----------------------------------------------------------\n",
      "----------------------------------------------------------\n",
      "Applying Friedman test\n",
      "----------------------------------------------------------\n",
      "F-value: 2.111111, p-value: 0.06686973020344233\n",
      "Null hypothesis is rejected; hence, models have different performance\n",
      "Technique      Ranking\n",
      "-----------  ---------\n",
      "LR                5.15\n",
      "SVM               4.85\n",
      "MLP               4.6\n",
      "KNN               4.15\n",
      "RF                3.55\n",
      "Arbol             3\n",
      "ET                2.7\n",
      "Winner model: LR\n",
      "----------------------------------------------------------\n",
      "Applying Holm p-value adjustment procedure and analysing effect size\n",
      "----------------------------------------------------------\n",
      "Comparison      Zvalue    p-value    adjusted p-value\n",
      "------------  --------  ---------  ------------------\n",
      "LR vs ET      2.53599   0.011213            0.0672778\n",
      "LR vs Arbol   2.22546   0.0260503           0.130251\n",
      "LR vs RF      1.65616   0.09769             0.39076\n",
      "LR vs KNN     1.0351    0.300623            0.901869\n",
      "LR vs MLP     0.569304  0.56915             1\n",
      "LR vs SVM     0.31053   0.756158            1\n",
      "There is a significant difference between the models: LR (mean: 0.711905, std: 0.183874) and ET (mean: 0.436905, std: 0.258202) (Cohen's d=1.1639499425692066, Large)\n",
      "There is a significant difference between the models: LR (mean: 0.711905, std: 0.183874) and Arbol (mean: 0.445833, std: 0.181610) (Cohen's d=1.3812526468587423, Large)\n",
      "There is a significant difference between the models: LR (mean: 0.711905, std: 0.183874) and RF (mean: 0.498810, std: 0.322988) (Cohen's d=0.7692454568088214, Large)\n",
      "We can't say that there is a significant difference in the performance of the models: LR (mean: 0.711905, std: 0.183874) and KNN (mean: 0.595833, std: 0.179214) (Cohen's d=0.6064977360639021, Large)\n",
      "We can't say that there is a significant difference in the performance of the models: LR (mean: 0.711905, std: 0.183874) and MLP (mean: 0.580357, std: 0.285109) (Cohen's d=0.5202208557335553, Large)\n",
      "We can't say that there is a significant difference in the performance of the models: LR (mean: 0.711905, std: 0.183874) and SVM (mean: 0.683333, std: 0.221774) (Cohen's d=0.13305982877182262, Small)\n",
      "Eta squared: 0.151992 (Large)\n"
     ]
    },
    {
     "data": {
      "image/png": "[encoded data removed]",
      "text/plain": [
       "<Figure size 432x288 with 1 Axes>"
      ]
     },
     "metadata": {
      "needs_background": "light"
     },
     "output_type": "display_data"
    }
   ],
   "source": [
    "compare_methods(X_pca100,Y,listAlgorithms,listParams,listNames,metric='recall')"
   ]
  },
  {
   "cell_type": "code",
   "execution_count": 44,
   "metadata": {},
   "outputs": [
    {
     "name": "stdout",
     "output_type": "stream",
     "text": [
      "temp.csv\n",
      "['Arbol' 'SVM' 'KNN' 'LR' 'MLP' 'RF' 'ET']\n",
      "==========================================================\n",
      "Report\n",
      "==========================================================\n",
      "**********************************************************\n",
      "Mean and std\n",
      "**********************************************************\n",
      "Arbol: 0.467273 (0.168228)\n",
      "SVM: 0.694545 (0.106964)\n",
      "KNN: 0.694545 (0.097166)\n",
      "LR: 0.678182 (0.107811)\n",
      "MLP: 0.510000 (0.103049)\n",
      "RF: 0.524545 (0.172299)\n",
      "ET: 0.465455 (0.164734)\n",
      "**********************************************************\n",
      "Statistical tests\n",
      "**********************************************************\n",
      "----------------------------------------------------------\n",
      "Checking parametric conditions \n",
      "----------------------------------------------------------\n",
      "Checking independence \n",
      "Ok\n",
      "Checking normality using Shapiro-Wilk's test for normality, alpha=0.05\n",
      "W: 0.939407, p:0.002102\n",
      "The null hypothesis (normality) is rejected\n",
      "Checking heteroscedasticity using Levene's test, alpha=0.05\n",
      "W: 1.280320, p:0.279223\n",
      "The null hypothesis (heteroscedasticity) is rejected\n",
      "Conditions for a parametric test are not fulfilled, applying a non-parametric test\n",
      "----------------------------------------------------------\n",
      "Working with more than 2 algorithms\n",
      "----------------------------------------------------------\n",
      "----------------------------------------------------------\n",
      "Applying Friedman test\n",
      "----------------------------------------------------------\n",
      "F-value: 5.338549, p-value: 0.0002194594553570628\n",
      "Null hypothesis is rejected; hence, models have different performance\n",
      "Technique      Ranking\n",
      "-----------  ---------\n",
      "SVM               5.55\n",
      "KNN               5.35\n",
      "LR                5.25\n",
      "RF                3.45\n",
      "MLP               2.85\n",
      "Arbol             2.85\n",
      "ET                2.7\n",
      "Winner model: SVM\n",
      "----------------------------------------------------------\n",
      "Applying Holm p-value adjustment procedure and analysing effect size\n",
      "----------------------------------------------------------\n",
      "Comparison      Zvalue     p-value    adjusted p-value\n",
      "------------  --------  ----------  ------------------\n",
      "SVM vs ET      2.95003  0.00317743           0.0190646\n",
      "SVM vs Arbol   2.79477  0.00519374           0.0259687\n",
      "SVM vs MLP     2.79477  0.00519374           0.0259687\n",
      "SVM vs RF      2.17371  0.0297272            0.0891815\n",
      "SVM vs LR      0.31053  0.756158             1\n",
      "SVM vs KNN     0.20702  0.835994             1\n",
      "There is a significant difference between the models: SVM (mean: 0.694545, std: 0.106964) and ET (mean: 0.465455, std: 0.164734) (Cohen's d=1.564845155246094, Large)\n",
      "There is a significant difference between the models: SVM (mean: 0.694545, std: 0.106964) and Arbol (mean: 0.467273, std: 0.168228) (Cohen's d=1.5295296624087817, Large)\n",
      "There is a significant difference between the models: SVM (mean: 0.694545, std: 0.106964) and MLP (mean: 0.510000, std: 0.103049) (Cohen's d=1.6669923132455462, Large)\n",
      "There is a significant difference between the models: SVM (mean: 0.694545, std: 0.106964) and RF (mean: 0.524545, std: 0.172299) (Cohen's d=1.124646030920782, Large)\n",
      "We can't say that there is a significant difference in the performance of the models: SVM (mean: 0.694545, std: 0.106964) and LR (mean: 0.678182, std: 0.107811) (Cohen's d=0.1445587554183261, Small)\n",
      "We can't say that there is a significant difference in the performance of the models: SVM (mean: 0.694545, std: 0.106964) and KNN (mean: 0.694545, std: 0.097166) (Cohen's d=0.0, Small)\n",
      "Eta squared: 0.351755 (Large)\n"
     ]
    },
    {
     "data": {
      "image/png": "[encoded data removed]",
      "text/plain": [
       "<Figure size 432x288 with 1 Axes>"
      ]
     },
     "metadata": {
      "needs_background": "light"
     },
     "output_type": "display_data"
    }
   ],
   "source": [
    "compare_methods(X_pca100,Y,listAlgorithms,listParams,listNames,metric='accuracy')"
   ]
  },
  {
   "cell_type": "code",
   "execution_count": 45,
   "metadata": {
    "id": "DNplq4INOuQI"
   },
   "outputs": [],
   "source": [
    "!mv temp.csv temppca100.csv"
   ]
  },
  {
   "cell_type": "markdown",
   "metadata": {
    "id": "B9xyvRUBJ4Yg"
   },
   "source": [
    "# TSNE with 2 components"
   ]
  },
  {
   "cell_type": "code",
   "execution_count": 46,
   "metadata": {
    "id": "cgeSd7wqJ4MA"
   },
   "outputs": [],
   "source": [
    "from sklearn.manifold import TSNE"
   ]
  },
  {
   "cell_type": "code",
   "execution_count": 47,
   "metadata": {
    "id": "VqpY0-F7JWkP"
   },
   "outputs": [],
   "source": [
    "Xtsne2 = TSNE(n_components=2).fit_transform(X)"
   ]
  },
  {
   "cell_type": "code",
   "execution_count": 48,
   "metadata": {
    "id": "JLGsE9ymKGAf",
    "scrolled": true
   },
   "outputs": [
    {
     "name": "stdout",
     "output_type": "stream",
     "text": [
      "temp.csv\n",
      "['Arbol' 'SVM' 'KNN' 'LR' 'MLP' 'RF' 'ET']\n",
      "==========================================================\n",
      "Report\n",
      "==========================================================\n",
      "**********************************************************\n",
      "Mean and std\n",
      "**********************************************************\n",
      "Arbol: 0.489167 (0.179218)\n",
      "SVM: 0.559048 (0.142249)\n",
      "KNN: 0.450655 (0.134957)\n",
      "LR: 0.429821 (0.129595)\n",
      "MLP: 0.489107 (0.118809)\n",
      "RF: 0.426786 (0.143730)\n",
      "ET: 0.510179 (0.068552)\n",
      "**********************************************************\n",
      "Statistical tests\n",
      "**********************************************************\n",
      "----------------------------------------------------------\n",
      "Checking parametric conditions \n",
      "----------------------------------------------------------\n",
      "Checking independence \n",
      "Ok\n",
      "Checking normality using Shapiro-Wilk's test for normality, alpha=0.05\n",
      "W: 0.990169, p:0.862662\n",
      "The null hypothesis (normality) is accepted\n",
      "Checking heteroscedasticity using Levene's test, alpha=0.05\n",
      "W: 0.929661, p:0.480076\n",
      "The null hypothesis (heteroscedasticity) is rejected\n",
      "Conditions for a parametric test are not fulfilled, applying a non-parametric test\n",
      "----------------------------------------------------------\n",
      "Working with more than 2 algorithms\n",
      "----------------------------------------------------------\n",
      "----------------------------------------------------------\n",
      "Applying Friedman test\n",
      "----------------------------------------------------------\n",
      "F-value: 1.387469, p-value: 0.23648180958493337\n",
      "Null hypothesis is rejected; hence, models have different performance\n",
      "Technique      Ranking\n",
      "-----------  ---------\n",
      "ET                4.8\n",
      "SVM               4.8\n",
      "Arbol             4.65\n",
      "MLP               4.15\n",
      "LR                3.35\n",
      "KNN               3.3\n",
      "RF                2.95\n",
      "Winner model: ET\n",
      "----------------------------------------------------------\n",
      "Applying Holm p-value adjustment procedure and analysing effect size\n",
      "----------------------------------------------------------\n",
      "Comparison      Zvalue    p-value    adjusted p-value\n",
      "------------  --------  ---------  ------------------\n",
      "ET vs RF      1.91493   0.0555012            0.333007\n",
      "ET vs KNN     1.55265   0.120507             0.602537\n",
      "ET vs LR      1.50089   0.133383             0.602537\n",
      "ET vs MLP     0.672814  0.501066             1\n",
      "ET vs Arbol   0.155265  0.876613             1\n",
      "ET vs SVM     0         1                    1\n",
      "There is a significant difference between the models: ET (mean: 0.510179, std: 0.068552) and RF (mean: 0.426786, std: 0.143730) (Cohen's d=0.7026027087352721, Large)\n",
      "We can't say that there is a significant difference in the performance of the models: ET (mean: 0.510179, std: 0.068552) and KNN (mean: 0.450655, std: 0.134957) (Cohen's d=0.5275782754347134, Large)\n",
      "We can't say that there is a significant difference in the performance of the models: ET (mean: 0.510179, std: 0.068552) and LR (mean: 0.429821, std: 0.129595) (Cohen's d=0.7353592502743438, Large)\n",
      "We can't say that there is a significant difference in the performance of the models: ET (mean: 0.510179, std: 0.068552) and MLP (mean: 0.489107, std: 0.118809) (Cohen's d=0.20609958807876835, Medium)\n",
      "We can't say that there is a significant difference in the performance of the models: ET (mean: 0.510179, std: 0.068552) and Arbol (mean: 0.489167, std: 0.179218) (Cohen's d=0.14691561962604854, Small)\n",
      "We can't say that there is a significant difference in the performance of the models: ET (mean: 0.510179, std: 0.068552) and SVM (mean: 0.559048, std: 0.142249) (Cohen's d=0.41521391814077646, Medium)\n",
      "Eta squared: 0.096411 (Large)\n"
     ]
    },
    {
     "data": {
      "image/png": "[encoded data removed]",
      "text/plain": [
       "<Figure size 432x288 with 1 Axes>"
      ]
     },
     "metadata": {
      "needs_background": "light"
     },
     "output_type": "display_data"
    }
   ],
   "source": [
    "compare_methods(Xtsne2,Y,listAlgorithms,listParams,listNames,metric='auroc')"
   ]
  },
  {
   "cell_type": "code",
   "execution_count": 49,
   "metadata": {},
   "outputs": [
    {
     "name": "stdout",
     "output_type": "stream",
     "text": [
      "temp.csv\n",
      "['Arbol' 'SVM' 'KNN' 'LR' 'MLP' 'RF' 'ET']\n",
      "==========================================================\n",
      "Report\n",
      "==========================================================\n",
      "**********************************************************\n",
      "Mean and std\n",
      "**********************************************************\n",
      "Arbol: 0.505000 (0.228771)\n",
      "SVM: 0.543214 (0.240410)\n",
      "KNN: 0.424762 (0.302662)\n",
      "LR: 0.209444 (0.172098)\n",
      "MLP: 0.350000 (0.317668)\n",
      "RF: 0.440357 (0.253122)\n",
      "ET: 0.361667 (0.252589)\n",
      "**********************************************************\n",
      "Statistical tests\n",
      "**********************************************************\n",
      "----------------------------------------------------------\n",
      "Checking parametric conditions \n",
      "----------------------------------------------------------\n",
      "Checking independence \n",
      "Ok\n",
      "Checking normality using Shapiro-Wilk's test for normality, alpha=0.05\n",
      "W: 0.948520, p:0.006070\n",
      "The null hypothesis (normality) is rejected\n",
      "Checking heteroscedasticity using Levene's test, alpha=0.05\n",
      "W: 0.706584, p:0.645426\n",
      "The null hypothesis (heteroscedasticity) is accepted\n",
      "Conditions for a parametric test are not fulfilled, applying a non-parametric test\n",
      "----------------------------------------------------------\n",
      "Working with more than 2 algorithms\n",
      "----------------------------------------------------------\n",
      "----------------------------------------------------------\n",
      "Applying Friedman test\n",
      "----------------------------------------------------------\n",
      "F-value: 1.698366, p-value: 0.13918861319638143\n",
      "Null hypothesis is rejected; hence, models have different performance\n",
      "Technique      Ranking\n",
      "-----------  ---------\n",
      "SVM               5.25\n",
      "Arbol             4.75\n",
      "ET                4.5\n",
      "KNN               3.85\n",
      "RF                3.45\n",
      "MLP               3.35\n",
      "LR                2.85\n",
      "Winner model: SVM\n",
      "----------------------------------------------------------\n",
      "Applying Holm p-value adjustment procedure and analysing effect size\n",
      "----------------------------------------------------------\n",
      "Comparison      Zvalue    p-value    adjusted p-value\n",
      "------------  --------  ---------  ------------------\n",
      "SVM vs LR     2.48424   0.012983            0.0778978\n",
      "SVM vs MLP    1.96669   0.0492193           0.246097\n",
      "SVM vs RF     1.86318   0.0624374           0.249749\n",
      "SVM vs KNN    1.44914   0.147299            0.441897\n",
      "SVM vs ET     0.776324  0.437558            0.875116\n",
      "SVM vs Arbol  0.517549  0.604773            0.875116\n",
      "There is a significant difference between the models: SVM (mean: 0.543214, std: 0.240410) and LR (mean: 0.209444, std: 0.172098) (Cohen's d=1.514576489524128, Large)\n",
      "There is a significant difference between the models: SVM (mean: 0.543214, std: 0.240410) and MLP (mean: 0.350000, std: 0.317668) (Cohen's d=0.6506892957560795, Large)\n",
      "There is a significant difference between the models: SVM (mean: 0.543214, std: 0.240410) and RF (mean: 0.440357, std: 0.253122) (Cohen's d=0.3952990476346915, Medium)\n",
      "There is a significant difference between the models: SVM (mean: 0.543214, std: 0.240410) and KNN (mean: 0.424762, std: 0.302662) (Cohen's d=0.41115201292492415, Medium)\n",
      "We can't say that there is a significant difference in the performance of the models: SVM (mean: 0.543214, std: 0.240410) and ET (mean: 0.361667, std: 0.252589) (Cohen's d=0.6984953842430146, Large)\n",
      "We can't say that there is a significant difference in the performance of the models: SVM (mean: 0.543214, std: 0.240410) and Arbol (mean: 0.505000, std: 0.228771) (Cohen's d=0.15449090394973575, Small)\n",
      "Eta squared: 0.138361 (Large)\n"
     ]
    },
    {
     "data": {
      "image/png": "[encoded data removed]",
      "text/plain": [
       "<Figure size 432x288 with 1 Axes>"
      ]
     },
     "metadata": {
      "needs_background": "light"
     },
     "output_type": "display_data"
    }
   ],
   "source": [
    "compare_methods(Xtsne2,Y,listAlgorithms,listParams,listNames,metric='precision')"
   ]
  },
  {
   "cell_type": "code",
   "execution_count": 50,
   "metadata": {},
   "outputs": [
    {
     "name": "stdout",
     "output_type": "stream",
     "text": [
      "temp.csv\n",
      "['Arbol' 'SVM' 'KNN' 'LR' 'MLP' 'RF' 'ET']\n",
      "==========================================================\n",
      "Report\n",
      "==========================================================\n",
      "**********************************************************\n",
      "Mean and std\n",
      "**********************************************************\n",
      "Arbol: 0.407143 (0.168089)\n",
      "SVM: 0.568452 (0.153596)\n",
      "KNN: 0.432738 (0.226817)\n",
      "LR: 0.305952 (0.270217)\n",
      "MLP: 0.339286 (0.314216)\n",
      "RF: 0.402381 (0.223023)\n",
      "ET: 0.466667 (0.265975)\n",
      "**********************************************************\n",
      "Statistical tests\n",
      "**********************************************************\n",
      "----------------------------------------------------------\n",
      "Checking parametric conditions \n",
      "----------------------------------------------------------\n",
      "Checking independence \n",
      "Ok\n",
      "Checking normality using Shapiro-Wilk's test for normality, alpha=0.05\n",
      "W: 0.935838, p:0.001409\n",
      "The null hypothesis (normality) is rejected\n",
      "Checking heteroscedasticity using Levene's test, alpha=0.05\n",
      "W: 1.353698, p:0.247234\n",
      "The null hypothesis (heteroscedasticity) is rejected\n",
      "Conditions for a parametric test are not fulfilled, applying a non-parametric test\n",
      "----------------------------------------------------------\n",
      "Working with more than 2 algorithms\n",
      "----------------------------------------------------------\n",
      "----------------------------------------------------------\n",
      "Applying Friedman test\n",
      "----------------------------------------------------------\n",
      "F-value: 1.082016, p-value: 0.38485553955341945\n",
      "Null hypothesis is rejected; hence, models have different performance\n",
      "Technique      Ranking\n",
      "-----------  ---------\n",
      "SVM               5.3\n",
      "ET                4.3\n",
      "RF                4\n",
      "KNN               3.9\n",
      "Arbol             3.85\n",
      "MLP               3.7\n",
      "LR                2.95\n",
      "Winner model: SVM\n",
      "----------------------------------------------------------\n",
      "Applying Holm p-value adjustment procedure and analysing effect size\n",
      "----------------------------------------------------------\n",
      "Comparison      Zvalue    p-value    adjusted p-value\n",
      "------------  --------  ---------  ------------------\n",
      "SVM vs LR      2.43248  0.0149958           0.0899746\n",
      "SVM vs MLP     1.65616  0.09769             0.48845\n",
      "SVM vs Arbol   1.50089  0.133383            0.533533\n",
      "SVM vs KNN     1.44914  0.147299            0.533533\n",
      "SVM vs RF      1.34563  0.178423            0.533533\n",
      "SVM vs ET      1.0351   0.300623            0.533533\n",
      "There is a significant difference between the models: SVM (mean: 0.568452, std: 0.153596) and LR (mean: 0.305952, std: 0.270217) (Cohen's d=1.1330705696108805, Large)\n",
      "There is a significant difference between the models: SVM (mean: 0.568452, std: 0.153596) and MLP (mean: 0.339286, std: 0.314216) (Cohen's d=0.8790898854941313, Large)\n",
      "We can't say that there is a significant difference in the performance of the models: SVM (mean: 0.568452, std: 0.153596) and Arbol (mean: 0.407143, std: 0.168089) (Cohen's d=0.950474218310126, Large)\n",
      "We can't say that there is a significant difference in the performance of the models: SVM (mean: 0.568452, std: 0.153596) and KNN (mean: 0.432738, std: 0.226817) (Cohen's d=0.6646950974600487, Large)\n",
      "We can't say that there is a significant difference in the performance of the models: SVM (mean: 0.568452, std: 0.153596) and RF (mean: 0.402381, std: 0.223023) (Cohen's d=0.8227877273601958, Large)\n",
      "We can't say that there is a significant difference in the performance of the models: SVM (mean: 0.568452, std: 0.153596) and ET (mean: 0.466667, std: 0.265975) (Cohen's d=0.4446193611246134, Medium)\n",
      "Eta squared: 0.100789 (Large)\n"
     ]
    },
    {
     "data": {
      "image/png": "[encoded data removed]",
      "text/plain": [
       "<Figure size 432x288 with 1 Axes>"
      ]
     },
     "metadata": {
      "needs_background": "light"
     },
     "output_type": "display_data"
    }
   ],
   "source": [
    "compare_methods(Xtsne2,Y,listAlgorithms,listParams,listNames,metric='recall')"
   ]
  },
  {
   "cell_type": "code",
   "execution_count": 51,
   "metadata": {},
   "outputs": [
    {
     "name": "stdout",
     "output_type": "stream",
     "text": [
      "temp.csv\n",
      "['Arbol' 'SVM' 'KNN' 'LR' 'MLP' 'RF' 'ET']\n",
      "==========================================================\n",
      "Report\n",
      "==========================================================\n",
      "**********************************************************\n",
      "Mean and std\n",
      "**********************************************************\n",
      "Arbol: 0.488182 (0.179533)\n",
      "SVM: 0.538182 (0.117958)\n",
      "KNN: 0.422727 (0.135650)\n",
      "LR: 0.343636 (0.150250)\n",
      "MLP: 0.421818 (0.118126)\n",
      "RF: 0.410909 (0.105298)\n",
      "ET: 0.459091 (0.108350)\n",
      "**********************************************************\n",
      "Statistical tests\n",
      "**********************************************************\n",
      "----------------------------------------------------------\n",
      "Checking parametric conditions \n",
      "----------------------------------------------------------\n",
      "Checking independence \n",
      "Ok\n",
      "Checking normality using Shapiro-Wilk's test for normality, alpha=0.05\n",
      "W: 0.963645, p:0.039923\n",
      "The null hypothesis (normality) is rejected\n",
      "Checking heteroscedasticity using Levene's test, alpha=0.05\n",
      "W: 0.732153, p:0.625504\n",
      "The null hypothesis (heteroscedasticity) is accepted\n",
      "Conditions for a parametric test are not fulfilled, applying a non-parametric test\n",
      "----------------------------------------------------------\n",
      "Working with more than 2 algorithms\n",
      "----------------------------------------------------------\n",
      "----------------------------------------------------------\n",
      "Applying Friedman test\n",
      "----------------------------------------------------------\n",
      "F-value: 1.725686, p-value: 0.13270475789240965\n",
      "Null hypothesis is rejected; hence, models have different performance\n",
      "Technique      Ranking\n",
      "-----------  ---------\n",
      "SVM               5.1\n",
      "Arbol             4.95\n",
      "ET                4.4\n",
      "MLP               4\n",
      "KNN               3.45\n",
      "RF                3.3\n",
      "LR                2.8\n",
      "Winner model: SVM\n",
      "----------------------------------------------------------\n",
      "Applying Holm p-value adjustment procedure and analysing effect size\n",
      "----------------------------------------------------------\n",
      "Comparison      Zvalue    p-value    adjusted p-value\n",
      "------------  --------  ---------  ------------------\n",
      "SVM vs LR     2.38073   0.0172786            0.103671\n",
      "SVM vs RF     1.86318   0.0624374            0.312187\n",
      "SVM vs KNN    1.70791   0.0876526            0.35061\n",
      "SVM vs MLP    1.13861   0.254867             0.7646\n",
      "SVM vs ET     0.724569  0.468717             0.937433\n",
      "SVM vs Arbol  0.155265  0.876613             0.937433\n",
      "There is a significant difference between the models: SVM (mean: 0.538182, std: 0.117958) and LR (mean: 0.343636, std: 0.150250) (Cohen's d=1.3663905047295646, Large)\n",
      "There is a significant difference between the models: SVM (mean: 0.538182, std: 0.117958) and RF (mean: 0.410909, std: 0.105298) (Cohen's d=1.079909203288079, Large)\n",
      "There is a significant difference between the models: SVM (mean: 0.538182, std: 0.117958) and KNN (mean: 0.422727, std: 0.135650) (Cohen's d=0.861680056269674, Large)\n",
      "We can't say that there is a significant difference in the performance of the models: SVM (mean: 0.538182, std: 0.117958) and MLP (mean: 0.421818, std: 0.118126) (Cohen's d=0.9351955663554892, Large)\n",
      "We can't say that there is a significant difference in the performance of the models: SVM (mean: 0.538182, std: 0.117958) and ET (mean: 0.459091, std: 0.108350) (Cohen's d=0.6625027010782106, Large)\n",
      "We can't say that there is a significant difference in the performance of the models: SVM (mean: 0.538182, std: 0.117958) and Arbol (mean: 0.488182, std: 0.179533) (Cohen's d=0.31227549379503083, Medium)\n",
      "Eta squared: 0.157047 (Large)\n"
     ]
    },
    {
     "data": {
      "image/png": "[encoded data removed]",
      "text/plain": [
       "<Figure size 432x288 with 1 Axes>"
      ]
     },
     "metadata": {
      "needs_background": "light"
     },
     "output_type": "display_data"
    }
   ],
   "source": [
    "compare_methods(Xtsne2,Y,listAlgorithms,listParams,listNames,metric='accuracy')"
   ]
  },
  {
   "cell_type": "code",
   "execution_count": 52,
   "metadata": {
    "id": "9s4RecsnKMgQ"
   },
   "outputs": [],
   "source": [
    "!mv temp.csv temptsne2.csv"
   ]
  },
  {
   "cell_type": "markdown",
   "metadata": {},
   "source": [
    "# TSNE with 3 components"
   ]
  },
  {
   "cell_type": "code",
   "execution_count": 53,
   "metadata": {
    "id": "ROSlAByBKUuE",
    "scrolled": true
   },
   "outputs": [
    {
     "name": "stdout",
     "output_type": "stream",
     "text": [
      "temp.csv\n",
      "['Arbol' 'SVM' 'KNN' 'LR' 'MLP' 'RF' 'ET']\n",
      "==========================================================\n",
      "Report\n",
      "==========================================================\n",
      "**********************************************************\n",
      "Mean and std\n",
      "**********************************************************\n",
      "Arbol: 0.404940 (0.145833)\n",
      "SVM: 0.529821 (0.136395)\n",
      "KNN: 0.471548 (0.164088)\n",
      "LR: 0.493988 (0.179367)\n",
      "MLP: 0.403631 (0.096836)\n",
      "RF: 0.511250 (0.111118)\n",
      "ET: 0.540833 (0.126692)\n",
      "**********************************************************\n",
      "Statistical tests\n",
      "**********************************************************\n",
      "----------------------------------------------------------\n",
      "Checking parametric conditions \n",
      "----------------------------------------------------------\n",
      "Checking independence \n",
      "Ok\n",
      "Checking normality using Shapiro-Wilk's test for normality, alpha=0.05\n",
      "W: 0.980632, p:0.351161\n",
      "The null hypothesis (normality) is rejected\n",
      "Checking heteroscedasticity using Levene's test, alpha=0.05\n",
      "W: 0.786113, p:0.584076\n",
      "The null hypothesis (heteroscedasticity) is accepted\n",
      "Conditions for a parametric test are not fulfilled, applying a non-parametric test\n",
      "----------------------------------------------------------\n",
      "Working with more than 2 algorithms\n",
      "----------------------------------------------------------\n",
      "----------------------------------------------------------\n",
      "Applying Friedman test\n",
      "----------------------------------------------------------\n",
      "F-value: 2.219947, p-value: 0.054941301619212846\n",
      "Null hypothesis is rejected; hence, models have different performance\n",
      "Technique      Ranking\n",
      "-----------  ---------\n",
      "ET                4.85\n",
      "RF                4.85\n",
      "SVM               4.75\n",
      "LR                4.4\n",
      "KNN               3.7\n",
      "MLP               2.85\n",
      "Arbol             2.6\n",
      "Winner model: ET\n",
      "----------------------------------------------------------\n",
      "Applying Holm p-value adjustment procedure and analysing effect size\n",
      "----------------------------------------------------------\n",
      "Comparison      Zvalue    p-value    adjusted p-value\n",
      "------------  --------  ---------  ------------------\n",
      "ET vs Arbol   2.32897   0.0198606            0.119164\n",
      "ET vs MLP     2.0702    0.0384339            0.19217\n",
      "ET vs KNN     1.19036   0.233904             0.935615\n",
      "ET vs LR      0.465794  0.641363             1\n",
      "ET vs SVM     0.10351   0.917558             1\n",
      "ET vs RF      0         1                    1\n",
      "There is a significant difference between the models: ET (mean: 0.540833, std: 0.126692) and Arbol (mean: 0.404940, std: 0.145833) (Cohen's d=0.9437858042641639, Large)\n",
      "There is a significant difference between the models: ET (mean: 0.540833, std: 0.126692) and MLP (mean: 0.403631, std: 0.096836) (Cohen's d=1.154360259419748, Large)\n",
      "We can't say that there is a significant difference in the performance of the models: ET (mean: 0.540833, std: 0.126692) and KNN (mean: 0.471548, std: 0.164088) (Cohen's d=0.4484037290466655, Medium)\n",
      "We can't say that there is a significant difference in the performance of the models: ET (mean: 0.540833, std: 0.126692) and LR (mean: 0.493988, std: 0.179367) (Cohen's d=0.2862020764341891, Medium)\n",
      "We can't say that there is a significant difference in the performance of the models: ET (mean: 0.540833, std: 0.126692) and SVM (mean: 0.529821, std: 0.136395) (Cohen's d=0.07936320006759653, Small)\n",
      "We can't say that there is a significant difference in the performance of the models: ET (mean: 0.540833, std: 0.126692) and RF (mean: 0.511250, std: 0.111118) (Cohen's d=0.23552631759941306, Medium)\n",
      "Eta squared: 0.121377 (Large)\n"
     ]
    },
    {
     "data": {
      "image/png": "[encoded data removed]",
      "text/plain": [
       "<Figure size 432x288 with 1 Axes>"
      ]
     },
     "metadata": {
      "needs_background": "light"
     },
     "output_type": "display_data"
    }
   ],
   "source": [
    "Xtsne3 = TSNE(n_components=3).fit_transform(X)\n",
    "compare_methods(Xtsne3,Y,listAlgorithms,listParams,listNames,metric='auroc')"
   ]
  },
  {
   "cell_type": "code",
   "execution_count": 54,
   "metadata": {},
   "outputs": [
    {
     "name": "stdout",
     "output_type": "stream",
     "text": [
      "temp.csv\n",
      "['Arbol' 'SVM' 'KNN' 'LR' 'MLP' 'RF' 'ET']\n",
      "==========================================================\n",
      "Report\n",
      "==========================================================\n",
      "**********************************************************\n",
      "Mean and std\n",
      "**********************************************************\n",
      "Arbol: 0.414048 (0.289037)\n",
      "SVM: 0.527976 (0.289093)\n",
      "KNN: 0.361071 (0.318447)\n",
      "LR: 0.506667 (0.256385)\n",
      "MLP: 0.275000 (0.223762)\n",
      "RF: 0.461667 (0.299384)\n",
      "ET: 0.491786 (0.329098)\n",
      "**********************************************************\n",
      "Statistical tests\n",
      "**********************************************************\n",
      "----------------------------------------------------------\n",
      "Checking parametric conditions \n",
      "----------------------------------------------------------\n",
      "Checking independence \n",
      "Ok\n",
      "Checking normality using Shapiro-Wilk's test for normality, alpha=0.05\n",
      "W: 0.936375, p:0.001496\n",
      "The null hypothesis (normality) is rejected\n",
      "Checking heteroscedasticity using Levene's test, alpha=0.05\n",
      "W: 0.348248, p:0.908338\n",
      "The null hypothesis (heteroscedasticity) is accepted\n",
      "Conditions for a parametric test are not fulfilled, applying a non-parametric test\n",
      "----------------------------------------------------------\n",
      "Working with more than 2 algorithms\n",
      "----------------------------------------------------------\n",
      "----------------------------------------------------------\n",
      "Applying Friedman test\n",
      "----------------------------------------------------------\n",
      "F-value: 1.820094, p-value: 0.11241742123815301\n",
      "Null hypothesis is rejected; hence, models have different performance\n",
      "Technique      Ranking\n",
      "-----------  ---------\n",
      "ET                4.85\n",
      "SVM               4.85\n",
      "LR                4.65\n",
      "RF                4.4\n",
      "KNN               3.4\n",
      "Arbol             3\n",
      "MLP               2.85\n",
      "Winner model: ET\n",
      "----------------------------------------------------------\n",
      "Applying Holm p-value adjustment procedure and analysing effect size\n",
      "----------------------------------------------------------\n",
      "Comparison      Zvalue    p-value    adjusted p-value\n",
      "------------  --------  ---------  ------------------\n",
      "ET vs MLP     2.0702    0.0384339            0.230604\n",
      "ET vs Arbol   1.91493   0.0555012            0.277506\n",
      "ET vs KNN     1.50089   0.133383             0.533533\n",
      "ET vs RF      0.465794  0.641363             1\n",
      "ET vs LR      0.20702   0.835994             1\n",
      "ET vs SVM     0         1                    1\n",
      "There is a significant difference between the models: ET (mean: 0.491786, std: 0.329098) and MLP (mean: 0.275000, std: 0.223762) (Cohen's d=0.7308418755350183, Large)\n",
      "There is a significant difference between the models: ET (mean: 0.491786, std: 0.329098) and Arbol (mean: 0.414048, std: 0.289037) (Cohen's d=0.2381175181773351, Medium)\n",
      "We can't say that there is a significant difference in the performance of the models: ET (mean: 0.491786, std: 0.329098) and KNN (mean: 0.361071, std: 0.318447) (Cohen's d=0.3829527143021556, Medium)\n",
      "We can't say that there is a significant difference in the performance of the models: ET (mean: 0.491786, std: 0.329098) and RF (mean: 0.461667, std: 0.299384) (Cohen's d=0.09082689295539742, Small)\n",
      "We can't say that there is a significant difference in the performance of the models: ET (mean: 0.491786, std: 0.329098) and LR (mean: 0.506667, std: 0.256385) (Cohen's d=0.04785680151153008, Small)\n",
      "We can't say that there is a significant difference in the performance of the models: ET (mean: 0.491786, std: 0.329098) and SVM (mean: 0.527976, std: 0.289093) (Cohen's d=0.11084480792977873, Small)\n",
      "Eta squared: 0.077935 (Large)\n"
     ]
    },
    {
     "data": {
      "image/png": "[encoded data removed]",
      "text/plain": [
       "<Figure size 432x288 with 1 Axes>"
      ]
     },
     "metadata": {
      "needs_background": "light"
     },
     "output_type": "display_data"
    }
   ],
   "source": [
    "compare_methods(Xtsne3,Y,listAlgorithms,listParams,listNames,metric='precision')"
   ]
  },
  {
   "cell_type": "code",
   "execution_count": 55,
   "metadata": {},
   "outputs": [
    {
     "name": "stdout",
     "output_type": "stream",
     "text": [
      "temp.csv\n",
      "['Arbol' 'SVM' 'KNN' 'LR' 'MLP' 'RF' 'ET']\n",
      "==========================================================\n",
      "Report\n",
      "==========================================================\n",
      "**********************************************************\n",
      "Mean and std\n",
      "**********************************************************\n",
      "Arbol: 0.366071 (0.185906)\n",
      "SVM: 0.466071 (0.312169)\n",
      "KNN: 0.374405 (0.345755)\n",
      "LR: 0.445833 (0.240795)\n",
      "MLP: 0.247619 (0.198335)\n",
      "RF: 0.413095 (0.219645)\n",
      "ET: 0.446429 (0.303011)\n",
      "**********************************************************\n",
      "Statistical tests\n",
      "**********************************************************\n",
      "----------------------------------------------------------\n",
      "Checking parametric conditions \n",
      "----------------------------------------------------------\n",
      "Checking independence \n",
      "Ok\n",
      "Checking normality using Shapiro-Wilk's test for normality, alpha=0.05\n",
      "W: 0.943798, p:0.003479\n",
      "The null hypothesis (normality) is rejected\n",
      "Checking heteroscedasticity using Levene's test, alpha=0.05\n",
      "W: 1.206874, p:0.314617\n",
      "The null hypothesis (heteroscedasticity) is rejected\n",
      "Conditions for a parametric test are not fulfilled, applying a non-parametric test\n",
      "----------------------------------------------------------\n",
      "Working with more than 2 algorithms\n",
      "----------------------------------------------------------\n",
      "----------------------------------------------------------\n",
      "Applying Friedman test\n",
      "----------------------------------------------------------\n",
      "F-value: 0.651475, p-value: 0.688699687287271\n",
      "Null hypothesis is accepted; hence, we can't say that there is a significant difference in the performance of the models\n",
      "----------------------------------------------------------\n",
      "Analysing effect size\n",
      "----------------------------------------------------------\n",
      "We take the model with the best mean (SVM, mean: 0.466071) and compare it with the other models: \n",
      "Comparing effect size of SVM and Arbol: Cohen's d=0.36926000241859674, Medium\n",
      "Comparing effect size of SVM and KNN: Cohen's d=0.26401077616997426, Medium\n",
      "Comparing effect size of SVM and LR: Cohen's d=0.06887098624996123, Small\n",
      "Comparing effect size of SVM and MLP: Cohen's d=0.7924504225209632, Large\n",
      "Comparing effect size of SVM and RF: Cohen's d=0.18620745560307914, Small\n",
      "Comparing effect size of SVM and ET: Cohen's d=0.06057675066012157, Small\n",
      "Eta squared: 0.064276 (Large)\n"
     ]
    },
    {
     "data": {
      "image/png": "[encoded data removed]",
      "text/plain": [
       "<Figure size 432x288 with 1 Axes>"
      ]
     },
     "metadata": {
      "needs_background": "light"
     },
     "output_type": "display_data"
    }
   ],
   "source": [
    "compare_methods(Xtsne3,Y,listAlgorithms,listParams,listNames,metric='recall')"
   ]
  },
  {
   "cell_type": "code",
   "execution_count": 56,
   "metadata": {},
   "outputs": [
    {
     "name": "stdout",
     "output_type": "stream",
     "text": [
      "temp.csv\n",
      "['Arbol' 'SVM' 'KNN' 'LR' 'MLP' 'RF' 'ET']\n",
      "==========================================================\n",
      "Report\n",
      "==========================================================\n",
      "**********************************************************\n",
      "Mean and std\n",
      "**********************************************************\n",
      "Arbol: 0.405455 (0.127869)\n",
      "SVM: 0.451818 (0.155082)\n",
      "KNN: 0.431818 (0.180048)\n",
      "LR: 0.483636 (0.173386)\n",
      "MLP: 0.420000 (0.126543)\n",
      "RF: 0.491818 (0.094864)\n",
      "ET: 0.453636 (0.140979)\n",
      "**********************************************************\n",
      "Statistical tests\n",
      "**********************************************************\n",
      "----------------------------------------------------------\n",
      "Checking parametric conditions \n",
      "----------------------------------------------------------\n",
      "Checking independence \n",
      "Ok\n",
      "Checking normality using Shapiro-Wilk's test for normality, alpha=0.05\n",
      "W: 0.960704, p:0.027382\n",
      "The null hypothesis (normality) is rejected\n",
      "Checking heteroscedasticity using Levene's test, alpha=0.05\n",
      "W: 0.556619, p:0.763019\n",
      "The null hypothesis (heteroscedasticity) is accepted\n",
      "Conditions for a parametric test are not fulfilled, applying a non-parametric test\n",
      "----------------------------------------------------------\n",
      "Working with more than 2 algorithms\n",
      "----------------------------------------------------------\n",
      "----------------------------------------------------------\n",
      "Applying Friedman test\n",
      "----------------------------------------------------------\n",
      "F-value: 0.540034, p-value: 0.7754075818288089\n",
      "Null hypothesis is accepted; hence, we can't say that there is a significant difference in the performance of the models\n",
      "----------------------------------------------------------\n",
      "Analysing effect size\n",
      "----------------------------------------------------------\n",
      "We take the model with the best mean (RF, mean: 0.491818) and compare it with the other models: \n",
      "Comparing effect size of RF and Arbol: Cohen's d=0.7277491896641045, Large\n",
      "Comparing effect size of RF and SVM: Cohen's d=0.2951978750708777, Medium\n",
      "Comparing effect size of RF and KNN: Cohen's d=0.395549330498592, Medium\n",
      "Comparing effect size of RF and LR: Cohen's d=0.05554039075087923, Small\n",
      "Comparing effect size of RF and MLP: Cohen's d=0.6092464463964647, Large\n",
      "Comparing effect size of RF and ET: Cohen's d=0.3014647395315657, Medium\n",
      "Eta squared: 0.039592 (Medium)\n"
     ]
    },
    {
     "data": {
      "image/png": "[encoded data removed]",
      "text/plain": [
       "<Figure size 432x288 with 1 Axes>"
      ]
     },
     "metadata": {
      "needs_background": "light"
     },
     "output_type": "display_data"
    }
   ],
   "source": [
    "compare_methods(Xtsne3,Y,listAlgorithms,listParams,listNames,metric='accuracy')"
   ]
  },
  {
   "cell_type": "code",
   "execution_count": 57,
   "metadata": {
    "id": "rAl1ayHcKbSF"
   },
   "outputs": [],
   "source": [
    "!mv temp.csv temptsne3.csv"
   ]
  },
  {
   "cell_type": "markdown",
   "metadata": {},
   "source": [
    "# UMAP with 2 components"
   ]
  },
  {
   "cell_type": "code",
   "execution_count": 58,
   "metadata": {
    "id": "T45s4ka649by"
   },
   "outputs": [],
   "source": [
    "from umap import UMAP"
   ]
  },
  {
   "cell_type": "code",
   "execution_count": 59,
   "metadata": {
    "id": "y-O-MGt_5AC4"
   },
   "outputs": [],
   "source": [
    "reducer = UMAP()"
   ]
  },
  {
   "cell_type": "code",
   "execution_count": 60,
   "metadata": {
    "id": "h3U_6qzL5bR_"
   },
   "outputs": [],
   "source": [
    "Xumap = reducer.fit_transform(X)"
   ]
  },
  {
   "cell_type": "code",
   "execution_count": 61,
   "metadata": {
    "id": "PqHq4hZsXPPy",
    "scrolled": true
   },
   "outputs": [
    {
     "name": "stdout",
     "output_type": "stream",
     "text": [
      "temp.csv\n",
      "['Arbol' 'SVM' 'KNN' 'LR' 'MLP' 'RF' 'ET']\n",
      "==========================================================\n",
      "Report\n",
      "==========================================================\n",
      "**********************************************************\n",
      "Mean and std\n",
      "**********************************************************\n",
      "Arbol: 0.707560 (0.118781)\n",
      "SVM: 0.756786 (0.134237)\n",
      "KNN: 0.776310 (0.139304)\n",
      "LR: 0.743393 (0.130339)\n",
      "MLP: 0.700238 (0.160151)\n",
      "RF: 0.729226 (0.137964)\n",
      "ET: 0.773036 (0.123373)\n",
      "**********************************************************\n",
      "Statistical tests\n",
      "**********************************************************\n",
      "----------------------------------------------------------\n",
      "Checking parametric conditions \n",
      "----------------------------------------------------------\n",
      "Checking independence \n",
      "Ok\n",
      "Checking normality using Shapiro-Wilk's test for normality, alpha=0.05\n",
      "W: 0.957636, p:0.018570\n",
      "The null hypothesis (normality) is rejected\n",
      "Checking heteroscedasticity using Levene's test, alpha=0.05\n",
      "W: 0.115418, p:0.994265\n",
      "The null hypothesis (heteroscedasticity) is accepted\n",
      "Conditions for a parametric test are not fulfilled, applying a non-parametric test\n",
      "----------------------------------------------------------\n",
      "Working with more than 2 algorithms\n",
      "----------------------------------------------------------\n",
      "----------------------------------------------------------\n",
      "Applying Friedman test\n",
      "----------------------------------------------------------\n",
      "F-value: 1.426148, p-value: 0.22172834246903195\n",
      "Null hypothesis is rejected; hence, models have different performance\n",
      "Technique      Ranking\n",
      "-----------  ---------\n",
      "ET                4.95\n",
      "KNN               4.65\n",
      "SVM               4.5\n",
      "LR                4.15\n",
      "RF                3.85\n",
      "Arbol             3\n",
      "MLP               2.9\n",
      "Winner model: ET\n",
      "----------------------------------------------------------\n",
      "Applying Holm p-value adjustment procedure and analysing effect size\n",
      "----------------------------------------------------------\n",
      "Comparison      Zvalue    p-value    adjusted p-value\n",
      "------------  --------  ---------  ------------------\n",
      "ET vs MLP     2.12195   0.0338418            0.203051\n",
      "ET vs Arbol   2.01844   0.0435453            0.217726\n",
      "ET vs RF      1.13861   0.254867             1\n",
      "ET vs LR      0.828079  0.407626             1\n",
      "ET vs SVM     0.465794  0.641363             1\n",
      "ET vs KNN     0.31053   0.756158             1\n",
      "There is a significant difference between the models: ET (mean: 0.773036, std: 0.123373) and MLP (mean: 0.700238, std: 0.160151) (Cohen's d=0.4831211774515258, Medium)\n",
      "There is a significant difference between the models: ET (mean: 0.773036, std: 0.123373) and Arbol (mean: 0.707560, std: 0.118781) (Cohen's d=0.5129382962571496, Large)\n",
      "We can't say that there is a significant difference in the performance of the models: ET (mean: 0.773036, std: 0.123373) and RF (mean: 0.729226, std: 0.137964) (Cohen's d=0.3175724548639232, Medium)\n",
      "We can't say that there is a significant difference in the performance of the models: ET (mean: 0.773036, std: 0.123373) and LR (mean: 0.743393, std: 0.130339) (Cohen's d=0.22159843731059176, Medium)\n",
      "We can't say that there is a significant difference in the performance of the models: ET (mean: 0.773036, std: 0.123373) and SVM (mean: 0.756786, std: 0.134237) (Cohen's d=0.11957934260749177, Small)\n",
      "We can't say that there is a significant difference in the performance of the models: ET (mean: 0.773036, std: 0.123373) and KNN (mean: 0.776310, std: 0.139304) (Cohen's d=0.023603970289531748, Small)\n",
      "Eta squared: 0.040683 (Medium)\n"
     ]
    },
    {
     "data": {
      "image/png": "[encoded data removed]",
      "text/plain": [
       "<Figure size 432x288 with 1 Axes>"
      ]
     },
     "metadata": {
      "needs_background": "light"
     },
     "output_type": "display_data"
    }
   ],
   "source": [
    "compare_methods(Xumap,Y,listAlgorithms,listParams,listNames,metric='auroc')"
   ]
  },
  {
   "cell_type": "code",
   "execution_count": 62,
   "metadata": {},
   "outputs": [
    {
     "name": "stdout",
     "output_type": "stream",
     "text": [
      "temp.csv\n",
      "['Arbol' 'SVM' 'KNN' 'LR' 'MLP' 'RF' 'ET']\n",
      "==========================================================\n",
      "Report\n",
      "==========================================================\n",
      "**********************************************************\n",
      "Mean and std\n",
      "**********************************************************\n",
      "Arbol: 0.743333 (0.182909)\n",
      "SVM: 0.789762 (0.208545)\n",
      "KNN: 0.818333 (0.218130)\n",
      "LR: 0.739762 (0.212055)\n",
      "MLP: 0.781429 (0.252764)\n",
      "RF: 0.795833 (0.207874)\n",
      "ET: 0.821667 (0.198893)\n",
      "**********************************************************\n",
      "Statistical tests\n",
      "**********************************************************\n",
      "----------------------------------------------------------\n",
      "Checking parametric conditions \n",
      "----------------------------------------------------------\n",
      "Checking independence \n",
      "Ok\n",
      "Checking normality using Shapiro-Wilk's test for normality, alpha=0.05\n",
      "W: 0.848783, p:0.000001\n",
      "The null hypothesis (normality) is rejected\n",
      "Checking heteroscedasticity using Levene's test, alpha=0.05\n",
      "W: 0.441486, p:0.848276\n",
      "The null hypothesis (heteroscedasticity) is accepted\n",
      "Conditions for a parametric test are not fulfilled, applying a non-parametric test\n",
      "----------------------------------------------------------\n",
      "Working with more than 2 algorithms\n",
      "----------------------------------------------------------\n",
      "----------------------------------------------------------\n",
      "Applying Friedman test\n",
      "----------------------------------------------------------\n",
      "F-value: 0.578107, p-value: 0.746074008300497\n",
      "Null hypothesis is accepted; hence, we can't say that there is a significant difference in the performance of the models\n",
      "----------------------------------------------------------\n",
      "Analysing effect size\n",
      "----------------------------------------------------------\n",
      "We take the model with the best mean (ET, mean: 0.821667) and compare it with the other models: \n",
      "Comparing effect size of ET and Arbol: Cohen's d=0.38893776999546686, Medium\n",
      "Comparing effect size of ET and SVM: Cohen's d=0.14853326266169842, Small\n",
      "Comparing effect size of ET and KNN: Cohen's d=0.015149872883630972, Small\n",
      "Comparing effect size of ET and LR: Cohen's d=0.37796492929490905, Medium\n",
      "Comparing effect size of ET and MLP: Cohen's d=0.16784652183746623, Small\n",
      "Comparing effect size of ET and RF: Cohen's d=0.12047026297444278, Small\n",
      "Eta squared: 0.019804 (Medium)\n"
     ]
    },
    {
     "data": {
      "image/png": "[encoded data removed]",
      "text/plain": [
       "<Figure size 432x288 with 1 Axes>"
      ]
     },
     "metadata": {
      "needs_background": "light"
     },
     "output_type": "display_data"
    }
   ],
   "source": [
    "compare_methods(Xumap,Y,listAlgorithms,listParams,listNames,metric='precision')"
   ]
  },
  {
   "cell_type": "code",
   "execution_count": 63,
   "metadata": {},
   "outputs": [
    {
     "name": "stdout",
     "output_type": "stream",
     "text": [
      "temp.csv\n",
      "['Arbol' 'SVM' 'KNN' 'LR' 'MLP' 'RF' 'ET']\n",
      "==========================================================\n",
      "Report\n",
      "==========================================================\n",
      "**********************************************************\n",
      "Mean and std\n",
      "**********************************************************\n",
      "Arbol: 0.622619 (0.119884)\n",
      "SVM: 0.711905 (0.198406)\n",
      "KNN: 0.705952 (0.188686)\n",
      "LR: 0.699405 (0.183218)\n",
      "MLP: 0.571429 (0.232737)\n",
      "RF: 0.672619 (0.189001)\n",
      "ET: 0.720238 (0.130437)\n",
      "**********************************************************\n",
      "Statistical tests\n",
      "**********************************************************\n",
      "----------------------------------------------------------\n",
      "Checking parametric conditions \n",
      "----------------------------------------------------------\n",
      "Checking independence \n",
      "Ok\n",
      "Checking normality using Shapiro-Wilk's test for normality, alpha=0.05\n",
      "W: 0.943915, p:0.003526\n",
      "The null hypothesis (normality) is rejected\n",
      "Checking heteroscedasticity using Levene's test, alpha=0.05\n",
      "W: 0.734452, p:0.623720\n",
      "The null hypothesis (heteroscedasticity) is accepted\n",
      "Conditions for a parametric test are not fulfilled, applying a non-parametric test\n",
      "----------------------------------------------------------\n",
      "Working with more than 2 algorithms\n",
      "----------------------------------------------------------\n",
      "----------------------------------------------------------\n",
      "Applying Friedman test\n",
      "----------------------------------------------------------\n",
      "F-value: 1.134728, p-value: 0.3549827773334431\n",
      "Null hypothesis is rejected; hence, models have different performance\n",
      "Technique      Ranking\n",
      "-----------  ---------\n",
      "SVM               4.65\n",
      "ET                4.6\n",
      "LR                4.5\n",
      "KNN               4.3\n",
      "RF                3.9\n",
      "Arbol             3.25\n",
      "MLP               2.8\n",
      "Winner model: SVM\n",
      "----------------------------------------------------------\n",
      "Applying Holm p-value adjustment procedure and analysing effect size\n",
      "----------------------------------------------------------\n",
      "Comparison       Zvalue    p-value    adjusted p-value\n",
      "------------  ---------  ---------  ------------------\n",
      "SVM vs MLP    1.91493    0.0555012            0.333007\n",
      "SVM vs Arbol  1.44914    0.147299             0.736496\n",
      "SVM vs RF     0.776324   0.437558             1\n",
      "SVM vs KNN    0.362284   0.71714              1\n",
      "SVM vs LR     0.155265   0.876613             1\n",
      "SVM vs ET     0.0517549  0.958724             1\n",
      "There is a significant difference between the models: SVM (mean: 0.711905, std: 0.198406) and MLP (mean: 0.571429, std: 0.232737) (Cohen's d=0.616253576716933, Large)\n",
      "We can't say that there is a significant difference in the performance of the models: SVM (mean: 0.711905, std: 0.198406) and Arbol (mean: 0.622619, std: 0.119884) (Cohen's d=0.5167500551630708, Large)\n",
      "We can't say that there is a significant difference in the performance of the models: SVM (mean: 0.711905, std: 0.198406) and RF (mean: 0.672619, std: 0.189001) (Cohen's d=0.19234908150282345, Small)\n",
      "We can't say that there is a significant difference in the performance of the models: SVM (mean: 0.711905, std: 0.198406) and KNN (mean: 0.705952, std: 0.188686) (Cohen's d=0.02916693110570466, Small)\n",
      "We can't say that there is a significant difference in the performance of the models: SVM (mean: 0.711905, std: 0.198406) and LR (mean: 0.699405, std: 0.183218) (Cohen's d=0.06209850810126387, Small)\n",
      "We can't say that there is a significant difference in the performance of the models: SVM (mean: 0.711905, std: 0.198406) and ET (mean: 0.720238, std: 0.130437) (Cohen's d=0.0470865037470647, Small)\n",
      "Eta squared: 0.074043 (Large)\n"
     ]
    },
    {
     "data": {
      "image/png": "[encoded data removed]",
      "text/plain": [
       "<Figure size 432x288 with 1 Axes>"
      ]
     },
     "metadata": {
      "needs_background": "light"
     },
     "output_type": "display_data"
    }
   ],
   "source": [
    "compare_methods(Xumap,Y,listAlgorithms,listParams,listNames,metric='recall')"
   ]
  },
  {
   "cell_type": "code",
   "execution_count": 64,
   "metadata": {},
   "outputs": [
    {
     "name": "stdout",
     "output_type": "stream",
     "text": [
      "temp.csv\n",
      "['Arbol' 'SVM' 'KNN' 'LR' 'MLP' 'RF' 'ET']\n",
      "==========================================================\n",
      "Report\n",
      "==========================================================\n",
      "**********************************************************\n",
      "Mean and std\n",
      "**********************************************************\n",
      "Arbol: 0.715455 (0.128697)\n",
      "SVM: 0.773636 (0.126586)\n",
      "KNN: 0.783636 (0.140707)\n",
      "LR: 0.753636 (0.112113)\n",
      "MLP: 0.693636 (0.159392)\n",
      "RF: 0.744545 (0.133389)\n",
      "ET: 0.782727 (0.118003)\n",
      "**********************************************************\n",
      "Statistical tests\n",
      "**********************************************************\n",
      "----------------------------------------------------------\n",
      "Checking parametric conditions \n",
      "----------------------------------------------------------\n",
      "Checking independence \n",
      "Ok\n",
      "Checking normality using Shapiro-Wilk's test for normality, alpha=0.05\n",
      "W: 0.943531, p:0.003373\n",
      "The null hypothesis (normality) is rejected\n",
      "Checking heteroscedasticity using Levene's test, alpha=0.05\n",
      "W: 0.246539, p:0.958962\n",
      "The null hypothesis (heteroscedasticity) is accepted\n",
      "Conditions for a parametric test are not fulfilled, applying a non-parametric test\n",
      "----------------------------------------------------------\n",
      "Working with more than 2 algorithms\n",
      "----------------------------------------------------------\n",
      "----------------------------------------------------------\n",
      "Applying Friedman test\n",
      "----------------------------------------------------------\n",
      "F-value: 1.684757, p-value: 0.14252740420295107\n",
      "Null hypothesis is rejected; hence, models have different performance\n",
      "Technique      Ranking\n",
      "-----------  ---------\n",
      "ET                5\n",
      "KNN               4.7\n",
      "SVM               4.5\n",
      "LR                4.15\n",
      "RF                3.95\n",
      "Arbol             2.9\n",
      "MLP               2.8\n",
      "Winner model: ET\n",
      "----------------------------------------------------------\n",
      "Applying Holm p-value adjustment procedure and analysing effect size\n",
      "----------------------------------------------------------\n",
      "Comparison      Zvalue    p-value    adjusted p-value\n",
      "------------  --------  ---------  ------------------\n",
      "ET vs MLP     2.27722   0.0227733            0.13664\n",
      "ET vs Arbol   2.17371   0.0297272            0.148636\n",
      "ET vs RF      1.08685   0.277102             1\n",
      "ET vs LR      0.879834  0.378949             1\n",
      "ET vs SVM     0.517549  0.604773             1\n",
      "ET vs KNN     0.31053   0.756158             1\n",
      "There is a significant difference between the models: ET (mean: 0.782727, std: 0.118003) and MLP (mean: 0.693636, std: 0.159392) (Cohen's d=0.6027045579704554, Large)\n",
      "There is a significant difference between the models: ET (mean: 0.782727, std: 0.118003) and Arbol (mean: 0.715455, std: 0.128697) (Cohen's d=0.5169084654129915, Large)\n",
      "We can't say that there is a significant difference in the performance of the models: ET (mean: 0.782727, std: 0.118003) and RF (mean: 0.744545, std: 0.133389) (Cohen's d=0.2876367504392337, Medium)\n",
      "We can't say that there is a significant difference in the performance of the models: ET (mean: 0.782727, std: 0.118003) and LR (mean: 0.753636, std: 0.112113) (Cohen's d=0.23978279521819423, Medium)\n",
      "We can't say that there is a significant difference in the performance of the models: ET (mean: 0.782727, std: 0.118003) and SVM (mean: 0.773636, std: 0.126586) (Cohen's d=0.07047809264680466, Small)\n",
      "We can't say that there is a significant difference in the performance of the models: ET (mean: 0.782727, std: 0.118003) and KNN (mean: 0.783636, std: 0.140707) (Cohen's d=0.0066417046868189975, Small)\n",
      "Eta squared: 0.055499 (Medium)\n"
     ]
    },
    {
     "data": {
      "image/png": "[encoded data removed]",
      "text/plain": [
       "<Figure size 432x288 with 1 Axes>"
      ]
     },
     "metadata": {
      "needs_background": "light"
     },
     "output_type": "display_data"
    }
   ],
   "source": [
    "compare_methods(Xumap,Y,listAlgorithms,listParams,listNames,metric='accuracy')"
   ]
  },
  {
   "cell_type": "code",
   "execution_count": 65,
   "metadata": {
    "id": "9NTIJDD2XWW6"
   },
   "outputs": [],
   "source": [
    "!mv temp.csv tempumap2.csv"
   ]
  },
  {
   "cell_type": "markdown",
   "metadata": {},
   "source": [
    "# UMAP with 10 components"
   ]
  },
  {
   "cell_type": "code",
   "execution_count": 66,
   "metadata": {
    "id": "vtZHePZ6XaWK"
   },
   "outputs": [],
   "source": [
    "reducer = UMAP(n_components=10)"
   ]
  },
  {
   "cell_type": "code",
   "execution_count": 67,
   "metadata": {
    "id": "RT32rbaFXsMs"
   },
   "outputs": [],
   "source": [
    "Xumap10 = reducer.fit_transform(X)"
   ]
  },
  {
   "cell_type": "code",
   "execution_count": 68,
   "metadata": {
    "id": "IZhqNI6ZX2L0",
    "scrolled": true
   },
   "outputs": [
    {
     "name": "stdout",
     "output_type": "stream",
     "text": [
      "temp.csv\n",
      "['Arbol' 'SVM' 'KNN' 'LR' 'MLP' 'RF' 'ET']\n",
      "==========================================================\n",
      "Report\n",
      "==========================================================\n",
      "**********************************************************\n",
      "Mean and std\n",
      "**********************************************************\n",
      "Arbol: 0.662024 (0.163038)\n",
      "SVM: 0.701726 (0.128518)\n",
      "KNN: 0.735060 (0.145272)\n",
      "LR: 0.728393 (0.119298)\n",
      "MLP: 0.685060 (0.119292)\n",
      "RF: 0.693393 (0.147588)\n",
      "ET: 0.716310 (0.136777)\n",
      "**********************************************************\n",
      "Statistical tests\n",
      "**********************************************************\n",
      "----------------------------------------------------------\n",
      "Checking parametric conditions \n",
      "----------------------------------------------------------\n",
      "Checking independence \n",
      "Ok\n",
      "Checking normality using Shapiro-Wilk's test for normality, alpha=0.05\n",
      "W: 0.930053, p:0.000750\n",
      "The null hypothesis (normality) is rejected\n",
      "Checking heteroscedasticity using Levene's test, alpha=0.05\n",
      "W: 0.346458, p:0.909379\n",
      "The null hypothesis (heteroscedasticity) is accepted\n",
      "Conditions for a parametric test are not fulfilled, applying a non-parametric test\n",
      "----------------------------------------------------------\n",
      "Working with more than 2 algorithms\n",
      "----------------------------------------------------------\n",
      "----------------------------------------------------------\n",
      "Applying Friedman test\n",
      "----------------------------------------------------------\n",
      "F-value: 0.855299, p-value: 0.5335423158353327\n",
      "Null hypothesis is accepted; hence, we can't say that there is a significant difference in the performance of the models\n",
      "----------------------------------------------------------\n",
      "Analysing effect size\n",
      "----------------------------------------------------------\n",
      "We take the model with the best mean (KNN, mean: 0.735060) and compare it with the other models: \n",
      "Comparing effect size of KNN and Arbol: Cohen's d=0.44872287568967545, Medium\n",
      "Comparing effect size of KNN and SVM: Cohen's d=0.23056899940843517, Medium\n",
      "Comparing effect size of KNN and LR: Cohen's d=0.04758130595381346, Small\n",
      "Comparing effect size of KNN and MLP: Cohen's d=0.3568668080867311, Medium\n",
      "Comparing effect size of KNN and RF: Cohen's d=0.2699391799137778, Medium\n",
      "Comparing effect size of KNN and ET: Cohen's d=0.12607559517693825, Small\n",
      "Eta squared: 0.028771 (Medium)\n"
     ]
    },
    {
     "data": {
      "image/png": "[encoded data removed]",
      "text/plain": [
       "<Figure size 432x288 with 1 Axes>"
      ]
     },
     "metadata": {
      "needs_background": "light"
     },
     "output_type": "display_data"
    }
   ],
   "source": [
    "compare_methods(Xumap10,Y,listAlgorithms,listParams,listNames,metric='auroc')"
   ]
  },
  {
   "cell_type": "code",
   "execution_count": 69,
   "metadata": {},
   "outputs": [
    {
     "name": "stdout",
     "output_type": "stream",
     "text": [
      "temp.csv\n",
      "['Arbol' 'SVM' 'KNN' 'LR' 'MLP' 'RF' 'ET']\n",
      "==========================================================\n",
      "Report\n",
      "==========================================================\n",
      "**********************************************************\n",
      "Mean and std\n",
      "**********************************************************\n",
      "Arbol: 0.653571 (0.247636)\n",
      "SVM: 0.685000 (0.156249)\n",
      "KNN: 0.717381 (0.166084)\n",
      "LR: 0.724048 (0.182656)\n",
      "MLP: 0.691667 (0.182460)\n",
      "RF: 0.690000 (0.226471)\n",
      "ET: 0.689048 (0.185935)\n",
      "**********************************************************\n",
      "Statistical tests\n",
      "**********************************************************\n",
      "----------------------------------------------------------\n",
      "Checking parametric conditions \n",
      "----------------------------------------------------------\n",
      "Checking independence \n",
      "Ok\n",
      "Checking normality using Shapiro-Wilk's test for normality, alpha=0.05\n",
      "W: 0.897657, p:0.000031\n",
      "The null hypothesis (normality) is rejected\n",
      "Checking heteroscedasticity using Levene's test, alpha=0.05\n",
      "W: 0.668091, p:0.675640\n",
      "The null hypothesis (heteroscedasticity) is accepted\n",
      "Conditions for a parametric test are not fulfilled, applying a non-parametric test\n",
      "----------------------------------------------------------\n",
      "Working with more than 2 algorithms\n",
      "----------------------------------------------------------\n",
      "----------------------------------------------------------\n",
      "Applying Friedman test\n",
      "----------------------------------------------------------\n",
      "F-value: 0.824561, p-value: 0.555970817405457\n",
      "Null hypothesis is accepted; hence, we can't say that there is a significant difference in the performance of the models\n",
      "----------------------------------------------------------\n",
      "Analysing effect size\n",
      "----------------------------------------------------------\n",
      "We take the model with the best mean (LR, mean: 0.724048) and compare it with the other models: \n",
      "Comparing effect size of LR and Arbol: Cohen's d=0.3072798648964352, Medium\n",
      "Comparing effect size of LR and SVM: Cohen's d=0.21794781713390962, Medium\n",
      "Comparing effect size of LR and KNN: Cohen's d=0.036229958218001554, Small\n",
      "Comparing effect size of LR and MLP: Cohen's d=0.16827110283957156, Small\n",
      "Comparing effect size of LR and RF: Cohen's d=0.15700151638727625, Small\n",
      "Comparing effect size of LR and ET: Cohen's d=0.1801596707642049, Small\n",
      "Eta squared: 0.011907 (Medium)\n"
     ]
    },
    {
     "data": {
      "image/png": "[encoded data removed]",
      "text/plain": [
       "<Figure size 432x288 with 1 Axes>"
      ]
     },
     "metadata": {
      "needs_background": "light"
     },
     "output_type": "display_data"
    }
   ],
   "source": [
    "compare_methods(Xumap10,Y,listAlgorithms,listParams,listNames,metric='precision')"
   ]
  },
  {
   "cell_type": "code",
   "execution_count": 70,
   "metadata": {},
   "outputs": [
    {
     "name": "stdout",
     "output_type": "stream",
     "text": [
      "temp.csv\n",
      "['Arbol' 'SVM' 'KNN' 'LR' 'MLP' 'RF' 'ET']\n",
      "==========================================================\n",
      "Report\n",
      "==========================================================\n",
      "**********************************************************\n",
      "Mean and std\n",
      "**********************************************************\n",
      "Arbol: 0.647619 (0.232689)\n",
      "SVM: 0.695238 (0.154138)\n",
      "KNN: 0.711905 (0.190833)\n",
      "LR: 0.691071 (0.155412)\n",
      "MLP: 0.649405 (0.188578)\n",
      "RF: 0.685119 (0.167186)\n",
      "ET: 0.699405 (0.174989)\n",
      "**********************************************************\n",
      "Statistical tests\n",
      "**********************************************************\n",
      "----------------------------------------------------------\n",
      "Checking parametric conditions \n",
      "----------------------------------------------------------\n",
      "Checking independence \n",
      "Ok\n",
      "Checking normality using Shapiro-Wilk's test for normality, alpha=0.05\n",
      "W: 0.937559, p:0.001707\n",
      "The null hypothesis (normality) is rejected\n",
      "Checking heteroscedasticity using Levene's test, alpha=0.05\n",
      "W: 0.651132, p:0.688999\n",
      "The null hypothesis (heteroscedasticity) is accepted\n",
      "Conditions for a parametric test are not fulfilled, applying a non-parametric test\n",
      "----------------------------------------------------------\n",
      "Working with more than 2 algorithms\n",
      "----------------------------------------------------------\n",
      "----------------------------------------------------------\n",
      "Applying Friedman test\n",
      "----------------------------------------------------------\n",
      "F-value: 0.193725, p-value: 0.9772767046901977\n",
      "Null hypothesis is accepted; hence, we can't say that there is a significant difference in the performance of the models\n",
      "----------------------------------------------------------\n",
      "Analysing effect size\n",
      "----------------------------------------------------------\n",
      "We take the model with the best mean (KNN, mean: 0.711905) and compare it with the other models: \n",
      "Comparing effect size of KNN and Arbol: Cohen's d=0.28660224191450817, Medium\n",
      "Comparing effect size of KNN and SVM: Cohen's d=0.09115369823972601, Small\n",
      "Comparing effect size of KNN and LR: Cohen's d=0.11357060352017599, Small\n",
      "Comparing effect size of KNN and MLP: Cohen's d=0.3125459902757821, Medium\n",
      "Comparing effect size of KNN and RF: Cohen's d=0.14164575786551395, Small\n",
      "Comparing effect size of KNN and ET: Cohen's d=0.0647716040082569, Small\n",
      "Eta squared: 0.015675 (Medium)\n"
     ]
    },
    {
     "data": {
      "image/png": "[encoded data removed]",
      "text/plain": [
       "<Figure size 432x288 with 1 Axes>"
      ]
     },
     "metadata": {
      "needs_background": "light"
     },
     "output_type": "display_data"
    }
   ],
   "source": [
    "compare_methods(Xumap10,Y,listAlgorithms,listParams,listNames,metric='recall')"
   ]
  },
  {
   "cell_type": "code",
   "execution_count": 71,
   "metadata": {},
   "outputs": [
    {
     "name": "stdout",
     "output_type": "stream",
     "text": [
      "temp.csv\n",
      "['Arbol' 'SVM' 'KNN' 'LR' 'MLP' 'RF' 'ET']\n",
      "==========================================================\n",
      "Report\n",
      "==========================================================\n",
      "**********************************************************\n",
      "Mean and std\n",
      "**********************************************************\n",
      "Arbol: 0.652727 (0.151128)\n",
      "SVM: 0.725455 (0.130972)\n",
      "KNN: 0.734545 (0.139941)\n",
      "LR: 0.723636 (0.117846)\n",
      "MLP: 0.675455 (0.130988)\n",
      "RF: 0.686364 (0.150330)\n",
      "ET: 0.716364 (0.132353)\n",
      "**********************************************************\n",
      "Statistical tests\n",
      "**********************************************************\n",
      "----------------------------------------------------------\n",
      "Checking parametric conditions \n",
      "----------------------------------------------------------\n",
      "Checking independence \n",
      "Ok\n",
      "Checking normality using Shapiro-Wilk's test for normality, alpha=0.05\n",
      "W: 0.924663, p:0.000425\n",
      "The null hypothesis (normality) is rejected\n",
      "Checking heteroscedasticity using Levene's test, alpha=0.05\n",
      "W: 0.174025, p:0.982899\n",
      "The null hypothesis (heteroscedasticity) is accepted\n",
      "Conditions for a parametric test are not fulfilled, applying a non-parametric test\n",
      "----------------------------------------------------------\n",
      "Working with more than 2 algorithms\n",
      "----------------------------------------------------------\n",
      "----------------------------------------------------------\n",
      "Applying Friedman test\n",
      "----------------------------------------------------------\n",
      "F-value: 0.986130, p-value: 0.44386215545936525\n",
      "Null hypothesis is rejected; hence, models have different performance\n",
      "Technique      Ranking\n",
      "-----------  ---------\n",
      "KNN               4.8\n",
      "LR                4.6\n",
      "SVM               4.3\n",
      "ET                4.2\n",
      "MLP               3.75\n",
      "RF                3.5\n",
      "Arbol             2.85\n",
      "Winner model: KNN\n",
      "----------------------------------------------------------\n",
      "Applying Holm p-value adjustment procedure and analysing effect size\n",
      "----------------------------------------------------------\n",
      "Comparison      Zvalue    p-value    adjusted p-value\n",
      "------------  --------  ---------  ------------------\n",
      "KNN vs Arbol  2.01844   0.0435453            0.261272\n",
      "KNN vs RF     1.34563   0.178423             0.892113\n",
      "KNN vs MLP    1.08685   0.277102             1\n",
      "KNN vs ET     0.621059  0.534561             1\n",
      "KNN vs SVM    0.517549  0.604773             1\n",
      "KNN vs LR     0.20702   0.835994             1\n",
      "There is a significant difference between the models: KNN (mean: 0.734545, std: 0.139941) and Arbol (mean: 0.652727, std: 0.151128) (Cohen's d=0.5329477943622841, Large)\n",
      "We can't say that there is a significant difference in the performance of the models: KNN (mean: 0.734545, std: 0.139941) and RF (mean: 0.686364, std: 0.150330) (Cohen's d=0.3147404307726533, Medium)\n",
      "We can't say that there is a significant difference in the performance of the models: KNN (mean: 0.734545, std: 0.139941) and MLP (mean: 0.675455, std: 0.130988) (Cohen's d=0.413599050253672, Medium)\n",
      "We can't say that there is a significant difference in the performance of the models: KNN (mean: 0.734545, std: 0.139941) and ET (mean: 0.716364, std: 0.132353) (Cohen's d=0.1266431695028047, Small)\n",
      "We can't say that there is a significant difference in the performance of the models: KNN (mean: 0.734545, std: 0.139941) and SVM (mean: 0.725455, std: 0.130972) (Cohen's d=0.0636342016295094, Small)\n",
      "We can't say that there is a significant difference in the performance of the models: KNN (mean: 0.734545, std: 0.139941) and LR (mean: 0.723636, std: 0.117846) (Cohen's d=0.0800000000000005, Small)\n",
      "Eta squared: 0.041501 (Medium)\n"
     ]
    },
    {
     "data": {
      "image/png": "[encoded data removed]",
      "text/plain": [
       "<Figure size 432x288 with 1 Axes>"
      ]
     },
     "metadata": {
      "needs_background": "light"
     },
     "output_type": "display_data"
    }
   ],
   "source": [
    "compare_methods(Xumap10,Y,listAlgorithms,listParams,listNames,metric='accuracy')"
   ]
  },
  {
   "cell_type": "markdown",
   "metadata": {},
   "source": [
    "# Isomap"
   ]
  },
  {
   "cell_type": "code",
   "execution_count": 72,
   "metadata": {
    "scrolled": true
   },
   "outputs": [
    {
     "name": "stdout",
     "output_type": "stream",
     "text": [
      "temp.csv\n",
      "['Arbol' 'SVM' 'KNN' 'LR' 'MLP' 'RF' 'ET']\n",
      "==========================================================\n",
      "Report\n",
      "==========================================================\n",
      "**********************************************************\n",
      "Mean and std\n",
      "**********************************************************\n",
      "Arbol: 0.549345 (0.132027)\n",
      "SVM: 0.546250 (0.149564)\n",
      "KNN: 0.604881 (0.154600)\n",
      "LR: 0.612619 (0.164375)\n",
      "MLP: 0.557560 (0.161755)\n",
      "RF: 0.505179 (0.137231)\n",
      "ET: 0.616786 (0.127346)\n",
      "**********************************************************\n",
      "Statistical tests\n",
      "**********************************************************\n",
      "----------------------------------------------------------\n",
      "Checking parametric conditions \n",
      "----------------------------------------------------------\n",
      "Checking independence \n",
      "Ok\n",
      "Checking normality using Shapiro-Wilk's test for normality, alpha=0.05\n",
      "W: 0.977270, p:0.232610\n",
      "The null hypothesis (normality) is rejected\n",
      "Checking heteroscedasticity using Levene's test, alpha=0.05\n",
      "W: 0.371588, p:0.894340\n",
      "The null hypothesis (heteroscedasticity) is accepted\n",
      "Conditions for a parametric test are not fulfilled, applying a non-parametric test\n",
      "----------------------------------------------------------\n",
      "Working with more than 2 algorithms\n",
      "----------------------------------------------------------\n",
      "----------------------------------------------------------\n",
      "Applying Friedman test\n",
      "----------------------------------------------------------\n",
      "F-value: 1.063898, p-value: 0.3955465104391399\n",
      "Null hypothesis is rejected; hence, models have different performance\n",
      "Technique      Ranking\n",
      "-----------  ---------\n",
      "ET                4.9\n",
      "LR                4.55\n",
      "KNN               4.3\n",
      "SVM               4.25\n",
      "MLP               3.75\n",
      "Arbol             3.35\n",
      "RF                2.9\n",
      "Winner model: ET\n",
      "----------------------------------------------------------\n",
      "Applying Holm p-value adjustment procedure and analysing effect size\n",
      "----------------------------------------------------------\n",
      "Comparison      Zvalue    p-value    adjusted p-value\n",
      "------------  --------  ---------  ------------------\n",
      "ET vs RF      2.0702    0.0384339            0.230604\n",
      "ET vs Arbol   1.6044    0.108625             0.543127\n",
      "ET vs MLP     1.19036   0.233904             0.935615\n",
      "ET vs SVM     0.672814  0.501066             1\n",
      "ET vs KNN     0.621059  0.534561             1\n",
      "ET vs LR      0.362284  0.71714              1\n",
      "There is a significant difference between the models: ET (mean: 0.616786, std: 0.127346) and RF (mean: 0.505179, std: 0.137231) (Cohen's d=0.7998130982887491, Large)\n",
      "We can't say that there is a significant difference in the performance of the models: ET (mean: 0.616786, std: 0.127346) and Arbol (mean: 0.549345, std: 0.132027) (Cohen's d=0.4932601494650598, Medium)\n",
      "We can't say that there is a significant difference in the performance of the models: ET (mean: 0.616786, std: 0.127346) and MLP (mean: 0.557560, std: 0.161755) (Cohen's d=0.38597672725959886, Medium)\n",
      "We can't say that there is a significant difference in the performance of the models: ET (mean: 0.616786, std: 0.127346) and SVM (mean: 0.546250, std: 0.149564) (Cohen's d=0.48175647759336415, Medium)\n",
      "We can't say that there is a significant difference in the performance of the models: ET (mean: 0.616786, std: 0.127346) and KNN (mean: 0.604881, std: 0.154600) (Cohen's d=0.0797417289927241, Small)\n",
      "We can't say that there is a significant difference in the performance of the models: ET (mean: 0.616786, std: 0.127346) and LR (mean: 0.612619, std: 0.164375) (Cohen's d=0.0268844703686773, Small)\n",
      "Eta squared: 0.065034 (Large)\n"
     ]
    },
    {
     "data": {
      "image/png": "[encoded data removed]",
      "text/plain": [
       "<Figure size 432x288 with 1 Axes>"
      ]
     },
     "metadata": {
      "needs_background": "light"
     },
     "output_type": "display_data"
    }
   ],
   "source": [
    "from sklearn import manifold\n",
    "clf = manifold.Isomap(10, n_components=2)\n",
    "X_iso2 = clf.fit_transform(X)\n",
    "compare_methods(X_iso2,Y,listAlgorithms,listParams,listNames,metric='auroc')\n",
    "!mv temp.csv tempiso2.csv"
   ]
  },
  {
   "cell_type": "code",
   "execution_count": 73,
   "metadata": {},
   "outputs": [
    {
     "name": "stdout",
     "output_type": "stream",
     "text": [
      "temp.csv\n",
      "['Arbol' 'SVM' 'KNN' 'LR' 'MLP' 'RF' 'ET']\n",
      "==========================================================\n",
      "Report\n",
      "==========================================================\n",
      "**********************************************************\n",
      "Mean and std\n",
      "**********************************************************\n",
      "Arbol: 0.533333 (0.167498)\n",
      "SVM: 0.558810 (0.309698)\n",
      "KNN: 0.583095 (0.225418)\n",
      "LR: 0.617857 (0.233650)\n",
      "MLP: 0.575714 (0.199673)\n",
      "RF: 0.500476 (0.200718)\n",
      "ET: 0.604167 (0.241501)\n",
      "**********************************************************\n",
      "Statistical tests\n",
      "**********************************************************\n",
      "----------------------------------------------------------\n",
      "Checking parametric conditions \n",
      "----------------------------------------------------------\n",
      "Checking independence \n",
      "Ok\n",
      "Checking normality using Shapiro-Wilk's test for normality, alpha=0.05\n",
      "W: 0.958160, p:0.019837\n",
      "The null hypothesis (normality) is rejected\n",
      "Checking heteroscedasticity using Levene's test, alpha=0.05\n",
      "W: 0.593055, p:0.734671\n",
      "The null hypothesis (heteroscedasticity) is accepted\n",
      "Conditions for a parametric test are not fulfilled, applying a non-parametric test\n",
      "----------------------------------------------------------\n",
      "Working with more than 2 algorithms\n",
      "----------------------------------------------------------\n",
      "----------------------------------------------------------\n",
      "Applying Friedman test\n",
      "----------------------------------------------------------\n",
      "F-value: 1.118450, p-value: 0.3640121851204643\n",
      "Null hypothesis is rejected; hence, models have different performance\n",
      "Technique      Ranking\n",
      "-----------  ---------\n",
      "LR                4.7\n",
      "ET                4.65\n",
      "KNN               4.3\n",
      "SVM               4.3\n",
      "MLP               4\n",
      "Arbol             3.25\n",
      "RF                2.8\n",
      "Winner model: LR\n",
      "----------------------------------------------------------\n",
      "Applying Holm p-value adjustment procedure and analysing effect size\n",
      "----------------------------------------------------------\n",
      "Comparison       Zvalue    p-value    adjusted p-value\n",
      "------------  ---------  ---------  ------------------\n",
      "LR vs RF      1.96669    0.0492193            0.295316\n",
      "LR vs Arbol   1.50089    0.133383             0.666917\n",
      "LR vs MLP     0.724569   0.468717             1\n",
      "LR vs SVM     0.414039   0.678845             1\n",
      "LR vs KNN     0.414039   0.678845             1\n",
      "LR vs ET      0.0517549  0.958724             1\n",
      "There is a significant difference between the models: LR (mean: 0.617857, std: 0.233650) and RF (mean: 0.500476, std: 0.200718) (Cohen's d=0.5112659016291039, Large)\n",
      "We can't say that there is a significant difference in the performance of the models: LR (mean: 0.617857, std: 0.233650) and Arbol (mean: 0.533333, std: 0.167498) (Cohen's d=0.3944572956287808, Medium)\n",
      "We can't say that there is a significant difference in the performance of the models: LR (mean: 0.617857, std: 0.233650) and MLP (mean: 0.575714, std: 0.199673) (Cohen's d=0.18396397771921108, Small)\n",
      "We can't say that there is a significant difference in the performance of the models: LR (mean: 0.617857, std: 0.233650) and SVM (mean: 0.558810, std: 0.309698) (Cohen's d=0.20420358339432557, Medium)\n",
      "We can't say that there is a significant difference in the performance of the models: LR (mean: 0.617857, std: 0.233650) and KNN (mean: 0.583095, std: 0.225418) (Cohen's d=0.14365080601506766, Small)\n",
      "We can't say that there is a significant difference in the performance of the models: LR (mean: 0.617857, std: 0.233650) and ET (mean: 0.604167, std: 0.241501) (Cohen's d=0.054661169143675525, Small)\n",
      "Eta squared: 0.026274 (Medium)\n"
     ]
    },
    {
     "data": {
      "image/png": "[encoded data removed]",
      "text/plain": [
       "<Figure size 432x288 with 1 Axes>"
      ]
     },
     "metadata": {
      "needs_background": "light"
     },
     "output_type": "display_data"
    }
   ],
   "source": [
    "compare_methods(X_iso2,Y,listAlgorithms,listParams,listNames,metric='precision')"
   ]
  },
  {
   "cell_type": "code",
   "execution_count": 74,
   "metadata": {},
   "outputs": [
    {
     "name": "stdout",
     "output_type": "stream",
     "text": [
      "temp.csv\n",
      "['Arbol' 'SVM' 'KNN' 'LR' 'MLP' 'RF' 'ET']\n",
      "==========================================================\n",
      "Report\n",
      "==========================================================\n",
      "**********************************************************\n",
      "Mean and std\n",
      "**********************************************************\n",
      "Arbol: 0.548214 (0.216104)\n",
      "SVM: 0.463095 (0.256019)\n",
      "KNN: 0.692857 (0.210064)\n",
      "LR: 0.625000 (0.214038)\n",
      "MLP: 0.564881 (0.194825)\n",
      "RF: 0.479167 (0.197369)\n",
      "ET: 0.633333 (0.220273)\n",
      "**********************************************************\n",
      "Statistical tests\n",
      "**********************************************************\n",
      "----------------------------------------------------------\n",
      "Checking parametric conditions \n",
      "----------------------------------------------------------\n",
      "Checking independence \n",
      "Ok\n",
      "Checking normality using Shapiro-Wilk's test for normality, alpha=0.05\n",
      "W: 0.927735, p:0.000586\n",
      "The null hypothesis (normality) is rejected\n",
      "Checking heteroscedasticity using Levene's test, alpha=0.05\n",
      "W: 0.207554, p:0.973187\n",
      "The null hypothesis (heteroscedasticity) is accepted\n",
      "Conditions for a parametric test are not fulfilled, applying a non-parametric test\n",
      "----------------------------------------------------------\n",
      "Working with more than 2 algorithms\n",
      "----------------------------------------------------------\n",
      "----------------------------------------------------------\n",
      "Applying Friedman test\n",
      "----------------------------------------------------------\n",
      "F-value: 1.202429, p-value: 0.3192904488676692\n",
      "Null hypothesis is rejected; hence, models have different performance\n",
      "Technique      Ranking\n",
      "-----------  ---------\n",
      "KNN               5.2\n",
      "LR                4.5\n",
      "ET                4.4\n",
      "MLP               3.75\n",
      "Arbol             3.75\n",
      "SVM               3.35\n",
      "RF                3.05\n",
      "Winner model: KNN\n",
      "----------------------------------------------------------\n",
      "Applying Holm p-value adjustment procedure and analysing effect size\n",
      "----------------------------------------------------------\n",
      "Comparison      Zvalue    p-value    adjusted p-value\n",
      "------------  --------  ---------  ------------------\n",
      "KNN vs RF     2.22546   0.0260503            0.156302\n",
      "KNN vs SVM    1.91493   0.0555012            0.277506\n",
      "KNN vs Arbol  1.50089   0.133383             0.533533\n",
      "KNN vs MLP    1.50089   0.133383             0.533533\n",
      "KNN vs ET     0.828079  0.407626             0.815252\n",
      "KNN vs LR     0.724569  0.468717             0.815252\n",
      "There is a significant difference between the models: KNN (mean: 0.692857, std: 0.210064) and RF (mean: 0.479167, std: 0.197369) (Cohen's d=0.994648114853727, Large)\n",
      "There is a significant difference between the models: KNN (mean: 0.692857, std: 0.210064) and SVM (mean: 0.463095, std: 0.256019) (Cohen's d=0.9308188467839502, Large)\n",
      "We can't say that there is a significant difference in the performance of the models: KNN (mean: 0.692857, std: 0.210064) and Arbol (mean: 0.548214, std: 0.216104) (Cohen's d=0.6439072634150933, Large)\n",
      "We can't say that there is a significant difference in the performance of the models: KNN (mean: 0.692857, std: 0.210064) and MLP (mean: 0.564881, std: 0.194825) (Cohen's d=0.5992899589800629, Large)\n",
      "We can't say that there is a significant difference in the performance of the models: KNN (mean: 0.692857, std: 0.210064) and ET (mean: 0.633333, std: 0.220273) (Cohen's d=0.2623677016460632, Medium)\n",
      "We can't say that there is a significant difference in the performance of the models: KNN (mean: 0.692857, std: 0.210064) and LR (mean: 0.625000, std: 0.214038) (Cohen's d=0.3035691625646256, Medium)\n",
      "Eta squared: 0.114280 (Large)\n"
     ]
    },
    {
     "data": {
      "image/png": "[encoded data removed]",
      "text/plain": [
       "<Figure size 432x288 with 1 Axes>"
      ]
     },
     "metadata": {
      "needs_background": "light"
     },
     "output_type": "display_data"
    }
   ],
   "source": [
    "compare_methods(X_iso2,Y,listAlgorithms,listParams,listNames,metric='recall')"
   ]
  },
  {
   "cell_type": "code",
   "execution_count": 75,
   "metadata": {},
   "outputs": [
    {
     "name": "stdout",
     "output_type": "stream",
     "text": [
      "temp.csv\n",
      "['Arbol' 'SVM' 'KNN' 'LR' 'MLP' 'RF' 'ET']\n",
      "==========================================================\n",
      "Report\n",
      "==========================================================\n",
      "**********************************************************\n",
      "Mean and std\n",
      "**********************************************************\n",
      "Arbol: 0.528182 (0.119465)\n",
      "SVM: 0.539091 (0.116353)\n",
      "KNN: 0.599091 (0.131328)\n",
      "LR: 0.616364 (0.139586)\n",
      "MLP: 0.546364 (0.125997)\n",
      "RF: 0.508182 (0.094864)\n",
      "ET: 0.568182 (0.102065)\n",
      "**********************************************************\n",
      "Statistical tests\n",
      "**********************************************************\n",
      "----------------------------------------------------------\n",
      "Checking parametric conditions \n",
      "----------------------------------------------------------\n",
      "Checking independence \n",
      "Ok\n",
      "Checking normality using Shapiro-Wilk's test for normality, alpha=0.05\n",
      "W: 0.953999, p:0.011807\n",
      "The null hypothesis (normality) is rejected\n",
      "Checking heteroscedasticity using Levene's test, alpha=0.05\n",
      "W: 0.409698, p:0.869924\n",
      "The null hypothesis (heteroscedasticity) is accepted\n",
      "Conditions for a parametric test are not fulfilled, applying a non-parametric test\n",
      "----------------------------------------------------------\n",
      "Working with more than 2 algorithms\n",
      "----------------------------------------------------------\n",
      "----------------------------------------------------------\n",
      "Applying Friedman test\n",
      "----------------------------------------------------------\n",
      "F-value: 0.942790, p-value: 0.4724550155669588\n",
      "Null hypothesis is rejected; hence, models have different performance\n",
      "Technique      Ranking\n",
      "-----------  ---------\n",
      "LR                4.85\n",
      "KNN               4.75\n",
      "ET                4.35\n",
      "SVM               3.75\n",
      "MLP               3.65\n",
      "Arbol             3.6\n",
      "RF                3.05\n",
      "Winner model: LR\n",
      "----------------------------------------------------------\n",
      "Applying Holm p-value adjustment procedure and analysing effect size\n",
      "----------------------------------------------------------\n",
      "Comparison      Zvalue    p-value    adjusted p-value\n",
      "------------  --------  ---------  ------------------\n",
      "LR vs RF      1.86318   0.0624374            0.374624\n",
      "LR vs Arbol   1.29387   0.195709             0.978547\n",
      "LR vs MLP     1.24212   0.214193             0.978547\n",
      "LR vs SVM     1.13861   0.254867             0.978547\n",
      "LR vs ET      0.517549  0.604773             1\n",
      "LR vs KNN     0.10351   0.917558             1\n",
      "There is a significant difference between the models: LR (mean: 0.616364, std: 0.139586) and RF (mean: 0.508182, std: 0.094864) (Cohen's d=0.8599913292117867, Large)\n",
      "We can't say that there is a significant difference in the performance of the models: LR (mean: 0.616364, std: 0.139586) and Arbol (mean: 0.528182, std: 0.119465) (Cohen's d=0.6439298187364462, Large)\n",
      "We can't say that there is a significant difference in the performance of the models: LR (mean: 0.616364, std: 0.139586) and MLP (mean: 0.546364, std: 0.125997) (Cohen's d=0.49943757078334516, Medium)\n",
      "We can't say that there is a significant difference in the performance of the models: LR (mean: 0.616364, std: 0.139586) and SVM (mean: 0.539091, std: 0.116353) (Cohen's d=0.5705040626515429, Large)\n",
      "We can't say that there is a significant difference in the performance of the models: LR (mean: 0.616364, std: 0.139586) and ET (mean: 0.568182, std: 0.102065) (Cohen's d=0.3738280102161812, Medium)\n",
      "We can't say that there is a significant difference in the performance of the models: LR (mean: 0.616364, std: 0.139586) and KNN (mean: 0.599091, std: 0.131328) (Cohen's d=0.1209145038696132, Small)\n",
      "Eta squared: 0.083221 (Large)\n"
     ]
    },
    {
     "data": {
      "image/png": "[encoded data removed]",
      "text/plain": [
       "<Figure size 432x288 with 1 Axes>"
      ]
     },
     "metadata": {
      "needs_background": "light"
     },
     "output_type": "display_data"
    }
   ],
   "source": [
    "compare_methods(X_iso2,Y,listAlgorithms,listParams,listNames,metric='accuracy')"
   ]
  },
  {
   "cell_type": "code",
   "execution_count": 76,
   "metadata": {},
   "outputs": [
    {
     "name": "stdout",
     "output_type": "stream",
     "text": [
      "temp.csv\n",
      "['Arbol' 'SVM' 'KNN' 'LR' 'MLP' 'RF' 'ET']\n",
      "==========================================================\n",
      "Report\n",
      "==========================================================\n",
      "**********************************************************\n",
      "Mean and std\n",
      "**********************************************************\n",
      "Arbol: 0.556905 (0.146023)\n",
      "SVM: 0.608036 (0.153532)\n",
      "KNN: 0.606012 (0.105257)\n",
      "LR: 0.653333 (0.127707)\n",
      "MLP: 0.665357 (0.098610)\n",
      "RF: 0.648631 (0.099593)\n",
      "ET: 0.709821 (0.087383)\n",
      "**********************************************************\n",
      "Statistical tests\n",
      "**********************************************************\n",
      "----------------------------------------------------------\n",
      "Checking parametric conditions \n",
      "----------------------------------------------------------\n",
      "Checking independence \n",
      "Ok\n",
      "Checking normality using Shapiro-Wilk's test for normality, alpha=0.05\n",
      "W: 0.977524, p:0.240143\n",
      "The null hypothesis (normality) is rejected\n",
      "Checking heteroscedasticity using Levene's test, alpha=0.05\n",
      "W: 0.503753, p:0.803222\n",
      "The null hypothesis (heteroscedasticity) is accepted\n",
      "Conditions for a parametric test are not fulfilled, applying a non-parametric test\n",
      "----------------------------------------------------------\n",
      "Working with more than 2 algorithms\n",
      "----------------------------------------------------------\n",
      "----------------------------------------------------------\n",
      "Applying Friedman test\n",
      "----------------------------------------------------------\n",
      "F-value: 2.493729, p-value: 0.03341576304354266\n",
      "Null hypothesis is rejected; hence, models have different performance\n",
      "Technique      Ranking\n",
      "-----------  ---------\n",
      "ET                5.4\n",
      "MLP               4.75\n",
      "LR                4.5\n",
      "RF                4.2\n",
      "KNN               3.55\n",
      "SVM               3.1\n",
      "Arbol             2.5\n",
      "Winner model: ET\n",
      "----------------------------------------------------------\n",
      "Applying Holm p-value adjustment procedure and analysing effect size\n",
      "----------------------------------------------------------\n",
      "Comparison      Zvalue     p-value    adjusted p-value\n",
      "------------  --------  ----------  ------------------\n",
      "ET vs Arbol   3.00179   0.00268402           0.0161041\n",
      "ET vs SVM     2.38073   0.0172786            0.0863928\n",
      "ET vs KNN     1.91493   0.0555012            0.222005\n",
      "ET vs RF      1.24212   0.214193             0.642579\n",
      "ET vs LR      0.931589  0.351549             0.703098\n",
      "ET vs MLP     0.672814  0.501066             0.703098\n",
      "There is a significant difference between the models: ET (mean: 0.709821, std: 0.087383) and Arbol (mean: 0.556905, std: 0.146023) (Cohen's d=1.2055993129639053, Large)\n",
      "There is a significant difference between the models: ET (mean: 0.709821, std: 0.087383) and SVM (mean: 0.608036, std: 0.153532) (Cohen's d=0.773018721309848, Large)\n",
      "There is a significant difference between the models: ET (mean: 0.709821, std: 0.087383) and KNN (mean: 0.606012, std: 0.105257) (Cohen's d=1.018076686791008, Large)\n",
      "We can't say that there is a significant difference in the performance of the models: ET (mean: 0.709821, std: 0.087383) and RF (mean: 0.648631, std: 0.099593) (Cohen's d=0.6196191121254372, Large)\n",
      "We can't say that there is a significant difference in the performance of the models: ET (mean: 0.709821, std: 0.087383) and LR (mean: 0.653333, std: 0.127707) (Cohen's d=0.48976377057985915, Medium)\n",
      "We can't say that there is a significant difference in the performance of the models: ET (mean: 0.709821, std: 0.087383) and MLP (mean: 0.665357, std: 0.098610) (Cohen's d=0.4527697290981163, Medium)\n",
      "Eta squared: 0.128703 (Large)\n"
     ]
    },
    {
     "data": {
      "image/png": "[encoded data removed]",
      "text/plain": [
       "<Figure size 432x288 with 1 Axes>"
      ]
     },
     "metadata": {
      "needs_background": "light"
     },
     "output_type": "display_data"
    }
   ],
   "source": [
    "clf = manifold.Isomap(10, n_components=10)\n",
    "X_iso10 = clf.fit_transform(X)\n",
    "compare_methods(X_iso10,Y,listAlgorithms,listParams,listNames,metric='auroc')"
   ]
  },
  {
   "cell_type": "code",
   "execution_count": 77,
   "metadata": {},
   "outputs": [
    {
     "name": "stdout",
     "output_type": "stream",
     "text": [
      "temp.csv\n",
      "['Arbol' 'SVM' 'KNN' 'LR' 'MLP' 'RF' 'ET']\n",
      "==========================================================\n",
      "Report\n",
      "==========================================================\n",
      "**********************************************************\n",
      "Mean and std\n",
      "**********************************************************\n",
      "Arbol: 0.590000 (0.287054)\n",
      "SVM: 0.293056 (0.379777)\n",
      "KNN: 0.579802 (0.149757)\n",
      "LR: 0.708333 (0.241479)\n",
      "MLP: 0.649524 (0.218677)\n",
      "RF: 0.616905 (0.183072)\n",
      "ET: 0.713333 (0.214580)\n",
      "**********************************************************\n",
      "Statistical tests\n",
      "**********************************************************\n",
      "----------------------------------------------------------\n",
      "Checking parametric conditions \n",
      "----------------------------------------------------------\n",
      "Checking independence \n",
      "Ok\n",
      "Checking normality using Shapiro-Wilk's test for normality, alpha=0.05\n",
      "W: 0.937659, p:0.001726\n",
      "The null hypothesis (normality) is rejected\n",
      "Checking heteroscedasticity using Levene's test, alpha=0.05\n",
      "W: 0.902543, p:0.498887\n",
      "The null hypothesis (heteroscedasticity) is rejected\n",
      "Conditions for a parametric test are not fulfilled, applying a non-parametric test\n",
      "----------------------------------------------------------\n",
      "Working with more than 2 algorithms\n",
      "----------------------------------------------------------\n",
      "----------------------------------------------------------\n",
      "Applying Friedman test\n",
      "----------------------------------------------------------\n",
      "F-value: 1.970832, p-value: 0.08600690068622796\n",
      "Null hypothesis is rejected; hence, models have different performance\n",
      "Technique      Ranking\n",
      "-----------  ---------\n",
      "ET                5.1\n",
      "LR                4.7\n",
      "MLP               4.6\n",
      "RF                3.95\n",
      "KNN               3.95\n",
      "Arbol             3.25\n",
      "SVM               2.45\n",
      "Winner model: ET\n",
      "----------------------------------------------------------\n",
      "Applying Holm p-value adjustment procedure and analysing effect size\n",
      "----------------------------------------------------------\n",
      "Comparison      Zvalue     p-value    adjusted p-value\n",
      "------------  --------  ----------  ------------------\n",
      "ET vs SVM     2.74301   0.00608787           0.0365272\n",
      "ET vs Arbol   1.91493   0.0555012            0.277506\n",
      "ET vs KNN     1.19036   0.233904             0.935615\n",
      "ET vs RF      1.19036   0.233904             0.935615\n",
      "ET vs MLP     0.517549  0.604773             1\n",
      "ET vs LR      0.414039  0.678845             1\n",
      "There is a significant difference between the models: ET (mean: 0.713333, std: 0.214580) and SVM (mean: 0.293056, std: 0.379777) (Cohen's d=1.2926533578773414, Large)\n",
      "There is a significant difference between the models: ET (mean: 0.713333, std: 0.214580) and Arbol (mean: 0.590000, std: 0.287054) (Cohen's d=0.4616991335982745, Medium)\n",
      "We can't say that there is a significant difference in the performance of the models: ET (mean: 0.713333, std: 0.214580) and KNN (mean: 0.579802, std: 0.149757) (Cohen's d=0.6846446233646157, Large)\n",
      "We can't say that there is a significant difference in the performance of the models: ET (mean: 0.713333, std: 0.214580) and RF (mean: 0.616905, std: 0.183072) (Cohen's d=0.45866482319337903, Medium)\n",
      "We can't say that there is a significant difference in the performance of the models: ET (mean: 0.713333, std: 0.214580) and MLP (mean: 0.649524, std: 0.218677) (Cohen's d=0.279429564089312, Medium)\n",
      "We can't say that there is a significant difference in the performance of the models: ET (mean: 0.713333, std: 0.214580) and LR (mean: 0.708333, std: 0.241479) (Cohen's d=0.020765694683279743, Small)\n",
      "Eta squared: 0.218706 (Large)\n"
     ]
    },
    {
     "data": {
      "image/png": "[encoded data removed]",
      "text/plain": [
       "<Figure size 432x288 with 1 Axes>"
      ]
     },
     "metadata": {
      "needs_background": "light"
     },
     "output_type": "display_data"
    }
   ],
   "source": [
    "compare_methods(X_iso10,Y,listAlgorithms,listParams,listNames,metric='precision')"
   ]
  },
  {
   "cell_type": "code",
   "execution_count": 78,
   "metadata": {},
   "outputs": [
    {
     "name": "stdout",
     "output_type": "stream",
     "text": [
      "temp.csv\n",
      "['Arbol' 'SVM' 'KNN' 'LR' 'MLP' 'RF' 'ET']\n",
      "==========================================================\n",
      "Report\n",
      "==========================================================\n",
      "**********************************************************\n",
      "Mean and std\n",
      "**********************************************************\n",
      "Arbol: 0.432143 (0.213228)\n",
      "SVM: 0.450000 (0.471699)\n",
      "KNN: 0.737500 (0.211229)\n",
      "LR: 0.620833 (0.196231)\n",
      "MLP: 0.689286 (0.184001)\n",
      "RF: 0.675000 (0.183275)\n",
      "ET: 0.664881 (0.167600)\n",
      "**********************************************************\n",
      "Statistical tests\n",
      "**********************************************************\n",
      "----------------------------------------------------------\n",
      "Checking parametric conditions \n",
      "----------------------------------------------------------\n",
      "Checking independence \n",
      "Ok\n",
      "Checking normality using Shapiro-Wilk's test for normality, alpha=0.05\n",
      "W: 0.918147, p:0.000219\n",
      "The null hypothesis (normality) is rejected\n",
      "Checking heteroscedasticity using Levene's test, alpha=0.05\n",
      "W: 5.138761, p:0.000236\n",
      "The null hypothesis (heteroscedasticity) is rejected\n",
      "Conditions for a parametric test are not fulfilled, applying a non-parametric test\n",
      "----------------------------------------------------------\n",
      "Working with more than 2 algorithms\n",
      "----------------------------------------------------------\n",
      "----------------------------------------------------------\n",
      "Applying Friedman test\n",
      "----------------------------------------------------------\n",
      "F-value: 2.292852, p-value: 0.04814401191320761\n",
      "Null hypothesis is rejected; hence, models have different performance\n",
      "Technique      Ranking\n",
      "-----------  ---------\n",
      "KNN               5.15\n",
      "MLP               4.6\n",
      "RF                4.5\n",
      "ET                4.2\n",
      "LR                4.1\n",
      "SVM               3.2\n",
      "Arbol             2.25\n",
      "Winner model: KNN\n",
      "----------------------------------------------------------\n",
      "Applying Holm p-value adjustment procedure and analysing effect size\n",
      "----------------------------------------------------------\n",
      "Comparison      Zvalue     p-value    adjusted p-value\n",
      "------------  --------  ----------  ------------------\n",
      "KNN vs Arbol  3.00179   0.00268402           0.0161041\n",
      "KNN vs SVM    2.01844   0.0435453            0.217726\n",
      "KNN vs LR     1.08685   0.277102             1\n",
      "KNN vs ET     0.983343  0.325438             1\n",
      "KNN vs RF     0.672814  0.501066             1\n",
      "KNN vs MLP    0.569304  0.56915              1\n",
      "There is a significant difference between the models: KNN (mean: 0.737500, std: 0.211229) and Arbol (mean: 0.432143, std: 0.213228) (Cohen's d=1.364962043098185, Large)\n",
      "There is a significant difference between the models: KNN (mean: 0.737500, std: 0.211229) and SVM (mean: 0.450000, std: 0.471699) (Cohen's d=0.746316025538925, Large)\n",
      "We can't say that there is a significant difference in the performance of the models: KNN (mean: 0.737500, std: 0.211229) and LR (mean: 0.620833, std: 0.196231) (Cohen's d=0.5428990280648087, Large)\n",
      "We can't say that there is a significant difference in the performance of the models: KNN (mean: 0.737500, std: 0.211229) and ET (mean: 0.664881, std: 0.167600) (Cohen's d=0.361324011348998, Medium)\n",
      "We can't say that there is a significant difference in the performance of the models: KNN (mean: 0.737500, std: 0.211229) and RF (mean: 0.675000, std: 0.183275) (Cohen's d=0.299841622104768, Medium)\n",
      "We can't say that there is a significant difference in the performance of the models: KNN (mean: 0.737500, std: 0.211229) and MLP (mean: 0.689286, std: 0.184001) (Cohen's d=0.23091338720884383, Medium)\n",
      "Eta squared: 0.163239 (Large)\n"
     ]
    },
    {
     "data": {
      "image/png": "[encoded data removed]",
      "text/plain": [
       "<Figure size 432x288 with 1 Axes>"
      ]
     },
     "metadata": {
      "needs_background": "light"
     },
     "output_type": "display_data"
    }
   ],
   "source": [
    "compare_methods(X_iso10,Y,listAlgorithms,listParams,listNames,metric='recall')"
   ]
  },
  {
   "cell_type": "code",
   "execution_count": 79,
   "metadata": {},
   "outputs": [
    {
     "name": "stdout",
     "output_type": "stream",
     "text": [
      "temp.csv\n",
      "['Arbol' 'SVM' 'KNN' 'LR' 'MLP' 'RF' 'ET']\n",
      "==========================================================\n",
      "Report\n",
      "==========================================================\n",
      "**********************************************************\n",
      "Mean and std\n",
      "**********************************************************\n",
      "Arbol: 0.559091 (0.146882)\n",
      "SVM: 0.470909 (0.235726)\n",
      "KNN: 0.617273 (0.094690)\n",
      "LR: 0.655455 (0.147567)\n",
      "MLP: 0.635455 (0.092928)\n",
      "RF: 0.645455 (0.093949)\n",
      "ET: 0.673636 (0.095385)\n",
      "**********************************************************\n",
      "Statistical tests\n",
      "**********************************************************\n",
      "----------------------------------------------------------\n",
      "Checking parametric conditions \n",
      "----------------------------------------------------------\n",
      "Checking independence \n",
      "Ok\n",
      "Checking normality using Shapiro-Wilk's test for normality, alpha=0.05\n",
      "W: 0.966712, p:0.059388\n",
      "The null hypothesis (normality) is rejected\n",
      "Checking heteroscedasticity using Levene's test, alpha=0.05\n",
      "W: 1.416393, p:0.222437\n",
      "The null hypothesis (heteroscedasticity) is rejected\n",
      "Conditions for a parametric test are not fulfilled, applying a non-parametric test\n",
      "----------------------------------------------------------\n",
      "Working with more than 2 algorithms\n",
      "----------------------------------------------------------\n",
      "----------------------------------------------------------\n",
      "Applying Friedman test\n",
      "----------------------------------------------------------\n",
      "F-value: 2.336032, p-value: 0.044515555959635966\n",
      "Null hypothesis is rejected; hence, models have different performance\n",
      "Technique      Ranking\n",
      "-----------  ---------\n",
      "ET                4.95\n",
      "LR                4.75\n",
      "RF                4.4\n",
      "MLP               4.35\n",
      "KNN               4.3\n",
      "Arbol             2.9\n",
      "SVM               2.35\n",
      "Winner model: ET\n",
      "----------------------------------------------------------\n",
      "Applying Holm p-value adjustment procedure and analysing effect size\n",
      "----------------------------------------------------------\n",
      "Comparison      Zvalue     p-value    adjusted p-value\n",
      "------------  --------  ----------  ------------------\n",
      "ET vs SVM     2.69126   0.00711836           0.0427102\n",
      "ET vs Arbol   2.12195   0.0338418            0.169209\n",
      "ET vs KNN     0.672814  0.501066             1\n",
      "ET vs MLP     0.621059  0.534561             1\n",
      "ET vs RF      0.569304  0.56915              1\n",
      "ET vs LR      0.20702   0.835994             1\n",
      "There is a significant difference between the models: ET (mean: 0.673636, std: 0.095385) and SVM (mean: 0.470909, std: 0.235726) (Cohen's d=1.069578878610854, Large)\n",
      "There is a significant difference between the models: ET (mean: 0.673636, std: 0.095385) and Arbol (mean: 0.559091, std: 0.146882) (Cohen's d=0.8774813928909604, Large)\n",
      "We can't say that there is a significant difference in the performance of the models: ET (mean: 0.673636, std: 0.095385) and KNN (mean: 0.617273, std: 0.094690) (Cohen's d=0.5626298001945657, Large)\n",
      "We can't say that there is a significant difference in the performance of the models: ET (mean: 0.673636, std: 0.095385) and MLP (mean: 0.635455, std: 0.092928) (Cohen's d=0.3846723073516567, Medium)\n",
      "We can't say that there is a significant difference in the performance of the models: ET (mean: 0.673636, std: 0.095385) and RF (mean: 0.645455, std: 0.093949) (Cohen's d=0.28240877176769913, Medium)\n",
      "We can't say that there is a significant difference in the performance of the models: ET (mean: 0.673636, std: 0.095385) and LR (mean: 0.655455, std: 0.147567) (Cohen's d=0.1388271599949629, Small)\n",
      "Eta squared: 0.182376 (Large)\n"
     ]
    },
    {
     "data": {
      "image/png": "[encoded data removed]",
      "text/plain": [
       "<Figure size 432x288 with 1 Axes>"
      ]
     },
     "metadata": {
      "needs_background": "light"
     },
     "output_type": "display_data"
    }
   ],
   "source": [
    "compare_methods(X_iso10,Y,listAlgorithms,listParams,listNames,metric='accuracy')"
   ]
  },
  {
   "cell_type": "markdown",
   "metadata": {},
   "source": [
    "# LLE"
   ]
  },
  {
   "cell_type": "code",
   "execution_count": 80,
   "metadata": {
    "scrolled": true
   },
   "outputs": [
    {
     "name": "stdout",
     "output_type": "stream",
     "text": [
      "temp.csv\n",
      "['Arbol' 'SVM' 'KNN' 'LR' 'MLP' 'RF' 'ET']\n",
      "==========================================================\n",
      "Report\n",
      "==========================================================\n",
      "**********************************************************\n",
      "Mean and std\n",
      "**********************************************************\n",
      "Arbol: 0.545774 (0.145017)\n",
      "SVM: 0.593393 (0.144735)\n",
      "KNN: 0.628393 (0.126087)\n",
      "LR: 0.551607 (0.158907)\n",
      "MLP: 0.576607 (0.125683)\n",
      "RF: 0.603393 (0.156628)\n",
      "ET: 0.629583 (0.110782)\n",
      "**********************************************************\n",
      "Statistical tests\n",
      "**********************************************************\n",
      "----------------------------------------------------------\n",
      "Checking parametric conditions \n",
      "----------------------------------------------------------\n",
      "Checking independence \n",
      "Ok\n",
      "Checking normality using Shapiro-Wilk's test for normality, alpha=0.05\n",
      "W: 0.940440, p:0.002363\n",
      "The null hypothesis (normality) is rejected\n",
      "Checking heteroscedasticity using Levene's test, alpha=0.05\n",
      "W: 0.218628, p:0.969462\n",
      "The null hypothesis (heteroscedasticity) is accepted\n",
      "Conditions for a parametric test are not fulfilled, applying a non-parametric test\n",
      "----------------------------------------------------------\n",
      "Working with more than 2 algorithms\n",
      "----------------------------------------------------------\n",
      "----------------------------------------------------------\n",
      "Applying Friedman test\n",
      "----------------------------------------------------------\n",
      "F-value: 0.754209, p-value: 0.6088634242298716\n",
      "Null hypothesis is accepted; hence, we can't say that there is a significant difference in the performance of the models\n",
      "----------------------------------------------------------\n",
      "Analysing effect size\n",
      "----------------------------------------------------------\n",
      "We take the model with the best mean (ET, mean: 0.629583) and compare it with the other models: \n",
      "Comparing effect size of ET and Arbol: Cohen's d=0.616156338750721, Large\n",
      "Comparing effect size of ET and SVM: Cohen's d=0.2663936405849591, Medium\n",
      "Comparing effect size of ET and KNN: Cohen's d=0.00951607920094575, Small\n",
      "Comparing effect size of ET and LR: Cohen's d=0.5400598526859228, Large\n",
      "Comparing effect size of ET and MLP: Cohen's d=0.4242324171520437, Medium\n",
      "Comparing effect size of ET and RF: Cohen's d=0.18315780288751107, Small\n",
      "Eta squared: 0.047982 (Medium)\n"
     ]
    },
    {
     "data": {
      "image/png": "[encoded data removed]",
      "text/plain": [
       "<Figure size 432x288 with 1 Axes>"
      ]
     },
     "metadata": {
      "needs_background": "light"
     },
     "output_type": "display_data"
    }
   ],
   "source": [
    "clf = manifold.LocallyLinearEmbedding(10, n_components=2,method='standard')\n",
    "X_lle2 = clf.fit_transform(X)\n",
    "compare_methods(X_lle2,Y,listAlgorithms,listParams,listNames,metric='auroc')"
   ]
  },
  {
   "cell_type": "code",
   "execution_count": 81,
   "metadata": {},
   "outputs": [
    {
     "name": "stdout",
     "output_type": "stream",
     "text": [
      "temp.csv\n",
      "['Arbol' 'SVM' 'KNN' 'LR' 'MLP' 'RF' 'ET']\n",
      "==========================================================\n",
      "Report\n",
      "==========================================================\n",
      "**********************************************************\n",
      "Mean and std\n",
      "**********************************************************\n",
      "Arbol: 0.526190 (0.226621)\n",
      "SVM: 0.553690 (0.146902)\n",
      "KNN: 0.596667 (0.154157)\n",
      "LR: 0.567143 (0.181970)\n",
      "MLP: 0.580476 (0.193306)\n",
      "RF: 0.582143 (0.126102)\n",
      "ET: 0.604167 (0.147914)\n",
      "**********************************************************\n",
      "Statistical tests\n",
      "**********************************************************\n",
      "----------------------------------------------------------\n",
      "Checking parametric conditions \n",
      "----------------------------------------------------------\n",
      "Checking independence \n",
      "Ok\n",
      "Checking normality using Shapiro-Wilk's test for normality, alpha=0.05\n",
      "W: 0.956338, p:0.015783\n",
      "The null hypothesis (normality) is rejected\n",
      "Checking heteroscedasticity using Levene's test, alpha=0.05\n",
      "W: 0.390384, p:0.882525\n",
      "The null hypothesis (heteroscedasticity) is accepted\n",
      "Conditions for a parametric test are not fulfilled, applying a non-parametric test\n",
      "----------------------------------------------------------\n",
      "Working with more than 2 algorithms\n",
      "----------------------------------------------------------\n",
      "----------------------------------------------------------\n",
      "Applying Friedman test\n",
      "----------------------------------------------------------\n",
      "F-value: 0.765549, p-value: 0.6002098413308001\n",
      "Null hypothesis is accepted; hence, we can't say that there is a significant difference in the performance of the models\n",
      "----------------------------------------------------------\n",
      "Analysing effect size\n",
      "----------------------------------------------------------\n",
      "We take the model with the best mean (ET, mean: 0.604167) and compare it with the other models: \n",
      "Comparing effect size of ET and Arbol: Cohen's d=0.3865779687702514, Medium\n",
      "Comparing effect size of ET and SVM: Cohen's d=0.3248518155542896, Medium\n",
      "Comparing effect size of ET and KNN: Cohen's d=0.04709892960948191, Small\n",
      "Comparing effect size of ET and LR: Cohen's d=0.21182103328862115, Medium\n",
      "Comparing effect size of ET and MLP: Cohen's d=0.13058161023641948, Small\n",
      "Comparing effect size of ET and RF: Cohen's d=0.15201871254415067, Small\n",
      "Eta squared: 0.020404 (Medium)\n"
     ]
    },
    {
     "data": {
      "image/png": "[encoded data removed]",
      "text/plain": [
       "<Figure size 432x288 with 1 Axes>"
      ]
     },
     "metadata": {
      "needs_background": "light"
     },
     "output_type": "display_data"
    }
   ],
   "source": [
    "compare_methods(X_lle2,Y,listAlgorithms,listParams,listNames,metric='precision')"
   ]
  },
  {
   "cell_type": "code",
   "execution_count": 82,
   "metadata": {},
   "outputs": [
    {
     "name": "stdout",
     "output_type": "stream",
     "text": [
      "temp.csv\n",
      "['Arbol' 'SVM' 'KNN' 'LR' 'MLP' 'RF' 'ET']\n",
      "==========================================================\n",
      "Report\n",
      "==========================================================\n",
      "**********************************************************\n",
      "Mean and std\n",
      "**********************************************************\n",
      "Arbol: 0.539286 (0.220868)\n",
      "SVM: 0.873810 (0.165660)\n",
      "KNN: 0.701190 (0.200372)\n",
      "LR: 0.609524 (0.148671)\n",
      "MLP: 0.609524 (0.148671)\n",
      "RF: 0.663690 (0.229383)\n",
      "ET: 0.666071 (0.217118)\n",
      "**********************************************************\n",
      "Statistical tests\n",
      "**********************************************************\n",
      "----------------------------------------------------------\n",
      "Checking parametric conditions \n",
      "----------------------------------------------------------\n",
      "Checking independence \n",
      "Ok\n",
      "Checking normality using Shapiro-Wilk's test for normality, alpha=0.05\n",
      "W: 0.942458, p:0.002979\n",
      "The null hypothesis (normality) is rejected\n",
      "Checking heteroscedasticity using Levene's test, alpha=0.05\n",
      "W: 0.362986, p:0.899590\n",
      "The null hypothesis (heteroscedasticity) is accepted\n",
      "Conditions for a parametric test are not fulfilled, applying a non-parametric test\n",
      "----------------------------------------------------------\n",
      "Working with more than 2 algorithms\n",
      "----------------------------------------------------------\n",
      "----------------------------------------------------------\n",
      "Applying Friedman test\n",
      "----------------------------------------------------------\n",
      "F-value: 2.277691, p-value: 0.0494858803164312\n",
      "Null hypothesis is rejected; hence, models have different performance\n",
      "Technique      Ranking\n",
      "-----------  ---------\n",
      "SVM               6.05\n",
      "KNN               4.35\n",
      "RF                3.8\n",
      "ET                3.65\n",
      "MLP               3.45\n",
      "LR                3.45\n",
      "Arbol             3.25\n",
      "Winner model: SVM\n",
      "----------------------------------------------------------\n",
      "Applying Holm p-value adjustment procedure and analysing effect size\n",
      "----------------------------------------------------------\n",
      "Comparison      Zvalue     p-value    adjusted p-value\n",
      "------------  --------  ----------  ------------------\n",
      "SVM vs Arbol   2.89828  0.00375221           0.0225133\n",
      "SVM vs LR      2.69126  0.00711836           0.0355918\n",
      "SVM vs MLP     2.69126  0.00711836           0.0355918\n",
      "SVM vs ET      2.48424  0.012983             0.0389489\n",
      "SVM vs RF      2.32897  0.0198606            0.0397212\n",
      "SVM vs KNN     1.75967  0.0784643            0.0784643\n",
      "There is a significant difference between the models: SVM (mean: 0.873810, std: 0.165660) and Arbol (mean: 0.539286, std: 0.220868) (Cohen's d=1.6255936194507972, Large)\n",
      "There is a significant difference between the models: SVM (mean: 0.873810, std: 0.165660) and LR (mean: 0.609524, std: 0.148671) (Cohen's d=1.5929550278723492, Large)\n",
      "There is a significant difference between the models: SVM (mean: 0.873810, std: 0.165660) and MLP (mean: 0.609524, std: 0.148671) (Cohen's d=1.5929550278723492, Large)\n",
      "There is a significant difference between the models: SVM (mean: 0.873810, std: 0.165660) and ET (mean: 0.666071, std: 0.217118) (Cohen's d=1.0205410340991836, Large)\n",
      "There is a significant difference between the models: SVM (mean: 0.873810, std: 0.165660) and RF (mean: 0.663690, std: 0.229383) (Cohen's d=0.9963093680735661, Large)\n",
      "There is a significant difference between the models: SVM (mean: 0.873810, std: 0.165660) and KNN (mean: 0.701190, std: 0.200372) (Cohen's d=0.8907932839980385, Large)\n",
      "Eta squared: 0.204351 (Large)\n"
     ]
    },
    {
     "data": {
      "image/png": "[encoded data removed]",
      "text/plain": [
       "<Figure size 432x288 with 1 Axes>"
      ]
     },
     "metadata": {
      "needs_background": "light"
     },
     "output_type": "display_data"
    }
   ],
   "source": [
    "compare_methods(X_lle2,Y,listAlgorithms,listParams,listNames,metric='recall')"
   ]
  },
  {
   "cell_type": "code",
   "execution_count": 83,
   "metadata": {},
   "outputs": [
    {
     "name": "stdout",
     "output_type": "stream",
     "text": [
      "temp.csv\n",
      "['Arbol' 'SVM' 'KNN' 'LR' 'MLP' 'RF' 'ET']\n",
      "==========================================================\n",
      "Report\n",
      "==========================================================\n",
      "**********************************************************\n",
      "Mean and std\n",
      "**********************************************************\n",
      "Arbol: 0.580000 (0.118377)\n",
      "SVM: 0.617273 (0.112334)\n",
      "KNN: 0.619091 (0.105974)\n",
      "LR: 0.579091 (0.123117)\n",
      "MLP: 0.589091 (0.111696)\n",
      "RF: 0.607273 (0.117747)\n",
      "ET: 0.599091 (0.097950)\n",
      "**********************************************************\n",
      "Statistical tests\n",
      "**********************************************************\n",
      "----------------------------------------------------------\n",
      "Checking parametric conditions \n",
      "----------------------------------------------------------\n",
      "Checking independence \n",
      "Ok\n",
      "Checking normality using Shapiro-Wilk's test for normality, alpha=0.05\n",
      "W: 0.916212, p:0.000180\n",
      "The null hypothesis (normality) is rejected\n",
      "Checking heteroscedasticity using Levene's test, alpha=0.05\n",
      "W: 0.130545, p:0.991996\n",
      "The null hypothesis (heteroscedasticity) is accepted\n",
      "Conditions for a parametric test are not fulfilled, applying a non-parametric test\n",
      "----------------------------------------------------------\n",
      "Working with more than 2 algorithms\n",
      "----------------------------------------------------------\n",
      "----------------------------------------------------------\n",
      "Applying Friedman test\n",
      "----------------------------------------------------------\n",
      "F-value: 0.436435, p-value: 0.85128141459114\n",
      "Null hypothesis is accepted; hence, we can't say that there is a significant difference in the performance of the models\n",
      "----------------------------------------------------------\n",
      "Analysing effect size\n",
      "----------------------------------------------------------\n",
      "We take the model with the best mean (KNN, mean: 0.619091) and compare it with the other models: \n",
      "Comparing effect size of KNN and Arbol: Cohen's d=0.3300917296876508, Medium\n",
      "Comparing effect size of KNN and SVM: Cohen's d=0.015795491118576924, Small\n",
      "Comparing effect size of KNN and LR: Cohen's d=0.33036153074461955, Medium\n",
      "Comparing effect size of KNN and MLP: Cohen's d=0.26141034202285685, Medium\n",
      "Comparing effect size of KNN and RF: Cohen's d=0.10009052382218345, Small\n",
      "Comparing effect size of KNN and ET: Cohen's d=0.18594131481028553, Small\n",
      "Eta squared: 0.018329 (Medium)\n"
     ]
    },
    {
     "data": {
      "image/png": "[encoded data removed]",
      "text/plain": [
       "<Figure size 432x288 with 1 Axes>"
      ]
     },
     "metadata": {
      "needs_background": "light"
     },
     "output_type": "display_data"
    }
   ],
   "source": [
    "compare_methods(X_lle2,Y,listAlgorithms,listParams,listNames,metric='accuracy')"
   ]
  },
  {
   "cell_type": "code",
   "execution_count": 18,
   "metadata": {},
   "outputs": [],
   "source": [
    "from sklearn import manifold\n",
    "clf = manifold.LocallyLinearEmbedding(10, n_components=10,method='standard')\n",
    "X_lle10 = clf.fit_transform(X)"
   ]
  },
  {
   "cell_type": "code",
   "execution_count": 84,
   "metadata": {
    "scrolled": true
   },
   "outputs": [
    {
     "name": "stdout",
     "output_type": "stream",
     "text": [
      "temp.csv\n",
      "['Arbol' 'SVM' 'KNN' 'LR' 'MLP' 'RF' 'ET']\n",
      "==========================================================\n",
      "Report\n",
      "==========================================================\n",
      "**********************************************************\n",
      "Mean and std\n",
      "**********************************************************\n",
      "Arbol: 0.640000 (0.181795)\n",
      "SVM: 0.702500 (0.150880)\n",
      "KNN: 0.676548 (0.092511)\n",
      "LR: 0.689524 (0.132199)\n",
      "MLP: 0.727024 (0.200807)\n",
      "RF: 0.695357 (0.133421)\n",
      "ET: 0.756667 (0.119506)\n",
      "**********************************************************\n",
      "Statistical tests\n",
      "**********************************************************\n",
      "----------------------------------------------------------\n",
      "Checking parametric conditions \n",
      "----------------------------------------------------------\n",
      "Checking independence \n",
      "Ok\n",
      "Checking normality using Shapiro-Wilk's test for normality, alpha=0.05\n",
      "W: 0.970084, p:0.092151\n",
      "The null hypothesis (normality) is rejected\n",
      "Checking heteroscedasticity using Levene's test, alpha=0.05\n",
      "W: 0.657079, p:0.684313\n",
      "The null hypothesis (heteroscedasticity) is accepted\n",
      "Conditions for a parametric test are not fulfilled, applying a non-parametric test\n",
      "----------------------------------------------------------\n",
      "Working with more than 2 algorithms\n",
      "----------------------------------------------------------\n",
      "----------------------------------------------------------\n",
      "Applying Friedman test\n",
      "----------------------------------------------------------\n",
      "F-value: 0.677419, p-value: 0.6683738919845023\n",
      "Null hypothesis is accepted; hence, we can't say that there is a significant difference in the performance of the models\n",
      "----------------------------------------------------------\n",
      "Analysing effect size\n",
      "----------------------------------------------------------\n",
      "We take the model with the best mean (ET, mean: 0.756667) and compare it with the other models: \n",
      "Comparing effect size of ET and Arbol: Cohen's d=0.7194650559106239, Large\n",
      "Comparing effect size of ET and SVM: Cohen's d=0.37756714241716194, Medium\n",
      "Comparing effect size of ET and KNN: Cohen's d=0.7112506682109533, Large\n",
      "Comparing effect size of ET and LR: Cohen's d=0.5054829842425281, Large\n",
      "Comparing effect size of ET and MLP: Cohen's d=0.17019213118161725, Small\n",
      "Comparing effect size of ET and RF: Cohen's d=0.4592261010321442, Medium\n",
      "Eta squared: 0.050517 (Medium)\n"
     ]
    },
    {
     "data": {
      "image/png": "[encoded data removed]",
      "text/plain": [
       "<Figure size 432x288 with 1 Axes>"
      ]
     },
     "metadata": {
      "needs_background": "light"
     },
     "output_type": "display_data"
    }
   ],
   "source": [
    "compare_methods(X_lle10,Y,listAlgorithms,listParams,listNames,metric='auroc')c"
   ]
  },
  {
   "cell_type": "code",
   "execution_count": 85,
   "metadata": {},
   "outputs": [
    {
     "name": "stdout",
     "output_type": "stream",
     "text": [
      "temp.csv\n",
      "['Arbol' 'SVM' 'KNN' 'LR' 'MLP' 'RF' 'ET']\n",
      "==========================================================\n",
      "Report\n",
      "==========================================================\n",
      "**********************************************************\n",
      "Mean and std\n",
      "**********************************************************\n",
      "Arbol: 0.617500 (0.270454)\n",
      "SVM: 0.702381 (0.225751)\n",
      "KNN: 0.631071 (0.216760)\n",
      "LR: 0.664762 (0.215641)\n",
      "MLP: 0.664762 (0.228037)\n",
      "RF: 0.657857 (0.181924)\n",
      "ET: 0.686667 (0.192180)\n",
      "**********************************************************\n",
      "Statistical tests\n",
      "**********************************************************\n",
      "----------------------------------------------------------\n",
      "Checking parametric conditions \n",
      "----------------------------------------------------------\n",
      "Checking independence \n",
      "Ok\n",
      "Checking normality using Shapiro-Wilk's test for normality, alpha=0.05\n",
      "W: 0.957903, p:0.019205\n",
      "The null hypothesis (normality) is rejected\n",
      "Checking heteroscedasticity using Levene's test, alpha=0.05\n",
      "W: 0.237564, p:0.962510\n",
      "The null hypothesis (heteroscedasticity) is accepted\n",
      "Conditions for a parametric test are not fulfilled, applying a non-parametric test\n",
      "----------------------------------------------------------\n",
      "Working with more than 2 algorithms\n",
      "----------------------------------------------------------\n",
      "----------------------------------------------------------\n",
      "Applying Friedman test\n",
      "----------------------------------------------------------\n",
      "F-value: 0.464789, p-value: 0.8312948482555227\n",
      "Null hypothesis is accepted; hence, we can't say that there is a significant difference in the performance of the models\n",
      "----------------------------------------------------------\n",
      "Analysing effect size\n",
      "----------------------------------------------------------\n",
      "We take the model with the best mean (SVM, mean: 0.702381) and compare it with the other models: \n",
      "Comparing effect size of SVM and Arbol: Cohen's d=0.3232548928241424, Medium\n",
      "Comparing effect size of SVM and KNN: Cohen's d=0.30569251492947724, Medium\n",
      "Comparing effect size of SVM and LR: Cohen's d=0.16166668723394198, Small\n",
      "Comparing effect size of SVM and MLP: Cohen's d=0.15728960661501445, Small\n",
      "Comparing effect size of SVM and RF: Cohen's d=0.20603143866233833, Medium\n",
      "Comparing effect size of SVM and ET: Cohen's d=0.07111213908483333, Small\n",
      "Eta squared: 0.015071 (Medium)\n"
     ]
    },
    {
     "data": {
      "image/png": "[encoded data removed]",
      "text/plain": [
       "<Figure size 432x288 with 1 Axes>"
      ]
     },
     "metadata": {
      "needs_background": "light"
     },
     "output_type": "display_data"
    }
   ],
   "source": [
    "compare_methods(X_lle10,Y,listAlgorithms,listParams,listNames,metric='precision')"
   ]
  },
  {
   "cell_type": "code",
   "execution_count": 86,
   "metadata": {},
   "outputs": [
    {
     "name": "stdout",
     "output_type": "stream",
     "text": [
      "temp.csv\n",
      "['Arbol' 'SVM' 'KNN' 'LR' 'MLP' 'RF' 'ET']\n",
      "==========================================================\n",
      "Report\n",
      "==========================================================\n",
      "**********************************************************\n",
      "Mean and std\n",
      "**********************************************************\n",
      "Arbol: 0.610119 (0.240276)\n",
      "SVM: 0.660119 (0.217803)\n",
      "KNN: 0.714286 (0.142758)\n",
      "LR: 0.645833 (0.208915)\n",
      "MLP: 0.751786 (0.275050)\n",
      "RF: 0.714286 (0.246115)\n",
      "ET: 0.795238 (0.186019)\n",
      "**********************************************************\n",
      "Statistical tests\n",
      "**********************************************************\n",
      "----------------------------------------------------------\n",
      "Checking parametric conditions \n",
      "----------------------------------------------------------\n",
      "Checking independence \n",
      "Ok\n",
      "Checking normality using Shapiro-Wilk's test for normality, alpha=0.05\n",
      "W: 0.934124, p:0.001166\n",
      "The null hypothesis (normality) is rejected\n",
      "Checking heteroscedasticity using Levene's test, alpha=0.05\n",
      "W: 0.468966, p:0.828773\n",
      "The null hypothesis (heteroscedasticity) is accepted\n",
      "Conditions for a parametric test are not fulfilled, applying a non-parametric test\n",
      "----------------------------------------------------------\n",
      "Working with more than 2 algorithms\n",
      "----------------------------------------------------------\n",
      "----------------------------------------------------------\n",
      "Applying Friedman test\n",
      "----------------------------------------------------------\n",
      "F-value: 0.669992, p-value: 0.674186927104403\n",
      "Null hypothesis is accepted; hence, we can't say that there is a significant difference in the performance of the models\n",
      "----------------------------------------------------------\n",
      "Analysing effect size\n",
      "----------------------------------------------------------\n",
      "We take the model with the best mean (ET, mean: 0.795238) and compare it with the other models: \n",
      "Comparing effect size of ET and Arbol: Cohen's d=0.8173384628048878, Large\n",
      "Comparing effect size of ET and SVM: Cohen's d=0.6329026348557582, Large\n",
      "Comparing effect size of ET and KNN: Cohen's d=0.46318201734732567, Medium\n",
      "Comparing effect size of ET and LR: Cohen's d=0.7165759951383377, Large\n",
      "Comparing effect size of ET and MLP: Cohen's d=0.17556978826186417, Small\n",
      "Comparing effect size of ET and RF: Cohen's d=0.3520487081781365, Medium\n",
      "Eta squared: 0.067859 (Large)\n"
     ]
    },
    {
     "data": {
      "image/png": "[encoded data removed]",
      "text/plain": [
       "<Figure size 432x288 with 1 Axes>"
      ]
     },
     "metadata": {
      "needs_background": "light"
     },
     "output_type": "display_data"
    }
   ],
   "source": [
    "compare_methods(X_lle10,Y,listAlgorithms,listParams,listNames,metric='recall')"
   ]
  },
  {
   "cell_type": "code",
   "execution_count": 87,
   "metadata": {},
   "outputs": [
    {
     "name": "stdout",
     "output_type": "stream",
     "text": [
      "temp.csv\n",
      "['Arbol' 'SVM' 'KNN' 'LR' 'MLP' 'RF' 'ET']\n",
      "==========================================================\n",
      "Report\n",
      "==========================================================\n",
      "**********************************************************\n",
      "Mean and std\n",
      "**********************************************************\n",
      "Arbol: 0.684545 (0.149105)\n",
      "SVM: 0.701818 (0.156184)\n",
      "KNN: 0.667273 (0.075755)\n",
      "LR: 0.674545 (0.121750)\n",
      "MLP: 0.685455 (0.189571)\n",
      "RF: 0.682727 (0.120292)\n",
      "ET: 0.733636 (0.121087)\n",
      "**********************************************************\n",
      "Statistical tests\n",
      "**********************************************************\n",
      "----------------------------------------------------------\n",
      "Checking parametric conditions \n",
      "----------------------------------------------------------\n",
      "Checking independence \n",
      "Ok\n",
      "Checking normality using Shapiro-Wilk's test for normality, alpha=0.05\n",
      "W: 0.935459, p:0.001351\n",
      "The null hypothesis (normality) is rejected\n",
      "Checking heteroscedasticity using Levene's test, alpha=0.05\n",
      "W: 0.662969, p:0.679673\n",
      "The null hypothesis (heteroscedasticity) is accepted\n",
      "Conditions for a parametric test are not fulfilled, applying a non-parametric test\n",
      "----------------------------------------------------------\n",
      "Working with more than 2 algorithms\n",
      "----------------------------------------------------------\n",
      "----------------------------------------------------------\n",
      "Applying Friedman test\n",
      "----------------------------------------------------------\n",
      "F-value: 0.505847, p-value: 0.8012263608190708\n",
      "Null hypothesis is accepted; hence, we can't say that there is a significant difference in the performance of the models\n",
      "----------------------------------------------------------\n",
      "Analysing effect size\n",
      "----------------------------------------------------------\n",
      "We take the model with the best mean (ET, mean: 0.733636) and compare it with the other models: \n",
      "Comparing effect size of ET and Arbol: Cohen's d=0.3428926616993245, Medium\n",
      "Comparing effect size of ET and SVM: Cohen's d=0.21600868989580543, Medium\n",
      "Comparing effect size of ET and KNN: Cohen's d=0.6233651902547245, Large\n",
      "Comparing effect size of ET and LR: Cohen's d=0.46169529095879663, Medium\n",
      "Comparing effect size of ET and MLP: Cohen's d=0.28737416689872297, Medium\n",
      "Comparing effect size of ET and RF: Cohen's d=0.40017017656587783, Medium\n",
      "Eta squared: 0.021474 (Medium)\n"
     ]
    },
    {
     "data": {
      "image/png": "[encoded data removed]",
      "text/plain": [
       "<Figure size 432x288 with 1 Axes>"
      ]
     },
     "metadata": {
      "needs_background": "light"
     },
     "output_type": "display_data"
    }
   ],
   "source": [
    "compare_methods(X_lle10,Y,listAlgorithms,listParams,listNames,metric='accuracy')"
   ]
  },
  {
   "cell_type": "code",
   "execution_count": 19,
   "metadata": {},
   "outputs": [],
   "source": [
    "clf = manifold.LocallyLinearEmbedding(10, n_components=100,method='standard')\n",
    "X_lle100 = clf.fit_transform(X)"
   ]
  },
  {
   "cell_type": "code",
   "execution_count": 88,
   "metadata": {},
   "outputs": [
    {
     "name": "stdout",
     "output_type": "stream",
     "text": [
      "temp.csv\n",
      "['Arbol' 'SVM' 'KNN' 'LR' 'MLP' 'RF' 'ET']\n",
      "==========================================================\n",
      "Report\n",
      "==========================================================\n",
      "**********************************************************\n",
      "Mean and std\n",
      "**********************************************************\n",
      "Arbol: 0.473750 (0.119350)\n",
      "SVM: 0.500119 (0.045427)\n",
      "KNN: 0.488988 (0.105241)\n",
      "LR: 0.506369 (0.049129)\n",
      "MLP: 0.494583 (0.119548)\n",
      "RF: 0.581071 (0.165905)\n",
      "ET: 0.529107 (0.102555)\n",
      "**********************************************************\n",
      "Statistical tests\n",
      "**********************************************************\n",
      "----------------------------------------------------------\n",
      "Checking parametric conditions \n",
      "----------------------------------------------------------\n",
      "Checking independence \n",
      "Ok\n",
      "Checking normality using Shapiro-Wilk's test for normality, alpha=0.05\n",
      "W: 0.959797, p:0.024399\n",
      "The null hypothesis (normality) is rejected\n",
      "Checking heteroscedasticity using Levene's test, alpha=0.05\n",
      "W: 1.537575, p:0.180624\n",
      "The null hypothesis (heteroscedasticity) is rejected\n",
      "Conditions for a parametric test are not fulfilled, applying a non-parametric test\n",
      "----------------------------------------------------------\n",
      "Working with more than 2 algorithms\n",
      "----------------------------------------------------------\n",
      "----------------------------------------------------------\n",
      "Applying Friedman test\n",
      "----------------------------------------------------------\n",
      "F-value: 1.231425, p-value: 0.30491225634642616\n",
      "Null hypothesis is rejected; hence, models have different performance\n",
      "Technique      Ranking\n",
      "-----------  ---------\n",
      "RF                5.35\n",
      "ET                4.55\n",
      "MLP               3.95\n",
      "KNN               3.9\n",
      "LR                3.75\n",
      "SVM               3.4\n",
      "Arbol             3.1\n",
      "Winner model: RF\n",
      "----------------------------------------------------------\n",
      "Applying Holm p-value adjustment procedure and analysing effect size\n",
      "----------------------------------------------------------\n",
      "Comparison      Zvalue    p-value    adjusted p-value\n",
      "------------  --------  ---------  ------------------\n",
      "RF vs Arbol   2.32897   0.0198606            0.119164\n",
      "RF vs SVM     2.01844   0.0435453            0.217726\n",
      "RF vs LR      1.65616   0.09769              0.39076\n",
      "RF vs KNN     1.50089   0.133383             0.40015\n",
      "RF vs MLP     1.44914   0.147299             0.40015\n",
      "RF vs ET      0.828079  0.407626             0.407626\n",
      "There is a significant difference between the models: RF (mean: 0.581071, std: 0.165905) and Arbol (mean: 0.473750, std: 0.119350) (Cohen's d=0.7045255032833687, Large)\n",
      "There is a significant difference between the models: RF (mean: 0.581071, std: 0.165905) and SVM (mean: 0.500119, std: 0.045427) (Cohen's d=0.6314045210655916, Large)\n",
      "There is a significant difference between the models: RF (mean: 0.581071, std: 0.165905) and LR (mean: 0.506369, std: 0.049129) (Cohen's d=0.579239783505825, Large)\n",
      "There is a significant difference between the models: RF (mean: 0.581071, std: 0.165905) and KNN (mean: 0.488988, std: 0.105241) (Cohen's d=0.6288144253121397, Large)\n",
      "There is a significant difference between the models: RF (mean: 0.581071, std: 0.165905) and MLP (mean: 0.494583, std: 0.119548) (Cohen's d=0.5674399674392853, Large)\n",
      "There is a significant difference between the models: RF (mean: 0.581071, std: 0.165905) and ET (mean: 0.529107, std: 0.102555) (Cohen's d=0.357445079509934, Medium)\n",
      "Eta squared: 0.083860 (Large)\n"
     ]
    },
    {
     "data": {
      "image/png": "[encoded data removed]",
      "text/plain": [
       "<Figure size 432x288 with 1 Axes>"
      ]
     },
     "metadata": {
      "needs_background": "light"
     },
     "output_type": "display_data"
    }
   ],
   "source": [
    "compare_methods(X_lle100,Y,listAlgorithms,listParams,listNames,metric='auroc')"
   ]
  },
  {
   "cell_type": "code",
   "execution_count": 20,
   "metadata": {},
   "outputs": [
    {
     "name": "stdout",
     "output_type": "stream",
     "text": [
      "temp.csv\n",
      "['Arbol' 'SVM' 'KNN' 'LR' 'MLP' 'RF' 'ET']\n",
      "==========================================================\n",
      "Report\n",
      "==========================================================\n",
      "**********************************************************\n",
      "Mean and std\n",
      "**********************************************************\n",
      "Arbol: 0.389762 (0.183120)\n",
      "SVM: 0.391111 (0.262269)\n",
      "KNN: 0.280952 (0.326251)\n",
      "LR: 0.346162 (0.227043)\n",
      "MLP: 0.238889 (0.246719)\n",
      "RF: 0.587222 (0.243636)\n",
      "ET: 0.583333 (0.308851)\n",
      "**********************************************************\n",
      "Statistical tests\n",
      "**********************************************************\n",
      "----------------------------------------------------------\n",
      "Checking parametric conditions \n",
      "----------------------------------------------------------\n",
      "Checking independence \n",
      "Ok\n",
      "Checking normality using Shapiro-Wilk's test for normality, alpha=0.05\n",
      "W: 0.934537, p:0.001220\n",
      "The null hypothesis (normality) is rejected\n",
      "Checking heteroscedasticity using Levene's test, alpha=0.05\n",
      "W: 0.605649, p:0.724799\n",
      "The null hypothesis (heteroscedasticity) is accepted\n",
      "Conditions for a parametric test are not fulfilled, applying a non-parametric test\n",
      "----------------------------------------------------------\n",
      "Working with more than 2 algorithms\n",
      "----------------------------------------------------------\n",
      "----------------------------------------------------------\n",
      "Applying Friedman test\n",
      "----------------------------------------------------------\n",
      "F-value: 1.994764, p-value: 0.08240420436756513\n",
      "Null hypothesis is rejected; hence, models have different performance\n",
      "Technique      Ranking\n",
      "-----------  ---------\n",
      "RF                5.75\n",
      "ET                4.8\n",
      "LR                3.65\n",
      "Arbol             3.6\n",
      "KNN               3.5\n",
      "MLP               3.35\n",
      "SVM               3.35\n",
      "Winner model: RF\n",
      "----------------------------------------------------------\n",
      "Applying Holm p-value adjustment procedure and analysing effect size\n",
      "----------------------------------------------------------\n",
      "Comparison      Zvalue    p-value    adjusted p-value\n",
      "------------  --------  ---------  ------------------\n",
      "RF vs SVM     2.48424   0.012983            0.0778978\n",
      "RF vs MLP     2.48424   0.012983            0.0778978\n",
      "RF vs KNN     2.32897   0.0198606           0.0794424\n",
      "RF vs Arbol   2.22546   0.0260503           0.0794424\n",
      "RF vs LR      2.17371   0.0297272           0.0794424\n",
      "RF vs ET      0.983343  0.325438            0.325438\n",
      "There is a significant difference between the models: RF (mean: 0.587222, std: 0.243636) and SVM (mean: 0.391111, std: 0.262269) (Cohen's d=0.7350047243356286, Large)\n",
      "There is a significant difference between the models: RF (mean: 0.587222, std: 0.243636) and MLP (mean: 0.238889, std: 0.246719) (Cohen's d=1.347805443234012, Large)\n",
      "There is a significant difference between the models: RF (mean: 0.587222, std: 0.243636) and KNN (mean: 0.280952, std: 0.326251) (Cohen's d=1.0091379170357913, Large)\n",
      "There is a significant difference between the models: RF (mean: 0.587222, std: 0.243636) and Arbol (mean: 0.389762, std: 0.183120) (Cohen's d=0.8692178445291029, Large)\n",
      "There is a significant difference between the models: RF (mean: 0.587222, std: 0.243636) and LR (mean: 0.346162, std: 0.227043) (Cohen's d=0.9711436919167894, Large)\n",
      "There is a significant difference between the models: RF (mean: 0.587222, std: 0.243636) and ET (mean: 0.583333, std: 0.308851) (Cohen's d=0.01326326223770873, Small)\n",
      "Eta squared: 0.190269 (Large)\n"
     ]
    },
    {
     "data": {
      "image/png": "[encoded data removed]",
      "text/plain": [
       "<Figure size 432x288 with 1 Axes>"
      ]
     },
     "metadata": {
      "needs_background": "light"
     },
     "output_type": "display_data"
    }
   ],
   "source": [
    "compare_methods(X_lle100,Y,listAlgorithms,listParams,listNames,metric='precision')"
   ]
  },
  {
   "cell_type": "code",
   "execution_count": 21,
   "metadata": {},
   "outputs": [
    {
     "name": "stdout",
     "output_type": "stream",
     "text": [
      "temp.csv\n",
      "['Arbol' 'SVM' 'KNN' 'LR' 'MLP' 'RF' 'ET']\n",
      "==========================================================\n",
      "Report\n",
      "==========================================================\n",
      "**********************************************************\n",
      "Mean and std\n",
      "**********************************************************\n",
      "Arbol: 0.426190 (0.272450)\n",
      "SVM: 0.528571 (0.409468)\n",
      "KNN: 0.239286 (0.237884)\n",
      "LR: 0.478571 (0.378182)\n",
      "MLP: 0.408333 (0.391667)\n",
      "RF: 0.585714 (0.248453)\n",
      "ET: 0.438690 (0.290852)\n",
      "**********************************************************\n",
      "Statistical tests\n",
      "**********************************************************\n",
      "----------------------------------------------------------\n",
      "Checking parametric conditions \n",
      "----------------------------------------------------------\n",
      "Checking independence \n",
      "Ok\n",
      "Checking normality using Shapiro-Wilk's test for normality, alpha=0.05\n",
      "W: 0.899564, p:0.000037\n",
      "The null hypothesis (normality) is rejected\n",
      "Checking heteroscedasticity using Levene's test, alpha=0.05\n",
      "W: 1.540728, p:0.179637\n",
      "The null hypothesis (heteroscedasticity) is rejected\n",
      "Conditions for a parametric test are not fulfilled, applying a non-parametric test\n",
      "----------------------------------------------------------\n",
      "Working with more than 2 algorithms\n",
      "----------------------------------------------------------\n",
      "----------------------------------------------------------\n",
      "Applying Friedman test\n",
      "----------------------------------------------------------\n",
      "F-value: 3.028640, p-value: 0.012606909452442472\n",
      "Null hypothesis is rejected; hence, models have different performance\n",
      "Technique      Ranking\n",
      "-----------  ---------\n",
      "RF                5.65\n",
      "SVM               4.5\n",
      "Arbol             4.2\n",
      "LR                4.15\n",
      "ET                3.9\n",
      "MLP               3.55\n",
      "KNN               2.05\n",
      "Winner model: RF\n",
      "----------------------------------------------------------\n",
      "Applying Holm p-value adjustment procedure and analysing effect size\n",
      "----------------------------------------------------------\n",
      "Comparison      Zvalue      p-value    adjusted p-value\n",
      "------------  --------  -----------  ------------------\n",
      "RF vs KNN      3.72635  0.000194269          0.00116562\n",
      "RF vs MLP      2.17371  0.0297272            0.148636\n",
      "RF vs ET       1.81142  0.0700755            0.280302\n",
      "RF vs LR       1.55265  0.120507             0.361522\n",
      "RF vs Arbol    1.50089  0.133383             0.361522\n",
      "RF vs SVM      1.19036  0.233904             0.361522\n",
      "There is a significant difference between the models: RF (mean: 0.585714, std: 0.248453) and KNN (mean: 0.239286, std: 0.237884) (Cohen's d=1.3512167362284118, Large)\n",
      "There is a significant difference between the models: RF (mean: 0.585714, std: 0.248453) and MLP (mean: 0.408333, std: 0.391667) (Cohen's d=0.5130869002005934, Large)\n",
      "There is a significant difference between the models: RF (mean: 0.585714, std: 0.248453) and ET (mean: 0.438690, std: 0.290852) (Cohen's d=0.515663113900954, Large)\n",
      "There is a significant difference between the models: RF (mean: 0.585714, std: 0.248453) and LR (mean: 0.478571, std: 0.378182) (Cohen's d=0.31767783879040346, Medium)\n",
      "There is a significant difference between the models: RF (mean: 0.585714, std: 0.248453) and Arbol (mean: 0.426190, std: 0.272450) (Cohen's d=0.5804426303836955, Large)\n",
      "There is a significant difference between the models: RF (mean: 0.585714, std: 0.248453) and SVM (mean: 0.528571, std: 0.409468) (Cohen's d=0.16006918064500672, Small)\n",
      "Eta squared: 0.088485 (Large)\n"
     ]
    },
    {
     "data": {
      "image/png": "[encoded data removed]",
      "text/plain": [
       "<Figure size 432x288 with 1 Axes>"
      ]
     },
     "metadata": {
      "needs_background": "light"
     },
     "output_type": "display_data"
    }
   ],
   "source": [
    "compare_methods(X_lle100,Y,listAlgorithms,listParams,listNames,metric='recall')"
   ]
  },
  {
   "cell_type": "code",
   "execution_count": 22,
   "metadata": {},
   "outputs": [
    {
     "name": "stdout",
     "output_type": "stream",
     "text": [
      "temp.csv\n",
      "['Arbol' 'SVM' 'KNN' 'LR' 'MLP' 'RF' 'ET']\n",
      "==========================================================\n",
      "Report\n",
      "==========================================================\n",
      "**********************************************************\n",
      "Mean and std\n",
      "**********************************************************\n",
      "Arbol: 0.438182 (0.110655)\n",
      "SVM: 0.457273 (0.180406)\n",
      "KNN: 0.412727 (0.154128)\n",
      "LR: 0.371818 (0.118073)\n",
      "MLP: 0.378182 (0.170957)\n",
      "RF: 0.517273 (0.156271)\n",
      "ET: 0.430000 (0.136063)\n",
      "**********************************************************\n",
      "Statistical tests\n",
      "**********************************************************\n",
      "----------------------------------------------------------\n",
      "Checking parametric conditions \n",
      "----------------------------------------------------------\n",
      "Checking independence \n",
      "Ok\n",
      "Checking normality using Shapiro-Wilk's test for normality, alpha=0.05\n",
      "W: 0.939241, p:0.002063\n",
      "The null hypothesis (normality) is rejected\n",
      "Checking heteroscedasticity using Levene's test, alpha=0.05\n",
      "W: 0.245660, p:0.959317\n",
      "The null hypothesis (heteroscedasticity) is accepted\n",
      "Conditions for a parametric test are not fulfilled, applying a non-parametric test\n",
      "----------------------------------------------------------\n",
      "Working with more than 2 algorithms\n",
      "----------------------------------------------------------\n",
      "----------------------------------------------------------\n",
      "Applying Friedman test\n",
      "----------------------------------------------------------\n",
      "F-value: 1.112360, p-value: 0.3674356178477973\n",
      "Null hypothesis is rejected; hence, models have different performance\n",
      "Technique      Ranking\n",
      "-----------  ---------\n",
      "RF                5.3\n",
      "ET                4.2\n",
      "Arbol             4.15\n",
      "KNN               4\n",
      "SVM               3.95\n",
      "LR                3.35\n",
      "MLP               3.05\n",
      "Winner model: RF\n",
      "----------------------------------------------------------\n",
      "Applying Holm p-value adjustment procedure and analysing effect size\n",
      "----------------------------------------------------------\n",
      "Comparison      Zvalue    p-value    adjusted p-value\n",
      "------------  --------  ---------  ------------------\n",
      "RF vs MLP      2.32897  0.0198606            0.119164\n",
      "RF vs LR       2.01844  0.0435453            0.217726\n",
      "RF vs SVM      1.39738  0.162299             0.649194\n",
      "RF vs KNN      1.34563  0.178423             0.649194\n",
      "RF vs Arbol    1.19036  0.233904             0.649194\n",
      "RF vs ET       1.13861  0.254867             0.649194\n",
      "There is a significant difference between the models: RF (mean: 0.517273, std: 0.156271) and MLP (mean: 0.378182, std: 0.170957) (Cohen's d=0.8056786271916964, Large)\n",
      "There is a significant difference between the models: RF (mean: 0.517273, std: 0.156271) and LR (mean: 0.371818, std: 0.118073) (Cohen's d=0.9963525189522492, Large)\n",
      "We can't say that there is a significant difference in the performance of the models: RF (mean: 0.517273, std: 0.156271) and SVM (mean: 0.457273, std: 0.180406) (Cohen's d=0.33726870792202446, Medium)\n",
      "We can't say that there is a significant difference in the performance of the models: RF (mean: 0.517273, std: 0.156271) and KNN (mean: 0.412727, std: 0.154128) (Cohen's d=0.6390368312062337, Large)\n",
      "We can't say that there is a significant difference in the performance of the models: RF (mean: 0.517273, std: 0.156271) and Arbol (mean: 0.438182, std: 0.110655) (Cohen's d=0.5541601117955361, Large)\n",
      "We can't say that there is a significant difference in the performance of the models: RF (mean: 0.517273, std: 0.156271) and ET (mean: 0.430000, std: 0.136063) (Cohen's d=0.5650862105989206, Large)\n",
      "Eta squared: 0.087304 (Large)\n"
     ]
    },
    {
     "data": {
      "image/png": "[encoded data removed]",
      "text/plain": [
       "<Figure size 432x288 with 1 Axes>"
      ]
     },
     "metadata": {
      "needs_background": "light"
     },
     "output_type": "display_data"
    }
   ],
   "source": [
    "compare_methods(X_lle100,Y,listAlgorithms,listParams,listNames,metric='accuracy')"
   ]
  },
  {
   "cell_type": "markdown",
   "metadata": {},
   "source": [
    "# MDS"
   ]
  },
  {
   "cell_type": "code",
   "execution_count": 23,
   "metadata": {},
   "outputs": [
    {
     "name": "stdout",
     "output_type": "stream",
     "text": [
      "temp.csv\n",
      "['Arbol' 'SVM' 'KNN' 'LR' 'MLP' 'RF' 'ET']\n",
      "==========================================================\n",
      "Report\n",
      "==========================================================\n",
      "**********************************************************\n",
      "Mean and std\n",
      "**********************************************************\n",
      "Arbol: 0.527798 (0.162410)\n",
      "SVM: 0.385298 (0.157141)\n",
      "KNN: 0.397500 (0.174789)\n",
      "LR: 0.514643 (0.119534)\n",
      "MLP: 0.447143 (0.108029)\n",
      "RF: 0.591310 (0.167884)\n",
      "ET: 0.490833 (0.167994)\n",
      "**********************************************************\n",
      "Statistical tests\n",
      "**********************************************************\n",
      "----------------------------------------------------------\n",
      "Checking parametric conditions \n",
      "----------------------------------------------------------\n",
      "Checking independence \n",
      "Ok\n",
      "Checking normality using Shapiro-Wilk's test for normality, alpha=0.05\n",
      "W: 0.986955, p:0.683437\n",
      "The null hypothesis (normality) is accepted\n",
      "Checking heteroscedasticity using Levene's test, alpha=0.05\n",
      "W: 0.376456, p:0.891325\n",
      "The null hypothesis (heteroscedasticity) is accepted\n",
      "Conditions for a parametric test are fulfilled\n",
      "----------------------------------------------------------\n",
      "Working with more than 2 algorithms\n",
      "----------------------------------------------------------\n",
      "----------------------------------------------------------\n",
      "Applying ANOVA test\n",
      "----------------------------------------------------------\n",
      "F-value: 2.102860, p-value: 0.0652510798139061\n",
      "Null hypothesis is rejected; hence, models have different performance\n",
      "----------------------------------------------------------\n",
      "Applying Bonferroni-Dunn post-hoc and analysing effect size\n",
      "----------------------------------------------------------\n",
      "Comparison      Zvalue     p-value    adjusted p-value\n",
      "------------  --------  ----------  ------------------\n",
      "SVM vs RF     2.85524   0.00290798           0.0610675\n",
      "KNN vs RF     2.68612   0.00461534           0.096922\n",
      "MLP vs RF     1.99809   0.0250137            0.525288\n",
      "Arbol vs SVM  1.97499   0.0263273            0.552873\n",
      "Arbol vs KNN  1.80587   0.0378578            0.795013\n",
      "SVM vs LR     1.79267   0.038913             0.817173\n",
      "KNN vs LR     1.62355   0.0547323            1\n",
      "SVM vs ET     1.46268   0.0742625            1\n",
      "RF vs ET      1.39256   0.0843241            1\n",
      "KNN vs ET     1.29356   0.10027              1\n",
      "Arbol vs MLP  1.11784   0.133939             1\n",
      "LR vs RF      1.06257   0.146017             1\n",
      "LR vs MLP     0.935524  0.176545             1\n",
      "Arbol vs RF   0.88025   0.191035             1\n",
      "SVM vs MLP    0.857151  0.197305             1\n",
      "KNN vs MLP    0.688031  0.24698              1\n",
      "MLP vs ET     0.605533  0.2735               1\n",
      "Arbol vs ET   0.512311  0.305113             1\n",
      "LR vs ET      0.329991  0.371251             1\n",
      "Arbol vs LR   0.18232   0.427959             1\n",
      "SVM vs KNN    0.16912   0.433122             1\n",
      "There is a significant difference between the models: SVM (mean: 0.385298, std: 0.157141) and RF (mean: 0.591310, std: 0.167884) (Cohen's d=1.2019597394875008, Large)\n",
      "There is a significant difference between the models: KNN (mean: 0.397500, std: 0.174789) and RF (mean: 0.591310, std: 0.167884) (Cohen's d=1.0728994796495366, Large)\n",
      "We can't say that there is a significant difference in the performance of the models: MLP (mean: 0.447143, std: 0.108029) and RF (mean: 0.591310, std: 0.167884) (Cohen's d=0.9688559799627545, Large)\n",
      "We can't say that there is a significant difference in the performance of the models: Arbol (mean: 0.527798, std: 0.162410) and SVM (mean: 0.385298, std: 0.157141) (Cohen's d=0.845993849627249, Large)\n",
      "We can't say that there is a significant difference in the performance of the models: Arbol (mean: 0.527798, std: 0.162410) and KNN (mean: 0.397500, std: 0.174789) (Cohen's d=0.7326723335306233, Large)\n",
      "We can't say that there is a significant difference in the performance of the models: SVM (mean: 0.385298, std: 0.157141) and LR (mean: 0.514643, std: 0.119534) (Cohen's d=0.8789336919669457, Large)\n",
      "We can't say that there is a significant difference in the performance of the models: KNN (mean: 0.397500, std: 0.174789) and LR (mean: 0.514643, std: 0.119534) (Cohen's d=0.7422012690079165, Large)\n",
      "We can't say that there is a significant difference in the performance of the models: SVM (mean: 0.385298, std: 0.157141) and ET (mean: 0.490833, std: 0.167994) (Cohen's d=0.615524309897897, Large)\n",
      "We can't say that there is a significant difference in the performance of the models: RF (mean: 0.591310, std: 0.167884) and ET (mean: 0.490833, std: 0.167994) (Cohen's d=0.5675887521121716, Large)\n",
      "We can't say that there is a significant difference in the performance of the models: KNN (mean: 0.397500, std: 0.174789) and ET (mean: 0.490833, std: 0.167994) (Cohen's d=0.5165162490313453, Large)\n",
      "We can't say that there is a significant difference in the performance of the models: Arbol (mean: 0.527798, std: 0.162410) and MLP (mean: 0.447143, std: 0.108029) (Cohen's d=0.5547608690692322, Large)\n",
      "We can't say that there is a significant difference in the performance of the models: LR (mean: 0.514643, std: 0.119534) and RF (mean: 0.591310, std: 0.167884) (Cohen's d=0.49909718981345647, Medium)\n",
      "We can't say that there is a significant difference in the performance of the models: LR (mean: 0.514643, std: 0.119534) and MLP (mean: 0.447143, std: 0.108029) (Cohen's d=0.5620822159284941, Large)\n",
      "We can't say that there is a significant difference in the performance of the models: Arbol (mean: 0.527798, std: 0.162410) and RF (mean: 0.591310, std: 0.167884) (Cohen's d=0.36479366804979235, Medium)\n",
      "We can't say that there is a significant difference in the performance of the models: SVM (mean: 0.385298, std: 0.157141) and MLP (mean: 0.447143, std: 0.108029) (Cohen's d=0.43512015253356706, Medium)\n",
      "We can't say that there is a significant difference in the performance of the models: KNN (mean: 0.397500, std: 0.174789) and MLP (mean: 0.447143, std: 0.108029) (Cohen's d=0.3241357974081741, Medium)\n",
      "We can't say that there is a significant difference in the performance of the models: MLP (mean: 0.447143, std: 0.108029) and ET (mean: 0.490833, std: 0.167994) (Cohen's d=0.29348080577965213, Medium)\n",
      "We can't say that there is a significant difference in the performance of the models: Arbol (mean: 0.527798, std: 0.162410) and ET (mean: 0.490833, std: 0.167994) (Cohen's d=0.21224003490238488, Medium)\n",
      "We can't say that there is a significant difference in the performance of the models: LR (mean: 0.514643, std: 0.119534) and ET (mean: 0.490833, std: 0.167994) (Cohen's d=0.15493167723028012, Small)\n",
      "We can't say that there is a significant difference in the performance of the models: Arbol (mean: 0.527798, std: 0.162410) and LR (mean: 0.514643, std: 0.119534) (Cohen's d=0.08752010057030998, Small)\n",
      "We can't say that there is a significant difference in the performance of the models: SVM (mean: 0.385298, std: 0.157141) and KNN (mean: 0.397500, std: 0.174789) (Cohen's d=0.06965241491968716, Small)\n",
      "Eta squared: 0.166856 (Large)\n"
     ]
    },
    {
     "data": {
      "image/png": "[encoded data removed]",
      "text/plain": [
       "<Figure size 432x288 with 1 Axes>"
      ]
     },
     "metadata": {
      "needs_background": "light"
     },
     "output_type": "display_data"
    }
   ],
   "source": [
    "clf = manifold.MDS(n_components=2, n_init=1, max_iter=100)\n",
    "X_mds2 = clf.fit_transform(X)\n",
    "compare_methods(X_mds2,Y,listAlgorithms,listParams,listNames,metric='auroc')"
   ]
  },
  {
   "cell_type": "code",
   "execution_count": 24,
   "metadata": {},
   "outputs": [
    {
     "name": "stdout",
     "output_type": "stream",
     "text": [
      "temp.csv\n",
      "['Arbol' 'SVM' 'KNN' 'LR' 'MLP' 'RF' 'ET']\n",
      "==========================================================\n",
      "Report\n",
      "==========================================================\n",
      "**********************************************************\n",
      "Mean and std\n",
      "**********************************************************\n",
      "Arbol: 0.523810 (0.203985)\n",
      "SVM: 0.378095 (0.219512)\n",
      "KNN: 0.391190 (0.204202)\n",
      "LR: 0.496905 (0.276383)\n",
      "MLP: 0.338571 (0.214682)\n",
      "RF: 0.561429 (0.232108)\n",
      "ET: 0.471429 (0.248679)\n",
      "**********************************************************\n",
      "Statistical tests\n",
      "**********************************************************\n",
      "----------------------------------------------------------\n",
      "Checking parametric conditions \n",
      "----------------------------------------------------------\n",
      "Checking independence \n",
      "Ok\n",
      "Checking normality using Shapiro-Wilk's test for normality, alpha=0.05\n",
      "W: 0.966982, p:0.061514\n",
      "The null hypothesis (normality) is rejected\n",
      "Checking heteroscedasticity using Levene's test, alpha=0.05\n",
      "W: 0.415321, p:0.866173\n",
      "The null hypothesis (heteroscedasticity) is accepted\n",
      "Conditions for a parametric test are not fulfilled, applying a non-parametric test\n",
      "----------------------------------------------------------\n",
      "Working with more than 2 algorithms\n",
      "----------------------------------------------------------\n",
      "----------------------------------------------------------\n",
      "Applying Friedman test\n",
      "----------------------------------------------------------\n",
      "F-value: 3.005717, p-value: 0.013143768485238572\n",
      "Null hypothesis is rejected; hence, models have different performance\n",
      "Technique      Ranking\n",
      "-----------  ---------\n",
      "RF                5.5\n",
      "Arbol             5.1\n",
      "LR                4.4\n",
      "ET                4.15\n",
      "MLP               3.05\n",
      "KNN               3.05\n",
      "SVM               2.75\n",
      "Winner model: RF\n",
      "----------------------------------------------------------\n",
      "Applying Holm p-value adjustment procedure and analysing effect size\n",
      "----------------------------------------------------------\n",
      "Comparison      Zvalue     p-value    adjusted p-value\n",
      "------------  --------  ----------  ------------------\n",
      "RF vs SVM     2.84652   0.00441999           0.0265199\n",
      "RF vs KNN     2.53599   0.011213             0.0560648\n",
      "RF vs MLP     2.53599   0.011213             0.0560648\n",
      "RF vs ET      1.39738   0.162299             0.486896\n",
      "RF vs LR      1.13861   0.254867             0.509733\n",
      "RF vs Arbol   0.414039  0.678845             0.678845\n",
      "There is a significant difference between the models: RF (mean: 0.561429, std: 0.232108) and SVM (mean: 0.378095, std: 0.219512) (Cohen's d=0.7699289987105833, Large)\n",
      "There is a significant difference between the models: RF (mean: 0.561429, std: 0.232108) and KNN (mean: 0.391190, std: 0.204202) (Cohen's d=0.7387998105964186, Large)\n",
      "There is a significant difference between the models: RF (mean: 0.561429, std: 0.232108) and MLP (mean: 0.338571, std: 0.214682) (Cohen's d=0.9456818563314303, Large)\n",
      "There is a significant difference between the models: RF (mean: 0.561429, std: 0.232108) and ET (mean: 0.471429, std: 0.248679) (Cohen's d=0.35496339579373665, Medium)\n",
      "We can't say that there is a significant difference in the performance of the models: RF (mean: 0.561429, std: 0.232108) and LR (mean: 0.496905, std: 0.276383) (Cohen's d=0.23985447432050694, Medium)\n",
      "We can't say that there is a significant difference in the performance of the models: RF (mean: 0.561429, std: 0.232108) and Arbol (mean: 0.523810, std: 0.203985) (Cohen's d=0.16333489360079764, Small)\n",
      "Eta squared: 0.101037 (Large)\n"
     ]
    },
    {
     "data": {
      "image/png": "[encoded data removed]",
      "text/plain": [
       "<Figure size 432x288 with 1 Axes>"
      ]
     },
     "metadata": {
      "needs_background": "light"
     },
     "output_type": "display_data"
    }
   ],
   "source": [
    "compare_methods(X_mds2,Y,listAlgorithms,listParams,listNames,metric='precision')"
   ]
  },
  {
   "cell_type": "code",
   "execution_count": 25,
   "metadata": {},
   "outputs": [
    {
     "name": "stdout",
     "output_type": "stream",
     "text": [
      "temp.csv\n",
      "['Arbol' 'SVM' 'KNN' 'LR' 'MLP' 'RF' 'ET']\n",
      "==========================================================\n",
      "Report\n",
      "==========================================================\n",
      "**********************************************************\n",
      "Mean and std\n",
      "**********************************************************\n",
      "Arbol: 0.456548 (0.263362)\n",
      "SVM: 0.397024 (0.158025)\n",
      "KNN: 0.448810 (0.261474)\n",
      "LR: 0.421429 (0.264125)\n",
      "MLP: 0.379762 (0.336989)\n",
      "RF: 0.632738 (0.281643)\n",
      "ET: 0.511310 (0.275492)\n",
      "**********************************************************\n",
      "Statistical tests\n",
      "**********************************************************\n",
      "----------------------------------------------------------\n",
      "Checking parametric conditions \n",
      "----------------------------------------------------------\n",
      "Checking independence \n",
      "Ok\n",
      "Checking normality using Shapiro-Wilk's test for normality, alpha=0.05\n",
      "W: 0.938730, p:0.001947\n",
      "The null hypothesis (normality) is rejected\n",
      "Checking heteroscedasticity using Levene's test, alpha=0.05\n",
      "W: 0.307351, p:0.930862\n",
      "The null hypothesis (heteroscedasticity) is accepted\n",
      "Conditions for a parametric test are not fulfilled, applying a non-parametric test\n",
      "----------------------------------------------------------\n",
      "Working with more than 2 algorithms\n",
      "----------------------------------------------------------\n",
      "----------------------------------------------------------\n",
      "Applying Friedman test\n",
      "----------------------------------------------------------\n",
      "F-value: 1.543933, p-value: 0.18170472026851126\n",
      "Null hypothesis is rejected; hence, models have different performance\n",
      "Technique      Ranking\n",
      "-----------  ---------\n",
      "RF                5.55\n",
      "ET                4.5\n",
      "Arbol             4.1\n",
      "KNN               3.9\n",
      "LR                3.45\n",
      "MLP               3.25\n",
      "SVM               3.25\n",
      "Winner model: RF\n",
      "----------------------------------------------------------\n",
      "Applying Holm p-value adjustment procedure and analysing effect size\n",
      "----------------------------------------------------------\n",
      "Comparison      Zvalue    p-value    adjusted p-value\n",
      "------------  --------  ---------  ------------------\n",
      "RF vs SVM      2.38073  0.0172786            0.103671\n",
      "RF vs MLP      2.38073  0.0172786            0.103671\n",
      "RF vs LR       2.17371  0.0297272            0.118909\n",
      "RF vs KNN      1.70791  0.0876526            0.262958\n",
      "RF vs Arbol    1.50089  0.133383             0.266767\n",
      "RF vs ET       1.08685  0.277102             0.277102\n",
      "There is a significant difference between the models: RF (mean: 0.632738, std: 0.281643) and SVM (mean: 0.397024, std: 0.158025) (Cohen's d=0.9792432034726687, Large)\n",
      "There is a significant difference between the models: RF (mean: 0.632738, std: 0.281643) and MLP (mean: 0.379762, std: 0.336989) (Cohen's d=0.7728003693321344, Large)\n",
      "There is a significant difference between the models: RF (mean: 0.632738, std: 0.281643) and LR (mean: 0.421429, std: 0.264125) (Cohen's d=0.7342409616373309, Large)\n",
      "There is a significant difference between the models: RF (mean: 0.632738, std: 0.281643) and KNN (mean: 0.448810, std: 0.261474) (Cohen's d=0.6421070432391078, Large)\n",
      "There is a significant difference between the models: RF (mean: 0.632738, std: 0.281643) and Arbol (mean: 0.456548, std: 0.263362) (Cohen's d=0.6130395440106743, Large)\n",
      "There is a significant difference between the models: RF (mean: 0.632738, std: 0.281643) and ET (mean: 0.511310, std: 0.275492) (Cohen's d=0.41350879398244356, Medium)\n",
      "Eta squared: 0.081357 (Large)\n"
     ]
    },
    {
     "data": {
      "image/png": "[encoded data removed]",
      "text/plain": [
       "<Figure size 432x288 with 1 Axes>"
      ]
     },
     "metadata": {
      "needs_background": "light"
     },
     "output_type": "display_data"
    }
   ],
   "source": [
    "compare_methods(X_mds2,Y,listAlgorithms,listParams,listNames,metric='recall')"
   ]
  },
  {
   "cell_type": "code",
   "execution_count": 26,
   "metadata": {},
   "outputs": [
    {
     "name": "stdout",
     "output_type": "stream",
     "text": [
      "temp.csv\n",
      "['Arbol' 'SVM' 'KNN' 'LR' 'MLP' 'RF' 'ET']\n",
      "==========================================================\n",
      "Report\n",
      "==========================================================\n",
      "**********************************************************\n",
      "Mean and std\n",
      "**********************************************************\n",
      "Arbol: 0.569091 (0.132814)\n",
      "SVM: 0.362727 (0.125997)\n",
      "KNN: 0.392727 (0.134950)\n",
      "LR: 0.471818 (0.079195)\n",
      "MLP: 0.400909 (0.087145)\n",
      "RF: 0.590000 (0.131580)\n",
      "ET: 0.451818 (0.103656)\n",
      "**********************************************************\n",
      "Statistical tests\n",
      "**********************************************************\n",
      "----------------------------------------------------------\n",
      "Checking parametric conditions \n",
      "----------------------------------------------------------\n",
      "Checking independence \n",
      "Ok\n",
      "Checking normality using Shapiro-Wilk's test for normality, alpha=0.05\n",
      "W: 0.949195, p:0.006581\n",
      "The null hypothesis (normality) is rejected\n",
      "Checking heteroscedasticity using Levene's test, alpha=0.05\n",
      "W: 0.407357, p:0.871474\n",
      "The null hypothesis (heteroscedasticity) is accepted\n",
      "Conditions for a parametric test are not fulfilled, applying a non-parametric test\n",
      "----------------------------------------------------------\n",
      "Working with more than 2 algorithms\n",
      "----------------------------------------------------------\n",
      "----------------------------------------------------------\n",
      "Applying Friedman test\n",
      "----------------------------------------------------------\n",
      "F-value: 5.570685, p-value: 0.00014924452825659795\n",
      "Null hypothesis is rejected; hence, models have different performance\n",
      "Technique      Ranking\n",
      "-----------  ---------\n",
      "Arbol             5.8\n",
      "RF                5.75\n",
      "LR                4.1\n",
      "ET                3.85\n",
      "MLP               3.1\n",
      "KNN               3\n",
      "SVM               2.4\n",
      "Winner model: Arbol\n",
      "----------------------------------------------------------\n",
      "Applying Holm p-value adjustment procedure and analysing effect size\n",
      "----------------------------------------------------------\n",
      "Comparison       Zvalue      p-value    adjusted p-value\n",
      "------------  ---------  -----------  ------------------\n",
      "Arbol vs SVM  3.51933    0.000432631          0.00259579\n",
      "Arbol vs KNN  2.89828    0.00375221           0.0187611\n",
      "Arbol vs MLP  2.79477    0.00519374           0.0207749\n",
      "Arbol vs ET   2.01844    0.0435453            0.130636\n",
      "Arbol vs LR   1.75967    0.0784643            0.156929\n",
      "Arbol vs RF   0.0517549  0.958724             0.958724\n",
      "There is a significant difference between the models: Arbol (mean: 0.569091, std: 0.132814) and SVM (mean: 0.362727, std: 0.125997) (Cohen's d=1.5123440983819896, Large)\n",
      "There is a significant difference between the models: Arbol (mean: 0.569091, std: 0.132814) and KNN (mean: 0.392727, std: 0.134950) (Cohen's d=1.249663855217612, Large)\n",
      "There is a significant difference between the models: Arbol (mean: 0.569091, std: 0.132814) and MLP (mean: 0.400909, std: 0.087145) (Cohen's d=1.420441139627626, Large)\n",
      "There is a significant difference between the models: Arbol (mean: 0.569091, std: 0.132814) and ET (mean: 0.451818, std: 0.103656) (Cohen's d=0.9338867259714633, Large)\n",
      "There is a significant difference between the models: Arbol (mean: 0.569091, std: 0.132814) and LR (mean: 0.471818, std: 0.079195) (Cohen's d=0.843962785240422, Large)\n",
      "We can't say that there is a significant difference in the performance of the models: Arbol (mean: 0.569091, std: 0.132814) and RF (mean: 0.590000, std: 0.131580) (Cohen's d=0.15004787262457928, Small)\n",
      "Eta squared: 0.331475 (Large)\n"
     ]
    },
    {
     "data": {
      "image/png": "[encoded data removed]",
      "text/plain": [
       "<Figure size 432x288 with 1 Axes>"
      ]
     },
     "metadata": {
      "needs_background": "light"
     },
     "output_type": "display_data"
    }
   ],
   "source": [
    "compare_methods(X_mds2,Y,listAlgorithms,listParams,listNames,metric='accuracy')"
   ]
  },
  {
   "cell_type": "code",
   "execution_count": 27,
   "metadata": {
    "scrolled": true
   },
   "outputs": [
    {
     "name": "stdout",
     "output_type": "stream",
     "text": [
      "temp.csv\n",
      "['Arbol' 'SVM' 'KNN' 'LR' 'MLP' 'RF' 'ET']\n",
      "==========================================================\n",
      "Report\n",
      "==========================================================\n",
      "**********************************************************\n",
      "Mean and std\n",
      "**********************************************************\n",
      "Arbol: 0.652381 (0.091052)\n",
      "SVM: 0.570893 (0.137228)\n",
      "KNN: 0.618571 (0.131135)\n",
      "LR: 0.608155 (0.112661)\n",
      "MLP: 0.562440 (0.180572)\n",
      "RF: 0.562917 (0.122096)\n",
      "ET: 0.555595 (0.193674)\n",
      "**********************************************************\n",
      "Statistical tests\n",
      "**********************************************************\n",
      "----------------------------------------------------------\n",
      "Checking parametric conditions \n",
      "----------------------------------------------------------\n",
      "Checking independence \n",
      "Ok\n",
      "Checking normality using Shapiro-Wilk's test for normality, alpha=0.05\n",
      "W: 0.960377, p:0.026267\n",
      "The null hypothesis (normality) is rejected\n",
      "Checking heteroscedasticity using Levene's test, alpha=0.05\n",
      "W: 0.725793, p:0.630445\n",
      "The null hypothesis (heteroscedasticity) is accepted\n",
      "Conditions for a parametric test are not fulfilled, applying a non-parametric test\n",
      "----------------------------------------------------------\n",
      "Working with more than 2 algorithms\n",
      "----------------------------------------------------------\n",
      "----------------------------------------------------------\n",
      "Applying Friedman test\n",
      "----------------------------------------------------------\n",
      "F-value: 0.936909, p-value: 0.4764233624885582\n",
      "Null hypothesis is rejected; hence, models have different performance\n",
      "Technique      Ranking\n",
      "-----------  ---------\n",
      "KNN                4.8\n",
      "Arbol              4.8\n",
      "MLP                4.1\n",
      "LR                 4.1\n",
      "SVM                3.7\n",
      "RF                 3.5\n",
      "ET                 3\n",
      "Winner model: KNN\n",
      "----------------------------------------------------------\n",
      "Applying Holm p-value adjustment procedure and analysing effect size\n",
      "----------------------------------------------------------\n",
      "Comparison      Zvalue    p-value    adjusted p-value\n",
      "------------  --------  ---------  ------------------\n",
      "KNN vs ET     1.86318   0.0624374            0.374624\n",
      "KNN vs RF     1.34563   0.178423             0.892113\n",
      "KNN vs SVM    1.13861   0.254867             1\n",
      "KNN vs LR     0.724569  0.468717             1\n",
      "KNN vs MLP    0.724569  0.468717             1\n",
      "KNN vs Arbol  0         1                    1\n",
      "There is a significant difference between the models: KNN (mean: 0.618571, std: 0.131135) and ET (mean: 0.555595, std: 0.193674) (Cohen's d=0.3612399227693616, Medium)\n",
      "We can't say that there is a significant difference in the performance of the models: KNN (mean: 0.618571, std: 0.131135) and RF (mean: 0.562917, std: 0.122096) (Cohen's d=0.41673673738328937, Medium)\n",
      "We can't say that there is a significant difference in the performance of the models: KNN (mean: 0.618571, std: 0.131135) and SVM (mean: 0.570893, std: 0.137228) (Cohen's d=0.33700800385560026, Medium)\n",
      "We can't say that there is a significant difference in the performance of the models: KNN (mean: 0.618571, std: 0.131135) and LR (mean: 0.608155, std: 0.112661) (Cohen's d=0.08083729189486216, Small)\n",
      "We can't say that there is a significant difference in the performance of the models: KNN (mean: 0.618571, std: 0.131135) and MLP (mean: 0.562440, std: 0.180572) (Cohen's d=0.3374525141927836, Medium)\n",
      "We can't say that there is a significant difference in the performance of the models: KNN (mean: 0.618571, std: 0.131135) and Arbol (mean: 0.652381, std: 0.091052) (Cohen's d=0.2841307302107636, Medium)\n",
      "Eta squared: 0.053819 (Medium)\n"
     ]
    },
    {
     "data": {
      "image/png": "[encoded data removed]",
      "text/plain": [
       "<Figure size 432x288 with 1 Axes>"
      ]
     },
     "metadata": {
      "needs_background": "light"
     },
     "output_type": "display_data"
    }
   ],
   "source": [
    "clf = manifold.MDS(n_components=10, n_init=1, max_iter=100)\n",
    "X_mds10 = clf.fit_transform(X)\n",
    "compare_methods(X_mds10,Y,listAlgorithms,listParams,listNames,metric='auroc')"
   ]
  },
  {
   "cell_type": "code",
   "execution_count": 28,
   "metadata": {},
   "outputs": [
    {
     "name": "stdout",
     "output_type": "stream",
     "text": [
      "temp.csv\n",
      "['Arbol' 'SVM' 'KNN' 'LR' 'MLP' 'RF' 'ET']\n",
      "==========================================================\n",
      "Report\n",
      "==========================================================\n",
      "**********************************************************\n",
      "Mean and std\n",
      "**********************************************************\n",
      "Arbol: 0.636548 (0.212549)\n",
      "SVM: 0.601071 (0.241511)\n",
      "KNN: 0.678333 (0.250228)\n",
      "LR: 0.615238 (0.281229)\n",
      "MLP: 0.609762 (0.222148)\n",
      "RF: 0.550952 (0.250168)\n",
      "ET: 0.550238 (0.329539)\n",
      "**********************************************************\n",
      "Statistical tests\n",
      "**********************************************************\n",
      "----------------------------------------------------------\n",
      "Checking parametric conditions \n",
      "----------------------------------------------------------\n",
      "Checking independence \n",
      "Ok\n",
      "Checking normality using Shapiro-Wilk's test for normality, alpha=0.05\n",
      "W: 0.932472, p:0.000974\n",
      "The null hypothesis (normality) is rejected\n",
      "Checking heteroscedasticity using Levene's test, alpha=0.05\n",
      "W: 0.547401, p:0.770122\n",
      "The null hypothesis (heteroscedasticity) is accepted\n",
      "Conditions for a parametric test are not fulfilled, applying a non-parametric test\n",
      "----------------------------------------------------------\n",
      "Working with more than 2 algorithms\n",
      "----------------------------------------------------------\n",
      "----------------------------------------------------------\n",
      "Applying Friedman test\n",
      "----------------------------------------------------------\n",
      "F-value: 1.073956, p-value: 0.38958517814195504\n",
      "Null hypothesis is rejected; hence, models have different performance\n",
      "Technique      Ranking\n",
      "-----------  ---------\n",
      "KNN               5.05\n",
      "Arbol             4.5\n",
      "MLP               4.2\n",
      "LR                4.2\n",
      "SVM               3.75\n",
      "RF                3.3\n",
      "ET                3\n",
      "Winner model: KNN\n",
      "----------------------------------------------------------\n",
      "Applying Holm p-value adjustment procedure and analysing effect size\n",
      "----------------------------------------------------------\n",
      "Comparison      Zvalue    p-value    adjusted p-value\n",
      "------------  --------  ---------  ------------------\n",
      "KNN vs ET     2.12195   0.0338418            0.203051\n",
      "KNN vs RF     1.81142   0.0700755            0.350378\n",
      "KNN vs SVM    1.34563   0.178423             0.71369\n",
      "KNN vs LR     0.879834  0.378949             1\n",
      "KNN vs MLP    0.879834  0.378949             1\n",
      "KNN vs Arbol  0.569304  0.56915              1\n",
      "There is a significant difference between the models: KNN (mean: 0.678333, std: 0.250228) and ET (mean: 0.550238, std: 0.329539) (Cohen's d=0.4153413157346205, Medium)\n",
      "There is a significant difference between the models: KNN (mean: 0.678333, std: 0.250228) and RF (mean: 0.550952, std: 0.250168) (Cohen's d=0.48299431727559927, Medium)\n",
      "We can't say that there is a significant difference in the performance of the models: KNN (mean: 0.678333, std: 0.250228) and SVM (mean: 0.601071, std: 0.241511) (Cohen's d=0.2980668399118299, Medium)\n",
      "We can't say that there is a significant difference in the performance of the models: KNN (mean: 0.678333, std: 0.250228) and LR (mean: 0.615238, std: 0.281229) (Cohen's d=0.22487556332299552, Medium)\n",
      "We can't say that there is a significant difference in the performance of the models: KNN (mean: 0.678333, std: 0.250228) and MLP (mean: 0.609762, std: 0.222148) (Cohen's d=0.2749419524126679, Medium)\n",
      "We can't say that there is a significant difference in the performance of the models: KNN (mean: 0.678333, std: 0.250228) and Arbol (mean: 0.636548, std: 0.212549) (Cohen's d=0.17075494444399195, Small)\n",
      "Eta squared: 0.025992 (Medium)\n"
     ]
    },
    {
     "data": {
      "image/png": "[encoded data removed]",
      "text/plain": [
       "<Figure size 432x288 with 1 Axes>"
      ]
     },
     "metadata": {
      "needs_background": "light"
     },
     "output_type": "display_data"
    }
   ],
   "source": [
    "compare_methods(X_mds10,Y,listAlgorithms,listParams,listNames,metric='precision')"
   ]
  },
  {
   "cell_type": "code",
   "execution_count": 29,
   "metadata": {},
   "outputs": [
    {
     "name": "stdout",
     "output_type": "stream",
     "text": [
      "temp.csv\n",
      "['Arbol' 'SVM' 'KNN' 'LR' 'MLP' 'RF' 'ET']\n",
      "==========================================================\n",
      "Report\n",
      "==========================================================\n",
      "**********************************************************\n",
      "Mean and std\n",
      "**********************************************************\n",
      "Arbol: 0.698214 (0.223639)\n",
      "SVM: 0.574405 (0.185639)\n",
      "KNN: 0.508929 (0.208304)\n",
      "LR: 0.545833 (0.183890)\n",
      "MLP: 0.541667 (0.223559)\n",
      "RF: 0.545238 (0.244602)\n",
      "ET: 0.464881 (0.275055)\n",
      "**********************************************************\n",
      "Statistical tests\n",
      "**********************************************************\n",
      "----------------------------------------------------------\n",
      "Checking parametric conditions \n",
      "----------------------------------------------------------\n",
      "Checking independence \n",
      "Ok\n",
      "Checking normality using Shapiro-Wilk's test for normality, alpha=0.05\n",
      "W: 0.931075, p:0.000837\n",
      "The null hypothesis (normality) is rejected\n",
      "Checking heteroscedasticity using Levene's test, alpha=0.05\n",
      "W: 0.406533, p:0.872019\n",
      "The null hypothesis (heteroscedasticity) is accepted\n",
      "Conditions for a parametric test are not fulfilled, applying a non-parametric test\n",
      "----------------------------------------------------------\n",
      "Working with more than 2 algorithms\n",
      "----------------------------------------------------------\n",
      "----------------------------------------------------------\n",
      "Applying Friedman test\n",
      "----------------------------------------------------------\n",
      "F-value: 1.009930, p-value: 0.428661470130402\n",
      "Null hypothesis is rejected; hence, models have different performance\n",
      "Technique      Ranking\n",
      "-----------  ---------\n",
      "Arbol             5.3\n",
      "SVM               4.3\n",
      "LR                4.1\n",
      "RF                3.85\n",
      "MLP               3.8\n",
      "KNN               3.5\n",
      "ET                3.15\n",
      "Winner model: Arbol\n",
      "----------------------------------------------------------\n",
      "Applying Holm p-value adjustment procedure and analysing effect size\n",
      "----------------------------------------------------------\n",
      "Comparison      Zvalue    p-value    adjusted p-value\n",
      "------------  --------  ---------  ------------------\n",
      "Arbol vs ET    2.22546  0.0260503            0.156302\n",
      "Arbol vs KNN   1.86318  0.0624374            0.312187\n",
      "Arbol vs MLP   1.55265  0.120507             0.482029\n",
      "Arbol vs RF    1.50089  0.133383             0.482029\n",
      "Arbol vs LR    1.24212  0.214193             0.482029\n",
      "Arbol vs SVM   1.0351   0.300623             0.482029\n",
      "There is a significant difference between the models: Arbol (mean: 0.698214, std: 0.223639) and ET (mean: 0.464881, std: 0.275055) (Cohen's d=0.8830755234443833, Large)\n",
      "There is a significant difference between the models: Arbol (mean: 0.698214, std: 0.223639) and KNN (mean: 0.508929, std: 0.208304) (Cohen's d=0.8309392094525986, Large)\n",
      "There is a significant difference between the models: Arbol (mean: 0.698214, std: 0.223639) and MLP (mean: 0.541667, std: 0.223559) (Cohen's d=0.6641976548455077, Large)\n",
      "There is a significant difference between the models: Arbol (mean: 0.698214, std: 0.223639) and RF (mean: 0.545238, std: 0.244602) (Cohen's d=0.6192571330415474, Large)\n",
      "There is a significant difference between the models: Arbol (mean: 0.698214, std: 0.223639) and LR (mean: 0.545833, std: 0.183890) (Cohen's d=0.7061013017688699, Large)\n",
      "There is a significant difference between the models: Arbol (mean: 0.698214, std: 0.223639) and SVM (mean: 0.574405, std: 0.185639) (Cohen's d=0.5715086146187355, Large)\n",
      "Eta squared: 0.083150 (Large)\n"
     ]
    },
    {
     "data": {
      "image/png": "[encoded data removed]",
      "text/plain": [
       "<Figure size 432x288 with 1 Axes>"
      ]
     },
     "metadata": {
      "needs_background": "light"
     },
     "output_type": "display_data"
    }
   ],
   "source": [
    "compare_methods(X_mds10,Y,listAlgorithms,listParams,listNames,metric='recall')"
   ]
  },
  {
   "cell_type": "code",
   "execution_count": 30,
   "metadata": {},
   "outputs": [
    {
     "name": "stdout",
     "output_type": "stream",
     "text": [
      "temp.csv\n",
      "['Arbol' 'SVM' 'KNN' 'LR' 'MLP' 'RF' 'ET']\n",
      "==========================================================\n",
      "Report\n",
      "==========================================================\n",
      "**********************************************************\n",
      "Mean and std\n",
      "**********************************************************\n",
      "Arbol: 0.626364 (0.126716)\n",
      "SVM: 0.580909 (0.128530)\n",
      "KNN: 0.606364 (0.143915)\n",
      "LR: 0.588182 (0.096385)\n",
      "MLP: 0.578182 (0.152511)\n",
      "RF: 0.570000 (0.128504)\n",
      "ET: 0.540909 (0.171443)\n",
      "**********************************************************\n",
      "Statistical tests\n",
      "**********************************************************\n",
      "----------------------------------------------------------\n",
      "Checking parametric conditions \n",
      "----------------------------------------------------------\n",
      "Checking independence \n",
      "Ok\n",
      "Checking normality using Shapiro-Wilk's test for normality, alpha=0.05\n",
      "W: 0.953308, p:0.010845\n",
      "The null hypothesis (normality) is rejected\n",
      "Checking heteroscedasticity using Levene's test, alpha=0.05\n",
      "W: 0.234284, p:0.963767\n",
      "The null hypothesis (heteroscedasticity) is accepted\n",
      "Conditions for a parametric test are not fulfilled, applying a non-parametric test\n",
      "----------------------------------------------------------\n",
      "Working with more than 2 algorithms\n",
      "----------------------------------------------------------\n",
      "----------------------------------------------------------\n",
      "Applying Friedman test\n",
      "----------------------------------------------------------\n",
      "F-value: 0.538229, p-value: 0.7767852626298193\n",
      "Null hypothesis is accepted; hence, we can't say that there is a significant difference in the performance of the models\n",
      "----------------------------------------------------------\n",
      "Analysing effect size\n",
      "----------------------------------------------------------\n",
      "We take the model with the best mean (Arbol, mean: 0.626364) and compare it with the other models: \n",
      "Comparing effect size of Arbol and SVM: Cohen's d=0.3378772605225798, Medium\n",
      "Comparing effect size of Arbol and KNN: Cohen's d=0.1399354441278673, Small\n",
      "Comparing effect size of Arbol and LR: Cohen's d=0.3217574822822765, Medium\n",
      "Comparing effect size of Arbol and MLP: Cohen's d=0.3260106986548771, Medium\n",
      "Comparing effect size of Arbol and RF: Cohen's d=0.4190103248996304, Medium\n",
      "Comparing effect size of Arbol and ET: Cohen's d=0.5377822347110024, Large\n",
      "Eta squared: 0.032371 (Medium)\n"
     ]
    },
    {
     "data": {
      "image/png": "[encoded data removed]",
      "text/plain": [
       "<Figure size 432x288 with 1 Axes>"
      ]
     },
     "metadata": {
      "needs_background": "light"
     },
     "output_type": "display_data"
    }
   ],
   "source": [
    "compare_methods(X_mds10,Y,listAlgorithms,listParams,listNames,metric='accuracy')"
   ]
  },
  {
   "cell_type": "code",
   "execution_count": 31,
   "metadata": {},
   "outputs": [
    {
     "name": "stdout",
     "output_type": "stream",
     "text": [
      "temp.csv\n",
      "['Arbol' 'SVM' 'KNN' 'LR' 'MLP' 'RF' 'ET']\n",
      "==========================================================\n",
      "Report\n",
      "==========================================================\n",
      "**********************************************************\n",
      "Mean and std\n",
      "**********************************************************\n",
      "Arbol: 0.552500 (0.157937)\n",
      "SVM: 0.717381 (0.093909)\n",
      "KNN: 0.652798 (0.117547)\n",
      "LR: 0.691786 (0.123753)\n",
      "MLP: 0.635238 (0.162814)\n",
      "RF: 0.713690 (0.178486)\n",
      "ET: 0.721429 (0.088641)\n",
      "**********************************************************\n",
      "Statistical tests\n",
      "**********************************************************\n",
      "----------------------------------------------------------\n",
      "Checking parametric conditions \n",
      "----------------------------------------------------------\n",
      "Checking independence \n",
      "Ok\n",
      "Checking normality using Shapiro-Wilk's test for normality, alpha=0.05\n",
      "W: 0.952330, p:0.009620\n",
      "The null hypothesis (normality) is rejected\n",
      "Checking heteroscedasticity using Levene's test, alpha=0.05\n",
      "W: 1.629297, p:0.153828\n",
      "The null hypothesis (heteroscedasticity) is rejected\n",
      "Conditions for a parametric test are not fulfilled, applying a non-parametric test\n",
      "----------------------------------------------------------\n",
      "Working with more than 2 algorithms\n",
      "----------------------------------------------------------\n",
      "----------------------------------------------------------\n",
      "Applying Friedman test\n",
      "----------------------------------------------------------\n",
      "F-value: 1.289914, p-value: 0.27752839110415695\n",
      "Null hypothesis is rejected; hence, models have different performance\n",
      "Technique      Ranking\n",
      "-----------  ---------\n",
      "LR                4.65\n",
      "RF                4.5\n",
      "ET                4.45\n",
      "SVM               4.45\n",
      "KNN               3.85\n",
      "MLP               3.6\n",
      "Arbol             2.5\n",
      "Winner model: LR\n",
      "----------------------------------------------------------\n",
      "Applying Holm p-value adjustment procedure and analysing effect size\n",
      "----------------------------------------------------------\n",
      "Comparison      Zvalue    p-value    adjusted p-value\n",
      "------------  --------  ---------  ------------------\n",
      "LR vs Arbol   2.22546   0.0260503            0.156302\n",
      "LR vs MLP     1.08685   0.277102             1\n",
      "LR vs KNN     0.828079  0.407626             1\n",
      "LR vs SVM     0.20702   0.835994             1\n",
      "LR vs ET      0.20702   0.835994             1\n",
      "LR vs RF      0.155265  0.876613             1\n",
      "There is a significant difference between the models: LR (mean: 0.691786, std: 0.123753) and Arbol (mean: 0.552500, std: 0.157937) (Cohen's d=0.9313477609184568, Large)\n",
      "We can't say that there is a significant difference in the performance of the models: LR (mean: 0.691786, std: 0.123753) and MLP (mean: 0.635238, std: 0.162814) (Cohen's d=0.3709721930976434, Medium)\n",
      "We can't say that there is a significant difference in the performance of the models: LR (mean: 0.691786, std: 0.123753) and KNN (mean: 0.652798, std: 0.117547) (Cohen's d=0.30646580874137946, Medium)\n",
      "We can't say that there is a significant difference in the performance of the models: LR (mean: 0.691786, std: 0.123753) and SVM (mean: 0.717381, std: 0.093909) (Cohen's d=0.2210464694169189, Medium)\n",
      "We can't say that there is a significant difference in the performance of the models: LR (mean: 0.691786, std: 0.123753) and ET (mean: 0.721429, std: 0.088641) (Cohen's d=0.2612611666213845, Medium)\n",
      "We can't say that there is a significant difference in the performance of the models: LR (mean: 0.691786, std: 0.123753) and RF (mean: 0.713690, std: 0.178486) (Cohen's d=0.1353107008569814, Small)\n",
      "Eta squared: 0.148849 (Large)\n"
     ]
    },
    {
     "data": {
      "image/png": "[encoded data removed]",
      "text/plain": [
       "<Figure size 432x288 with 1 Axes>"
      ]
     },
     "metadata": {
      "needs_background": "light"
     },
     "output_type": "display_data"
    }
   ],
   "source": [
    "clf = manifold.MDS(n_components=100, n_init=1, max_iter=100)\n",
    "X_mds100 = clf.fit_transform(X)\n",
    "compare_methods(X_mds100,Y,listAlgorithms,listParams,listNames,metric='auroc')"
   ]
  },
  {
   "cell_type": "code",
   "execution_count": 32,
   "metadata": {},
   "outputs": [
    {
     "name": "stdout",
     "output_type": "stream",
     "text": [
      "temp.csv\n",
      "['Arbol' 'SVM' 'KNN' 'LR' 'MLP' 'RF' 'ET']\n",
      "==========================================================\n",
      "Report\n",
      "==========================================================\n",
      "**********************************************************\n",
      "Mean and std\n",
      "**********************************************************\n",
      "Arbol: 0.514167 (0.201041)\n",
      "SVM: 0.733571 (0.229753)\n",
      "KNN: 0.665000 (0.194000)\n",
      "LR: 0.701190 (0.205302)\n",
      "MLP: 0.649881 (0.241074)\n",
      "RF: 0.723333 (0.257682)\n",
      "ET: 0.735476 (0.236831)\n",
      "**********************************************************\n",
      "Statistical tests\n",
      "**********************************************************\n",
      "----------------------------------------------------------\n",
      "Checking parametric conditions \n",
      "----------------------------------------------------------\n",
      "Checking independence \n",
      "Ok\n",
      "Checking normality using Shapiro-Wilk's test for normality, alpha=0.05\n",
      "W: 0.929497, p:0.000707\n",
      "The null hypothesis (normality) is rejected\n",
      "Checking heteroscedasticity using Levene's test, alpha=0.05\n",
      "W: 0.437120, p:0.851311\n",
      "The null hypothesis (heteroscedasticity) is accepted\n",
      "Conditions for a parametric test are not fulfilled, applying a non-parametric test\n",
      "----------------------------------------------------------\n",
      "Working with more than 2 algorithms\n",
      "----------------------------------------------------------\n",
      "----------------------------------------------------------\n",
      "Applying Friedman test\n",
      "----------------------------------------------------------\n",
      "F-value: 1.675704, p-value: 0.14478970416349934\n",
      "Null hypothesis is rejected; hence, models have different performance\n",
      "Technique      Ranking\n",
      "-----------  ---------\n",
      "ET                4.7\n",
      "RF                4.6\n",
      "SVM               4.45\n",
      "LR                4.25\n",
      "KNN               4\n",
      "MLP               3.8\n",
      "Arbol             2.2\n",
      "Winner model: ET\n",
      "----------------------------------------------------------\n",
      "Applying Holm p-value adjustment procedure and analysing effect size\n",
      "----------------------------------------------------------\n",
      "Comparison      Zvalue     p-value    adjusted p-value\n",
      "------------  --------  ----------  ------------------\n",
      "ET vs Arbol   2.58775   0.00966062           0.0579637\n",
      "ET vs MLP     0.931589  0.351549             1\n",
      "ET vs KNN     0.724569  0.468717             1\n",
      "ET vs LR      0.465794  0.641363             1\n",
      "ET vs SVM     0.258775  0.795809             1\n",
      "ET vs RF      0.10351   0.917558             1\n",
      "There is a significant difference between the models: ET (mean: 0.735476, std: 0.236831) and Arbol (mean: 0.514167, std: 0.201041) (Cohen's d=0.9557812544785935, Large)\n",
      "We can't say that there is a significant difference in the performance of the models: ET (mean: 0.735476, std: 0.236831) and MLP (mean: 0.649881, std: 0.241074) (Cohen's d=0.33981431939310525, Medium)\n",
      "We can't say that there is a significant difference in the performance of the models: ET (mean: 0.735476, std: 0.236831) and KNN (mean: 0.665000, std: 0.194000) (Cohen's d=0.308852283985159, Medium)\n",
      "We can't say that there is a significant difference in the performance of the models: ET (mean: 0.735476, std: 0.236831) and LR (mean: 0.701190, std: 0.205302) (Cohen's d=0.14676085711801273, Small)\n",
      "We can't say that there is a significant difference in the performance of the models: ET (mean: 0.735476, std: 0.236831) and SVM (mean: 0.733571, std: 0.229753) (Cohen's d=0.007744841351913208, Small)\n",
      "We can't say that there is a significant difference in the performance of the models: ET (mean: 0.735476, std: 0.236831) and RF (mean: 0.723333, std: 0.257682) (Cohen's d=0.04654882149862835, Small)\n",
      "Eta squared: 0.094049 (Large)\n"
     ]
    },
    {
     "data": {
      "image/png": "[encoded data removed]",
      "text/plain": [
       "<Figure size 432x288 with 1 Axes>"
      ]
     },
     "metadata": {
      "needs_background": "light"
     },
     "output_type": "display_data"
    }
   ],
   "source": [
    "compare_methods(X_mds100,Y,listAlgorithms,listParams,listNames,metric='precision')"
   ]
  },
  {
   "cell_type": "code",
   "execution_count": 33,
   "metadata": {},
   "outputs": [
    {
     "name": "stdout",
     "output_type": "stream",
     "text": [
      "temp.csv\n",
      "['Arbol' 'SVM' 'KNN' 'LR' 'MLP' 'RF' 'ET']\n",
      "==========================================================\n",
      "Report\n",
      "==========================================================\n",
      "**********************************************************\n",
      "Mean and std\n",
      "**********************************************************\n",
      "Arbol: 0.569643 (0.254635)\n",
      "SVM: 0.635714 (0.225072)\n",
      "KNN: 0.573214 (0.148787)\n",
      "LR: 0.695238 (0.238939)\n",
      "MLP: 0.666667 (0.252033)\n",
      "RF: 0.658333 (0.261040)\n",
      "ET: 0.671429 (0.297009)\n",
      "**********************************************************\n",
      "Statistical tests\n",
      "**********************************************************\n",
      "----------------------------------------------------------\n",
      "Checking parametric conditions \n",
      "----------------------------------------------------------\n",
      "Checking independence \n",
      "Ok\n",
      "Checking normality using Shapiro-Wilk's test for normality, alpha=0.05\n",
      "W: 0.928675, p:0.000648\n",
      "The null hypothesis (normality) is rejected\n",
      "Checking heteroscedasticity using Levene's test, alpha=0.05\n",
      "W: 1.250897, p:0.292988\n",
      "The null hypothesis (heteroscedasticity) is rejected\n",
      "Conditions for a parametric test are not fulfilled, applying a non-parametric test\n",
      "----------------------------------------------------------\n",
      "Working with more than 2 algorithms\n",
      "----------------------------------------------------------\n",
      "----------------------------------------------------------\n",
      "Applying Friedman test\n",
      "----------------------------------------------------------\n",
      "F-value: 0.600000, p-value: 0.7290237924006008\n",
      "Null hypothesis is accepted; hence, we can't say that there is a significant difference in the performance of the models\n",
      "----------------------------------------------------------\n",
      "Analysing effect size\n",
      "----------------------------------------------------------\n",
      "We take the model with the best mean (LR, mean: 0.695238) and compare it with the other models: \n",
      "Comparing effect size of LR and Arbol: Cohen's d=0.48256189312827735, Medium\n",
      "Comparing effect size of LR and SVM: Cohen's d=0.2432873197379656, Medium\n",
      "Comparing effect size of LR and KNN: Cohen's d=0.5816178212848095, Large\n",
      "Comparing effect size of LR and MLP: Cohen's d=0.11037545522783258, Small\n",
      "Comparing effect size of LR and RF: Cohen's d=0.13991291517571036, Small\n",
      "Comparing effect size of LR and ET: Cohen's d=0.08380019039424857, Small\n",
      "Eta squared: 0.033795 (Medium)\n"
     ]
    },
    {
     "data": {
      "image/png": "[encoded data removed]",
      "text/plain": [
       "<Figure size 432x288 with 1 Axes>"
      ]
     },
     "metadata": {
      "needs_background": "light"
     },
     "output_type": "display_data"
    }
   ],
   "source": [
    "compare_methods(X_mds100,Y,listAlgorithms,listParams,listNames,metric='recall')"
   ]
  },
  {
   "cell_type": "code",
   "execution_count": 34,
   "metadata": {},
   "outputs": [
    {
     "name": "stdout",
     "output_type": "stream",
     "text": [
      "temp.csv\n",
      "['Arbol' 'SVM' 'KNN' 'LR' 'MLP' 'RF' 'ET']\n",
      "==========================================================\n",
      "Report\n",
      "==========================================================\n",
      "**********************************************************\n",
      "Mean and std\n",
      "**********************************************************\n",
      "Arbol: 0.538182 (0.167075)\n",
      "SVM: 0.663636 (0.114560)\n",
      "KNN: 0.638182 (0.137739)\n",
      "LR: 0.694545 (0.115937)\n",
      "MLP: 0.633636 (0.146251)\n",
      "RF: 0.653636 (0.176909)\n",
      "ET: 0.634545 (0.123235)\n",
      "**********************************************************\n",
      "Statistical tests\n",
      "**********************************************************\n",
      "----------------------------------------------------------\n",
      "Checking parametric conditions \n",
      "----------------------------------------------------------\n",
      "Checking independence \n",
      "Ok\n",
      "Checking normality using Shapiro-Wilk's test for normality, alpha=0.05\n",
      "W: 0.946856, p:0.004980\n",
      "The null hypothesis (normality) is rejected\n",
      "Checking heteroscedasticity using Levene's test, alpha=0.05\n",
      "W: 0.908060, p:0.495026\n",
      "The null hypothesis (heteroscedasticity) is rejected\n",
      "Conditions for a parametric test are not fulfilled, applying a non-parametric test\n",
      "----------------------------------------------------------\n",
      "Working with more than 2 algorithms\n",
      "----------------------------------------------------------\n",
      "----------------------------------------------------------\n",
      "Applying Friedman test\n",
      "----------------------------------------------------------\n",
      "F-value: 0.853372, p-value: 0.5349345044728309\n",
      "Null hypothesis is accepted; hence, we can't say that there is a significant difference in the performance of the models\n",
      "----------------------------------------------------------\n",
      "Analysing effect size\n",
      "----------------------------------------------------------\n",
      "We take the model with the best mean (LR, mean: 0.694545) and compare it with the other models: \n",
      "Comparing effect size of LR and Arbol: Cohen's d=1.0315874475149953, Large\n",
      "Comparing effect size of LR and SVM: Cohen's d=0.25442817917320415, Medium\n",
      "Comparing effect size of LR and KNN: Cohen's d=0.420024039524745, Medium\n",
      "Comparing effect size of LR and MLP: Cohen's d=0.4378627760539774, Medium\n",
      "Comparing effect size of LR and RF: Cohen's d=0.25948826266628555, Medium\n",
      "Comparing effect size of LR and ET: Cohen's d=0.47576363801889177, Medium\n",
      "Eta squared: 0.090606 (Large)\n"
     ]
    },
    {
     "data": {
      "image/png": "[encoded data removed]",
      "text/plain": [
       "<Figure size 432x288 with 1 Axes>"
      ]
     },
     "metadata": {
      "needs_background": "light"
     },
     "output_type": "display_data"
    }
   ],
   "source": [
    "compare_methods(X_mds100,Y,listAlgorithms,listParams,listNames,metric='accuracy')"
   ]
  }
 ],
 "metadata": {
  "colab": {
   "name": "CompareMethods.ipynb",
   "provenance": []
  },
  "kernelspec": {
   "display_name": "Python 3",
   "language": "python",
   "name": "python3"
  },
  "language_info": {
   "codemirror_mode": {
    "name": "ipython",
    "version": 3
   },
   "file_extension": ".py",
   "mimetype": "text/x-python",
   "name": "python",
   "nbconvert_exporter": "python",
   "pygments_lexer": "ipython3",
   "version": "3.6.7"
  }
 },
 "nbformat": 4,
 "nbformat_minor": 1
}
